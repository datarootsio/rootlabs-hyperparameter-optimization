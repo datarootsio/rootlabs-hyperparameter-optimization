{
  "cells": [
    {
      "cell_type": "markdown",
      "metadata": {
        "id": "_QeUp1cABgBu"
      },
      "source": [
        "**Set-up**\n"
      ]
    },
    {
      "cell_type": "code",
      "execution_count": 12,
      "metadata": {
        "id": "rA7Jg7zB1tzI"
      },
      "outputs": [],
      "source": [
        "%%capture\n",
        "!pip install -r requirements\n"
      ]
    },
    {
      "cell_type": "code",
      "execution_count": 13,
      "metadata": {
        "id": "aBMUFyRTBCyR"
      },
      "outputs": [],
      "source": [
        "# Import Packages\n",
        "## for data and preprocessing\n",
        "import pandas as pd\n",
        "from sklearn.preprocessing import StandardScaler\n",
        "\n",
        "## for model fitting\n",
        "import lightgbm as lgb\n",
        "import sklearn.metrics as metric\n",
        "\n",
        "## for hyperparameter optimization\n",
        "import optuna"
      ]
    },
    {
      "cell_type": "code",
      "execution_count": 14,
      "metadata": {
        "id": "lq307ThH1cix"
      },
      "outputs": [],
      "source": [
        "train = pd.read_csv('./data/california_housing_train.csv')\n",
        "test = pd.read_csv('./data/california_housing_test.csv')\n",
        "\n",
        "names = train.columns\n",
        "\n",
        "scaler = StandardScaler()\n",
        "train = pd.DataFrame(scaler.fit_transform(train),columns=names)\n",
        "test = pd.DataFrame(scaler.transform(test), columns=names)\n",
        "\n",
        "\n",
        "X_train = train.drop(['median_house_value'],axis=1)\n",
        "X_test  = test.drop(['median_house_value'],axis=1)\n",
        "y_train = train.median_house_value\n",
        "y_test  = test.median_house_value"
      ]
    },
    {
      "cell_type": "markdown",
      "metadata": {
        "id": "lbUodoqRQiLJ"
      },
      "source": [
        "# **OPTUNA**"
      ]
    },
    {
      "cell_type": "markdown",
      "metadata": {
        "id": "EPWbpIQzWQYR"
      },
      "source": [
        "## **General Overview**"
      ]
    },
    {
      "cell_type": "markdown",
      "metadata": {
        "id": "K8NPYlPKfrpM"
      },
      "source": [
        "Optuna optimizes any objective function. This objective function takes a set of arguments (e.g., hyperparameters) and returns a single value (e.g., validation score).  \n",
        "\n",
        "In Optuna, we create a **study**. A study is defined by the objective function and the hyperparameter space and, thus, defines the scope and purpose of our optimization exercise.   \n",
        "Each study consists of a set of **Trials**. Each trial is, thus, a single selection from the hyperparameter space for which we evaluate the objective function. Every next trial builds on the previous one (i.e., an iterative optimization process).\n",
        "\n",
        "The optimization algorithm helps in picking the next trial to evaluate in a smart(er) way, until we find the optimal value."
      ]
    },
    {
      "cell_type": "markdown",
      "metadata": {
        "id": "V-cncUm2QlWI"
      },
      "source": [
        "In practice, every hyperparameter optimization exercise consist of 4 steps:\n",
        "\n",
        "* define a function which **trains a model** and **returns the validation score**\n",
        "\n",
        "* define the **hyperparameter space** through which the optimization algorithm can search (trials are instances/realizations of this space)\n",
        "\n",
        "* create a **study**, which describes the optimization exercise: \n",
        "    * *Direction* : \n",
        "        * minimize: for (Root) Mean Squared Errors, minus-log-likelihood, ... (the lower, the better)\n",
        "        * maximize: r2_score, auc, accuracy, precision, recall, f1_score, ... (the higher, the better)\n",
        "    * *Sampler* : the chosen optimization technique **(Optimization)**\n",
        "    * *Pruner* : early stopping of unpromising trials **(Steroids)**\n",
        "\n",
        "* **optimize** the study using different trials in a smart way **(worker function)**\n"
      ]
    },
    {
      "cell_type": "markdown",
      "metadata": {},
      "source": [
        "Firstly, we need to realize that our time is also limited. In order to limit our waiting time (and computing time), we set a maximum number of trials to evaluate (i.e., maximum number of iterations). "
      ]
    },
    {
      "cell_type": "code",
      "execution_count": 15,
      "metadata": {},
      "outputs": [],
      "source": [
        "N_TRIALS = 200"
      ]
    },
    {
      "cell_type": "markdown",
      "metadata": {},
      "source": [
        "### Step 1\n",
        "We define a function which takes a hyperparameter configuration (params;  which is defined later) as the argument.  \n",
        "Then this function takes our data and trains a machine learning model. In this example, we train a lightgbm model, which can take a lot of interesting hyperparameters to illustrate tuning. Any model architecture can work here (e.g., xgboost, random forest, neural networks, ...).  \n",
        "Lastly, we make some predictions on our test (or validation) set and compute the validation score. In this example, we use the Root Mean Squared Error (RMSE), but again any validation metric is viable."
      ]
    },
    {
      "cell_type": "code",
      "execution_count": 16,
      "metadata": {},
      "outputs": [],
      "source": [
        "def train_evaluate(params):\n",
        "    '''Train a model using your dataset and return the validation score.'''\n",
        "    train_data = lgb.Dataset(X_train, label=y_train)\n",
        "    test_data = lgb.Dataset(X_test, label=y_test, reference=train_data)\n",
        "    # Train a Model\n",
        "    model = lgb.train(params, train_data,\n",
        "                      num_boost_round=params['NUM_BOOST_ROUND'],\n",
        "                      early_stopping_rounds=params['EARLY_STOPPING_ROUNDS'],\n",
        "                      valid_sets=[test_data],\n",
        "                      valid_names=['valid'],\n",
        "                      )\n",
        "    # Evaluate the model\n",
        "    preds = model.predict(test_data,num_iteration=model.best_iteration)\n",
        "    truth = test_data.get_label()\n",
        "    score = metric.mean_squared_error(truth, preds, squared=False)\n",
        "      \n",
        "    #score = model.best_score['valid']['rmse']\n",
        "    # Return the validation score\n",
        "    return score"
      ]
    },
    {
      "cell_type": "markdown",
      "metadata": {},
      "source": [
        "### Step 2\n",
        "We define the objective function of our optimization exercise, which takes a trial as argument.  \n",
        "In this function, we first define the parameter space. This parameter space is a dictionary defining each hyperparameter of interest. For each hyperparameter, we use the $trial.suggest$ functionality to define the domain from which we can sample values for the hyperparameters. In a Bayesian way, think about this as our prior (hyper)parameter distribution. We can use various distributions:\n",
        "- trial.suggest_loguniform for floating point hyperparameters between two bounds favoring smaller values,\n",
        "- trial.suggest_float for floating point hyperparameters between two bounds\n",
        "- trial.suggest_int for integer hyperparameters between two bounds and a step-size,\n",
        "- trial.suggest_uniform for uniformly distributed hyperparameters between two bounds,\n",
        "- trial.suggest_discrete_uniform for uniformly distrubuted hyperparameters between two bounds but with additional step-size,\n",
        "- ...\n",
        "\n",
        "After defining the hyperparameter space, we apply the previously defined function to train a model and return the validation score.  \n",
        "At this stage, we will also check whether the score should be pruned or not (depending on whether a pruning strategy was specified)."
      ]
    },
    {
      "cell_type": "code",
      "execution_count": 17,
      "metadata": {
        "id": "_hxYNpUzCmnj"
      },
      "outputs": [],
      "source": [
        "def objective(trial):\n",
        "    '''\n",
        "    Define the Hyperparameter Space from which to sample a configuration.\n",
        "    Then train a model and output the validation score (see Step 1).\n",
        "    '''\n",
        "    # Define the Hyper-parameter Space\n",
        "    params = {'learning_rate': trial.suggest_loguniform('learning_rate', 0.01, 0.5),\n",
        "              'max_depth': trial.suggest_int('max_depth', 1, 30, 1),\n",
        "              'num_leaves': trial.suggest_int('num_leaves', 2, 100),\n",
        "              'min_data_in_leaf': trial.suggest_int('min_data_in_leaf', 10, 100),\n",
        "              'feature_fraction': trial.suggest_uniform('feature_fraction', 0.1, 1.0),\n",
        "              'subsample': trial.suggest_discrete_uniform('subsample', 0.1, 1.0,.1),\n",
        "              'colsample_by_tree': 1,\n",
        "              'lambda_l1': trial.suggest_float('lambda_l1', 0, 10),\n",
        "              'lambda_l2': trial.suggest_float('lambda_l2', 0, 10),\n",
        "              'NUM_BOOST_ROUND': 200,\n",
        "              'EARLY_STOPPING_ROUNDS': 20,\n",
        "              'objective': 'rmse',\n",
        "              }\n",
        "              \n",
        "    # Train the model and return the validation score\n",
        "    score = train_evaluate(params)\n",
        "    \n",
        "    #Check Pruning\n",
        "    trial.report(score,1)\n",
        "    if trial.should_prune():\n",
        "        raise optuna.TrialPruned()\n",
        "\n",
        "    # Return the validation score\n",
        "    return score"
      ]
    },
    {
      "cell_type": "markdown",
      "metadata": {},
      "source": [
        "### Step 3\n",
        "We create the study object, in which we describe the optimization exercise by means of: \n",
        "- the direction\n",
        "- the sampler\n",
        "- the pruning\n",
        "\n",
        "* the *Direction* of our optimization: \n",
        "        * minimize: for (Root) Mean Squared Errors, minus-log-likelihood, ... (the lower, the better)\n",
        "        * maximize: r2_score, auc, accuracy, precision, recall, f1_score, ... (the higher, the better)\n",
        "* the *Sampler* which is our optimization technique: \n",
        "        * GridSampler, applies a Grid Search on a predefined grid (extra arguments required!)\n",
        "        * RandomSampler, applies Random Search on the parameter space\n",
        "        * CmaEsSampler, applies a Covariance Matrix Adaptation Evolutionary Search algorithm\n",
        "        * TPESampler, is the default option, which applies a Tree-structured Parzen Estimator algorithm\n",
        "\n",
        "* the *Pruner* which is our pruning strategy to quickly stop unpromising trials:\n",
        "        * NopPruner, does not prune any trials\n",
        "        * MedianPruner, prunes trials that are worst than the median of previous trials\n",
        "        * SuccessiveHalvingPruner, uses Asynchronous Successive Halving (prune half of the least performing trials)\n",
        "        * HyperbandPruner, uses the Hyperband pruning strategy"
      ]
    },
    {
      "cell_type": "code",
      "execution_count": 18,
      "metadata": {},
      "outputs": [
        {
          "name": "stderr",
          "output_type": "stream",
          "text": [
            "\u001b[32m[I 2021-11-05 18:06:38,779]\u001b[0m A new study created in memory with name: no-name-96500fba-67ea-4e69-a947-98aeedd080fd\u001b[0m\n"
          ]
        }
      ],
      "source": [
        "study = optuna.create_study(\n",
        "    direction = 'minimize',                         \n",
        "    sampler = optuna.samplers.RandomSampler(),      \n",
        "    pruner = optuna.pruners.NopPruner()            \n",
        "    )"
      ]
    },
    {
      "cell_type": "markdown",
      "metadata": {},
      "source": [
        "### Step 4\n",
        "We call the optimize function on our study object to start the optimization process. "
      ]
    },
    {
      "cell_type": "code",
      "execution_count": 19,
      "metadata": {
        "id": "sxSQuoTiJ4AC"
      },
      "outputs": [
        {
          "name": "stdout",
          "output_type": "stream",
          "text": [
            "Couldn't find program: 'false'\n"
          ]
        }
      ],
      "source": [
        "%%script false --no-raise-error\n",
        "study.optimize(objective, n_trials=N_trials)"
      ]
    },
    {
      "cell_type": "markdown",
      "metadata": {
        "id": "ZLDo29BxV6uP"
      },
      "source": [
        "## Example of Several Optimization Strategies\n",
        "\n",
        "Uncomment the following line if you want to suppress all output of the optuna sampler."
      ]
    },
    {
      "cell_type": "code",
      "execution_count": 20,
      "metadata": {},
      "outputs": [],
      "source": [
        "#optuna.logging.set_verbosity(optuna.logging.WARNING)"
      ]
    },
    {
      "cell_type": "markdown",
      "metadata": {},
      "source": [
        "Next, we define out $train\\_evaluate$ and our $objective$ functions. "
      ]
    },
    {
      "cell_type": "code",
      "execution_count": 21,
      "metadata": {},
      "outputs": [],
      "source": [
        "def train_evaluate(params):\n",
        "    train_data = lgb.Dataset(X_train, label=y_train)\n",
        "    test_data = lgb.Dataset(X_test, label=y_test, reference=train_data)\n",
        "    # Train a Model\n",
        "    model = lgb.train(params, train_data,\n",
        "                      num_boost_round=params['NUM_BOOST_ROUND'],\n",
        "                      early_stopping_rounds=params['EARLY_STOPPING_ROUNDS'],\n",
        "                      valid_sets=[test_data],\n",
        "                      valid_names=['valid'],\n",
        "                      )\n",
        "    # Evaluate the model \n",
        "    preds = model.predict(X_test,num_iteration=model.best_iteration)\n",
        "    truth = test_data.get_label()\n",
        "    score = metric.mean_squared_error(truth, preds, squared=False)\n",
        "    # Return the validation score\n",
        "    return score\n",
        "\n",
        "def objective(trial):\n",
        "    # Define the Hyper-parameter Space\n",
        "    params = {'learning_rate': trial.suggest_loguniform('learning_rate', 0.01, 0.5),\n",
        "              'max_depth': trial.suggest_int('max_depth', 1, 50),\n",
        "              'num_leaves': trial.suggest_int('num_leaves', 2, 200),\n",
        "              'feature_fraction': trial.suggest_uniform('feature_fraction', 0.1, 1.0),\n",
        "              'subsample': trial.suggest_discrete_uniform('subsample', 0.1, 1.0, .1),\n",
        "              'colsample_by_tree': 1,\n",
        "              'lambda_l1': trial.suggest_float('lambda_l1', 0, 10),\n",
        "              'lambda_l2': trial.suggest_float('lambda_l2', 0, 10),\n",
        "              'bagging_fraction':trial.suggest_uniform('bagging_fraction', 0, 1),\n",
        "              'bagging_freq':trial.suggest_int('bagging_freq',0,10),\n",
        "              'NUM_BOOST_ROUND': 200,\n",
        "              'EARLY_STOPPING_ROUNDS': 20,\n",
        "              'objective': 'rmse',\n",
        "              }\n",
        "    # Train the model and return the validation score\n",
        "    score = train_evaluate(params)\n",
        "    \n",
        "    #Check Pruning\n",
        "    trial.report(score,200)\n",
        "    if trial.should_prune():\n",
        "      raise optuna.TrialPruned()\n",
        "    \n",
        "    # Return the validation score\n",
        "    return score"
      ]
    },
    {
      "cell_type": "markdown",
      "metadata": {},
      "source": [
        "### **Grid Search**\n",
        "\n",
        "A grid search does not really look at the hyperparameter space, but rather takes a search space with discrete lists of hyperparameter values into account.\n",
        "In this example, we search over a small grid of 4*4*4 hyperparameters (total size of the grid: 48 possibilities)."
      ]
    },
    {
      "cell_type": "code",
      "execution_count": 23,
      "metadata": {
        "colab": {
          "base_uri": "https://localhost:8080/"
        },
        "id": "-M3qPkBmJCVh",
        "outputId": "5c56114a-287b-4f09-e83e-43fb75db7da9"
      },
      "outputs": [
        {
          "name": "stderr",
          "output_type": "stream",
          "text": [
            "\u001b[32m[I 2021-11-05 18:08:37,706]\u001b[0m A new study created in memory with name: no-name-4554cb7e-f965-4581-8fc8-11f728f725db\u001b[0m\n",
            "\u001b[32m[I 2021-11-05 18:08:37,810]\u001b[0m Trial 0 finished with value: 0.7470006743845352 and parameters: {'learning_rate': 0.01, 'max_depth': 1, 'num_leaves': 100}. Best is trial 0 with value: 0.7470006743845352.\u001b[0m\n",
            "\u001b[32m[I 2021-11-05 18:08:38,348]\u001b[0m Trial 1 finished with value: 0.47375380713319415 and parameters: {'learning_rate': 0.01, 'max_depth': 20, 'num_leaves': 100}. Best is trial 1 with value: 0.47375380713319415.\u001b[0m\n",
            "\u001b[32m[I 2021-11-05 18:08:38,417]\u001b[0m Trial 2 finished with value: 0.5261623792105229 and parameters: {'learning_rate': 0.5, 'max_depth': 1, 'num_leaves': 100}. Best is trial 1 with value: 0.47375380713319415.\u001b[0m\n",
            "\u001b[32m[I 2021-11-05 18:08:38,603]\u001b[0m Trial 3 finished with value: 0.43097071502431894 and parameters: {'learning_rate': 0.5, 'max_depth': 10, 'num_leaves': 100}. Best is trial 3 with value: 0.43097071502431894.\u001b[0m\n",
            "\u001b[32m[I 2021-11-05 18:08:38,673]\u001b[0m Trial 4 finished with value: 0.5988083376612268 and parameters: {'learning_rate': 0.1, 'max_depth': 1, 'num_leaves': 2}. Best is trial 3 with value: 0.43097071502431894.\u001b[0m\n",
            "\u001b[32m[I 2021-11-05 18:08:39,106]\u001b[0m Trial 5 finished with value: 0.40207231639195906 and parameters: {'learning_rate': 0.1, 'max_depth': 30, 'num_leaves': 100}. Best is trial 5 with value: 0.40207231639195906.\u001b[0m\n",
            "\u001b[32m[I 2021-11-05 18:08:39,200]\u001b[0m Trial 6 finished with value: 0.5988083376612268 and parameters: {'learning_rate': 0.1, 'max_depth': 30, 'num_leaves': 2}. Best is trial 5 with value: 0.40207231639195906.\u001b[0m\n",
            "\u001b[32m[I 2021-11-05 18:08:39,441]\u001b[0m Trial 7 finished with value: 0.5502752189885596 and parameters: {'learning_rate': 0.01, 'max_depth': 30, 'num_leaves': 20}. Best is trial 5 with value: 0.40207231639195906.\u001b[0m\n",
            "\u001b[32m[I 2021-11-05 18:08:39,525]\u001b[0m Trial 8 finished with value: 0.7470006743845352 and parameters: {'learning_rate': 0.01, 'max_depth': 1, 'num_leaves': 10}. Best is trial 5 with value: 0.40207231639195906.\u001b[0m\n",
            "\u001b[32m[I 2021-11-05 18:08:39,721]\u001b[0m Trial 9 finished with value: 0.5502752189885596 and parameters: {'learning_rate': 0.01, 'max_depth': 20, 'num_leaves': 20}. Best is trial 5 with value: 0.40207231639195906.\u001b[0m\n",
            "\u001b[32m[I 2021-11-05 18:08:39,790]\u001b[0m Trial 10 finished with value: 0.5261623792105229 and parameters: {'learning_rate': 0.5, 'max_depth': 1, 'num_leaves': 20}. Best is trial 5 with value: 0.40207231639195906.\u001b[0m\n",
            "\u001b[32m[I 2021-11-05 18:08:39,926]\u001b[0m Trial 11 finished with value: 0.43127147613298594 and parameters: {'learning_rate': 0.1, 'max_depth': 10, 'num_leaves': 10}. Best is trial 5 with value: 0.40207231639195906.\u001b[0m\n",
            "\u001b[32m[I 2021-11-05 18:08:40,087]\u001b[0m Trial 12 finished with value: 0.4136656691816637 and parameters: {'learning_rate': 0.1, 'max_depth': 20, 'num_leaves': 20}. Best is trial 5 with value: 0.40207231639195906.\u001b[0m\n",
            "\u001b[32m[I 2021-11-05 18:08:40,215]\u001b[0m Trial 13 finished with value: 0.4351091340913668 and parameters: {'learning_rate': 0.5, 'max_depth': 30, 'num_leaves': 100}. Best is trial 5 with value: 0.40207231639195906.\u001b[0m\n",
            "\u001b[32m[I 2021-11-05 18:08:40,691]\u001b[0m Trial 14 finished with value: 0.47634823058692954 and parameters: {'learning_rate': 0.01, 'max_depth': 10, 'num_leaves': 100}. Best is trial 5 with value: 0.40207231639195906.\u001b[0m\n",
            "\u001b[32m[I 2021-11-05 18:08:40,760]\u001b[0m Trial 15 finished with value: 0.5988083376612268 and parameters: {'learning_rate': 0.1, 'max_depth': 10, 'num_leaves': 2}. Best is trial 5 with value: 0.40207231639195906.\u001b[0m\n",
            "\u001b[32m[I 2021-11-05 18:08:41,463]\u001b[0m Trial 16 finished with value: 0.47375380713319415 and parameters: {'learning_rate': 0.01, 'max_depth': 30, 'num_leaves': 100}. Best is trial 5 with value: 0.40207231639195906.\u001b[0m\n",
            "\u001b[32m[I 2021-11-05 18:08:41,607]\u001b[0m Trial 17 finished with value: 0.5943733156686446 and parameters: {'learning_rate': 0.01, 'max_depth': 20, 'num_leaves': 10}. Best is trial 5 with value: 0.40207231639195906.\u001b[0m\n",
            "\u001b[32m[I 2021-11-05 18:08:41,678]\u001b[0m Trial 18 finished with value: 0.5261623792105229 and parameters: {'learning_rate': 0.5, 'max_depth': 20, 'num_leaves': 2}. Best is trial 5 with value: 0.40207231639195906.\u001b[0m\n",
            "\u001b[32m[I 2021-11-05 18:08:41,754]\u001b[0m Trial 19 finished with value: 0.7470006743845352 and parameters: {'learning_rate': 0.01, 'max_depth': 10, 'num_leaves': 2}. Best is trial 5 with value: 0.40207231639195906.\u001b[0m\n",
            "\u001b[32m[I 2021-11-05 18:08:41,899]\u001b[0m Trial 20 finished with value: 0.5943733156686446 and parameters: {'learning_rate': 0.01, 'max_depth': 10, 'num_leaves': 10}. Best is trial 5 with value: 0.40207231639195906.\u001b[0m\n",
            "\u001b[32m[I 2021-11-05 18:08:41,968]\u001b[0m Trial 21 finished with value: 0.5988083376612268 and parameters: {'learning_rate': 0.1, 'max_depth': 1, 'num_leaves': 100}. Best is trial 5 with value: 0.40207231639195906.\u001b[0m\n",
            "\u001b[32m[I 2021-11-05 18:08:42,326]\u001b[0m Trial 22 finished with value: 0.4009600440564793 and parameters: {'learning_rate': 0.1, 'max_depth': 10, 'num_leaves': 100}. Best is trial 22 with value: 0.4009600440564793.\u001b[0m\n",
            "\u001b[32m[I 2021-11-05 18:08:42,397]\u001b[0m Trial 23 finished with value: 0.7470006743845352 and parameters: {'learning_rate': 0.01, 'max_depth': 30, 'num_leaves': 2}. Best is trial 22 with value: 0.4009600440564793.\u001b[0m\n",
            "\u001b[32m[I 2021-11-05 18:08:42,469]\u001b[0m Trial 24 finished with value: 0.7470006743845352 and parameters: {'learning_rate': 0.01, 'max_depth': 1, 'num_leaves': 2}. Best is trial 22 with value: 0.4009600440564793.\u001b[0m\n",
            "\u001b[32m[I 2021-11-05 18:08:42,570]\u001b[0m Trial 25 finished with value: 0.5261623792105229 and parameters: {'learning_rate': 0.5, 'max_depth': 1, 'num_leaves': 10}. Best is trial 22 with value: 0.4009600440564793.\u001b[0m\n",
            "\u001b[32m[I 2021-11-05 18:08:42,672]\u001b[0m Trial 26 finished with value: 0.41825909396001104 and parameters: {'learning_rate': 0.5, 'max_depth': 30, 'num_leaves': 20}. Best is trial 22 with value: 0.4009600440564793.\u001b[0m\n",
            "\u001b[32m[I 2021-11-05 18:08:42,777]\u001b[0m Trial 27 finished with value: 0.41825909396001104 and parameters: {'learning_rate': 0.5, 'max_depth': 20, 'num_leaves': 20}. Best is trial 22 with value: 0.4009600440564793.\u001b[0m\n",
            "\u001b[32m[I 2021-11-05 18:08:42,959]\u001b[0m Trial 28 finished with value: 0.5502447214202039 and parameters: {'learning_rate': 0.01, 'max_depth': 10, 'num_leaves': 20}. Best is trial 22 with value: 0.4009600440564793.\u001b[0m\n",
            "\u001b[32m[I 2021-11-05 18:08:43,074]\u001b[0m Trial 29 finished with value: 0.43127147613298594 and parameters: {'learning_rate': 0.1, 'max_depth': 20, 'num_leaves': 10}. Best is trial 22 with value: 0.4009600440564793.\u001b[0m\n",
            "\u001b[32m[I 2021-11-05 18:08:43,165]\u001b[0m Trial 30 finished with value: 0.42793408300698016 and parameters: {'learning_rate': 0.5, 'max_depth': 10, 'num_leaves': 10}. Best is trial 22 with value: 0.4009600440564793.\u001b[0m\n",
            "\u001b[32m[I 2021-11-05 18:08:43,236]\u001b[0m Trial 31 finished with value: 0.5261623792105229 and parameters: {'learning_rate': 0.5, 'max_depth': 10, 'num_leaves': 2}. Best is trial 22 with value: 0.4009600440564793.\u001b[0m\n",
            "\u001b[32m[I 2021-11-05 18:08:43,349]\u001b[0m Trial 32 finished with value: 0.43127147613298594 and parameters: {'learning_rate': 0.1, 'max_depth': 30, 'num_leaves': 10}. Best is trial 22 with value: 0.4009600440564793.\u001b[0m\n",
            "\u001b[32m[I 2021-11-05 18:08:43,417]\u001b[0m Trial 33 finished with value: 0.5261623792105229 and parameters: {'learning_rate': 0.5, 'max_depth': 30, 'num_leaves': 2}. Best is trial 22 with value: 0.4009600440564793.\u001b[0m\n",
            "\u001b[32m[I 2021-11-05 18:08:43,484]\u001b[0m Trial 34 finished with value: 0.5988083376612268 and parameters: {'learning_rate': 0.1, 'max_depth': 1, 'num_leaves': 20}. Best is trial 22 with value: 0.4009600440564793.\u001b[0m\n",
            "\u001b[32m[I 2021-11-05 18:08:43,571]\u001b[0m Trial 35 finished with value: 0.42793408300698016 and parameters: {'learning_rate': 0.5, 'max_depth': 20, 'num_leaves': 10}. Best is trial 22 with value: 0.4009600440564793.\u001b[0m\n",
            "\u001b[32m[I 2021-11-05 18:08:43,669]\u001b[0m Trial 36 finished with value: 0.43603254247107676 and parameters: {'learning_rate': 0.5, 'max_depth': 20, 'num_leaves': 100}. Best is trial 22 with value: 0.4009600440564793.\u001b[0m\n",
            "\u001b[32m[I 2021-11-05 18:08:44,127]\u001b[0m Trial 37 finished with value: 0.4023716930729493 and parameters: {'learning_rate': 0.1, 'max_depth': 20, 'num_leaves': 100}. Best is trial 22 with value: 0.4009600440564793.\u001b[0m\n",
            "\u001b[32m[I 2021-11-05 18:08:44,278]\u001b[0m Trial 38 finished with value: 0.4136656691816637 and parameters: {'learning_rate': 0.1, 'max_depth': 30, 'num_leaves': 20}. Best is trial 22 with value: 0.4009600440564793.\u001b[0m\n",
            "\u001b[32m[I 2021-11-05 18:08:44,445]\u001b[0m Trial 39 finished with value: 0.41318336256718824 and parameters: {'learning_rate': 0.1, 'max_depth': 10, 'num_leaves': 20}. Best is trial 22 with value: 0.4009600440564793.\u001b[0m\n",
            "\u001b[32m[I 2021-11-05 18:08:44,598]\u001b[0m Trial 40 finished with value: 0.423496649217459 and parameters: {'learning_rate': 0.5, 'max_depth': 10, 'num_leaves': 20}. Best is trial 22 with value: 0.4009600440564793.\u001b[0m\n",
            "\u001b[32m[I 2021-11-05 18:08:44,748]\u001b[0m Trial 41 finished with value: 0.5943733156686446 and parameters: {'learning_rate': 0.01, 'max_depth': 30, 'num_leaves': 10}. Best is trial 22 with value: 0.4009600440564793.\u001b[0m\n",
            "\u001b[32m[I 2021-11-05 18:08:44,822]\u001b[0m Trial 42 finished with value: 0.7470006743845352 and parameters: {'learning_rate': 0.01, 'max_depth': 20, 'num_leaves': 2}. Best is trial 22 with value: 0.4009600440564793.\u001b[0m\n",
            "\u001b[32m[I 2021-11-05 18:08:44,897]\u001b[0m Trial 43 finished with value: 0.5988083376612268 and parameters: {'learning_rate': 0.1, 'max_depth': 20, 'num_leaves': 2}. Best is trial 22 with value: 0.4009600440564793.\u001b[0m\n",
            "\u001b[32m[I 2021-11-05 18:08:44,964]\u001b[0m Trial 44 finished with value: 0.5988083376612268 and parameters: {'learning_rate': 0.1, 'max_depth': 1, 'num_leaves': 10}. Best is trial 22 with value: 0.4009600440564793.\u001b[0m\n",
            "\u001b[32m[I 2021-11-05 18:08:45,064]\u001b[0m Trial 45 finished with value: 0.42793408300698016 and parameters: {'learning_rate': 0.5, 'max_depth': 30, 'num_leaves': 10}. Best is trial 22 with value: 0.4009600440564793.\u001b[0m\n",
            "\u001b[32m[I 2021-11-05 18:08:45,136]\u001b[0m Trial 46 finished with value: 0.7470006743845352 and parameters: {'learning_rate': 0.01, 'max_depth': 1, 'num_leaves': 20}. Best is trial 22 with value: 0.4009600440564793.\u001b[0m\n",
            "\u001b[32m[I 2021-11-05 18:08:45,211]\u001b[0m Trial 47 finished with value: 0.5261623792105229 and parameters: {'learning_rate': 0.5, 'max_depth': 1, 'num_leaves': 2}. Best is trial 22 with value: 0.4009600440564793.\u001b[0m\n"
          ]
        },
        {
          "name": "stdout",
          "output_type": "stream",
          "text": [
            "Wall time: 7.51 s\n"
          ]
        }
      ],
      "source": [
        "%%time\n",
        "%%capture\n",
        "\n",
        "def objective_grid(trial):\n",
        "    # Define the Hyper-parameter Space\n",
        "    params = {'learning_rate': trial.suggest_float('learning_rate', 0.01, 0.5),\n",
        "              'max_depth': trial.suggest_int('max_depth', 1, 50),\n",
        "              'num_leaves': trial.suggest_int('num_leaves', 2, 200),\n",
        "              'NUM_BOOST_ROUND': 200,\n",
        "              'EARLY_STOPPING_ROUNDS': 20,\n",
        "              'objective': 'rmse',\n",
        "              'verbose': -1,\n",
        "              }\n",
        "    \n",
        "    score = train_evaluate(params)\n",
        "    return score\n",
        "\n",
        "search_space = {'learning_rate': [0.01, 0.10, 0.50],\n",
        "              'max_depth': [1, 10, 20, 30],\n",
        "              'num_leaves': [2, 10, 20, 100]}\n",
        "\n",
        "study_gridsearch = optuna.create_study(\n",
        "    direction='minimize',\n",
        "    sampler=optuna.samplers.GridSampler(search_space),\n",
        "    pruner = optuna.pruners.NopPruner() \n",
        "    )\n",
        "\n",
        "study_gridsearch.optimize(objective_grid, n_trials=N_TRIALS)"
      ]
    },
    {
      "cell_type": "code",
      "execution_count": 24,
      "metadata": {
        "colab": {
          "base_uri": "https://localhost:8080/"
        },
        "id": "5Si3TBSQPLA2",
        "outputId": "0c67db2b-7479-478f-87a5-fb9d9f2eb9b4"
      },
      "outputs": [
        {
          "name": "stdout",
          "output_type": "stream",
          "text": [
            "{'score': 0.4009600440564793, 'params': {'learning_rate': 0.1, 'max_depth': 10, 'num_leaves': 100}}\n"
          ]
        }
      ],
      "source": [
        "gridsearch = {'score': study_gridsearch.best_value, 'params': study_gridsearch.best_params}\n",
        "print(gridsearch)"
      ]
    },
    {
      "cell_type": "markdown",
      "metadata": {
        "id": "Sn-ozVvUXKY-"
      },
      "source": [
        "## **Random Search**"
      ]
    },
    {
      "cell_type": "code",
      "execution_count": 25,
      "metadata": {
        "colab": {
          "base_uri": "https://localhost:8080/"
        },
        "id": "Dc6wSh7LXV1p",
        "outputId": "0ff9959c-671b-4464-ffb7-0a0985dc370f"
      },
      "outputs": [
        {
          "name": "stderr",
          "output_type": "stream",
          "text": [
            "\u001b[32m[I 2021-11-05 18:08:50,882]\u001b[0m A new study created in memory with name: no-name-91bcaa74-c5c7-4d13-b707-fe78db373059\u001b[0m\n",
            "\u001b[32m[I 2021-11-05 18:08:51,397]\u001b[0m Trial 0 finished with value: 0.42836543707044783 and parameters: {'learning_rate': 0.08243238042068547, 'max_depth': 17, 'num_leaves': 94, 'feature_fraction': 0.4715368132122373, 'subsample': 0.30000000000000004, 'lambda_l1': 6.379255534236382, 'lambda_l2': 8.397918493009744, 'bagging_fraction': 0.42680580086407505, 'bagging_freq': 9}. Best is trial 0 with value: 0.42836543707044783.\u001b[0m\n",
            "\u001b[32m[I 2021-11-05 18:08:51,563]\u001b[0m Trial 1 finished with value: 0.4620424605810551 and parameters: {'learning_rate': 0.3312210706075792, 'max_depth': 48, 'num_leaves': 163, 'feature_fraction': 0.9494189702146603, 'subsample': 0.7000000000000001, 'lambda_l1': 5.255637811692717, 'lambda_l2': 3.0081457061855787, 'bagging_fraction': 0.09612805196782426, 'bagging_freq': 3}. Best is trial 0 with value: 0.42836543707044783.\u001b[0m\n",
            "\u001b[32m[I 2021-11-05 18:08:52,132]\u001b[0m Trial 2 finished with value: 0.4069581664475366 and parameters: {'learning_rate': 0.0769464979646529, 'max_depth': 44, 'num_leaves': 164, 'feature_fraction': 0.6597723091944673, 'subsample': 0.8, 'lambda_l1': 8.875071227406545, 'lambda_l2': 0.747015533313069, 'bagging_fraction': 0.7971683259403797, 'bagging_freq': 2}. Best is trial 2 with value: 0.4069581664475366.\u001b[0m\n",
            "\u001b[32m[I 2021-11-05 18:08:52,424]\u001b[0m Trial 3 finished with value: 0.4706288181981253 and parameters: {'learning_rate': 0.24608758977458922, 'max_depth': 8, 'num_leaves': 99, 'feature_fraction': 0.3069893554241274, 'subsample': 0.6, 'lambda_l1': 3.515306270754964, 'lambda_l2': 6.628385701450869, 'bagging_fraction': 0.45028048864951253, 'bagging_freq': 4}. Best is trial 2 with value: 0.4069581664475366.\u001b[0m\n",
            "\u001b[32m[I 2021-11-05 18:08:52,814]\u001b[0m Trial 4 finished with value: 0.4981366080788065 and parameters: {'learning_rate': 0.05945941359748338, 'max_depth': 28, 'num_leaves': 164, 'feature_fraction': 0.31135442107297534, 'subsample': 0.8, 'lambda_l1': 5.432607942989602, 'lambda_l2': 1.475298995406309, 'bagging_fraction': 0.4704180999998304, 'bagging_freq': 5}. Best is trial 2 with value: 0.4069581664475366.\u001b[0m\n",
            "\u001b[32m[I 2021-11-05 18:08:52,945]\u001b[0m Trial 5 finished with value: 0.5385035349328222 and parameters: {'learning_rate': 0.035249434595616344, 'max_depth': 35, 'num_leaves': 79, 'feature_fraction': 0.6908827194539909, 'subsample': 0.8, 'lambda_l1': 6.815376696042204, 'lambda_l2': 2.93279134769179, 'bagging_fraction': 0.027339746255876096, 'bagging_freq': 8}. Best is trial 2 with value: 0.4069581664475366.\u001b[0m\n",
            "\u001b[32m[I 2021-11-05 18:08:53,309]\u001b[0m Trial 6 finished with value: 0.4257954771748184 and parameters: {'learning_rate': 0.02574383719226225, 'max_depth': 7, 'num_leaves': 57, 'feature_fraction': 0.8776903208769126, 'subsample': 0.2, 'lambda_l1': 0.4562134638969084, 'lambda_l2': 6.431445936703854, 'bagging_fraction': 0.8658898881206316, 'bagging_freq': 8}. Best is trial 2 with value: 0.4069581664475366.\u001b[0m\n",
            "\u001b[32m[I 2021-11-05 18:08:53,632]\u001b[0m Trial 7 finished with value: 0.6787512335563846 and parameters: {'learning_rate': 0.012137548023400441, 'max_depth': 22, 'num_leaves': 57, 'feature_fraction': 0.262962769961676, 'subsample': 0.8, 'lambda_l1': 6.834802590648521, 'lambda_l2': 7.578835314885679, 'bagging_fraction': 0.33286843254602905, 'bagging_freq': 2}. Best is trial 2 with value: 0.4069581664475366.\u001b[0m\n",
            "\u001b[32m[I 2021-11-05 18:08:54,640]\u001b[0m Trial 8 finished with value: 0.39231776491712855 and parameters: {'learning_rate': 0.06488210316955564, 'max_depth': 32, 'num_leaves': 198, 'feature_fraction': 0.6423956698204506, 'subsample': 0.4, 'lambda_l1': 0.8859296979133158, 'lambda_l2': 3.463731445929307, 'bagging_fraction': 0.9901469862241185, 'bagging_freq': 3}. Best is trial 8 with value: 0.39231776491712855.\u001b[0m\n",
            "\u001b[32m[I 2021-11-05 18:08:55,248]\u001b[0m Trial 9 finished with value: 0.4008288802842222 and parameters: {'learning_rate': 0.07166125059472785, 'max_depth': 15, 'num_leaves': 118, 'feature_fraction': 0.8083433245209756, 'subsample': 0.1, 'lambda_l1': 6.304349958484395, 'lambda_l2': 6.132659801908684, 'bagging_fraction': 0.04532706012739529, 'bagging_freq': 0}. Best is trial 8 with value: 0.39231776491712855.\u001b[0m\n",
            "\u001b[32m[I 2021-11-05 18:08:55,593]\u001b[0m Trial 10 finished with value: 0.44513485585021273 and parameters: {'learning_rate': 0.022119160844457593, 'max_depth': 22, 'num_leaves': 58, 'feature_fraction': 0.8969984876815141, 'subsample': 0.6, 'lambda_l1': 3.2540552314603954, 'lambda_l2': 9.868183394563705, 'bagging_fraction': 0.236199117116911, 'bagging_freq': 6}. Best is trial 8 with value: 0.39231776491712855.\u001b[0m\n",
            "\u001b[32m[I 2021-11-05 18:08:56,066]\u001b[0m Trial 11 finished with value: 0.43510128118526364 and parameters: {'learning_rate': 0.02155781866082395, 'max_depth': 23, 'num_leaves': 89, 'feature_fraction': 0.7324449957278667, 'subsample': 0.1, 'lambda_l1': 6.943632432708022, 'lambda_l2': 8.448257817849056, 'bagging_fraction': 0.5263732547258282, 'bagging_freq': 6}. Best is trial 8 with value: 0.39231776491712855.\u001b[0m\n",
            "\u001b[32m[I 2021-11-05 18:08:56,340]\u001b[0m Trial 12 finished with value: 0.42379779399972195 and parameters: {'learning_rate': 0.43112003427586604, 'max_depth': 35, 'num_leaves': 99, 'feature_fraction': 0.6791290354889297, 'subsample': 0.2, 'lambda_l1': 6.84110405278048, 'lambda_l2': 4.530269237471966, 'bagging_fraction': 0.469067861720319, 'bagging_freq': 1}. Best is trial 8 with value: 0.39231776491712855.\u001b[0m\n",
            "\u001b[32m[I 2021-11-05 18:08:56,693]\u001b[0m Trial 13 finished with value: 0.41970130335289335 and parameters: {'learning_rate': 0.4819507857107613, 'max_depth': 24, 'num_leaves': 200, 'feature_fraction': 0.776400381027354, 'subsample': 0.7000000000000001, 'lambda_l1': 6.806474609145877, 'lambda_l2': 3.5258512293182207, 'bagging_fraction': 0.6584572688083844, 'bagging_freq': 1}. Best is trial 8 with value: 0.39231776491712855.\u001b[0m\n",
            "\u001b[32m[I 2021-11-05 18:08:57,271]\u001b[0m Trial 14 finished with value: 0.41313072225736724 and parameters: {'learning_rate': 0.42601427632647687, 'max_depth': 42, 'num_leaves': 180, 'feature_fraction': 0.8017051092806587, 'subsample': 0.4, 'lambda_l1': 9.288731460675411, 'lambda_l2': 9.608582807244305, 'bagging_fraction': 0.8611628860902856, 'bagging_freq': 9}. Best is trial 8 with value: 0.39231776491712855.\u001b[0m\n",
            "\u001b[32m[I 2021-11-05 18:08:57,957]\u001b[0m Trial 15 finished with value: 0.4407792937341892 and parameters: {'learning_rate': 0.05274080860818006, 'max_depth': 13, 'num_leaves': 156, 'feature_fraction': 0.5435833372249215, 'subsample': 0.7000000000000001, 'lambda_l1': 4.624163117214815, 'lambda_l2': 8.095201069080456, 'bagging_fraction': 0.3858810647162033, 'bagging_freq': 4}. Best is trial 8 with value: 0.39231776491712855.\u001b[0m\n",
            "\u001b[32m[I 2021-11-05 18:08:58,345]\u001b[0m Trial 16 finished with value: 0.4927699681956581 and parameters: {'learning_rate': 0.0701335082038659, 'max_depth': 8, 'num_leaves': 36, 'feature_fraction': 0.20231549760814893, 'subsample': 0.9, 'lambda_l1': 0.027579044781294026, 'lambda_l2': 1.9097863157658213, 'bagging_fraction': 0.2769594520659593, 'bagging_freq': 6}. Best is trial 8 with value: 0.39231776491712855.\u001b[0m\n",
            "\u001b[32m[I 2021-11-05 18:08:58,867]\u001b[0m Trial 17 finished with value: 0.439452546065236 and parameters: {'learning_rate': 0.2850653870501682, 'max_depth': 25, 'num_leaves': 53, 'feature_fraction': 0.5315923013772657, 'subsample': 0.30000000000000004, 'lambda_l1': 6.938678916161849, 'lambda_l2': 2.0968862696379675, 'bagging_fraction': 0.3391278006055185, 'bagging_freq': 3}. Best is trial 8 with value: 0.39231776491712855.\u001b[0m\n",
            "\u001b[32m[I 2021-11-05 18:08:59,723]\u001b[0m Trial 18 finished with value: 0.3999765332037826 and parameters: {'learning_rate': 0.07277857159405661, 'max_depth': 19, 'num_leaves': 82, 'feature_fraction': 0.8416441437071293, 'subsample': 0.5, 'lambda_l1': 1.2555709441127216, 'lambda_l2': 3.648059358324786, 'bagging_fraction': 0.7212311387570396, 'bagging_freq': 6}. Best is trial 8 with value: 0.39231776491712855.\u001b[0m\n",
            "\u001b[32m[I 2021-11-05 18:09:00,147]\u001b[0m Trial 19 finished with value: 0.698914164837616 and parameters: {'learning_rate': 0.01015794984452085, 'max_depth': 36, 'num_leaves': 53, 'feature_fraction': 0.28146743846302624, 'subsample': 0.7000000000000001, 'lambda_l1': 0.5507316418238528, 'lambda_l2': 6.996090824816724, 'bagging_fraction': 0.19277834112776937, 'bagging_freq': 3}. Best is trial 8 with value: 0.39231776491712855.\u001b[0m\n",
            "\u001b[32m[I 2021-11-05 18:09:00,726]\u001b[0m Trial 20 finished with value: 0.45465115099697667 and parameters: {'learning_rate': 0.03857658335856105, 'max_depth': 21, 'num_leaves': 185, 'feature_fraction': 0.3962434557076392, 'subsample': 0.2, 'lambda_l1': 6.498186778928656, 'lambda_l2': 5.815276725872119, 'bagging_fraction': 0.5952401534730164, 'bagging_freq': 9}. Best is trial 8 with value: 0.39231776491712855.\u001b[0m\n",
            "\u001b[32m[I 2021-11-05 18:09:01,081]\u001b[0m Trial 21 finished with value: 0.43160495552359557 and parameters: {'learning_rate': 0.1101060160816721, 'max_depth': 17, 'num_leaves': 32, 'feature_fraction': 0.3267160279782109, 'subsample': 0.1, 'lambda_l1': 8.972489418330271, 'lambda_l2': 2.599962478912082, 'bagging_fraction': 0.7985545801711956, 'bagging_freq': 6}. Best is trial 8 with value: 0.39231776491712855.\u001b[0m\n",
            "\u001b[32m[I 2021-11-05 18:09:01,494]\u001b[0m Trial 22 finished with value: 0.5653616285340773 and parameters: {'learning_rate': 0.06498726444700806, 'max_depth': 44, 'num_leaves': 82, 'feature_fraction': 0.12282564162989747, 'subsample': 0.7000000000000001, 'lambda_l1': 2.267666766640579, 'lambda_l2': 0.4747571838815656, 'bagging_fraction': 0.27902599968817243, 'bagging_freq': 9}. Best is trial 8 with value: 0.39231776491712855.\u001b[0m\n",
            "\u001b[32m[I 2021-11-05 18:09:02,118]\u001b[0m Trial 23 finished with value: 0.40477597178299646 and parameters: {'learning_rate': 0.15373446107856942, 'max_depth': 27, 'num_leaves': 84, 'feature_fraction': 0.9655991619313904, 'subsample': 1.0, 'lambda_l1': 7.546025235860649, 'lambda_l2': 7.524916057842662, 'bagging_fraction': 0.8573069216306747, 'bagging_freq': 0}. Best is trial 8 with value: 0.39231776491712855.\u001b[0m\n",
            "\u001b[32m[I 2021-11-05 18:09:02,410]\u001b[0m Trial 24 finished with value: 0.5291263534904974 and parameters: {'learning_rate': 0.01814831324254213, 'max_depth': 45, 'num_leaves': 19, 'feature_fraction': 0.32057831800626735, 'subsample': 0.8, 'lambda_l1': 9.20407854699635, 'lambda_l2': 2.866002119672888, 'bagging_fraction': 0.907007739929679, 'bagging_freq': 4}. Best is trial 8 with value: 0.39231776491712855.\u001b[0m\n",
            "\u001b[32m[I 2021-11-05 18:09:02,675]\u001b[0m Trial 25 finished with value: 0.4245646016631859 and parameters: {'learning_rate': 0.43366814617301996, 'max_depth': 11, 'num_leaves': 30, 'feature_fraction': 0.9414424301261707, 'subsample': 0.5, 'lambda_l1': 6.914895102747906, 'lambda_l2': 9.889767217725613, 'bagging_fraction': 0.6382654027476395, 'bagging_freq': 8}. Best is trial 8 with value: 0.39231776491712855.\u001b[0m\n",
            "\u001b[32m[I 2021-11-05 18:09:03,118]\u001b[0m Trial 26 finished with value: 0.43095130922713587 and parameters: {'learning_rate': 0.16184764120945666, 'max_depth': 13, 'num_leaves': 73, 'feature_fraction': 0.3368878880845808, 'subsample': 0.9, 'lambda_l1': 3.9270362135517933, 'lambda_l2': 6.717717920881764, 'bagging_fraction': 0.2890990549420658, 'bagging_freq': 5}. Best is trial 8 with value: 0.39231776491712855.\u001b[0m\n",
            "\u001b[32m[I 2021-11-05 18:09:03,296]\u001b[0m Trial 27 finished with value: 0.6550487087736137 and parameters: {'learning_rate': 0.010624118896907855, 'max_depth': 3, 'num_leaves': 125, 'feature_fraction': 0.41263237748500914, 'subsample': 0.2, 'lambda_l1': 7.021589391196948, 'lambda_l2': 2.61797318587781, 'bagging_fraction': 0.557384600878588, 'bagging_freq': 2}. Best is trial 8 with value: 0.39231776491712855.\u001b[0m\n",
            "\u001b[32m[I 2021-11-05 18:09:03,512]\u001b[0m Trial 28 finished with value: 0.46896722564999155 and parameters: {'learning_rate': 0.05630776184020342, 'max_depth': 42, 'num_leaves': 7, 'feature_fraction': 0.9770499884396366, 'subsample': 0.4, 'lambda_l1': 4.150185761171814, 'lambda_l2': 2.7405524612422436, 'bagging_fraction': 0.21803134436413396, 'bagging_freq': 6}. Best is trial 8 with value: 0.39231776491712855.\u001b[0m\n",
            "\u001b[32m[I 2021-11-05 18:09:03,767]\u001b[0m Trial 29 finished with value: 0.5233043744025859 and parameters: {'learning_rate': 0.014785957310767008, 'max_depth': 5, 'num_leaves': 173, 'feature_fraction': 0.6446556462619029, 'subsample': 0.4, 'lambda_l1': 3.1819320999123644, 'lambda_l2': 8.791578084501715, 'bagging_fraction': 0.40175106622265044, 'bagging_freq': 3}. Best is trial 8 with value: 0.39231776491712855.\u001b[0m\n",
            "\u001b[32m[I 2021-11-05 18:09:04,142]\u001b[0m Trial 30 finished with value: 0.40917342338770224 and parameters: {'learning_rate': 0.22371536868988018, 'max_depth': 16, 'num_leaves': 36, 'feature_fraction': 0.5789365437535177, 'subsample': 0.8, 'lambda_l1': 6.273909277925243, 'lambda_l2': 5.480165182885061, 'bagging_fraction': 0.7640438158283486, 'bagging_freq': 3}. Best is trial 8 with value: 0.39231776491712855.\u001b[0m\n",
            "\u001b[32m[I 2021-11-05 18:09:04,648]\u001b[0m Trial 31 finished with value: 0.41708885527430134 and parameters: {'learning_rate': 0.10504521412395573, 'max_depth': 30, 'num_leaves': 67, 'feature_fraction': 0.48530845080479135, 'subsample': 1.0, 'lambda_l1': 0.11366862495126195, 'lambda_l2': 0.09656494773466084, 'bagging_fraction': 0.553409939896184, 'bagging_freq': 1}. Best is trial 8 with value: 0.39231776491712855.\u001b[0m\n",
            "\u001b[32m[I 2021-11-05 18:09:04,761]\u001b[0m Trial 32 finished with value: 0.6902654347629824 and parameters: {'learning_rate': 0.02212567381922004, 'max_depth': 1, 'num_leaves': 9, 'feature_fraction': 0.7345788755143461, 'subsample': 0.30000000000000004, 'lambda_l1': 9.143479071427244, 'lambda_l2': 0.45355220121133244, 'bagging_fraction': 0.9817175906195578, 'bagging_freq': 4}. Best is trial 8 with value: 0.39231776491712855.\u001b[0m\n",
            "\u001b[32m[I 2021-11-05 18:09:05,652]\u001b[0m Trial 33 finished with value: 0.431598296761684 and parameters: {'learning_rate': 0.020232303638589116, 'max_depth': 11, 'num_leaves': 157, 'feature_fraction': 0.9483429142624383, 'subsample': 0.6, 'lambda_l1': 2.4764697623145224, 'lambda_l2': 0.8040150250548606, 'bagging_fraction': 0.5829266635763327, 'bagging_freq': 8}. Best is trial 8 with value: 0.39231776491712855.\u001b[0m\n",
            "\u001b[32m[I 2021-11-05 18:09:06,010]\u001b[0m Trial 34 finished with value: 0.42324540321992044 and parameters: {'learning_rate': 0.23230699329615845, 'max_depth': 17, 'num_leaves': 42, 'feature_fraction': 0.4242416930082328, 'subsample': 0.30000000000000004, 'lambda_l1': 0.625822361966728, 'lambda_l2': 9.416574382360688, 'bagging_fraction': 0.9030258005716596, 'bagging_freq': 8}. Best is trial 8 with value: 0.39231776491712855.\u001b[0m\n",
            "\u001b[32m[I 2021-11-05 18:09:06,618]\u001b[0m Trial 35 finished with value: 0.4047794546174314 and parameters: {'learning_rate': 0.11857805956232878, 'max_depth': 37, 'num_leaves': 190, 'feature_fraction': 0.6517458328810961, 'subsample': 0.6, 'lambda_l1': 8.929154724785421, 'lambda_l2': 7.745435609324213, 'bagging_fraction': 0.19718534037118696, 'bagging_freq': 0}. Best is trial 8 with value: 0.39231776491712855.\u001b[0m\n",
            "\u001b[32m[I 2021-11-05 18:09:06,712]\u001b[0m Trial 36 finished with value: 0.6469824672873663 and parameters: {'learning_rate': 0.04218551338781236, 'max_depth': 1, 'num_leaves': 181, 'feature_fraction': 0.7628965613041806, 'subsample': 0.8, 'lambda_l1': 2.834186679594012, 'lambda_l2': 3.833629625342999, 'bagging_fraction': 0.3437576383376909, 'bagging_freq': 7}. Best is trial 8 with value: 0.39231776491712855.\u001b[0m\n",
            "\u001b[32m[I 2021-11-05 18:09:06,936]\u001b[0m Trial 37 finished with value: 0.5608643103756981 and parameters: {'learning_rate': 0.07926399690460614, 'max_depth': 5, 'num_leaves': 163, 'feature_fraction': 0.15508019851440505, 'subsample': 0.2, 'lambda_l1': 1.0376554463410659, 'lambda_l2': 3.1547869414817384, 'bagging_fraction': 0.8227932870224103, 'bagging_freq': 9}. Best is trial 8 with value: 0.39231776491712855.\u001b[0m\n",
            "\u001b[32m[I 2021-11-05 18:09:07,041]\u001b[0m Trial 38 finished with value: 0.6256086042924035 and parameters: {'learning_rate': 0.23264443306840094, 'max_depth': 42, 'num_leaves': 177, 'feature_fraction': 0.11664659237607554, 'subsample': 0.5, 'lambda_l1': 6.650419301515362, 'lambda_l2': 2.0885417217856848, 'bagging_fraction': 0.009477437954678591, 'bagging_freq': 3}. Best is trial 8 with value: 0.39231776491712855.\u001b[0m\n",
            "\u001b[32m[I 2021-11-05 18:09:07,679]\u001b[0m Trial 39 finished with value: 0.4240644329716608 and parameters: {'learning_rate': 0.021184631626167186, 'max_depth': 10, 'num_leaves': 89, 'feature_fraction': 0.6825451759801917, 'subsample': 0.2, 'lambda_l1': 4.822189239799123, 'lambda_l2': 6.773380393910243, 'bagging_fraction': 0.8876390162533724, 'bagging_freq': 10}. Best is trial 8 with value: 0.39231776491712855.\u001b[0m\n",
            "\u001b[32m[I 2021-11-05 18:09:08,269]\u001b[0m Trial 40 finished with value: 0.5591970811545 and parameters: {'learning_rate': 0.02516870934152291, 'max_depth': 14, 'num_leaves': 105, 'feature_fraction': 0.27514230577588317, 'subsample': 0.8, 'lambda_l1': 1.8032350158055532, 'lambda_l2': 6.69415798251756, 'bagging_fraction': 0.7652551014936447, 'bagging_freq': 0}. Best is trial 8 with value: 0.39231776491712855.\u001b[0m\n",
            "\u001b[32m[I 2021-11-05 18:09:08,523]\u001b[0m Trial 41 finished with value: 0.4732867455861121 and parameters: {'learning_rate': 0.023647130834586614, 'max_depth': 5, 'num_leaves': 127, 'feature_fraction': 0.9345288558872756, 'subsample': 0.7000000000000001, 'lambda_l1': 2.882837047858028, 'lambda_l2': 8.249725295080735, 'bagging_fraction': 0.5202806730802932, 'bagging_freq': 9}. Best is trial 8 with value: 0.39231776491712855.\u001b[0m\n",
            "\u001b[32m[I 2021-11-05 18:09:08,807]\u001b[0m Trial 42 finished with value: 0.6778364401916422 and parameters: {'learning_rate': 0.020889296158156125, 'max_depth': 7, 'num_leaves': 48, 'feature_fraction': 0.15779372004363285, 'subsample': 0.9, 'lambda_l1': 3.5490162988114458, 'lambda_l2': 0.8702891547258385, 'bagging_fraction': 0.6162770399385784, 'bagging_freq': 6}. Best is trial 8 with value: 0.39231776491712855.\u001b[0m\n",
            "\u001b[32m[I 2021-11-05 18:09:08,960]\u001b[0m Trial 43 finished with value: 0.5796487456875573 and parameters: {'learning_rate': 0.016855336533531575, 'max_depth': 3, 'num_leaves': 181, 'feature_fraction': 0.7430747046616597, 'subsample': 0.8, 'lambda_l1': 1.207831662489669, 'lambda_l2': 4.48410763370683, 'bagging_fraction': 0.6166369113689356, 'bagging_freq': 6}. Best is trial 8 with value: 0.39231776491712855.\u001b[0m\n",
            "\u001b[32m[I 2021-11-05 18:09:09,381]\u001b[0m Trial 44 finished with value: 0.42504328333053637 and parameters: {'learning_rate': 0.3954662014498342, 'max_depth': 26, 'num_leaves': 118, 'feature_fraction': 0.5824294010934025, 'subsample': 0.1, 'lambda_l1': 5.429696493411149, 'lambda_l2': 4.146186397704578, 'bagging_fraction': 0.4433370163981082, 'bagging_freq': 9}. Best is trial 8 with value: 0.39231776491712855.\u001b[0m\n",
            "\u001b[32m[I 2021-11-05 18:09:09,489]\u001b[0m Trial 45 finished with value: 0.6372928030953792 and parameters: {'learning_rate': 0.08880988750658725, 'max_depth': 1, 'num_leaves': 81, 'feature_fraction': 0.16919289630676987, 'subsample': 0.8, 'lambda_l1': 4.575128070872411, 'lambda_l2': 0.48438482713103137, 'bagging_fraction': 0.8933591051063426, 'bagging_freq': 8}. Best is trial 8 with value: 0.39231776491712855.\u001b[0m\n",
            "\u001b[32m[I 2021-11-05 18:09:09,998]\u001b[0m Trial 46 finished with value: 0.42858358968868704 and parameters: {'learning_rate': 0.36306906725211613, 'max_depth': 41, 'num_leaves': 155, 'feature_fraction': 0.9211214705231247, 'subsample': 0.2, 'lambda_l1': 4.733754501024432, 'lambda_l2': 1.2510809731421213, 'bagging_fraction': 0.3586576730494565, 'bagging_freq': 6}. Best is trial 8 with value: 0.39231776491712855.\u001b[0m\n",
            "\u001b[32m[I 2021-11-05 18:09:10,340]\u001b[0m Trial 47 finished with value: 0.47007914608458395 and parameters: {'learning_rate': 0.017171668638654814, 'max_depth': 44, 'num_leaves': 197, 'feature_fraction': 0.6393269852303198, 'subsample': 0.30000000000000004, 'lambda_l1': 1.1454821379158409, 'lambda_l2': 6.504222962691912, 'bagging_fraction': 0.10646658895133754, 'bagging_freq': 10}. Best is trial 8 with value: 0.39231776491712855.\u001b[0m\n",
            "\u001b[32m[I 2021-11-05 18:09:10,726]\u001b[0m Trial 48 finished with value: 0.4793093320595564 and parameters: {'learning_rate': 0.08436517669572031, 'max_depth': 29, 'num_leaves': 158, 'feature_fraction': 0.2687521902087277, 'subsample': 0.1, 'lambda_l1': 9.883933104925232, 'lambda_l2': 1.769430587242401, 'bagging_fraction': 0.8265644472745802, 'bagging_freq': 1}. Best is trial 8 with value: 0.39231776491712855.\u001b[0m\n",
            "\u001b[32m[I 2021-11-05 18:09:10,881]\u001b[0m Trial 49 finished with value: 0.4356421882975021 and parameters: {'learning_rate': 0.33176816938988013, 'max_depth': 3, 'num_leaves': 129, 'feature_fraction': 0.7418504195709283, 'subsample': 0.7000000000000001, 'lambda_l1': 3.6720172838042298, 'lambda_l2': 1.0316427203780432, 'bagging_fraction': 0.521810415301448, 'bagging_freq': 4}. Best is trial 8 with value: 0.39231776491712855.\u001b[0m\n",
            "\u001b[32m[I 2021-11-05 18:09:11,082]\u001b[0m Trial 50 finished with value: 0.4604484671168499 and parameters: {'learning_rate': 0.19626858468111985, 'max_depth': 6, 'num_leaves': 194, 'feature_fraction': 0.9642332180433457, 'subsample': 0.30000000000000004, 'lambda_l1': 6.063871405421574, 'lambda_l2': 2.684464931076871, 'bagging_fraction': 0.06177200592961862, 'bagging_freq': 2}. Best is trial 8 with value: 0.39231776491712855.\u001b[0m\n",
            "\u001b[32m[I 2021-11-05 18:09:12,001]\u001b[0m Trial 51 finished with value: 0.4660773078866379 and parameters: {'learning_rate': 0.0109356520228497, 'max_depth': 40, 'num_leaves': 125, 'feature_fraction': 0.9551223783688425, 'subsample': 0.5, 'lambda_l1': 0.3107727078922662, 'lambda_l2': 1.2190075768191067, 'bagging_fraction': 0.30610097769386846, 'bagging_freq': 5}. Best is trial 8 with value: 0.39231776491712855.\u001b[0m\n",
            "\u001b[32m[I 2021-11-05 18:09:12,115]\u001b[0m Trial 52 finished with value: 0.7680353272268542 and parameters: {'learning_rate': 0.030185280936432763, 'max_depth': 1, 'num_leaves': 45, 'feature_fraction': 0.17337915238083318, 'subsample': 0.5, 'lambda_l1': 5.315783693182626, 'lambda_l2': 3.5634996569226365, 'bagging_fraction': 0.6513969793297842, 'bagging_freq': 2}. Best is trial 8 with value: 0.39231776491712855.\u001b[0m\n",
            "\u001b[32m[I 2021-11-05 18:09:12,806]\u001b[0m Trial 53 finished with value: 0.41982269309219916 and parameters: {'learning_rate': 0.2055756295264118, 'max_depth': 46, 'num_leaves': 152, 'feature_fraction': 0.32753868563381916, 'subsample': 0.6, 'lambda_l1': 6.154763109641676, 'lambda_l2': 0.7214618018940833, 'bagging_fraction': 0.7972371739648882, 'bagging_freq': 3}. Best is trial 8 with value: 0.39231776491712855.\u001b[0m\n",
            "\u001b[32m[I 2021-11-05 18:09:13,352]\u001b[0m Trial 54 finished with value: 0.42223203112397 and parameters: {'learning_rate': 0.1445729355494994, 'max_depth': 44, 'num_leaves': 61, 'feature_fraction': 0.5213571801427195, 'subsample': 0.2, 'lambda_l1': 5.069285451965975, 'lambda_l2': 6.483919747999909, 'bagging_fraction': 0.40464810906987914, 'bagging_freq': 3}. Best is trial 8 with value: 0.39231776491712855.\u001b[0m\n",
            "\u001b[32m[I 2021-11-05 18:09:13,657]\u001b[0m Trial 55 finished with value: 0.41554817201151545 and parameters: {'learning_rate': 0.0976600832739394, 'max_depth': 45, 'num_leaves': 19, 'feature_fraction': 0.952176076292339, 'subsample': 0.6, 'lambda_l1': 1.098450339652487, 'lambda_l2': 7.0617030249563415, 'bagging_fraction': 0.7959608791551966, 'bagging_freq': 6}. Best is trial 8 with value: 0.39231776491712855.\u001b[0m\n",
            "\u001b[32m[I 2021-11-05 18:09:14,323]\u001b[0m Trial 56 finished with value: 0.40933579522409647 and parameters: {'learning_rate': 0.032485230206563395, 'max_depth': 19, 'num_leaves': 69, 'feature_fraction': 0.7836713834568988, 'subsample': 0.2, 'lambda_l1': 4.940449602062631, 'lambda_l2': 4.409879420857553, 'bagging_fraction': 0.9412995277963272, 'bagging_freq': 6}. Best is trial 8 with value: 0.39231776491712855.\u001b[0m\n",
            "\u001b[32m[I 2021-11-05 18:09:15,039]\u001b[0m Trial 57 finished with value: 0.4770387775709454 and parameters: {'learning_rate': 0.012764356482739922, 'max_depth': 8, 'num_leaves': 130, 'feature_fraction': 0.9601904148678788, 'subsample': 0.4, 'lambda_l1': 1.6403158843437993, 'lambda_l2': 9.400806884594914, 'bagging_fraction': 0.4866418091802468, 'bagging_freq': 0}. Best is trial 8 with value: 0.39231776491712855.\u001b[0m\n",
            "\u001b[32m[I 2021-11-05 18:09:15,255]\u001b[0m Trial 58 finished with value: 0.5408380220774227 and parameters: {'learning_rate': 0.015851405304661698, 'max_depth': 4, 'num_leaves': 92, 'feature_fraction': 0.7796294676837487, 'subsample': 0.8, 'lambda_l1': 1.2952517671672903, 'lambda_l2': 9.992825279195252, 'bagging_fraction': 0.694864243344992, 'bagging_freq': 9}. Best is trial 8 with value: 0.39231776491712855.\u001b[0m\n",
            "\u001b[32m[I 2021-11-05 18:09:15,604]\u001b[0m Trial 59 finished with value: 0.4536821864494686 and parameters: {'learning_rate': 0.38165331370957023, 'max_depth': 45, 'num_leaves': 101, 'feature_fraction': 0.2173705107056556, 'subsample': 0.1, 'lambda_l1': 9.051848767209647, 'lambda_l2': 7.692787998141027, 'bagging_fraction': 0.9530914168661547, 'bagging_freq': 1}. Best is trial 8 with value: 0.39231776491712855.\u001b[0m\n",
            "\u001b[32m[I 2021-11-05 18:09:16,246]\u001b[0m Trial 60 finished with value: 0.42716789946793027 and parameters: {'learning_rate': 0.24247915513719293, 'max_depth': 34, 'num_leaves': 95, 'feature_fraction': 0.39915329616591444, 'subsample': 0.4, 'lambda_l1': 3.1230504400960246, 'lambda_l2': 6.59108093589071, 'bagging_fraction': 0.5589364934090489, 'bagging_freq': 3}. Best is trial 8 with value: 0.39231776491712855.\u001b[0m\n",
            "\u001b[32m[I 2021-11-05 18:09:16,653]\u001b[0m Trial 61 finished with value: 0.4333677292023137 and parameters: {'learning_rate': 0.08122981589219977, 'max_depth': 47, 'num_leaves': 49, 'feature_fraction': 0.3942008025740189, 'subsample': 0.7000000000000001, 'lambda_l1': 8.545429427415819, 'lambda_l2': 1.625572705950885, 'bagging_fraction': 0.6655602854431086, 'bagging_freq': 9}. Best is trial 8 with value: 0.39231776491712855.\u001b[0m\n",
            "\u001b[32m[I 2021-11-05 18:09:16,800]\u001b[0m Trial 62 finished with value: 0.547164939461638 and parameters: {'learning_rate': 0.07151846795729443, 'max_depth': 3, 'num_leaves': 65, 'feature_fraction': 0.202821222548594, 'subsample': 0.30000000000000004, 'lambda_l1': 8.287991708402762, 'lambda_l2': 6.323331825263453, 'bagging_fraction': 0.7273860969498113, 'bagging_freq': 9}. Best is trial 8 with value: 0.39231776491712855.\u001b[0m\n",
            "\u001b[32m[I 2021-11-05 18:09:17,457]\u001b[0m Trial 63 finished with value: 0.4422705751963039 and parameters: {'learning_rate': 0.03941224234217954, 'max_depth': 46, 'num_leaves': 93, 'feature_fraction': 0.3450008707236726, 'subsample': 0.7000000000000001, 'lambda_l1': 5.000851371195633, 'lambda_l2': 6.262509468288375, 'bagging_fraction': 0.04066570292517513, 'bagging_freq': 0}. Best is trial 8 with value: 0.39231776491712855.\u001b[0m\n",
            "\u001b[32m[I 2021-11-05 18:09:17,884]\u001b[0m Trial 64 finished with value: 0.5535056029101396 and parameters: {'learning_rate': 0.013043189814851468, 'max_depth': 15, 'num_leaves': 191, 'feature_fraction': 0.5445359522281794, 'subsample': 0.2, 'lambda_l1': 3.903157374342159, 'lambda_l2': 5.414617745711422, 'bagging_fraction': 0.15856541354836517, 'bagging_freq': 6}. Best is trial 8 with value: 0.39231776491712855.\u001b[0m\n",
            "\u001b[32m[I 2021-11-05 18:09:18,021]\u001b[0m Trial 65 finished with value: 0.593991778864701 and parameters: {'learning_rate': 0.023600069478008436, 'max_depth': 2, 'num_leaves': 89, 'feature_fraction': 0.8815744500332076, 'subsample': 0.5, 'lambda_l1': 2.6182854152944013, 'lambda_l2': 8.035895147273674, 'bagging_fraction': 0.6499397179100851, 'bagging_freq': 1}. Best is trial 8 with value: 0.39231776491712855.\u001b[0m\n",
            "\u001b[32m[I 2021-11-05 18:09:18,973]\u001b[0m Trial 66 finished with value: 0.549489603036453 and parameters: {'learning_rate': 0.028602266670866842, 'max_depth': 45, 'num_leaves': 166, 'feature_fraction': 0.27900477914713334, 'subsample': 0.5, 'lambda_l1': 1.9305387906409577, 'lambda_l2': 8.152614662802641, 'bagging_fraction': 0.8892012267365272, 'bagging_freq': 6}. Best is trial 8 with value: 0.39231776491712855.\u001b[0m\n",
            "\u001b[32m[I 2021-11-05 18:09:19,839]\u001b[0m Trial 67 finished with value: 0.4243395921526643 and parameters: {'learning_rate': 0.442133149138627, 'max_depth': 28, 'num_leaves': 177, 'feature_fraction': 0.9856803953932535, 'subsample': 1.0, 'lambda_l1': 5.87298067316396, 'lambda_l2': 9.944146789238214, 'bagging_fraction': 0.7578386084237156, 'bagging_freq': 1}. Best is trial 8 with value: 0.39231776491712855.\u001b[0m\n",
            "\u001b[32m[I 2021-11-05 18:09:20,267]\u001b[0m Trial 68 finished with value: 0.4337197635419708 and parameters: {'learning_rate': 0.03910199362949683, 'max_depth': 35, 'num_leaves': 158, 'feature_fraction': 0.7241971373826007, 'subsample': 0.6, 'lambda_l1': 2.5522215453877504, 'lambda_l2': 5.701865240799256, 'bagging_fraction': 0.1457437404755526, 'bagging_freq': 8}. Best is trial 8 with value: 0.39231776491712855.\u001b[0m\n",
            "\u001b[32m[I 2021-11-05 18:09:20,782]\u001b[0m Trial 69 finished with value: 0.43419803124136924 and parameters: {'learning_rate': 0.13743945082900705, 'max_depth': 17, 'num_leaves': 173, 'feature_fraction': 0.7333546858576577, 'subsample': 0.1, 'lambda_l1': 0.14645347480843451, 'lambda_l2': 4.141592992072591, 'bagging_fraction': 0.18344759503924468, 'bagging_freq': 10}. Best is trial 8 with value: 0.39231776491712855.\u001b[0m\n",
            "\u001b[32m[I 2021-11-05 18:09:21,086]\u001b[0m Trial 70 finished with value: 0.5229878183389379 and parameters: {'learning_rate': 0.011031947196406855, 'max_depth': 30, 'num_leaves': 84, 'feature_fraction': 0.6165270461277245, 'subsample': 0.6, 'lambda_l1': 2.3693159634758243, 'lambda_l2': 1.865238442567111, 'bagging_fraction': 0.09265173739601351, 'bagging_freq': 1}. Best is trial 8 with value: 0.39231776491712855.\u001b[0m\n",
            "\u001b[32m[I 2021-11-05 18:09:21,219]\u001b[0m Trial 71 finished with value: 0.44230768322902897 and parameters: {'learning_rate': 0.15680064061568266, 'max_depth': 3, 'num_leaves': 105, 'feature_fraction': 0.8239558422235189, 'subsample': 0.6, 'lambda_l1': 9.60131197992761, 'lambda_l2': 6.83617074403267, 'bagging_fraction': 0.32380817015717067, 'bagging_freq': 0}. Best is trial 8 with value: 0.39231776491712855.\u001b[0m\n",
            "\u001b[32m[I 2021-11-05 18:09:21,656]\u001b[0m Trial 72 finished with value: 0.46410771792674094 and parameters: {'learning_rate': 0.14609421792691066, 'max_depth': 36, 'num_leaves': 73, 'feature_fraction': 0.26299961329166677, 'subsample': 0.4, 'lambda_l1': 6.494236839124343, 'lambda_l2': 1.808940806346312, 'bagging_fraction': 0.7057818517023404, 'bagging_freq': 5}. Best is trial 8 with value: 0.39231776491712855.\u001b[0m\n",
            "\u001b[32m[I 2021-11-05 18:09:21,912]\u001b[0m Trial 73 finished with value: 0.5289307344643763 and parameters: {'learning_rate': 0.20895503186235118, 'max_depth': 23, 'num_leaves': 34, 'feature_fraction': 0.16609209721027227, 'subsample': 0.30000000000000004, 'lambda_l1': 6.8941915337329664, 'lambda_l2': 2.382039085868005, 'bagging_fraction': 0.5760316435540924, 'bagging_freq': 4}. Best is trial 8 with value: 0.39231776491712855.\u001b[0m\n",
            "\u001b[32m[I 2021-11-05 18:09:22,341]\u001b[0m Trial 74 finished with value: 0.48856505109851217 and parameters: {'learning_rate': 0.017405577896488566, 'max_depth': 11, 'num_leaves': 190, 'feature_fraction': 0.67426883285371, 'subsample': 1.0, 'lambda_l1': 6.850415386338597, 'lambda_l2': 8.539062116266617, 'bagging_fraction': 0.1800372258944729, 'bagging_freq': 4}. Best is trial 8 with value: 0.39231776491712855.\u001b[0m\n",
            "\u001b[32m[I 2021-11-05 18:09:22,449]\u001b[0m Trial 75 finished with value: 0.5058066080316674 and parameters: {'learning_rate': 0.07147729356258745, 'max_depth': 2, 'num_leaves': 110, 'feature_fraction': 0.7969260346458152, 'subsample': 0.1, 'lambda_l1': 7.428962456255832, 'lambda_l2': 2.690467455984036, 'bagging_fraction': 0.49938441541865874, 'bagging_freq': 0}. Best is trial 8 with value: 0.39231776491712855.\u001b[0m\n",
            "\u001b[32m[I 2021-11-05 18:09:23,238]\u001b[0m Trial 76 finished with value: 0.4687234042431558 and parameters: {'learning_rate': 0.021358012163168596, 'max_depth': 11, 'num_leaves': 179, 'feature_fraction': 0.4744590501096403, 'subsample': 0.7000000000000001, 'lambda_l1': 4.769644976644813, 'lambda_l2': 8.373522535825707, 'bagging_fraction': 0.4902051742289928, 'bagging_freq': 0}. Best is trial 8 with value: 0.39231776491712855.\u001b[0m\n",
            "\u001b[32m[I 2021-11-05 18:09:23,658]\u001b[0m Trial 77 finished with value: 0.4049042470589009 and parameters: {'learning_rate': 0.19277700787276988, 'max_depth': 34, 'num_leaves': 46, 'feature_fraction': 0.7837597801366144, 'subsample': 0.6, 'lambda_l1': 0.9324692616937391, 'lambda_l2': 7.355330006155595, 'bagging_fraction': 0.669885160193835, 'bagging_freq': 3}. Best is trial 8 with value: 0.39231776491712855.\u001b[0m\n",
            "\u001b[32m[I 2021-11-05 18:09:24,047]\u001b[0m Trial 78 finished with value: 0.43704182551770376 and parameters: {'learning_rate': 0.18533252230855984, 'max_depth': 10, 'num_leaves': 182, 'feature_fraction': 0.3338307167045542, 'subsample': 0.4, 'lambda_l1': 0.17009686829626114, 'lambda_l2': 1.470708630232106, 'bagging_fraction': 0.25934436219539736, 'bagging_freq': 0}. Best is trial 8 with value: 0.39231776491712855.\u001b[0m\n",
            "\u001b[32m[I 2021-11-05 18:09:24,684]\u001b[0m Trial 79 finished with value: 0.4071036019740923 and parameters: {'learning_rate': 0.17024938851515195, 'max_depth': 9, 'num_leaves': 179, 'feature_fraction': 0.9982652970754872, 'subsample': 0.5, 'lambda_l1': 4.517690359485637, 'lambda_l2': 2.82126840117415, 'bagging_fraction': 0.7155149552556823, 'bagging_freq': 1}. Best is trial 8 with value: 0.39231776491712855.\u001b[0m\n",
            "\u001b[32m[I 2021-11-05 18:09:24,811]\u001b[0m Trial 80 finished with value: 0.59810914083557 and parameters: {'learning_rate': 0.016499269996682782, 'max_depth': 3, 'num_leaves': 161, 'feature_fraction': 0.5442206424608604, 'subsample': 1.0, 'lambda_l1': 0.2129592236380773, 'lambda_l2': 5.153179407852666, 'bagging_fraction': 0.09578253596836883, 'bagging_freq': 8}. Best is trial 8 with value: 0.39231776491712855.\u001b[0m\n",
            "\u001b[32m[I 2021-11-05 18:09:25,127]\u001b[0m Trial 81 finished with value: 0.4239881472840578 and parameters: {'learning_rate': 0.15227662586412086, 'max_depth': 19, 'num_leaves': 32, 'feature_fraction': 0.5065659983653722, 'subsample': 0.4, 'lambda_l1': 0.2296768328720511, 'lambda_l2': 7.5108262599259925, 'bagging_fraction': 0.594728801085365, 'bagging_freq': 4}. Best is trial 8 with value: 0.39231776491712855.\u001b[0m\n",
            "\u001b[32m[I 2021-11-05 18:09:25,521]\u001b[0m Trial 82 finished with value: 0.41781716629843013 and parameters: {'learning_rate': 0.1504293372465807, 'max_depth': 26, 'num_leaves': 43, 'feature_fraction': 0.7033650709966576, 'subsample': 1.0, 'lambda_l1': 4.158362557403109, 'lambda_l2': 5.354017595213353, 'bagging_fraction': 0.4002388893830612, 'bagging_freq': 7}. Best is trial 8 with value: 0.39231776491712855.\u001b[0m\n",
            "\u001b[32m[I 2021-11-05 18:09:25,629]\u001b[0m Trial 83 finished with value: 0.5931049736646611 and parameters: {'learning_rate': 0.13164417672180193, 'max_depth': 1, 'num_leaves': 140, 'feature_fraction': 0.22391851293260756, 'subsample': 0.6, 'lambda_l1': 8.571732482236003, 'lambda_l2': 1.9504487362260914, 'bagging_fraction': 0.6612146514799677, 'bagging_freq': 2}. Best is trial 8 with value: 0.39231776491712855.\u001b[0m\n",
            "\u001b[32m[I 2021-11-05 18:09:26,037]\u001b[0m Trial 84 finished with value: 0.6909423790680626 and parameters: {'learning_rate': 0.010098633754404358, 'max_depth': 36, 'num_leaves': 53, 'feature_fraction': 0.2480117389265528, 'subsample': 0.30000000000000004, 'lambda_l1': 1.0207039766989079, 'lambda_l2': 9.851350837193024, 'bagging_fraction': 0.7553716831939278, 'bagging_freq': 10}. Best is trial 8 with value: 0.39231776491712855.\u001b[0m\n",
            "\u001b[32m[I 2021-11-05 18:09:26,197]\u001b[0m Trial 85 finished with value: 0.5172503785994784 and parameters: {'learning_rate': 0.02965594273831403, 'max_depth': 3, 'num_leaves': 155, 'feature_fraction': 0.8274896787408553, 'subsample': 0.9, 'lambda_l1': 2.0781656387057024, 'lambda_l2': 2.1204405994497924, 'bagging_fraction': 0.8286583262520445, 'bagging_freq': 6}. Best is trial 8 with value: 0.39231776491712855.\u001b[0m\n",
            "\u001b[32m[I 2021-11-05 18:09:26,807]\u001b[0m Trial 86 finished with value: 0.3984642813649193 and parameters: {'learning_rate': 0.07891205349326143, 'max_depth': 49, 'num_leaves': 80, 'feature_fraction': 0.6646678340721923, 'subsample': 0.30000000000000004, 'lambda_l1': 0.5618994440418901, 'lambda_l2': 4.6258379126748, 'bagging_fraction': 0.9109129807395262, 'bagging_freq': 7}. Best is trial 8 with value: 0.39231776491712855.\u001b[0m\n",
            "\u001b[32m[I 2021-11-05 18:09:26,924]\u001b[0m Trial 87 finished with value: 0.674061376605752 and parameters: {'learning_rate': 0.027610301668211306, 'max_depth': 1, 'num_leaves': 137, 'feature_fraction': 0.973664598040226, 'subsample': 0.1, 'lambda_l1': 8.601950060125365, 'lambda_l2': 7.699897709664091, 'bagging_fraction': 0.3427083311546377, 'bagging_freq': 1}. Best is trial 8 with value: 0.39231776491712855.\u001b[0m\n",
            "\u001b[32m[I 2021-11-05 18:09:27,338]\u001b[0m Trial 88 finished with value: 0.4137719200149099 and parameters: {'learning_rate': 0.07424500814586787, 'max_depth': 7, 'num_leaves': 95, 'feature_fraction': 0.7590657978375086, 'subsample': 0.9, 'lambda_l1': 6.789629794491648, 'lambda_l2': 1.7025967489918825, 'bagging_fraction': 0.8474317169480134, 'bagging_freq': 8}. Best is trial 8 with value: 0.39231776491712855.\u001b[0m\n",
            "\u001b[32m[I 2021-11-05 18:09:28,192]\u001b[0m Trial 89 finished with value: 0.4857917736398233 and parameters: {'learning_rate': 0.016442249536652485, 'max_depth': 47, 'num_leaves': 129, 'feature_fraction': 0.5368276489016223, 'subsample': 0.9, 'lambda_l1': 1.372946655192968, 'lambda_l2': 7.272709563267888, 'bagging_fraction': 0.5382066770820813, 'bagging_freq': 6}. Best is trial 8 with value: 0.39231776491712855.\u001b[0m\n",
            "\u001b[32m[I 2021-11-05 18:09:28,838]\u001b[0m Trial 90 finished with value: 0.40457516645014946 and parameters: {'learning_rate': 0.17407871559978325, 'max_depth': 23, 'num_leaves': 111, 'feature_fraction': 0.7851254498296097, 'subsample': 0.2, 'lambda_l1': 4.837358686373117, 'lambda_l2': 6.105269289357173, 'bagging_fraction': 0.5742011258437955, 'bagging_freq': 3}. Best is trial 8 with value: 0.39231776491712855.\u001b[0m\n",
            "\u001b[32m[I 2021-11-05 18:09:29,202]\u001b[0m Trial 91 finished with value: 0.40478309250451544 and parameters: {'learning_rate': 0.06520586663627598, 'max_depth': 33, 'num_leaves': 41, 'feature_fraction': 0.7711726674778997, 'subsample': 0.2, 'lambda_l1': 3.2441625601062665, 'lambda_l2': 1.5334571954099985, 'bagging_fraction': 0.4332268675480391, 'bagging_freq': 0}. Best is trial 8 with value: 0.39231776491712855.\u001b[0m\n",
            "\u001b[32m[I 2021-11-05 18:09:29,403]\u001b[0m Trial 92 finished with value: 0.44842137710885327 and parameters: {'learning_rate': 0.4318882529824602, 'max_depth': 25, 'num_leaves': 153, 'feature_fraction': 0.8415582137027692, 'subsample': 0.2, 'lambda_l1': 3.554523455831987, 'lambda_l2': 8.077047768160616, 'bagging_fraction': 0.2891918318646757, 'bagging_freq': 4}. Best is trial 8 with value: 0.39231776491712855.\u001b[0m\n",
            "\u001b[32m[I 2021-11-05 18:09:30,259]\u001b[0m Trial 93 finished with value: 0.426824215216919 and parameters: {'learning_rate': 0.06788183380719272, 'max_depth': 42, 'num_leaves': 130, 'feature_fraction': 0.35223555176232235, 'subsample': 0.30000000000000004, 'lambda_l1': 2.8341306222295892, 'lambda_l2': 7.076649448875712, 'bagging_fraction': 0.9970511925976736, 'bagging_freq': 9}. Best is trial 8 with value: 0.39231776491712855.\u001b[0m\n",
            "\u001b[32m[I 2021-11-05 18:09:30,514]\u001b[0m Trial 94 finished with value: 0.4441057949628158 and parameters: {'learning_rate': 0.3089591380568224, 'max_depth': 47, 'num_leaves': 19, 'feature_fraction': 0.34074746617476753, 'subsample': 0.7000000000000001, 'lambda_l1': 0.4297557850359601, 'lambda_l2': 8.031170460561754, 'bagging_fraction': 0.4706732325410006, 'bagging_freq': 1}. Best is trial 8 with value: 0.39231776491712855.\u001b[0m\n",
            "\u001b[32m[I 2021-11-05 18:09:31,226]\u001b[0m Trial 95 finished with value: 0.3983026811443356 and parameters: {'learning_rate': 0.09111291293662392, 'max_depth': 19, 'num_leaves': 130, 'feature_fraction': 0.7970389436351901, 'subsample': 0.5, 'lambda_l1': 0.47803735377687007, 'lambda_l2': 0.03838377170633178, 'bagging_fraction': 0.5394972859194602, 'bagging_freq': 0}. Best is trial 8 with value: 0.39231776491712855.\u001b[0m\n",
            "\u001b[32m[I 2021-11-05 18:09:31,638]\u001b[0m Trial 96 finished with value: 0.440550038584627 and parameters: {'learning_rate': 0.16942383151674614, 'max_depth': 42, 'num_leaves': 162, 'feature_fraction': 0.31708079855381066, 'subsample': 0.7000000000000001, 'lambda_l1': 1.2631600168833046, 'lambda_l2': 1.7325413778971777, 'bagging_fraction': 0.4002722357695141, 'bagging_freq': 5}. Best is trial 8 with value: 0.39231776491712855.\u001b[0m\n",
            "\u001b[32m[I 2021-11-05 18:09:31,780]\u001b[0m Trial 97 finished with value: 0.691402072877554 and parameters: {'learning_rate': 0.021553957126278014, 'max_depth': 14, 'num_leaves': 8, 'feature_fraction': 0.10034643356779924, 'subsample': 0.1, 'lambda_l1': 2.2569543905592604, 'lambda_l2': 3.3068539370878334, 'bagging_fraction': 0.2601540565821666, 'bagging_freq': 7}. Best is trial 8 with value: 0.39231776491712855.\u001b[0m\n",
            "\u001b[32m[I 2021-11-05 18:09:31,956]\u001b[0m Trial 98 finished with value: 0.5311946575576387 and parameters: {'learning_rate': 0.04080850005907763, 'max_depth': 23, 'num_leaves': 99, 'feature_fraction': 0.4013938991941718, 'subsample': 0.2, 'lambda_l1': 8.55909766907152, 'lambda_l2': 5.331170423506534, 'bagging_fraction': 0.0662365399721202, 'bagging_freq': 9}. Best is trial 8 with value: 0.39231776491712855.\u001b[0m\n",
            "\u001b[32m[I 2021-11-05 18:09:32,395]\u001b[0m Trial 99 finished with value: 0.4068655871584665 and parameters: {'learning_rate': 0.43689479156508915, 'max_depth': 14, 'num_leaves': 103, 'feature_fraction': 0.6766401167407086, 'subsample': 0.1, 'lambda_l1': 8.992218387545313, 'lambda_l2': 1.4057111120863697, 'bagging_fraction': 0.8052454240469576, 'bagging_freq': 1}. Best is trial 8 with value: 0.39231776491712855.\u001b[0m\n",
            "\u001b[32m[I 2021-11-05 18:09:32,669]\u001b[0m Trial 100 finished with value: 0.4182398610148782 and parameters: {'learning_rate': 0.10697575630614621, 'max_depth': 5, 'num_leaves': 174, 'feature_fraction': 0.7692543406055652, 'subsample': 1.0, 'lambda_l1': 1.2865403927171937, 'lambda_l2': 9.071904933155054, 'bagging_fraction': 0.8803299916725111, 'bagging_freq': 4}. Best is trial 8 with value: 0.39231776491712855.\u001b[0m\n",
            "\u001b[32m[I 2021-11-05 18:09:33,044]\u001b[0m Trial 101 finished with value: 0.43855603357994144 and parameters: {'learning_rate': 0.023891325973988752, 'max_depth': 47, 'num_leaves': 190, 'feature_fraction': 0.6313486311997123, 'subsample': 0.1, 'lambda_l1': 1.6778518228468708, 'lambda_l2': 0.827596708293773, 'bagging_fraction': 0.11967820983034283, 'bagging_freq': 7}. Best is trial 8 with value: 0.39231776491712855.\u001b[0m\n",
            "\u001b[32m[I 2021-11-05 18:09:34,056]\u001b[0m Trial 102 finished with value: 0.40157303897878743 and parameters: {'learning_rate': 0.05608148464678724, 'max_depth': 13, 'num_leaves': 154, 'feature_fraction': 0.9170446864359398, 'subsample': 0.2, 'lambda_l1': 3.361464412542734, 'lambda_l2': 8.787852854389692, 'bagging_fraction': 0.955311738766679, 'bagging_freq': 10}. Best is trial 8 with value: 0.39231776491712855.\u001b[0m\n",
            "\u001b[32m[I 2021-11-05 18:09:34,331]\u001b[0m Trial 103 finished with value: 0.5656786612341845 and parameters: {'learning_rate': 0.01532885565988886, 'max_depth': 43, 'num_leaves': 32, 'feature_fraction': 0.31654870205684693, 'subsample': 0.1, 'lambda_l1': 7.589043017095363, 'lambda_l2': 1.0994233561834765, 'bagging_fraction': 0.13329668305558406, 'bagging_freq': 1}. Best is trial 8 with value: 0.39231776491712855.\u001b[0m\n",
            "\u001b[32m[I 2021-11-05 18:09:34,487]\u001b[0m Trial 104 finished with value: 0.4337550486235083 and parameters: {'learning_rate': 0.17270380826930398, 'max_depth': 21, 'num_leaves': 7, 'feature_fraction': 0.9207562786960801, 'subsample': 0.9, 'lambda_l1': 1.4499132398474701, 'lambda_l2': 5.2845339341027255, 'bagging_fraction': 0.5648815001122527, 'bagging_freq': 8}. Best is trial 8 with value: 0.39231776491712855.\u001b[0m\n",
            "\u001b[32m[I 2021-11-05 18:09:34,686]\u001b[0m Trial 105 finished with value: 0.43718965414544925 and parameters: {'learning_rate': 0.3412319115518575, 'max_depth': 37, 'num_leaves': 45, 'feature_fraction': 0.6337464123912779, 'subsample': 0.7000000000000001, 'lambda_l1': 3.9940420101039753, 'lambda_l2': 5.409164746183835, 'bagging_fraction': 0.22239942762203613, 'bagging_freq': 2}. Best is trial 8 with value: 0.39231776491712855.\u001b[0m\n",
            "\u001b[32m[I 2021-11-05 18:09:34,913]\u001b[0m Trial 106 finished with value: 0.46933233653842704 and parameters: {'learning_rate': 0.03988892912567043, 'max_depth': 18, 'num_leaves': 73, 'feature_fraction': 0.8957853798026001, 'subsample': 0.7000000000000001, 'lambda_l1': 4.846771298010743, 'lambda_l2': 5.0473613433680615, 'bagging_fraction': 0.0626780505050819, 'bagging_freq': 3}. Best is trial 8 with value: 0.39231776491712855.\u001b[0m\n",
            "\u001b[32m[I 2021-11-05 18:09:35,513]\u001b[0m Trial 107 finished with value: 0.42417118962139927 and parameters: {'learning_rate': 0.06195666572785226, 'max_depth': 38, 'num_leaves': 110, 'feature_fraction': 0.4698098418276123, 'subsample': 0.2, 'lambda_l1': 8.729351437557073, 'lambda_l2': 3.930998353360274, 'bagging_fraction': 0.12528911122373632, 'bagging_freq': 0}. Best is trial 8 with value: 0.39231776491712855.\u001b[0m\n",
            "\u001b[32m[I 2021-11-05 18:09:35,937]\u001b[0m Trial 108 finished with value: 0.537576556502989 and parameters: {'learning_rate': 0.03749240546547986, 'max_depth': 29, 'num_leaves': 127, 'feature_fraction': 0.30291882318255714, 'subsample': 0.5, 'lambda_l1': 3.2289615273522365, 'lambda_l2': 7.142310805400011, 'bagging_fraction': 0.2618404005411473, 'bagging_freq': 7}. Best is trial 8 with value: 0.39231776491712855.\u001b[0m\n",
            "\u001b[32m[I 2021-11-05 18:09:36,154]\u001b[0m Trial 109 finished with value: 0.530142596126571 and parameters: {'learning_rate': 0.19390322794610773, 'max_depth': 6, 'num_leaves': 193, 'feature_fraction': 0.14702900267849858, 'subsample': 0.9, 'lambda_l1': 7.8578600184065746, 'lambda_l2': 1.2918815784762039, 'bagging_fraction': 0.7347461582625202, 'bagging_freq': 3}. Best is trial 8 with value: 0.39231776491712855.\u001b[0m\n",
            "\u001b[32m[I 2021-11-05 18:09:36,348]\u001b[0m Trial 110 finished with value: 0.42291596283379307 and parameters: {'learning_rate': 0.42708697021823977, 'max_depth': 4, 'num_leaves': 143, 'feature_fraction': 0.8298457153622177, 'subsample': 0.6, 'lambda_l1': 7.859994655188174, 'lambda_l2': 8.324690282977404, 'bagging_fraction': 0.6637571409537206, 'bagging_freq': 10}. Best is trial 8 with value: 0.39231776491712855.\u001b[0m\n",
            "\u001b[32m[I 2021-11-05 18:09:37,194]\u001b[0m Trial 111 finished with value: 0.3984575423860894 and parameters: {'learning_rate': 0.061637057094321074, 'max_depth': 19, 'num_leaves': 128, 'feature_fraction': 0.8843435523937087, 'subsample': 0.5, 'lambda_l1': 3.5304640065528092, 'lambda_l2': 8.521736803258666, 'bagging_fraction': 0.8058957396711378, 'bagging_freq': 1}. Best is trial 8 with value: 0.39231776491712855.\u001b[0m\n",
            "\u001b[32m[I 2021-11-05 18:09:37,662]\u001b[0m Trial 112 finished with value: 0.4080455908273456 and parameters: {'learning_rate': 0.2529200302950748, 'max_depth': 16, 'num_leaves': 93, 'feature_fraction': 0.993172489647616, 'subsample': 0.8, 'lambda_l1': 2.283204601117299, 'lambda_l2': 9.076018325078214, 'bagging_fraction': 0.8946279926935115, 'bagging_freq': 8}. Best is trial 8 with value: 0.39231776491712855.\u001b[0m\n",
            "\u001b[32m[I 2021-11-05 18:09:38,016]\u001b[0m Trial 113 finished with value: 0.46895872384136084 and parameters: {'learning_rate': 0.01726665058665572, 'max_depth': 11, 'num_leaves': 163, 'feature_fraction': 0.6398397404722904, 'subsample': 0.7000000000000001, 'lambda_l1': 2.5900662028095978, 'lambda_l2': 8.138496086475865, 'bagging_fraction': 0.15912591690920697, 'bagging_freq': 9}. Best is trial 8 with value: 0.39231776491712855.\u001b[0m\n",
            "\u001b[32m[I 2021-11-05 18:09:38,739]\u001b[0m Trial 114 finished with value: 0.4268783696842343 and parameters: {'learning_rate': 0.0609190287251684, 'max_depth': 16, 'num_leaves': 125, 'feature_fraction': 0.3838318310424669, 'subsample': 0.6, 'lambda_l1': 3.157695452120477, 'lambda_l2': 3.399410466640841, 'bagging_fraction': 0.5745067966808423, 'bagging_freq': 0}. Best is trial 8 with value: 0.39231776491712855.\u001b[0m\n",
            "\u001b[32m[I 2021-11-05 18:09:39,161]\u001b[0m Trial 115 finished with value: 0.4146040799130594 and parameters: {'learning_rate': 0.3138402107653988, 'max_depth': 16, 'num_leaves': 181, 'feature_fraction': 0.876717677307263, 'subsample': 0.6, 'lambda_l1': 9.686869731177053, 'lambda_l2': 8.591644632284073, 'bagging_fraction': 0.6178281447859012, 'bagging_freq': 10}. Best is trial 8 with value: 0.39231776491712855.\u001b[0m\n",
            "\u001b[32m[I 2021-11-05 18:09:39,387]\u001b[0m Trial 116 finished with value: 0.5536117183970215 and parameters: {'learning_rate': 0.014094355705735279, 'max_depth': 43, 'num_leaves': 150, 'feature_fraction': 0.6287612442212588, 'subsample': 1.0, 'lambda_l1': 7.586204167942521, 'lambda_l2': 8.946497591124931, 'bagging_fraction': 0.08264042706198615, 'bagging_freq': 3}. Best is trial 8 with value: 0.39231776491712855.\u001b[0m\n",
            "\u001b[32m[I 2021-11-05 18:09:39,945]\u001b[0m Trial 117 finished with value: 0.5090543078320543 and parameters: {'learning_rate': 0.04469338682689469, 'max_depth': 44, 'num_leaves': 81, 'feature_fraction': 0.22347556374039873, 'subsample': 0.5, 'lambda_l1': 2.975104391737858, 'lambda_l2': 2.876775589384791, 'bagging_fraction': 0.7935221332007978, 'bagging_freq': 5}. Best is trial 8 with value: 0.39231776491712855.\u001b[0m\n",
            "\u001b[32m[I 2021-11-05 18:09:40,652]\u001b[0m Trial 118 finished with value: 0.44888741644636104 and parameters: {'learning_rate': 0.03389580863875506, 'max_depth': 13, 'num_leaves': 156, 'feature_fraction': 0.41187792534566103, 'subsample': 0.30000000000000004, 'lambda_l1': 5.836425154002502, 'lambda_l2': 1.347333687676836, 'bagging_fraction': 0.993684048386578, 'bagging_freq': 0}. Best is trial 8 with value: 0.39231776491712855.\u001b[0m\n",
            "\u001b[32m[I 2021-11-05 18:09:40,836]\u001b[0m Trial 119 finished with value: 0.4337613635780236 and parameters: {'learning_rate': 0.16697153258491687, 'max_depth': 3, 'num_leaves': 29, 'feature_fraction': 0.8381126472076531, 'subsample': 0.8, 'lambda_l1': 0.4570894424832228, 'lambda_l2': 0.6267266717404407, 'bagging_fraction': 0.9762500611444798, 'bagging_freq': 8}. Best is trial 8 with value: 0.39231776491712855.\u001b[0m\n",
            "\u001b[32m[I 2021-11-05 18:09:41,179]\u001b[0m Trial 120 finished with value: 0.4845403896681897 and parameters: {'learning_rate': 0.07755911227775918, 'max_depth': 31, 'num_leaves': 37, 'feature_fraction': 0.28751195122385, 'subsample': 0.30000000000000004, 'lambda_l1': 1.7012349393562287, 'lambda_l2': 7.949531852874116, 'bagging_fraction': 0.5181657196210305, 'bagging_freq': 7}. Best is trial 8 with value: 0.39231776491712855.\u001b[0m\n",
            "\u001b[32m[I 2021-11-05 18:09:42,046]\u001b[0m Trial 121 finished with value: 0.40163314491866947 and parameters: {'learning_rate': 0.11606893571732094, 'max_depth': 49, 'num_leaves': 189, 'feature_fraction': 0.861041503013624, 'subsample': 0.6, 'lambda_l1': 6.4172688704744365, 'lambda_l2': 5.945467260278513, 'bagging_fraction': 0.9780528604271054, 'bagging_freq': 10}. Best is trial 8 with value: 0.39231776491712855.\u001b[0m\n",
            "\u001b[32m[I 2021-11-05 18:09:42,598]\u001b[0m Trial 122 finished with value: 0.41308362699581186 and parameters: {'learning_rate': 0.32412017748058874, 'max_depth': 31, 'num_leaves': 127, 'feature_fraction': 0.5496118235004233, 'subsample': 0.5, 'lambda_l1': 4.963120672139853, 'lambda_l2': 7.498922443217888, 'bagging_fraction': 0.9982167197988503, 'bagging_freq': 6}. Best is trial 8 with value: 0.39231776491712855.\u001b[0m\n",
            "\u001b[32m[I 2021-11-05 18:09:42,894]\u001b[0m Trial 123 finished with value: 0.6650873493133853 and parameters: {'learning_rate': 0.02306881127763145, 'max_depth': 32, 'num_leaves': 42, 'feature_fraction': 0.11940468143414713, 'subsample': 0.7000000000000001, 'lambda_l1': 3.733673871014905, 'lambda_l2': 5.04684805327689, 'bagging_fraction': 0.3771144638073405, 'bagging_freq': 3}. Best is trial 8 with value: 0.39231776491712855.\u001b[0m\n",
            "\u001b[32m[I 2021-11-05 18:09:43,642]\u001b[0m Trial 124 finished with value: 0.4427459283891162 and parameters: {'learning_rate': 0.03489783332749882, 'max_depth': 30, 'num_leaves': 112, 'feature_fraction': 0.38249803655630443, 'subsample': 0.2, 'lambda_l1': 0.9531369795114064, 'lambda_l2': 6.025445889470975, 'bagging_fraction': 0.604596155802336, 'bagging_freq': 3}. Best is trial 8 with value: 0.39231776491712855.\u001b[0m\n",
            "\u001b[32m[I 2021-11-05 18:09:44,068]\u001b[0m Trial 125 finished with value: 0.42715243967817895 and parameters: {'learning_rate': 0.24694006825442508, 'max_depth': 36, 'num_leaves': 53, 'feature_fraction': 0.5172087292342139, 'subsample': 0.7000000000000001, 'lambda_l1': 4.502329472060104, 'lambda_l2': 8.46074429323858, 'bagging_fraction': 0.445756157655421, 'bagging_freq': 6}. Best is trial 8 with value: 0.39231776491712855.\u001b[0m\n",
            "\u001b[32m[I 2021-11-05 18:09:44,252]\u001b[0m Trial 126 finished with value: 0.48816110522494444 and parameters: {'learning_rate': 0.2173932208071524, 'max_depth': 5, 'num_leaves': 34, 'feature_fraction': 0.2526289965583284, 'subsample': 0.7000000000000001, 'lambda_l1': 6.5829692729285805, 'lambda_l2': 2.0312210717444055, 'bagging_fraction': 0.14488318540093892, 'bagging_freq': 2}. Best is trial 8 with value: 0.39231776491712855.\u001b[0m\n",
            "\u001b[32m[I 2021-11-05 18:09:44,628]\u001b[0m Trial 127 finished with value: 0.4418401697251433 and parameters: {'learning_rate': 0.07738116066016609, 'max_depth': 42, 'num_leaves': 169, 'feature_fraction': 0.4993110355701694, 'subsample': 0.30000000000000004, 'lambda_l1': 8.05212236755679, 'lambda_l2': 4.602774646106072, 'bagging_fraction': 0.3043518724754577, 'bagging_freq': 4}. Best is trial 8 with value: 0.39231776491712855.\u001b[0m\n",
            "\u001b[32m[I 2021-11-05 18:09:44,866]\u001b[0m Trial 128 finished with value: 0.48875249442779234 and parameters: {'learning_rate': 0.03511964072674892, 'max_depth': 5, 'num_leaves': 130, 'feature_fraction': 0.41999550674357256, 'subsample': 0.4, 'lambda_l1': 2.4273289253251784, 'lambda_l2': 1.3390943409058575, 'bagging_fraction': 0.05537712794588623, 'bagging_freq': 0}. Best is trial 8 with value: 0.39231776491712855.\u001b[0m\n",
            "\u001b[32m[I 2021-11-05 18:09:44,983]\u001b[0m Trial 129 finished with value: 0.5147323901692309 and parameters: {'learning_rate': 0.054489009363734374, 'max_depth': 36, 'num_leaves': 4, 'feature_fraction': 0.7089257326248504, 'subsample': 0.5, 'lambda_l1': 8.60711265721636, 'lambda_l2': 4.375675377868356, 'bagging_fraction': 0.2316701755102648, 'bagging_freq': 6}. Best is trial 8 with value: 0.39231776491712855.\u001b[0m\n",
            "\u001b[32m[I 2021-11-05 18:09:45,091]\u001b[0m Trial 130 finished with value: 0.6024533201112631 and parameters: {'learning_rate': 0.0943000747944032, 'max_depth': 1, 'num_leaves': 51, 'feature_fraction': 0.3602453715812657, 'subsample': 0.1, 'lambda_l1': 5.02257287438572, 'lambda_l2': 4.560037397954386, 'bagging_fraction': 0.9051196640491392, 'bagging_freq': 8}. Best is trial 8 with value: 0.39231776491712855.\u001b[0m\n",
            "\u001b[32m[I 2021-11-05 18:09:45,586]\u001b[0m Trial 131 finished with value: 0.5550147033630847 and parameters: {'learning_rate': 0.029041933662883358, 'max_depth': 21, 'num_leaves': 78, 'feature_fraction': 0.2441417053555987, 'subsample': 0.5, 'lambda_l1': 3.7786774983825957, 'lambda_l2': 9.860233603984414, 'bagging_fraction': 0.5551334064430837, 'bagging_freq': 9}. Best is trial 8 with value: 0.39231776491712855.\u001b[0m\n",
            "\u001b[32m[I 2021-11-05 18:09:45,955]\u001b[0m Trial 132 finished with value: 0.4348477904156398 and parameters: {'learning_rate': 0.4529563590317259, 'max_depth': 26, 'num_leaves': 99, 'feature_fraction': 0.3767657207523861, 'subsample': 0.9, 'lambda_l1': 4.599641452489061, 'lambda_l2': 0.482886100057196, 'bagging_fraction': 0.8326654135557555, 'bagging_freq': 1}. Best is trial 8 with value: 0.39231776491712855.\u001b[0m\n",
            "\u001b[32m[I 2021-11-05 18:09:46,495]\u001b[0m Trial 133 finished with value: 0.405139591328024 and parameters: {'learning_rate': 0.058723522097952154, 'max_depth': 50, 'num_leaves': 69, 'feature_fraction': 0.8064629079619088, 'subsample': 1.0, 'lambda_l1': 0.25871508342573013, 'lambda_l2': 4.105256936137681, 'bagging_fraction': 0.48255844181158347, 'bagging_freq': 5}. Best is trial 8 with value: 0.39231776491712855.\u001b[0m\n",
            "\u001b[32m[I 2021-11-05 18:09:46,839]\u001b[0m Trial 134 finished with value: 0.4286123243147609 and parameters: {'learning_rate': 0.2351705970987455, 'max_depth': 8, 'num_leaves': 49, 'feature_fraction': 0.5540038201020213, 'subsample': 0.7000000000000001, 'lambda_l1': 7.678229031260915, 'lambda_l2': 4.700649885547181, 'bagging_fraction': 0.46663998913819493, 'bagging_freq': 9}. Best is trial 8 with value: 0.39231776491712855.\u001b[0m\n",
            "\u001b[32m[I 2021-11-05 18:09:47,283]\u001b[0m Trial 135 finished with value: 0.4115407070893469 and parameters: {'learning_rate': 0.15177773273657189, 'max_depth': 32, 'num_leaves': 169, 'feature_fraction': 0.6519710724657908, 'subsample': 0.8, 'lambda_l1': 8.0523025876221, 'lambda_l2': 6.241033386308713, 'bagging_fraction': 0.4427653213433814, 'bagging_freq': 6}. Best is trial 8 with value: 0.39231776491712855.\u001b[0m\n",
            "\u001b[32m[I 2021-11-05 18:09:47,668]\u001b[0m Trial 136 finished with value: 0.4093304416518411 and parameters: {'learning_rate': 0.37177296686309513, 'max_depth': 17, 'num_leaves': 71, 'feature_fraction': 0.8019098098139908, 'subsample': 0.9, 'lambda_l1': 7.423581555102091, 'lambda_l2': 5.316958912992954, 'bagging_fraction': 0.6030861831551212, 'bagging_freq': 0}. Best is trial 8 with value: 0.39231776491712855.\u001b[0m\n",
            "\u001b[32m[I 2021-11-05 18:09:47,864]\u001b[0m Trial 137 finished with value: 0.4816336027184629 and parameters: {'learning_rate': 0.023684977033039855, 'max_depth': 11, 'num_leaves': 12, 'feature_fraction': 0.9622400446230752, 'subsample': 0.8, 'lambda_l1': 7.14411047788166, 'lambda_l2': 4.218132662030137, 'bagging_fraction': 0.4144248190514116, 'bagging_freq': 0}. Best is trial 8 with value: 0.39231776491712855.\u001b[0m\n",
            "\u001b[32m[I 2021-11-05 18:09:47,968]\u001b[0m Trial 138 finished with value: 0.7318004883400444 and parameters: {'learning_rate': 0.012458690607923527, 'max_depth': 1, 'num_leaves': 57, 'feature_fraction': 0.7023703808425539, 'subsample': 0.2, 'lambda_l1': 3.3114726558529983, 'lambda_l2': 2.327879698522671, 'bagging_fraction': 0.34277928306169747, 'bagging_freq': 2}. Best is trial 8 with value: 0.39231776491712855.\u001b[0m\n",
            "\u001b[32m[I 2021-11-05 18:09:48,605]\u001b[0m Trial 139 finished with value: 0.41028189102543366 and parameters: {'learning_rate': 0.19559518420849453, 'max_depth': 40, 'num_leaves': 108, 'feature_fraction': 0.8428317499542933, 'subsample': 0.8, 'lambda_l1': 8.979139969704974, 'lambda_l2': 8.162473424530578, 'bagging_fraction': 0.6015588674856002, 'bagging_freq': 7}. Best is trial 8 with value: 0.39231776491712855.\u001b[0m\n",
            "\u001b[32m[I 2021-11-05 18:09:48,944]\u001b[0m Trial 140 finished with value: 0.5581130204580288 and parameters: {'learning_rate': 0.07470563003135017, 'max_depth': 19, 'num_leaves': 52, 'feature_fraction': 0.12710267312099544, 'subsample': 0.8, 'lambda_l1': 9.056729166116048, 'lambda_l2': 2.7794110397963037, 'bagging_fraction': 0.7744459257532101, 'bagging_freq': 0}. Best is trial 8 with value: 0.39231776491712855.\u001b[0m\n",
            "\u001b[32m[I 2021-11-05 18:09:49,472]\u001b[0m Trial 141 finished with value: 0.39950615933859535 and parameters: {'learning_rate': 0.10289564786575252, 'max_depth': 25, 'num_leaves': 57, 'feature_fraction': 0.9776268542390955, 'subsample': 0.1, 'lambda_l1': 2.718970308633284, 'lambda_l2': 7.905235348560742, 'bagging_fraction': 0.6281056208061587, 'bagging_freq': 0}. Best is trial 8 with value: 0.39231776491712855.\u001b[0m\n",
            "\u001b[32m[I 2021-11-05 18:09:50,679]\u001b[0m Trial 142 finished with value: 0.39294820972024724 and parameters: {'learning_rate': 0.08293236544302708, 'max_depth': 24, 'num_leaves': 154, 'feature_fraction': 0.5723415791536896, 'subsample': 0.1, 'lambda_l1': 2.2917560824916983, 'lambda_l2': 4.652709451713597, 'bagging_fraction': 0.9983015993804801, 'bagging_freq': 1}. Best is trial 8 with value: 0.39231776491712855.\u001b[0m\n",
            "\u001b[32m[I 2021-11-05 18:09:52,228]\u001b[0m Trial 143 finished with value: 0.4593535038590048 and parameters: {'learning_rate': 0.01215279915075461, 'max_depth': 11, 'num_leaves': 147, 'feature_fraction': 0.8891957218710783, 'subsample': 0.5, 'lambda_l1': 7.043840845323209, 'lambda_l2': 0.13010052259295413, 'bagging_fraction': 0.9937232450764382, 'bagging_freq': 5}. Best is trial 8 with value: 0.39231776491712855.\u001b[0m\n",
            "\u001b[32m[I 2021-11-05 18:09:52,785]\u001b[0m Trial 144 finished with value: 0.42593575601143474 and parameters: {'learning_rate': 0.021035167258283624, 'max_depth': 12, 'num_leaves': 63, 'feature_fraction': 0.7416562389592294, 'subsample': 0.9, 'lambda_l1': 2.4034117005814295, 'lambda_l2': 8.558854236532227, 'bagging_fraction': 0.5695823536355786, 'bagging_freq': 10}. Best is trial 8 with value: 0.39231776491712855.\u001b[0m\n",
            "\u001b[32m[I 2021-11-05 18:09:53,319]\u001b[0m Trial 145 finished with value: 0.4115376152576654 and parameters: {'learning_rate': 0.0368777690732529, 'max_depth': 41, 'num_leaves': 65, 'feature_fraction': 0.9214488760156704, 'subsample': 0.5, 'lambda_l1': 7.328148246797629, 'lambda_l2': 0.5845043563691854, 'bagging_fraction': 0.020135951076757364, 'bagging_freq': 0}. Best is trial 8 with value: 0.39231776491712855.\u001b[0m\n",
            "\u001b[32m[I 2021-11-05 18:09:53,412]\u001b[0m Trial 146 finished with value: 0.721970672962824 and parameters: {'learning_rate': 0.07123434547818629, 'max_depth': 32, 'num_leaves': 102, 'feature_fraction': 0.790418287254734, 'subsample': 0.6, 'lambda_l1': 7.4693115314780805, 'lambda_l2': 7.400768775331993, 'bagging_fraction': 0.00400604193773435, 'bagging_freq': 2}. Best is trial 8 with value: 0.39231776491712855.\u001b[0m\n",
            "\u001b[32m[I 2021-11-05 18:09:53,796]\u001b[0m Trial 147 finished with value: 0.48070598856742597 and parameters: {'learning_rate': 0.3173688444201272, 'max_depth': 48, 'num_leaves': 129, 'feature_fraction': 0.3115409070667035, 'subsample': 0.6, 'lambda_l1': 4.250063747037835, 'lambda_l2': 3.797193695705311, 'bagging_fraction': 0.646825134412693, 'bagging_freq': 7}. Best is trial 8 with value: 0.39231776491712855.\u001b[0m\n",
            "\u001b[32m[I 2021-11-05 18:09:54,224]\u001b[0m Trial 148 finished with value: 0.40678199648562563 and parameters: {'learning_rate': 0.2590449128565182, 'max_depth': 50, 'num_leaves': 145, 'feature_fraction': 0.5872973784765513, 'subsample': 0.9, 'lambda_l1': 9.423417024226282, 'lambda_l2': 8.746237843635436, 'bagging_fraction': 0.8436615559877882, 'bagging_freq': 1}. Best is trial 8 with value: 0.39231776491712855.\u001b[0m\n",
            "\u001b[32m[I 2021-11-05 18:09:54,377]\u001b[0m Trial 149 finished with value: 0.5145483113881314 and parameters: {'learning_rate': 0.06112718759545712, 'max_depth': 37, 'num_leaves': 6, 'feature_fraction': 0.3760882583561346, 'subsample': 0.30000000000000004, 'lambda_l1': 4.2172524455216545, 'lambda_l2': 5.861957170916069, 'bagging_fraction': 0.7858421565730362, 'bagging_freq': 5}. Best is trial 8 with value: 0.39231776491712855.\u001b[0m\n",
            "\u001b[32m[I 2021-11-05 18:09:54,967]\u001b[0m Trial 150 finished with value: 0.4998845173079544 and parameters: {'learning_rate': 0.05851292637476236, 'max_depth': 22, 'num_leaves': 110, 'feature_fraction': 0.267700000718578, 'subsample': 0.30000000000000004, 'lambda_l1': 1.9268751525954553, 'lambda_l2': 8.473749106293676, 'bagging_fraction': 0.4006232116133628, 'bagging_freq': 6}. Best is trial 8 with value: 0.39231776491712855.\u001b[0m\n",
            "\u001b[32m[I 2021-11-05 18:09:55,546]\u001b[0m Trial 151 finished with value: 0.4037069426422923 and parameters: {'learning_rate': 0.20214384950986952, 'max_depth': 34, 'num_leaves': 73, 'feature_fraction': 0.9857657605716917, 'subsample': 0.5, 'lambda_l1': 5.689167908552221, 'lambda_l2': 2.635905801491388, 'bagging_fraction': 0.8485018730691157, 'bagging_freq': 1}. Best is trial 8 with value: 0.39231776491712855.\u001b[0m\n",
            "\u001b[32m[I 2021-11-05 18:09:55,941]\u001b[0m Trial 152 finished with value: 0.4138830852740809 and parameters: {'learning_rate': 0.05137147373046083, 'max_depth': 8, 'num_leaves': 177, 'feature_fraction': 0.6383388554794432, 'subsample': 0.30000000000000004, 'lambda_l1': 0.215261407664471, 'lambda_l2': 5.345101350968809, 'bagging_fraction': 0.27224314340072175, 'bagging_freq': 2}. Best is trial 8 with value: 0.39231776491712855.\u001b[0m\n",
            "\u001b[32m[I 2021-11-05 18:09:56,185]\u001b[0m Trial 153 finished with value: 0.6311884895755312 and parameters: {'learning_rate': 0.010137696386456957, 'max_depth': 28, 'num_leaves': 144, 'feature_fraction': 0.5178350964374293, 'subsample': 0.8, 'lambda_l1': 9.048162449539372, 'lambda_l2': 8.866225103904856, 'bagging_fraction': 0.10751600354246826, 'bagging_freq': 1}. Best is trial 8 with value: 0.39231776491712855.\u001b[0m\n",
            "\u001b[32m[I 2021-11-05 18:09:56,494]\u001b[0m Trial 154 finished with value: 0.4177398606431753 and parameters: {'learning_rate': 0.08352081569865275, 'max_depth': 20, 'num_leaves': 25, 'feature_fraction': 0.9993056669401915, 'subsample': 0.1, 'lambda_l1': 3.0454965210794347, 'lambda_l2': 8.636274811678238, 'bagging_fraction': 0.6980870251401563, 'bagging_freq': 10}. Best is trial 8 with value: 0.39231776491712855.\u001b[0m\n",
            "\u001b[32m[I 2021-11-05 18:09:56,596]\u001b[0m Trial 155 finished with value: 0.6377188618830814 and parameters: {'learning_rate': 0.050041939268031264, 'max_depth': 1, 'num_leaves': 181, 'feature_fraction': 0.6365945995960635, 'subsample': 1.0, 'lambda_l1': 5.452422773623924, 'lambda_l2': 7.397283880602977, 'bagging_fraction': 0.8554990705082081, 'bagging_freq': 5}. Best is trial 8 with value: 0.39231776491712855.\u001b[0m\n",
            "\u001b[32m[I 2021-11-05 18:09:56,870]\u001b[0m Trial 156 finished with value: 0.4624124395133593 and parameters: {'learning_rate': 0.03019524955196886, 'max_depth': 5, 'num_leaves': 46, 'feature_fraction': 0.6689115589726227, 'subsample': 0.8, 'lambda_l1': 8.326094649063847, 'lambda_l2': 9.406960772168517, 'bagging_fraction': 0.9987711997905155, 'bagging_freq': 4}. Best is trial 8 with value: 0.39231776491712855.\u001b[0m\n",
            "\u001b[32m[I 2021-11-05 18:09:57,200]\u001b[0m Trial 157 finished with value: 0.4299303406246638 and parameters: {'learning_rate': 0.19955780512041452, 'max_depth': 8, 'num_leaves': 131, 'feature_fraction': 0.4641635806146034, 'subsample': 0.9, 'lambda_l1': 5.2132684490732775, 'lambda_l2': 5.223596605123436, 'bagging_fraction': 0.32265493291262304, 'bagging_freq': 6}. Best is trial 8 with value: 0.39231776491712855.\u001b[0m\n",
            "\u001b[32m[I 2021-11-05 18:09:57,452]\u001b[0m Trial 158 finished with value: 0.5005907514659986 and parameters: {'learning_rate': 0.02260950639135412, 'max_depth': 8, 'num_leaves': 21, 'feature_fraction': 0.5419760992282641, 'subsample': 0.6, 'lambda_l1': 7.621444851633191, 'lambda_l2': 4.04862402072267, 'bagging_fraction': 0.5535523820110686, 'bagging_freq': 0}. Best is trial 8 with value: 0.39231776491712855.\u001b[0m\n",
            "\u001b[32m[I 2021-11-05 18:09:57,765]\u001b[0m Trial 159 finished with value: 0.42009314718129737 and parameters: {'learning_rate': 0.16637698263232337, 'max_depth': 35, 'num_leaves': 32, 'feature_fraction': 0.8204377648788023, 'subsample': 0.30000000000000004, 'lambda_l1': 5.158471562908828, 'lambda_l2': 7.660297334633946, 'bagging_fraction': 0.3489865770492342, 'bagging_freq': 3}. Best is trial 8 with value: 0.39231776491712855.\u001b[0m\n",
            "\u001b[32m[I 2021-11-05 18:09:58,375]\u001b[0m Trial 160 finished with value: 0.44891368114117836 and parameters: {'learning_rate': 0.01250999896556476, 'max_depth': 42, 'num_leaves': 79, 'feature_fraction': 0.927803823831511, 'subsample': 0.7000000000000001, 'lambda_l1': 1.5053515411902707, 'lambda_l2': 0.7033575005580961, 'bagging_fraction': 0.47676495690633447, 'bagging_freq': 3}. Best is trial 8 with value: 0.39231776491712855.\u001b[0m\n",
            "\u001b[32m[I 2021-11-05 18:09:58,755]\u001b[0m Trial 161 finished with value: 0.4209413886314898 and parameters: {'learning_rate': 0.03537550563066728, 'max_depth': 36, 'num_leaves': 36, 'feature_fraction': 0.593561838044244, 'subsample': 1.0, 'lambda_l1': 6.165306535520903, 'lambda_l2': 6.085060350999491, 'bagging_fraction': 0.8851527801458411, 'bagging_freq': 6}. Best is trial 8 with value: 0.39231776491712855.\u001b[0m\n",
            "\u001b[32m[I 2021-11-05 18:09:58,920]\u001b[0m Trial 162 finished with value: 0.4546210304526027 and parameters: {'learning_rate': 0.29356284961883594, 'max_depth': 33, 'num_leaves': 19, 'feature_fraction': 0.7335281986253406, 'subsample': 0.6, 'lambda_l1': 2.5593320755469993, 'lambda_l2': 8.542563972363581, 'bagging_fraction': 0.10383170687952425, 'bagging_freq': 1}. Best is trial 8 with value: 0.39231776491712855.\u001b[0m\n",
            "\u001b[32m[I 2021-11-05 18:09:59,210]\u001b[0m Trial 163 finished with value: 0.4439072094284256 and parameters: {'learning_rate': 0.05599337361355312, 'max_depth': 49, 'num_leaves': 52, 'feature_fraction': 0.6094775366095093, 'subsample': 0.30000000000000004, 'lambda_l1': 7.08178606133015, 'lambda_l2': 3.132343767604903, 'bagging_fraction': 0.1634677138987789, 'bagging_freq': 9}. Best is trial 8 with value: 0.39231776491712855.\u001b[0m\n",
            "\u001b[32m[I 2021-11-05 18:09:59,500]\u001b[0m Trial 164 finished with value: 0.5280590149461266 and parameters: {'learning_rate': 0.010589580057379203, 'max_depth': 42, 'num_leaves': 23, 'feature_fraction': 0.6176852807140947, 'subsample': 0.6, 'lambda_l1': 8.725454661407014, 'lambda_l2': 2.535572385661845, 'bagging_fraction': 0.5115863621070822, 'bagging_freq': 2}. Best is trial 8 with value: 0.39231776491712855.\u001b[0m\n",
            "\u001b[32m[I 2021-11-05 18:10:00,101]\u001b[0m Trial 165 finished with value: 0.4251749028492489 and parameters: {'learning_rate': 0.09087951877948022, 'max_depth': 39, 'num_leaves': 185, 'feature_fraction': 0.5326680257210544, 'subsample': 0.5, 'lambda_l1': 6.213705922323211, 'lambda_l2': 1.3788320343912241, 'bagging_fraction': 0.554464385996612, 'bagging_freq': 9}. Best is trial 8 with value: 0.39231776491712855.\u001b[0m\n",
            "\u001b[32m[I 2021-11-05 18:10:00,519]\u001b[0m Trial 166 finished with value: 0.426712145656498 and parameters: {'learning_rate': 0.25749360676998456, 'max_depth': 50, 'num_leaves': 98, 'feature_fraction': 0.9225881691103921, 'subsample': 0.30000000000000004, 'lambda_l1': 6.332829023577878, 'lambda_l2': 3.0138196618142885, 'bagging_fraction': 0.3485919024259181, 'bagging_freq': 9}. Best is trial 8 with value: 0.39231776491712855.\u001b[0m\n",
            "\u001b[32m[I 2021-11-05 18:10:01,035]\u001b[0m Trial 167 finished with value: 0.45070574816782166 and parameters: {'learning_rate': 0.03947431973984489, 'max_depth': 18, 'num_leaves': 62, 'feature_fraction': 0.38994152681329963, 'subsample': 0.8, 'lambda_l1': 8.047514342072265, 'lambda_l2': 7.821112958929408, 'bagging_fraction': 0.5248162629054602, 'bagging_freq': 0}. Best is trial 8 with value: 0.39231776491712855.\u001b[0m\n",
            "\u001b[32m[I 2021-11-05 18:10:01,492]\u001b[0m Trial 168 finished with value: 0.4196042124285511 and parameters: {'learning_rate': 0.07781966529028785, 'max_depth': 12, 'num_leaves': 60, 'feature_fraction': 0.8242752072992443, 'subsample': 0.8, 'lambda_l1': 4.778127906421885, 'lambda_l2': 2.7902808509718113, 'bagging_fraction': 0.22361578574812158, 'bagging_freq': 1}. Best is trial 8 with value: 0.39231776491712855.\u001b[0m\n",
            "\u001b[32m[I 2021-11-05 18:10:01,688]\u001b[0m Trial 169 finished with value: 0.5495701536188836 and parameters: {'learning_rate': 0.10685541139750793, 'max_depth': 5, 'num_leaves': 77, 'feature_fraction': 0.15957361142436563, 'subsample': 0.9, 'lambda_l1': 6.855703031675868, 'lambda_l2': 2.874514322172499, 'bagging_fraction': 0.5007108526258068, 'bagging_freq': 2}. Best is trial 8 with value: 0.39231776491712855.\u001b[0m\n",
            "\u001b[32m[I 2021-11-05 18:10:01,803]\u001b[0m Trial 170 finished with value: 0.5295447910982203 and parameters: {'learning_rate': 0.04854345776096547, 'max_depth': 2, 'num_leaves': 139, 'feature_fraction': 0.9085056403957176, 'subsample': 0.30000000000000004, 'lambda_l1': 2.693958274624564, 'lambda_l2': 3.310626932560232, 'bagging_fraction': 0.3246387275911795, 'bagging_freq': 3}. Best is trial 8 with value: 0.39231776491712855.\u001b[0m\n",
            "\u001b[32m[I 2021-11-05 18:10:02,221]\u001b[0m Trial 171 finished with value: 0.4409477025001111 and parameters: {'learning_rate': 0.02461243766392011, 'max_depth': 39, 'num_leaves': 130, 'feature_fraction': 0.812067300279234, 'subsample': 0.30000000000000004, 'lambda_l1': 2.7321254329879876, 'lambda_l2': 3.3588549544230606, 'bagging_fraction': 0.15803343094334465, 'bagging_freq': 4}. Best is trial 8 with value: 0.39231776491712855.\u001b[0m\n",
            "\u001b[32m[I 2021-11-05 18:10:02,331]\u001b[0m Trial 172 finished with value: 0.5932073536189703 and parameters: {'learning_rate': 0.058413751792441834, 'max_depth': 42, 'num_leaves': 3, 'feature_fraction': 0.27728607410857836, 'subsample': 0.7000000000000001, 'lambda_l1': 1.0482899344627072, 'lambda_l2': 4.800950472221615, 'bagging_fraction': 0.610369017403592, 'bagging_freq': 9}. Best is trial 8 with value: 0.39231776491712855.\u001b[0m\n",
            "\u001b[32m[I 2021-11-05 18:10:02,994]\u001b[0m Trial 173 finished with value: 0.43872948777140763 and parameters: {'learning_rate': 0.0395499790243097, 'max_depth': 42, 'num_leaves': 159, 'feature_fraction': 0.5538696506790274, 'subsample': 0.5, 'lambda_l1': 8.24464509232477, 'lambda_l2': 1.3943650370344252, 'bagging_fraction': 0.34413884231498504, 'bagging_freq': 0}. Best is trial 8 with value: 0.39231776491712855.\u001b[0m\n",
            "\u001b[32m[I 2021-11-05 18:10:03,288]\u001b[0m Trial 174 finished with value: 0.5036100657416936 and parameters: {'learning_rate': 0.013546920292039204, 'max_depth': 34, 'num_leaves': 61, 'feature_fraction': 0.5895971328676884, 'subsample': 0.9, 'lambda_l1': 5.358513461371336, 'lambda_l2': 0.5486928352499121, 'bagging_fraction': 0.12739499582885916, 'bagging_freq': 10}. Best is trial 8 with value: 0.39231776491712855.\u001b[0m\n",
            "\u001b[32m[I 2021-11-05 18:10:03,715]\u001b[0m Trial 175 finished with value: 0.4395531719091629 and parameters: {'learning_rate': 0.03131756069306039, 'max_depth': 22, 'num_leaves': 116, 'feature_fraction': 0.9016635889386586, 'subsample': 0.5, 'lambda_l1': 6.560935144860714, 'lambda_l2': 4.53167011924113, 'bagging_fraction': 0.2535825065223314, 'bagging_freq': 4}. Best is trial 8 with value: 0.39231776491712855.\u001b[0m\n",
            "\u001b[32m[I 2021-11-05 18:10:04,357]\u001b[0m Trial 176 finished with value: 0.40558779281419227 and parameters: {'learning_rate': 0.04179332178534716, 'max_depth': 22, 'num_leaves': 84, 'feature_fraction': 0.6645758927980486, 'subsample': 0.8, 'lambda_l1': 3.988715839372442, 'lambda_l2': 6.757640153611371, 'bagging_fraction': 0.8179618915665431, 'bagging_freq': 6}. Best is trial 8 with value: 0.39231776491712855.\u001b[0m\n",
            "\u001b[32m[I 2021-11-05 18:10:05,176]\u001b[0m Trial 177 finished with value: 0.4022377300459985 and parameters: {'learning_rate': 0.06330712901253774, 'max_depth': 35, 'num_leaves': 116, 'feature_fraction': 0.9316661943116995, 'subsample': 0.5, 'lambda_l1': 4.154408580381932, 'lambda_l2': 7.473033270951895, 'bagging_fraction': 0.7494139072088065, 'bagging_freq': 4}. Best is trial 8 with value: 0.39231776491712855.\u001b[0m\n",
            "\u001b[32m[I 2021-11-05 18:10:05,449]\u001b[0m Trial 178 finished with value: 0.41651099231352795 and parameters: {'learning_rate': 0.12420096429532303, 'max_depth': 5, 'num_leaves': 67, 'feature_fraction': 0.6848508236146437, 'subsample': 0.8, 'lambda_l1': 6.335956464492619, 'lambda_l2': 4.806455494846239, 'bagging_fraction': 0.9930575729925619, 'bagging_freq': 7}. Best is trial 8 with value: 0.39231776491712855.\u001b[0m\n",
            "\u001b[32m[I 2021-11-05 18:10:05,751]\u001b[0m Trial 179 finished with value: 0.4089213062162542 and parameters: {'learning_rate': 0.35176888114480265, 'max_depth': 39, 'num_leaves': 33, 'feature_fraction': 0.863706515710651, 'subsample': 0.9, 'lambda_l1': 4.137440379773661, 'lambda_l2': 9.7121273147903, 'bagging_fraction': 0.9420869755942105, 'bagging_freq': 4}. Best is trial 8 with value: 0.39231776491712855.\u001b[0m\n",
            "\u001b[32m[I 2021-11-05 18:10:06,128]\u001b[0m Trial 180 finished with value: 0.42880093145819387 and parameters: {'learning_rate': 0.17151205495344218, 'max_depth': 45, 'num_leaves': 93, 'feature_fraction': 0.323636173644378, 'subsample': 1.0, 'lambda_l1': 8.239766111935625, 'lambda_l2': 8.077711485239874, 'bagging_fraction': 0.4817140850166731, 'bagging_freq': 7}. Best is trial 8 with value: 0.39231776491712855.\u001b[0m\n",
            "\u001b[32m[I 2021-11-05 18:10:06,271]\u001b[0m Trial 181 finished with value: 0.5874474551709733 and parameters: {'learning_rate': 0.021087592493096434, 'max_depth': 42, 'num_leaves': 110, 'feature_fraction': 0.9086412198427243, 'subsample': 1.0, 'lambda_l1': 5.680900272989363, 'lambda_l2': 2.2526587247046894, 'bagging_fraction': 0.01756843076213499, 'bagging_freq': 3}. Best is trial 8 with value: 0.39231776491712855.\u001b[0m\n",
            "\u001b[32m[I 2021-11-05 18:10:06,472]\u001b[0m Trial 182 finished with value: 0.42400793529312425 and parameters: {'learning_rate': 0.19660923679955036, 'max_depth': 10, 'num_leaves': 14, 'feature_fraction': 0.9079294726167357, 'subsample': 0.30000000000000004, 'lambda_l1': 2.326338474134909, 'lambda_l2': 6.917378064961714, 'bagging_fraction': 0.30677442907930064, 'bagging_freq': 10}. Best is trial 8 with value: 0.39231776491712855.\u001b[0m\n",
            "\u001b[32m[I 2021-11-05 18:10:07,054]\u001b[0m Trial 183 finished with value: 0.5200306322061536 and parameters: {'learning_rate': 0.013198880175420256, 'max_depth': 13, 'num_leaves': 120, 'feature_fraction': 0.5348783974166624, 'subsample': 0.4, 'lambda_l1': 3.427806047502766, 'lambda_l2': 3.715084426754655, 'bagging_fraction': 0.41907576367405197, 'bagging_freq': 10}. Best is trial 8 with value: 0.39231776491712855.\u001b[0m\n",
            "\u001b[32m[I 2021-11-05 18:10:07,666]\u001b[0m Trial 184 finished with value: 0.6802602022039906 and parameters: {'learning_rate': 0.010902067894283976, 'max_depth': 19, 'num_leaves': 158, 'feature_fraction': 0.2018349461823974, 'subsample': 1.0, 'lambda_l1': 5.676468598931531, 'lambda_l2': 8.731305602498173, 'bagging_fraction': 0.3506515739521199, 'bagging_freq': 0}. Best is trial 8 with value: 0.39231776491712855.\u001b[0m\n",
            "\u001b[32m[I 2021-11-05 18:10:08,018]\u001b[0m Trial 185 finished with value: 0.4564387729443786 and parameters: {'learning_rate': 0.22706270458762834, 'max_depth': 48, 'num_leaves': 53, 'feature_fraction': 0.21811726930811914, 'subsample': 0.30000000000000004, 'lambda_l1': 4.955548210609031, 'lambda_l2': 8.088570770894531, 'bagging_fraction': 0.48269321205585713, 'bagging_freq': 0}. Best is trial 8 with value: 0.39231776491712855.\u001b[0m\n",
            "\u001b[32m[I 2021-11-05 18:10:08,325]\u001b[0m Trial 186 finished with value: 0.43875084043918616 and parameters: {'learning_rate': 0.31603701753980246, 'max_depth': 19, 'num_leaves': 100, 'feature_fraction': 0.39089810674416947, 'subsample': 0.9, 'lambda_l1': 3.9698316571012904, 'lambda_l2': 9.616136910027128, 'bagging_fraction': 0.6014147179736473, 'bagging_freq': 5}. Best is trial 8 with value: 0.39231776491712855.\u001b[0m\n",
            "\u001b[32m[I 2021-11-05 18:10:08,532]\u001b[0m Trial 187 finished with value: 0.6686919311650604 and parameters: {'learning_rate': 0.023633145763366614, 'max_depth': 5, 'num_leaves': 94, 'feature_fraction': 0.11998071795445958, 'subsample': 0.9, 'lambda_l1': 3.027408655594035, 'lambda_l2': 0.9097576252768536, 'bagging_fraction': 0.2475042958050816, 'bagging_freq': 5}. Best is trial 8 with value: 0.39231776491712855.\u001b[0m\n",
            "\u001b[32m[I 2021-11-05 18:10:08,671]\u001b[0m Trial 188 finished with value: 0.6548692816919401 and parameters: {'learning_rate': 0.03728697187286892, 'max_depth': 43, 'num_leaves': 38, 'feature_fraction': 0.1719678690658017, 'subsample': 0.2, 'lambda_l1': 7.539962397386546, 'lambda_l2': 8.54245720138514, 'bagging_fraction': 0.044257057730857974, 'bagging_freq': 8}. Best is trial 8 with value: 0.39231776491712855.\u001b[0m\n",
            "\u001b[32m[I 2021-11-05 18:10:08,764]\u001b[0m Trial 189 finished with value: 0.5419338936724463 and parameters: {'learning_rate': 0.3022049325710359, 'max_depth': 24, 'num_leaves': 2, 'feature_fraction': 0.7707425571948666, 'subsample': 0.4, 'lambda_l1': 1.2921953509644624, 'lambda_l2': 1.358570424240484, 'bagging_fraction': 0.5222341723221651, 'bagging_freq': 9}. Best is trial 8 with value: 0.39231776491712855.\u001b[0m\n",
            "\u001b[32m[I 2021-11-05 18:10:09,460]\u001b[0m Trial 190 finished with value: 0.4016137375610104 and parameters: {'learning_rate': 0.2150702887696673, 'max_depth': 13, 'num_leaves': 92, 'feature_fraction': 0.881665980605181, 'subsample': 1.0, 'lambda_l1': 6.218657261677985, 'lambda_l2': 7.517194907601736, 'bagging_fraction': 0.9879216413837353, 'bagging_freq': 8}. Best is trial 8 with value: 0.39231776491712855.\u001b[0m\n",
            "\u001b[32m[I 2021-11-05 18:10:09,806]\u001b[0m Trial 191 finished with value: 0.5299780020230841 and parameters: {'learning_rate': 0.19910579131435852, 'max_depth': 25, 'num_leaves': 176, 'feature_fraction': 0.10340742193445801, 'subsample': 0.8, 'lambda_l1': 3.703092789533061, 'lambda_l2': 1.802789076742326, 'bagging_fraction': 0.7018671330178803, 'bagging_freq': 7}. Best is trial 8 with value: 0.39231776491712855.\u001b[0m\n",
            "\u001b[32m[I 2021-11-05 18:10:09,968]\u001b[0m Trial 192 finished with value: 0.4733859716173979 and parameters: {'learning_rate': 0.34668648982552996, 'max_depth': 30, 'num_leaves': 24, 'feature_fraction': 0.38774845933452484, 'subsample': 0.7000000000000001, 'lambda_l1': 6.115127159393108, 'lambda_l2': 2.9394743124365785, 'bagging_fraction': 0.09387349790247801, 'bagging_freq': 3}. Best is trial 8 with value: 0.39231776491712855.\u001b[0m\n",
            "\u001b[32m[I 2021-11-05 18:10:10,341]\u001b[0m Trial 193 finished with value: 0.4403089719074633 and parameters: {'learning_rate': 0.036029062757021696, 'max_depth': 39, 'num_leaves': 44, 'feature_fraction': 0.6573258753506697, 'subsample': 0.5, 'lambda_l1': 4.448216036828951, 'lambda_l2': 9.360516166560046, 'bagging_fraction': 0.16685436783277363, 'bagging_freq': 6}. Best is trial 8 with value: 0.39231776491712855.\u001b[0m\n",
            "\u001b[32m[I 2021-11-05 18:10:10,949]\u001b[0m Trial 194 finished with value: 0.7135046594040887 and parameters: {'learning_rate': 0.016169551745020733, 'max_depth': 48, 'num_leaves': 142, 'feature_fraction': 0.1196621587575736, 'subsample': 0.30000000000000004, 'lambda_l1': 1.0876084553122045, 'lambda_l2': 9.682766785885704, 'bagging_fraction': 0.8470306696425852, 'bagging_freq': 2}. Best is trial 8 with value: 0.39231776491712855.\u001b[0m\n",
            "\u001b[32m[I 2021-11-05 18:10:11,250]\u001b[0m Trial 195 finished with value: 0.499959663484608 and parameters: {'learning_rate': 0.06358717912186235, 'max_depth': 21, 'num_leaves': 30, 'feature_fraction': 0.23883264140828003, 'subsample': 0.5, 'lambda_l1': 9.872742103606576, 'lambda_l2': 6.965799451134169, 'bagging_fraction': 0.7638801383356224, 'bagging_freq': 4}. Best is trial 8 with value: 0.39231776491712855.\u001b[0m\n",
            "\u001b[32m[I 2021-11-05 18:10:11,470]\u001b[0m Trial 196 finished with value: 0.5617348797010401 and parameters: {'learning_rate': 0.013167343564399827, 'max_depth': 4, 'num_leaves': 114, 'feature_fraction': 0.6669746437567078, 'subsample': 0.9, 'lambda_l1': 4.837022957296821, 'lambda_l2': 1.185688905834179, 'bagging_fraction': 0.9519803105140733, 'bagging_freq': 7}. Best is trial 8 with value: 0.39231776491712855.\u001b[0m\n",
            "\u001b[32m[I 2021-11-05 18:10:12,048]\u001b[0m Trial 197 finished with value: 0.42239890716720613 and parameters: {'learning_rate': 0.02915354296612472, 'max_depth': 17, 'num_leaves': 80, 'feature_fraction': 0.6872715894258951, 'subsample': 0.9, 'lambda_l1': 8.709712011793458, 'lambda_l2': 4.0536335948907976, 'bagging_fraction': 0.7619646064497275, 'bagging_freq': 9}. Best is trial 8 with value: 0.39231776491712855.\u001b[0m\n",
            "\u001b[32m[I 2021-11-05 18:10:12,347]\u001b[0m Trial 198 finished with value: 0.5674286112568621 and parameters: {'learning_rate': 0.025465293074597092, 'max_depth': 43, 'num_leaves': 29, 'feature_fraction': 0.19079512099293297, 'subsample': 0.5, 'lambda_l1': 0.37587298512268497, 'lambda_l2': 1.3214516696387668, 'bagging_fraction': 0.7344969413744522, 'bagging_freq': 4}. Best is trial 8 with value: 0.39231776491712855.\u001b[0m\n",
            "\u001b[32m[I 2021-11-05 18:10:13,012]\u001b[0m Trial 199 finished with value: 0.4441399501441971 and parameters: {'learning_rate': 0.03300916982289048, 'max_depth': 11, 'num_leaves': 108, 'feature_fraction': 0.5057469519366593, 'subsample': 0.2, 'lambda_l1': 4.800959734820012, 'lambda_l2': 0.2743156786510803, 'bagging_fraction': 0.7596768537273905, 'bagging_freq': 7}. Best is trial 8 with value: 0.39231776491712855.\u001b[0m\n"
          ]
        },
        {
          "name": "stdout",
          "output_type": "stream",
          "text": [
            "Wall time: 1min 22s\n"
          ]
        }
      ],
      "source": [
        "%%time\n",
        "%%capture\n",
        "\n",
        "study_randomsearch = optuna.create_study(\n",
        "    direction = 'minimize',\n",
        "    sampler = optuna.samplers.RandomSampler(),\n",
        "    pruner = optuna.pruners.NopPruner() \n",
        "    )\n",
        "\n",
        "study_randomsearch.optimize(objective, n_trials=N_TRIALS)"
      ]
    },
    {
      "cell_type": "code",
      "execution_count": 26,
      "metadata": {
        "colab": {
          "base_uri": "https://localhost:8080/"
        },
        "id": "NqGKn8p4aSxZ",
        "outputId": "d6141829-ede7-42f6-feea-c98f8ab4c9f1"
      },
      "outputs": [
        {
          "name": "stdout",
          "output_type": "stream",
          "text": [
            "{'score': 0.39231776491712855, 'params': {'learning_rate': 0.06488210316955564, 'max_depth': 32, 'num_leaves': 198, 'feature_fraction': 0.6423956698204506, 'subsample': 0.4, 'lambda_l1': 0.8859296979133158, 'lambda_l2': 3.463731445929307, 'bagging_fraction': 0.9901469862241185, 'bagging_freq': 3}}\n"
          ]
        }
      ],
      "source": [
        "randomsearch = {'score': study_randomsearch.best_value, 'params': study_randomsearch.best_params}\n",
        "print(randomsearch)"
      ]
    },
    {
      "cell_type": "markdown",
      "metadata": {
        "id": "qrAr9OUvJYJl"
      },
      "source": [
        "## **CMAES**"
      ]
    },
    {
      "cell_type": "code",
      "execution_count": 27,
      "metadata": {
        "colab": {
          "base_uri": "https://localhost:8080/"
        },
        "id": "Wv1aInVeJV9Y",
        "outputId": "3918ff77-7525-4ed5-9936-729eb3d943d0"
      },
      "outputs": [
        {
          "name": "stderr",
          "output_type": "stream",
          "text": [
            "\u001b[32m[I 2021-11-05 18:10:46,569]\u001b[0m A new study created in memory with name: no-name-6c24707d-d96e-4969-9a1c-e3b94182078a\u001b[0m\n",
            "\u001b[32m[I 2021-11-05 18:10:47,082]\u001b[0m Trial 0 finished with value: 0.41082541783973225 and parameters: {'learning_rate': 0.06477642923586423, 'max_depth': 23, 'num_leaves': 86, 'feature_fraction': 0.6651807892596312, 'subsample': 0.4, 'lambda_l1': 3.308617712328777, 'lambda_l2': 6.83331405936109, 'bagging_fraction': 0.37339002283766853, 'bagging_freq': 7}. Best is trial 0 with value: 0.41082541783973225.\u001b[0m\n",
            "\u001b[32m[I 2021-11-05 18:10:47,623]\u001b[0m Trial 1 finished with value: 0.42580999910883927 and parameters: {'learning_rate': 0.09130014664860443, 'max_depth': 26, 'num_leaves': 101, 'feature_fraction': 0.3285094497412938, 'subsample': 0.5, 'lambda_l1': 5.1719662229914345, 'lambda_l2': 4.943066283594739, 'bagging_fraction': 0.6780443456998841, 'bagging_freq': 5}. Best is trial 0 with value: 0.41082541783973225.\u001b[0m\n",
            "\u001b[32m[I 2021-11-05 18:10:48,116]\u001b[0m Trial 2 finished with value: 0.42449686498571304 and parameters: {'learning_rate': 0.07585705320361065, 'max_depth': 26, 'num_leaves': 101, 'feature_fraction': 0.5231739279909291, 'subsample': 0.5, 'lambda_l1': 5.107421912053601, 'lambda_l2': 5.2577201889411445, 'bagging_fraction': 0.5085404379989733, 'bagging_freq': 5}. Best is trial 0 with value: 0.41082541783973225.\u001b[0m\n",
            "\u001b[32m[I 2021-11-05 18:10:48,638]\u001b[0m Trial 3 finished with value: 0.42369901196569165 and parameters: {'learning_rate': 0.06933629382770014, 'max_depth': 26, 'num_leaves': 101, 'feature_fraction': 0.44968800279491516, 'subsample': 0.7000000000000001, 'lambda_l1': 5.284823101993916, 'lambda_l2': 5.275883811242926, 'bagging_fraction': 0.5029908609805152, 'bagging_freq': 5}. Best is trial 0 with value: 0.41082541783973225.\u001b[0m\n",
            "\u001b[32m[I 2021-11-05 18:10:49,142]\u001b[0m Trial 4 finished with value: 0.4094823803330839 and parameters: {'learning_rate': 0.06283671422704362, 'max_depth': 25, 'num_leaves': 101, 'feature_fraction': 0.6540526121982926, 'subsample': 0.5, 'lambda_l1': 4.922966102626696, 'lambda_l2': 5.115719353069512, 'bagging_fraction': 0.464821742435795, 'bagging_freq': 5}. Best is trial 4 with value: 0.4094823803330839.\u001b[0m\n",
            "\u001b[32m[I 2021-11-05 18:10:49,590]\u001b[0m Trial 5 finished with value: 0.42042133945010995 and parameters: {'learning_rate': 0.056495863922462454, 'max_depth': 26, 'num_leaves': 101, 'feature_fraction': 0.6112347593993043, 'subsample': 0.7000000000000001, 'lambda_l1': 4.871711559722761, 'lambda_l2': 4.883881741583474, 'bagging_fraction': 0.3031222445886703, 'bagging_freq': 5}. Best is trial 4 with value: 0.4094823803330839.\u001b[0m\n",
            "\u001b[32m[I 2021-11-05 18:10:50,166]\u001b[0m Trial 6 pruned. \u001b[0m\n",
            "\u001b[32m[I 2021-11-05 18:10:50,751]\u001b[0m Trial 7 pruned. \u001b[0m\n",
            "\u001b[32m[I 2021-11-05 18:10:51,416]\u001b[0m Trial 8 pruned. \u001b[0m\n",
            "\u001b[32m[I 2021-11-05 18:10:51,961]\u001b[0m Trial 9 pruned. \u001b[0m\n",
            "\u001b[32m[I 2021-11-05 18:10:52,627]\u001b[0m Trial 10 finished with value: 0.4036114644098952 and parameters: {'learning_rate': 0.0639939568909975, 'max_depth': 25, 'num_leaves': 101, 'feature_fraction': 0.5637551999875343, 'subsample': 0.6, 'lambda_l1': 5.061408987507882, 'lambda_l2': 5.228817669739467, 'bagging_fraction': 0.7609499078290645, 'bagging_freq': 5}. Best is trial 10 with value: 0.4036114644098952.\u001b[0m\n",
            "\u001b[32m[I 2021-11-05 18:10:53,201]\u001b[0m Trial 11 finished with value: 0.4107127091929142 and parameters: {'learning_rate': 0.07950507867787006, 'max_depth': 25, 'num_leaves': 101, 'feature_fraction': 0.5912413095250525, 'subsample': 0.5, 'lambda_l1': 5.0102520372128465, 'lambda_l2': 5.040206606625623, 'bagging_fraction': 0.504255070486909, 'bagging_freq': 5}. Best is trial 10 with value: 0.4036114644098952.\u001b[0m\n",
            "\u001b[32m[I 2021-11-05 18:10:53,763]\u001b[0m Trial 12 pruned. \u001b[0m\n",
            "\u001b[32m[I 2021-11-05 18:10:54,209]\u001b[0m Trial 13 pruned. \u001b[0m\n",
            "\u001b[32m[I 2021-11-05 18:10:54,786]\u001b[0m Trial 14 pruned. \u001b[0m\n",
            "\u001b[32m[I 2021-11-05 18:10:55,238]\u001b[0m Trial 15 pruned. \u001b[0m\n",
            "\u001b[32m[I 2021-11-05 18:10:55,749]\u001b[0m Trial 16 pruned. \u001b[0m\n",
            "\u001b[32m[I 2021-11-05 18:10:56,246]\u001b[0m Trial 17 pruned. \u001b[0m\n",
            "\u001b[32m[I 2021-11-05 18:10:56,837]\u001b[0m Trial 18 finished with value: 0.40529933817328995 and parameters: {'learning_rate': 0.09417642021939365, 'max_depth': 26, 'num_leaves': 101, 'feature_fraction': 0.6389261159658748, 'subsample': 0.6, 'lambda_l1': 4.941969580301834, 'lambda_l2': 5.02006185343009, 'bagging_fraction': 0.5926264472349958, 'bagging_freq': 5}. Best is trial 10 with value: 0.4036114644098952.\u001b[0m\n",
            "\u001b[32m[I 2021-11-05 18:10:57,166]\u001b[0m Trial 19 pruned. \u001b[0m\n",
            "\u001b[32m[I 2021-11-05 18:10:57,818]\u001b[0m Trial 20 pruned. \u001b[0m\n",
            "\u001b[32m[I 2021-11-05 18:10:58,259]\u001b[0m Trial 21 pruned. \u001b[0m\n",
            "\u001b[32m[I 2021-11-05 18:10:58,730]\u001b[0m Trial 22 pruned. \u001b[0m\n",
            "\u001b[32m[I 2021-11-05 18:10:59,734]\u001b[0m Trial 23 finished with value: 0.40619300357810617 and parameters: {'learning_rate': 0.09105805690329506, 'max_depth': 25, 'num_leaves': 101, 'feature_fraction': 0.7391222645736357, 'subsample': 0.7000000000000001, 'lambda_l1': 4.755383729841292, 'lambda_l2': 4.902381219397212, 'bagging_fraction': 0.5770774288586883, 'bagging_freq': 5}. Best is trial 10 with value: 0.4036114644098952.\u001b[0m\n",
            "\u001b[32m[I 2021-11-05 18:11:00,360]\u001b[0m Trial 24 pruned. \u001b[0m\n",
            "\u001b[32m[I 2021-11-05 18:11:00,937]\u001b[0m Trial 25 pruned. \u001b[0m\n",
            "\u001b[32m[I 2021-11-05 18:11:01,631]\u001b[0m Trial 26 finished with value: 0.4091776252265371 and parameters: {'learning_rate': 0.059772056701326716, 'max_depth': 26, 'num_leaves': 101, 'feature_fraction': 0.6191462792493585, 'subsample': 0.2, 'lambda_l1': 4.787373311841891, 'lambda_l2': 5.0753523686176125, 'bagging_fraction': 0.529095163537738, 'bagging_freq': 5}. Best is trial 10 with value: 0.4036114644098952.\u001b[0m\n",
            "\u001b[32m[I 2021-11-05 18:11:02,405]\u001b[0m Trial 27 finished with value: 0.3988644366048914 and parameters: {'learning_rate': 0.07702609878807712, 'max_depth': 25, 'num_leaves': 101, 'feature_fraction': 0.7478822413673539, 'subsample': 0.5, 'lambda_l1': 4.7675221822110405, 'lambda_l2': 5.138668221541519, 'bagging_fraction': 0.8753999049672556, 'bagging_freq': 5}. Best is trial 27 with value: 0.3988644366048914.\u001b[0m\n",
            "\u001b[32m[I 2021-11-05 18:11:03,040]\u001b[0m Trial 28 pruned. \u001b[0m\n",
            "\u001b[32m[I 2021-11-05 18:11:03,765]\u001b[0m Trial 29 finished with value: 0.40220599104078775 and parameters: {'learning_rate': 0.09288045338924512, 'max_depth': 26, 'num_leaves': 101, 'feature_fraction': 0.7326707261270774, 'subsample': 0.7000000000000001, 'lambda_l1': 4.678202943744181, 'lambda_l2': 5.147062483168787, 'bagging_fraction': 0.6537707659852791, 'bagging_freq': 5}. Best is trial 27 with value: 0.3988644366048914.\u001b[0m\n",
            "\u001b[32m[I 2021-11-05 18:11:04,457]\u001b[0m Trial 30 finished with value: 0.4077585145576633 and parameters: {'learning_rate': 0.06838387499769459, 'max_depth': 25, 'num_leaves': 101, 'feature_fraction': 0.6060082435256852, 'subsample': 0.9, 'lambda_l1': 5.186658007235405, 'lambda_l2': 4.815724688128834, 'bagging_fraction': 0.6074673409483535, 'bagging_freq': 5}. Best is trial 27 with value: 0.3988644366048914.\u001b[0m\n",
            "\u001b[32m[I 2021-11-05 18:11:05,342]\u001b[0m Trial 31 finished with value: 0.40355138860323153 and parameters: {'learning_rate': 0.06920423591034904, 'max_depth': 25, 'num_leaves': 101, 'feature_fraction': 0.6368003500298259, 'subsample': 0.7000000000000001, 'lambda_l1': 4.846090826864377, 'lambda_l2': 5.386064331969639, 'bagging_fraction': 0.6726281548473008, 'bagging_freq': 5}. Best is trial 27 with value: 0.3988644366048914.\u001b[0m\n",
            "\u001b[32m[I 2021-11-05 18:11:06,087]\u001b[0m Trial 32 finished with value: 0.40781207505410244 and parameters: {'learning_rate': 0.056977802830245936, 'max_depth': 25, 'num_leaves': 101, 'feature_fraction': 0.6867973533516785, 'subsample': 0.6, 'lambda_l1': 5.031087083526779, 'lambda_l2': 5.20975652424703, 'bagging_fraction': 0.5805055386962555, 'bagging_freq': 5}. Best is trial 27 with value: 0.3988644366048914.\u001b[0m\n",
            "\u001b[32m[I 2021-11-05 18:11:06,910]\u001b[0m Trial 33 finished with value: 0.40637858189411497 and parameters: {'learning_rate': 0.07857751777505917, 'max_depth': 25, 'num_leaves': 101, 'feature_fraction': 0.6420234173277409, 'subsample': 0.8, 'lambda_l1': 4.863888392438347, 'lambda_l2': 5.139890075435811, 'bagging_fraction': 0.5828131358384189, 'bagging_freq': 5}. Best is trial 27 with value: 0.3988644366048914.\u001b[0m\n",
            "\u001b[32m[I 2021-11-05 18:11:07,749]\u001b[0m Trial 34 finished with value: 0.40519599672283385 and parameters: {'learning_rate': 0.07154685523653932, 'max_depth': 25, 'num_leaves': 101, 'feature_fraction': 0.786373781432452, 'subsample': 0.8, 'lambda_l1': 5.349458854517218, 'lambda_l2': 5.404308279716924, 'bagging_fraction': 0.6604543097684098, 'bagging_freq': 5}. Best is trial 27 with value: 0.3988644366048914.\u001b[0m\n",
            "\u001b[32m[I 2021-11-05 18:11:08,579]\u001b[0m Trial 35 finished with value: 0.39846452510069597 and parameters: {'learning_rate': 0.09756446411086107, 'max_depth': 25, 'num_leaves': 101, 'feature_fraction': 0.7017705869388732, 'subsample': 0.30000000000000004, 'lambda_l1': 4.879591560299575, 'lambda_l2': 4.961038715792049, 'bagging_fraction': 0.843511577686406, 'bagging_freq': 5}. Best is trial 35 with value: 0.39846452510069597.\u001b[0m\n",
            "\u001b[32m[I 2021-11-05 18:11:09,250]\u001b[0m Trial 36 pruned. \u001b[0m\n",
            "\u001b[32m[I 2021-11-05 18:11:09,863]\u001b[0m Trial 37 pruned. \u001b[0m\n",
            "\u001b[32m[I 2021-11-05 18:11:10,585]\u001b[0m Trial 38 pruned. \u001b[0m\n",
            "\u001b[32m[I 2021-11-05 18:11:11,249]\u001b[0m Trial 39 finished with value: 0.4060240244249905 and parameters: {'learning_rate': 0.07820034951363408, 'max_depth': 26, 'num_leaves': 101, 'feature_fraction': 0.6025378371646258, 'subsample': 0.6, 'lambda_l1': 4.990830286193851, 'lambda_l2': 4.982392965260586, 'bagging_fraction': 0.5694736175648468, 'bagging_freq': 5}. Best is trial 35 with value: 0.39846452510069597.\u001b[0m\n",
            "\u001b[32m[I 2021-11-05 18:11:12,079]\u001b[0m Trial 40 finished with value: 0.40312750038140327 and parameters: {'learning_rate': 0.06929739483764283, 'max_depth': 25, 'num_leaves': 101, 'feature_fraction': 0.6035926235180353, 'subsample': 0.7000000000000001, 'lambda_l1': 5.026352774299242, 'lambda_l2': 5.108372929740709, 'bagging_fraction': 0.7817205620529482, 'bagging_freq': 5}. Best is trial 35 with value: 0.39846452510069597.\u001b[0m\n",
            "\u001b[32m[I 2021-11-05 18:11:12,869]\u001b[0m Trial 41 finished with value: 0.3997441867030614 and parameters: {'learning_rate': 0.08663585946972858, 'max_depth': 25, 'num_leaves': 101, 'feature_fraction': 0.6717029685372933, 'subsample': 0.6, 'lambda_l1': 4.717132509693474, 'lambda_l2': 4.767795163601595, 'bagging_fraction': 0.812326730617906, 'bagging_freq': 5}. Best is trial 35 with value: 0.39846452510069597.\u001b[0m\n",
            "\u001b[32m[I 2021-11-05 18:11:13,692]\u001b[0m Trial 42 finished with value: 0.4025309387639923 and parameters: {'learning_rate': 0.09300041868903627, 'max_depth': 25, 'num_leaves': 101, 'feature_fraction': 0.6617597922049059, 'subsample': 0.6, 'lambda_l1': 4.636820589710454, 'lambda_l2': 5.143918989534222, 'bagging_fraction': 0.6981697695188409, 'bagging_freq': 5}. Best is trial 35 with value: 0.39846452510069597.\u001b[0m\n",
            "\u001b[32m[I 2021-11-05 18:11:14,617]\u001b[0m Trial 43 finished with value: 0.40230760811327065 and parameters: {'learning_rate': 0.09760211881930102, 'max_depth': 25, 'num_leaves': 101, 'feature_fraction': 0.8732982004058074, 'subsample': 0.5, 'lambda_l1': 4.748108983677034, 'lambda_l2': 4.941073430556061, 'bagging_fraction': 0.7339397386167089, 'bagging_freq': 5}. Best is trial 35 with value: 0.39846452510069597.\u001b[0m\n",
            "\u001b[32m[I 2021-11-05 18:11:15,711]\u001b[0m Trial 44 pruned. \u001b[0m\n",
            "\u001b[32m[I 2021-11-05 18:11:16,531]\u001b[0m Trial 45 finished with value: 0.39853701013090925 and parameters: {'learning_rate': 0.09556902561737048, 'max_depth': 25, 'num_leaves': 101, 'feature_fraction': 0.7574023857545085, 'subsample': 0.5, 'lambda_l1': 4.906026844164179, 'lambda_l2': 5.276837689882832, 'bagging_fraction': 0.8920702521289978, 'bagging_freq': 5}. Best is trial 35 with value: 0.39846452510069597.\u001b[0m\n",
            "\u001b[32m[I 2021-11-05 18:11:17,519]\u001b[0m Trial 46 finished with value: 0.40459309984314257 and parameters: {'learning_rate': 0.0795058434528295, 'max_depth': 25, 'num_leaves': 101, 'feature_fraction': 0.8182858036687861, 'subsample': 0.6, 'lambda_l1': 4.658216332371757, 'lambda_l2': 4.956533284700208, 'bagging_fraction': 0.7148053392299398, 'bagging_freq': 5}. Best is trial 35 with value: 0.39846452510069597.\u001b[0m\n",
            "\u001b[32m[I 2021-11-05 18:11:18,382]\u001b[0m Trial 47 finished with value: 0.40316126442743805 and parameters: {'learning_rate': 0.12614127065108693, 'max_depth': 25, 'num_leaves': 101, 'feature_fraction': 0.9497696753363051, 'subsample': 0.4, 'lambda_l1': 4.742338910164257, 'lambda_l2': 5.338440651083194, 'bagging_fraction': 0.776182421377592, 'bagging_freq': 5}. Best is trial 35 with value: 0.39846452510069597.\u001b[0m\n",
            "\u001b[32m[I 2021-11-05 18:11:19,077]\u001b[0m Trial 48 finished with value: 0.39959723816704834 and parameters: {'learning_rate': 0.10360553709887617, 'max_depth': 25, 'num_leaves': 101, 'feature_fraction': 0.6385886499075744, 'subsample': 0.4, 'lambda_l1': 4.8949796619707335, 'lambda_l2': 5.263674770897412, 'bagging_fraction': 0.76728415667265, 'bagging_freq': 5}. Best is trial 35 with value: 0.39846452510069597.\u001b[0m\n",
            "\u001b[32m[I 2021-11-05 18:11:19,841]\u001b[0m Trial 49 finished with value: 0.39829980130949416 and parameters: {'learning_rate': 0.09619318659807102, 'max_depth': 25, 'num_leaves': 101, 'feature_fraction': 0.6915692805916769, 'subsample': 0.5, 'lambda_l1': 4.763167576612107, 'lambda_l2': 5.201837327609724, 'bagging_fraction': 0.8047503719440791, 'bagging_freq': 5}. Best is trial 49 with value: 0.39829980130949416.\u001b[0m\n",
            "\u001b[32m[I 2021-11-05 18:11:20,639]\u001b[0m Trial 50 finished with value: 0.40005255360712666 and parameters: {'learning_rate': 0.08579418747980692, 'max_depth': 25, 'num_leaves': 101, 'feature_fraction': 0.8058253451616838, 'subsample': 0.5, 'lambda_l1': 4.93062438847661, 'lambda_l2': 4.998953106540928, 'bagging_fraction': 0.8663502905454641, 'bagging_freq': 5}. Best is trial 49 with value: 0.39829980130949416.\u001b[0m\n",
            "\u001b[32m[I 2021-11-05 18:11:22,079]\u001b[0m Trial 51 finished with value: 0.40260543129627985 and parameters: {'learning_rate': 0.08216303254041667, 'max_depth': 25, 'num_leaves': 101, 'feature_fraction': 0.5851759456262483, 'subsample': 0.8, 'lambda_l1': 4.8157588950532, 'lambda_l2': 5.1490944475542975, 'bagging_fraction': 0.6681913996956439, 'bagging_freq': 5}. Best is trial 49 with value: 0.39829980130949416.\u001b[0m\n",
            "\u001b[32m[I 2021-11-05 18:11:22,951]\u001b[0m Trial 52 finished with value: 0.40193262098214033 and parameters: {'learning_rate': 0.11807612084553573, 'max_depth': 25, 'num_leaves': 101, 'feature_fraction': 0.5639523528709983, 'subsample': 0.2, 'lambda_l1': 4.995068389422738, 'lambda_l2': 5.153623150326731, 'bagging_fraction': 0.769459342212489, 'bagging_freq': 5}. Best is trial 49 with value: 0.39829980130949416.\u001b[0m\n",
            "\u001b[32m[I 2021-11-05 18:11:24,401]\u001b[0m Trial 53 finished with value: 0.4023373521558807 and parameters: {'learning_rate': 0.10295245595971265, 'max_depth': 25, 'num_leaves': 101, 'feature_fraction': 0.9912851817741368, 'subsample': 0.7000000000000001, 'lambda_l1': 4.778602042997226, 'lambda_l2': 4.971871261571309, 'bagging_fraction': 0.9097498590739961, 'bagging_freq': 5}. Best is trial 49 with value: 0.39829980130949416.\u001b[0m\n",
            "\u001b[32m[I 2021-11-05 18:11:24,939]\u001b[0m Trial 54 pruned. \u001b[0m\n",
            "\u001b[32m[I 2021-11-05 18:11:25,793]\u001b[0m Trial 55 finished with value: 0.39688342632581497 and parameters: {'learning_rate': 0.1069405032369749, 'max_depth': 25, 'num_leaves': 101, 'feature_fraction': 0.7293254211115192, 'subsample': 0.6, 'lambda_l1': 5.012499971482162, 'lambda_l2': 4.921637916291319, 'bagging_fraction': 0.9422819081783417, 'bagging_freq': 5}. Best is trial 55 with value: 0.39688342632581497.\u001b[0m\n",
            "\u001b[32m[I 2021-11-05 18:11:26,525]\u001b[0m Trial 56 pruned. \u001b[0m\n",
            "\u001b[32m[I 2021-11-05 18:11:27,410]\u001b[0m Trial 57 pruned. \u001b[0m\n",
            "\u001b[32m[I 2021-11-05 18:11:28,522]\u001b[0m Trial 58 pruned. \u001b[0m\n",
            "\u001b[32m[I 2021-11-05 18:11:29,465]\u001b[0m Trial 59 pruned. \u001b[0m\n",
            "\u001b[32m[I 2021-11-05 18:11:30,264]\u001b[0m Trial 60 finished with value: 0.40015971292988417 and parameters: {'learning_rate': 0.1129291268431157, 'max_depth': 25, 'num_leaves': 101, 'feature_fraction': 0.7032138722853057, 'subsample': 0.7000000000000001, 'lambda_l1': 4.845786813861357, 'lambda_l2': 5.0114708540279365, 'bagging_fraction': 0.8471971487322327, 'bagging_freq': 5}. Best is trial 55 with value: 0.39688342632581497.\u001b[0m\n",
            "\u001b[32m[I 2021-11-05 18:11:31,072]\u001b[0m Trial 61 finished with value: 0.4024473158885313 and parameters: {'learning_rate': 0.11741283164190697, 'max_depth': 25, 'num_leaves': 101, 'feature_fraction': 0.9508557581251907, 'subsample': 0.4, 'lambda_l1': 4.894001129647098, 'lambda_l2': 5.213251254306843, 'bagging_fraction': 0.8224186221918861, 'bagging_freq': 5}. Best is trial 55 with value: 0.39688342632581497.\u001b[0m\n",
            "\u001b[32m[I 2021-11-05 18:11:31,773]\u001b[0m Trial 62 pruned. \u001b[0m\n",
            "\u001b[32m[I 2021-11-05 18:11:32,618]\u001b[0m Trial 63 finished with value: 0.40003293148959157 and parameters: {'learning_rate': 0.0964153765554997, 'max_depth': 25, 'num_leaves': 101, 'feature_fraction': 0.7248626309286856, 'subsample': 0.7000000000000001, 'lambda_l1': 4.9287102180842055, 'lambda_l2': 5.174245275372778, 'bagging_fraction': 0.940891672752722, 'bagging_freq': 5}. Best is trial 55 with value: 0.39688342632581497.\u001b[0m\n",
            "\u001b[32m[I 2021-11-05 18:11:33,592]\u001b[0m Trial 64 pruned. \u001b[0m\n",
            "\u001b[32m[I 2021-11-05 18:11:34,754]\u001b[0m Trial 65 finished with value: 0.3974987864117908 and parameters: {'learning_rate': 0.12357929464605084, 'max_depth': 24, 'num_leaves': 101, 'feature_fraction': 0.7208287755938737, 'subsample': 0.30000000000000004, 'lambda_l1': 4.602497028105661, 'lambda_l2': 5.252746196621472, 'bagging_fraction': 0.9519604828213576, 'bagging_freq': 5}. Best is trial 55 with value: 0.39688342632581497.\u001b[0m\n",
            "\u001b[32m[I 2021-11-05 18:11:35,907]\u001b[0m Trial 66 finished with value: 0.3983468512849996 and parameters: {'learning_rate': 0.10473902628109187, 'max_depth': 25, 'num_leaves': 101, 'feature_fraction': 0.7992163140466432, 'subsample': 0.7000000000000001, 'lambda_l1': 4.861497250827812, 'lambda_l2': 5.2425706472984865, 'bagging_fraction': 0.8357756941129182, 'bagging_freq': 5}. Best is trial 55 with value: 0.39688342632581497.\u001b[0m\n",
            "\u001b[32m[I 2021-11-05 18:11:36,906]\u001b[0m Trial 67 finished with value: 0.4002910534376783 and parameters: {'learning_rate': 0.09497618511792982, 'max_depth': 25, 'num_leaves': 101, 'feature_fraction': 0.7470042277714191, 'subsample': 0.6, 'lambda_l1': 4.803288801812933, 'lambda_l2': 5.24815995500759, 'bagging_fraction': 0.8823553326848723, 'bagging_freq': 5}. Best is trial 55 with value: 0.39688342632581497.\u001b[0m\n",
            "\u001b[32m[I 2021-11-05 18:11:38,032]\u001b[0m Trial 68 pruned. \u001b[0m\n",
            "\u001b[32m[I 2021-11-05 18:11:39,100]\u001b[0m Trial 69 finished with value: 0.4010013690908843 and parameters: {'learning_rate': 0.10714283499022823, 'max_depth': 25, 'num_leaves': 101, 'feature_fraction': 0.6010351278394997, 'subsample': 0.5, 'lambda_l1': 4.735521968449838, 'lambda_l2': 5.218300467183839, 'bagging_fraction': 0.7838174407281275, 'bagging_freq': 5}. Best is trial 55 with value: 0.39688342632581497.\u001b[0m\n",
            "\u001b[32m[I 2021-11-05 18:11:40,174]\u001b[0m Trial 70 pruned. \u001b[0m\n",
            "\u001b[32m[I 2021-11-05 18:11:41,369]\u001b[0m Trial 71 finished with value: 0.40150844890822396 and parameters: {'learning_rate': 0.10729192178883057, 'max_depth': 25, 'num_leaves': 101, 'feature_fraction': 0.5639286018921374, 'subsample': 0.8, 'lambda_l1': 4.994369489607363, 'lambda_l2': 4.905074110592603, 'bagging_fraction': 0.7620241623033567, 'bagging_freq': 5}. Best is trial 55 with value: 0.39688342632581497.\u001b[0m\n",
            "\u001b[32m[I 2021-11-05 18:11:42,450]\u001b[0m Trial 72 pruned. \u001b[0m\n",
            "\u001b[32m[I 2021-11-05 18:11:43,400]\u001b[0m Trial 73 finished with value: 0.40185465072063536 and parameters: {'learning_rate': 0.1422278297505811, 'max_depth': 25, 'num_leaves': 101, 'feature_fraction': 0.7669507665691424, 'subsample': 0.30000000000000004, 'lambda_l1': 5.16005047048687, 'lambda_l2': 5.293425459072763, 'bagging_fraction': 0.7402242081669346, 'bagging_freq': 5}. Best is trial 55 with value: 0.39688342632581497.\u001b[0m\n",
            "\u001b[32m[I 2021-11-05 18:11:44,227]\u001b[0m Trial 74 pruned. \u001b[0m\n",
            "\u001b[32m[I 2021-11-05 18:11:45,231]\u001b[0m Trial 75 pruned. \u001b[0m\n",
            "\u001b[32m[I 2021-11-05 18:11:46,318]\u001b[0m Trial 76 finished with value: 0.39724334440866943 and parameters: {'learning_rate': 0.10262223849692137, 'max_depth': 25, 'num_leaves': 101, 'feature_fraction': 0.7942274296254902, 'subsample': 0.8, 'lambda_l1': 4.913012398530905, 'lambda_l2': 5.157091296360391, 'bagging_fraction': 0.8953713385266241, 'bagging_freq': 5}. Best is trial 55 with value: 0.39688342632581497.\u001b[0m\n",
            "\u001b[32m[I 2021-11-05 18:11:47,338]\u001b[0m Trial 77 finished with value: 0.3959869345237857 and parameters: {'learning_rate': 0.13128081648383175, 'max_depth': 25, 'num_leaves': 101, 'feature_fraction': 0.7833817559921115, 'subsample': 0.5, 'lambda_l1': 5.242953879454302, 'lambda_l2': 4.988406466701708, 'bagging_fraction': 0.99120667643451, 'bagging_freq': 5}. Best is trial 77 with value: 0.3959869345237857.\u001b[0m\n",
            "\u001b[32m[I 2021-11-05 18:11:48,252]\u001b[0m Trial 78 finished with value: 0.39713893239050846 and parameters: {'learning_rate': 0.08969413952857667, 'max_depth': 25, 'num_leaves': 101, 'feature_fraction': 0.6419852388691949, 'subsample': 0.5, 'lambda_l1': 4.860868213144355, 'lambda_l2': 5.189177967801276, 'bagging_fraction': 0.9602494174463987, 'bagging_freq': 5}. Best is trial 77 with value: 0.3959869345237857.\u001b[0m\n",
            "\u001b[32m[I 2021-11-05 18:11:49,136]\u001b[0m Trial 79 finished with value: 0.3984093489756813 and parameters: {'learning_rate': 0.11245423411626493, 'max_depth': 25, 'num_leaves': 101, 'feature_fraction': 0.9137057518250624, 'subsample': 0.5, 'lambda_l1': 4.836497291548718, 'lambda_l2': 4.6783350758085955, 'bagging_fraction': 0.9660277399684919, 'bagging_freq': 5}. Best is trial 77 with value: 0.3959869345237857.\u001b[0m\n",
            "\u001b[32m[I 2021-11-05 18:11:50,221]\u001b[0m Trial 80 pruned. \u001b[0m\n",
            "\u001b[32m[I 2021-11-05 18:11:50,990]\u001b[0m Trial 81 finished with value: 0.39780521427982657 and parameters: {'learning_rate': 0.08358557501478062, 'max_depth': 25, 'num_leaves': 101, 'feature_fraction': 0.6924559199219508, 'subsample': 0.5, 'lambda_l1': 4.769114670229123, 'lambda_l2': 5.244327075648277, 'bagging_fraction': 0.8479860533965656, 'bagging_freq': 5}. Best is trial 77 with value: 0.3959869345237857.\u001b[0m\n",
            "\u001b[32m[I 2021-11-05 18:11:52,146]\u001b[0m Trial 82 pruned. \u001b[0m\n",
            "\u001b[32m[I 2021-11-05 18:11:53,025]\u001b[0m Trial 83 pruned. \u001b[0m\n",
            "\u001b[32m[I 2021-11-05 18:11:54,143]\u001b[0m Trial 84 pruned. \u001b[0m\n",
            "\u001b[32m[I 2021-11-05 18:11:55,083]\u001b[0m Trial 85 finished with value: 0.39721459539096865 and parameters: {'learning_rate': 0.09209359209793108, 'max_depth': 25, 'num_leaves': 101, 'feature_fraction': 0.801579473469614, 'subsample': 0.8, 'lambda_l1': 5.161126318988994, 'lambda_l2': 4.849232357330031, 'bagging_fraction': 0.8108096867565664, 'bagging_freq': 5}. Best is trial 77 with value: 0.3959869345237857.\u001b[0m\n",
            "\u001b[32m[I 2021-11-05 18:11:56,057]\u001b[0m Trial 86 finished with value: 0.3980813979951671 and parameters: {'learning_rate': 0.08666678461178338, 'max_depth': 25, 'num_leaves': 101, 'feature_fraction': 0.8478035975514115, 'subsample': 0.6, 'lambda_l1': 4.960009427119178, 'lambda_l2': 5.035826557668362, 'bagging_fraction': 0.9064817843440901, 'bagging_freq': 5}. Best is trial 77 with value: 0.3959869345237857.\u001b[0m\n",
            "\u001b[32m[I 2021-11-05 18:11:56,984]\u001b[0m Trial 87 pruned. \u001b[0m\n",
            "\u001b[32m[I 2021-11-05 18:11:58,096]\u001b[0m Trial 88 finished with value: 0.4009215933288365 and parameters: {'learning_rate': 0.12462482883256419, 'max_depth': 25, 'num_leaves': 101, 'feature_fraction': 0.8644471693113147, 'subsample': 0.8, 'lambda_l1': 5.236393134422582, 'lambda_l2': 5.1353202854591515, 'bagging_fraction': 0.9110024841924691, 'bagging_freq': 5}. Best is trial 77 with value: 0.3959869345237857.\u001b[0m\n",
            "\u001b[32m[I 2021-11-05 18:11:58,857]\u001b[0m Trial 89 pruned. \u001b[0m\n",
            "\u001b[32m[I 2021-11-05 18:11:59,491]\u001b[0m Trial 90 pruned. \u001b[0m\n",
            "\u001b[32m[I 2021-11-05 18:12:00,126]\u001b[0m Trial 91 pruned. \u001b[0m\n",
            "\u001b[32m[I 2021-11-05 18:12:01,025]\u001b[0m Trial 92 finished with value: 0.3966512603651341 and parameters: {'learning_rate': 0.09366069114725652, 'max_depth': 25, 'num_leaves': 101, 'feature_fraction': 0.5878359004730511, 'subsample': 0.4, 'lambda_l1': 4.647828308413929, 'lambda_l2': 5.032375080649715, 'bagging_fraction': 0.9082641784484939, 'bagging_freq': 5}. Best is trial 77 with value: 0.3959869345237857.\u001b[0m\n",
            "\u001b[32m[I 2021-11-05 18:12:01,916]\u001b[0m Trial 93 finished with value: 0.39909778985855715 and parameters: {'learning_rate': 0.1000254624398709, 'max_depth': 25, 'num_leaves': 101, 'feature_fraction': 0.5791613831590074, 'subsample': 0.5, 'lambda_l1': 5.496947531050634, 'lambda_l2': 4.685006852867826, 'bagging_fraction': 0.9931783263520982, 'bagging_freq': 5}. Best is trial 77 with value: 0.3959869345237857.\u001b[0m\n",
            "\u001b[32m[I 2021-11-05 18:12:02,859]\u001b[0m Trial 94 finished with value: 0.3985992799527065 and parameters: {'learning_rate': 0.11907364110146436, 'max_depth': 25, 'num_leaves': 101, 'feature_fraction': 0.8002567835179146, 'subsample': 0.5, 'lambda_l1': 5.270969503379003, 'lambda_l2': 5.117511141602526, 'bagging_fraction': 0.9504825489259988, 'bagging_freq': 5}. Best is trial 77 with value: 0.3959869345237857.\u001b[0m\n",
            "\u001b[32m[I 2021-11-05 18:12:03,840]\u001b[0m Trial 95 finished with value: 0.401308837417231 and parameters: {'learning_rate': 0.16027529678242552, 'max_depth': 25, 'num_leaves': 101, 'feature_fraction': 0.6477423549673805, 'subsample': 0.5, 'lambda_l1': 4.875239929947138, 'lambda_l2': 5.14542212088857, 'bagging_fraction': 0.8460834259787875, 'bagging_freq': 5}. Best is trial 77 with value: 0.3959869345237857.\u001b[0m\n",
            "\u001b[32m[I 2021-11-05 18:12:04,688]\u001b[0m Trial 96 finished with value: 0.3985536310220884 and parameters: {'learning_rate': 0.1005977706131652, 'max_depth': 25, 'num_leaves': 101, 'feature_fraction': 0.7936529792591839, 'subsample': 0.7000000000000001, 'lambda_l1': 5.023473817437139, 'lambda_l2': 4.982930132357306, 'bagging_fraction': 0.7948188425317526, 'bagging_freq': 5}. Best is trial 77 with value: 0.3959869345237857.\u001b[0m\n",
            "\u001b[32m[I 2021-11-05 18:12:05,488]\u001b[0m Trial 97 finished with value: 0.3980317598134095 and parameters: {'learning_rate': 0.08162957551808016, 'max_depth': 25, 'num_leaves': 101, 'feature_fraction': 0.6876644336234047, 'subsample': 0.8, 'lambda_l1': 5.438959842798547, 'lambda_l2': 5.018515083295357, 'bagging_fraction': 0.9530996237255771, 'bagging_freq': 5}. Best is trial 77 with value: 0.3959869345237857.\u001b[0m\n",
            "\u001b[32m[I 2021-11-05 18:12:06,319]\u001b[0m Trial 98 pruned. \u001b[0m\n",
            "\u001b[32m[I 2021-11-05 18:12:07,123]\u001b[0m Trial 99 pruned. \u001b[0m\n",
            "\u001b[32m[I 2021-11-05 18:12:08,055]\u001b[0m Trial 100 finished with value: 0.3979339526913521 and parameters: {'learning_rate': 0.09163038690460461, 'max_depth': 25, 'num_leaves': 101, 'feature_fraction': 0.7942924274158879, 'subsample': 0.5, 'lambda_l1': 4.979658211238035, 'lambda_l2': 5.206875676293796, 'bagging_fraction': 0.8571711147516652, 'bagging_freq': 5}. Best is trial 77 with value: 0.3959869345237857.\u001b[0m\n",
            "\u001b[32m[I 2021-11-05 18:12:09,012]\u001b[0m Trial 101 finished with value: 0.4008766648054773 and parameters: {'learning_rate': 0.08406999789051789, 'max_depth': 25, 'num_leaves': 101, 'feature_fraction': 0.9139131170827609, 'subsample': 0.7000000000000001, 'lambda_l1': 5.162521771300443, 'lambda_l2': 4.959129417230037, 'bagging_fraction': 0.7337530083983392, 'bagging_freq': 5}. Best is trial 77 with value: 0.3959869345237857.\u001b[0m\n",
            "\u001b[32m[I 2021-11-05 18:12:09,903]\u001b[0m Trial 102 finished with value: 0.39896016612057106 and parameters: {'learning_rate': 0.10347420766652092, 'max_depth': 25, 'num_leaves': 101, 'feature_fraction': 0.7199391433318065, 'subsample': 0.7000000000000001, 'lambda_l1': 5.280236760449305, 'lambda_l2': 5.130858053675236, 'bagging_fraction': 0.9572243179730991, 'bagging_freq': 5}. Best is trial 77 with value: 0.3959869345237857.\u001b[0m\n",
            "\u001b[32m[I 2021-11-05 18:12:10,722]\u001b[0m Trial 103 pruned. \u001b[0m\n",
            "\u001b[32m[I 2021-11-05 18:12:11,556]\u001b[0m Trial 104 finished with value: 0.39687230283306896 and parameters: {'learning_rate': 0.10437485729614462, 'max_depth': 25, 'num_leaves': 101, 'feature_fraction': 0.5906183786973622, 'subsample': 0.8, 'lambda_l1': 5.054542869443022, 'lambda_l2': 5.022743364684323, 'bagging_fraction': 0.9420114145680688, 'bagging_freq': 5}. Best is trial 77 with value: 0.3959869345237857.\u001b[0m\n",
            "\u001b[32m[I 2021-11-05 18:12:12,301]\u001b[0m Trial 105 pruned. \u001b[0m\n",
            "\u001b[32m[I 2021-11-05 18:12:13,202]\u001b[0m Trial 106 finished with value: 0.3977355338439056 and parameters: {'learning_rate': 0.0832113728192846, 'max_depth': 25, 'num_leaves': 101, 'feature_fraction': 0.8304220633501824, 'subsample': 0.7000000000000001, 'lambda_l1': 4.863910467692452, 'lambda_l2': 5.425357076611482, 'bagging_fraction': 0.812683346315765, 'bagging_freq': 5}. Best is trial 77 with value: 0.3959869345237857.\u001b[0m\n",
            "\u001b[32m[I 2021-11-05 18:12:14,100]\u001b[0m Trial 107 pruned. \u001b[0m\n",
            "\u001b[32m[I 2021-11-05 18:12:14,860]\u001b[0m Trial 108 pruned. \u001b[0m\n",
            "\u001b[32m[I 2021-11-05 18:12:15,672]\u001b[0m Trial 109 pruned. \u001b[0m\n",
            "\u001b[32m[I 2021-11-05 18:12:16,563]\u001b[0m Trial 110 pruned. \u001b[0m\n",
            "\u001b[32m[I 2021-11-05 18:12:17,424]\u001b[0m Trial 111 finished with value: 0.39880688599049247 and parameters: {'learning_rate': 0.08158839980506026, 'max_depth': 25, 'num_leaves': 101, 'feature_fraction': 0.866169611837266, 'subsample': 0.4, 'lambda_l1': 4.870592847394803, 'lambda_l2': 4.780950716778562, 'bagging_fraction': 0.9918660932362859, 'bagging_freq': 5}. Best is trial 77 with value: 0.3959869345237857.\u001b[0m\n",
            "\u001b[32m[I 2021-11-05 18:12:18,243]\u001b[0m Trial 112 finished with value: 0.40001696113796176 and parameters: {'learning_rate': 0.07542633261367117, 'max_depth': 25, 'num_leaves': 101, 'feature_fraction': 0.8635636736672854, 'subsample': 0.4, 'lambda_l1': 5.058148400250681, 'lambda_l2': 5.061408665499411, 'bagging_fraction': 0.7997645414656362, 'bagging_freq': 5}. Best is trial 77 with value: 0.3959869345237857.\u001b[0m\n",
            "\u001b[32m[I 2021-11-05 18:12:19,084]\u001b[0m Trial 113 pruned. \u001b[0m\n",
            "\u001b[32m[I 2021-11-05 18:12:19,999]\u001b[0m Trial 114 finished with value: 0.40086370945761907 and parameters: {'learning_rate': 0.08224501436331448, 'max_depth': 25, 'num_leaves': 101, 'feature_fraction': 0.6461800368117424, 'subsample': 0.6, 'lambda_l1': 5.041228955679745, 'lambda_l2': 4.944507859740495, 'bagging_fraction': 0.7800321934987603, 'bagging_freq': 5}. Best is trial 77 with value: 0.3959869345237857.\u001b[0m\n",
            "\u001b[32m[I 2021-11-05 18:12:20,951]\u001b[0m Trial 115 finished with value: 0.3994782988141801 and parameters: {'learning_rate': 0.09096568165583648, 'max_depth': 25, 'num_leaves': 101, 'feature_fraction': 0.6904217678945809, 'subsample': 0.6, 'lambda_l1': 4.927508942508492, 'lambda_l2': 5.196212434002624, 'bagging_fraction': 0.9777886370769613, 'bagging_freq': 5}. Best is trial 77 with value: 0.3959869345237857.\u001b[0m\n",
            "\u001b[32m[I 2021-11-05 18:12:21,759]\u001b[0m Trial 116 pruned. \u001b[0m\n",
            "\u001b[32m[I 2021-11-05 18:12:22,709]\u001b[0m Trial 117 finished with value: 0.39870316014342216 and parameters: {'learning_rate': 0.12793208037207857, 'max_depth': 25, 'num_leaves': 101, 'feature_fraction': 0.6657109560973802, 'subsample': 0.30000000000000004, 'lambda_l1': 4.851772066150693, 'lambda_l2': 5.220217626901545, 'bagging_fraction': 0.8982414055997495, 'bagging_freq': 5}. Best is trial 77 with value: 0.3959869345237857.\u001b[0m\n",
            "\u001b[32m[I 2021-11-05 18:12:23,740]\u001b[0m Trial 118 finished with value: 0.4004988055729839 and parameters: {'learning_rate': 0.09883769004893421, 'max_depth': 25, 'num_leaves': 101, 'feature_fraction': 0.5894387312450037, 'subsample': 0.6, 'lambda_l1': 5.299448961439279, 'lambda_l2': 5.334278740738454, 'bagging_fraction': 0.8585211575385969, 'bagging_freq': 5}. Best is trial 77 with value: 0.3959869345237857.\u001b[0m\n",
            "\u001b[32m[I 2021-11-05 18:12:24,757]\u001b[0m Trial 119 pruned. \u001b[0m\n",
            "\u001b[32m[I 2021-11-05 18:12:25,801]\u001b[0m Trial 120 pruned. \u001b[0m\n",
            "\u001b[32m[I 2021-11-05 18:12:26,617]\u001b[0m Trial 121 pruned. \u001b[0m\n",
            "\u001b[32m[I 2021-11-05 18:12:27,208]\u001b[0m Trial 122 pruned. \u001b[0m\n",
            "\u001b[32m[I 2021-11-05 18:12:28,091]\u001b[0m Trial 123 pruned. \u001b[0m\n",
            "\u001b[32m[I 2021-11-05 18:12:28,922]\u001b[0m Trial 124 pruned. \u001b[0m\n",
            "\u001b[32m[I 2021-11-05 18:12:29,906]\u001b[0m Trial 125 finished with value: 0.398693625642096 and parameters: {'learning_rate': 0.09081437432774506, 'max_depth': 25, 'num_leaves': 101, 'feature_fraction': 0.6767073755603263, 'subsample': 0.5, 'lambda_l1': 5.2168414531535445, 'lambda_l2': 5.088741039680365, 'bagging_fraction': 0.9251549724860432, 'bagging_freq': 5}. Best is trial 77 with value: 0.3959869345237857.\u001b[0m\n",
            "\u001b[32m[I 2021-11-05 18:12:30,714]\u001b[0m Trial 126 pruned. \u001b[0m\n",
            "\u001b[32m[I 2021-11-05 18:12:31,492]\u001b[0m Trial 127 pruned. \u001b[0m\n",
            "\u001b[32m[I 2021-11-05 18:12:32,227]\u001b[0m Trial 128 finished with value: 0.40041228099292914 and parameters: {'learning_rate': 0.08811148460260365, 'max_depth': 25, 'num_leaves': 101, 'feature_fraction': 0.6918228868280532, 'subsample': 0.6, 'lambda_l1': 4.896373930093798, 'lambda_l2': 5.004109900553379, 'bagging_fraction': 0.6837567601833225, 'bagging_freq': 5}. Best is trial 77 with value: 0.3959869345237857.\u001b[0m\n",
            "\u001b[32m[I 2021-11-05 18:12:32,969]\u001b[0m Trial 129 pruned. \u001b[0m\n",
            "\u001b[32m[I 2021-11-05 18:12:33,773]\u001b[0m Trial 130 pruned. \u001b[0m\n",
            "\u001b[32m[I 2021-11-05 18:12:34,489]\u001b[0m Trial 131 pruned. \u001b[0m\n",
            "\u001b[32m[I 2021-11-05 18:12:35,080]\u001b[0m Trial 132 pruned. \u001b[0m\n",
            "\u001b[32m[I 2021-11-05 18:12:35,816]\u001b[0m Trial 133 pruned. \u001b[0m\n",
            "\u001b[32m[I 2021-11-05 18:12:36,647]\u001b[0m Trial 134 pruned. \u001b[0m\n",
            "\u001b[32m[I 2021-11-05 18:12:37,506]\u001b[0m Trial 135 finished with value: 0.3956091733845269 and parameters: {'learning_rate': 0.08258532700712243, 'max_depth': 25, 'num_leaves': 101, 'feature_fraction': 0.6409066363317579, 'subsample': 0.8, 'lambda_l1': 4.676965102421771, 'lambda_l2': 5.046539801167314, 'bagging_fraction': 0.9861621442714299, 'bagging_freq': 5}. Best is trial 135 with value: 0.3956091733845269.\u001b[0m\n",
            "\u001b[32m[I 2021-11-05 18:12:38,358]\u001b[0m Trial 136 pruned. \u001b[0m\n",
            "\u001b[32m[I 2021-11-05 18:12:39,368]\u001b[0m Trial 137 pruned. \u001b[0m\n",
            "\u001b[32m[I 2021-11-05 18:12:40,288]\u001b[0m Trial 138 pruned. \u001b[0m\n",
            "\u001b[32m[I 2021-11-05 18:12:41,254]\u001b[0m Trial 139 pruned. \u001b[0m\n",
            "\u001b[32m[I 2021-11-05 18:12:42,276]\u001b[0m Trial 140 finished with value: 0.3965899969301852 and parameters: {'learning_rate': 0.08184906582594287, 'max_depth': 25, 'num_leaves': 101, 'feature_fraction': 0.6429707604069134, 'subsample': 0.8, 'lambda_l1': 4.751971097432244, 'lambda_l2': 5.030159048782125, 'bagging_fraction': 0.995212868238834, 'bagging_freq': 5}. Best is trial 135 with value: 0.3956091733845269.\u001b[0m\n",
            "\u001b[32m[I 2021-11-05 18:12:43,237]\u001b[0m Trial 141 finished with value: 0.39984180831656146 and parameters: {'learning_rate': 0.08514970792805374, 'max_depth': 25, 'num_leaves': 101, 'feature_fraction': 0.786673255884845, 'subsample': 0.5, 'lambda_l1': 4.912131629760267, 'lambda_l2': 5.236343984724336, 'bagging_fraction': 0.7286491075739812, 'bagging_freq': 5}. Best is trial 135 with value: 0.3956091733845269.\u001b[0m\n",
            "\u001b[32m[I 2021-11-05 18:12:44,202]\u001b[0m Trial 142 finished with value: 0.3997934706985721 and parameters: {'learning_rate': 0.07446263849296977, 'max_depth': 25, 'num_leaves': 101, 'feature_fraction': 0.6379970236558464, 'subsample': 0.6, 'lambda_l1': 4.668678003513614, 'lambda_l2': 4.801960259667017, 'bagging_fraction': 0.8962330290920703, 'bagging_freq': 5}. Best is trial 135 with value: 0.3956091733845269.\u001b[0m\n",
            "\u001b[32m[I 2021-11-05 18:12:45,010]\u001b[0m Trial 143 pruned. \u001b[0m\n",
            "\u001b[32m[I 2021-11-05 18:12:45,840]\u001b[0m Trial 144 finished with value: 0.3992035654583947 and parameters: {'learning_rate': 0.08774602066311434, 'max_depth': 25, 'num_leaves': 101, 'feature_fraction': 0.7655427673446659, 'subsample': 0.8, 'lambda_l1': 4.844634883910025, 'lambda_l2': 5.1009525269273315, 'bagging_fraction': 0.9819451866926213, 'bagging_freq': 5}. Best is trial 135 with value: 0.3956091733845269.\u001b[0m\n",
            "\u001b[32m[I 2021-11-05 18:12:46,850]\u001b[0m Trial 145 pruned. \u001b[0m\n",
            "\u001b[32m[I 2021-11-05 18:12:47,764]\u001b[0m Trial 146 finished with value: 0.3975713784319172 and parameters: {'learning_rate': 0.11479858570166977, 'max_depth': 25, 'num_leaves': 101, 'feature_fraction': 0.8251700278982963, 'subsample': 0.6, 'lambda_l1': 4.8703804206195045, 'lambda_l2': 4.926726771321168, 'bagging_fraction': 0.9302357086010667, 'bagging_freq': 5}. Best is trial 135 with value: 0.3956091733845269.\u001b[0m\n",
            "\u001b[32m[I 2021-11-05 18:12:48,470]\u001b[0m Trial 147 pruned. \u001b[0m\n",
            "\u001b[32m[I 2021-11-05 18:12:49,247]\u001b[0m Trial 148 finished with value: 0.3983006530212289 and parameters: {'learning_rate': 0.08853347253047927, 'max_depth': 25, 'num_leaves': 101, 'feature_fraction': 0.6550380223180661, 'subsample': 0.4, 'lambda_l1': 4.759788311662499, 'lambda_l2': 5.259386031467644, 'bagging_fraction': 0.9898928116463476, 'bagging_freq': 5}. Best is trial 135 with value: 0.3956091733845269.\u001b[0m\n",
            "\u001b[32m[I 2021-11-05 18:12:50,068]\u001b[0m Trial 149 pruned. \u001b[0m\n",
            "\u001b[32m[I 2021-11-05 18:12:50,815]\u001b[0m Trial 150 pruned. \u001b[0m\n",
            "\u001b[32m[I 2021-11-05 18:12:51,686]\u001b[0m Trial 151 pruned. \u001b[0m\n",
            "\u001b[32m[I 2021-11-05 18:12:52,411]\u001b[0m Trial 152 pruned. \u001b[0m\n",
            "\u001b[32m[I 2021-11-05 18:12:53,383]\u001b[0m Trial 153 finished with value: 0.3977125842751815 and parameters: {'learning_rate': 0.09609652685348481, 'max_depth': 25, 'num_leaves': 101, 'feature_fraction': 0.7634582871218232, 'subsample': 0.6, 'lambda_l1': 4.9008423298263715, 'lambda_l2': 5.091246743558068, 'bagging_fraction': 0.7925031034752141, 'bagging_freq': 5}. Best is trial 135 with value: 0.3956091733845269.\u001b[0m\n",
            "\u001b[32m[I 2021-11-05 18:12:54,290]\u001b[0m Trial 154 pruned. \u001b[0m\n",
            "\u001b[32m[I 2021-11-05 18:12:55,107]\u001b[0m Trial 155 pruned. \u001b[0m\n",
            "\u001b[32m[I 2021-11-05 18:12:56,005]\u001b[0m Trial 156 pruned. \u001b[0m\n",
            "\u001b[32m[I 2021-11-05 18:12:56,733]\u001b[0m Trial 157 pruned. \u001b[0m\n",
            "\u001b[32m[I 2021-11-05 18:12:57,846]\u001b[0m Trial 158 finished with value: 0.39771122995905683 and parameters: {'learning_rate': 0.09253587048539946, 'max_depth': 25, 'num_leaves': 101, 'feature_fraction': 0.738393866461131, 'subsample': 0.7000000000000001, 'lambda_l1': 5.025117990453504, 'lambda_l2': 5.0529519869713795, 'bagging_fraction': 0.9563619745254244, 'bagging_freq': 5}. Best is trial 135 with value: 0.3956091733845269.\u001b[0m\n",
            "\u001b[32m[I 2021-11-05 18:12:58,808]\u001b[0m Trial 159 finished with value: 0.3958461556391844 and parameters: {'learning_rate': 0.09574250008064149, 'max_depth': 25, 'num_leaves': 101, 'feature_fraction': 0.6271988527247752, 'subsample': 0.8, 'lambda_l1': 4.722583301880149, 'lambda_l2': 5.050200063626398, 'bagging_fraction': 0.9982024211691005, 'bagging_freq': 5}. Best is trial 135 with value: 0.3956091733845269.\u001b[0m\n",
            "\u001b[32m[I 2021-11-05 18:12:59,740]\u001b[0m Trial 160 finished with value: 0.39834851691078726 and parameters: {'learning_rate': 0.08670789131831089, 'max_depth': 25, 'num_leaves': 101, 'feature_fraction': 0.7199731513055103, 'subsample': 0.9, 'lambda_l1': 4.873371620528243, 'lambda_l2': 5.029595324812938, 'bagging_fraction': 0.8779509630690285, 'bagging_freq': 5}. Best is trial 135 with value: 0.3956091733845269.\u001b[0m\n",
            "\u001b[32m[I 2021-11-05 18:13:00,532]\u001b[0m Trial 161 finished with value: 0.3992480009232524 and parameters: {'learning_rate': 0.09903141862341239, 'max_depth': 25, 'num_leaves': 101, 'feature_fraction': 0.5776254386247018, 'subsample': 0.7000000000000001, 'lambda_l1': 4.779522877198015, 'lambda_l2': 5.024217293212833, 'bagging_fraction': 0.9054706944333801, 'bagging_freq': 5}. Best is trial 135 with value: 0.3956091733845269.\u001b[0m\n",
            "\u001b[32m[I 2021-11-05 18:13:01,339]\u001b[0m Trial 162 pruned. \u001b[0m\n",
            "\u001b[32m[I 2021-11-05 18:13:02,044]\u001b[0m Trial 163 pruned. \u001b[0m\n",
            "\u001b[32m[I 2021-11-05 18:13:02,966]\u001b[0m Trial 164 finished with value: 0.3981505091614244 and parameters: {'learning_rate': 0.104476174490988, 'max_depth': 25, 'num_leaves': 101, 'feature_fraction': 0.7097369195761061, 'subsample': 0.5, 'lambda_l1': 4.926888759428045, 'lambda_l2': 4.917271511777147, 'bagging_fraction': 0.8667336281241758, 'bagging_freq': 5}. Best is trial 135 with value: 0.3956091733845269.\u001b[0m\n",
            "\u001b[32m[I 2021-11-05 18:13:03,880]\u001b[0m Trial 165 pruned. \u001b[0m\n",
            "\u001b[32m[I 2021-11-05 18:13:04,817]\u001b[0m Trial 166 pruned. \u001b[0m\n",
            "\u001b[32m[I 2021-11-05 18:13:05,797]\u001b[0m Trial 167 finished with value: 0.3980841798299147 and parameters: {'learning_rate': 0.11637884255316998, 'max_depth': 25, 'num_leaves': 101, 'feature_fraction': 0.8182806726408336, 'subsample': 0.8, 'lambda_l1': 4.853430442317559, 'lambda_l2': 5.148851922331412, 'bagging_fraction': 0.989987248233186, 'bagging_freq': 5}. Best is trial 135 with value: 0.3956091733845269.\u001b[0m\n",
            "\u001b[32m[I 2021-11-05 18:13:06,693]\u001b[0m Trial 168 pruned. \u001b[0m\n",
            "\u001b[32m[I 2021-11-05 18:13:07,763]\u001b[0m Trial 169 pruned. \u001b[0m\n",
            "\u001b[32m[I 2021-11-05 18:13:08,662]\u001b[0m Trial 170 finished with value: 0.39875677166450313 and parameters: {'learning_rate': 0.09083037784500232, 'max_depth': 25, 'num_leaves': 101, 'feature_fraction': 0.6410212930919227, 'subsample': 0.7000000000000001, 'lambda_l1': 4.77420092607508, 'lambda_l2': 5.1351953193246445, 'bagging_fraction': 0.8654902921127257, 'bagging_freq': 5}. Best is trial 135 with value: 0.3956091733845269.\u001b[0m\n",
            "\u001b[32m[I 2021-11-05 18:13:09,691]\u001b[0m Trial 171 finished with value: 0.3981491346323983 and parameters: {'learning_rate': 0.11439773180820112, 'max_depth': 25, 'num_leaves': 101, 'feature_fraction': 0.6037469327966298, 'subsample': 0.7000000000000001, 'lambda_l1': 4.784115105980519, 'lambda_l2': 5.072366765237073, 'bagging_fraction': 0.9466176838884379, 'bagging_freq': 5}. Best is trial 135 with value: 0.3956091733845269.\u001b[0m\n",
            "\u001b[32m[I 2021-11-05 18:13:10,609]\u001b[0m Trial 172 pruned. \u001b[0m\n",
            "\u001b[32m[I 2021-11-05 18:13:11,379]\u001b[0m Trial 173 pruned. \u001b[0m\n",
            "\u001b[32m[I 2021-11-05 18:13:12,084]\u001b[0m Trial 174 pruned. \u001b[0m\n",
            "\u001b[32m[I 2021-11-05 18:13:12,944]\u001b[0m Trial 175 finished with value: 0.3988012870260637 and parameters: {'learning_rate': 0.09703600643589905, 'max_depth': 25, 'num_leaves': 101, 'feature_fraction': 0.7972910427043209, 'subsample': 0.9, 'lambda_l1': 4.850413059960543, 'lambda_l2': 4.852711440323415, 'bagging_fraction': 0.9568344827788523, 'bagging_freq': 5}. Best is trial 135 with value: 0.3956091733845269.\u001b[0m\n",
            "\u001b[32m[I 2021-11-05 18:13:13,894]\u001b[0m Trial 176 pruned. \u001b[0m\n",
            "\u001b[32m[I 2021-11-05 18:13:14,818]\u001b[0m Trial 177 finished with value: 0.3990619018788502 and parameters: {'learning_rate': 0.10746930160071665, 'max_depth': 25, 'num_leaves': 101, 'feature_fraction': 0.8716618307664366, 'subsample': 0.8, 'lambda_l1': 4.77475447545254, 'lambda_l2': 4.6151694229904585, 'bagging_fraction': 0.9416241693646336, 'bagging_freq': 5}. Best is trial 135 with value: 0.3956091733845269.\u001b[0m\n",
            "\u001b[32m[I 2021-11-05 18:13:15,766]\u001b[0m Trial 178 finished with value: 0.3984139455168635 and parameters: {'learning_rate': 0.09041419396421943, 'max_depth': 25, 'num_leaves': 101, 'feature_fraction': 0.5697689392969311, 'subsample': 0.6, 'lambda_l1': 4.899079915038013, 'lambda_l2': 4.934507317702438, 'bagging_fraction': 0.9429982144967933, 'bagging_freq': 5}. Best is trial 135 with value: 0.3956091733845269.\u001b[0m\n",
            "\u001b[32m[I 2021-11-05 18:13:16,577]\u001b[0m Trial 179 finished with value: 0.39760272527396706 and parameters: {'learning_rate': 0.07344350889118399, 'max_depth': 25, 'num_leaves': 101, 'feature_fraction': 0.5942102267180318, 'subsample': 0.7000000000000001, 'lambda_l1': 4.861564456503129, 'lambda_l2': 5.422876688381146, 'bagging_fraction': 0.9852201713376785, 'bagging_freq': 5}. Best is trial 135 with value: 0.3956091733845269.\u001b[0m\n",
            "\u001b[32m[I 2021-11-05 18:13:17,387]\u001b[0m Trial 180 pruned. \u001b[0m\n",
            "\u001b[32m[I 2021-11-05 18:13:18,431]\u001b[0m Trial 181 pruned. \u001b[0m\n",
            "\u001b[32m[I 2021-11-05 18:13:19,468]\u001b[0m Trial 182 pruned. \u001b[0m\n",
            "\u001b[32m[I 2021-11-05 18:13:20,425]\u001b[0m Trial 183 pruned. \u001b[0m\n",
            "\u001b[32m[I 2021-11-05 18:13:21,229]\u001b[0m Trial 184 finished with value: 0.39754540493994983 and parameters: {'learning_rate': 0.111469006274188, 'max_depth': 25, 'num_leaves': 101, 'feature_fraction': 0.5918571532640793, 'subsample': 0.8, 'lambda_l1': 4.796027773129606, 'lambda_l2': 4.998536332862093, 'bagging_fraction': 0.9959195316978067, 'bagging_freq': 5}. Best is trial 135 with value: 0.3956091733845269.\u001b[0m\n",
            "\u001b[32m[I 2021-11-05 18:13:21,923]\u001b[0m Trial 185 pruned. \u001b[0m\n",
            "\u001b[32m[I 2021-11-05 18:13:22,773]\u001b[0m Trial 186 pruned. \u001b[0m\n",
            "\u001b[32m[I 2021-11-05 18:13:23,905]\u001b[0m Trial 187 pruned. \u001b[0m\n",
            "\u001b[32m[I 2021-11-05 18:13:25,006]\u001b[0m Trial 188 pruned. \u001b[0m\n",
            "\u001b[32m[I 2021-11-05 18:13:26,139]\u001b[0m Trial 189 pruned. \u001b[0m\n",
            "\u001b[32m[I 2021-11-05 18:13:27,284]\u001b[0m Trial 190 pruned. \u001b[0m\n",
            "\u001b[32m[I 2021-11-05 18:13:28,070]\u001b[0m Trial 191 finished with value: 0.39631555673356944 and parameters: {'learning_rate': 0.0935057774055839, 'max_depth': 25, 'num_leaves': 101, 'feature_fraction': 0.7057321507111479, 'subsample': 0.9, 'lambda_l1': 4.811745086682124, 'lambda_l2': 5.070888746072605, 'bagging_fraction': 0.9231264589682134, 'bagging_freq': 5}. Best is trial 135 with value: 0.3956091733845269.\u001b[0m\n",
            "\u001b[32m[I 2021-11-05 18:13:28,938]\u001b[0m Trial 192 finished with value: 0.3981435306226929 and parameters: {'learning_rate': 0.0835493975051001, 'max_depth': 25, 'num_leaves': 101, 'feature_fraction': 0.7023585550461501, 'subsample': 0.6, 'lambda_l1': 4.655216098541009, 'lambda_l2': 5.120568822249583, 'bagging_fraction': 0.8863561388827155, 'bagging_freq': 5}. Best is trial 135 with value: 0.3956091733845269.\u001b[0m\n",
            "\u001b[32m[I 2021-11-05 18:13:29,695]\u001b[0m Trial 193 pruned. \u001b[0m\n",
            "\u001b[32m[I 2021-11-05 18:13:30,588]\u001b[0m Trial 194 pruned. \u001b[0m\n",
            "\u001b[32m[I 2021-11-05 18:13:31,477]\u001b[0m Trial 195 finished with value: 0.39611180594194667 and parameters: {'learning_rate': 0.09024079444036182, 'max_depth': 25, 'num_leaves': 101, 'feature_fraction': 0.6210967399812258, 'subsample': 0.7000000000000001, 'lambda_l1': 4.759424019483326, 'lambda_l2': 5.047946665404407, 'bagging_fraction': 0.9632381213912786, 'bagging_freq': 5}. Best is trial 135 with value: 0.3956091733845269.\u001b[0m\n",
            "\u001b[32m[I 2021-11-05 18:13:32,296]\u001b[0m Trial 196 pruned. \u001b[0m\n",
            "\u001b[32m[I 2021-11-05 18:13:33,169]\u001b[0m Trial 197 pruned. \u001b[0m\n",
            "\u001b[32m[I 2021-11-05 18:13:34,192]\u001b[0m Trial 198 finished with value: 0.39761888603002143 and parameters: {'learning_rate': 0.08376118790862708, 'max_depth': 25, 'num_leaves': 101, 'feature_fraction': 0.6067662802516581, 'subsample': 0.8, 'lambda_l1': 4.6751178540761344, 'lambda_l2': 5.298938649713843, 'bagging_fraction': 0.9030445418520631, 'bagging_freq': 5}. Best is trial 135 with value: 0.3956091733845269.\u001b[0m\n",
            "\u001b[32m[I 2021-11-05 18:13:35,218]\u001b[0m Trial 199 pruned. \u001b[0m\n"
          ]
        },
        {
          "name": "stdout",
          "output_type": "stream",
          "text": [
            "Wall time: 2min 48s\n"
          ]
        }
      ],
      "source": [
        "%%time\n",
        "%%capture\n",
        "\n",
        "study_cmaes = optuna.create_study(\n",
        "    direction = 'minimize',\n",
        "    sampler = optuna.samplers.CmaEsSampler(),\n",
        "    pruner = optuna.pruners.MedianPruner()  \n",
        "    )\n",
        "\n",
        "study_cmaes.optimize(objective, n_trials=N_TRIALS)"
      ]
    },
    {
      "cell_type": "code",
      "execution_count": 28,
      "metadata": {
        "colab": {
          "base_uri": "https://localhost:8080/"
        },
        "id": "ggS0cFflJixW",
        "outputId": "889e8c19-1a72-458c-d55b-be1063aab04d"
      },
      "outputs": [
        {
          "name": "stdout",
          "output_type": "stream",
          "text": [
            "{'score': 0.3956091733845269, 'params': {'learning_rate': 0.08258532700712243, 'max_depth': 25, 'num_leaves': 101, 'feature_fraction': 0.6409066363317579, 'subsample': 0.8, 'lambda_l1': 4.676965102421771, 'lambda_l2': 5.046539801167314, 'bagging_fraction': 0.9861621442714299, 'bagging_freq': 5}}\n"
          ]
        }
      ],
      "source": [
        "cmaessearch = {'score': study_cmaes.best_value, 'params': study_cmaes.best_params}\n",
        "print(cmaessearch)"
      ]
    },
    {
      "cell_type": "markdown",
      "metadata": {
        "id": "SGCET5ZNaTol"
      },
      "source": [
        "## **BOHB**"
      ]
    },
    {
      "cell_type": "code",
      "execution_count": 29,
      "metadata": {
        "colab": {
          "base_uri": "https://localhost:8080/"
        },
        "id": "KLlozjVlbKfh",
        "outputId": "e7ec100d-62de-40e3-bdc6-ced310ae3afb"
      },
      "outputs": [
        {
          "name": "stderr",
          "output_type": "stream",
          "text": [
            "\u001b[32m[I 2021-11-05 18:14:11,489]\u001b[0m A new study created in memory with name: no-name-d24deefc-fe88-4c28-9863-51c4b9be4885\u001b[0m\n",
            "\u001b[32m[I 2021-11-05 18:14:11,767]\u001b[0m Trial 0 finished with value: 0.7447051620827624 and parameters: {'learning_rate': 0.013458154326238021, 'max_depth': 34, 'num_leaves': 130, 'feature_fraction': 0.1377126691338408, 'subsample': 0.6, 'lambda_l1': 7.945249477967162, 'lambda_l2': 7.118335477446801, 'bagging_fraction': 0.6222336184667068, 'bagging_freq': 2}. Best is trial 0 with value: 0.7447051620827624.\u001b[0m\n",
            "\u001b[32m[I 2021-11-05 18:14:12,185]\u001b[0m Trial 1 finished with value: 0.7477699870782398 and parameters: {'learning_rate': 0.012631784215464487, 'max_depth': 12, 'num_leaves': 112, 'feature_fraction': 0.14263943782996275, 'subsample': 0.7000000000000001, 'lambda_l1': 0.8876704761045584, 'lambda_l2': 2.1056875730154925, 'bagging_fraction': 0.27402658697064053, 'bagging_freq': 4}. Best is trial 0 with value: 0.7447051620827624.\u001b[0m\n",
            "\u001b[32m[I 2021-11-05 18:14:12,465]\u001b[0m Trial 2 finished with value: 0.44458712591995275 and parameters: {'learning_rate': 0.03184351223301801, 'max_depth': 32, 'num_leaves': 103, 'feature_fraction': 0.6641735095066132, 'subsample': 0.2, 'lambda_l1': 7.647237718805648, 'lambda_l2': 2.947366855867358, 'bagging_fraction': 0.2336709724581335, 'bagging_freq': 4}. Best is trial 2 with value: 0.44458712591995275.\u001b[0m\n",
            "\u001b[32m[I 2021-11-05 18:14:12,688]\u001b[0m Trial 3 finished with value: 0.5554304888811906 and parameters: {'learning_rate': 0.08039480595748205, 'max_depth': 48, 'num_leaves': 119, 'feature_fraction': 0.18492177983178343, 'subsample': 0.9, 'lambda_l1': 6.996787111386467, 'lambda_l2': 0.2033401062099216, 'bagging_fraction': 0.3800962341443873, 'bagging_freq': 1}. Best is trial 2 with value: 0.44458712591995275.\u001b[0m\n",
            "\u001b[32m[I 2021-11-05 18:14:13,018]\u001b[0m Trial 4 finished with value: 0.48236942072624667 and parameters: {'learning_rate': 0.0284318844884816, 'max_depth': 40, 'num_leaves': 174, 'feature_fraction': 0.3391257603813585, 'subsample': 0.5, 'lambda_l1': 8.451386881702, 'lambda_l2': 6.200015549166892, 'bagging_fraction': 0.47315276081838553, 'bagging_freq': 10}. Best is trial 2 with value: 0.44458712591995275.\u001b[0m\n",
            "\u001b[32m[I 2021-11-05 18:14:13,267]\u001b[0m Trial 5 finished with value: 0.43351517169691894 and parameters: {'learning_rate': 0.07963168124061548, 'max_depth': 28, 'num_leaves': 171, 'feature_fraction': 0.57735816144331, 'subsample': 0.7000000000000001, 'lambda_l1': 8.06114798961865, 'lambda_l2': 0.6131459058796895, 'bagging_fraction': 0.19439714366704264, 'bagging_freq': 3}. Best is trial 5 with value: 0.43351517169691894.\u001b[0m\n",
            "\u001b[32m[I 2021-11-05 18:14:13,391]\u001b[0m Trial 6 finished with value: 0.5221525919499105 and parameters: {'learning_rate': 0.49199630361428653, 'max_depth': 6, 'num_leaves': 142, 'feature_fraction': 0.27441056825261, 'subsample': 0.6, 'lambda_l1': 0.7218191365090088, 'lambda_l2': 9.972151404186585, 'bagging_fraction': 0.2123903476555662, 'bagging_freq': 6}. Best is trial 5 with value: 0.43351517169691894.\u001b[0m\n",
            "\u001b[32m[I 2021-11-05 18:14:13,529]\u001b[0m Trial 7 pruned. \u001b[0m\n",
            "\u001b[32m[I 2021-11-05 18:14:14,228]\u001b[0m Trial 8 finished with value: 0.4156072429379792 and parameters: {'learning_rate': 0.023020484364086352, 'max_depth': 25, 'num_leaves': 93, 'feature_fraction': 0.7352467176822843, 'subsample': 0.7000000000000001, 'lambda_l1': 5.153732376734986, 'lambda_l2': 0.9192799284837094, 'bagging_fraction': 0.20742779911789222, 'bagging_freq': 0}. Best is trial 8 with value: 0.4156072429379792.\u001b[0m\n",
            "\u001b[32m[I 2021-11-05 18:14:14,639]\u001b[0m Trial 9 pruned. \u001b[0m\n",
            "\u001b[32m[I 2021-11-05 18:14:15,122]\u001b[0m Trial 10 pruned. \u001b[0m\n",
            "\u001b[32m[I 2021-11-05 18:14:15,746]\u001b[0m Trial 11 finished with value: 0.4191616793754663 and parameters: {'learning_rate': 0.0273414222589579, 'max_depth': 45, 'num_leaves': 158, 'feature_fraction': 0.7799054985260029, 'subsample': 0.5, 'lambda_l1': 8.693231576312531, 'lambda_l2': 1.89131277629638, 'bagging_fraction': 0.8782272586247168, 'bagging_freq': 5}. Best is trial 8 with value: 0.4156072429379792.\u001b[0m\n",
            "\u001b[32m[I 2021-11-05 18:14:15,911]\u001b[0m Trial 12 pruned. \u001b[0m\n",
            "\u001b[32m[I 2021-11-05 18:14:16,826]\u001b[0m Trial 13 finished with value: 0.3999878179228811 and parameters: {'learning_rate': 0.025562383995574908, 'max_depth': 14, 'num_leaves': 190, 'feature_fraction': 0.6068313788719447, 'subsample': 0.5, 'lambda_l1': 1.2145045321979542, 'lambda_l2': 3.487521347973981, 'bagging_fraction': 0.8744741769997764, 'bagging_freq': 5}. Best is trial 13 with value: 0.3999878179228811.\u001b[0m\n",
            "\u001b[32m[I 2021-11-05 18:14:17,095]\u001b[0m Trial 14 pruned. \u001b[0m\n",
            "\u001b[32m[I 2021-11-05 18:14:17,445]\u001b[0m Trial 15 finished with value: 0.5520591109347195 and parameters: {'learning_rate': 0.029850921771559163, 'max_depth': 24, 'num_leaves': 64, 'feature_fraction': 0.22649767222825246, 'subsample': 0.9, 'lambda_l1': 0.10665155164522488, 'lambda_l2': 4.885725058174809, 'bagging_fraction': 0.16973370171194235, 'bagging_freq': 1}. Best is trial 13 with value: 0.3999878179228811.\u001b[0m\n",
            "\u001b[32m[I 2021-11-05 18:14:17,823]\u001b[0m Trial 16 finished with value: 0.41512969563262697 and parameters: {'learning_rate': 0.08212281458926828, 'max_depth': 23, 'num_leaves': 58, 'feature_fraction': 0.534660079544321, 'subsample': 1.0, 'lambda_l1': 1.3187421289828483, 'lambda_l2': 2.4175648157205476, 'bagging_fraction': 0.4996955623763566, 'bagging_freq': 0}. Best is trial 13 with value: 0.3999878179228811.\u001b[0m\n",
            "\u001b[32m[I 2021-11-05 18:14:17,989]\u001b[0m Trial 17 finished with value: 0.43135197457141955 and parameters: {'learning_rate': 0.11673956858316561, 'max_depth': 4, 'num_leaves': 80, 'feature_fraction': 0.5630925276690569, 'subsample': 0.4, 'lambda_l1': 4.480080749662387, 'lambda_l2': 2.968713741674669, 'bagging_fraction': 0.8426907887297319, 'bagging_freq': 5}. Best is trial 13 with value: 0.3999878179228811.\u001b[0m\n",
            "\u001b[32m[I 2021-11-05 18:14:18,481]\u001b[0m Trial 18 finished with value: 0.4154620155236265 and parameters: {'learning_rate': 0.04209414027147744, 'max_depth': 42, 'num_leaves': 143, 'feature_fraction': 0.5725441252560947, 'subsample': 0.30000000000000004, 'lambda_l1': 7.757933205262125, 'lambda_l2': 1.210752539723775, 'bagging_fraction': 0.6167587278821195, 'bagging_freq': 10}. Best is trial 13 with value: 0.3999878179228811.\u001b[0m\n",
            "\u001b[32m[I 2021-11-05 18:14:18,739]\u001b[0m Trial 19 finished with value: 0.5392145484838429 and parameters: {'learning_rate': 0.1270574063689448, 'max_depth': 31, 'num_leaves': 164, 'feature_fraction': 0.11281326447955786, 'subsample': 0.2, 'lambda_l1': 8.005052058311959, 'lambda_l2': 4.517011781079308, 'bagging_fraction': 0.7442021938222904, 'bagging_freq': 7}. Best is trial 13 with value: 0.3999878179228811.\u001b[0m\n",
            "\u001b[32m[I 2021-11-05 18:14:19,379]\u001b[0m Trial 20 pruned. \u001b[0m\n",
            "\u001b[32m[I 2021-11-05 18:14:19,585]\u001b[0m Trial 21 pruned. \u001b[0m\n",
            "\u001b[32m[I 2021-11-05 18:14:19,919]\u001b[0m Trial 22 finished with value: 0.42660474377119034 and parameters: {'learning_rate': 0.4223089063599026, 'max_depth': 46, 'num_leaves': 60, 'feature_fraction': 0.9216258108978906, 'subsample': 0.8, 'lambda_l1': 0.07252359670869124, 'lambda_l2': 9.229286707703867, 'bagging_fraction': 0.8525249867565595, 'bagging_freq': 8}. Best is trial 13 with value: 0.3999878179228811.\u001b[0m\n",
            "\u001b[32m[I 2021-11-05 18:14:20,078]\u001b[0m Trial 23 pruned. \u001b[0m\n",
            "\u001b[32m[I 2021-11-05 18:14:20,627]\u001b[0m Trial 24 pruned. \u001b[0m\n",
            "\u001b[32m[I 2021-11-05 18:14:21,894]\u001b[0m Trial 25 finished with value: 0.39244275830550013 and parameters: {'learning_rate': 0.03266296527591634, 'max_depth': 17, 'num_leaves': 196, 'feature_fraction': 0.6702961486900811, 'subsample': 0.2, 'lambda_l1': 0.050210033547134714, 'lambda_l2': 3.62466188456434, 'bagging_fraction': 0.7575518974762833, 'bagging_freq': 6}. Best is trial 25 with value: 0.39244275830550013.\u001b[0m\n",
            "\u001b[32m[I 2021-11-05 18:14:23,379]\u001b[0m Trial 26 pruned. \u001b[0m\n",
            "\u001b[32m[I 2021-11-05 18:14:23,686]\u001b[0m Trial 27 pruned. \u001b[0m\n",
            "\u001b[32m[I 2021-11-05 18:14:24,230]\u001b[0m Trial 28 finished with value: 0.41534069728222334 and parameters: {'learning_rate': 0.04014057595656599, 'max_depth': 9, 'num_leaves': 47, 'feature_fraction': 0.8648138045609672, 'subsample': 0.1, 'lambda_l1': 6.904287854723705, 'lambda_l2': 9.719170090043413, 'bagging_fraction': 0.46153955774164335, 'bagging_freq': 0}. Best is trial 25 with value: 0.39244275830550013.\u001b[0m\n",
            "\u001b[32m[I 2021-11-05 18:14:25,411]\u001b[0m Trial 29 pruned. \u001b[0m\n",
            "\u001b[32m[I 2021-11-05 18:14:25,746]\u001b[0m Trial 30 pruned. \u001b[0m\n",
            "\u001b[32m[I 2021-11-05 18:14:26,055]\u001b[0m Trial 31 pruned. \u001b[0m\n",
            "\u001b[32m[I 2021-11-05 18:14:26,322]\u001b[0m Trial 32 pruned. \u001b[0m\n",
            "\u001b[32m[I 2021-11-05 18:14:27,221]\u001b[0m Trial 33 pruned. \u001b[0m\n",
            "\u001b[32m[I 2021-11-05 18:14:27,699]\u001b[0m Trial 34 pruned. \u001b[0m\n",
            "\u001b[32m[I 2021-11-05 18:14:28,801]\u001b[0m Trial 35 pruned. \u001b[0m\n",
            "\u001b[32m[I 2021-11-05 18:14:29,522]\u001b[0m Trial 36 pruned. \u001b[0m\n",
            "\u001b[32m[I 2021-11-05 18:14:30,124]\u001b[0m Trial 37 pruned. \u001b[0m\n",
            "\u001b[32m[I 2021-11-05 18:14:30,765]\u001b[0m Trial 38 pruned. \u001b[0m\n",
            "\u001b[32m[I 2021-11-05 18:14:30,877]\u001b[0m Trial 39 pruned. \u001b[0m\n",
            "\u001b[32m[I 2021-11-05 18:14:31,766]\u001b[0m Trial 40 pruned. \u001b[0m\n",
            "\u001b[32m[I 2021-11-05 18:14:31,949]\u001b[0m Trial 41 pruned. \u001b[0m\n",
            "\u001b[32m[I 2021-11-05 18:14:32,353]\u001b[0m Trial 42 finished with value: 0.403168913828185 and parameters: {'learning_rate': 0.20772312472328164, 'max_depth': 50, 'num_leaves': 52, 'feature_fraction': 0.9617437063969243, 'subsample': 1.0, 'lambda_l1': 0.15497093949405905, 'lambda_l2': 8.669773576672963, 'bagging_fraction': 0.9879003728764642, 'bagging_freq': 10}. Best is trial 25 with value: 0.39244275830550013.\u001b[0m\n",
            "\u001b[32m[I 2021-11-05 18:14:32,824]\u001b[0m Trial 43 finished with value: 0.40011836123071204 and parameters: {'learning_rate': 0.16200495339159549, 'max_depth': 48, 'num_leaves': 45, 'feature_fraction': 0.7194175863933137, 'subsample': 1.0, 'lambda_l1': 1.6762719956792693, 'lambda_l2': 8.08944850424599, 'bagging_fraction': 0.9701679696789635, 'bagging_freq': 10}. Best is trial 25 with value: 0.39244275830550013.\u001b[0m\n",
            "\u001b[32m[I 2021-11-05 18:14:33,573]\u001b[0m Trial 44 pruned. \u001b[0m\n",
            "\u001b[32m[I 2021-11-05 18:14:34,006]\u001b[0m Trial 45 finished with value: 0.45320064623269685 and parameters: {'learning_rate': 0.017186554457666817, 'max_depth': 14, 'num_leaves': 47, 'feature_fraction': 0.858554543770882, 'subsample': 0.4, 'lambda_l1': 7.494117676578135, 'lambda_l2': 4.486685768840587, 'bagging_fraction': 0.6179727210817977, 'bagging_freq': 7}. Best is trial 25 with value: 0.39244275830550013.\u001b[0m\n",
            "\u001b[32m[I 2021-11-05 18:14:34,761]\u001b[0m Trial 46 pruned. \u001b[0m\n",
            "\u001b[32m[I 2021-11-05 18:14:35,004]\u001b[0m Trial 47 pruned. \u001b[0m\n",
            "\u001b[32m[I 2021-11-05 18:14:35,567]\u001b[0m Trial 48 pruned. \u001b[0m\n",
            "\u001b[32m[I 2021-11-05 18:14:36,087]\u001b[0m Trial 49 finished with value: 0.4018156627692803 and parameters: {'learning_rate': 0.18765640685984716, 'max_depth': 42, 'num_leaves': 66, 'feature_fraction': 0.7651092871284626, 'subsample': 1.0, 'lambda_l1': 1.8658003075877252, 'lambda_l2': 5.552310669451962, 'bagging_fraction': 0.9694105006392448, 'bagging_freq': 10}. Best is trial 25 with value: 0.39244275830550013.\u001b[0m\n",
            "\u001b[32m[I 2021-11-05 18:14:36,942]\u001b[0m Trial 50 pruned. \u001b[0m\n",
            "\u001b[32m[I 2021-11-05 18:14:37,043]\u001b[0m Trial 51 pruned. \u001b[0m\n",
            "\u001b[32m[I 2021-11-05 18:14:38,068]\u001b[0m Trial 52 finished with value: 0.39578821626730143 and parameters: {'learning_rate': 0.06482264381986148, 'max_depth': 43, 'num_leaves': 155, 'feature_fraction': 0.623227572418709, 'subsample': 0.30000000000000004, 'lambda_l1': 1.8460478819681858, 'lambda_l2': 4.320066040902539, 'bagging_fraction': 0.7196009566486322, 'bagging_freq': 8}. Best is trial 25 with value: 0.39244275830550013.\u001b[0m\n",
            "\u001b[32m[I 2021-11-05 18:14:38,322]\u001b[0m Trial 53 pruned. \u001b[0m\n",
            "\u001b[32m[I 2021-11-05 18:14:38,815]\u001b[0m Trial 54 pruned. \u001b[0m\n",
            "\u001b[32m[I 2021-11-05 18:14:39,689]\u001b[0m Trial 55 finished with value: 0.40162590571705603 and parameters: {'learning_rate': 0.11052066590123458, 'max_depth': 40, 'num_leaves': 114, 'feature_fraction': 0.7298726884246047, 'subsample': 0.8, 'lambda_l1': 2.0238883357017468, 'lambda_l2': 5.334353085696527, 'bagging_fraction': 0.7240436691390113, 'bagging_freq': 8}. Best is trial 25 with value: 0.39244275830550013.\u001b[0m\n",
            "\u001b[32m[I 2021-11-05 18:14:40,886]\u001b[0m Trial 56 finished with value: 0.3991187008083905 and parameters: {'learning_rate': 0.061653343823970634, 'max_depth': 50, 'num_leaves': 200, 'feature_fraction': 0.6693019813519204, 'subsample': 0.6, 'lambda_l1': 3.2332073386821754, 'lambda_l2': 6.804085651778508, 'bagging_fraction': 0.74008237989622, 'bagging_freq': 6}. Best is trial 25 with value: 0.39244275830550013.\u001b[0m\n",
            "\u001b[32m[I 2021-11-05 18:14:41,248]\u001b[0m Trial 57 pruned. \u001b[0m\n",
            "\u001b[32m[I 2021-11-05 18:14:42,413]\u001b[0m Trial 58 pruned. \u001b[0m\n",
            "\u001b[32m[I 2021-11-05 18:14:42,912]\u001b[0m Trial 59 pruned. \u001b[0m\n",
            "\u001b[32m[I 2021-11-05 18:14:43,378]\u001b[0m Trial 60 pruned. \u001b[0m\n",
            "\u001b[32m[I 2021-11-05 18:14:44,215]\u001b[0m Trial 61 finished with value: 0.397662120501295 and parameters: {'learning_rate': 0.10338313516481636, 'max_depth': 40, 'num_leaves': 110, 'feature_fraction': 0.571231831843988, 'subsample': 0.8, 'lambda_l1': 2.1002989755990393, 'lambda_l2': 4.3888958509408, 'bagging_fraction': 0.776196361816645, 'bagging_freq': 8}. Best is trial 25 with value: 0.39244275830550013.\u001b[0m\n",
            "\u001b[32m[I 2021-11-05 18:14:44,946]\u001b[0m Trial 62 pruned. \u001b[0m\n",
            "\u001b[32m[I 2021-11-05 18:14:46,117]\u001b[0m Trial 63 pruned. \u001b[0m\n",
            "\u001b[32m[I 2021-11-05 18:14:47,600]\u001b[0m Trial 64 finished with value: 0.39375531669925967 and parameters: {'learning_rate': 0.05607660679373238, 'max_depth': 47, 'num_leaves': 199, 'feature_fraction': 0.6139807829865965, 'subsample': 0.5, 'lambda_l1': 1.4137172640440654, 'lambda_l2': 3.7791700338774823, 'bagging_fraction': 0.813422679667944, 'bagging_freq': 5}. Best is trial 25 with value: 0.39244275830550013.\u001b[0m\n",
            "\u001b[32m[I 2021-11-05 18:14:48,457]\u001b[0m Trial 65 finished with value: 0.3993191819212951 and parameters: {'learning_rate': 0.0744154087729098, 'max_depth': 34, 'num_leaves': 109, 'feature_fraction': 0.5818185367784723, 'subsample': 0.7000000000000001, 'lambda_l1': 2.6680258067111136, 'lambda_l2': 3.8583665273334278, 'bagging_fraction': 0.750416359309326, 'bagging_freq': 7}. Best is trial 25 with value: 0.39244275830550013.\u001b[0m\n",
            "\u001b[32m[I 2021-11-05 18:14:49,390]\u001b[0m Trial 66 pruned. \u001b[0m\n",
            "\u001b[32m[I 2021-11-05 18:14:50,349]\u001b[0m Trial 67 pruned. \u001b[0m\n",
            "\u001b[32m[I 2021-11-05 18:14:51,426]\u001b[0m Trial 68 pruned. \u001b[0m\n",
            "\u001b[32m[I 2021-11-05 18:14:52,475]\u001b[0m Trial 69 pruned. \u001b[0m\n",
            "\u001b[32m[I 2021-11-05 18:14:53,265]\u001b[0m Trial 70 pruned. \u001b[0m\n",
            "\u001b[32m[I 2021-11-05 18:14:54,095]\u001b[0m Trial 71 finished with value: 0.4035216051820344 and parameters: {'learning_rate': 0.2107588165856432, 'max_depth': 19, 'num_leaves': 159, 'feature_fraction': 0.7717932113933417, 'subsample': 0.9, 'lambda_l1': 3.305149045311625, 'lambda_l2': 4.169463943382402, 'bagging_fraction': 0.8374535432099494, 'bagging_freq': 4}. Best is trial 25 with value: 0.39244275830550013.\u001b[0m\n",
            "\u001b[32m[I 2021-11-05 18:14:54,735]\u001b[0m Trial 72 pruned. \u001b[0m\n",
            "\u001b[32m[I 2021-11-05 18:14:55,599]\u001b[0m Trial 73 pruned. \u001b[0m\n",
            "\u001b[32m[I 2021-11-05 18:14:56,615]\u001b[0m Trial 74 pruned. \u001b[0m\n",
            "\u001b[32m[I 2021-11-05 18:14:56,897]\u001b[0m Trial 75 pruned. \u001b[0m\n",
            "\u001b[32m[I 2021-11-05 18:14:57,680]\u001b[0m Trial 76 pruned. \u001b[0m\n",
            "\u001b[32m[I 2021-11-05 18:14:58,787]\u001b[0m Trial 77 pruned. \u001b[0m\n",
            "\u001b[32m[I 2021-11-05 18:15:00,003]\u001b[0m Trial 78 pruned. \u001b[0m\n",
            "\u001b[32m[I 2021-11-05 18:15:01,172]\u001b[0m Trial 79 finished with value: 0.3956794226136932 and parameters: {'learning_rate': 0.04198790920716106, 'max_depth': 39, 'num_leaves': 176, 'feature_fraction': 0.5819284129591484, 'subsample': 0.5, 'lambda_l1': 0.23765079227216826, 'lambda_l2': 3.7103153841940495, 'bagging_fraction': 0.7515339930427853, 'bagging_freq': 4}. Best is trial 25 with value: 0.39244275830550013.\u001b[0m\n",
            "\u001b[32m[I 2021-11-05 18:15:02,007]\u001b[0m Trial 80 pruned. \u001b[0m\n",
            "\u001b[32m[I 2021-11-05 18:15:03,283]\u001b[0m Trial 81 pruned. \u001b[0m\n",
            "\u001b[32m[I 2021-11-05 18:15:03,526]\u001b[0m Trial 82 pruned. \u001b[0m\n",
            "\u001b[32m[I 2021-11-05 18:15:04,734]\u001b[0m Trial 83 pruned. \u001b[0m\n",
            "\u001b[32m[I 2021-11-05 18:15:04,956]\u001b[0m Trial 84 pruned. \u001b[0m\n",
            "\u001b[32m[I 2021-11-05 18:15:05,932]\u001b[0m Trial 85 pruned. \u001b[0m\n",
            "\u001b[32m[I 2021-11-05 18:15:06,687]\u001b[0m Trial 86 pruned. \u001b[0m\n",
            "\u001b[32m[I 2021-11-05 18:15:07,606]\u001b[0m Trial 87 pruned. \u001b[0m\n",
            "\u001b[32m[I 2021-11-05 18:15:08,776]\u001b[0m Trial 88 pruned. \u001b[0m\n",
            "\u001b[32m[I 2021-11-05 18:15:09,712]\u001b[0m Trial 89 pruned. \u001b[0m\n",
            "\u001b[32m[I 2021-11-05 18:15:10,985]\u001b[0m Trial 90 pruned. \u001b[0m\n",
            "\u001b[32m[I 2021-11-05 18:15:11,760]\u001b[0m Trial 91 pruned. \u001b[0m\n",
            "\u001b[32m[I 2021-11-05 18:15:12,654]\u001b[0m Trial 92 pruned. \u001b[0m\n",
            "\u001b[32m[I 2021-11-05 18:15:13,483]\u001b[0m Trial 93 pruned. \u001b[0m\n",
            "\u001b[32m[I 2021-11-05 18:15:14,451]\u001b[0m Trial 94 pruned. \u001b[0m\n",
            "\u001b[32m[I 2021-11-05 18:15:15,896]\u001b[0m Trial 95 pruned. \u001b[0m\n",
            "\u001b[32m[I 2021-11-05 18:15:16,334]\u001b[0m Trial 96 pruned. \u001b[0m\n",
            "\u001b[32m[I 2021-11-05 18:15:17,907]\u001b[0m Trial 97 pruned. \u001b[0m\n",
            "\u001b[32m[I 2021-11-05 18:15:18,587]\u001b[0m Trial 98 pruned. \u001b[0m\n",
            "\u001b[32m[I 2021-11-05 18:15:19,437]\u001b[0m Trial 99 pruned. \u001b[0m\n",
            "\u001b[32m[I 2021-11-05 18:15:20,773]\u001b[0m Trial 100 pruned. \u001b[0m\n",
            "\u001b[32m[I 2021-11-05 18:15:21,982]\u001b[0m Trial 101 pruned. \u001b[0m\n",
            "\u001b[32m[I 2021-11-05 18:15:23,081]\u001b[0m Trial 102 finished with value: 0.4022267568257213 and parameters: {'learning_rate': 0.1564830228733526, 'max_depth': 36, 'num_leaves': 151, 'feature_fraction': 0.7814374065654952, 'subsample': 0.6, 'lambda_l1': 3.3322082862646347, 'lambda_l2': 0.3858970274619078, 'bagging_fraction': 0.788380992668192, 'bagging_freq': 5}. Best is trial 25 with value: 0.39244275830550013.\u001b[0m\n",
            "\u001b[32m[I 2021-11-05 18:15:23,908]\u001b[0m Trial 103 pruned. \u001b[0m\n",
            "\u001b[32m[I 2021-11-05 18:15:25,018]\u001b[0m Trial 104 pruned. \u001b[0m\n",
            "\u001b[32m[I 2021-11-05 18:15:26,125]\u001b[0m Trial 105 pruned. \u001b[0m\n",
            "\u001b[32m[I 2021-11-05 18:15:27,122]\u001b[0m Trial 106 pruned. \u001b[0m\n",
            "\u001b[32m[I 2021-11-05 18:15:27,287]\u001b[0m Trial 107 pruned. \u001b[0m\n",
            "\u001b[32m[I 2021-11-05 18:15:28,367]\u001b[0m Trial 108 pruned. \u001b[0m\n",
            "\u001b[32m[I 2021-11-05 18:15:29,212]\u001b[0m Trial 109 pruned. \u001b[0m\n",
            "\u001b[32m[I 2021-11-05 18:15:29,407]\u001b[0m Trial 110 pruned. \u001b[0m\n",
            "\u001b[32m[I 2021-11-05 18:15:30,379]\u001b[0m Trial 111 pruned. \u001b[0m\n",
            "\u001b[32m[I 2021-11-05 18:15:31,038]\u001b[0m Trial 112 pruned. \u001b[0m\n",
            "\u001b[32m[I 2021-11-05 18:15:31,840]\u001b[0m Trial 113 pruned. \u001b[0m\n",
            "\u001b[32m[I 2021-11-05 18:15:32,708]\u001b[0m Trial 114 pruned. \u001b[0m\n",
            "\u001b[32m[I 2021-11-05 18:15:33,524]\u001b[0m Trial 115 pruned. \u001b[0m\n",
            "\u001b[32m[I 2021-11-05 18:15:34,199]\u001b[0m Trial 116 pruned. \u001b[0m\n",
            "\u001b[32m[I 2021-11-05 18:15:34,918]\u001b[0m Trial 117 pruned. \u001b[0m\n",
            "\u001b[32m[I 2021-11-05 18:15:35,459]\u001b[0m Trial 118 pruned. \u001b[0m\n",
            "\u001b[32m[I 2021-11-05 18:15:36,064]\u001b[0m Trial 119 pruned. \u001b[0m\n",
            "\u001b[32m[I 2021-11-05 18:15:36,292]\u001b[0m Trial 120 pruned. \u001b[0m\n",
            "\u001b[32m[I 2021-11-05 18:15:36,497]\u001b[0m Trial 121 pruned. \u001b[0m\n",
            "\u001b[32m[I 2021-11-05 18:15:37,696]\u001b[0m Trial 122 pruned. \u001b[0m\n",
            "\u001b[32m[I 2021-11-05 18:15:39,047]\u001b[0m Trial 123 pruned. \u001b[0m\n",
            "\u001b[32m[I 2021-11-05 18:15:39,341]\u001b[0m Trial 124 pruned. \u001b[0m\n",
            "\u001b[32m[I 2021-11-05 18:15:40,292]\u001b[0m Trial 125 pruned. \u001b[0m\n",
            "\u001b[32m[I 2021-11-05 18:15:41,353]\u001b[0m Trial 126 pruned. \u001b[0m\n",
            "\u001b[32m[I 2021-11-05 18:15:41,961]\u001b[0m Trial 127 pruned. \u001b[0m\n",
            "\u001b[32m[I 2021-11-05 18:15:42,175]\u001b[0m Trial 128 pruned. \u001b[0m\n",
            "\u001b[32m[I 2021-11-05 18:15:43,093]\u001b[0m Trial 129 finished with value: 0.3991511834897122 and parameters: {'learning_rate': 0.10530215924216263, 'max_depth': 39, 'num_leaves': 115, 'feature_fraction': 0.722102503425025, 'subsample': 0.8, 'lambda_l1': 1.8050759958805553, 'lambda_l2': 5.190624000261533, 'bagging_fraction': 0.7269155790851126, 'bagging_freq': 8}. Best is trial 25 with value: 0.39244275830550013.\u001b[0m\n",
            "\u001b[32m[I 2021-11-05 18:15:43,494]\u001b[0m Trial 130 pruned. \u001b[0m\n",
            "\u001b[32m[I 2021-11-05 18:15:44,245]\u001b[0m Trial 131 pruned. \u001b[0m\n",
            "\u001b[32m[I 2021-11-05 18:15:44,758]\u001b[0m Trial 132 pruned. \u001b[0m\n",
            "\u001b[32m[I 2021-11-05 18:15:45,104]\u001b[0m Trial 133 pruned. \u001b[0m\n",
            "\u001b[32m[I 2021-11-05 18:15:45,668]\u001b[0m Trial 134 pruned. \u001b[0m\n",
            "\u001b[32m[I 2021-11-05 18:15:46,415]\u001b[0m Trial 135 pruned. \u001b[0m\n",
            "\u001b[32m[I 2021-11-05 18:15:47,471]\u001b[0m Trial 136 pruned. \u001b[0m\n",
            "\u001b[32m[I 2021-11-05 18:15:48,275]\u001b[0m Trial 137 finished with value: 0.3993850763857302 and parameters: {'learning_rate': 0.07995225820311927, 'max_depth': 38, 'num_leaves': 92, 'feature_fraction': 0.5741943255825295, 'subsample': 0.8, 'lambda_l1': 0.530226566243732, 'lambda_l2': 1.9088031907965224, 'bagging_fraction': 0.7844750477162684, 'bagging_freq': 9}. Best is trial 25 with value: 0.39244275830550013.\u001b[0m\n",
            "\u001b[32m[I 2021-11-05 18:15:49,436]\u001b[0m Trial 138 pruned. \u001b[0m\n",
            "\u001b[32m[I 2021-11-05 18:15:49,902]\u001b[0m Trial 139 pruned. \u001b[0m\n",
            "\u001b[32m[I 2021-11-05 18:15:50,671]\u001b[0m Trial 140 finished with value: 0.3977859989650481 and parameters: {'learning_rate': 0.06652427766516836, 'max_depth': 37, 'num_leaves': 88, 'feature_fraction': 0.5830167244641737, 'subsample': 0.8, 'lambda_l1': 0.6583549382636237, 'lambda_l2': 1.748404175283246, 'bagging_fraction': 0.5783185629760851, 'bagging_freq': 8}. Best is trial 25 with value: 0.39244275830550013.\u001b[0m\n",
            "\u001b[32m[I 2021-11-05 18:15:51,101]\u001b[0m Trial 141 pruned. \u001b[0m\n",
            "\u001b[32m[I 2021-11-05 18:15:52,208]\u001b[0m Trial 142 pruned. \u001b[0m\n",
            "\u001b[32m[I 2021-11-05 18:15:53,521]\u001b[0m Trial 143 pruned. \u001b[0m\n",
            "\u001b[32m[I 2021-11-05 18:15:53,631]\u001b[0m Trial 144 pruned. \u001b[0m\n",
            "\u001b[32m[I 2021-11-05 18:15:54,336]\u001b[0m Trial 145 pruned. \u001b[0m\n",
            "\u001b[32m[I 2021-11-05 18:15:54,707]\u001b[0m Trial 146 pruned. \u001b[0m\n",
            "\u001b[32m[I 2021-11-05 18:15:55,395]\u001b[0m Trial 147 pruned. \u001b[0m\n",
            "\u001b[32m[I 2021-11-05 18:15:56,369]\u001b[0m Trial 148 pruned. \u001b[0m\n",
            "\u001b[32m[I 2021-11-05 18:15:57,177]\u001b[0m Trial 149 pruned. \u001b[0m\n",
            "\u001b[32m[I 2021-11-05 18:15:57,640]\u001b[0m Trial 150 pruned. \u001b[0m\n",
            "\u001b[32m[I 2021-11-05 18:15:58,307]\u001b[0m Trial 151 pruned. \u001b[0m\n",
            "\u001b[32m[I 2021-11-05 18:15:58,711]\u001b[0m Trial 152 pruned. \u001b[0m\n",
            "\u001b[32m[I 2021-11-05 18:15:59,111]\u001b[0m Trial 153 pruned. \u001b[0m\n",
            "\u001b[32m[I 2021-11-05 18:15:59,933]\u001b[0m Trial 154 pruned. \u001b[0m\n",
            "\u001b[32m[I 2021-11-05 18:16:00,958]\u001b[0m Trial 155 pruned. \u001b[0m\n",
            "\u001b[32m[I 2021-11-05 18:16:01,795]\u001b[0m Trial 156 pruned. \u001b[0m\n",
            "\u001b[32m[I 2021-11-05 18:16:03,033]\u001b[0m Trial 157 pruned. \u001b[0m\n",
            "\u001b[32m[I 2021-11-05 18:16:03,417]\u001b[0m Trial 158 pruned. \u001b[0m\n",
            "\u001b[32m[I 2021-11-05 18:16:04,587]\u001b[0m Trial 159 pruned. \u001b[0m\n",
            "\u001b[32m[I 2021-11-05 18:16:05,299]\u001b[0m Trial 160 pruned. \u001b[0m\n",
            "\u001b[32m[I 2021-11-05 18:16:06,532]\u001b[0m Trial 161 pruned. \u001b[0m\n",
            "\u001b[32m[I 2021-11-05 18:16:07,282]\u001b[0m Trial 162 finished with value: 0.3956073230430672 and parameters: {'learning_rate': 0.0770380875890236, 'max_depth': 39, 'num_leaves': 91, 'feature_fraction': 0.5738941319257548, 'subsample': 0.8, 'lambda_l1': 0.5146082066188506, 'lambda_l2': 1.9229947490853594, 'bagging_fraction': 0.784868358641106, 'bagging_freq': 9}. Best is trial 25 with value: 0.39244275830550013.\u001b[0m\n",
            "\u001b[32m[I 2021-11-05 18:16:07,615]\u001b[0m Trial 163 pruned. \u001b[0m\n",
            "\u001b[32m[I 2021-11-05 18:16:08,063]\u001b[0m Trial 164 pruned. \u001b[0m\n",
            "\u001b[32m[I 2021-11-05 18:16:08,950]\u001b[0m Trial 165 pruned. \u001b[0m\n",
            "\u001b[32m[I 2021-11-05 18:16:09,593]\u001b[0m Trial 166 pruned. \u001b[0m\n",
            "\u001b[32m[I 2021-11-05 18:16:10,091]\u001b[0m Trial 167 pruned. \u001b[0m\n",
            "\u001b[32m[I 2021-11-05 18:16:10,882]\u001b[0m Trial 168 pruned. \u001b[0m\n",
            "\u001b[32m[I 2021-11-05 18:16:11,737]\u001b[0m Trial 169 pruned. \u001b[0m\n",
            "\u001b[32m[I 2021-11-05 18:16:12,532]\u001b[0m Trial 170 pruned. \u001b[0m\n",
            "\u001b[32m[I 2021-11-05 18:16:13,635]\u001b[0m Trial 171 pruned. \u001b[0m\n",
            "\u001b[32m[I 2021-11-05 18:16:14,167]\u001b[0m Trial 172 pruned. \u001b[0m\n",
            "\u001b[32m[I 2021-11-05 18:16:15,395]\u001b[0m Trial 173 pruned. \u001b[0m\n",
            "\u001b[32m[I 2021-11-05 18:16:16,572]\u001b[0m Trial 174 pruned. \u001b[0m\n",
            "\u001b[32m[I 2021-11-05 18:16:17,851]\u001b[0m Trial 175 finished with value: 0.3963839427451897 and parameters: {'learning_rate': 0.11717923381224565, 'max_depth': 42, 'num_leaves': 173, 'feature_fraction': 0.9040864175795414, 'subsample': 0.4, 'lambda_l1': 2.730039569435194, 'lambda_l2': 4.176965858342713, 'bagging_fraction': 0.8150052625669068, 'bagging_freq': 2}. Best is trial 25 with value: 0.39244275830550013.\u001b[0m\n",
            "\u001b[32m[I 2021-11-05 18:16:18,626]\u001b[0m Trial 176 pruned. \u001b[0m\n",
            "\u001b[32m[I 2021-11-05 18:16:19,065]\u001b[0m Trial 177 pruned. \u001b[0m\n",
            "\u001b[32m[I 2021-11-05 18:16:19,379]\u001b[0m Trial 178 pruned. \u001b[0m\n",
            "\u001b[32m[I 2021-11-05 18:16:19,890]\u001b[0m Trial 179 pruned. \u001b[0m\n",
            "\u001b[32m[I 2021-11-05 18:16:20,225]\u001b[0m Trial 180 pruned. \u001b[0m\n",
            "\u001b[32m[I 2021-11-05 18:16:20,763]\u001b[0m Trial 181 pruned. \u001b[0m\n",
            "\u001b[32m[I 2021-11-05 18:16:21,406]\u001b[0m Trial 182 pruned. \u001b[0m\n",
            "\u001b[32m[I 2021-11-05 18:16:21,706]\u001b[0m Trial 183 pruned. \u001b[0m\n",
            "\u001b[32m[I 2021-11-05 18:16:22,481]\u001b[0m Trial 184 pruned. \u001b[0m\n",
            "\u001b[32m[I 2021-11-05 18:16:23,289]\u001b[0m Trial 185 pruned. \u001b[0m\n",
            "\u001b[32m[I 2021-11-05 18:16:23,887]\u001b[0m Trial 186 finished with value: 0.39872081051144354 and parameters: {'learning_rate': 0.12593909014229057, 'max_depth': 39, 'num_leaves': 174, 'feature_fraction': 0.9116187507306124, 'subsample': 0.4, 'lambda_l1': 0.19049926445346888, 'lambda_l2': 9.30875354953454, 'bagging_fraction': 0.7845845053278442, 'bagging_freq': 0}. Best is trial 25 with value: 0.39244275830550013.\u001b[0m\n",
            "\u001b[32m[I 2021-11-05 18:16:24,909]\u001b[0m Trial 187 pruned. \u001b[0m\n",
            "\u001b[32m[I 2021-11-05 18:16:25,285]\u001b[0m Trial 188 pruned. \u001b[0m\n",
            "\u001b[32m[I 2021-11-05 18:16:26,095]\u001b[0m Trial 189 pruned. \u001b[0m\n",
            "\u001b[32m[I 2021-11-05 18:16:27,752]\u001b[0m Trial 190 pruned. \u001b[0m\n",
            "\u001b[32m[I 2021-11-05 18:16:28,653]\u001b[0m Trial 191 pruned. \u001b[0m\n",
            "\u001b[32m[I 2021-11-05 18:16:29,596]\u001b[0m Trial 192 pruned. \u001b[0m\n",
            "\u001b[32m[I 2021-11-05 18:16:30,868]\u001b[0m Trial 193 finished with value: 0.3990855086715799 and parameters: {'learning_rate': 0.04605044329486638, 'max_depth': 41, 'num_leaves': 175, 'feature_fraction': 0.82695531230182, 'subsample': 0.30000000000000004, 'lambda_l1': 2.754350596310671, 'lambda_l2': 3.070806196836534, 'bagging_fraction': 0.8952505040950789, 'bagging_freq': 1}. Best is trial 25 with value: 0.39244275830550013.\u001b[0m\n",
            "\u001b[32m[I 2021-11-05 18:16:31,526]\u001b[0m Trial 194 pruned. \u001b[0m\n",
            "\u001b[32m[I 2021-11-05 18:16:32,412]\u001b[0m Trial 195 pruned. \u001b[0m\n",
            "\u001b[32m[I 2021-11-05 18:16:32,638]\u001b[0m Trial 196 pruned. \u001b[0m\n",
            "\u001b[32m[I 2021-11-05 18:16:33,111]\u001b[0m Trial 197 pruned. \u001b[0m\n",
            "\u001b[32m[I 2021-11-05 18:16:34,547]\u001b[0m Trial 198 pruned. \u001b[0m\n",
            "\u001b[32m[I 2021-11-05 18:16:35,268]\u001b[0m Trial 199 pruned. \u001b[0m\n"
          ]
        },
        {
          "name": "stdout",
          "output_type": "stream",
          "text": [
            "Wall time: 2min 23s\n"
          ]
        }
      ],
      "source": [
        "%%time\n",
        "%%capture\n",
        "\n",
        "study_bohb = optuna.create_study(\n",
        "    direction = 'minimize',\n",
        "    sampler = optuna.samplers.TPESampler(),\n",
        "    pruner = optuna.pruners.HyperbandPruner()\n",
        "    )\n",
        "\n",
        "study_bohb.optimize(objective, n_trials=N_TRIALS)"
      ]
    },
    {
      "cell_type": "code",
      "execution_count": 30,
      "metadata": {
        "colab": {
          "base_uri": "https://localhost:8080/"
        },
        "id": "bJb6vlBEbabZ",
        "outputId": "8dff7631-c190-48df-bb4f-1d10f2b8031d"
      },
      "outputs": [
        {
          "name": "stdout",
          "output_type": "stream",
          "text": [
            "{'score': 0.39244275830550013, 'params': {'learning_rate': 0.03266296527591634, 'max_depth': 17, 'num_leaves': 196, 'feature_fraction': 0.6702961486900811, 'subsample': 0.2, 'lambda_l1': 0.050210033547134714, 'lambda_l2': 3.62466188456434, 'bagging_fraction': 0.7575518974762833, 'bagging_freq': 6}}\n"
          ]
        }
      ],
      "source": [
        "bohbsearch = {'score': study_bohb.best_value, 'params': study_bohb.best_params}\n",
        "print(bohbsearch)"
      ]
    },
    {
      "cell_type": "markdown",
      "metadata": {},
      "source": [
        "The final overview of our results shows that BOHB performs best. \n",
        "In this example, the differences are not extreme, which is mostly due to the very stylized example. In many other cases, the gains of hyperparameter optimization are considerable."
      ]
    },
    {
      "cell_type": "code",
      "execution_count": 31,
      "metadata": {
        "colab": {
          "base_uri": "https://localhost:8080/",
          "height": 173
        },
        "id": "K8XEAc3JLzJs",
        "outputId": "53f04aa4-7877-4658-806e-4cd5d3ec3f59"
      },
      "outputs": [
        {
          "data": {
            "text/html": [
              "<div>\n",
              "<style scoped>\n",
              "    .dataframe tbody tr th:only-of-type {\n",
              "        vertical-align: middle;\n",
              "    }\n",
              "\n",
              "    .dataframe tbody tr th {\n",
              "        vertical-align: top;\n",
              "    }\n",
              "\n",
              "    .dataframe thead th {\n",
              "        text-align: right;\n",
              "    }\n",
              "</style>\n",
              "<table border=\"1\" class=\"dataframe\">\n",
              "  <thead>\n",
              "    <tr style=\"text-align: right;\">\n",
              "      <th></th>\n",
              "      <th>RMSE</th>\n",
              "    </tr>\n",
              "  </thead>\n",
              "  <tbody>\n",
              "    <tr>\n",
              "      <th>Grid</th>\n",
              "      <td>0.400960</td>\n",
              "    </tr>\n",
              "    <tr>\n",
              "      <th>Random</th>\n",
              "      <td>0.392318</td>\n",
              "    </tr>\n",
              "    <tr>\n",
              "      <th>CMAES</th>\n",
              "      <td>0.395609</td>\n",
              "    </tr>\n",
              "    <tr>\n",
              "      <th>BOHB</th>\n",
              "      <td>0.392443</td>\n",
              "    </tr>\n",
              "  </tbody>\n",
              "</table>\n",
              "</div>"
            ],
            "text/plain": [
              "            RMSE\n",
              "Grid    0.400960\n",
              "Random  0.392318\n",
              "CMAES   0.395609\n",
              "BOHB    0.392443"
            ]
          },
          "execution_count": 31,
          "metadata": {},
          "output_type": "execute_result"
        }
      ],
      "source": [
        "pd.DataFrame([gridsearch['score'],randomsearch['score'],cmaessearch['score'],bohbsearch['score']],index=['Grid','Random','CMAES','BOHB'],columns=['RMSE'])"
      ]
    },
    {
      "cell_type": "markdown",
      "metadata": {
        "id": "kbgu9CQ2r4UQ"
      },
      "source": [
        "### **Visualization**"
      ]
    },
    {
      "cell_type": "code",
      "execution_count": null,
      "metadata": {
        "colab": {
          "base_uri": "https://localhost:8080/",
          "height": 609
        },
        "id": "iPlWe3oZbmrp",
        "outputId": "9b7c0c8f-af01-4025-a379-0e005d7b637a"
      },
      "outputs": [],
      "source": [
        "#History: \n",
        "trials_df = study_bohb.trials_dataframe()\n",
        "trials_df"
      ]
    },
    {
      "cell_type": "code",
      "execution_count": null,
      "metadata": {
        "colab": {
          "base_uri": "https://localhost:8080/",
          "height": 542
        },
        "id": "d8IXFo8CsTiU",
        "outputId": "6a9760e8-d24d-4e52-a8c5-d19fccfbdea6"
      },
      "outputs": [],
      "source": [
        "optuna.visualization.plot_optimization_history(study_bohb)"
      ]
    },
    {
      "cell_type": "code",
      "execution_count": null,
      "metadata": {
        "colab": {
          "base_uri": "https://localhost:8080/",
          "height": 542
        },
        "id": "jWUo_LcsvDHU",
        "outputId": "c69f977e-b9f1-4036-a0ca-c5817193f468"
      },
      "outputs": [],
      "source": [
        "optuna.visualization.plot_param_importances(study_bohb)"
      ]
    },
    {
      "cell_type": "code",
      "execution_count": null,
      "metadata": {
        "colab": {
          "base_uri": "https://localhost:8080/",
          "height": 562
        },
        "id": "ervzJ624sen1",
        "outputId": "6748540e-5c25-4b01-bc8b-da061bf46dc2"
      },
      "outputs": [],
      "source": [
        "optuna.visualization.plot_slice(study_bohb)"
      ]
    },
    {
      "cell_type": "code",
      "execution_count": null,
      "metadata": {
        "colab": {
          "base_uri": "https://localhost:8080/",
          "height": 542
        },
        "id": "bBd63INHs0-i",
        "outputId": "5d20e8e0-b522-44eb-88c8-ccd7231d1fee"
      },
      "outputs": [],
      "source": [
        "optuna.visualization.plot_parallel_coordinate(study_bohb)"
      ]
    }
  ],
  "metadata": {
    "colab": {
      "collapsed_sections": [],
      "name": "Practical_Hyperparameter_Optimization.ipynb",
      "provenance": []
    },
    "kernelspec": {
      "display_name": "Python 3",
      "name": "python3"
    },
    "language_info": {
      "codemirror_mode": {
        "name": "ipython",
        "version": 3
      },
      "file_extension": ".py",
      "mimetype": "text/x-python",
      "name": "python",
      "nbconvert_exporter": "python",
      "pygments_lexer": "ipython3",
      "version": "3.8.10"
    }
  },
  "nbformat": 4,
  "nbformat_minor": 0
}
