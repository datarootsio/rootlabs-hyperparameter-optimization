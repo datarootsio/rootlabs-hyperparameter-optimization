{
  "cells": [
    {
      "cell_type": "markdown",
      "metadata": {
        "id": "_QeUp1cABgBu"
      },
      "source": [
        "# **Set-up**\n"
      ]
    },
    {
      "cell_type": "code",
      "execution_count": 1,
      "metadata": {
        "id": "rA7Jg7zB1tzI"
      },
      "outputs": [],
      "source": [
        "%%capture\n",
        "!pip install -r requirements"
      ]
    },
    {
      "cell_type": "code",
      "execution_count": 2,
      "metadata": {
        "id": "aBMUFyRTBCyR"
      },
      "outputs": [],
      "source": [
        "# Import Packages\n",
        "## for data and preprocessing\n",
        "import pandas as pd\n",
        "from sklearn.preprocessing import StandardScaler\n",
        "\n",
        "## for model fitting\n",
        "import lightgbm as lgb\n",
        "import sklearn.metrics as metric\n",
        "\n",
        "## for hyperparameter optimization\n",
        "import optuna\n",
        "\n",
        "## for replicability\n",
        "import random"
      ]
    },
    {
      "cell_type": "code",
      "execution_count": 3,
      "metadata": {
        "id": "lq307ThH1cix"
      },
      "outputs": [],
      "source": [
        "train = pd.read_csv('./data/california_housing_train.csv')\n",
        "test = pd.read_csv('./data/california_housing_test.csv')\n",
        "\n",
        "names = train.columns\n",
        "\n",
        "scaler = StandardScaler()\n",
        "train = pd.DataFrame(scaler.fit_transform(train),columns=names)\n",
        "test = pd.DataFrame(scaler.transform(test), columns=names)\n",
        "\n",
        "\n",
        "X_train = train.drop(['median_house_value'],axis=1)\n",
        "X_test  = test.drop(['median_house_value'],axis=1)\n",
        "y_train = train.median_house_value\n",
        "y_test  = test.median_house_value"
      ]
    },
    {
      "cell_type": "markdown",
      "metadata": {
        "id": "lbUodoqRQiLJ"
      },
      "source": [
        "# **OPTUNA**"
      ]
    },
    {
      "cell_type": "markdown",
      "metadata": {
        "id": "EPWbpIQzWQYR"
      },
      "source": [
        "## **General Overview**"
      ]
    },
    {
      "cell_type": "markdown",
      "metadata": {
        "id": "K8NPYlPKfrpM"
      },
      "source": [
        "Optuna optimizes any objective function. This objective function takes a set of arguments (e.g., hyperparameters) and returns a single value (e.g., validation score).  \n",
        "\n",
        "In Optuna, we create a **study**. A study is defined by the objective function and the hyperparameter space and, thus, defines the scope and purpose of our optimization exercise.   \n",
        "Each study consists of a set of **Trials**. Each trial is, thus, a single selection from the hyperparameter space for which we evaluate the objective function. Every next trial builds on the previous one (i.e., an iterative optimization process).\n",
        "\n",
        "The optimization algorithm helps in picking the next trial to evaluate in a smart(er) way, until we find the optimal value."
      ]
    },
    {
      "cell_type": "markdown",
      "metadata": {
        "id": "V-cncUm2QlWI"
      },
      "source": [
        "In practice, every hyperparameter optimization exercise consist of 4 steps:\n",
        "\n",
        "* define a function which **trains a model** and **returns the validation score**\n",
        "\n",
        "* define the **hyperparameter space** through which the optimization algorithm can search (trials are instances/realizations of this space)\n",
        "\n",
        "* create a **study**, which describes the optimization exercise: \n",
        "    * *Direction* : \n",
        "        * minimize: for (Root) Mean Squared Errors, minus-log-likelihood, ... (the lower, the better)\n",
        "        * maximize: r2_score, auc, accuracy, precision, recall, f1_score, ... (the higher, the better)\n",
        "    * *Sampler* : the chosen optimization technique **(Optimization)**\n",
        "    * *Pruner* : early stopping of unpromising trials **(Steroids)**\n",
        "\n",
        "* **optimize** the study using different trials in a smart way **(worker function)**\n"
      ]
    },
    {
      "cell_type": "markdown",
      "metadata": {},
      "source": [
        "Firstly, we need to realize that our time is also limited. In order to limit our waiting time (and computing time), we set a maximum number of trials to evaluate (i.e., maximum number of iterations). "
      ]
    },
    {
      "cell_type": "code",
      "execution_count": 4,
      "metadata": {},
      "outputs": [],
      "source": [
        "N_TRIALS = 200"
      ]
    },
    {
      "cell_type": "markdown",
      "metadata": {},
      "source": [
        "### Step 1\n",
        "We define a function which takes a hyperparameter configuration (params;  which is defined later) as the argument.  \n",
        "Then this function takes our data and trains a machine learning model. In this example, we train a lightgbm model, which can take a lot of interesting hyperparameters to illustrate tuning. Any model architecture can work here (e.g., xgboost, random forest, neural networks, ...).  \n",
        "Lastly, we make some predictions on our test (or validation) set and compute the validation score. In this example, we use the Root Mean Squared Error (RMSE), but again any validation metric is viable."
      ]
    },
    {
      "cell_type": "code",
      "execution_count": 5,
      "metadata": {},
      "outputs": [],
      "source": [
        "def train_evaluate(params):\n",
        "    '''Train a model using your dataset and return the validation score.'''\n",
        "    train_data = lgb.Dataset(X_train, label=y_train)\n",
        "    test_data = lgb.Dataset(X_test, label=y_test, reference=train_data)\n",
        "    # Train a Model\n",
        "    model = lgb.train(params, train_data,\n",
        "                      num_boost_round=params['NUM_BOOST_ROUND'],\n",
        "                      early_stopping_rounds=params['EARLY_STOPPING_ROUNDS'],\n",
        "                      valid_sets=[test_data],\n",
        "                      valid_names=['valid'],\n",
        "                      )\n",
        "    # Evaluate the model\n",
        "    preds = model.predict(test_data,num_iteration=model.best_iteration)\n",
        "    truth = test_data.get_label()\n",
        "    score = metric.mean_squared_error(truth, preds, squared=False)\n",
        "      \n",
        "    #score = model.best_score['valid']['rmse']\n",
        "    # Return the validation score\n",
        "    return score"
      ]
    },
    {
      "cell_type": "markdown",
      "metadata": {},
      "source": [
        "### Step 2\n",
        "We define the objective function of our optimization exercise, which takes a trial as argument.  \n",
        "In this function, we first define the parameter space. This parameter space is a dictionary defining each hyperparameter of interest. For each hyperparameter, we use the $trial.suggest$ functionality to define the domain from which we can sample values for the hyperparameters. In a Bayesian way, think about this as our prior (hyper)parameter distribution. We can use various distributions:\n",
        "- trial.suggest_loguniform for floating point hyperparameters between two bounds favoring smaller values,\n",
        "- trial.suggest_float for floating point hyperparameters between two bounds\n",
        "- trial.suggest_int for integer hyperparameters between two bounds and a step-size,\n",
        "- trial.suggest_uniform for uniformly distributed hyperparameters between two bounds,\n",
        "- trial.suggest_discrete_uniform for uniformly distrubuted hyperparameters between two bounds but with additional step-size,\n",
        "- ...\n",
        "\n",
        "After defining the hyperparameter space, we apply the previously defined function to train a model and return the validation score.  \n",
        "At this stage, we will also check whether the score should be pruned or not (depending on whether a pruning strategy was specified)."
      ]
    },
    {
      "cell_type": "code",
      "execution_count": 6,
      "metadata": {
        "id": "_hxYNpUzCmnj"
      },
      "outputs": [],
      "source": [
        "def objective(trial):\n",
        "    '''\n",
        "    Define the Hyperparameter Space from which to sample a configuration.\n",
        "    Then train a model and output the validation score (see Step 1).\n",
        "    '''\n",
        "    # Define the Hyper-parameter Space\n",
        "    params = {'learning_rate': trial.suggest_loguniform('learning_rate', 0.01, 0.5),\n",
        "              'max_depth': trial.suggest_int('max_depth', 1, 30, 1),\n",
        "              'num_leaves': trial.suggest_int('num_leaves', 2, 100),\n",
        "              'min_data_in_leaf': trial.suggest_int('min_data_in_leaf', 10, 100),\n",
        "              'feature_fraction': trial.suggest_uniform('feature_fraction', 0.1, 1.0),\n",
        "              'subsample': trial.suggest_discrete_uniform('subsample', 0.1, 1.0,.1),\n",
        "              'colsample_by_tree': 1,\n",
        "              'lambda_l1': trial.suggest_float('lambda_l1', 0, 10),\n",
        "              'lambda_l2': trial.suggest_float('lambda_l2', 0, 10),\n",
        "              'NUM_BOOST_ROUND': 200,\n",
        "              'EARLY_STOPPING_ROUNDS': 20,\n",
        "              'objective': 'rmse',\n",
        "              }\n",
        "              \n",
        "    # Train the model and return the validation score\n",
        "    score = train_evaluate(params)\n",
        "    \n",
        "    #Check Pruning\n",
        "    trial.report(score,1)\n",
        "    if trial.should_prune():\n",
        "        raise optuna.TrialPruned()\n",
        "\n",
        "    # Return the validation score\n",
        "    return score"
      ]
    },
    {
      "cell_type": "markdown",
      "metadata": {},
      "source": [
        "### Step 3\n",
        "We create the study object, in which we describe the optimization exercise by means of: \n",
        "\n",
        "* the *Direction* of our optimization: \n",
        "  * minimize: for (Root) Mean Squared Errors, minus-log-likelihood, ... (the lower, the better)\n",
        "  * maximize: r2_score, auc, accuracy, precision, recall, f1_score, ... (the higher, the better)  \n",
        "  \n",
        "\n",
        "* the *Sampler* which is our optimization technique: \n",
        "  * GridSampler, applies a Grid Search on a predefined grid (extra arguments required!)\n",
        "  * RandomSampler, applies Random Search on the parameter space\n",
        "  * CmaEsSampler, applies a Covariance Matrix Adaptation Evolutionary Search algorithm\n",
        "  * TPESampler, is the default option, which applies a Tree-structured Parzen Estimator algorithm  \n",
        "\n",
        "\n",
        "* the *Pruner* which is our pruning strategy to quickly stop unpromising trials:\n",
        "  * NopPruner, does not prune any trials\n",
        "  * MedianPruner, prunes trials that are worst than the median of previous trials\n",
        "  * SuccessiveHalvingPruner, uses Asynchronous Successive Halving (prune half of the least performing trials)\n",
        "  * HyperbandPruner, uses the Hyperband pruning strategy  "
      ]
    },
    {
      "cell_type": "code",
      "execution_count": 7,
      "metadata": {},
      "outputs": [
        {
          "name": "stderr",
          "output_type": "stream",
          "text": [
            "\u001b[32m[I 2021-11-15 11:16:42,462]\u001b[0m A new study created in memory with name: no-name-591837e3-458b-4562-9ff1-e89374cc1f7f\u001b[0m\n"
          ]
        }
      ],
      "source": [
        "study = optuna.create_study(\n",
        "    direction = 'minimize',                         \n",
        "    sampler = optuna.samplers.RandomSampler(),      \n",
        "    pruner = optuna.pruners.NopPruner()            \n",
        "    )"
      ]
    },
    {
      "cell_type": "markdown",
      "metadata": {},
      "source": [
        "### Step 4\n",
        "We call the optimize function on our study object to start the optimization process. "
      ]
    },
    {
      "cell_type": "code",
      "execution_count": 8,
      "metadata": {
        "id": "sxSQuoTiJ4AC"
      },
      "outputs": [
        {
          "name": "stdout",
          "output_type": "stream",
          "text": [
            "Couldn't find program: 'false'\n"
          ]
        }
      ],
      "source": [
        "%%script false --no-raise-error\n",
        "study.optimize(objective, n_trials=N_trials)"
      ]
    },
    {
      "cell_type": "markdown",
      "metadata": {
        "id": "ZLDo29BxV6uP"
      },
      "source": [
        "## Example of Several Optimization Strategies\n",
        "\n",
        "Comment the following line out if you want to track the progress of the optuna sampler live (warning: this creates a long output-trail). \n",
        "Run the following line to suppress all output of the optuna sampler."
      ]
    },
    {
      "cell_type": "code",
      "execution_count": 9,
      "metadata": {},
      "outputs": [],
      "source": [
        "optuna.logging.set_verbosity(optuna.logging.WARNING)"
      ]
    },
    {
      "cell_type": "code",
      "execution_count": 10,
      "metadata": {},
      "outputs": [],
      "source": [
        "random.seed(1)"
      ]
    },
    {
      "cell_type": "markdown",
      "metadata": {},
      "source": [
        "Next, we define out $train\\_evaluate$ and our $objective$ functions. "
      ]
    },
    {
      "cell_type": "code",
      "execution_count": 11,
      "metadata": {},
      "outputs": [],
      "source": [
        "def train_evaluate(params):\n",
        "    # Format/Preprocess Data\n",
        "    train_data = lgb.Dataset(X_train, label=y_train)\n",
        "    test_data = lgb.Dataset(X_test, label=y_test, reference=train_data)\n",
        "    \n",
        "    # Train a Model\n",
        "    model = lgb.train(params, train_data,\n",
        "                      num_boost_round=params['NUM_BOOST_ROUND'],\n",
        "                      early_stopping_rounds=params['EARLY_STOPPING_ROUNDS'],\n",
        "                      valid_sets=[test_data],\n",
        "                      valid_names=['valid'],\n",
        "                      )\n",
        "    \n",
        "    # Evaluate the model \n",
        "    preds = model.predict(X_test,num_iteration=model.best_iteration)\n",
        "    truth = test_data.get_label()\n",
        "    score = metric.mean_squared_error(truth, preds, squared=False)\n",
        "    \n",
        "    # Return the validation score\n",
        "    return score\n",
        "\n",
        "def objective(trial):\n",
        "    # Define the Hyper-parameter Space\n",
        "    params = {'learning_rate': trial.suggest_loguniform('learning_rate', 0.01, 0.5),\n",
        "              'max_depth': trial.suggest_int('max_depth', 1, 50),\n",
        "              'num_leaves': trial.suggest_int('num_leaves', 2, 200),\n",
        "              'feature_fraction': trial.suggest_uniform('feature_fraction', 0.1, 1.0),\n",
        "              'subsample': trial.suggest_discrete_uniform('subsample', 0.1, 1.0, .1),\n",
        "              'colsample_by_tree': 1,\n",
        "              'lambda_l1': trial.suggest_float('lambda_l1', 0, 10),\n",
        "              'lambda_l2': trial.suggest_float('lambda_l2', 0, 10),\n",
        "              'bagging_fraction':trial.suggest_uniform('bagging_fraction', 0, 1),\n",
        "              'bagging_freq':trial.suggest_int('bagging_freq',0,10),\n",
        "              'NUM_BOOST_ROUND': 200,\n",
        "              'EARLY_STOPPING_ROUNDS': 20,\n",
        "              'objective': 'rmse',\n",
        "              }\n",
        "    \n",
        "    # Train the model and return the validation score\n",
        "    score = train_evaluate(params)\n",
        "    \n",
        "    #Check Pruning\n",
        "    trial.report(score,200)\n",
        "    if trial.should_prune():\n",
        "      raise optuna.TrialPruned()\n",
        "    \n",
        "    # Return the validation score\n",
        "    return score"
      ]
    },
    {
      "cell_type": "markdown",
      "metadata": {},
      "source": [
        "### **Grid Search**\n",
        "\n",
        "A grid search does not really look at the hyperparameter space, but rather takes a search space with discrete lists of hyperparameter values into account.\n",
        "In this example, we search over a small grid of 4*4*4 hyperparameters (total size of the grid: 48 possibilities)."
      ]
    },
    {
      "cell_type": "code",
      "execution_count": 12,
      "metadata": {
        "colab": {
          "base_uri": "https://localhost:8080/"
        },
        "id": "-M3qPkBmJCVh",
        "outputId": "5c56114a-287b-4f09-e83e-43fb75db7da9"
      },
      "outputs": [
        {
          "name": "stdout",
          "output_type": "stream",
          "text": [
            "Wall time: 7.08 s\n"
          ]
        }
      ],
      "source": [
        "%%time\n",
        "%%capture\n",
        "\n",
        "def objective_grid(trial):\n",
        "    # Define the Hyper-parameter Space\n",
        "    params = {'learning_rate': trial.suggest_float('learning_rate', 0.01, 0.5),\n",
        "              'max_depth': trial.suggest_int('max_depth', 1, 50),\n",
        "              'num_leaves': trial.suggest_int('num_leaves', 2, 200),\n",
        "              'NUM_BOOST_ROUND': 200,\n",
        "              'EARLY_STOPPING_ROUNDS': 20,\n",
        "              'objective': 'rmse',\n",
        "              'verbose': -1,\n",
        "              }\n",
        "    #Apply the train_evaluate function\n",
        "    score = train_evaluate(params)\n",
        "    return score\n",
        "\n",
        "search_space = {'learning_rate': [0.01, 0.10, 0.50],\n",
        "              'max_depth': [1, 10, 20, 30],\n",
        "              'num_leaves': [2, 10, 20, 100]}\n",
        "\n",
        "study_gridsearch = optuna.create_study(\n",
        "    direction='minimize',\n",
        "    sampler=optuna.samplers.GridSampler(search_space),\n",
        "    pruner = optuna.pruners.NopPruner() \n",
        "    )\n",
        "\n",
        "study_gridsearch.optimize(objective_grid, n_trials=N_TRIALS)"
      ]
    },
    {
      "cell_type": "code",
      "execution_count": 13,
      "metadata": {},
      "outputs": [
        {
          "data": {
            "text/html": [
              "<div>\n",
              "<style scoped>\n",
              "    .dataframe tbody tr th:only-of-type {\n",
              "        vertical-align: middle;\n",
              "    }\n",
              "\n",
              "    .dataframe tbody tr th {\n",
              "        vertical-align: top;\n",
              "    }\n",
              "\n",
              "    .dataframe thead th {\n",
              "        text-align: right;\n",
              "    }\n",
              "</style>\n",
              "<table border=\"1\" class=\"dataframe\">\n",
              "  <thead>\n",
              "    <tr style=\"text-align: right;\">\n",
              "      <th></th>\n",
              "      <th>number</th>\n",
              "      <th>value</th>\n",
              "      <th>datetime_start</th>\n",
              "      <th>datetime_complete</th>\n",
              "      <th>duration</th>\n",
              "      <th>params_learning_rate</th>\n",
              "      <th>params_max_depth</th>\n",
              "      <th>params_num_leaves</th>\n",
              "      <th>system_attrs_grid_id</th>\n",
              "      <th>system_attrs_search_space</th>\n",
              "      <th>state</th>\n",
              "    </tr>\n",
              "  </thead>\n",
              "  <tbody>\n",
              "    <tr>\n",
              "      <th>0</th>\n",
              "      <td>0</td>\n",
              "      <td>0.747001</td>\n",
              "      <td>2021-11-15 11:16:42.576752</td>\n",
              "      <td>2021-11-15 11:16:42.650712</td>\n",
              "      <td>0 days 00:00:00.073960</td>\n",
              "      <td>0.01</td>\n",
              "      <td>20</td>\n",
              "      <td>2</td>\n",
              "      <td>8</td>\n",
              "      <td>{'learning_rate': [0.01, 0.1, 0.5], 'max_depth...</td>\n",
              "      <td>COMPLETE</td>\n",
              "    </tr>\n",
              "    <tr>\n",
              "      <th>1</th>\n",
              "      <td>1</td>\n",
              "      <td>0.427934</td>\n",
              "      <td>2021-11-15 11:16:42.650712</td>\n",
              "      <td>2021-11-15 11:16:42.748194</td>\n",
              "      <td>0 days 00:00:00.097482</td>\n",
              "      <td>0.50</td>\n",
              "      <td>10</td>\n",
              "      <td>10</td>\n",
              "      <td>37</td>\n",
              "      <td>{'learning_rate': [0.01, 0.1, 0.5], 'max_depth...</td>\n",
              "      <td>COMPLETE</td>\n",
              "    </tr>\n",
              "    <tr>\n",
              "      <th>2</th>\n",
              "      <td>2</td>\n",
              "      <td>0.747001</td>\n",
              "      <td>2021-11-15 11:16:42.748194</td>\n",
              "      <td>2021-11-15 11:16:42.826192</td>\n",
              "      <td>0 days 00:00:00.077998</td>\n",
              "      <td>0.01</td>\n",
              "      <td>10</td>\n",
              "      <td>2</td>\n",
              "      <td>4</td>\n",
              "      <td>{'learning_rate': [0.01, 0.1, 0.5], 'max_depth...</td>\n",
              "      <td>COMPLETE</td>\n",
              "    </tr>\n",
              "    <tr>\n",
              "      <th>3</th>\n",
              "      <td>3</td>\n",
              "      <td>0.598808</td>\n",
              "      <td>2021-11-15 11:16:42.826192</td>\n",
              "      <td>2021-11-15 11:16:42.896260</td>\n",
              "      <td>0 days 00:00:00.070068</td>\n",
              "      <td>0.10</td>\n",
              "      <td>1</td>\n",
              "      <td>20</td>\n",
              "      <td>18</td>\n",
              "      <td>{'learning_rate': [0.01, 0.1, 0.5], 'max_depth...</td>\n",
              "      <td>COMPLETE</td>\n",
              "    </tr>\n",
              "    <tr>\n",
              "      <th>4</th>\n",
              "      <td>4</td>\n",
              "      <td>0.594373</td>\n",
              "      <td>2021-11-15 11:16:42.896260</td>\n",
              "      <td>2021-11-15 11:16:43.020259</td>\n",
              "      <td>0 days 00:00:00.123999</td>\n",
              "      <td>0.01</td>\n",
              "      <td>20</td>\n",
              "      <td>10</td>\n",
              "      <td>9</td>\n",
              "      <td>{'learning_rate': [0.01, 0.1, 0.5], 'max_depth...</td>\n",
              "      <td>COMPLETE</td>\n",
              "    </tr>\n",
              "    <tr>\n",
              "      <th>5</th>\n",
              "      <td>5</td>\n",
              "      <td>0.526162</td>\n",
              "      <td>2021-11-15 11:16:43.021260</td>\n",
              "      <td>2021-11-15 11:16:43.087258</td>\n",
              "      <td>0 days 00:00:00.065998</td>\n",
              "      <td>0.50</td>\n",
              "      <td>1</td>\n",
              "      <td>100</td>\n",
              "      <td>35</td>\n",
              "      <td>{'learning_rate': [0.01, 0.1, 0.5], 'max_depth...</td>\n",
              "      <td>COMPLETE</td>\n",
              "    </tr>\n",
              "    <tr>\n",
              "      <th>6</th>\n",
              "      <td>6</td>\n",
              "      <td>0.526162</td>\n",
              "      <td>2021-11-15 11:16:43.087258</td>\n",
              "      <td>2021-11-15 11:16:43.154259</td>\n",
              "      <td>0 days 00:00:00.067001</td>\n",
              "      <td>0.50</td>\n",
              "      <td>1</td>\n",
              "      <td>2</td>\n",
              "      <td>32</td>\n",
              "      <td>{'learning_rate': [0.01, 0.1, 0.5], 'max_depth...</td>\n",
              "      <td>COMPLETE</td>\n",
              "    </tr>\n",
              "    <tr>\n",
              "      <th>7</th>\n",
              "      <td>7</td>\n",
              "      <td>0.526162</td>\n",
              "      <td>2021-11-15 11:16:43.154259</td>\n",
              "      <td>2021-11-15 11:16:43.223261</td>\n",
              "      <td>0 days 00:00:00.069002</td>\n",
              "      <td>0.50</td>\n",
              "      <td>10</td>\n",
              "      <td>2</td>\n",
              "      <td>36</td>\n",
              "      <td>{'learning_rate': [0.01, 0.1, 0.5], 'max_depth...</td>\n",
              "      <td>COMPLETE</td>\n",
              "    </tr>\n",
              "    <tr>\n",
              "      <th>8</th>\n",
              "      <td>8</td>\n",
              "      <td>0.598808</td>\n",
              "      <td>2021-11-15 11:16:43.223261</td>\n",
              "      <td>2021-11-15 11:16:43.291258</td>\n",
              "      <td>0 days 00:00:00.067997</td>\n",
              "      <td>0.10</td>\n",
              "      <td>30</td>\n",
              "      <td>2</td>\n",
              "      <td>28</td>\n",
              "      <td>{'learning_rate': [0.01, 0.1, 0.5], 'max_depth...</td>\n",
              "      <td>COMPLETE</td>\n",
              "    </tr>\n",
              "    <tr>\n",
              "      <th>9</th>\n",
              "      <td>9</td>\n",
              "      <td>0.598808</td>\n",
              "      <td>2021-11-15 11:16:43.292258</td>\n",
              "      <td>2021-11-15 11:16:43.363261</td>\n",
              "      <td>0 days 00:00:00.071003</td>\n",
              "      <td>0.10</td>\n",
              "      <td>1</td>\n",
              "      <td>2</td>\n",
              "      <td>16</td>\n",
              "      <td>{'learning_rate': [0.01, 0.1, 0.5], 'max_depth...</td>\n",
              "      <td>COMPLETE</td>\n",
              "    </tr>\n",
              "  </tbody>\n",
              "</table>\n",
              "</div>"
            ],
            "text/plain": [
              "   number     value             datetime_start          datetime_complete  \\\n",
              "0       0  0.747001 2021-11-15 11:16:42.576752 2021-11-15 11:16:42.650712   \n",
              "1       1  0.427934 2021-11-15 11:16:42.650712 2021-11-15 11:16:42.748194   \n",
              "2       2  0.747001 2021-11-15 11:16:42.748194 2021-11-15 11:16:42.826192   \n",
              "3       3  0.598808 2021-11-15 11:16:42.826192 2021-11-15 11:16:42.896260   \n",
              "4       4  0.594373 2021-11-15 11:16:42.896260 2021-11-15 11:16:43.020259   \n",
              "5       5  0.526162 2021-11-15 11:16:43.021260 2021-11-15 11:16:43.087258   \n",
              "6       6  0.526162 2021-11-15 11:16:43.087258 2021-11-15 11:16:43.154259   \n",
              "7       7  0.526162 2021-11-15 11:16:43.154259 2021-11-15 11:16:43.223261   \n",
              "8       8  0.598808 2021-11-15 11:16:43.223261 2021-11-15 11:16:43.291258   \n",
              "9       9  0.598808 2021-11-15 11:16:43.292258 2021-11-15 11:16:43.363261   \n",
              "\n",
              "                duration  params_learning_rate  params_max_depth  \\\n",
              "0 0 days 00:00:00.073960                  0.01                20   \n",
              "1 0 days 00:00:00.097482                  0.50                10   \n",
              "2 0 days 00:00:00.077998                  0.01                10   \n",
              "3 0 days 00:00:00.070068                  0.10                 1   \n",
              "4 0 days 00:00:00.123999                  0.01                20   \n",
              "5 0 days 00:00:00.065998                  0.50                 1   \n",
              "6 0 days 00:00:00.067001                  0.50                 1   \n",
              "7 0 days 00:00:00.069002                  0.50                10   \n",
              "8 0 days 00:00:00.067997                  0.10                30   \n",
              "9 0 days 00:00:00.071003                  0.10                 1   \n",
              "\n",
              "   params_num_leaves  system_attrs_grid_id  \\\n",
              "0                  2                     8   \n",
              "1                 10                    37   \n",
              "2                  2                     4   \n",
              "3                 20                    18   \n",
              "4                 10                     9   \n",
              "5                100                    35   \n",
              "6                  2                    32   \n",
              "7                  2                    36   \n",
              "8                  2                    28   \n",
              "9                  2                    16   \n",
              "\n",
              "                           system_attrs_search_space     state  \n",
              "0  {'learning_rate': [0.01, 0.1, 0.5], 'max_depth...  COMPLETE  \n",
              "1  {'learning_rate': [0.01, 0.1, 0.5], 'max_depth...  COMPLETE  \n",
              "2  {'learning_rate': [0.01, 0.1, 0.5], 'max_depth...  COMPLETE  \n",
              "3  {'learning_rate': [0.01, 0.1, 0.5], 'max_depth...  COMPLETE  \n",
              "4  {'learning_rate': [0.01, 0.1, 0.5], 'max_depth...  COMPLETE  \n",
              "5  {'learning_rate': [0.01, 0.1, 0.5], 'max_depth...  COMPLETE  \n",
              "6  {'learning_rate': [0.01, 0.1, 0.5], 'max_depth...  COMPLETE  \n",
              "7  {'learning_rate': [0.01, 0.1, 0.5], 'max_depth...  COMPLETE  \n",
              "8  {'learning_rate': [0.01, 0.1, 0.5], 'max_depth...  COMPLETE  \n",
              "9  {'learning_rate': [0.01, 0.1, 0.5], 'max_depth...  COMPLETE  "
            ]
          },
          "execution_count": 13,
          "metadata": {},
          "output_type": "execute_result"
        }
      ],
      "source": [
        "df_gridsearch = study_gridsearch.trials_dataframe()\n",
        "df_gridsearch.head(10)"
      ]
    },
    {
      "cell_type": "code",
      "execution_count": 14,
      "metadata": {
        "colab": {
          "base_uri": "https://localhost:8080/"
        },
        "id": "5Si3TBSQPLA2",
        "outputId": "0c67db2b-7479-478f-87a5-fb9d9f2eb9b4"
      },
      "outputs": [
        {
          "name": "stdout",
          "output_type": "stream",
          "text": [
            "{'score': 0.4009600440564793, 'params': {'learning_rate': 0.1, 'max_depth': 10, 'num_leaves': 100}}\n"
          ]
        }
      ],
      "source": [
        "gridsearch = {'score': study_gridsearch.best_value, 'params': study_gridsearch.best_params}\n",
        "print(gridsearch)"
      ]
    },
    {
      "cell_type": "markdown",
      "metadata": {
        "id": "Sn-ozVvUXKY-"
      },
      "source": [
        "### **Random Search**"
      ]
    },
    {
      "cell_type": "code",
      "execution_count": 15,
      "metadata": {
        "colab": {
          "base_uri": "https://localhost:8080/"
        },
        "id": "Dc6wSh7LXV1p",
        "outputId": "0ff9959c-671b-4464-ffb7-0a0985dc370f"
      },
      "outputs": [
        {
          "name": "stdout",
          "output_type": "stream",
          "text": [
            "Wall time: 1min 30s\n"
          ]
        }
      ],
      "source": [
        "%%time\n",
        "%%capture\n",
        "\n",
        "study_randomsearch = optuna.create_study(\n",
        "    direction = 'minimize',\n",
        "    sampler = optuna.samplers.RandomSampler(),\n",
        "    pruner = optuna.pruners.NopPruner() \n",
        "    )\n",
        "\n",
        "study_randomsearch.optimize(objective, n_trials=N_TRIALS)"
      ]
    },
    {
      "cell_type": "code",
      "execution_count": 16,
      "metadata": {},
      "outputs": [
        {
          "data": {
            "text/html": [
              "<div>\n",
              "<style scoped>\n",
              "    .dataframe tbody tr th:only-of-type {\n",
              "        vertical-align: middle;\n",
              "    }\n",
              "\n",
              "    .dataframe tbody tr th {\n",
              "        vertical-align: top;\n",
              "    }\n",
              "\n",
              "    .dataframe thead th {\n",
              "        text-align: right;\n",
              "    }\n",
              "</style>\n",
              "<table border=\"1\" class=\"dataframe\">\n",
              "  <thead>\n",
              "    <tr style=\"text-align: right;\">\n",
              "      <th></th>\n",
              "      <th>number</th>\n",
              "      <th>value</th>\n",
              "      <th>datetime_start</th>\n",
              "      <th>datetime_complete</th>\n",
              "      <th>duration</th>\n",
              "      <th>params_bagging_fraction</th>\n",
              "      <th>params_bagging_freq</th>\n",
              "      <th>params_feature_fraction</th>\n",
              "      <th>params_lambda_l1</th>\n",
              "      <th>params_lambda_l2</th>\n",
              "      <th>params_learning_rate</th>\n",
              "      <th>params_max_depth</th>\n",
              "      <th>params_num_leaves</th>\n",
              "      <th>params_subsample</th>\n",
              "      <th>state</th>\n",
              "    </tr>\n",
              "  </thead>\n",
              "  <tbody>\n",
              "    <tr>\n",
              "      <th>0</th>\n",
              "      <td>0</td>\n",
              "      <td>0.717399</td>\n",
              "      <td>2021-11-15 11:16:49.782566</td>\n",
              "      <td>2021-11-15 11:16:50.234084</td>\n",
              "      <td>0 days 00:00:00.451518</td>\n",
              "      <td>0.190881</td>\n",
              "      <td>0</td>\n",
              "      <td>0.180870</td>\n",
              "      <td>4.721965</td>\n",
              "      <td>8.784930</td>\n",
              "      <td>0.015872</td>\n",
              "      <td>18</td>\n",
              "      <td>73</td>\n",
              "      <td>0.3</td>\n",
              "      <td>COMPLETE</td>\n",
              "    </tr>\n",
              "    <tr>\n",
              "      <th>1</th>\n",
              "      <td>1</td>\n",
              "      <td>0.417080</td>\n",
              "      <td>2021-11-15 11:16:50.234084</td>\n",
              "      <td>2021-11-15 11:16:50.688185</td>\n",
              "      <td>0 days 00:00:00.454101</td>\n",
              "      <td>0.257557</td>\n",
              "      <td>6</td>\n",
              "      <td>0.664429</td>\n",
              "      <td>3.202172</td>\n",
              "      <td>0.487312</td>\n",
              "      <td>0.064964</td>\n",
              "      <td>16</td>\n",
              "      <td>51</td>\n",
              "      <td>0.9</td>\n",
              "      <td>COMPLETE</td>\n",
              "    </tr>\n",
              "    <tr>\n",
              "      <th>2</th>\n",
              "      <td>2</td>\n",
              "      <td>0.492198</td>\n",
              "      <td>2021-11-15 11:16:50.688185</td>\n",
              "      <td>2021-11-15 11:16:50.868185</td>\n",
              "      <td>0 days 00:00:00.180000</td>\n",
              "      <td>0.042112</td>\n",
              "      <td>8</td>\n",
              "      <td>0.696740</td>\n",
              "      <td>7.020914</td>\n",
              "      <td>7.191303</td>\n",
              "      <td>0.064858</td>\n",
              "      <td>16</td>\n",
              "      <td>27</td>\n",
              "      <td>0.9</td>\n",
              "      <td>COMPLETE</td>\n",
              "    </tr>\n",
              "    <tr>\n",
              "      <th>3</th>\n",
              "      <td>3</td>\n",
              "      <td>0.569370</td>\n",
              "      <td>2021-11-15 11:16:50.868185</td>\n",
              "      <td>2021-11-15 11:16:51.219184</td>\n",
              "      <td>0 days 00:00:00.350999</td>\n",
              "      <td>0.246907</td>\n",
              "      <td>8</td>\n",
              "      <td>0.227616</td>\n",
              "      <td>0.691037</td>\n",
              "      <td>1.123191</td>\n",
              "      <td>0.392646</td>\n",
              "      <td>39</td>\n",
              "      <td>193</td>\n",
              "      <td>0.2</td>\n",
              "      <td>COMPLETE</td>\n",
              "    </tr>\n",
              "    <tr>\n",
              "      <th>4</th>\n",
              "      <td>4</td>\n",
              "      <td>0.525928</td>\n",
              "      <td>2021-11-15 11:16:51.219184</td>\n",
              "      <td>2021-11-15 11:16:51.391700</td>\n",
              "      <td>0 days 00:00:00.172516</td>\n",
              "      <td>0.144321</td>\n",
              "      <td>7</td>\n",
              "      <td>0.282065</td>\n",
              "      <td>3.069748</td>\n",
              "      <td>6.511695</td>\n",
              "      <td>0.416985</td>\n",
              "      <td>33</td>\n",
              "      <td>35</td>\n",
              "      <td>1.0</td>\n",
              "      <td>COMPLETE</td>\n",
              "    </tr>\n",
              "    <tr>\n",
              "      <th>5</th>\n",
              "      <td>5</td>\n",
              "      <td>0.419918</td>\n",
              "      <td>2021-11-15 11:16:51.391700</td>\n",
              "      <td>2021-11-15 11:16:51.685699</td>\n",
              "      <td>0 days 00:00:00.293999</td>\n",
              "      <td>0.539119</td>\n",
              "      <td>6</td>\n",
              "      <td>0.852894</td>\n",
              "      <td>3.164154</td>\n",
              "      <td>6.174017</td>\n",
              "      <td>0.072096</td>\n",
              "      <td>27</td>\n",
              "      <td>17</td>\n",
              "      <td>0.6</td>\n",
              "      <td>COMPLETE</td>\n",
              "    </tr>\n",
              "    <tr>\n",
              "      <th>6</th>\n",
              "      <td>6</td>\n",
              "      <td>0.464877</td>\n",
              "      <td>2021-11-15 11:16:51.686699</td>\n",
              "      <td>2021-11-15 11:16:52.386701</td>\n",
              "      <td>0 days 00:00:00.700002</td>\n",
              "      <td>0.793000</td>\n",
              "      <td>5</td>\n",
              "      <td>0.286701</td>\n",
              "      <td>1.604678</td>\n",
              "      <td>4.219211</td>\n",
              "      <td>0.138907</td>\n",
              "      <td>46</td>\n",
              "      <td>71</td>\n",
              "      <td>1.0</td>\n",
              "      <td>COMPLETE</td>\n",
              "    </tr>\n",
              "    <tr>\n",
              "      <th>7</th>\n",
              "      <td>7</td>\n",
              "      <td>0.402122</td>\n",
              "      <td>2021-11-15 11:16:52.386701</td>\n",
              "      <td>2021-11-15 11:16:53.475734</td>\n",
              "      <td>0 days 00:00:01.089033</td>\n",
              "      <td>0.978519</td>\n",
              "      <td>10</td>\n",
              "      <td>0.906599</td>\n",
              "      <td>6.871575</td>\n",
              "      <td>6.816364</td>\n",
              "      <td>0.255456</td>\n",
              "      <td>43</td>\n",
              "      <td>174</td>\n",
              "      <td>0.1</td>\n",
              "      <td>COMPLETE</td>\n",
              "    </tr>\n",
              "    <tr>\n",
              "      <th>8</th>\n",
              "      <td>8</td>\n",
              "      <td>0.528356</td>\n",
              "      <td>2021-11-15 11:16:53.475734</td>\n",
              "      <td>2021-11-15 11:16:53.611764</td>\n",
              "      <td>0 days 00:00:00.136030</td>\n",
              "      <td>0.327816</td>\n",
              "      <td>1</td>\n",
              "      <td>0.120688</td>\n",
              "      <td>0.806220</td>\n",
              "      <td>6.430674</td>\n",
              "      <td>0.286547</td>\n",
              "      <td>14</td>\n",
              "      <td>4</td>\n",
              "      <td>0.8</td>\n",
              "      <td>COMPLETE</td>\n",
              "    </tr>\n",
              "    <tr>\n",
              "      <th>9</th>\n",
              "      <td>9</td>\n",
              "      <td>0.401930</td>\n",
              "      <td>2021-11-15 11:16:53.611764</td>\n",
              "      <td>2021-11-15 11:16:54.503764</td>\n",
              "      <td>0 days 00:00:00.892000</td>\n",
              "      <td>0.764707</td>\n",
              "      <td>7</td>\n",
              "      <td>0.960958</td>\n",
              "      <td>0.022391</td>\n",
              "      <td>6.238483</td>\n",
              "      <td>0.059796</td>\n",
              "      <td>43</td>\n",
              "      <td>108</td>\n",
              "      <td>0.6</td>\n",
              "      <td>COMPLETE</td>\n",
              "    </tr>\n",
              "  </tbody>\n",
              "</table>\n",
              "</div>"
            ],
            "text/plain": [
              "   number     value             datetime_start          datetime_complete  \\\n",
              "0       0  0.717399 2021-11-15 11:16:49.782566 2021-11-15 11:16:50.234084   \n",
              "1       1  0.417080 2021-11-15 11:16:50.234084 2021-11-15 11:16:50.688185   \n",
              "2       2  0.492198 2021-11-15 11:16:50.688185 2021-11-15 11:16:50.868185   \n",
              "3       3  0.569370 2021-11-15 11:16:50.868185 2021-11-15 11:16:51.219184   \n",
              "4       4  0.525928 2021-11-15 11:16:51.219184 2021-11-15 11:16:51.391700   \n",
              "5       5  0.419918 2021-11-15 11:16:51.391700 2021-11-15 11:16:51.685699   \n",
              "6       6  0.464877 2021-11-15 11:16:51.686699 2021-11-15 11:16:52.386701   \n",
              "7       7  0.402122 2021-11-15 11:16:52.386701 2021-11-15 11:16:53.475734   \n",
              "8       8  0.528356 2021-11-15 11:16:53.475734 2021-11-15 11:16:53.611764   \n",
              "9       9  0.401930 2021-11-15 11:16:53.611764 2021-11-15 11:16:54.503764   \n",
              "\n",
              "                duration  params_bagging_fraction  params_bagging_freq  \\\n",
              "0 0 days 00:00:00.451518                 0.190881                    0   \n",
              "1 0 days 00:00:00.454101                 0.257557                    6   \n",
              "2 0 days 00:00:00.180000                 0.042112                    8   \n",
              "3 0 days 00:00:00.350999                 0.246907                    8   \n",
              "4 0 days 00:00:00.172516                 0.144321                    7   \n",
              "5 0 days 00:00:00.293999                 0.539119                    6   \n",
              "6 0 days 00:00:00.700002                 0.793000                    5   \n",
              "7 0 days 00:00:01.089033                 0.978519                   10   \n",
              "8 0 days 00:00:00.136030                 0.327816                    1   \n",
              "9 0 days 00:00:00.892000                 0.764707                    7   \n",
              "\n",
              "   params_feature_fraction  params_lambda_l1  params_lambda_l2  \\\n",
              "0                 0.180870          4.721965          8.784930   \n",
              "1                 0.664429          3.202172          0.487312   \n",
              "2                 0.696740          7.020914          7.191303   \n",
              "3                 0.227616          0.691037          1.123191   \n",
              "4                 0.282065          3.069748          6.511695   \n",
              "5                 0.852894          3.164154          6.174017   \n",
              "6                 0.286701          1.604678          4.219211   \n",
              "7                 0.906599          6.871575          6.816364   \n",
              "8                 0.120688          0.806220          6.430674   \n",
              "9                 0.960958          0.022391          6.238483   \n",
              "\n",
              "   params_learning_rate  params_max_depth  params_num_leaves  \\\n",
              "0              0.015872                18                 73   \n",
              "1              0.064964                16                 51   \n",
              "2              0.064858                16                 27   \n",
              "3              0.392646                39                193   \n",
              "4              0.416985                33                 35   \n",
              "5              0.072096                27                 17   \n",
              "6              0.138907                46                 71   \n",
              "7              0.255456                43                174   \n",
              "8              0.286547                14                  4   \n",
              "9              0.059796                43                108   \n",
              "\n",
              "   params_subsample     state  \n",
              "0               0.3  COMPLETE  \n",
              "1               0.9  COMPLETE  \n",
              "2               0.9  COMPLETE  \n",
              "3               0.2  COMPLETE  \n",
              "4               1.0  COMPLETE  \n",
              "5               0.6  COMPLETE  \n",
              "6               1.0  COMPLETE  \n",
              "7               0.1  COMPLETE  \n",
              "8               0.8  COMPLETE  \n",
              "9               0.6  COMPLETE  "
            ]
          },
          "execution_count": 16,
          "metadata": {},
          "output_type": "execute_result"
        }
      ],
      "source": [
        "df_randomsearch = study_randomsearch.trials_dataframe()\n",
        "df_randomsearch.head(10)"
      ]
    },
    {
      "cell_type": "code",
      "execution_count": 17,
      "metadata": {
        "colab": {
          "base_uri": "https://localhost:8080/"
        },
        "id": "NqGKn8p4aSxZ",
        "outputId": "d6141829-ede7-42f6-feea-c98f8ab4c9f1"
      },
      "outputs": [
        {
          "name": "stdout",
          "output_type": "stream",
          "text": [
            "{'score': 0.39950396725505927, 'params': {'learning_rate': 0.11956523483516167, 'max_depth': 11, 'num_leaves': 116, 'feature_fraction': 0.6387090866315891, 'subsample': 0.8, 'lambda_l1': 4.49265883499625, 'lambda_l2': 2.4123246887203975, 'bagging_fraction': 0.8372383216442213, 'bagging_freq': 10}}\n"
          ]
        }
      ],
      "source": [
        "randomsearch = {'score': study_randomsearch.best_value, 'params': study_randomsearch.best_params}\n",
        "print(randomsearch)"
      ]
    },
    {
      "cell_type": "markdown",
      "metadata": {
        "id": "qrAr9OUvJYJl"
      },
      "source": [
        "### **CMAES**"
      ]
    },
    {
      "cell_type": "code",
      "execution_count": 18,
      "metadata": {
        "colab": {
          "base_uri": "https://localhost:8080/"
        },
        "id": "Wv1aInVeJV9Y",
        "outputId": "3918ff77-7525-4ed5-9936-729eb3d943d0"
      },
      "outputs": [
        {
          "name": "stdout",
          "output_type": "stream",
          "text": [
            "Wall time: 2min 54s\n"
          ]
        }
      ],
      "source": [
        "%%time\n",
        "%%capture\n",
        "\n",
        "study_cmaes = optuna.create_study(\n",
        "    direction = 'minimize',\n",
        "    sampler = optuna.samplers.CmaEsSampler(),\n",
        "    pruner = optuna.pruners.MedianPruner()  \n",
        "    )\n",
        "\n",
        "study_cmaes.optimize(objective, n_trials=N_TRIALS)"
      ]
    },
    {
      "cell_type": "code",
      "execution_count": 19,
      "metadata": {},
      "outputs": [
        {
          "data": {
            "text/html": [
              "<div>\n",
              "<style scoped>\n",
              "    .dataframe tbody tr th:only-of-type {\n",
              "        vertical-align: middle;\n",
              "    }\n",
              "\n",
              "    .dataframe tbody tr th {\n",
              "        vertical-align: top;\n",
              "    }\n",
              "\n",
              "    .dataframe thead th {\n",
              "        text-align: right;\n",
              "    }\n",
              "</style>\n",
              "<table border=\"1\" class=\"dataframe\">\n",
              "  <thead>\n",
              "    <tr style=\"text-align: right;\">\n",
              "      <th></th>\n",
              "      <th>number</th>\n",
              "      <th>value</th>\n",
              "      <th>datetime_start</th>\n",
              "      <th>datetime_complete</th>\n",
              "      <th>duration</th>\n",
              "      <th>params_bagging_fraction</th>\n",
              "      <th>params_bagging_freq</th>\n",
              "      <th>params_feature_fraction</th>\n",
              "      <th>params_lambda_l1</th>\n",
              "      <th>params_lambda_l2</th>\n",
              "      <th>params_learning_rate</th>\n",
              "      <th>params_max_depth</th>\n",
              "      <th>params_num_leaves</th>\n",
              "      <th>params_subsample</th>\n",
              "      <th>system_attrs_cma:generation</th>\n",
              "      <th>system_attrs_cma:n_restarts</th>\n",
              "      <th>system_attrs_cma:optimizer:0</th>\n",
              "      <th>system_attrs_cma:optimizer:1</th>\n",
              "      <th>system_attrs_cma:optimizer:2</th>\n",
              "      <th>state</th>\n",
              "    </tr>\n",
              "  </thead>\n",
              "  <tbody>\n",
              "    <tr>\n",
              "      <th>0</th>\n",
              "      <td>0</td>\n",
              "      <td>0.588295</td>\n",
              "      <td>2021-11-15 11:18:20.875763</td>\n",
              "      <td>2021-11-15 11:18:20.984764</td>\n",
              "      <td>0 days 00:00:00.109001</td>\n",
              "      <td>0.799408</td>\n",
              "      <td>0</td>\n",
              "      <td>0.193565</td>\n",
              "      <td>6.715192</td>\n",
              "      <td>5.735020</td>\n",
              "      <td>0.037047</td>\n",
              "      <td>3</td>\n",
              "      <td>52</td>\n",
              "      <td>0.2</td>\n",
              "      <td>NaN</td>\n",
              "      <td>NaN</td>\n",
              "      <td>NaN</td>\n",
              "      <td>NaN</td>\n",
              "      <td>NaN</td>\n",
              "      <td>COMPLETE</td>\n",
              "    </tr>\n",
              "    <tr>\n",
              "      <th>1</th>\n",
              "      <td>1</td>\n",
              "      <td>0.405101</td>\n",
              "      <td>2021-11-15 11:18:20.984764</td>\n",
              "      <td>2021-11-15 11:18:21.705762</td>\n",
              "      <td>0 days 00:00:00.720998</td>\n",
              "      <td>0.709999</td>\n",
              "      <td>5</td>\n",
              "      <td>0.657881</td>\n",
              "      <td>5.199227</td>\n",
              "      <td>4.759155</td>\n",
              "      <td>0.061399</td>\n",
              "      <td>26</td>\n",
              "      <td>101</td>\n",
              "      <td>0.5</td>\n",
              "      <td>0.0</td>\n",
              "      <td>0.0</td>\n",
              "      <td>NaN</td>\n",
              "      <td>NaN</td>\n",
              "      <td>NaN</td>\n",
              "      <td>COMPLETE</td>\n",
              "    </tr>\n",
              "    <tr>\n",
              "      <th>2</th>\n",
              "      <td>2</td>\n",
              "      <td>0.499723</td>\n",
              "      <td>2021-11-15 11:18:21.705762</td>\n",
              "      <td>2021-11-15 11:18:22.110763</td>\n",
              "      <td>0 days 00:00:00.405001</td>\n",
              "      <td>0.391103</td>\n",
              "      <td>5</td>\n",
              "      <td>0.229346</td>\n",
              "      <td>4.794969</td>\n",
              "      <td>4.868205</td>\n",
              "      <td>0.061610</td>\n",
              "      <td>25</td>\n",
              "      <td>101</td>\n",
              "      <td>0.7</td>\n",
              "      <td>0.0</td>\n",
              "      <td>0.0</td>\n",
              "      <td>NaN</td>\n",
              "      <td>NaN</td>\n",
              "      <td>NaN</td>\n",
              "      <td>COMPLETE</td>\n",
              "    </tr>\n",
              "    <tr>\n",
              "      <th>3</th>\n",
              "      <td>3</td>\n",
              "      <td>0.413266</td>\n",
              "      <td>2021-11-15 11:18:22.110763</td>\n",
              "      <td>2021-11-15 11:18:22.740763</td>\n",
              "      <td>0 days 00:00:00.630000</td>\n",
              "      <td>0.383544</td>\n",
              "      <td>5</td>\n",
              "      <td>0.655453</td>\n",
              "      <td>5.074825</td>\n",
              "      <td>4.788592</td>\n",
              "      <td>0.080795</td>\n",
              "      <td>26</td>\n",
              "      <td>101</td>\n",
              "      <td>0.6</td>\n",
              "      <td>0.0</td>\n",
              "      <td>0.0</td>\n",
              "      <td>NaN</td>\n",
              "      <td>NaN</td>\n",
              "      <td>NaN</td>\n",
              "      <td>COMPLETE</td>\n",
              "    </tr>\n",
              "    <tr>\n",
              "      <th>4</th>\n",
              "      <td>4</td>\n",
              "      <td>0.416543</td>\n",
              "      <td>2021-11-15 11:18:22.740763</td>\n",
              "      <td>2021-11-15 11:18:23.551277</td>\n",
              "      <td>0 days 00:00:00.810514</td>\n",
              "      <td>0.691364</td>\n",
              "      <td>5</td>\n",
              "      <td>0.512578</td>\n",
              "      <td>5.179937</td>\n",
              "      <td>5.186719</td>\n",
              "      <td>0.090731</td>\n",
              "      <td>25</td>\n",
              "      <td>101</td>\n",
              "      <td>0.7</td>\n",
              "      <td>0.0</td>\n",
              "      <td>0.0</td>\n",
              "      <td>NaN</td>\n",
              "      <td>NaN</td>\n",
              "      <td>NaN</td>\n",
              "      <td>COMPLETE</td>\n",
              "    </tr>\n",
              "    <tr>\n",
              "      <th>5</th>\n",
              "      <td>5</td>\n",
              "      <td>0.406795</td>\n",
              "      <td>2021-11-15 11:18:23.551277</td>\n",
              "      <td>2021-11-15 11:18:24.234276</td>\n",
              "      <td>0 days 00:00:00.682999</td>\n",
              "      <td>0.563643</td>\n",
              "      <td>5</td>\n",
              "      <td>0.583681</td>\n",
              "      <td>5.098607</td>\n",
              "      <td>5.270263</td>\n",
              "      <td>0.081152</td>\n",
              "      <td>25</td>\n",
              "      <td>101</td>\n",
              "      <td>0.3</td>\n",
              "      <td>0.0</td>\n",
              "      <td>0.0</td>\n",
              "      <td>NaN</td>\n",
              "      <td>NaN</td>\n",
              "      <td>NaN</td>\n",
              "      <td>COMPLETE</td>\n",
              "    </tr>\n",
              "    <tr>\n",
              "      <th>6</th>\n",
              "      <td>6</td>\n",
              "      <td>0.421212</td>\n",
              "      <td>2021-11-15 11:18:24.234276</td>\n",
              "      <td>2021-11-15 11:18:25.030344</td>\n",
              "      <td>0 days 00:00:00.796068</td>\n",
              "      <td>0.553276</td>\n",
              "      <td>5</td>\n",
              "      <td>0.440543</td>\n",
              "      <td>5.010775</td>\n",
              "      <td>5.062116</td>\n",
              "      <td>0.087398</td>\n",
              "      <td>25</td>\n",
              "      <td>101</td>\n",
              "      <td>0.5</td>\n",
              "      <td>0.0</td>\n",
              "      <td>0.0</td>\n",
              "      <td>NaN</td>\n",
              "      <td>NaN</td>\n",
              "      <td>NaN</td>\n",
              "      <td>PRUNED</td>\n",
              "    </tr>\n",
              "    <tr>\n",
              "      <th>7</th>\n",
              "      <td>7</td>\n",
              "      <td>0.432294</td>\n",
              "      <td>2021-11-15 11:18:25.030344</td>\n",
              "      <td>2021-11-15 11:18:25.588343</td>\n",
              "      <td>0 days 00:00:00.557999</td>\n",
              "      <td>0.476830</td>\n",
              "      <td>5</td>\n",
              "      <td>0.318442</td>\n",
              "      <td>5.268757</td>\n",
              "      <td>5.223007</td>\n",
              "      <td>0.092745</td>\n",
              "      <td>25</td>\n",
              "      <td>101</td>\n",
              "      <td>0.7</td>\n",
              "      <td>0.0</td>\n",
              "      <td>0.0</td>\n",
              "      <td>NaN</td>\n",
              "      <td>NaN</td>\n",
              "      <td>NaN</td>\n",
              "      <td>PRUNED</td>\n",
              "    </tr>\n",
              "    <tr>\n",
              "      <th>8</th>\n",
              "      <td>8</td>\n",
              "      <td>0.437774</td>\n",
              "      <td>2021-11-15 11:18:25.588343</td>\n",
              "      <td>2021-11-15 11:18:26.079343</td>\n",
              "      <td>0 days 00:00:00.491000</td>\n",
              "      <td>0.413700</td>\n",
              "      <td>5</td>\n",
              "      <td>0.354789</td>\n",
              "      <td>5.328544</td>\n",
              "      <td>4.791528</td>\n",
              "      <td>0.073717</td>\n",
              "      <td>25</td>\n",
              "      <td>101</td>\n",
              "      <td>0.6</td>\n",
              "      <td>0.0</td>\n",
              "      <td>0.0</td>\n",
              "      <td>NaN</td>\n",
              "      <td>NaN</td>\n",
              "      <td>NaN</td>\n",
              "      <td>PRUNED</td>\n",
              "    </tr>\n",
              "    <tr>\n",
              "      <th>9</th>\n",
              "      <td>9</td>\n",
              "      <td>0.433845</td>\n",
              "      <td>2021-11-15 11:18:26.080344</td>\n",
              "      <td>2021-11-15 11:18:26.581857</td>\n",
              "      <td>0 days 00:00:00.501513</td>\n",
              "      <td>0.351278</td>\n",
              "      <td>5</td>\n",
              "      <td>0.412731</td>\n",
              "      <td>5.116559</td>\n",
              "      <td>5.192324</td>\n",
              "      <td>0.098436</td>\n",
              "      <td>26</td>\n",
              "      <td>101</td>\n",
              "      <td>0.5</td>\n",
              "      <td>0.0</td>\n",
              "      <td>0.0</td>\n",
              "      <td>NaN</td>\n",
              "      <td>NaN</td>\n",
              "      <td>NaN</td>\n",
              "      <td>PRUNED</td>\n",
              "    </tr>\n",
              "  </tbody>\n",
              "</table>\n",
              "</div>"
            ],
            "text/plain": [
              "   number     value             datetime_start          datetime_complete  \\\n",
              "0       0  0.588295 2021-11-15 11:18:20.875763 2021-11-15 11:18:20.984764   \n",
              "1       1  0.405101 2021-11-15 11:18:20.984764 2021-11-15 11:18:21.705762   \n",
              "2       2  0.499723 2021-11-15 11:18:21.705762 2021-11-15 11:18:22.110763   \n",
              "3       3  0.413266 2021-11-15 11:18:22.110763 2021-11-15 11:18:22.740763   \n",
              "4       4  0.416543 2021-11-15 11:18:22.740763 2021-11-15 11:18:23.551277   \n",
              "5       5  0.406795 2021-11-15 11:18:23.551277 2021-11-15 11:18:24.234276   \n",
              "6       6  0.421212 2021-11-15 11:18:24.234276 2021-11-15 11:18:25.030344   \n",
              "7       7  0.432294 2021-11-15 11:18:25.030344 2021-11-15 11:18:25.588343   \n",
              "8       8  0.437774 2021-11-15 11:18:25.588343 2021-11-15 11:18:26.079343   \n",
              "9       9  0.433845 2021-11-15 11:18:26.080344 2021-11-15 11:18:26.581857   \n",
              "\n",
              "                duration  params_bagging_fraction  params_bagging_freq  \\\n",
              "0 0 days 00:00:00.109001                 0.799408                    0   \n",
              "1 0 days 00:00:00.720998                 0.709999                    5   \n",
              "2 0 days 00:00:00.405001                 0.391103                    5   \n",
              "3 0 days 00:00:00.630000                 0.383544                    5   \n",
              "4 0 days 00:00:00.810514                 0.691364                    5   \n",
              "5 0 days 00:00:00.682999                 0.563643                    5   \n",
              "6 0 days 00:00:00.796068                 0.553276                    5   \n",
              "7 0 days 00:00:00.557999                 0.476830                    5   \n",
              "8 0 days 00:00:00.491000                 0.413700                    5   \n",
              "9 0 days 00:00:00.501513                 0.351278                    5   \n",
              "\n",
              "   params_feature_fraction  params_lambda_l1  params_lambda_l2  \\\n",
              "0                 0.193565          6.715192          5.735020   \n",
              "1                 0.657881          5.199227          4.759155   \n",
              "2                 0.229346          4.794969          4.868205   \n",
              "3                 0.655453          5.074825          4.788592   \n",
              "4                 0.512578          5.179937          5.186719   \n",
              "5                 0.583681          5.098607          5.270263   \n",
              "6                 0.440543          5.010775          5.062116   \n",
              "7                 0.318442          5.268757          5.223007   \n",
              "8                 0.354789          5.328544          4.791528   \n",
              "9                 0.412731          5.116559          5.192324   \n",
              "\n",
              "   params_learning_rate  params_max_depth  params_num_leaves  \\\n",
              "0              0.037047                 3                 52   \n",
              "1              0.061399                26                101   \n",
              "2              0.061610                25                101   \n",
              "3              0.080795                26                101   \n",
              "4              0.090731                25                101   \n",
              "5              0.081152                25                101   \n",
              "6              0.087398                25                101   \n",
              "7              0.092745                25                101   \n",
              "8              0.073717                25                101   \n",
              "9              0.098436                26                101   \n",
              "\n",
              "   params_subsample  system_attrs_cma:generation  system_attrs_cma:n_restarts  \\\n",
              "0               0.2                          NaN                          NaN   \n",
              "1               0.5                          0.0                          0.0   \n",
              "2               0.7                          0.0                          0.0   \n",
              "3               0.6                          0.0                          0.0   \n",
              "4               0.7                          0.0                          0.0   \n",
              "5               0.3                          0.0                          0.0   \n",
              "6               0.5                          0.0                          0.0   \n",
              "7               0.7                          0.0                          0.0   \n",
              "8               0.6                          0.0                          0.0   \n",
              "9               0.5                          0.0                          0.0   \n",
              "\n",
              "  system_attrs_cma:optimizer:0 system_attrs_cma:optimizer:1  \\\n",
              "0                          NaN                          NaN   \n",
              "1                          NaN                          NaN   \n",
              "2                          NaN                          NaN   \n",
              "3                          NaN                          NaN   \n",
              "4                          NaN                          NaN   \n",
              "5                          NaN                          NaN   \n",
              "6                          NaN                          NaN   \n",
              "7                          NaN                          NaN   \n",
              "8                          NaN                          NaN   \n",
              "9                          NaN                          NaN   \n",
              "\n",
              "  system_attrs_cma:optimizer:2     state  \n",
              "0                          NaN  COMPLETE  \n",
              "1                          NaN  COMPLETE  \n",
              "2                          NaN  COMPLETE  \n",
              "3                          NaN  COMPLETE  \n",
              "4                          NaN  COMPLETE  \n",
              "5                          NaN  COMPLETE  \n",
              "6                          NaN    PRUNED  \n",
              "7                          NaN    PRUNED  \n",
              "8                          NaN    PRUNED  \n",
              "9                          NaN    PRUNED  "
            ]
          },
          "execution_count": 19,
          "metadata": {},
          "output_type": "execute_result"
        }
      ],
      "source": [
        "df_cmaes = study_cmaes.trials_dataframe()\n",
        "df_cmaes.head(10)"
      ]
    },
    {
      "cell_type": "code",
      "execution_count": 20,
      "metadata": {
        "colab": {
          "base_uri": "https://localhost:8080/"
        },
        "id": "ggS0cFflJixW",
        "outputId": "889e8c19-1a72-458c-d55b-be1063aab04d"
      },
      "outputs": [
        {
          "name": "stdout",
          "output_type": "stream",
          "text": [
            "{'score': 0.3962360832826891, 'params': {'learning_rate': 0.10270955990683393, 'max_depth': 26, 'num_leaves': 101, 'feature_fraction': 0.5818597071965921, 'subsample': 0.2, 'lambda_l1': 5.339608201274356, 'lambda_l2': 4.897287644755721, 'bagging_fraction': 0.9979814468041663, 'bagging_freq': 5}}\n"
          ]
        }
      ],
      "source": [
        "cmaessearch = {'score': study_cmaes.best_value, 'params': study_cmaes.best_params}\n",
        "print(cmaessearch)"
      ]
    },
    {
      "cell_type": "markdown",
      "metadata": {},
      "source": [
        "### **Tree-Parzen Estimator**"
      ]
    },
    {
      "cell_type": "code",
      "execution_count": 21,
      "metadata": {},
      "outputs": [
        {
          "name": "stdout",
          "output_type": "stream",
          "text": [
            "Wall time: 3min 8s\n"
          ]
        }
      ],
      "source": [
        "%%time\n",
        "%%capture\n",
        "\n",
        "study_tpe = optuna.create_study(\n",
        "    direction = 'minimize',\n",
        "    sampler = optuna.samplers.TPESampler(),\n",
        "    pruner = optuna.pruners.NopPruner()\n",
        "    )\n",
        "\n",
        "study_tpe.optimize(objective, n_trials=N_TRIALS)"
      ]
    },
    {
      "cell_type": "code",
      "execution_count": 22,
      "metadata": {},
      "outputs": [
        {
          "data": {
            "text/html": [
              "<div>\n",
              "<style scoped>\n",
              "    .dataframe tbody tr th:only-of-type {\n",
              "        vertical-align: middle;\n",
              "    }\n",
              "\n",
              "    .dataframe tbody tr th {\n",
              "        vertical-align: top;\n",
              "    }\n",
              "\n",
              "    .dataframe thead th {\n",
              "        text-align: right;\n",
              "    }\n",
              "</style>\n",
              "<table border=\"1\" class=\"dataframe\">\n",
              "  <thead>\n",
              "    <tr style=\"text-align: right;\">\n",
              "      <th></th>\n",
              "      <th>number</th>\n",
              "      <th>value</th>\n",
              "      <th>datetime_start</th>\n",
              "      <th>datetime_complete</th>\n",
              "      <th>duration</th>\n",
              "      <th>params_bagging_fraction</th>\n",
              "      <th>params_bagging_freq</th>\n",
              "      <th>params_feature_fraction</th>\n",
              "      <th>params_lambda_l1</th>\n",
              "      <th>params_lambda_l2</th>\n",
              "      <th>params_learning_rate</th>\n",
              "      <th>params_max_depth</th>\n",
              "      <th>params_num_leaves</th>\n",
              "      <th>params_subsample</th>\n",
              "      <th>state</th>\n",
              "    </tr>\n",
              "  </thead>\n",
              "  <tbody>\n",
              "    <tr>\n",
              "      <th>0</th>\n",
              "      <td>0</td>\n",
              "      <td>0.475124</td>\n",
              "      <td>2021-11-15 11:21:15.591427</td>\n",
              "      <td>2021-11-15 11:21:16.155427</td>\n",
              "      <td>0 days 00:00:00.564000</td>\n",
              "      <td>0.167386</td>\n",
              "      <td>10</td>\n",
              "      <td>0.999179</td>\n",
              "      <td>8.871975</td>\n",
              "      <td>8.205199</td>\n",
              "      <td>0.025006</td>\n",
              "      <td>50</td>\n",
              "      <td>156</td>\n",
              "      <td>0.6</td>\n",
              "      <td>COMPLETE</td>\n",
              "    </tr>\n",
              "    <tr>\n",
              "      <th>1</th>\n",
              "      <td>1</td>\n",
              "      <td>0.433308</td>\n",
              "      <td>2021-11-15 11:21:16.155427</td>\n",
              "      <td>2021-11-15 11:21:16.500427</td>\n",
              "      <td>0 days 00:00:00.345000</td>\n",
              "      <td>0.331532</td>\n",
              "      <td>3</td>\n",
              "      <td>0.450407</td>\n",
              "      <td>9.518721</td>\n",
              "      <td>7.857436</td>\n",
              "      <td>0.164378</td>\n",
              "      <td>49</td>\n",
              "      <td>138</td>\n",
              "      <td>0.3</td>\n",
              "      <td>COMPLETE</td>\n",
              "    </tr>\n",
              "    <tr>\n",
              "      <th>2</th>\n",
              "      <td>2</td>\n",
              "      <td>0.410129</td>\n",
              "      <td>2021-11-15 11:21:16.500427</td>\n",
              "      <td>2021-11-15 11:21:16.818426</td>\n",
              "      <td>0 days 00:00:00.317999</td>\n",
              "      <td>0.671794</td>\n",
              "      <td>2</td>\n",
              "      <td>0.593638</td>\n",
              "      <td>3.182459</td>\n",
              "      <td>3.447314</td>\n",
              "      <td>0.126302</td>\n",
              "      <td>23</td>\n",
              "      <td>24</td>\n",
              "      <td>0.4</td>\n",
              "      <td>COMPLETE</td>\n",
              "    </tr>\n",
              "    <tr>\n",
              "      <th>3</th>\n",
              "      <td>3</td>\n",
              "      <td>0.451763</td>\n",
              "      <td>2021-11-15 11:21:16.818426</td>\n",
              "      <td>2021-11-15 11:21:17.103426</td>\n",
              "      <td>0 days 00:00:00.285000</td>\n",
              "      <td>0.332746</td>\n",
              "      <td>5</td>\n",
              "      <td>0.387977</td>\n",
              "      <td>3.659871</td>\n",
              "      <td>1.284126</td>\n",
              "      <td>0.378190</td>\n",
              "      <td>14</td>\n",
              "      <td>83</td>\n",
              "      <td>0.7</td>\n",
              "      <td>COMPLETE</td>\n",
              "    </tr>\n",
              "    <tr>\n",
              "      <th>4</th>\n",
              "      <td>4</td>\n",
              "      <td>0.438557</td>\n",
              "      <td>2021-11-15 11:21:17.103426</td>\n",
              "      <td>2021-11-15 11:21:17.298427</td>\n",
              "      <td>0 days 00:00:00.195001</td>\n",
              "      <td>0.158747</td>\n",
              "      <td>5</td>\n",
              "      <td>0.967691</td>\n",
              "      <td>3.336275</td>\n",
              "      <td>4.939650</td>\n",
              "      <td>0.219618</td>\n",
              "      <td>47</td>\n",
              "      <td>90</td>\n",
              "      <td>0.8</td>\n",
              "      <td>COMPLETE</td>\n",
              "    </tr>\n",
              "    <tr>\n",
              "      <th>5</th>\n",
              "      <td>5</td>\n",
              "      <td>0.407367</td>\n",
              "      <td>2021-11-15 11:21:17.298427</td>\n",
              "      <td>2021-11-15 11:21:18.074481</td>\n",
              "      <td>0 days 00:00:00.776054</td>\n",
              "      <td>0.954847</td>\n",
              "      <td>2</td>\n",
              "      <td>0.864859</td>\n",
              "      <td>2.743525</td>\n",
              "      <td>0.880957</td>\n",
              "      <td>0.028116</td>\n",
              "      <td>13</td>\n",
              "      <td>100</td>\n",
              "      <td>0.4</td>\n",
              "      <td>COMPLETE</td>\n",
              "    </tr>\n",
              "    <tr>\n",
              "      <th>6</th>\n",
              "      <td>6</td>\n",
              "      <td>0.477377</td>\n",
              "      <td>2021-11-15 11:21:18.074481</td>\n",
              "      <td>2021-11-15 11:21:18.272481</td>\n",
              "      <td>0 days 00:00:00.198000</td>\n",
              "      <td>0.030609</td>\n",
              "      <td>4</td>\n",
              "      <td>0.623249</td>\n",
              "      <td>1.279973</td>\n",
              "      <td>5.787029</td>\n",
              "      <td>0.063174</td>\n",
              "      <td>18</td>\n",
              "      <td>160</td>\n",
              "      <td>0.2</td>\n",
              "      <td>COMPLETE</td>\n",
              "    </tr>\n",
              "    <tr>\n",
              "      <th>7</th>\n",
              "      <td>7</td>\n",
              "      <td>0.430592</td>\n",
              "      <td>2021-11-15 11:21:18.272481</td>\n",
              "      <td>2021-11-15 11:21:18.540482</td>\n",
              "      <td>0 days 00:00:00.268001</td>\n",
              "      <td>0.709864</td>\n",
              "      <td>4</td>\n",
              "      <td>0.815745</td>\n",
              "      <td>6.066902</td>\n",
              "      <td>4.569959</td>\n",
              "      <td>0.045408</td>\n",
              "      <td>18</td>\n",
              "      <td>19</td>\n",
              "      <td>0.3</td>\n",
              "      <td>COMPLETE</td>\n",
              "    </tr>\n",
              "    <tr>\n",
              "      <th>8</th>\n",
              "      <td>8</td>\n",
              "      <td>0.695674</td>\n",
              "      <td>2021-11-15 11:21:18.540482</td>\n",
              "      <td>2021-11-15 11:21:18.855481</td>\n",
              "      <td>0 days 00:00:00.314999</td>\n",
              "      <td>0.512656</td>\n",
              "      <td>7</td>\n",
              "      <td>0.280988</td>\n",
              "      <td>9.096926</td>\n",
              "      <td>1.222224</td>\n",
              "      <td>0.010544</td>\n",
              "      <td>8</td>\n",
              "      <td>135</td>\n",
              "      <td>0.2</td>\n",
              "      <td>COMPLETE</td>\n",
              "    </tr>\n",
              "    <tr>\n",
              "      <th>9</th>\n",
              "      <td>9</td>\n",
              "      <td>0.612157</td>\n",
              "      <td>2021-11-15 11:21:18.856479</td>\n",
              "      <td>2021-11-15 11:21:18.988480</td>\n",
              "      <td>0 days 00:00:00.132001</td>\n",
              "      <td>0.521829</td>\n",
              "      <td>4</td>\n",
              "      <td>0.103533</td>\n",
              "      <td>6.302044</td>\n",
              "      <td>8.146512</td>\n",
              "      <td>0.045768</td>\n",
              "      <td>3</td>\n",
              "      <td>165</td>\n",
              "      <td>0.9</td>\n",
              "      <td>COMPLETE</td>\n",
              "    </tr>\n",
              "  </tbody>\n",
              "</table>\n",
              "</div>"
            ],
            "text/plain": [
              "   number     value             datetime_start          datetime_complete  \\\n",
              "0       0  0.475124 2021-11-15 11:21:15.591427 2021-11-15 11:21:16.155427   \n",
              "1       1  0.433308 2021-11-15 11:21:16.155427 2021-11-15 11:21:16.500427   \n",
              "2       2  0.410129 2021-11-15 11:21:16.500427 2021-11-15 11:21:16.818426   \n",
              "3       3  0.451763 2021-11-15 11:21:16.818426 2021-11-15 11:21:17.103426   \n",
              "4       4  0.438557 2021-11-15 11:21:17.103426 2021-11-15 11:21:17.298427   \n",
              "5       5  0.407367 2021-11-15 11:21:17.298427 2021-11-15 11:21:18.074481   \n",
              "6       6  0.477377 2021-11-15 11:21:18.074481 2021-11-15 11:21:18.272481   \n",
              "7       7  0.430592 2021-11-15 11:21:18.272481 2021-11-15 11:21:18.540482   \n",
              "8       8  0.695674 2021-11-15 11:21:18.540482 2021-11-15 11:21:18.855481   \n",
              "9       9  0.612157 2021-11-15 11:21:18.856479 2021-11-15 11:21:18.988480   \n",
              "\n",
              "                duration  params_bagging_fraction  params_bagging_freq  \\\n",
              "0 0 days 00:00:00.564000                 0.167386                   10   \n",
              "1 0 days 00:00:00.345000                 0.331532                    3   \n",
              "2 0 days 00:00:00.317999                 0.671794                    2   \n",
              "3 0 days 00:00:00.285000                 0.332746                    5   \n",
              "4 0 days 00:00:00.195001                 0.158747                    5   \n",
              "5 0 days 00:00:00.776054                 0.954847                    2   \n",
              "6 0 days 00:00:00.198000                 0.030609                    4   \n",
              "7 0 days 00:00:00.268001                 0.709864                    4   \n",
              "8 0 days 00:00:00.314999                 0.512656                    7   \n",
              "9 0 days 00:00:00.132001                 0.521829                    4   \n",
              "\n",
              "   params_feature_fraction  params_lambda_l1  params_lambda_l2  \\\n",
              "0                 0.999179          8.871975          8.205199   \n",
              "1                 0.450407          9.518721          7.857436   \n",
              "2                 0.593638          3.182459          3.447314   \n",
              "3                 0.387977          3.659871          1.284126   \n",
              "4                 0.967691          3.336275          4.939650   \n",
              "5                 0.864859          2.743525          0.880957   \n",
              "6                 0.623249          1.279973          5.787029   \n",
              "7                 0.815745          6.066902          4.569959   \n",
              "8                 0.280988          9.096926          1.222224   \n",
              "9                 0.103533          6.302044          8.146512   \n",
              "\n",
              "   params_learning_rate  params_max_depth  params_num_leaves  \\\n",
              "0              0.025006                50                156   \n",
              "1              0.164378                49                138   \n",
              "2              0.126302                23                 24   \n",
              "3              0.378190                14                 83   \n",
              "4              0.219618                47                 90   \n",
              "5              0.028116                13                100   \n",
              "6              0.063174                18                160   \n",
              "7              0.045408                18                 19   \n",
              "8              0.010544                 8                135   \n",
              "9              0.045768                 3                165   \n",
              "\n",
              "   params_subsample     state  \n",
              "0               0.6  COMPLETE  \n",
              "1               0.3  COMPLETE  \n",
              "2               0.4  COMPLETE  \n",
              "3               0.7  COMPLETE  \n",
              "4               0.8  COMPLETE  \n",
              "5               0.4  COMPLETE  \n",
              "6               0.2  COMPLETE  \n",
              "7               0.3  COMPLETE  \n",
              "8               0.2  COMPLETE  \n",
              "9               0.9  COMPLETE  "
            ]
          },
          "execution_count": 22,
          "metadata": {},
          "output_type": "execute_result"
        }
      ],
      "source": [
        "df_tpe = study_tpe.trials_dataframe()\n",
        "df_tpe.head(10)"
      ]
    },
    {
      "cell_type": "code",
      "execution_count": 23,
      "metadata": {},
      "outputs": [
        {
          "name": "stdout",
          "output_type": "stream",
          "text": [
            "{'score': 0.39185314126538845, 'params': {'learning_rate': 0.07543816463347605, 'max_depth': 43, 'num_leaves': 195, 'feature_fraction': 0.7302663462282426, 'subsample': 0.6, 'lambda_l1': 0.01327971653741411, 'lambda_l2': 7.457453904209449, 'bagging_fraction': 0.8532583683762022, 'bagging_freq': 4}}\n"
          ]
        }
      ],
      "source": [
        "tpesearch = {'score': study_tpe.best_value, 'params': study_tpe.best_params}\n",
        "print(tpesearch)"
      ]
    },
    {
      "cell_type": "markdown",
      "metadata": {
        "id": "SGCET5ZNaTol"
      },
      "source": [
        "### **BOHB**\n",
        "\n",
        "Note that for BOHB, increasing the number of trials is highly beneficiary to the final result. This is, in general, true for every use-case in which Hyperband Pruning is applied.  \n",
        "As the hyperband pruning algorithms applies Successive Halving on multiple sets to balance resource distributions, a higher number of trials will work better. "
      ]
    },
    {
      "cell_type": "code",
      "execution_count": 24,
      "metadata": {
        "colab": {
          "base_uri": "https://localhost:8080/"
        },
        "id": "KLlozjVlbKfh",
        "outputId": "e7ec100d-62de-40e3-bdc6-ced310ae3afb"
      },
      "outputs": [
        {
          "name": "stdout",
          "output_type": "stream",
          "text": [
            "Wall time: 5min 40s\n"
          ]
        }
      ],
      "source": [
        "%%time\n",
        "%%capture\n",
        "\n",
        "study_bohb = optuna.create_study(\n",
        "    direction = 'minimize',\n",
        "    sampler = optuna.samplers.TPESampler(),\n",
        "    pruner = optuna.pruners.HyperbandPruner()\n",
        "    )\n",
        "\n",
        "study_bohb.optimize(objective, n_trials=N_TRIALS*2)"
      ]
    },
    {
      "cell_type": "code",
      "execution_count": 25,
      "metadata": {},
      "outputs": [
        {
          "data": {
            "text/html": [
              "<div>\n",
              "<style scoped>\n",
              "    .dataframe tbody tr th:only-of-type {\n",
              "        vertical-align: middle;\n",
              "    }\n",
              "\n",
              "    .dataframe tbody tr th {\n",
              "        vertical-align: top;\n",
              "    }\n",
              "\n",
              "    .dataframe thead th {\n",
              "        text-align: right;\n",
              "    }\n",
              "</style>\n",
              "<table border=\"1\" class=\"dataframe\">\n",
              "  <thead>\n",
              "    <tr style=\"text-align: right;\">\n",
              "      <th></th>\n",
              "      <th>number</th>\n",
              "      <th>value</th>\n",
              "      <th>datetime_start</th>\n",
              "      <th>datetime_complete</th>\n",
              "      <th>duration</th>\n",
              "      <th>params_bagging_fraction</th>\n",
              "      <th>params_bagging_freq</th>\n",
              "      <th>params_feature_fraction</th>\n",
              "      <th>params_lambda_l1</th>\n",
              "      <th>params_lambda_l2</th>\n",
              "      <th>params_learning_rate</th>\n",
              "      <th>params_max_depth</th>\n",
              "      <th>params_num_leaves</th>\n",
              "      <th>params_subsample</th>\n",
              "      <th>system_attrs_completed_rung_0</th>\n",
              "      <th>system_attrs_completed_rung_1</th>\n",
              "      <th>system_attrs_completed_rung_2</th>\n",
              "      <th>system_attrs_completed_rung_3</th>\n",
              "      <th>system_attrs_completed_rung_4</th>\n",
              "      <th>state</th>\n",
              "    </tr>\n",
              "  </thead>\n",
              "  <tbody>\n",
              "    <tr>\n",
              "      <th>0</th>\n",
              "      <td>0</td>\n",
              "      <td>0.471825</td>\n",
              "      <td>2021-11-15 11:24:23.949277</td>\n",
              "      <td>2021-11-15 11:24:24.224309</td>\n",
              "      <td>0 days 00:00:00.275032</td>\n",
              "      <td>0.067367</td>\n",
              "      <td>9</td>\n",
              "      <td>0.436638</td>\n",
              "      <td>3.325675</td>\n",
              "      <td>9.425078</td>\n",
              "      <td>0.128138</td>\n",
              "      <td>22</td>\n",
              "      <td>188</td>\n",
              "      <td>0.7</td>\n",
              "      <td>NaN</td>\n",
              "      <td>NaN</td>\n",
              "      <td>NaN</td>\n",
              "      <td>NaN</td>\n",
              "      <td>NaN</td>\n",
              "      <td>COMPLETE</td>\n",
              "    </tr>\n",
              "    <tr>\n",
              "      <th>1</th>\n",
              "      <td>1</td>\n",
              "      <td>0.412585</td>\n",
              "      <td>2021-11-15 11:24:24.224309</td>\n",
              "      <td>2021-11-15 11:24:24.589309</td>\n",
              "      <td>0 days 00:00:00.365000</td>\n",
              "      <td>0.595335</td>\n",
              "      <td>10</td>\n",
              "      <td>0.565873</td>\n",
              "      <td>4.154902</td>\n",
              "      <td>7.855833</td>\n",
              "      <td>0.369971</td>\n",
              "      <td>12</td>\n",
              "      <td>50</td>\n",
              "      <td>0.5</td>\n",
              "      <td>0.412585</td>\n",
              "      <td>0.412585</td>\n",
              "      <td>0.412585</td>\n",
              "      <td>0.412585</td>\n",
              "      <td>0.412585</td>\n",
              "      <td>COMPLETE</td>\n",
              "    </tr>\n",
              "    <tr>\n",
              "      <th>2</th>\n",
              "      <td>2</td>\n",
              "      <td>0.440096</td>\n",
              "      <td>2021-11-15 11:24:24.590309</td>\n",
              "      <td>2021-11-15 11:24:24.738312</td>\n",
              "      <td>0 days 00:00:00.148003</td>\n",
              "      <td>0.612644</td>\n",
              "      <td>0</td>\n",
              "      <td>0.974753</td>\n",
              "      <td>3.833311</td>\n",
              "      <td>0.924854</td>\n",
              "      <td>0.102677</td>\n",
              "      <td>29</td>\n",
              "      <td>7</td>\n",
              "      <td>0.5</td>\n",
              "      <td>0.440096</td>\n",
              "      <td>NaN</td>\n",
              "      <td>NaN</td>\n",
              "      <td>NaN</td>\n",
              "      <td>NaN</td>\n",
              "      <td>PRUNED</td>\n",
              "    </tr>\n",
              "    <tr>\n",
              "      <th>3</th>\n",
              "      <td>3</td>\n",
              "      <td>0.591054</td>\n",
              "      <td>2021-11-15 11:24:24.739311</td>\n",
              "      <td>2021-11-15 11:24:25.276403</td>\n",
              "      <td>0 days 00:00:00.537092</td>\n",
              "      <td>0.937819</td>\n",
              "      <td>2</td>\n",
              "      <td>0.290746</td>\n",
              "      <td>9.941261</td>\n",
              "      <td>9.807908</td>\n",
              "      <td>0.021426</td>\n",
              "      <td>37</td>\n",
              "      <td>117</td>\n",
              "      <td>0.7</td>\n",
              "      <td>0.591054</td>\n",
              "      <td>NaN</td>\n",
              "      <td>NaN</td>\n",
              "      <td>NaN</td>\n",
              "      <td>NaN</td>\n",
              "      <td>PRUNED</td>\n",
              "    </tr>\n",
              "    <tr>\n",
              "      <th>4</th>\n",
              "      <td>4</td>\n",
              "      <td>0.408320</td>\n",
              "      <td>2021-11-15 11:24:25.276403</td>\n",
              "      <td>2021-11-15 11:24:25.772403</td>\n",
              "      <td>0 days 00:00:00.496000</td>\n",
              "      <td>0.537561</td>\n",
              "      <td>6</td>\n",
              "      <td>0.865107</td>\n",
              "      <td>1.756577</td>\n",
              "      <td>3.495271</td>\n",
              "      <td>0.049842</td>\n",
              "      <td>14</td>\n",
              "      <td>50</td>\n",
              "      <td>0.8</td>\n",
              "      <td>0.408320</td>\n",
              "      <td>0.408320</td>\n",
              "      <td>0.408320</td>\n",
              "      <td>0.408320</td>\n",
              "      <td>NaN</td>\n",
              "      <td>COMPLETE</td>\n",
              "    </tr>\n",
              "    <tr>\n",
              "      <th>5</th>\n",
              "      <td>5</td>\n",
              "      <td>0.573278</td>\n",
              "      <td>2021-11-15 11:24:25.772403</td>\n",
              "      <td>2021-11-15 11:24:25.858404</td>\n",
              "      <td>0 days 00:00:00.086001</td>\n",
              "      <td>0.029669</td>\n",
              "      <td>3</td>\n",
              "      <td>0.197976</td>\n",
              "      <td>1.988151</td>\n",
              "      <td>6.419528</td>\n",
              "      <td>0.367882</td>\n",
              "      <td>28</td>\n",
              "      <td>171</td>\n",
              "      <td>0.9</td>\n",
              "      <td>0.573278</td>\n",
              "      <td>NaN</td>\n",
              "      <td>NaN</td>\n",
              "      <td>NaN</td>\n",
              "      <td>NaN</td>\n",
              "      <td>PRUNED</td>\n",
              "    </tr>\n",
              "    <tr>\n",
              "      <th>6</th>\n",
              "      <td>6</td>\n",
              "      <td>0.524816</td>\n",
              "      <td>2021-11-15 11:24:25.858404</td>\n",
              "      <td>2021-11-15 11:24:26.182403</td>\n",
              "      <td>0 days 00:00:00.323999</td>\n",
              "      <td>0.098690</td>\n",
              "      <td>10</td>\n",
              "      <td>0.261691</td>\n",
              "      <td>0.180091</td>\n",
              "      <td>4.871828</td>\n",
              "      <td>0.248116</td>\n",
              "      <td>27</td>\n",
              "      <td>41</td>\n",
              "      <td>0.3</td>\n",
              "      <td>0.524816</td>\n",
              "      <td>NaN</td>\n",
              "      <td>NaN</td>\n",
              "      <td>NaN</td>\n",
              "      <td>NaN</td>\n",
              "      <td>PRUNED</td>\n",
              "    </tr>\n",
              "    <tr>\n",
              "      <th>7</th>\n",
              "      <td>7</td>\n",
              "      <td>0.475555</td>\n",
              "      <td>2021-11-15 11:24:26.182403</td>\n",
              "      <td>2021-11-15 11:24:26.529406</td>\n",
              "      <td>0 days 00:00:00.347003</td>\n",
              "      <td>0.056535</td>\n",
              "      <td>9</td>\n",
              "      <td>0.968617</td>\n",
              "      <td>2.607257</td>\n",
              "      <td>6.259180</td>\n",
              "      <td>0.038780</td>\n",
              "      <td>43</td>\n",
              "      <td>130</td>\n",
              "      <td>0.4</td>\n",
              "      <td>0.475555</td>\n",
              "      <td>NaN</td>\n",
              "      <td>NaN</td>\n",
              "      <td>NaN</td>\n",
              "      <td>NaN</td>\n",
              "      <td>PRUNED</td>\n",
              "    </tr>\n",
              "    <tr>\n",
              "      <th>8</th>\n",
              "      <td>8</td>\n",
              "      <td>0.762811</td>\n",
              "      <td>2021-11-15 11:24:26.529406</td>\n",
              "      <td>2021-11-15 11:24:26.604402</td>\n",
              "      <td>0 days 00:00:00.074996</td>\n",
              "      <td>0.003276</td>\n",
              "      <td>9</td>\n",
              "      <td>0.698808</td>\n",
              "      <td>8.876982</td>\n",
              "      <td>4.880611</td>\n",
              "      <td>0.192224</td>\n",
              "      <td>47</td>\n",
              "      <td>34</td>\n",
              "      <td>1.0</td>\n",
              "      <td>0.762811</td>\n",
              "      <td>NaN</td>\n",
              "      <td>NaN</td>\n",
              "      <td>NaN</td>\n",
              "      <td>NaN</td>\n",
              "      <td>PRUNED</td>\n",
              "    </tr>\n",
              "    <tr>\n",
              "      <th>9</th>\n",
              "      <td>9</td>\n",
              "      <td>0.505828</td>\n",
              "      <td>2021-11-15 11:24:26.604402</td>\n",
              "      <td>2021-11-15 11:24:27.018470</td>\n",
              "      <td>0 days 00:00:00.414068</td>\n",
              "      <td>0.194656</td>\n",
              "      <td>9</td>\n",
              "      <td>0.744505</td>\n",
              "      <td>9.820746</td>\n",
              "      <td>2.081551</td>\n",
              "      <td>0.014539</td>\n",
              "      <td>31</td>\n",
              "      <td>38</td>\n",
              "      <td>0.7</td>\n",
              "      <td>0.505828</td>\n",
              "      <td>0.505828</td>\n",
              "      <td>NaN</td>\n",
              "      <td>NaN</td>\n",
              "      <td>NaN</td>\n",
              "      <td>COMPLETE</td>\n",
              "    </tr>\n",
              "  </tbody>\n",
              "</table>\n",
              "</div>"
            ],
            "text/plain": [
              "   number     value             datetime_start          datetime_complete  \\\n",
              "0       0  0.471825 2021-11-15 11:24:23.949277 2021-11-15 11:24:24.224309   \n",
              "1       1  0.412585 2021-11-15 11:24:24.224309 2021-11-15 11:24:24.589309   \n",
              "2       2  0.440096 2021-11-15 11:24:24.590309 2021-11-15 11:24:24.738312   \n",
              "3       3  0.591054 2021-11-15 11:24:24.739311 2021-11-15 11:24:25.276403   \n",
              "4       4  0.408320 2021-11-15 11:24:25.276403 2021-11-15 11:24:25.772403   \n",
              "5       5  0.573278 2021-11-15 11:24:25.772403 2021-11-15 11:24:25.858404   \n",
              "6       6  0.524816 2021-11-15 11:24:25.858404 2021-11-15 11:24:26.182403   \n",
              "7       7  0.475555 2021-11-15 11:24:26.182403 2021-11-15 11:24:26.529406   \n",
              "8       8  0.762811 2021-11-15 11:24:26.529406 2021-11-15 11:24:26.604402   \n",
              "9       9  0.505828 2021-11-15 11:24:26.604402 2021-11-15 11:24:27.018470   \n",
              "\n",
              "                duration  params_bagging_fraction  params_bagging_freq  \\\n",
              "0 0 days 00:00:00.275032                 0.067367                    9   \n",
              "1 0 days 00:00:00.365000                 0.595335                   10   \n",
              "2 0 days 00:00:00.148003                 0.612644                    0   \n",
              "3 0 days 00:00:00.537092                 0.937819                    2   \n",
              "4 0 days 00:00:00.496000                 0.537561                    6   \n",
              "5 0 days 00:00:00.086001                 0.029669                    3   \n",
              "6 0 days 00:00:00.323999                 0.098690                   10   \n",
              "7 0 days 00:00:00.347003                 0.056535                    9   \n",
              "8 0 days 00:00:00.074996                 0.003276                    9   \n",
              "9 0 days 00:00:00.414068                 0.194656                    9   \n",
              "\n",
              "   params_feature_fraction  params_lambda_l1  params_lambda_l2  \\\n",
              "0                 0.436638          3.325675          9.425078   \n",
              "1                 0.565873          4.154902          7.855833   \n",
              "2                 0.974753          3.833311          0.924854   \n",
              "3                 0.290746          9.941261          9.807908   \n",
              "4                 0.865107          1.756577          3.495271   \n",
              "5                 0.197976          1.988151          6.419528   \n",
              "6                 0.261691          0.180091          4.871828   \n",
              "7                 0.968617          2.607257          6.259180   \n",
              "8                 0.698808          8.876982          4.880611   \n",
              "9                 0.744505          9.820746          2.081551   \n",
              "\n",
              "   params_learning_rate  params_max_depth  params_num_leaves  \\\n",
              "0              0.128138                22                188   \n",
              "1              0.369971                12                 50   \n",
              "2              0.102677                29                  7   \n",
              "3              0.021426                37                117   \n",
              "4              0.049842                14                 50   \n",
              "5              0.367882                28                171   \n",
              "6              0.248116                27                 41   \n",
              "7              0.038780                43                130   \n",
              "8              0.192224                47                 34   \n",
              "9              0.014539                31                 38   \n",
              "\n",
              "   params_subsample  system_attrs_completed_rung_0  \\\n",
              "0               0.7                            NaN   \n",
              "1               0.5                       0.412585   \n",
              "2               0.5                       0.440096   \n",
              "3               0.7                       0.591054   \n",
              "4               0.8                       0.408320   \n",
              "5               0.9                       0.573278   \n",
              "6               0.3                       0.524816   \n",
              "7               0.4                       0.475555   \n",
              "8               1.0                       0.762811   \n",
              "9               0.7                       0.505828   \n",
              "\n",
              "   system_attrs_completed_rung_1  system_attrs_completed_rung_2  \\\n",
              "0                            NaN                            NaN   \n",
              "1                       0.412585                       0.412585   \n",
              "2                            NaN                            NaN   \n",
              "3                            NaN                            NaN   \n",
              "4                       0.408320                       0.408320   \n",
              "5                            NaN                            NaN   \n",
              "6                            NaN                            NaN   \n",
              "7                            NaN                            NaN   \n",
              "8                            NaN                            NaN   \n",
              "9                       0.505828                            NaN   \n",
              "\n",
              "   system_attrs_completed_rung_3  system_attrs_completed_rung_4     state  \n",
              "0                            NaN                            NaN  COMPLETE  \n",
              "1                       0.412585                       0.412585  COMPLETE  \n",
              "2                            NaN                            NaN    PRUNED  \n",
              "3                            NaN                            NaN    PRUNED  \n",
              "4                       0.408320                            NaN  COMPLETE  \n",
              "5                            NaN                            NaN    PRUNED  \n",
              "6                            NaN                            NaN    PRUNED  \n",
              "7                            NaN                            NaN    PRUNED  \n",
              "8                            NaN                            NaN    PRUNED  \n",
              "9                            NaN                            NaN  COMPLETE  "
            ]
          },
          "execution_count": 25,
          "metadata": {},
          "output_type": "execute_result"
        }
      ],
      "source": [
        "df_bohb = study_bohb.trials_dataframe()\n",
        "df_bohb.head(10)"
      ]
    },
    {
      "cell_type": "code",
      "execution_count": 26,
      "metadata": {
        "colab": {
          "base_uri": "https://localhost:8080/"
        },
        "id": "bJb6vlBEbabZ",
        "outputId": "8dff7631-c190-48df-bb4f-1d10f2b8031d"
      },
      "outputs": [
        {
          "name": "stdout",
          "output_type": "stream",
          "text": [
            "{'score': 0.39100964692210743, 'params': {'learning_rate': 0.08333226439010233, 'max_depth': 18, 'num_leaves': 161, 'feature_fraction': 0.6274713770566759, 'subsample': 0.1, 'lambda_l1': 1.7278750629875486, 'lambda_l2': 9.264696921721434, 'bagging_fraction': 0.4677980650258291, 'bagging_freq': 0}}\n"
          ]
        }
      ],
      "source": [
        "bohbsearch = {'score': study_bohb.best_value, 'params': study_bohb.best_params}\n",
        "print(bohbsearch)"
      ]
    },
    {
      "cell_type": "markdown",
      "metadata": {},
      "source": [
        "### **Summary**\n",
        "The final overview of our results shows that TPE and BOHB perform far better than the other algorithms. \n",
        "In this example, the differences are not extreme, which is mostly due to the very stylized example. In many other cases, the gains of hyperparameter optimization are considerable."
      ]
    },
    {
      "cell_type": "code",
      "execution_count": 27,
      "metadata": {
        "colab": {
          "base_uri": "https://localhost:8080/",
          "height": 173
        },
        "id": "K8XEAc3JLzJs",
        "outputId": "53f04aa4-7877-4658-806e-4cd5d3ec3f59"
      },
      "outputs": [
        {
          "data": {
            "text/html": [
              "<div>\n",
              "<style scoped>\n",
              "    .dataframe tbody tr th:only-of-type {\n",
              "        vertical-align: middle;\n",
              "    }\n",
              "\n",
              "    .dataframe tbody tr th {\n",
              "        vertical-align: top;\n",
              "    }\n",
              "\n",
              "    .dataframe thead th {\n",
              "        text-align: right;\n",
              "    }\n",
              "</style>\n",
              "<table border=\"1\" class=\"dataframe\">\n",
              "  <thead>\n",
              "    <tr style=\"text-align: right;\">\n",
              "      <th></th>\n",
              "      <th>RMSE</th>\n",
              "    </tr>\n",
              "  </thead>\n",
              "  <tbody>\n",
              "    <tr>\n",
              "      <th>Grid</th>\n",
              "      <td>0.400960</td>\n",
              "    </tr>\n",
              "    <tr>\n",
              "      <th>Random</th>\n",
              "      <td>0.399504</td>\n",
              "    </tr>\n",
              "    <tr>\n",
              "      <th>CMAES</th>\n",
              "      <td>0.396236</td>\n",
              "    </tr>\n",
              "    <tr>\n",
              "      <th>TPE</th>\n",
              "      <td>0.391853</td>\n",
              "    </tr>\n",
              "    <tr>\n",
              "      <th>BOHB</th>\n",
              "      <td>0.391010</td>\n",
              "    </tr>\n",
              "  </tbody>\n",
              "</table>\n",
              "</div>"
            ],
            "text/plain": [
              "            RMSE\n",
              "Grid    0.400960\n",
              "Random  0.399504\n",
              "CMAES   0.396236\n",
              "TPE     0.391853\n",
              "BOHB    0.391010"
            ]
          },
          "execution_count": 27,
          "metadata": {},
          "output_type": "execute_result"
        }
      ],
      "source": [
        "pd.DataFrame([gridsearch['score'],randomsearch['score'],cmaessearch['score'],tpesearch['score'],bohbsearch['score']],index=['Grid','Random','CMAES','TPE','BOHB'],columns=['RMSE'])"
      ]
    },
    {
      "cell_type": "markdown",
      "metadata": {
        "id": "kbgu9CQ2r4UQ"
      },
      "source": [
        "### **Visualization**\n",
        "#### History"
      ]
    },
    {
      "cell_type": "code",
      "execution_count": 28,
      "metadata": {
        "colab": {
          "base_uri": "https://localhost:8080/",
          "height": 609
        },
        "id": "iPlWe3oZbmrp",
        "outputId": "9b7c0c8f-af01-4025-a379-0e005d7b637a"
      },
      "outputs": [
        {
          "data": {
            "text/html": [
              "<div>\n",
              "<style scoped>\n",
              "    .dataframe tbody tr th:only-of-type {\n",
              "        vertical-align: middle;\n",
              "    }\n",
              "\n",
              "    .dataframe tbody tr th {\n",
              "        vertical-align: top;\n",
              "    }\n",
              "\n",
              "    .dataframe thead th {\n",
              "        text-align: right;\n",
              "    }\n",
              "</style>\n",
              "<table border=\"1\" class=\"dataframe\">\n",
              "  <thead>\n",
              "    <tr style=\"text-align: right;\">\n",
              "      <th></th>\n",
              "      <th>number</th>\n",
              "      <th>value</th>\n",
              "      <th>datetime_start</th>\n",
              "      <th>datetime_complete</th>\n",
              "      <th>duration</th>\n",
              "      <th>params_bagging_fraction</th>\n",
              "      <th>params_bagging_freq</th>\n",
              "      <th>params_feature_fraction</th>\n",
              "      <th>params_lambda_l1</th>\n",
              "      <th>params_lambda_l2</th>\n",
              "      <th>params_learning_rate</th>\n",
              "      <th>params_max_depth</th>\n",
              "      <th>params_num_leaves</th>\n",
              "      <th>params_subsample</th>\n",
              "      <th>system_attrs_completed_rung_0</th>\n",
              "      <th>system_attrs_completed_rung_1</th>\n",
              "      <th>system_attrs_completed_rung_2</th>\n",
              "      <th>system_attrs_completed_rung_3</th>\n",
              "      <th>system_attrs_completed_rung_4</th>\n",
              "      <th>state</th>\n",
              "    </tr>\n",
              "  </thead>\n",
              "  <tbody>\n",
              "    <tr>\n",
              "      <th>0</th>\n",
              "      <td>0</td>\n",
              "      <td>0.471825</td>\n",
              "      <td>2021-11-15 11:24:23.949277</td>\n",
              "      <td>2021-11-15 11:24:24.224309</td>\n",
              "      <td>0 days 00:00:00.275032</td>\n",
              "      <td>0.067367</td>\n",
              "      <td>9</td>\n",
              "      <td>0.436638</td>\n",
              "      <td>3.325675</td>\n",
              "      <td>9.425078</td>\n",
              "      <td>0.128138</td>\n",
              "      <td>22</td>\n",
              "      <td>188</td>\n",
              "      <td>0.7</td>\n",
              "      <td>NaN</td>\n",
              "      <td>NaN</td>\n",
              "      <td>NaN</td>\n",
              "      <td>NaN</td>\n",
              "      <td>NaN</td>\n",
              "      <td>COMPLETE</td>\n",
              "    </tr>\n",
              "    <tr>\n",
              "      <th>1</th>\n",
              "      <td>1</td>\n",
              "      <td>0.412585</td>\n",
              "      <td>2021-11-15 11:24:24.224309</td>\n",
              "      <td>2021-11-15 11:24:24.589309</td>\n",
              "      <td>0 days 00:00:00.365000</td>\n",
              "      <td>0.595335</td>\n",
              "      <td>10</td>\n",
              "      <td>0.565873</td>\n",
              "      <td>4.154902</td>\n",
              "      <td>7.855833</td>\n",
              "      <td>0.369971</td>\n",
              "      <td>12</td>\n",
              "      <td>50</td>\n",
              "      <td>0.5</td>\n",
              "      <td>0.412585</td>\n",
              "      <td>0.412585</td>\n",
              "      <td>0.412585</td>\n",
              "      <td>0.412585</td>\n",
              "      <td>0.412585</td>\n",
              "      <td>COMPLETE</td>\n",
              "    </tr>\n",
              "    <tr>\n",
              "      <th>2</th>\n",
              "      <td>2</td>\n",
              "      <td>0.440096</td>\n",
              "      <td>2021-11-15 11:24:24.590309</td>\n",
              "      <td>2021-11-15 11:24:24.738312</td>\n",
              "      <td>0 days 00:00:00.148003</td>\n",
              "      <td>0.612644</td>\n",
              "      <td>0</td>\n",
              "      <td>0.974753</td>\n",
              "      <td>3.833311</td>\n",
              "      <td>0.924854</td>\n",
              "      <td>0.102677</td>\n",
              "      <td>29</td>\n",
              "      <td>7</td>\n",
              "      <td>0.5</td>\n",
              "      <td>0.440096</td>\n",
              "      <td>NaN</td>\n",
              "      <td>NaN</td>\n",
              "      <td>NaN</td>\n",
              "      <td>NaN</td>\n",
              "      <td>PRUNED</td>\n",
              "    </tr>\n",
              "    <tr>\n",
              "      <th>3</th>\n",
              "      <td>3</td>\n",
              "      <td>0.591054</td>\n",
              "      <td>2021-11-15 11:24:24.739311</td>\n",
              "      <td>2021-11-15 11:24:25.276403</td>\n",
              "      <td>0 days 00:00:00.537092</td>\n",
              "      <td>0.937819</td>\n",
              "      <td>2</td>\n",
              "      <td>0.290746</td>\n",
              "      <td>9.941261</td>\n",
              "      <td>9.807908</td>\n",
              "      <td>0.021426</td>\n",
              "      <td>37</td>\n",
              "      <td>117</td>\n",
              "      <td>0.7</td>\n",
              "      <td>0.591054</td>\n",
              "      <td>NaN</td>\n",
              "      <td>NaN</td>\n",
              "      <td>NaN</td>\n",
              "      <td>NaN</td>\n",
              "      <td>PRUNED</td>\n",
              "    </tr>\n",
              "    <tr>\n",
              "      <th>4</th>\n",
              "      <td>4</td>\n",
              "      <td>0.408320</td>\n",
              "      <td>2021-11-15 11:24:25.276403</td>\n",
              "      <td>2021-11-15 11:24:25.772403</td>\n",
              "      <td>0 days 00:00:00.496000</td>\n",
              "      <td>0.537561</td>\n",
              "      <td>6</td>\n",
              "      <td>0.865107</td>\n",
              "      <td>1.756577</td>\n",
              "      <td>3.495271</td>\n",
              "      <td>0.049842</td>\n",
              "      <td>14</td>\n",
              "      <td>50</td>\n",
              "      <td>0.8</td>\n",
              "      <td>0.408320</td>\n",
              "      <td>0.408320</td>\n",
              "      <td>0.408320</td>\n",
              "      <td>0.408320</td>\n",
              "      <td>NaN</td>\n",
              "      <td>COMPLETE</td>\n",
              "    </tr>\n",
              "    <tr>\n",
              "      <th>...</th>\n",
              "      <td>...</td>\n",
              "      <td>...</td>\n",
              "      <td>...</td>\n",
              "      <td>...</td>\n",
              "      <td>...</td>\n",
              "      <td>...</td>\n",
              "      <td>...</td>\n",
              "      <td>...</td>\n",
              "      <td>...</td>\n",
              "      <td>...</td>\n",
              "      <td>...</td>\n",
              "      <td>...</td>\n",
              "      <td>...</td>\n",
              "      <td>...</td>\n",
              "      <td>...</td>\n",
              "      <td>...</td>\n",
              "      <td>...</td>\n",
              "      <td>...</td>\n",
              "      <td>...</td>\n",
              "      <td>...</td>\n",
              "    </tr>\n",
              "    <tr>\n",
              "      <th>395</th>\n",
              "      <td>395</td>\n",
              "      <td>0.394311</td>\n",
              "      <td>2021-11-15 11:29:59.303154</td>\n",
              "      <td>2021-11-15 11:30:00.564670</td>\n",
              "      <td>0 days 00:00:01.261516</td>\n",
              "      <td>0.450633</td>\n",
              "      <td>0</td>\n",
              "      <td>0.636563</td>\n",
              "      <td>1.306077</td>\n",
              "      <td>8.550578</td>\n",
              "      <td>0.090336</td>\n",
              "      <td>16</td>\n",
              "      <td>160</td>\n",
              "      <td>0.1</td>\n",
              "      <td>0.394311</td>\n",
              "      <td>0.394311</td>\n",
              "      <td>NaN</td>\n",
              "      <td>NaN</td>\n",
              "      <td>NaN</td>\n",
              "      <td>PRUNED</td>\n",
              "    </tr>\n",
              "    <tr>\n",
              "      <th>396</th>\n",
              "      <td>396</td>\n",
              "      <td>0.393360</td>\n",
              "      <td>2021-11-15 11:30:00.564670</td>\n",
              "      <td>2021-11-15 11:30:01.505738</td>\n",
              "      <td>0 days 00:00:00.941068</td>\n",
              "      <td>0.482474</td>\n",
              "      <td>0</td>\n",
              "      <td>0.625695</td>\n",
              "      <td>1.525871</td>\n",
              "      <td>9.088922</td>\n",
              "      <td>0.093850</td>\n",
              "      <td>18</td>\n",
              "      <td>165</td>\n",
              "      <td>0.1</td>\n",
              "      <td>0.393360</td>\n",
              "      <td>0.393360</td>\n",
              "      <td>0.393360</td>\n",
              "      <td>0.393360</td>\n",
              "      <td>0.393360</td>\n",
              "      <td>PRUNED</td>\n",
              "    </tr>\n",
              "    <tr>\n",
              "      <th>397</th>\n",
              "      <td>397</td>\n",
              "      <td>0.415481</td>\n",
              "      <td>2021-11-15 11:30:01.506738</td>\n",
              "      <td>2021-11-15 11:30:02.296811</td>\n",
              "      <td>0 days 00:00:00.790073</td>\n",
              "      <td>0.833763</td>\n",
              "      <td>9</td>\n",
              "      <td>0.984536</td>\n",
              "      <td>2.005128</td>\n",
              "      <td>9.880492</td>\n",
              "      <td>0.030422</td>\n",
              "      <td>50</td>\n",
              "      <td>83</td>\n",
              "      <td>0.3</td>\n",
              "      <td>0.415481</td>\n",
              "      <td>NaN</td>\n",
              "      <td>NaN</td>\n",
              "      <td>NaN</td>\n",
              "      <td>NaN</td>\n",
              "      <td>PRUNED</td>\n",
              "    </tr>\n",
              "    <tr>\n",
              "      <th>398</th>\n",
              "      <td>398</td>\n",
              "      <td>0.392358</td>\n",
              "      <td>2021-11-15 11:30:02.296811</td>\n",
              "      <td>2021-11-15 11:30:03.361862</td>\n",
              "      <td>0 days 00:00:01.065051</td>\n",
              "      <td>0.496017</td>\n",
              "      <td>0</td>\n",
              "      <td>0.619132</td>\n",
              "      <td>1.780544</td>\n",
              "      <td>9.286197</td>\n",
              "      <td>0.085907</td>\n",
              "      <td>18</td>\n",
              "      <td>161</td>\n",
              "      <td>0.1</td>\n",
              "      <td>0.392358</td>\n",
              "      <td>0.392358</td>\n",
              "      <td>0.392358</td>\n",
              "      <td>0.392358</td>\n",
              "      <td>0.392358</td>\n",
              "      <td>COMPLETE</td>\n",
              "    </tr>\n",
              "    <tr>\n",
              "      <th>399</th>\n",
              "      <td>399</td>\n",
              "      <td>0.391010</td>\n",
              "      <td>2021-11-15 11:30:03.362862</td>\n",
              "      <td>2021-11-15 11:30:04.429483</td>\n",
              "      <td>0 days 00:00:01.066621</td>\n",
              "      <td>0.467798</td>\n",
              "      <td>0</td>\n",
              "      <td>0.627471</td>\n",
              "      <td>1.727875</td>\n",
              "      <td>9.264697</td>\n",
              "      <td>0.083332</td>\n",
              "      <td>18</td>\n",
              "      <td>161</td>\n",
              "      <td>0.1</td>\n",
              "      <td>0.391010</td>\n",
              "      <td>0.391010</td>\n",
              "      <td>0.391010</td>\n",
              "      <td>0.391010</td>\n",
              "      <td>0.391010</td>\n",
              "      <td>COMPLETE</td>\n",
              "    </tr>\n",
              "  </tbody>\n",
              "</table>\n",
              "<p>400 rows × 20 columns</p>\n",
              "</div>"
            ],
            "text/plain": [
              "     number     value             datetime_start          datetime_complete  \\\n",
              "0         0  0.471825 2021-11-15 11:24:23.949277 2021-11-15 11:24:24.224309   \n",
              "1         1  0.412585 2021-11-15 11:24:24.224309 2021-11-15 11:24:24.589309   \n",
              "2         2  0.440096 2021-11-15 11:24:24.590309 2021-11-15 11:24:24.738312   \n",
              "3         3  0.591054 2021-11-15 11:24:24.739311 2021-11-15 11:24:25.276403   \n",
              "4         4  0.408320 2021-11-15 11:24:25.276403 2021-11-15 11:24:25.772403   \n",
              "..      ...       ...                        ...                        ...   \n",
              "395     395  0.394311 2021-11-15 11:29:59.303154 2021-11-15 11:30:00.564670   \n",
              "396     396  0.393360 2021-11-15 11:30:00.564670 2021-11-15 11:30:01.505738   \n",
              "397     397  0.415481 2021-11-15 11:30:01.506738 2021-11-15 11:30:02.296811   \n",
              "398     398  0.392358 2021-11-15 11:30:02.296811 2021-11-15 11:30:03.361862   \n",
              "399     399  0.391010 2021-11-15 11:30:03.362862 2021-11-15 11:30:04.429483   \n",
              "\n",
              "                  duration  params_bagging_fraction  params_bagging_freq  \\\n",
              "0   0 days 00:00:00.275032                 0.067367                    9   \n",
              "1   0 days 00:00:00.365000                 0.595335                   10   \n",
              "2   0 days 00:00:00.148003                 0.612644                    0   \n",
              "3   0 days 00:00:00.537092                 0.937819                    2   \n",
              "4   0 days 00:00:00.496000                 0.537561                    6   \n",
              "..                     ...                      ...                  ...   \n",
              "395 0 days 00:00:01.261516                 0.450633                    0   \n",
              "396 0 days 00:00:00.941068                 0.482474                    0   \n",
              "397 0 days 00:00:00.790073                 0.833763                    9   \n",
              "398 0 days 00:00:01.065051                 0.496017                    0   \n",
              "399 0 days 00:00:01.066621                 0.467798                    0   \n",
              "\n",
              "     params_feature_fraction  params_lambda_l1  params_lambda_l2  \\\n",
              "0                   0.436638          3.325675          9.425078   \n",
              "1                   0.565873          4.154902          7.855833   \n",
              "2                   0.974753          3.833311          0.924854   \n",
              "3                   0.290746          9.941261          9.807908   \n",
              "4                   0.865107          1.756577          3.495271   \n",
              "..                       ...               ...               ...   \n",
              "395                 0.636563          1.306077          8.550578   \n",
              "396                 0.625695          1.525871          9.088922   \n",
              "397                 0.984536          2.005128          9.880492   \n",
              "398                 0.619132          1.780544          9.286197   \n",
              "399                 0.627471          1.727875          9.264697   \n",
              "\n",
              "     params_learning_rate  params_max_depth  params_num_leaves  \\\n",
              "0                0.128138                22                188   \n",
              "1                0.369971                12                 50   \n",
              "2                0.102677                29                  7   \n",
              "3                0.021426                37                117   \n",
              "4                0.049842                14                 50   \n",
              "..                    ...               ...                ...   \n",
              "395              0.090336                16                160   \n",
              "396              0.093850                18                165   \n",
              "397              0.030422                50                 83   \n",
              "398              0.085907                18                161   \n",
              "399              0.083332                18                161   \n",
              "\n",
              "     params_subsample  system_attrs_completed_rung_0  \\\n",
              "0                 0.7                            NaN   \n",
              "1                 0.5                       0.412585   \n",
              "2                 0.5                       0.440096   \n",
              "3                 0.7                       0.591054   \n",
              "4                 0.8                       0.408320   \n",
              "..                ...                            ...   \n",
              "395               0.1                       0.394311   \n",
              "396               0.1                       0.393360   \n",
              "397               0.3                       0.415481   \n",
              "398               0.1                       0.392358   \n",
              "399               0.1                       0.391010   \n",
              "\n",
              "     system_attrs_completed_rung_1  system_attrs_completed_rung_2  \\\n",
              "0                              NaN                            NaN   \n",
              "1                         0.412585                       0.412585   \n",
              "2                              NaN                            NaN   \n",
              "3                              NaN                            NaN   \n",
              "4                         0.408320                       0.408320   \n",
              "..                             ...                            ...   \n",
              "395                       0.394311                            NaN   \n",
              "396                       0.393360                       0.393360   \n",
              "397                            NaN                            NaN   \n",
              "398                       0.392358                       0.392358   \n",
              "399                       0.391010                       0.391010   \n",
              "\n",
              "     system_attrs_completed_rung_3  system_attrs_completed_rung_4     state  \n",
              "0                              NaN                            NaN  COMPLETE  \n",
              "1                         0.412585                       0.412585  COMPLETE  \n",
              "2                              NaN                            NaN    PRUNED  \n",
              "3                              NaN                            NaN    PRUNED  \n",
              "4                         0.408320                            NaN  COMPLETE  \n",
              "..                             ...                            ...       ...  \n",
              "395                            NaN                            NaN    PRUNED  \n",
              "396                       0.393360                       0.393360    PRUNED  \n",
              "397                            NaN                            NaN    PRUNED  \n",
              "398                       0.392358                       0.392358  COMPLETE  \n",
              "399                       0.391010                       0.391010  COMPLETE  \n",
              "\n",
              "[400 rows x 20 columns]"
            ]
          },
          "execution_count": 28,
          "metadata": {},
          "output_type": "execute_result"
        }
      ],
      "source": [
        "trials_df = study_bohb.trials_dataframe()\n",
        "trials_df"
      ]
    },
    {
      "cell_type": "markdown",
      "metadata": {},
      "source": [
        "We can see that the optimization history plot for the BOHB shows a decreasing pattern. \n",
        "In the earlier trials, the algorithm makes big leaps forward in its performance (after about 60 trials, the model has already surpassed random search).    \n",
        "After that, there is a long stretch where the model barely improves.\n",
        "\n",
        "We can also notice that the optimization results become increasingly less variable. This is due to the pruning strategy. There are far less big jumps in the model performance and the model results are close together."
      ]
    },
    {
      "cell_type": "code",
      "execution_count": 29,
      "metadata": {},
      "outputs": [
        {
          "data": {
            "application/vnd.plotly.v1+json": {
              "config": {
                "plotlyServerURL": "https://plot.ly"
              },
              "data": [
                {
                  "mode": "markers",
                  "name": "Objective Value",
                  "type": "scatter",
                  "x": [
                    0,
                    1,
                    4,
                    9,
                    13,
                    17,
                    23,
                    24,
                    25,
                    27,
                    28,
                    30,
                    35,
                    36,
                    38,
                    42,
                    44,
                    45,
                    54,
                    57,
                    58,
                    67,
                    68,
                    69,
                    71,
                    73,
                    76,
                    83,
                    84,
                    85,
                    86,
                    94,
                    96,
                    102,
                    105,
                    117,
                    119,
                    123,
                    125,
                    128,
                    132,
                    139,
                    145,
                    147,
                    163,
                    169,
                    170,
                    176,
                    181,
                    195,
                    210,
                    218,
                    224,
                    226,
                    242,
                    246,
                    248,
                    255,
                    257,
                    258,
                    262,
                    263,
                    265,
                    269,
                    274,
                    278,
                    285,
                    294,
                    295,
                    302,
                    303,
                    305,
                    307,
                    309,
                    310,
                    314,
                    315,
                    317,
                    319,
                    321,
                    322,
                    326,
                    328,
                    330,
                    333,
                    334,
                    338,
                    344,
                    347,
                    350,
                    351,
                    353,
                    354,
                    355,
                    360,
                    364,
                    365,
                    370,
                    371,
                    373,
                    374,
                    375,
                    377,
                    380,
                    384,
                    385,
                    388,
                    390,
                    391,
                    393,
                    394,
                    398,
                    399
                  ],
                  "y": [
                    0.47182454590445344,
                    0.4125850206946156,
                    0.4083204760130705,
                    0.5058282041012051,
                    0.46518999299607117,
                    0.408298385276862,
                    0.40280229177104465,
                    0.40196019903375113,
                    0.3999257727416247,
                    0.4185403690811756,
                    0.4015108665961956,
                    0.39756512174258274,
                    0.40816268542950396,
                    0.3997165667471344,
                    0.46337821142517516,
                    0.41102600025112634,
                    0.3943227432912572,
                    0.39593070446472706,
                    0.39707660903698055,
                    0.39715717618133045,
                    0.41128484374708885,
                    0.3944245042646143,
                    0.3964012853075667,
                    0.3954929769970621,
                    0.39508589038355996,
                    0.3946006069666297,
                    0.43645361303096475,
                    0.3950227219527202,
                    0.39466930783033066,
                    0.39478900256184496,
                    0.4067766330535261,
                    0.40386487208893,
                    0.40251973400399793,
                    0.3941825766657918,
                    0.39284941842127613,
                    0.4174591187041383,
                    0.4176633305799233,
                    0.3941303796664998,
                    0.3937298979353375,
                    0.40249625655891785,
                    0.39321342232384354,
                    0.40245105611097504,
                    0.39427081449593093,
                    0.39760053522577327,
                    0.39780600934901356,
                    0.39675678925966174,
                    0.3943122143606757,
                    0.39298504639813214,
                    0.4170313919121988,
                    0.3934788945883433,
                    0.39376932515489665,
                    0.3960756898431353,
                    0.4157470847562183,
                    0.3936146380718846,
                    0.3938994143313861,
                    0.40097133134437385,
                    0.39386035288866894,
                    0.39779637086606723,
                    0.39366744284007943,
                    0.3931265288516461,
                    0.39368578937012516,
                    0.40475595004089354,
                    0.39724721859799283,
                    0.3937904174167576,
                    0.393836574856595,
                    0.4037198993726648,
                    0.3937909629372945,
                    0.392959000230509,
                    0.3932280801975128,
                    0.39535287374704425,
                    0.39876933675004483,
                    0.3931930356872799,
                    0.39332160563436164,
                    0.3959524227823709,
                    0.39733255526202826,
                    0.39467746864533565,
                    0.39474331774124266,
                    0.39319504331581084,
                    0.3936189729453219,
                    0.39220380760591267,
                    0.3928218393215159,
                    0.39350113039029194,
                    0.3934727976855027,
                    0.3945471784846742,
                    0.40359675232024034,
                    0.3930626749114235,
                    0.39651021141889636,
                    0.39462657640045135,
                    0.3955540984094676,
                    0.3987576572193797,
                    0.39226344325866025,
                    0.3958805605412228,
                    0.39211828382605424,
                    0.40106770845289375,
                    0.3926766230986042,
                    0.39214380227432283,
                    0.393233253472567,
                    0.4059720904449307,
                    0.39244023923585736,
                    0.39645685675608033,
                    0.39342856777840945,
                    0.39218267536146034,
                    0.4106604519262262,
                    0.3950275943276543,
                    0.39346980510503216,
                    0.39297605217096376,
                    0.3929012267511546,
                    0.39236552911367417,
                    0.39315250009672825,
                    0.39194603158879054,
                    0.39326492559970805,
                    0.39235805486874337,
                    0.39100964692210743
                  ]
                },
                {
                  "name": "Best Value",
                  "type": "scatter",
                  "x": [
                    0,
                    1,
                    4,
                    9,
                    13,
                    17,
                    23,
                    24,
                    25,
                    27,
                    28,
                    30,
                    35,
                    36,
                    38,
                    42,
                    44,
                    45,
                    54,
                    57,
                    58,
                    67,
                    68,
                    69,
                    71,
                    73,
                    76,
                    83,
                    84,
                    85,
                    86,
                    94,
                    96,
                    102,
                    105,
                    117,
                    119,
                    123,
                    125,
                    128,
                    132,
                    139,
                    145,
                    147,
                    163,
                    169,
                    170,
                    176,
                    181,
                    195,
                    210,
                    218,
                    224,
                    226,
                    242,
                    246,
                    248,
                    255,
                    257,
                    258,
                    262,
                    263,
                    265,
                    269,
                    274,
                    278,
                    285,
                    294,
                    295,
                    302,
                    303,
                    305,
                    307,
                    309,
                    310,
                    314,
                    315,
                    317,
                    319,
                    321,
                    322,
                    326,
                    328,
                    330,
                    333,
                    334,
                    338,
                    344,
                    347,
                    350,
                    351,
                    353,
                    354,
                    355,
                    360,
                    364,
                    365,
                    370,
                    371,
                    373,
                    374,
                    375,
                    377,
                    380,
                    384,
                    385,
                    388,
                    390,
                    391,
                    393,
                    394,
                    398,
                    399
                  ],
                  "y": [
                    0.47182454590445344,
                    0.4125850206946156,
                    0.4083204760130705,
                    0.4083204760130705,
                    0.4083204760130705,
                    0.408298385276862,
                    0.40280229177104465,
                    0.40196019903375113,
                    0.3999257727416247,
                    0.3999257727416247,
                    0.3999257727416247,
                    0.39756512174258274,
                    0.39756512174258274,
                    0.39756512174258274,
                    0.39756512174258274,
                    0.39756512174258274,
                    0.3943227432912572,
                    0.3943227432912572,
                    0.3943227432912572,
                    0.3943227432912572,
                    0.3943227432912572,
                    0.3943227432912572,
                    0.3943227432912572,
                    0.3943227432912572,
                    0.3943227432912572,
                    0.3943227432912572,
                    0.3943227432912572,
                    0.3943227432912572,
                    0.3943227432912572,
                    0.3943227432912572,
                    0.3943227432912572,
                    0.3943227432912572,
                    0.3943227432912572,
                    0.3941825766657918,
                    0.39284941842127613,
                    0.39284941842127613,
                    0.39284941842127613,
                    0.39284941842127613,
                    0.39284941842127613,
                    0.39284941842127613,
                    0.39284941842127613,
                    0.39284941842127613,
                    0.39284941842127613,
                    0.39284941842127613,
                    0.39284941842127613,
                    0.39284941842127613,
                    0.39284941842127613,
                    0.39284941842127613,
                    0.39284941842127613,
                    0.39284941842127613,
                    0.39284941842127613,
                    0.39284941842127613,
                    0.39284941842127613,
                    0.39284941842127613,
                    0.39284941842127613,
                    0.39284941842127613,
                    0.39284941842127613,
                    0.39284941842127613,
                    0.39284941842127613,
                    0.39284941842127613,
                    0.39284941842127613,
                    0.39284941842127613,
                    0.39284941842127613,
                    0.39284941842127613,
                    0.39284941842127613,
                    0.39284941842127613,
                    0.39284941842127613,
                    0.39284941842127613,
                    0.39284941842127613,
                    0.39284941842127613,
                    0.39284941842127613,
                    0.39284941842127613,
                    0.39284941842127613,
                    0.39284941842127613,
                    0.39284941842127613,
                    0.39284941842127613,
                    0.39284941842127613,
                    0.39284941842127613,
                    0.39284941842127613,
                    0.39220380760591267,
                    0.39220380760591267,
                    0.39220380760591267,
                    0.39220380760591267,
                    0.39220380760591267,
                    0.39220380760591267,
                    0.39220380760591267,
                    0.39220380760591267,
                    0.39220380760591267,
                    0.39220380760591267,
                    0.39220380760591267,
                    0.39220380760591267,
                    0.39220380760591267,
                    0.39211828382605424,
                    0.39211828382605424,
                    0.39211828382605424,
                    0.39211828382605424,
                    0.39211828382605424,
                    0.39211828382605424,
                    0.39211828382605424,
                    0.39211828382605424,
                    0.39211828382605424,
                    0.39211828382605424,
                    0.39211828382605424,
                    0.39211828382605424,
                    0.39211828382605424,
                    0.39211828382605424,
                    0.39211828382605424,
                    0.39211828382605424,
                    0.39211828382605424,
                    0.39194603158879054,
                    0.39194603158879054,
                    0.39194603158879054,
                    0.39100964692210743
                  ]
                }
              ],
              "layout": {
                "template": {
                  "data": {
                    "bar": [
                      {
                        "error_x": {
                          "color": "#2a3f5f"
                        },
                        "error_y": {
                          "color": "#2a3f5f"
                        },
                        "marker": {
                          "line": {
                            "color": "#E5ECF6",
                            "width": 0.5
                          },
                          "pattern": {
                            "fillmode": "overlay",
                            "size": 10,
                            "solidity": 0.2
                          }
                        },
                        "type": "bar"
                      }
                    ],
                    "barpolar": [
                      {
                        "marker": {
                          "line": {
                            "color": "#E5ECF6",
                            "width": 0.5
                          },
                          "pattern": {
                            "fillmode": "overlay",
                            "size": 10,
                            "solidity": 0.2
                          }
                        },
                        "type": "barpolar"
                      }
                    ],
                    "carpet": [
                      {
                        "aaxis": {
                          "endlinecolor": "#2a3f5f",
                          "gridcolor": "white",
                          "linecolor": "white",
                          "minorgridcolor": "white",
                          "startlinecolor": "#2a3f5f"
                        },
                        "baxis": {
                          "endlinecolor": "#2a3f5f",
                          "gridcolor": "white",
                          "linecolor": "white",
                          "minorgridcolor": "white",
                          "startlinecolor": "#2a3f5f"
                        },
                        "type": "carpet"
                      }
                    ],
                    "choropleth": [
                      {
                        "colorbar": {
                          "outlinewidth": 0,
                          "ticks": ""
                        },
                        "type": "choropleth"
                      }
                    ],
                    "contour": [
                      {
                        "colorbar": {
                          "outlinewidth": 0,
                          "ticks": ""
                        },
                        "colorscale": [
                          [
                            0,
                            "#0d0887"
                          ],
                          [
                            0.1111111111111111,
                            "#46039f"
                          ],
                          [
                            0.2222222222222222,
                            "#7201a8"
                          ],
                          [
                            0.3333333333333333,
                            "#9c179e"
                          ],
                          [
                            0.4444444444444444,
                            "#bd3786"
                          ],
                          [
                            0.5555555555555556,
                            "#d8576b"
                          ],
                          [
                            0.6666666666666666,
                            "#ed7953"
                          ],
                          [
                            0.7777777777777778,
                            "#fb9f3a"
                          ],
                          [
                            0.8888888888888888,
                            "#fdca26"
                          ],
                          [
                            1,
                            "#f0f921"
                          ]
                        ],
                        "type": "contour"
                      }
                    ],
                    "contourcarpet": [
                      {
                        "colorbar": {
                          "outlinewidth": 0,
                          "ticks": ""
                        },
                        "type": "contourcarpet"
                      }
                    ],
                    "heatmap": [
                      {
                        "colorbar": {
                          "outlinewidth": 0,
                          "ticks": ""
                        },
                        "colorscale": [
                          [
                            0,
                            "#0d0887"
                          ],
                          [
                            0.1111111111111111,
                            "#46039f"
                          ],
                          [
                            0.2222222222222222,
                            "#7201a8"
                          ],
                          [
                            0.3333333333333333,
                            "#9c179e"
                          ],
                          [
                            0.4444444444444444,
                            "#bd3786"
                          ],
                          [
                            0.5555555555555556,
                            "#d8576b"
                          ],
                          [
                            0.6666666666666666,
                            "#ed7953"
                          ],
                          [
                            0.7777777777777778,
                            "#fb9f3a"
                          ],
                          [
                            0.8888888888888888,
                            "#fdca26"
                          ],
                          [
                            1,
                            "#f0f921"
                          ]
                        ],
                        "type": "heatmap"
                      }
                    ],
                    "heatmapgl": [
                      {
                        "colorbar": {
                          "outlinewidth": 0,
                          "ticks": ""
                        },
                        "colorscale": [
                          [
                            0,
                            "#0d0887"
                          ],
                          [
                            0.1111111111111111,
                            "#46039f"
                          ],
                          [
                            0.2222222222222222,
                            "#7201a8"
                          ],
                          [
                            0.3333333333333333,
                            "#9c179e"
                          ],
                          [
                            0.4444444444444444,
                            "#bd3786"
                          ],
                          [
                            0.5555555555555556,
                            "#d8576b"
                          ],
                          [
                            0.6666666666666666,
                            "#ed7953"
                          ],
                          [
                            0.7777777777777778,
                            "#fb9f3a"
                          ],
                          [
                            0.8888888888888888,
                            "#fdca26"
                          ],
                          [
                            1,
                            "#f0f921"
                          ]
                        ],
                        "type": "heatmapgl"
                      }
                    ],
                    "histogram": [
                      {
                        "marker": {
                          "pattern": {
                            "fillmode": "overlay",
                            "size": 10,
                            "solidity": 0.2
                          }
                        },
                        "type": "histogram"
                      }
                    ],
                    "histogram2d": [
                      {
                        "colorbar": {
                          "outlinewidth": 0,
                          "ticks": ""
                        },
                        "colorscale": [
                          [
                            0,
                            "#0d0887"
                          ],
                          [
                            0.1111111111111111,
                            "#46039f"
                          ],
                          [
                            0.2222222222222222,
                            "#7201a8"
                          ],
                          [
                            0.3333333333333333,
                            "#9c179e"
                          ],
                          [
                            0.4444444444444444,
                            "#bd3786"
                          ],
                          [
                            0.5555555555555556,
                            "#d8576b"
                          ],
                          [
                            0.6666666666666666,
                            "#ed7953"
                          ],
                          [
                            0.7777777777777778,
                            "#fb9f3a"
                          ],
                          [
                            0.8888888888888888,
                            "#fdca26"
                          ],
                          [
                            1,
                            "#f0f921"
                          ]
                        ],
                        "type": "histogram2d"
                      }
                    ],
                    "histogram2dcontour": [
                      {
                        "colorbar": {
                          "outlinewidth": 0,
                          "ticks": ""
                        },
                        "colorscale": [
                          [
                            0,
                            "#0d0887"
                          ],
                          [
                            0.1111111111111111,
                            "#46039f"
                          ],
                          [
                            0.2222222222222222,
                            "#7201a8"
                          ],
                          [
                            0.3333333333333333,
                            "#9c179e"
                          ],
                          [
                            0.4444444444444444,
                            "#bd3786"
                          ],
                          [
                            0.5555555555555556,
                            "#d8576b"
                          ],
                          [
                            0.6666666666666666,
                            "#ed7953"
                          ],
                          [
                            0.7777777777777778,
                            "#fb9f3a"
                          ],
                          [
                            0.8888888888888888,
                            "#fdca26"
                          ],
                          [
                            1,
                            "#f0f921"
                          ]
                        ],
                        "type": "histogram2dcontour"
                      }
                    ],
                    "mesh3d": [
                      {
                        "colorbar": {
                          "outlinewidth": 0,
                          "ticks": ""
                        },
                        "type": "mesh3d"
                      }
                    ],
                    "parcoords": [
                      {
                        "line": {
                          "colorbar": {
                            "outlinewidth": 0,
                            "ticks": ""
                          }
                        },
                        "type": "parcoords"
                      }
                    ],
                    "pie": [
                      {
                        "automargin": true,
                        "type": "pie"
                      }
                    ],
                    "scatter": [
                      {
                        "marker": {
                          "colorbar": {
                            "outlinewidth": 0,
                            "ticks": ""
                          }
                        },
                        "type": "scatter"
                      }
                    ],
                    "scatter3d": [
                      {
                        "line": {
                          "colorbar": {
                            "outlinewidth": 0,
                            "ticks": ""
                          }
                        },
                        "marker": {
                          "colorbar": {
                            "outlinewidth": 0,
                            "ticks": ""
                          }
                        },
                        "type": "scatter3d"
                      }
                    ],
                    "scattercarpet": [
                      {
                        "marker": {
                          "colorbar": {
                            "outlinewidth": 0,
                            "ticks": ""
                          }
                        },
                        "type": "scattercarpet"
                      }
                    ],
                    "scattergeo": [
                      {
                        "marker": {
                          "colorbar": {
                            "outlinewidth": 0,
                            "ticks": ""
                          }
                        },
                        "type": "scattergeo"
                      }
                    ],
                    "scattergl": [
                      {
                        "marker": {
                          "colorbar": {
                            "outlinewidth": 0,
                            "ticks": ""
                          }
                        },
                        "type": "scattergl"
                      }
                    ],
                    "scattermapbox": [
                      {
                        "marker": {
                          "colorbar": {
                            "outlinewidth": 0,
                            "ticks": ""
                          }
                        },
                        "type": "scattermapbox"
                      }
                    ],
                    "scatterpolar": [
                      {
                        "marker": {
                          "colorbar": {
                            "outlinewidth": 0,
                            "ticks": ""
                          }
                        },
                        "type": "scatterpolar"
                      }
                    ],
                    "scatterpolargl": [
                      {
                        "marker": {
                          "colorbar": {
                            "outlinewidth": 0,
                            "ticks": ""
                          }
                        },
                        "type": "scatterpolargl"
                      }
                    ],
                    "scatterternary": [
                      {
                        "marker": {
                          "colorbar": {
                            "outlinewidth": 0,
                            "ticks": ""
                          }
                        },
                        "type": "scatterternary"
                      }
                    ],
                    "surface": [
                      {
                        "colorbar": {
                          "outlinewidth": 0,
                          "ticks": ""
                        },
                        "colorscale": [
                          [
                            0,
                            "#0d0887"
                          ],
                          [
                            0.1111111111111111,
                            "#46039f"
                          ],
                          [
                            0.2222222222222222,
                            "#7201a8"
                          ],
                          [
                            0.3333333333333333,
                            "#9c179e"
                          ],
                          [
                            0.4444444444444444,
                            "#bd3786"
                          ],
                          [
                            0.5555555555555556,
                            "#d8576b"
                          ],
                          [
                            0.6666666666666666,
                            "#ed7953"
                          ],
                          [
                            0.7777777777777778,
                            "#fb9f3a"
                          ],
                          [
                            0.8888888888888888,
                            "#fdca26"
                          ],
                          [
                            1,
                            "#f0f921"
                          ]
                        ],
                        "type": "surface"
                      }
                    ],
                    "table": [
                      {
                        "cells": {
                          "fill": {
                            "color": "#EBF0F8"
                          },
                          "line": {
                            "color": "white"
                          }
                        },
                        "header": {
                          "fill": {
                            "color": "#C8D4E3"
                          },
                          "line": {
                            "color": "white"
                          }
                        },
                        "type": "table"
                      }
                    ]
                  },
                  "layout": {
                    "annotationdefaults": {
                      "arrowcolor": "#2a3f5f",
                      "arrowhead": 0,
                      "arrowwidth": 1
                    },
                    "autotypenumbers": "strict",
                    "coloraxis": {
                      "colorbar": {
                        "outlinewidth": 0,
                        "ticks": ""
                      }
                    },
                    "colorscale": {
                      "diverging": [
                        [
                          0,
                          "#8e0152"
                        ],
                        [
                          0.1,
                          "#c51b7d"
                        ],
                        [
                          0.2,
                          "#de77ae"
                        ],
                        [
                          0.3,
                          "#f1b6da"
                        ],
                        [
                          0.4,
                          "#fde0ef"
                        ],
                        [
                          0.5,
                          "#f7f7f7"
                        ],
                        [
                          0.6,
                          "#e6f5d0"
                        ],
                        [
                          0.7,
                          "#b8e186"
                        ],
                        [
                          0.8,
                          "#7fbc41"
                        ],
                        [
                          0.9,
                          "#4d9221"
                        ],
                        [
                          1,
                          "#276419"
                        ]
                      ],
                      "sequential": [
                        [
                          0,
                          "#0d0887"
                        ],
                        [
                          0.1111111111111111,
                          "#46039f"
                        ],
                        [
                          0.2222222222222222,
                          "#7201a8"
                        ],
                        [
                          0.3333333333333333,
                          "#9c179e"
                        ],
                        [
                          0.4444444444444444,
                          "#bd3786"
                        ],
                        [
                          0.5555555555555556,
                          "#d8576b"
                        ],
                        [
                          0.6666666666666666,
                          "#ed7953"
                        ],
                        [
                          0.7777777777777778,
                          "#fb9f3a"
                        ],
                        [
                          0.8888888888888888,
                          "#fdca26"
                        ],
                        [
                          1,
                          "#f0f921"
                        ]
                      ],
                      "sequentialminus": [
                        [
                          0,
                          "#0d0887"
                        ],
                        [
                          0.1111111111111111,
                          "#46039f"
                        ],
                        [
                          0.2222222222222222,
                          "#7201a8"
                        ],
                        [
                          0.3333333333333333,
                          "#9c179e"
                        ],
                        [
                          0.4444444444444444,
                          "#bd3786"
                        ],
                        [
                          0.5555555555555556,
                          "#d8576b"
                        ],
                        [
                          0.6666666666666666,
                          "#ed7953"
                        ],
                        [
                          0.7777777777777778,
                          "#fb9f3a"
                        ],
                        [
                          0.8888888888888888,
                          "#fdca26"
                        ],
                        [
                          1,
                          "#f0f921"
                        ]
                      ]
                    },
                    "colorway": [
                      "#636efa",
                      "#EF553B",
                      "#00cc96",
                      "#ab63fa",
                      "#FFA15A",
                      "#19d3f3",
                      "#FF6692",
                      "#B6E880",
                      "#FF97FF",
                      "#FECB52"
                    ],
                    "font": {
                      "color": "#2a3f5f"
                    },
                    "geo": {
                      "bgcolor": "white",
                      "lakecolor": "white",
                      "landcolor": "#E5ECF6",
                      "showlakes": true,
                      "showland": true,
                      "subunitcolor": "white"
                    },
                    "hoverlabel": {
                      "align": "left"
                    },
                    "hovermode": "closest",
                    "mapbox": {
                      "style": "light"
                    },
                    "paper_bgcolor": "white",
                    "plot_bgcolor": "#E5ECF6",
                    "polar": {
                      "angularaxis": {
                        "gridcolor": "white",
                        "linecolor": "white",
                        "ticks": ""
                      },
                      "bgcolor": "#E5ECF6",
                      "radialaxis": {
                        "gridcolor": "white",
                        "linecolor": "white",
                        "ticks": ""
                      }
                    },
                    "scene": {
                      "xaxis": {
                        "backgroundcolor": "#E5ECF6",
                        "gridcolor": "white",
                        "gridwidth": 2,
                        "linecolor": "white",
                        "showbackground": true,
                        "ticks": "",
                        "zerolinecolor": "white"
                      },
                      "yaxis": {
                        "backgroundcolor": "#E5ECF6",
                        "gridcolor": "white",
                        "gridwidth": 2,
                        "linecolor": "white",
                        "showbackground": true,
                        "ticks": "",
                        "zerolinecolor": "white"
                      },
                      "zaxis": {
                        "backgroundcolor": "#E5ECF6",
                        "gridcolor": "white",
                        "gridwidth": 2,
                        "linecolor": "white",
                        "showbackground": true,
                        "ticks": "",
                        "zerolinecolor": "white"
                      }
                    },
                    "shapedefaults": {
                      "line": {
                        "color": "#2a3f5f"
                      }
                    },
                    "ternary": {
                      "aaxis": {
                        "gridcolor": "white",
                        "linecolor": "white",
                        "ticks": ""
                      },
                      "baxis": {
                        "gridcolor": "white",
                        "linecolor": "white",
                        "ticks": ""
                      },
                      "bgcolor": "#E5ECF6",
                      "caxis": {
                        "gridcolor": "white",
                        "linecolor": "white",
                        "ticks": ""
                      }
                    },
                    "title": {
                      "x": 0.05
                    },
                    "xaxis": {
                      "automargin": true,
                      "gridcolor": "white",
                      "linecolor": "white",
                      "ticks": "",
                      "title": {
                        "standoff": 15
                      },
                      "zerolinecolor": "white",
                      "zerolinewidth": 2
                    },
                    "yaxis": {
                      "automargin": true,
                      "gridcolor": "white",
                      "linecolor": "white",
                      "ticks": "",
                      "title": {
                        "standoff": 15
                      },
                      "zerolinecolor": "white",
                      "zerolinewidth": 2
                    }
                  }
                },
                "title": {
                  "text": "Optimization History Plot"
                },
                "xaxis": {
                  "title": {
                    "text": "#Trials"
                  }
                },
                "yaxis": {
                  "title": {
                    "text": "Objective Value"
                  }
                }
              }
            }
          },
          "metadata": {},
          "output_type": "display_data"
        }
      ],
      "source": [
        "optuna.visualization.plot_optimization_history(study_bohb)"
      ]
    },
    {
      "cell_type": "markdown",
      "metadata": {},
      "source": [
        "#### Hyperparameter Importance Plot\n",
        "In this plot, we can see the importance of our hyperparameters. It seems that feature fraction and the bagging fraction are the most important hyperparameters for our model. \n",
        "The max depth and subsamples are, respectively, far less important to tune in our example. \n",
        "\n",
        "This plot might help us to more efficiently tune hyperparameters in the future (as some hyperparameters do not affect the model performance as much as others)."
      ]
    },
    {
      "cell_type": "code",
      "execution_count": 30,
      "metadata": {},
      "outputs": [
        {
          "data": {
            "application/vnd.plotly.v1+json": {
              "config": {
                "plotlyServerURL": "https://plot.ly"
              },
              "data": [
                {
                  "cliponaxis": false,
                  "hovertemplate": [
                    "max_depth (IntUniformDistribution): 0.003951625867118631<extra></extra>",
                    "subsample (DiscreteUniformDistribution): 0.00562293083596064<extra></extra>",
                    "lambda_l2 (UniformDistribution): 0.011959099371987638<extra></extra>",
                    "num_leaves (IntUniformDistribution): 0.028963695885117977<extra></extra>",
                    "learning_rate (LogUniformDistribution): 0.06857943825581078<extra></extra>",
                    "bagging_freq (IntUniformDistribution): 0.07062591926137936<extra></extra>",
                    "lambda_l1 (UniformDistribution): 0.07497835088576985<extra></extra>",
                    "feature_fraction (UniformDistribution): 0.2876935227983434<extra></extra>",
                    "bagging_fraction (UniformDistribution): 0.44762541683851176<extra></extra>"
                  ],
                  "marker": {
                    "color": "rgb(66,146,198)"
                  },
                  "orientation": "h",
                  "text": [
                    "0.003951625867118631",
                    "0.00562293083596064",
                    "0.011959099371987638",
                    "0.028963695885117977",
                    "0.06857943825581078",
                    "0.07062591926137936",
                    "0.07497835088576985",
                    "0.2876935227983434",
                    "0.44762541683851176"
                  ],
                  "textposition": "outside",
                  "texttemplate": "%{text:.2f}",
                  "type": "bar",
                  "x": [
                    0.003951625867118631,
                    0.00562293083596064,
                    0.011959099371987638,
                    0.028963695885117977,
                    0.06857943825581078,
                    0.07062591926137936,
                    0.07497835088576985,
                    0.2876935227983434,
                    0.44762541683851176
                  ],
                  "y": [
                    "max_depth",
                    "subsample",
                    "lambda_l2",
                    "num_leaves",
                    "learning_rate",
                    "bagging_freq",
                    "lambda_l1",
                    "feature_fraction",
                    "bagging_fraction"
                  ]
                }
              ],
              "layout": {
                "showlegend": false,
                "template": {
                  "data": {
                    "bar": [
                      {
                        "error_x": {
                          "color": "#2a3f5f"
                        },
                        "error_y": {
                          "color": "#2a3f5f"
                        },
                        "marker": {
                          "line": {
                            "color": "#E5ECF6",
                            "width": 0.5
                          },
                          "pattern": {
                            "fillmode": "overlay",
                            "size": 10,
                            "solidity": 0.2
                          }
                        },
                        "type": "bar"
                      }
                    ],
                    "barpolar": [
                      {
                        "marker": {
                          "line": {
                            "color": "#E5ECF6",
                            "width": 0.5
                          },
                          "pattern": {
                            "fillmode": "overlay",
                            "size": 10,
                            "solidity": 0.2
                          }
                        },
                        "type": "barpolar"
                      }
                    ],
                    "carpet": [
                      {
                        "aaxis": {
                          "endlinecolor": "#2a3f5f",
                          "gridcolor": "white",
                          "linecolor": "white",
                          "minorgridcolor": "white",
                          "startlinecolor": "#2a3f5f"
                        },
                        "baxis": {
                          "endlinecolor": "#2a3f5f",
                          "gridcolor": "white",
                          "linecolor": "white",
                          "minorgridcolor": "white",
                          "startlinecolor": "#2a3f5f"
                        },
                        "type": "carpet"
                      }
                    ],
                    "choropleth": [
                      {
                        "colorbar": {
                          "outlinewidth": 0,
                          "ticks": ""
                        },
                        "type": "choropleth"
                      }
                    ],
                    "contour": [
                      {
                        "colorbar": {
                          "outlinewidth": 0,
                          "ticks": ""
                        },
                        "colorscale": [
                          [
                            0,
                            "#0d0887"
                          ],
                          [
                            0.1111111111111111,
                            "#46039f"
                          ],
                          [
                            0.2222222222222222,
                            "#7201a8"
                          ],
                          [
                            0.3333333333333333,
                            "#9c179e"
                          ],
                          [
                            0.4444444444444444,
                            "#bd3786"
                          ],
                          [
                            0.5555555555555556,
                            "#d8576b"
                          ],
                          [
                            0.6666666666666666,
                            "#ed7953"
                          ],
                          [
                            0.7777777777777778,
                            "#fb9f3a"
                          ],
                          [
                            0.8888888888888888,
                            "#fdca26"
                          ],
                          [
                            1,
                            "#f0f921"
                          ]
                        ],
                        "type": "contour"
                      }
                    ],
                    "contourcarpet": [
                      {
                        "colorbar": {
                          "outlinewidth": 0,
                          "ticks": ""
                        },
                        "type": "contourcarpet"
                      }
                    ],
                    "heatmap": [
                      {
                        "colorbar": {
                          "outlinewidth": 0,
                          "ticks": ""
                        },
                        "colorscale": [
                          [
                            0,
                            "#0d0887"
                          ],
                          [
                            0.1111111111111111,
                            "#46039f"
                          ],
                          [
                            0.2222222222222222,
                            "#7201a8"
                          ],
                          [
                            0.3333333333333333,
                            "#9c179e"
                          ],
                          [
                            0.4444444444444444,
                            "#bd3786"
                          ],
                          [
                            0.5555555555555556,
                            "#d8576b"
                          ],
                          [
                            0.6666666666666666,
                            "#ed7953"
                          ],
                          [
                            0.7777777777777778,
                            "#fb9f3a"
                          ],
                          [
                            0.8888888888888888,
                            "#fdca26"
                          ],
                          [
                            1,
                            "#f0f921"
                          ]
                        ],
                        "type": "heatmap"
                      }
                    ],
                    "heatmapgl": [
                      {
                        "colorbar": {
                          "outlinewidth": 0,
                          "ticks": ""
                        },
                        "colorscale": [
                          [
                            0,
                            "#0d0887"
                          ],
                          [
                            0.1111111111111111,
                            "#46039f"
                          ],
                          [
                            0.2222222222222222,
                            "#7201a8"
                          ],
                          [
                            0.3333333333333333,
                            "#9c179e"
                          ],
                          [
                            0.4444444444444444,
                            "#bd3786"
                          ],
                          [
                            0.5555555555555556,
                            "#d8576b"
                          ],
                          [
                            0.6666666666666666,
                            "#ed7953"
                          ],
                          [
                            0.7777777777777778,
                            "#fb9f3a"
                          ],
                          [
                            0.8888888888888888,
                            "#fdca26"
                          ],
                          [
                            1,
                            "#f0f921"
                          ]
                        ],
                        "type": "heatmapgl"
                      }
                    ],
                    "histogram": [
                      {
                        "marker": {
                          "pattern": {
                            "fillmode": "overlay",
                            "size": 10,
                            "solidity": 0.2
                          }
                        },
                        "type": "histogram"
                      }
                    ],
                    "histogram2d": [
                      {
                        "colorbar": {
                          "outlinewidth": 0,
                          "ticks": ""
                        },
                        "colorscale": [
                          [
                            0,
                            "#0d0887"
                          ],
                          [
                            0.1111111111111111,
                            "#46039f"
                          ],
                          [
                            0.2222222222222222,
                            "#7201a8"
                          ],
                          [
                            0.3333333333333333,
                            "#9c179e"
                          ],
                          [
                            0.4444444444444444,
                            "#bd3786"
                          ],
                          [
                            0.5555555555555556,
                            "#d8576b"
                          ],
                          [
                            0.6666666666666666,
                            "#ed7953"
                          ],
                          [
                            0.7777777777777778,
                            "#fb9f3a"
                          ],
                          [
                            0.8888888888888888,
                            "#fdca26"
                          ],
                          [
                            1,
                            "#f0f921"
                          ]
                        ],
                        "type": "histogram2d"
                      }
                    ],
                    "histogram2dcontour": [
                      {
                        "colorbar": {
                          "outlinewidth": 0,
                          "ticks": ""
                        },
                        "colorscale": [
                          [
                            0,
                            "#0d0887"
                          ],
                          [
                            0.1111111111111111,
                            "#46039f"
                          ],
                          [
                            0.2222222222222222,
                            "#7201a8"
                          ],
                          [
                            0.3333333333333333,
                            "#9c179e"
                          ],
                          [
                            0.4444444444444444,
                            "#bd3786"
                          ],
                          [
                            0.5555555555555556,
                            "#d8576b"
                          ],
                          [
                            0.6666666666666666,
                            "#ed7953"
                          ],
                          [
                            0.7777777777777778,
                            "#fb9f3a"
                          ],
                          [
                            0.8888888888888888,
                            "#fdca26"
                          ],
                          [
                            1,
                            "#f0f921"
                          ]
                        ],
                        "type": "histogram2dcontour"
                      }
                    ],
                    "mesh3d": [
                      {
                        "colorbar": {
                          "outlinewidth": 0,
                          "ticks": ""
                        },
                        "type": "mesh3d"
                      }
                    ],
                    "parcoords": [
                      {
                        "line": {
                          "colorbar": {
                            "outlinewidth": 0,
                            "ticks": ""
                          }
                        },
                        "type": "parcoords"
                      }
                    ],
                    "pie": [
                      {
                        "automargin": true,
                        "type": "pie"
                      }
                    ],
                    "scatter": [
                      {
                        "marker": {
                          "colorbar": {
                            "outlinewidth": 0,
                            "ticks": ""
                          }
                        },
                        "type": "scatter"
                      }
                    ],
                    "scatter3d": [
                      {
                        "line": {
                          "colorbar": {
                            "outlinewidth": 0,
                            "ticks": ""
                          }
                        },
                        "marker": {
                          "colorbar": {
                            "outlinewidth": 0,
                            "ticks": ""
                          }
                        },
                        "type": "scatter3d"
                      }
                    ],
                    "scattercarpet": [
                      {
                        "marker": {
                          "colorbar": {
                            "outlinewidth": 0,
                            "ticks": ""
                          }
                        },
                        "type": "scattercarpet"
                      }
                    ],
                    "scattergeo": [
                      {
                        "marker": {
                          "colorbar": {
                            "outlinewidth": 0,
                            "ticks": ""
                          }
                        },
                        "type": "scattergeo"
                      }
                    ],
                    "scattergl": [
                      {
                        "marker": {
                          "colorbar": {
                            "outlinewidth": 0,
                            "ticks": ""
                          }
                        },
                        "type": "scattergl"
                      }
                    ],
                    "scattermapbox": [
                      {
                        "marker": {
                          "colorbar": {
                            "outlinewidth": 0,
                            "ticks": ""
                          }
                        },
                        "type": "scattermapbox"
                      }
                    ],
                    "scatterpolar": [
                      {
                        "marker": {
                          "colorbar": {
                            "outlinewidth": 0,
                            "ticks": ""
                          }
                        },
                        "type": "scatterpolar"
                      }
                    ],
                    "scatterpolargl": [
                      {
                        "marker": {
                          "colorbar": {
                            "outlinewidth": 0,
                            "ticks": ""
                          }
                        },
                        "type": "scatterpolargl"
                      }
                    ],
                    "scatterternary": [
                      {
                        "marker": {
                          "colorbar": {
                            "outlinewidth": 0,
                            "ticks": ""
                          }
                        },
                        "type": "scatterternary"
                      }
                    ],
                    "surface": [
                      {
                        "colorbar": {
                          "outlinewidth": 0,
                          "ticks": ""
                        },
                        "colorscale": [
                          [
                            0,
                            "#0d0887"
                          ],
                          [
                            0.1111111111111111,
                            "#46039f"
                          ],
                          [
                            0.2222222222222222,
                            "#7201a8"
                          ],
                          [
                            0.3333333333333333,
                            "#9c179e"
                          ],
                          [
                            0.4444444444444444,
                            "#bd3786"
                          ],
                          [
                            0.5555555555555556,
                            "#d8576b"
                          ],
                          [
                            0.6666666666666666,
                            "#ed7953"
                          ],
                          [
                            0.7777777777777778,
                            "#fb9f3a"
                          ],
                          [
                            0.8888888888888888,
                            "#fdca26"
                          ],
                          [
                            1,
                            "#f0f921"
                          ]
                        ],
                        "type": "surface"
                      }
                    ],
                    "table": [
                      {
                        "cells": {
                          "fill": {
                            "color": "#EBF0F8"
                          },
                          "line": {
                            "color": "white"
                          }
                        },
                        "header": {
                          "fill": {
                            "color": "#C8D4E3"
                          },
                          "line": {
                            "color": "white"
                          }
                        },
                        "type": "table"
                      }
                    ]
                  },
                  "layout": {
                    "annotationdefaults": {
                      "arrowcolor": "#2a3f5f",
                      "arrowhead": 0,
                      "arrowwidth": 1
                    },
                    "autotypenumbers": "strict",
                    "coloraxis": {
                      "colorbar": {
                        "outlinewidth": 0,
                        "ticks": ""
                      }
                    },
                    "colorscale": {
                      "diverging": [
                        [
                          0,
                          "#8e0152"
                        ],
                        [
                          0.1,
                          "#c51b7d"
                        ],
                        [
                          0.2,
                          "#de77ae"
                        ],
                        [
                          0.3,
                          "#f1b6da"
                        ],
                        [
                          0.4,
                          "#fde0ef"
                        ],
                        [
                          0.5,
                          "#f7f7f7"
                        ],
                        [
                          0.6,
                          "#e6f5d0"
                        ],
                        [
                          0.7,
                          "#b8e186"
                        ],
                        [
                          0.8,
                          "#7fbc41"
                        ],
                        [
                          0.9,
                          "#4d9221"
                        ],
                        [
                          1,
                          "#276419"
                        ]
                      ],
                      "sequential": [
                        [
                          0,
                          "#0d0887"
                        ],
                        [
                          0.1111111111111111,
                          "#46039f"
                        ],
                        [
                          0.2222222222222222,
                          "#7201a8"
                        ],
                        [
                          0.3333333333333333,
                          "#9c179e"
                        ],
                        [
                          0.4444444444444444,
                          "#bd3786"
                        ],
                        [
                          0.5555555555555556,
                          "#d8576b"
                        ],
                        [
                          0.6666666666666666,
                          "#ed7953"
                        ],
                        [
                          0.7777777777777778,
                          "#fb9f3a"
                        ],
                        [
                          0.8888888888888888,
                          "#fdca26"
                        ],
                        [
                          1,
                          "#f0f921"
                        ]
                      ],
                      "sequentialminus": [
                        [
                          0,
                          "#0d0887"
                        ],
                        [
                          0.1111111111111111,
                          "#46039f"
                        ],
                        [
                          0.2222222222222222,
                          "#7201a8"
                        ],
                        [
                          0.3333333333333333,
                          "#9c179e"
                        ],
                        [
                          0.4444444444444444,
                          "#bd3786"
                        ],
                        [
                          0.5555555555555556,
                          "#d8576b"
                        ],
                        [
                          0.6666666666666666,
                          "#ed7953"
                        ],
                        [
                          0.7777777777777778,
                          "#fb9f3a"
                        ],
                        [
                          0.8888888888888888,
                          "#fdca26"
                        ],
                        [
                          1,
                          "#f0f921"
                        ]
                      ]
                    },
                    "colorway": [
                      "#636efa",
                      "#EF553B",
                      "#00cc96",
                      "#ab63fa",
                      "#FFA15A",
                      "#19d3f3",
                      "#FF6692",
                      "#B6E880",
                      "#FF97FF",
                      "#FECB52"
                    ],
                    "font": {
                      "color": "#2a3f5f"
                    },
                    "geo": {
                      "bgcolor": "white",
                      "lakecolor": "white",
                      "landcolor": "#E5ECF6",
                      "showlakes": true,
                      "showland": true,
                      "subunitcolor": "white"
                    },
                    "hoverlabel": {
                      "align": "left"
                    },
                    "hovermode": "closest",
                    "mapbox": {
                      "style": "light"
                    },
                    "paper_bgcolor": "white",
                    "plot_bgcolor": "#E5ECF6",
                    "polar": {
                      "angularaxis": {
                        "gridcolor": "white",
                        "linecolor": "white",
                        "ticks": ""
                      },
                      "bgcolor": "#E5ECF6",
                      "radialaxis": {
                        "gridcolor": "white",
                        "linecolor": "white",
                        "ticks": ""
                      }
                    },
                    "scene": {
                      "xaxis": {
                        "backgroundcolor": "#E5ECF6",
                        "gridcolor": "white",
                        "gridwidth": 2,
                        "linecolor": "white",
                        "showbackground": true,
                        "ticks": "",
                        "zerolinecolor": "white"
                      },
                      "yaxis": {
                        "backgroundcolor": "#E5ECF6",
                        "gridcolor": "white",
                        "gridwidth": 2,
                        "linecolor": "white",
                        "showbackground": true,
                        "ticks": "",
                        "zerolinecolor": "white"
                      },
                      "zaxis": {
                        "backgroundcolor": "#E5ECF6",
                        "gridcolor": "white",
                        "gridwidth": 2,
                        "linecolor": "white",
                        "showbackground": true,
                        "ticks": "",
                        "zerolinecolor": "white"
                      }
                    },
                    "shapedefaults": {
                      "line": {
                        "color": "#2a3f5f"
                      }
                    },
                    "ternary": {
                      "aaxis": {
                        "gridcolor": "white",
                        "linecolor": "white",
                        "ticks": ""
                      },
                      "baxis": {
                        "gridcolor": "white",
                        "linecolor": "white",
                        "ticks": ""
                      },
                      "bgcolor": "#E5ECF6",
                      "caxis": {
                        "gridcolor": "white",
                        "linecolor": "white",
                        "ticks": ""
                      }
                    },
                    "title": {
                      "x": 0.05
                    },
                    "xaxis": {
                      "automargin": true,
                      "gridcolor": "white",
                      "linecolor": "white",
                      "ticks": "",
                      "title": {
                        "standoff": 15
                      },
                      "zerolinecolor": "white",
                      "zerolinewidth": 2
                    },
                    "yaxis": {
                      "automargin": true,
                      "gridcolor": "white",
                      "linecolor": "white",
                      "ticks": "",
                      "title": {
                        "standoff": 15
                      },
                      "zerolinecolor": "white",
                      "zerolinewidth": 2
                    }
                  }
                },
                "title": {
                  "text": "Hyperparameter Importances"
                },
                "xaxis": {
                  "title": {
                    "text": "Importance for Objective Value"
                  }
                },
                "yaxis": {
                  "title": {
                    "text": "Hyperparameter"
                  }
                }
              }
            }
          },
          "metadata": {},
          "output_type": "display_data"
        }
      ],
      "source": [
        "optuna.visualization.plot_param_importances(study_bohb)"
      ]
    },
    {
      "cell_type": "markdown",
      "metadata": {},
      "source": [
        "#### Exploration - Exploitation Plot\n",
        "In this plot, we can see which regions of each hyperparameter have been explored (on the horizontal axes). We also notice that for many important hyperparameters, the darker values (later trials) are clustered together. This means that our hyperparameter tuning exercise has reached quite good convergence on the most optimal hyperparameter value."
      ]
    },
    {
      "cell_type": "code",
      "execution_count": 31,
      "metadata": {
        "colab": {
          "base_uri": "https://localhost:8080/",
          "height": 562
        },
        "id": "ervzJ624sen1",
        "outputId": "6748540e-5c25-4b01-bc8b-da061bf46dc2"
      },
      "outputs": [
        {
          "data": {
            "application/vnd.plotly.v1+json": {
              "config": {
                "plotlyServerURL": "https://plot.ly"
              },
              "data": [
                {
                  "marker": {
                    "color": [
                      0,
                      1,
                      4,
                      9,
                      13,
                      17,
                      23,
                      24,
                      25,
                      27,
                      28,
                      30,
                      35,
                      36,
                      38,
                      42,
                      44,
                      45,
                      54,
                      57,
                      58,
                      67,
                      68,
                      69,
                      71,
                      73,
                      76,
                      83,
                      84,
                      85,
                      86,
                      94,
                      96,
                      102,
                      105,
                      117,
                      119,
                      123,
                      125,
                      128,
                      132,
                      139,
                      145,
                      147,
                      163,
                      169,
                      170,
                      176,
                      181,
                      195,
                      210,
                      218,
                      224,
                      226,
                      242,
                      246,
                      248,
                      255,
                      257,
                      258,
                      262,
                      263,
                      265,
                      269,
                      274,
                      278,
                      285,
                      294,
                      295,
                      302,
                      303,
                      305,
                      307,
                      309,
                      310,
                      314,
                      315,
                      317,
                      319,
                      321,
                      322,
                      326,
                      328,
                      330,
                      333,
                      334,
                      338,
                      344,
                      347,
                      350,
                      351,
                      353,
                      354,
                      355,
                      360,
                      364,
                      365,
                      370,
                      371,
                      373,
                      374,
                      375,
                      377,
                      380,
                      384,
                      385,
                      388,
                      390,
                      391,
                      393,
                      394,
                      398,
                      399
                    ],
                    "colorbar": {
                      "title": {
                        "text": "#Trials"
                      },
                      "x": 1,
                      "xpad": 40
                    },
                    "colorscale": [
                      [
                        0,
                        "rgb(247,251,255)"
                      ],
                      [
                        0.125,
                        "rgb(222,235,247)"
                      ],
                      [
                        0.25,
                        "rgb(198,219,239)"
                      ],
                      [
                        0.375,
                        "rgb(158,202,225)"
                      ],
                      [
                        0.5,
                        "rgb(107,174,214)"
                      ],
                      [
                        0.625,
                        "rgb(66,146,198)"
                      ],
                      [
                        0.75,
                        "rgb(33,113,181)"
                      ],
                      [
                        0.875,
                        "rgb(8,81,156)"
                      ],
                      [
                        1,
                        "rgb(8,48,107)"
                      ]
                    ],
                    "line": {
                      "color": "Grey",
                      "width": 0.5
                    },
                    "showscale": true
                  },
                  "mode": "markers",
                  "showlegend": false,
                  "type": "scatter",
                  "x": [
                    0.06736746669325155,
                    0.5953348453354319,
                    0.5375607238773513,
                    0.1946560514738267,
                    0.13410215301489115,
                    0.8151460120530327,
                    0.6628409887799267,
                    0.8914688092093838,
                    0.9102234247750498,
                    0.950897816319921,
                    0.9176227028868053,
                    0.9978947897444111,
                    0.23400723941377288,
                    0.8469983630668692,
                    0.08402907307861196,
                    0.8690803502319039,
                    0.70516682881162,
                    0.6885663590304428,
                    0.8339460309289268,
                    0.8349451911723724,
                    0.7346059714699192,
                    0.8160611780949852,
                    0.8354075950698343,
                    0.8210460501315223,
                    0.7003277393482287,
                    0.7135911855295605,
                    0.5356334483344497,
                    0.6890292024501781,
                    0.6264505422338504,
                    0.6204196542309302,
                    0.27771175349522503,
                    0.5647238383681642,
                    0.6071547859232412,
                    0.6658586194081824,
                    0.6067432593815042,
                    0.6651653896633988,
                    0.9181677106763511,
                    0.47330946562503373,
                    0.3558045421240365,
                    0.6633674707646006,
                    0.4798554059298554,
                    0.745961703546751,
                    0.7242138606923737,
                    0.6925461043722679,
                    0.6507217761241639,
                    0.6492369771673477,
                    0.6824521788514897,
                    0.7407659685514356,
                    0.6854505101251392,
                    0.6223479714312589,
                    0.6286075785123246,
                    0.7858005404694666,
                    0.6903288486336981,
                    0.5892220125317077,
                    0.5969700982719193,
                    0.7089425863609183,
                    0.7250244545989782,
                    0.8152975576113446,
                    0.7182566738700737,
                    0.6235851110005406,
                    0.5990358019675079,
                    0.9848851128235089,
                    0.29926650821350603,
                    0.6256550467471904,
                    0.6163221732344811,
                    0.9269032096422352,
                    0.5970569037622206,
                    0.6010056303351929,
                    0.846696480511081,
                    0.31717472814247294,
                    0.8264133110837383,
                    0.5800018585959538,
                    0.559240948024627,
                    0.7862041155460718,
                    0.28675512408943765,
                    0.28492970341038953,
                    0.28154251778136474,
                    0.5060088795327812,
                    0.5671926689784348,
                    0.5140052389038778,
                    0.5201444300772864,
                    0.542988169270632,
                    0.5235672742227596,
                    0.2711652988889458,
                    0.9642828912369394,
                    0.5497138251328568,
                    0.8976911826697012,
                    0.2671984562371063,
                    0.2607307768385048,
                    0.9863752550713842,
                    0.25151708272973416,
                    0.7899707163794455,
                    0.5715955808429207,
                    0.9745639114258717,
                    0.522466571307996,
                    0.5738035246792723,
                    0.5700653776347924,
                    0.7694076029101755,
                    0.4878142502425427,
                    0.9939089014245673,
                    0.5328224771638266,
                    0.49514639518102227,
                    0.5765770320217805,
                    0.9635706170362742,
                    0.25837683897578484,
                    0.5408117017974094,
                    0.49146076854914295,
                    0.11204855807979475,
                    0.48752437594510684,
                    0.48680861553185584,
                    0.45217346210937714,
                    0.4960170080033335,
                    0.4677980650258291
                  ],
                  "xaxis": "x",
                  "y": [
                    0.47182454590445344,
                    0.4125850206946156,
                    0.4083204760130705,
                    0.5058282041012051,
                    0.46518999299607117,
                    0.408298385276862,
                    0.40280229177104465,
                    0.40196019903375113,
                    0.3999257727416247,
                    0.4185403690811756,
                    0.4015108665961956,
                    0.39756512174258274,
                    0.40816268542950396,
                    0.3997165667471344,
                    0.46337821142517516,
                    0.41102600025112634,
                    0.3943227432912572,
                    0.39593070446472706,
                    0.39707660903698055,
                    0.39715717618133045,
                    0.41128484374708885,
                    0.3944245042646143,
                    0.3964012853075667,
                    0.3954929769970621,
                    0.39508589038355996,
                    0.3946006069666297,
                    0.43645361303096475,
                    0.3950227219527202,
                    0.39466930783033066,
                    0.39478900256184496,
                    0.4067766330535261,
                    0.40386487208893,
                    0.40251973400399793,
                    0.3941825766657918,
                    0.39284941842127613,
                    0.4174591187041383,
                    0.4176633305799233,
                    0.3941303796664998,
                    0.3937298979353375,
                    0.40249625655891785,
                    0.39321342232384354,
                    0.40245105611097504,
                    0.39427081449593093,
                    0.39760053522577327,
                    0.39780600934901356,
                    0.39675678925966174,
                    0.3943122143606757,
                    0.39298504639813214,
                    0.4170313919121988,
                    0.3934788945883433,
                    0.39376932515489665,
                    0.3960756898431353,
                    0.4157470847562183,
                    0.3936146380718846,
                    0.3938994143313861,
                    0.40097133134437385,
                    0.39386035288866894,
                    0.39779637086606723,
                    0.39366744284007943,
                    0.3931265288516461,
                    0.39368578937012516,
                    0.40475595004089354,
                    0.39724721859799283,
                    0.3937904174167576,
                    0.393836574856595,
                    0.4037198993726648,
                    0.3937909629372945,
                    0.392959000230509,
                    0.3932280801975128,
                    0.39535287374704425,
                    0.39876933675004483,
                    0.3931930356872799,
                    0.39332160563436164,
                    0.3959524227823709,
                    0.39733255526202826,
                    0.39467746864533565,
                    0.39474331774124266,
                    0.39319504331581084,
                    0.3936189729453219,
                    0.39220380760591267,
                    0.3928218393215159,
                    0.39350113039029194,
                    0.3934727976855027,
                    0.3945471784846742,
                    0.40359675232024034,
                    0.3930626749114235,
                    0.39651021141889636,
                    0.39462657640045135,
                    0.3955540984094676,
                    0.3987576572193797,
                    0.39226344325866025,
                    0.3958805605412228,
                    0.39211828382605424,
                    0.40106770845289375,
                    0.3926766230986042,
                    0.39214380227432283,
                    0.393233253472567,
                    0.4059720904449307,
                    0.39244023923585736,
                    0.39645685675608033,
                    0.39342856777840945,
                    0.39218267536146034,
                    0.4106604519262262,
                    0.3950275943276543,
                    0.39346980510503216,
                    0.39297605217096376,
                    0.3929012267511546,
                    0.39236552911367417,
                    0.39315250009672825,
                    0.39194603158879054,
                    0.39326492559970805,
                    0.39235805486874337,
                    0.39100964692210743
                  ],
                  "yaxis": "y"
                },
                {
                  "marker": {
                    "color": [
                      0,
                      1,
                      4,
                      9,
                      13,
                      17,
                      23,
                      24,
                      25,
                      27,
                      28,
                      30,
                      35,
                      36,
                      38,
                      42,
                      44,
                      45,
                      54,
                      57,
                      58,
                      67,
                      68,
                      69,
                      71,
                      73,
                      76,
                      83,
                      84,
                      85,
                      86,
                      94,
                      96,
                      102,
                      105,
                      117,
                      119,
                      123,
                      125,
                      128,
                      132,
                      139,
                      145,
                      147,
                      163,
                      169,
                      170,
                      176,
                      181,
                      195,
                      210,
                      218,
                      224,
                      226,
                      242,
                      246,
                      248,
                      255,
                      257,
                      258,
                      262,
                      263,
                      265,
                      269,
                      274,
                      278,
                      285,
                      294,
                      295,
                      302,
                      303,
                      305,
                      307,
                      309,
                      310,
                      314,
                      315,
                      317,
                      319,
                      321,
                      322,
                      326,
                      328,
                      330,
                      333,
                      334,
                      338,
                      344,
                      347,
                      350,
                      351,
                      353,
                      354,
                      355,
                      360,
                      364,
                      365,
                      370,
                      371,
                      373,
                      374,
                      375,
                      377,
                      380,
                      384,
                      385,
                      388,
                      390,
                      391,
                      393,
                      394,
                      398,
                      399
                    ],
                    "colorbar": {
                      "title": {
                        "text": "#Trials"
                      },
                      "x": 1,
                      "xpad": 40
                    },
                    "colorscale": [
                      [
                        0,
                        "rgb(247,251,255)"
                      ],
                      [
                        0.125,
                        "rgb(222,235,247)"
                      ],
                      [
                        0.25,
                        "rgb(198,219,239)"
                      ],
                      [
                        0.375,
                        "rgb(158,202,225)"
                      ],
                      [
                        0.5,
                        "rgb(107,174,214)"
                      ],
                      [
                        0.625,
                        "rgb(66,146,198)"
                      ],
                      [
                        0.75,
                        "rgb(33,113,181)"
                      ],
                      [
                        0.875,
                        "rgb(8,81,156)"
                      ],
                      [
                        1,
                        "rgb(8,48,107)"
                      ]
                    ],
                    "line": {
                      "color": "Grey",
                      "width": 0.5
                    },
                    "showscale": false
                  },
                  "mode": "markers",
                  "showlegend": false,
                  "type": "scatter",
                  "x": [
                    9,
                    10,
                    6,
                    9,
                    2,
                    8,
                    7,
                    7,
                    3,
                    0,
                    3,
                    3,
                    0,
                    1,
                    9,
                    1,
                    0,
                    0,
                    1,
                    1,
                    7,
                    0,
                    0,
                    0,
                    0,
                    0,
                    10,
                    0,
                    0,
                    0,
                    1,
                    5,
                    5,
                    0,
                    0,
                    1,
                    8,
                    0,
                    0,
                    9,
                    0,
                    4,
                    0,
                    0,
                    0,
                    0,
                    0,
                    0,
                    4,
                    0,
                    0,
                    8,
                    0,
                    0,
                    0,
                    0,
                    0,
                    9,
                    0,
                    0,
                    0,
                    0,
                    0,
                    0,
                    0,
                    2,
                    0,
                    0,
                    2,
                    0,
                    2,
                    0,
                    0,
                    8,
                    0,
                    0,
                    0,
                    0,
                    0,
                    0,
                    0,
                    0,
                    0,
                    0,
                    7,
                    0,
                    6,
                    0,
                    0,
                    8,
                    0,
                    1,
                    0,
                    7,
                    0,
                    0,
                    0,
                    7,
                    0,
                    3,
                    0,
                    0,
                    7,
                    3,
                    0,
                    0,
                    0,
                    0,
                    0,
                    0,
                    0,
                    0,
                    0
                  ],
                  "xaxis": "x2",
                  "y": [
                    0.47182454590445344,
                    0.4125850206946156,
                    0.4083204760130705,
                    0.5058282041012051,
                    0.46518999299607117,
                    0.408298385276862,
                    0.40280229177104465,
                    0.40196019903375113,
                    0.3999257727416247,
                    0.4185403690811756,
                    0.4015108665961956,
                    0.39756512174258274,
                    0.40816268542950396,
                    0.3997165667471344,
                    0.46337821142517516,
                    0.41102600025112634,
                    0.3943227432912572,
                    0.39593070446472706,
                    0.39707660903698055,
                    0.39715717618133045,
                    0.41128484374708885,
                    0.3944245042646143,
                    0.3964012853075667,
                    0.3954929769970621,
                    0.39508589038355996,
                    0.3946006069666297,
                    0.43645361303096475,
                    0.3950227219527202,
                    0.39466930783033066,
                    0.39478900256184496,
                    0.4067766330535261,
                    0.40386487208893,
                    0.40251973400399793,
                    0.3941825766657918,
                    0.39284941842127613,
                    0.4174591187041383,
                    0.4176633305799233,
                    0.3941303796664998,
                    0.3937298979353375,
                    0.40249625655891785,
                    0.39321342232384354,
                    0.40245105611097504,
                    0.39427081449593093,
                    0.39760053522577327,
                    0.39780600934901356,
                    0.39675678925966174,
                    0.3943122143606757,
                    0.39298504639813214,
                    0.4170313919121988,
                    0.3934788945883433,
                    0.39376932515489665,
                    0.3960756898431353,
                    0.4157470847562183,
                    0.3936146380718846,
                    0.3938994143313861,
                    0.40097133134437385,
                    0.39386035288866894,
                    0.39779637086606723,
                    0.39366744284007943,
                    0.3931265288516461,
                    0.39368578937012516,
                    0.40475595004089354,
                    0.39724721859799283,
                    0.3937904174167576,
                    0.393836574856595,
                    0.4037198993726648,
                    0.3937909629372945,
                    0.392959000230509,
                    0.3932280801975128,
                    0.39535287374704425,
                    0.39876933675004483,
                    0.3931930356872799,
                    0.39332160563436164,
                    0.3959524227823709,
                    0.39733255526202826,
                    0.39467746864533565,
                    0.39474331774124266,
                    0.39319504331581084,
                    0.3936189729453219,
                    0.39220380760591267,
                    0.3928218393215159,
                    0.39350113039029194,
                    0.3934727976855027,
                    0.3945471784846742,
                    0.40359675232024034,
                    0.3930626749114235,
                    0.39651021141889636,
                    0.39462657640045135,
                    0.3955540984094676,
                    0.3987576572193797,
                    0.39226344325866025,
                    0.3958805605412228,
                    0.39211828382605424,
                    0.40106770845289375,
                    0.3926766230986042,
                    0.39214380227432283,
                    0.393233253472567,
                    0.4059720904449307,
                    0.39244023923585736,
                    0.39645685675608033,
                    0.39342856777840945,
                    0.39218267536146034,
                    0.4106604519262262,
                    0.3950275943276543,
                    0.39346980510503216,
                    0.39297605217096376,
                    0.3929012267511546,
                    0.39236552911367417,
                    0.39315250009672825,
                    0.39194603158879054,
                    0.39326492559970805,
                    0.39235805486874337,
                    0.39100964692210743
                  ],
                  "yaxis": "y2"
                },
                {
                  "marker": {
                    "color": [
                      0,
                      1,
                      4,
                      9,
                      13,
                      17,
                      23,
                      24,
                      25,
                      27,
                      28,
                      30,
                      35,
                      36,
                      38,
                      42,
                      44,
                      45,
                      54,
                      57,
                      58,
                      67,
                      68,
                      69,
                      71,
                      73,
                      76,
                      83,
                      84,
                      85,
                      86,
                      94,
                      96,
                      102,
                      105,
                      117,
                      119,
                      123,
                      125,
                      128,
                      132,
                      139,
                      145,
                      147,
                      163,
                      169,
                      170,
                      176,
                      181,
                      195,
                      210,
                      218,
                      224,
                      226,
                      242,
                      246,
                      248,
                      255,
                      257,
                      258,
                      262,
                      263,
                      265,
                      269,
                      274,
                      278,
                      285,
                      294,
                      295,
                      302,
                      303,
                      305,
                      307,
                      309,
                      310,
                      314,
                      315,
                      317,
                      319,
                      321,
                      322,
                      326,
                      328,
                      330,
                      333,
                      334,
                      338,
                      344,
                      347,
                      350,
                      351,
                      353,
                      354,
                      355,
                      360,
                      364,
                      365,
                      370,
                      371,
                      373,
                      374,
                      375,
                      377,
                      380,
                      384,
                      385,
                      388,
                      390,
                      391,
                      393,
                      394,
                      398,
                      399
                    ],
                    "colorbar": {
                      "title": {
                        "text": "#Trials"
                      },
                      "x": 1,
                      "xpad": 40
                    },
                    "colorscale": [
                      [
                        0,
                        "rgb(247,251,255)"
                      ],
                      [
                        0.125,
                        "rgb(222,235,247)"
                      ],
                      [
                        0.25,
                        "rgb(198,219,239)"
                      ],
                      [
                        0.375,
                        "rgb(158,202,225)"
                      ],
                      [
                        0.5,
                        "rgb(107,174,214)"
                      ],
                      [
                        0.625,
                        "rgb(66,146,198)"
                      ],
                      [
                        0.75,
                        "rgb(33,113,181)"
                      ],
                      [
                        0.875,
                        "rgb(8,81,156)"
                      ],
                      [
                        1,
                        "rgb(8,48,107)"
                      ]
                    ],
                    "line": {
                      "color": "Grey",
                      "width": 0.5
                    },
                    "showscale": false
                  },
                  "mode": "markers",
                  "showlegend": false,
                  "type": "scatter",
                  "x": [
                    0.43663751871390155,
                    0.5658733148131218,
                    0.8651074452302434,
                    0.7445049538614674,
                    0.4626273195512892,
                    0.691036791108105,
                    0.7892464234959858,
                    0.82983479691692,
                    0.8414554130829983,
                    0.9346993135094779,
                    0.897178699472991,
                    0.8930974936870368,
                    0.724756599346498,
                    0.7347997113871726,
                    0.6920151220393455,
                    0.49214796460769017,
                    0.7423830008378178,
                    0.7484986525157964,
                    0.7465867329288225,
                    0.8586744514070223,
                    0.6913533692973244,
                    0.7403631578593338,
                    0.7562024416796088,
                    0.7356623081616244,
                    0.6244414989404267,
                    0.6013485038572651,
                    0.3470286072652672,
                    0.678934623118951,
                    0.6769178575086269,
                    0.6689826632794117,
                    0.5993221172906814,
                    0.740973966055671,
                    0.7471914215199931,
                    0.6506019387651358,
                    0.5785595258895769,
                    0.756007347486303,
                    0.324193193099957,
                    0.639412519949691,
                    0.6368234760203745,
                    0.7444914163217694,
                    0.6163868866720256,
                    0.8067833676098183,
                    0.5926312328258676,
                    0.7779254446678057,
                    0.791828104955442,
                    0.8235036259292581,
                    0.7703706451240586,
                    0.6644188022770434,
                    0.9922432623167968,
                    0.6154286935703133,
                    0.6858846803433195,
                    0.6766784151535351,
                    0.9283821163424931,
                    0.6830777086131073,
                    0.6778449882752948,
                    0.8727150556755139,
                    0.577237234974365,
                    0.6356858560802915,
                    0.5896571060054899,
                    0.593486110533242,
                    0.580023320896297,
                    0.629044162750725,
                    0.673327580171551,
                    0.6217929515825185,
                    0.6232261403411506,
                    0.6251431568808952,
                    0.6413145969596765,
                    0.6105467557776706,
                    0.5843543601889108,
                    0.6367807751665754,
                    0.8450388651586471,
                    0.5994815311117255,
                    0.5969222653964361,
                    0.6421559138746034,
                    0.626736888461071,
                    0.628433326450212,
                    0.6143180378123375,
                    0.5974728847482131,
                    0.5947799225880679,
                    0.5922744676509405,
                    0.5909625619840948,
                    0.5997809878025373,
                    0.5884935465434391,
                    0.5642062417108631,
                    0.8765452386682083,
                    0.5987576852963401,
                    0.6312678397811937,
                    0.6334995698944497,
                    0.569938012394912,
                    0.9561631146443165,
                    0.5630635408884882,
                    0.8483346516831034,
                    0.5861408000095595,
                    0.9568773603387386,
                    0.5964517531868996,
                    0.5875440781933112,
                    0.5894002358759526,
                    0.9970123962440444,
                    0.5832506019578275,
                    0.8441232013073661,
                    0.5919323067911171,
                    0.5994588845260913,
                    0.7083086681290474,
                    0.6616504829354268,
                    0.6483035989949784,
                    0.5985437827391374,
                    0.628668796619289,
                    0.5715615897995475,
                    0.6297518387557082,
                    0.618333754512497,
                    0.6258171392828362,
                    0.6191322742046423,
                    0.6274713770566759
                  ],
                  "xaxis": "x3",
                  "y": [
                    0.47182454590445344,
                    0.4125850206946156,
                    0.4083204760130705,
                    0.5058282041012051,
                    0.46518999299607117,
                    0.408298385276862,
                    0.40280229177104465,
                    0.40196019903375113,
                    0.3999257727416247,
                    0.4185403690811756,
                    0.4015108665961956,
                    0.39756512174258274,
                    0.40816268542950396,
                    0.3997165667471344,
                    0.46337821142517516,
                    0.41102600025112634,
                    0.3943227432912572,
                    0.39593070446472706,
                    0.39707660903698055,
                    0.39715717618133045,
                    0.41128484374708885,
                    0.3944245042646143,
                    0.3964012853075667,
                    0.3954929769970621,
                    0.39508589038355996,
                    0.3946006069666297,
                    0.43645361303096475,
                    0.3950227219527202,
                    0.39466930783033066,
                    0.39478900256184496,
                    0.4067766330535261,
                    0.40386487208893,
                    0.40251973400399793,
                    0.3941825766657918,
                    0.39284941842127613,
                    0.4174591187041383,
                    0.4176633305799233,
                    0.3941303796664998,
                    0.3937298979353375,
                    0.40249625655891785,
                    0.39321342232384354,
                    0.40245105611097504,
                    0.39427081449593093,
                    0.39760053522577327,
                    0.39780600934901356,
                    0.39675678925966174,
                    0.3943122143606757,
                    0.39298504639813214,
                    0.4170313919121988,
                    0.3934788945883433,
                    0.39376932515489665,
                    0.3960756898431353,
                    0.4157470847562183,
                    0.3936146380718846,
                    0.3938994143313861,
                    0.40097133134437385,
                    0.39386035288866894,
                    0.39779637086606723,
                    0.39366744284007943,
                    0.3931265288516461,
                    0.39368578937012516,
                    0.40475595004089354,
                    0.39724721859799283,
                    0.3937904174167576,
                    0.393836574856595,
                    0.4037198993726648,
                    0.3937909629372945,
                    0.392959000230509,
                    0.3932280801975128,
                    0.39535287374704425,
                    0.39876933675004483,
                    0.3931930356872799,
                    0.39332160563436164,
                    0.3959524227823709,
                    0.39733255526202826,
                    0.39467746864533565,
                    0.39474331774124266,
                    0.39319504331581084,
                    0.3936189729453219,
                    0.39220380760591267,
                    0.3928218393215159,
                    0.39350113039029194,
                    0.3934727976855027,
                    0.3945471784846742,
                    0.40359675232024034,
                    0.3930626749114235,
                    0.39651021141889636,
                    0.39462657640045135,
                    0.3955540984094676,
                    0.3987576572193797,
                    0.39226344325866025,
                    0.3958805605412228,
                    0.39211828382605424,
                    0.40106770845289375,
                    0.3926766230986042,
                    0.39214380227432283,
                    0.393233253472567,
                    0.4059720904449307,
                    0.39244023923585736,
                    0.39645685675608033,
                    0.39342856777840945,
                    0.39218267536146034,
                    0.4106604519262262,
                    0.3950275943276543,
                    0.39346980510503216,
                    0.39297605217096376,
                    0.3929012267511546,
                    0.39236552911367417,
                    0.39315250009672825,
                    0.39194603158879054,
                    0.39326492559970805,
                    0.39235805486874337,
                    0.39100964692210743
                  ],
                  "yaxis": "y3"
                },
                {
                  "marker": {
                    "color": [
                      0,
                      1,
                      4,
                      9,
                      13,
                      17,
                      23,
                      24,
                      25,
                      27,
                      28,
                      30,
                      35,
                      36,
                      38,
                      42,
                      44,
                      45,
                      54,
                      57,
                      58,
                      67,
                      68,
                      69,
                      71,
                      73,
                      76,
                      83,
                      84,
                      85,
                      86,
                      94,
                      96,
                      102,
                      105,
                      117,
                      119,
                      123,
                      125,
                      128,
                      132,
                      139,
                      145,
                      147,
                      163,
                      169,
                      170,
                      176,
                      181,
                      195,
                      210,
                      218,
                      224,
                      226,
                      242,
                      246,
                      248,
                      255,
                      257,
                      258,
                      262,
                      263,
                      265,
                      269,
                      274,
                      278,
                      285,
                      294,
                      295,
                      302,
                      303,
                      305,
                      307,
                      309,
                      310,
                      314,
                      315,
                      317,
                      319,
                      321,
                      322,
                      326,
                      328,
                      330,
                      333,
                      334,
                      338,
                      344,
                      347,
                      350,
                      351,
                      353,
                      354,
                      355,
                      360,
                      364,
                      365,
                      370,
                      371,
                      373,
                      374,
                      375,
                      377,
                      380,
                      384,
                      385,
                      388,
                      390,
                      391,
                      393,
                      394,
                      398,
                      399
                    ],
                    "colorbar": {
                      "title": {
                        "text": "#Trials"
                      },
                      "x": 1,
                      "xpad": 40
                    },
                    "colorscale": [
                      [
                        0,
                        "rgb(247,251,255)"
                      ],
                      [
                        0.125,
                        "rgb(222,235,247)"
                      ],
                      [
                        0.25,
                        "rgb(198,219,239)"
                      ],
                      [
                        0.375,
                        "rgb(158,202,225)"
                      ],
                      [
                        0.5,
                        "rgb(107,174,214)"
                      ],
                      [
                        0.625,
                        "rgb(66,146,198)"
                      ],
                      [
                        0.75,
                        "rgb(33,113,181)"
                      ],
                      [
                        0.875,
                        "rgb(8,81,156)"
                      ],
                      [
                        1,
                        "rgb(8,48,107)"
                      ]
                    ],
                    "line": {
                      "color": "Grey",
                      "width": 0.5
                    },
                    "showscale": false
                  },
                  "mode": "markers",
                  "showlegend": false,
                  "type": "scatter",
                  "x": [
                    3.325674692714639,
                    4.15490161612618,
                    1.7565772079721231,
                    9.820745575845315,
                    5.9857253453422885,
                    5.853420867241589,
                    3.5447876553771467,
                    0.20661620262668645,
                    0.13996635501069044,
                    2.4588629521900818,
                    0.4100087574564434,
                    0.17594149762623928,
                    1.092125060905833,
                    0.036323053434674096,
                    0.025180425561442954,
                    5.50618416364522,
                    1.3600471536391519,
                    1.6137984241012582,
                    0.8652598376495231,
                    4.260836111400499,
                    1.4774158322850794,
                    3.823678905549687,
                    3.6666512946780716,
                    2.378348609569319,
                    3.877726983678577,
                    2.3763892785799667,
                    3.6589841557613934,
                    2.011827912846216,
                    2.7770179825271244,
                    3.2845003186519808,
                    2.1596009878059363,
                    2.7032403300279264,
                    2.6552234193463766,
                    3.320300425165037,
                    2.6720135981157704,
                    8.842844617546664,
                    1.356865539357549,
                    0.5516386306716439,
                    1.1629203102308519,
                    0.018236128715875655,
                    0.7723179809742298,
                    2.467123352194654,
                    1.815598385568802,
                    5.7278855254997225,
                    3.20211034846529,
                    3.124447808124593,
                    1.32048207509968,
                    1.8847401293261985,
                    5.546395244713862,
                    2.6673895401237937,
                    2.0832401759945003,
                    1.2526005048624738,
                    3.770763221048461,
                    2.1554104987024183,
                    2.8143322932246204,
                    3.721999395639215,
                    1.9133608950987624,
                    3.162887864153314,
                    2.48733328614336,
                    1.9759834849001598,
                    2.4861822029261855,
                    3.141899079583116,
                    2.4612628842061395,
                    2.539467088094094,
                    2.880645527769003,
                    2.377927176591546,
                    2.782308322947154,
                    2.557063284650453,
                    1.6359590060638678,
                    0.5234456822976403,
                    1.5526006289877632,
                    2.4125657770023348,
                    2.33461804961952,
                    1.510975622460943,
                    0.5744666596125554,
                    0.6371133155969914,
                    0.5859873230180421,
                    2.6001864250961457,
                    2.836694888886232,
                    2.2093124058923386,
                    2.564660801322492,
                    2.446816011237262,
                    2.480084825856134,
                    0.7397947127743352,
                    0.6497143047704634,
                    2.5814409685307242,
                    1.4341931211551897,
                    0.6566579699683364,
                    0.4630882886406542,
                    1.5547667017390339,
                    0.5836939313231206,
                    1.6945085650094753,
                    1.9948751433700995,
                    0.03793794517758209,
                    1.7352423406169473,
                    1.7278272188774633,
                    1.7707982271213123,
                    0.30938106416714994,
                    1.5128837849760286,
                    1.3462444251350965,
                    1.5406875008624892,
                    1.536081076842625,
                    1.8713700736729673,
                    2.1159055189355627,
                    0.6565466137156237,
                    1.722250712081506,
                    1.867999899386016,
                    0.02584212386615148,
                    1.8125097643786074,
                    1.5172895078422206,
                    1.4446626129478397,
                    1.7805435723712846,
                    1.7278750629875486
                  ],
                  "xaxis": "x4",
                  "y": [
                    0.47182454590445344,
                    0.4125850206946156,
                    0.4083204760130705,
                    0.5058282041012051,
                    0.46518999299607117,
                    0.408298385276862,
                    0.40280229177104465,
                    0.40196019903375113,
                    0.3999257727416247,
                    0.4185403690811756,
                    0.4015108665961956,
                    0.39756512174258274,
                    0.40816268542950396,
                    0.3997165667471344,
                    0.46337821142517516,
                    0.41102600025112634,
                    0.3943227432912572,
                    0.39593070446472706,
                    0.39707660903698055,
                    0.39715717618133045,
                    0.41128484374708885,
                    0.3944245042646143,
                    0.3964012853075667,
                    0.3954929769970621,
                    0.39508589038355996,
                    0.3946006069666297,
                    0.43645361303096475,
                    0.3950227219527202,
                    0.39466930783033066,
                    0.39478900256184496,
                    0.4067766330535261,
                    0.40386487208893,
                    0.40251973400399793,
                    0.3941825766657918,
                    0.39284941842127613,
                    0.4174591187041383,
                    0.4176633305799233,
                    0.3941303796664998,
                    0.3937298979353375,
                    0.40249625655891785,
                    0.39321342232384354,
                    0.40245105611097504,
                    0.39427081449593093,
                    0.39760053522577327,
                    0.39780600934901356,
                    0.39675678925966174,
                    0.3943122143606757,
                    0.39298504639813214,
                    0.4170313919121988,
                    0.3934788945883433,
                    0.39376932515489665,
                    0.3960756898431353,
                    0.4157470847562183,
                    0.3936146380718846,
                    0.3938994143313861,
                    0.40097133134437385,
                    0.39386035288866894,
                    0.39779637086606723,
                    0.39366744284007943,
                    0.3931265288516461,
                    0.39368578937012516,
                    0.40475595004089354,
                    0.39724721859799283,
                    0.3937904174167576,
                    0.393836574856595,
                    0.4037198993726648,
                    0.3937909629372945,
                    0.392959000230509,
                    0.3932280801975128,
                    0.39535287374704425,
                    0.39876933675004483,
                    0.3931930356872799,
                    0.39332160563436164,
                    0.3959524227823709,
                    0.39733255526202826,
                    0.39467746864533565,
                    0.39474331774124266,
                    0.39319504331581084,
                    0.3936189729453219,
                    0.39220380760591267,
                    0.3928218393215159,
                    0.39350113039029194,
                    0.3934727976855027,
                    0.3945471784846742,
                    0.40359675232024034,
                    0.3930626749114235,
                    0.39651021141889636,
                    0.39462657640045135,
                    0.3955540984094676,
                    0.3987576572193797,
                    0.39226344325866025,
                    0.3958805605412228,
                    0.39211828382605424,
                    0.40106770845289375,
                    0.3926766230986042,
                    0.39214380227432283,
                    0.393233253472567,
                    0.4059720904449307,
                    0.39244023923585736,
                    0.39645685675608033,
                    0.39342856777840945,
                    0.39218267536146034,
                    0.4106604519262262,
                    0.3950275943276543,
                    0.39346980510503216,
                    0.39297605217096376,
                    0.3929012267511546,
                    0.39236552911367417,
                    0.39315250009672825,
                    0.39194603158879054,
                    0.39326492559970805,
                    0.39235805486874337,
                    0.39100964692210743
                  ],
                  "yaxis": "y4"
                },
                {
                  "marker": {
                    "color": [
                      0,
                      1,
                      4,
                      9,
                      13,
                      17,
                      23,
                      24,
                      25,
                      27,
                      28,
                      30,
                      35,
                      36,
                      38,
                      42,
                      44,
                      45,
                      54,
                      57,
                      58,
                      67,
                      68,
                      69,
                      71,
                      73,
                      76,
                      83,
                      84,
                      85,
                      86,
                      94,
                      96,
                      102,
                      105,
                      117,
                      119,
                      123,
                      125,
                      128,
                      132,
                      139,
                      145,
                      147,
                      163,
                      169,
                      170,
                      176,
                      181,
                      195,
                      210,
                      218,
                      224,
                      226,
                      242,
                      246,
                      248,
                      255,
                      257,
                      258,
                      262,
                      263,
                      265,
                      269,
                      274,
                      278,
                      285,
                      294,
                      295,
                      302,
                      303,
                      305,
                      307,
                      309,
                      310,
                      314,
                      315,
                      317,
                      319,
                      321,
                      322,
                      326,
                      328,
                      330,
                      333,
                      334,
                      338,
                      344,
                      347,
                      350,
                      351,
                      353,
                      354,
                      355,
                      360,
                      364,
                      365,
                      370,
                      371,
                      373,
                      374,
                      375,
                      377,
                      380,
                      384,
                      385,
                      388,
                      390,
                      391,
                      393,
                      394,
                      398,
                      399
                    ],
                    "colorbar": {
                      "title": {
                        "text": "#Trials"
                      },
                      "x": 1,
                      "xpad": 40
                    },
                    "colorscale": [
                      [
                        0,
                        "rgb(247,251,255)"
                      ],
                      [
                        0.125,
                        "rgb(222,235,247)"
                      ],
                      [
                        0.25,
                        "rgb(198,219,239)"
                      ],
                      [
                        0.375,
                        "rgb(158,202,225)"
                      ],
                      [
                        0.5,
                        "rgb(107,174,214)"
                      ],
                      [
                        0.625,
                        "rgb(66,146,198)"
                      ],
                      [
                        0.75,
                        "rgb(33,113,181)"
                      ],
                      [
                        0.875,
                        "rgb(8,81,156)"
                      ],
                      [
                        1,
                        "rgb(8,48,107)"
                      ]
                    ],
                    "line": {
                      "color": "Grey",
                      "width": 0.5
                    },
                    "showscale": false
                  },
                  "mode": "markers",
                  "showlegend": false,
                  "type": "scatter",
                  "x": [
                    9.425078083258105,
                    7.855833097643198,
                    3.49527057878423,
                    2.0815507001985702,
                    9.333549848879878,
                    7.886042153043641,
                    3.9875198007808836,
                    3.8264936774446943,
                    2.9772335271972428,
                    1.175972158619476,
                    2.517533590883899,
                    3.3888485780313538,
                    2.368633419340126,
                    3.4414797755796296,
                    0.21936189818736462,
                    3.5199181045762904,
                    3.222611088442965,
                    3.7168397635788333,
                    3.266522530917449,
                    4.369098499872072,
                    4.944700200403286,
                    0.04225362667660981,
                    0.47409975642803337,
                    0.04647962760441168,
                    0.5385754501196525,
                    0.03640681010362844,
                    5.81549867287599,
                    2.1540908730474966,
                    2.0867872647223065,
                    1.896885657528982,
                    0.14761991926099727,
                    3.487133408451908,
                    3.6703402119945814,
                    0.8907787089126139,
                    1.466926276809562,
                    0.15795248422869834,
                    6.766430960864835,
                    3.0991615565917088,
                    3.0830694407019315,
                    9.815697938434386,
                    9.311535212885783,
                    2.6823296925779503,
                    3.085129081207871,
                    1.1806698356689949,
                    2.904063639139902,
                    4.20111301691701,
                    4.175958971429672,
                    2.769654091068908,
                    3.640521588071767,
                    1.7483574111298148,
                    2.166225658212906,
                    4.473456011474559,
                    2.3001709166665476,
                    1.891583276853213,
                    2.1626374656237553,
                    4.292766367564747,
                    1.5870876272182892,
                    1.4228389381800288,
                    3.175012126363338,
                    3.177224322709729,
                    2.783474380027159,
                    5.579706100545099,
                    2.324389935310474,
                    2.4219329984683657,
                    3.29079134006105,
                    7.534912792351233,
                    2.908442769855381,
                    1.9421722663354068,
                    7.807197732861173,
                    9.93560635691765,
                    8.07073866768583,
                    1.20715917409522,
                    1.5244922493864483,
                    8.605836492107674,
                    8.520436096705257,
                    7.9657261741461145,
                    9.072146123316024,
                    2.0020422555722015,
                    2.098523721945355,
                    1.3025386993486499,
                    1.2643548104704392,
                    1.4127405303071736,
                    1.1053757302260483,
                    7.897990022027882,
                    7.76595061444001,
                    0.9224296866491499,
                    3.5287487477485175,
                    9.374061474545874,
                    9.891725755057024,
                    8.42763860046285,
                    9.341342238939019,
                    6.607551829663846,
                    1.3361176039864435,
                    8.995479800437652,
                    1.654331395216778,
                    9.981982128042333,
                    9.309813311338539,
                    9.627070592616779,
                    9.43330538389596,
                    6.83261328415389,
                    9.397069191671564,
                    9.488524958609332,
                    7.166161108238126,
                    6.966306475589468,
                    9.6669051611127,
                    9.97538905445987,
                    9.24574948725193,
                    9.634840173398947,
                    9.15104231486669,
                    9.196914444474794,
                    9.11819022953152,
                    9.286197320437493,
                    9.264696921721434
                  ],
                  "xaxis": "x5",
                  "y": [
                    0.47182454590445344,
                    0.4125850206946156,
                    0.4083204760130705,
                    0.5058282041012051,
                    0.46518999299607117,
                    0.408298385276862,
                    0.40280229177104465,
                    0.40196019903375113,
                    0.3999257727416247,
                    0.4185403690811756,
                    0.4015108665961956,
                    0.39756512174258274,
                    0.40816268542950396,
                    0.3997165667471344,
                    0.46337821142517516,
                    0.41102600025112634,
                    0.3943227432912572,
                    0.39593070446472706,
                    0.39707660903698055,
                    0.39715717618133045,
                    0.41128484374708885,
                    0.3944245042646143,
                    0.3964012853075667,
                    0.3954929769970621,
                    0.39508589038355996,
                    0.3946006069666297,
                    0.43645361303096475,
                    0.3950227219527202,
                    0.39466930783033066,
                    0.39478900256184496,
                    0.4067766330535261,
                    0.40386487208893,
                    0.40251973400399793,
                    0.3941825766657918,
                    0.39284941842127613,
                    0.4174591187041383,
                    0.4176633305799233,
                    0.3941303796664998,
                    0.3937298979353375,
                    0.40249625655891785,
                    0.39321342232384354,
                    0.40245105611097504,
                    0.39427081449593093,
                    0.39760053522577327,
                    0.39780600934901356,
                    0.39675678925966174,
                    0.3943122143606757,
                    0.39298504639813214,
                    0.4170313919121988,
                    0.3934788945883433,
                    0.39376932515489665,
                    0.3960756898431353,
                    0.4157470847562183,
                    0.3936146380718846,
                    0.3938994143313861,
                    0.40097133134437385,
                    0.39386035288866894,
                    0.39779637086606723,
                    0.39366744284007943,
                    0.3931265288516461,
                    0.39368578937012516,
                    0.40475595004089354,
                    0.39724721859799283,
                    0.3937904174167576,
                    0.393836574856595,
                    0.4037198993726648,
                    0.3937909629372945,
                    0.392959000230509,
                    0.3932280801975128,
                    0.39535287374704425,
                    0.39876933675004483,
                    0.3931930356872799,
                    0.39332160563436164,
                    0.3959524227823709,
                    0.39733255526202826,
                    0.39467746864533565,
                    0.39474331774124266,
                    0.39319504331581084,
                    0.3936189729453219,
                    0.39220380760591267,
                    0.3928218393215159,
                    0.39350113039029194,
                    0.3934727976855027,
                    0.3945471784846742,
                    0.40359675232024034,
                    0.3930626749114235,
                    0.39651021141889636,
                    0.39462657640045135,
                    0.3955540984094676,
                    0.3987576572193797,
                    0.39226344325866025,
                    0.3958805605412228,
                    0.39211828382605424,
                    0.40106770845289375,
                    0.3926766230986042,
                    0.39214380227432283,
                    0.393233253472567,
                    0.4059720904449307,
                    0.39244023923585736,
                    0.39645685675608033,
                    0.39342856777840945,
                    0.39218267536146034,
                    0.4106604519262262,
                    0.3950275943276543,
                    0.39346980510503216,
                    0.39297605217096376,
                    0.3929012267511546,
                    0.39236552911367417,
                    0.39315250009672825,
                    0.39194603158879054,
                    0.39326492559970805,
                    0.39235805486874337,
                    0.39100964692210743
                  ],
                  "yaxis": "y5"
                },
                {
                  "marker": {
                    "color": [
                      0,
                      1,
                      4,
                      9,
                      13,
                      17,
                      23,
                      24,
                      25,
                      27,
                      28,
                      30,
                      35,
                      36,
                      38,
                      42,
                      44,
                      45,
                      54,
                      57,
                      58,
                      67,
                      68,
                      69,
                      71,
                      73,
                      76,
                      83,
                      84,
                      85,
                      86,
                      94,
                      96,
                      102,
                      105,
                      117,
                      119,
                      123,
                      125,
                      128,
                      132,
                      139,
                      145,
                      147,
                      163,
                      169,
                      170,
                      176,
                      181,
                      195,
                      210,
                      218,
                      224,
                      226,
                      242,
                      246,
                      248,
                      255,
                      257,
                      258,
                      262,
                      263,
                      265,
                      269,
                      274,
                      278,
                      285,
                      294,
                      295,
                      302,
                      303,
                      305,
                      307,
                      309,
                      310,
                      314,
                      315,
                      317,
                      319,
                      321,
                      322,
                      326,
                      328,
                      330,
                      333,
                      334,
                      338,
                      344,
                      347,
                      350,
                      351,
                      353,
                      354,
                      355,
                      360,
                      364,
                      365,
                      370,
                      371,
                      373,
                      374,
                      375,
                      377,
                      380,
                      384,
                      385,
                      388,
                      390,
                      391,
                      393,
                      394,
                      398,
                      399
                    ],
                    "colorbar": {
                      "title": {
                        "text": "#Trials"
                      },
                      "x": 1,
                      "xpad": 40
                    },
                    "colorscale": [
                      [
                        0,
                        "rgb(247,251,255)"
                      ],
                      [
                        0.125,
                        "rgb(222,235,247)"
                      ],
                      [
                        0.25,
                        "rgb(198,219,239)"
                      ],
                      [
                        0.375,
                        "rgb(158,202,225)"
                      ],
                      [
                        0.5,
                        "rgb(107,174,214)"
                      ],
                      [
                        0.625,
                        "rgb(66,146,198)"
                      ],
                      [
                        0.75,
                        "rgb(33,113,181)"
                      ],
                      [
                        0.875,
                        "rgb(8,81,156)"
                      ],
                      [
                        1,
                        "rgb(8,48,107)"
                      ]
                    ],
                    "line": {
                      "color": "Grey",
                      "width": 0.5
                    },
                    "showscale": false
                  },
                  "mode": "markers",
                  "showlegend": false,
                  "type": "scatter",
                  "x": [
                    0.1281379229836516,
                    0.3699711070017914,
                    0.04984220957731036,
                    0.014539107545467849,
                    0.05884115171435598,
                    0.06644919514940287,
                    0.12001844612562257,
                    0.11284972069840654,
                    0.11566603787125529,
                    0.1331788332473548,
                    0.18481961170089267,
                    0.13082913605370294,
                    0.09638853728167651,
                    0.0911742962734683,
                    0.01597834315329103,
                    0.30880273376794254,
                    0.08592011809589505,
                    0.08344287300656114,
                    0.08525783193061098,
                    0.09459544273173424,
                    0.06731409435316915,
                    0.09822633525268516,
                    0.09619468310076768,
                    0.07394215025572513,
                    0.06762314116848978,
                    0.06932933999230217,
                    0.15927610118884797,
                    0.07118997674301766,
                    0.07069737757833584,
                    0.10876397063810227,
                    0.06775891102585156,
                    0.04244221268793201,
                    0.041125489019127714,
                    0.06275032713462858,
                    0.06632462393472152,
                    0.3951095439246913,
                    0.2133853619777989,
                    0.052533170615130666,
                    0.05211819765400736,
                    0.037078569136743796,
                    0.05203427197391557,
                    0.04149119097008733,
                    0.05344534644499739,
                    0.10174157886747677,
                    0.11926182213899213,
                    0.12664956260039462,
                    0.04850838009982562,
                    0.06147279019622572,
                    0.05299389543384458,
                    0.06877948985173298,
                    0.0674202287286675,
                    0.07678688738253898,
                    0.44655076033425023,
                    0.07109274765070675,
                    0.06367682625929463,
                    0.24977903079147637,
                    0.045604711253076205,
                    0.09754649596691391,
                    0.07804417757023913,
                    0.078507575984318,
                    0.05682416646241589,
                    0.28134023778340295,
                    0.18983773546169855,
                    0.06083648832173834,
                    0.059644436514073314,
                    0.27586583470005405,
                    0.05558077745139729,
                    0.0657315734798224,
                    0.11252650056578431,
                    0.09550701238890033,
                    0.11179767143264313,
                    0.05572520498305626,
                    0.05527934887774827,
                    0.08409420430580436,
                    0.10500467794005756,
                    0.08439232085690974,
                    0.08217577019331311,
                    0.05882655805295393,
                    0.05861597751848603,
                    0.05676495393702861,
                    0.0573067583643484,
                    0.05983277595597999,
                    0.059435656905217064,
                    0.08086897439220248,
                    0.17859234435228694,
                    0.05983395883194165,
                    0.14796352331479184,
                    0.07665653735897679,
                    0.08346847741079681,
                    0.16427954765534253,
                    0.078955262760324,
                    0.08909417064129892,
                    0.0580376549980674,
                    0.16114472844111966,
                    0.049592730973354794,
                    0.06443626765127433,
                    0.05942097838777673,
                    0.16334491336422416,
                    0.07423408854590777,
                    0.08807002711597951,
                    0.07612718839870246,
                    0.07220024791879692,
                    0.13782129628252335,
                    0.07699452182797217,
                    0.08203037609300372,
                    0.07675028559693779,
                    0.0731638187524164,
                    0.07444881675288978,
                    0.07477427423280852,
                    0.0884358745900409,
                    0.08904224091635156,
                    0.0859071271749179,
                    0.08333226439010233
                  ],
                  "xaxis": "x6",
                  "y": [
                    0.47182454590445344,
                    0.4125850206946156,
                    0.4083204760130705,
                    0.5058282041012051,
                    0.46518999299607117,
                    0.408298385276862,
                    0.40280229177104465,
                    0.40196019903375113,
                    0.3999257727416247,
                    0.4185403690811756,
                    0.4015108665961956,
                    0.39756512174258274,
                    0.40816268542950396,
                    0.3997165667471344,
                    0.46337821142517516,
                    0.41102600025112634,
                    0.3943227432912572,
                    0.39593070446472706,
                    0.39707660903698055,
                    0.39715717618133045,
                    0.41128484374708885,
                    0.3944245042646143,
                    0.3964012853075667,
                    0.3954929769970621,
                    0.39508589038355996,
                    0.3946006069666297,
                    0.43645361303096475,
                    0.3950227219527202,
                    0.39466930783033066,
                    0.39478900256184496,
                    0.4067766330535261,
                    0.40386487208893,
                    0.40251973400399793,
                    0.3941825766657918,
                    0.39284941842127613,
                    0.4174591187041383,
                    0.4176633305799233,
                    0.3941303796664998,
                    0.3937298979353375,
                    0.40249625655891785,
                    0.39321342232384354,
                    0.40245105611097504,
                    0.39427081449593093,
                    0.39760053522577327,
                    0.39780600934901356,
                    0.39675678925966174,
                    0.3943122143606757,
                    0.39298504639813214,
                    0.4170313919121988,
                    0.3934788945883433,
                    0.39376932515489665,
                    0.3960756898431353,
                    0.4157470847562183,
                    0.3936146380718846,
                    0.3938994143313861,
                    0.40097133134437385,
                    0.39386035288866894,
                    0.39779637086606723,
                    0.39366744284007943,
                    0.3931265288516461,
                    0.39368578937012516,
                    0.40475595004089354,
                    0.39724721859799283,
                    0.3937904174167576,
                    0.393836574856595,
                    0.4037198993726648,
                    0.3937909629372945,
                    0.392959000230509,
                    0.3932280801975128,
                    0.39535287374704425,
                    0.39876933675004483,
                    0.3931930356872799,
                    0.39332160563436164,
                    0.3959524227823709,
                    0.39733255526202826,
                    0.39467746864533565,
                    0.39474331774124266,
                    0.39319504331581084,
                    0.3936189729453219,
                    0.39220380760591267,
                    0.3928218393215159,
                    0.39350113039029194,
                    0.3934727976855027,
                    0.3945471784846742,
                    0.40359675232024034,
                    0.3930626749114235,
                    0.39651021141889636,
                    0.39462657640045135,
                    0.3955540984094676,
                    0.3987576572193797,
                    0.39226344325866025,
                    0.3958805605412228,
                    0.39211828382605424,
                    0.40106770845289375,
                    0.3926766230986042,
                    0.39214380227432283,
                    0.393233253472567,
                    0.4059720904449307,
                    0.39244023923585736,
                    0.39645685675608033,
                    0.39342856777840945,
                    0.39218267536146034,
                    0.4106604519262262,
                    0.3950275943276543,
                    0.39346980510503216,
                    0.39297605217096376,
                    0.3929012267511546,
                    0.39236552911367417,
                    0.39315250009672825,
                    0.39194603158879054,
                    0.39326492559970805,
                    0.39235805486874337,
                    0.39100964692210743
                  ],
                  "yaxis": "y6"
                },
                {
                  "marker": {
                    "color": [
                      0,
                      1,
                      4,
                      9,
                      13,
                      17,
                      23,
                      24,
                      25,
                      27,
                      28,
                      30,
                      35,
                      36,
                      38,
                      42,
                      44,
                      45,
                      54,
                      57,
                      58,
                      67,
                      68,
                      69,
                      71,
                      73,
                      76,
                      83,
                      84,
                      85,
                      86,
                      94,
                      96,
                      102,
                      105,
                      117,
                      119,
                      123,
                      125,
                      128,
                      132,
                      139,
                      145,
                      147,
                      163,
                      169,
                      170,
                      176,
                      181,
                      195,
                      210,
                      218,
                      224,
                      226,
                      242,
                      246,
                      248,
                      255,
                      257,
                      258,
                      262,
                      263,
                      265,
                      269,
                      274,
                      278,
                      285,
                      294,
                      295,
                      302,
                      303,
                      305,
                      307,
                      309,
                      310,
                      314,
                      315,
                      317,
                      319,
                      321,
                      322,
                      326,
                      328,
                      330,
                      333,
                      334,
                      338,
                      344,
                      347,
                      350,
                      351,
                      353,
                      354,
                      355,
                      360,
                      364,
                      365,
                      370,
                      371,
                      373,
                      374,
                      375,
                      377,
                      380,
                      384,
                      385,
                      388,
                      390,
                      391,
                      393,
                      394,
                      398,
                      399
                    ],
                    "colorbar": {
                      "title": {
                        "text": "#Trials"
                      },
                      "x": 1,
                      "xpad": 40
                    },
                    "colorscale": [
                      [
                        0,
                        "rgb(247,251,255)"
                      ],
                      [
                        0.125,
                        "rgb(222,235,247)"
                      ],
                      [
                        0.25,
                        "rgb(198,219,239)"
                      ],
                      [
                        0.375,
                        "rgb(158,202,225)"
                      ],
                      [
                        0.5,
                        "rgb(107,174,214)"
                      ],
                      [
                        0.625,
                        "rgb(66,146,198)"
                      ],
                      [
                        0.75,
                        "rgb(33,113,181)"
                      ],
                      [
                        0.875,
                        "rgb(8,81,156)"
                      ],
                      [
                        1,
                        "rgb(8,48,107)"
                      ]
                    ],
                    "line": {
                      "color": "Grey",
                      "width": 0.5
                    },
                    "showscale": false
                  },
                  "mode": "markers",
                  "showlegend": false,
                  "type": "scatter",
                  "x": [
                    22,
                    12,
                    14,
                    31,
                    42,
                    12,
                    21,
                    21,
                    35,
                    48,
                    33,
                    35,
                    34,
                    33,
                    17,
                    35,
                    50,
                    50,
                    40,
                    39,
                    36,
                    50,
                    50,
                    47,
                    50,
                    47,
                    41,
                    50,
                    46,
                    45,
                    13,
                    21,
                    20,
                    38,
                    49,
                    46,
                    15,
                    41,
                    37,
                    11,
                    37,
                    14,
                    40,
                    19,
                    15,
                    15,
                    41,
                    39,
                    9,
                    48,
                    46,
                    28,
                    25,
                    44,
                    44,
                    27,
                    38,
                    29,
                    39,
                    39,
                    40,
                    27,
                    19,
                    41,
                    37,
                    27,
                    38,
                    40,
                    33,
                    34,
                    36,
                    19,
                    15,
                    21,
                    20,
                    18,
                    14,
                    21,
                    21,
                    19,
                    21,
                    20,
                    20,
                    49,
                    47,
                    24,
                    19,
                    47,
                    50,
                    49,
                    50,
                    24,
                    26,
                    48,
                    18,
                    19,
                    19,
                    49,
                    18,
                    21,
                    18,
                    16,
                    43,
                    21,
                    47,
                    16,
                    18,
                    47,
                    18,
                    18,
                    18,
                    18,
                    18
                  ],
                  "xaxis": "x7",
                  "y": [
                    0.47182454590445344,
                    0.4125850206946156,
                    0.4083204760130705,
                    0.5058282041012051,
                    0.46518999299607117,
                    0.408298385276862,
                    0.40280229177104465,
                    0.40196019903375113,
                    0.3999257727416247,
                    0.4185403690811756,
                    0.4015108665961956,
                    0.39756512174258274,
                    0.40816268542950396,
                    0.3997165667471344,
                    0.46337821142517516,
                    0.41102600025112634,
                    0.3943227432912572,
                    0.39593070446472706,
                    0.39707660903698055,
                    0.39715717618133045,
                    0.41128484374708885,
                    0.3944245042646143,
                    0.3964012853075667,
                    0.3954929769970621,
                    0.39508589038355996,
                    0.3946006069666297,
                    0.43645361303096475,
                    0.3950227219527202,
                    0.39466930783033066,
                    0.39478900256184496,
                    0.4067766330535261,
                    0.40386487208893,
                    0.40251973400399793,
                    0.3941825766657918,
                    0.39284941842127613,
                    0.4174591187041383,
                    0.4176633305799233,
                    0.3941303796664998,
                    0.3937298979353375,
                    0.40249625655891785,
                    0.39321342232384354,
                    0.40245105611097504,
                    0.39427081449593093,
                    0.39760053522577327,
                    0.39780600934901356,
                    0.39675678925966174,
                    0.3943122143606757,
                    0.39298504639813214,
                    0.4170313919121988,
                    0.3934788945883433,
                    0.39376932515489665,
                    0.3960756898431353,
                    0.4157470847562183,
                    0.3936146380718846,
                    0.3938994143313861,
                    0.40097133134437385,
                    0.39386035288866894,
                    0.39779637086606723,
                    0.39366744284007943,
                    0.3931265288516461,
                    0.39368578937012516,
                    0.40475595004089354,
                    0.39724721859799283,
                    0.3937904174167576,
                    0.393836574856595,
                    0.4037198993726648,
                    0.3937909629372945,
                    0.392959000230509,
                    0.3932280801975128,
                    0.39535287374704425,
                    0.39876933675004483,
                    0.3931930356872799,
                    0.39332160563436164,
                    0.3959524227823709,
                    0.39733255526202826,
                    0.39467746864533565,
                    0.39474331774124266,
                    0.39319504331581084,
                    0.3936189729453219,
                    0.39220380760591267,
                    0.3928218393215159,
                    0.39350113039029194,
                    0.3934727976855027,
                    0.3945471784846742,
                    0.40359675232024034,
                    0.3930626749114235,
                    0.39651021141889636,
                    0.39462657640045135,
                    0.3955540984094676,
                    0.3987576572193797,
                    0.39226344325866025,
                    0.3958805605412228,
                    0.39211828382605424,
                    0.40106770845289375,
                    0.3926766230986042,
                    0.39214380227432283,
                    0.393233253472567,
                    0.4059720904449307,
                    0.39244023923585736,
                    0.39645685675608033,
                    0.39342856777840945,
                    0.39218267536146034,
                    0.4106604519262262,
                    0.3950275943276543,
                    0.39346980510503216,
                    0.39297605217096376,
                    0.3929012267511546,
                    0.39236552911367417,
                    0.39315250009672825,
                    0.39194603158879054,
                    0.39326492559970805,
                    0.39235805486874337,
                    0.39100964692210743
                  ],
                  "yaxis": "y7"
                },
                {
                  "marker": {
                    "color": [
                      0,
                      1,
                      4,
                      9,
                      13,
                      17,
                      23,
                      24,
                      25,
                      27,
                      28,
                      30,
                      35,
                      36,
                      38,
                      42,
                      44,
                      45,
                      54,
                      57,
                      58,
                      67,
                      68,
                      69,
                      71,
                      73,
                      76,
                      83,
                      84,
                      85,
                      86,
                      94,
                      96,
                      102,
                      105,
                      117,
                      119,
                      123,
                      125,
                      128,
                      132,
                      139,
                      145,
                      147,
                      163,
                      169,
                      170,
                      176,
                      181,
                      195,
                      210,
                      218,
                      224,
                      226,
                      242,
                      246,
                      248,
                      255,
                      257,
                      258,
                      262,
                      263,
                      265,
                      269,
                      274,
                      278,
                      285,
                      294,
                      295,
                      302,
                      303,
                      305,
                      307,
                      309,
                      310,
                      314,
                      315,
                      317,
                      319,
                      321,
                      322,
                      326,
                      328,
                      330,
                      333,
                      334,
                      338,
                      344,
                      347,
                      350,
                      351,
                      353,
                      354,
                      355,
                      360,
                      364,
                      365,
                      370,
                      371,
                      373,
                      374,
                      375,
                      377,
                      380,
                      384,
                      385,
                      388,
                      390,
                      391,
                      393,
                      394,
                      398,
                      399
                    ],
                    "colorbar": {
                      "title": {
                        "text": "#Trials"
                      },
                      "x": 1,
                      "xpad": 40
                    },
                    "colorscale": [
                      [
                        0,
                        "rgb(247,251,255)"
                      ],
                      [
                        0.125,
                        "rgb(222,235,247)"
                      ],
                      [
                        0.25,
                        "rgb(198,219,239)"
                      ],
                      [
                        0.375,
                        "rgb(158,202,225)"
                      ],
                      [
                        0.5,
                        "rgb(107,174,214)"
                      ],
                      [
                        0.625,
                        "rgb(66,146,198)"
                      ],
                      [
                        0.75,
                        "rgb(33,113,181)"
                      ],
                      [
                        0.875,
                        "rgb(8,81,156)"
                      ],
                      [
                        1,
                        "rgb(8,48,107)"
                      ]
                    ],
                    "line": {
                      "color": "Grey",
                      "width": 0.5
                    },
                    "showscale": false
                  },
                  "mode": "markers",
                  "showlegend": false,
                  "type": "scatter",
                  "x": [
                    188,
                    50,
                    50,
                    38,
                    190,
                    55,
                    84,
                    95,
                    93,
                    13,
                    140,
                    136,
                    26,
                    115,
                    141,
                    157,
                    121,
                    118,
                    108,
                    151,
                    34,
                    178,
                    178,
                    178,
                    180,
                    179,
                    17,
                    174,
                    176,
                    172,
                    185,
                    152,
                    154,
                    191,
                    200,
                    168,
                    66,
                    139,
                    133,
                    146,
                    135,
                    134,
                    127,
                    154,
                    160,
                    179,
                    119,
                    128,
                    69,
                    189,
                    184,
                    82,
                    85,
                    174,
                    178,
                    66,
                    118,
                    86,
                    140,
                    142,
                    135,
                    120,
                    144,
                    133,
                    135,
                    121,
                    130,
                    149,
                    159,
                    149,
                    156,
                    149,
                    147,
                    97,
                    150,
                    140,
                    108,
                    154,
                    150,
                    154,
                    159,
                    153,
                    154,
                    171,
                    64,
                    161,
                    67,
                    193,
                    195,
                    64,
                    193,
                    148,
                    165,
                    70,
                    166,
                    160,
                    153,
                    70,
                    164,
                    148,
                    163,
                    167,
                    30,
                    200,
                    197,
                    158,
                    160,
                    192,
                    161,
                    161,
                    160,
                    161,
                    161
                  ],
                  "xaxis": "x8",
                  "y": [
                    0.47182454590445344,
                    0.4125850206946156,
                    0.4083204760130705,
                    0.5058282041012051,
                    0.46518999299607117,
                    0.408298385276862,
                    0.40280229177104465,
                    0.40196019903375113,
                    0.3999257727416247,
                    0.4185403690811756,
                    0.4015108665961956,
                    0.39756512174258274,
                    0.40816268542950396,
                    0.3997165667471344,
                    0.46337821142517516,
                    0.41102600025112634,
                    0.3943227432912572,
                    0.39593070446472706,
                    0.39707660903698055,
                    0.39715717618133045,
                    0.41128484374708885,
                    0.3944245042646143,
                    0.3964012853075667,
                    0.3954929769970621,
                    0.39508589038355996,
                    0.3946006069666297,
                    0.43645361303096475,
                    0.3950227219527202,
                    0.39466930783033066,
                    0.39478900256184496,
                    0.4067766330535261,
                    0.40386487208893,
                    0.40251973400399793,
                    0.3941825766657918,
                    0.39284941842127613,
                    0.4174591187041383,
                    0.4176633305799233,
                    0.3941303796664998,
                    0.3937298979353375,
                    0.40249625655891785,
                    0.39321342232384354,
                    0.40245105611097504,
                    0.39427081449593093,
                    0.39760053522577327,
                    0.39780600934901356,
                    0.39675678925966174,
                    0.3943122143606757,
                    0.39298504639813214,
                    0.4170313919121988,
                    0.3934788945883433,
                    0.39376932515489665,
                    0.3960756898431353,
                    0.4157470847562183,
                    0.3936146380718846,
                    0.3938994143313861,
                    0.40097133134437385,
                    0.39386035288866894,
                    0.39779637086606723,
                    0.39366744284007943,
                    0.3931265288516461,
                    0.39368578937012516,
                    0.40475595004089354,
                    0.39724721859799283,
                    0.3937904174167576,
                    0.393836574856595,
                    0.4037198993726648,
                    0.3937909629372945,
                    0.392959000230509,
                    0.3932280801975128,
                    0.39535287374704425,
                    0.39876933675004483,
                    0.3931930356872799,
                    0.39332160563436164,
                    0.3959524227823709,
                    0.39733255526202826,
                    0.39467746864533565,
                    0.39474331774124266,
                    0.39319504331581084,
                    0.3936189729453219,
                    0.39220380760591267,
                    0.3928218393215159,
                    0.39350113039029194,
                    0.3934727976855027,
                    0.3945471784846742,
                    0.40359675232024034,
                    0.3930626749114235,
                    0.39651021141889636,
                    0.39462657640045135,
                    0.3955540984094676,
                    0.3987576572193797,
                    0.39226344325866025,
                    0.3958805605412228,
                    0.39211828382605424,
                    0.40106770845289375,
                    0.3926766230986042,
                    0.39214380227432283,
                    0.393233253472567,
                    0.4059720904449307,
                    0.39244023923585736,
                    0.39645685675608033,
                    0.39342856777840945,
                    0.39218267536146034,
                    0.4106604519262262,
                    0.3950275943276543,
                    0.39346980510503216,
                    0.39297605217096376,
                    0.3929012267511546,
                    0.39236552911367417,
                    0.39315250009672825,
                    0.39194603158879054,
                    0.39326492559970805,
                    0.39235805486874337,
                    0.39100964692210743
                  ],
                  "yaxis": "y8"
                },
                {
                  "marker": {
                    "color": [
                      0,
                      1,
                      4,
                      9,
                      13,
                      17,
                      23,
                      24,
                      25,
                      27,
                      28,
                      30,
                      35,
                      36,
                      38,
                      42,
                      44,
                      45,
                      54,
                      57,
                      58,
                      67,
                      68,
                      69,
                      71,
                      73,
                      76,
                      83,
                      84,
                      85,
                      86,
                      94,
                      96,
                      102,
                      105,
                      117,
                      119,
                      123,
                      125,
                      128,
                      132,
                      139,
                      145,
                      147,
                      163,
                      169,
                      170,
                      176,
                      181,
                      195,
                      210,
                      218,
                      224,
                      226,
                      242,
                      246,
                      248,
                      255,
                      257,
                      258,
                      262,
                      263,
                      265,
                      269,
                      274,
                      278,
                      285,
                      294,
                      295,
                      302,
                      303,
                      305,
                      307,
                      309,
                      310,
                      314,
                      315,
                      317,
                      319,
                      321,
                      322,
                      326,
                      328,
                      330,
                      333,
                      334,
                      338,
                      344,
                      347,
                      350,
                      351,
                      353,
                      354,
                      355,
                      360,
                      364,
                      365,
                      370,
                      371,
                      373,
                      374,
                      375,
                      377,
                      380,
                      384,
                      385,
                      388,
                      390,
                      391,
                      393,
                      394,
                      398,
                      399
                    ],
                    "colorbar": {
                      "title": {
                        "text": "#Trials"
                      },
                      "x": 1,
                      "xpad": 40
                    },
                    "colorscale": [
                      [
                        0,
                        "rgb(247,251,255)"
                      ],
                      [
                        0.125,
                        "rgb(222,235,247)"
                      ],
                      [
                        0.25,
                        "rgb(198,219,239)"
                      ],
                      [
                        0.375,
                        "rgb(158,202,225)"
                      ],
                      [
                        0.5,
                        "rgb(107,174,214)"
                      ],
                      [
                        0.625,
                        "rgb(66,146,198)"
                      ],
                      [
                        0.75,
                        "rgb(33,113,181)"
                      ],
                      [
                        0.875,
                        "rgb(8,81,156)"
                      ],
                      [
                        1,
                        "rgb(8,48,107)"
                      ]
                    ],
                    "line": {
                      "color": "Grey",
                      "width": 0.5
                    },
                    "showscale": false
                  },
                  "mode": "markers",
                  "showlegend": false,
                  "type": "scatter",
                  "x": [
                    0.7000000000000001,
                    0.5,
                    0.8,
                    0.7000000000000001,
                    0.30000000000000004,
                    0.7000000000000001,
                    0.5,
                    0.30000000000000004,
                    0.30000000000000004,
                    1,
                    0.2,
                    0.30000000000000004,
                    0.8,
                    0.2,
                    0.6,
                    0.1,
                    0.4,
                    0.4,
                    0.2,
                    0.4,
                    0.4,
                    0.2,
                    0.2,
                    0.1,
                    0.1,
                    0.1,
                    0.1,
                    0.1,
                    0.1,
                    0.1,
                    1,
                    0.2,
                    0.1,
                    0.8,
                    0.1,
                    0.7000000000000001,
                    0.7000000000000001,
                    0.30000000000000004,
                    0.30000000000000004,
                    0.4,
                    0.2,
                    0.1,
                    0.2,
                    0.1,
                    0.2,
                    0.2,
                    0.1,
                    0.1,
                    0.9,
                    0.1,
                    0.1,
                    0.4,
                    0.9,
                    0.1,
                    0.1,
                    1,
                    0.1,
                    0.30000000000000004,
                    0.1,
                    0.1,
                    0.1,
                    1,
                    0.7000000000000001,
                    0.1,
                    0.1,
                    1,
                    0.1,
                    0.1,
                    0.5,
                    0.8,
                    0.5,
                    0.1,
                    0.1,
                    0.2,
                    0.8,
                    0.8,
                    0.8,
                    0.1,
                    0.1,
                    0.1,
                    0.1,
                    0.1,
                    0.1,
                    0.8,
                    0.4,
                    0.1,
                    0.30000000000000004,
                    0.8,
                    0.8,
                    0.4,
                    0.8,
                    0.4,
                    0.1,
                    0.4,
                    0.1,
                    0.1,
                    0.1,
                    0.4,
                    0.1,
                    0.4,
                    0.1,
                    0.1,
                    0.6,
                    0.30000000000000004,
                    0.8,
                    0.1,
                    0.1,
                    0.8,
                    0.1,
                    0.1,
                    0.1,
                    0.1,
                    0.1
                  ],
                  "xaxis": "x9",
                  "y": [
                    0.47182454590445344,
                    0.4125850206946156,
                    0.4083204760130705,
                    0.5058282041012051,
                    0.46518999299607117,
                    0.408298385276862,
                    0.40280229177104465,
                    0.40196019903375113,
                    0.3999257727416247,
                    0.4185403690811756,
                    0.4015108665961956,
                    0.39756512174258274,
                    0.40816268542950396,
                    0.3997165667471344,
                    0.46337821142517516,
                    0.41102600025112634,
                    0.3943227432912572,
                    0.39593070446472706,
                    0.39707660903698055,
                    0.39715717618133045,
                    0.41128484374708885,
                    0.3944245042646143,
                    0.3964012853075667,
                    0.3954929769970621,
                    0.39508589038355996,
                    0.3946006069666297,
                    0.43645361303096475,
                    0.3950227219527202,
                    0.39466930783033066,
                    0.39478900256184496,
                    0.4067766330535261,
                    0.40386487208893,
                    0.40251973400399793,
                    0.3941825766657918,
                    0.39284941842127613,
                    0.4174591187041383,
                    0.4176633305799233,
                    0.3941303796664998,
                    0.3937298979353375,
                    0.40249625655891785,
                    0.39321342232384354,
                    0.40245105611097504,
                    0.39427081449593093,
                    0.39760053522577327,
                    0.39780600934901356,
                    0.39675678925966174,
                    0.3943122143606757,
                    0.39298504639813214,
                    0.4170313919121988,
                    0.3934788945883433,
                    0.39376932515489665,
                    0.3960756898431353,
                    0.4157470847562183,
                    0.3936146380718846,
                    0.3938994143313861,
                    0.40097133134437385,
                    0.39386035288866894,
                    0.39779637086606723,
                    0.39366744284007943,
                    0.3931265288516461,
                    0.39368578937012516,
                    0.40475595004089354,
                    0.39724721859799283,
                    0.3937904174167576,
                    0.393836574856595,
                    0.4037198993726648,
                    0.3937909629372945,
                    0.392959000230509,
                    0.3932280801975128,
                    0.39535287374704425,
                    0.39876933675004483,
                    0.3931930356872799,
                    0.39332160563436164,
                    0.3959524227823709,
                    0.39733255526202826,
                    0.39467746864533565,
                    0.39474331774124266,
                    0.39319504331581084,
                    0.3936189729453219,
                    0.39220380760591267,
                    0.3928218393215159,
                    0.39350113039029194,
                    0.3934727976855027,
                    0.3945471784846742,
                    0.40359675232024034,
                    0.3930626749114235,
                    0.39651021141889636,
                    0.39462657640045135,
                    0.3955540984094676,
                    0.3987576572193797,
                    0.39226344325866025,
                    0.3958805605412228,
                    0.39211828382605424,
                    0.40106770845289375,
                    0.3926766230986042,
                    0.39214380227432283,
                    0.393233253472567,
                    0.4059720904449307,
                    0.39244023923585736,
                    0.39645685675608033,
                    0.39342856777840945,
                    0.39218267536146034,
                    0.4106604519262262,
                    0.3950275943276543,
                    0.39346980510503216,
                    0.39297605217096376,
                    0.3929012267511546,
                    0.39236552911367417,
                    0.39315250009672825,
                    0.39194603158879054,
                    0.39326492559970805,
                    0.39235805486874337,
                    0.39100964692210743
                  ],
                  "yaxis": "y9"
                }
              ],
              "layout": {
                "template": {
                  "data": {
                    "bar": [
                      {
                        "error_x": {
                          "color": "#2a3f5f"
                        },
                        "error_y": {
                          "color": "#2a3f5f"
                        },
                        "marker": {
                          "line": {
                            "color": "#E5ECF6",
                            "width": 0.5
                          },
                          "pattern": {
                            "fillmode": "overlay",
                            "size": 10,
                            "solidity": 0.2
                          }
                        },
                        "type": "bar"
                      }
                    ],
                    "barpolar": [
                      {
                        "marker": {
                          "line": {
                            "color": "#E5ECF6",
                            "width": 0.5
                          },
                          "pattern": {
                            "fillmode": "overlay",
                            "size": 10,
                            "solidity": 0.2
                          }
                        },
                        "type": "barpolar"
                      }
                    ],
                    "carpet": [
                      {
                        "aaxis": {
                          "endlinecolor": "#2a3f5f",
                          "gridcolor": "white",
                          "linecolor": "white",
                          "minorgridcolor": "white",
                          "startlinecolor": "#2a3f5f"
                        },
                        "baxis": {
                          "endlinecolor": "#2a3f5f",
                          "gridcolor": "white",
                          "linecolor": "white",
                          "minorgridcolor": "white",
                          "startlinecolor": "#2a3f5f"
                        },
                        "type": "carpet"
                      }
                    ],
                    "choropleth": [
                      {
                        "colorbar": {
                          "outlinewidth": 0,
                          "ticks": ""
                        },
                        "type": "choropleth"
                      }
                    ],
                    "contour": [
                      {
                        "colorbar": {
                          "outlinewidth": 0,
                          "ticks": ""
                        },
                        "colorscale": [
                          [
                            0,
                            "#0d0887"
                          ],
                          [
                            0.1111111111111111,
                            "#46039f"
                          ],
                          [
                            0.2222222222222222,
                            "#7201a8"
                          ],
                          [
                            0.3333333333333333,
                            "#9c179e"
                          ],
                          [
                            0.4444444444444444,
                            "#bd3786"
                          ],
                          [
                            0.5555555555555556,
                            "#d8576b"
                          ],
                          [
                            0.6666666666666666,
                            "#ed7953"
                          ],
                          [
                            0.7777777777777778,
                            "#fb9f3a"
                          ],
                          [
                            0.8888888888888888,
                            "#fdca26"
                          ],
                          [
                            1,
                            "#f0f921"
                          ]
                        ],
                        "type": "contour"
                      }
                    ],
                    "contourcarpet": [
                      {
                        "colorbar": {
                          "outlinewidth": 0,
                          "ticks": ""
                        },
                        "type": "contourcarpet"
                      }
                    ],
                    "heatmap": [
                      {
                        "colorbar": {
                          "outlinewidth": 0,
                          "ticks": ""
                        },
                        "colorscale": [
                          [
                            0,
                            "#0d0887"
                          ],
                          [
                            0.1111111111111111,
                            "#46039f"
                          ],
                          [
                            0.2222222222222222,
                            "#7201a8"
                          ],
                          [
                            0.3333333333333333,
                            "#9c179e"
                          ],
                          [
                            0.4444444444444444,
                            "#bd3786"
                          ],
                          [
                            0.5555555555555556,
                            "#d8576b"
                          ],
                          [
                            0.6666666666666666,
                            "#ed7953"
                          ],
                          [
                            0.7777777777777778,
                            "#fb9f3a"
                          ],
                          [
                            0.8888888888888888,
                            "#fdca26"
                          ],
                          [
                            1,
                            "#f0f921"
                          ]
                        ],
                        "type": "heatmap"
                      }
                    ],
                    "heatmapgl": [
                      {
                        "colorbar": {
                          "outlinewidth": 0,
                          "ticks": ""
                        },
                        "colorscale": [
                          [
                            0,
                            "#0d0887"
                          ],
                          [
                            0.1111111111111111,
                            "#46039f"
                          ],
                          [
                            0.2222222222222222,
                            "#7201a8"
                          ],
                          [
                            0.3333333333333333,
                            "#9c179e"
                          ],
                          [
                            0.4444444444444444,
                            "#bd3786"
                          ],
                          [
                            0.5555555555555556,
                            "#d8576b"
                          ],
                          [
                            0.6666666666666666,
                            "#ed7953"
                          ],
                          [
                            0.7777777777777778,
                            "#fb9f3a"
                          ],
                          [
                            0.8888888888888888,
                            "#fdca26"
                          ],
                          [
                            1,
                            "#f0f921"
                          ]
                        ],
                        "type": "heatmapgl"
                      }
                    ],
                    "histogram": [
                      {
                        "marker": {
                          "pattern": {
                            "fillmode": "overlay",
                            "size": 10,
                            "solidity": 0.2
                          }
                        },
                        "type": "histogram"
                      }
                    ],
                    "histogram2d": [
                      {
                        "colorbar": {
                          "outlinewidth": 0,
                          "ticks": ""
                        },
                        "colorscale": [
                          [
                            0,
                            "#0d0887"
                          ],
                          [
                            0.1111111111111111,
                            "#46039f"
                          ],
                          [
                            0.2222222222222222,
                            "#7201a8"
                          ],
                          [
                            0.3333333333333333,
                            "#9c179e"
                          ],
                          [
                            0.4444444444444444,
                            "#bd3786"
                          ],
                          [
                            0.5555555555555556,
                            "#d8576b"
                          ],
                          [
                            0.6666666666666666,
                            "#ed7953"
                          ],
                          [
                            0.7777777777777778,
                            "#fb9f3a"
                          ],
                          [
                            0.8888888888888888,
                            "#fdca26"
                          ],
                          [
                            1,
                            "#f0f921"
                          ]
                        ],
                        "type": "histogram2d"
                      }
                    ],
                    "histogram2dcontour": [
                      {
                        "colorbar": {
                          "outlinewidth": 0,
                          "ticks": ""
                        },
                        "colorscale": [
                          [
                            0,
                            "#0d0887"
                          ],
                          [
                            0.1111111111111111,
                            "#46039f"
                          ],
                          [
                            0.2222222222222222,
                            "#7201a8"
                          ],
                          [
                            0.3333333333333333,
                            "#9c179e"
                          ],
                          [
                            0.4444444444444444,
                            "#bd3786"
                          ],
                          [
                            0.5555555555555556,
                            "#d8576b"
                          ],
                          [
                            0.6666666666666666,
                            "#ed7953"
                          ],
                          [
                            0.7777777777777778,
                            "#fb9f3a"
                          ],
                          [
                            0.8888888888888888,
                            "#fdca26"
                          ],
                          [
                            1,
                            "#f0f921"
                          ]
                        ],
                        "type": "histogram2dcontour"
                      }
                    ],
                    "mesh3d": [
                      {
                        "colorbar": {
                          "outlinewidth": 0,
                          "ticks": ""
                        },
                        "type": "mesh3d"
                      }
                    ],
                    "parcoords": [
                      {
                        "line": {
                          "colorbar": {
                            "outlinewidth": 0,
                            "ticks": ""
                          }
                        },
                        "type": "parcoords"
                      }
                    ],
                    "pie": [
                      {
                        "automargin": true,
                        "type": "pie"
                      }
                    ],
                    "scatter": [
                      {
                        "marker": {
                          "colorbar": {
                            "outlinewidth": 0,
                            "ticks": ""
                          }
                        },
                        "type": "scatter"
                      }
                    ],
                    "scatter3d": [
                      {
                        "line": {
                          "colorbar": {
                            "outlinewidth": 0,
                            "ticks": ""
                          }
                        },
                        "marker": {
                          "colorbar": {
                            "outlinewidth": 0,
                            "ticks": ""
                          }
                        },
                        "type": "scatter3d"
                      }
                    ],
                    "scattercarpet": [
                      {
                        "marker": {
                          "colorbar": {
                            "outlinewidth": 0,
                            "ticks": ""
                          }
                        },
                        "type": "scattercarpet"
                      }
                    ],
                    "scattergeo": [
                      {
                        "marker": {
                          "colorbar": {
                            "outlinewidth": 0,
                            "ticks": ""
                          }
                        },
                        "type": "scattergeo"
                      }
                    ],
                    "scattergl": [
                      {
                        "marker": {
                          "colorbar": {
                            "outlinewidth": 0,
                            "ticks": ""
                          }
                        },
                        "type": "scattergl"
                      }
                    ],
                    "scattermapbox": [
                      {
                        "marker": {
                          "colorbar": {
                            "outlinewidth": 0,
                            "ticks": ""
                          }
                        },
                        "type": "scattermapbox"
                      }
                    ],
                    "scatterpolar": [
                      {
                        "marker": {
                          "colorbar": {
                            "outlinewidth": 0,
                            "ticks": ""
                          }
                        },
                        "type": "scatterpolar"
                      }
                    ],
                    "scatterpolargl": [
                      {
                        "marker": {
                          "colorbar": {
                            "outlinewidth": 0,
                            "ticks": ""
                          }
                        },
                        "type": "scatterpolargl"
                      }
                    ],
                    "scatterternary": [
                      {
                        "marker": {
                          "colorbar": {
                            "outlinewidth": 0,
                            "ticks": ""
                          }
                        },
                        "type": "scatterternary"
                      }
                    ],
                    "surface": [
                      {
                        "colorbar": {
                          "outlinewidth": 0,
                          "ticks": ""
                        },
                        "colorscale": [
                          [
                            0,
                            "#0d0887"
                          ],
                          [
                            0.1111111111111111,
                            "#46039f"
                          ],
                          [
                            0.2222222222222222,
                            "#7201a8"
                          ],
                          [
                            0.3333333333333333,
                            "#9c179e"
                          ],
                          [
                            0.4444444444444444,
                            "#bd3786"
                          ],
                          [
                            0.5555555555555556,
                            "#d8576b"
                          ],
                          [
                            0.6666666666666666,
                            "#ed7953"
                          ],
                          [
                            0.7777777777777778,
                            "#fb9f3a"
                          ],
                          [
                            0.8888888888888888,
                            "#fdca26"
                          ],
                          [
                            1,
                            "#f0f921"
                          ]
                        ],
                        "type": "surface"
                      }
                    ],
                    "table": [
                      {
                        "cells": {
                          "fill": {
                            "color": "#EBF0F8"
                          },
                          "line": {
                            "color": "white"
                          }
                        },
                        "header": {
                          "fill": {
                            "color": "#C8D4E3"
                          },
                          "line": {
                            "color": "white"
                          }
                        },
                        "type": "table"
                      }
                    ]
                  },
                  "layout": {
                    "annotationdefaults": {
                      "arrowcolor": "#2a3f5f",
                      "arrowhead": 0,
                      "arrowwidth": 1
                    },
                    "autotypenumbers": "strict",
                    "coloraxis": {
                      "colorbar": {
                        "outlinewidth": 0,
                        "ticks": ""
                      }
                    },
                    "colorscale": {
                      "diverging": [
                        [
                          0,
                          "#8e0152"
                        ],
                        [
                          0.1,
                          "#c51b7d"
                        ],
                        [
                          0.2,
                          "#de77ae"
                        ],
                        [
                          0.3,
                          "#f1b6da"
                        ],
                        [
                          0.4,
                          "#fde0ef"
                        ],
                        [
                          0.5,
                          "#f7f7f7"
                        ],
                        [
                          0.6,
                          "#e6f5d0"
                        ],
                        [
                          0.7,
                          "#b8e186"
                        ],
                        [
                          0.8,
                          "#7fbc41"
                        ],
                        [
                          0.9,
                          "#4d9221"
                        ],
                        [
                          1,
                          "#276419"
                        ]
                      ],
                      "sequential": [
                        [
                          0,
                          "#0d0887"
                        ],
                        [
                          0.1111111111111111,
                          "#46039f"
                        ],
                        [
                          0.2222222222222222,
                          "#7201a8"
                        ],
                        [
                          0.3333333333333333,
                          "#9c179e"
                        ],
                        [
                          0.4444444444444444,
                          "#bd3786"
                        ],
                        [
                          0.5555555555555556,
                          "#d8576b"
                        ],
                        [
                          0.6666666666666666,
                          "#ed7953"
                        ],
                        [
                          0.7777777777777778,
                          "#fb9f3a"
                        ],
                        [
                          0.8888888888888888,
                          "#fdca26"
                        ],
                        [
                          1,
                          "#f0f921"
                        ]
                      ],
                      "sequentialminus": [
                        [
                          0,
                          "#0d0887"
                        ],
                        [
                          0.1111111111111111,
                          "#46039f"
                        ],
                        [
                          0.2222222222222222,
                          "#7201a8"
                        ],
                        [
                          0.3333333333333333,
                          "#9c179e"
                        ],
                        [
                          0.4444444444444444,
                          "#bd3786"
                        ],
                        [
                          0.5555555555555556,
                          "#d8576b"
                        ],
                        [
                          0.6666666666666666,
                          "#ed7953"
                        ],
                        [
                          0.7777777777777778,
                          "#fb9f3a"
                        ],
                        [
                          0.8888888888888888,
                          "#fdca26"
                        ],
                        [
                          1,
                          "#f0f921"
                        ]
                      ]
                    },
                    "colorway": [
                      "#636efa",
                      "#EF553B",
                      "#00cc96",
                      "#ab63fa",
                      "#FFA15A",
                      "#19d3f3",
                      "#FF6692",
                      "#B6E880",
                      "#FF97FF",
                      "#FECB52"
                    ],
                    "font": {
                      "color": "#2a3f5f"
                    },
                    "geo": {
                      "bgcolor": "white",
                      "lakecolor": "white",
                      "landcolor": "#E5ECF6",
                      "showlakes": true,
                      "showland": true,
                      "subunitcolor": "white"
                    },
                    "hoverlabel": {
                      "align": "left"
                    },
                    "hovermode": "closest",
                    "mapbox": {
                      "style": "light"
                    },
                    "paper_bgcolor": "white",
                    "plot_bgcolor": "#E5ECF6",
                    "polar": {
                      "angularaxis": {
                        "gridcolor": "white",
                        "linecolor": "white",
                        "ticks": ""
                      },
                      "bgcolor": "#E5ECF6",
                      "radialaxis": {
                        "gridcolor": "white",
                        "linecolor": "white",
                        "ticks": ""
                      }
                    },
                    "scene": {
                      "xaxis": {
                        "backgroundcolor": "#E5ECF6",
                        "gridcolor": "white",
                        "gridwidth": 2,
                        "linecolor": "white",
                        "showbackground": true,
                        "ticks": "",
                        "zerolinecolor": "white"
                      },
                      "yaxis": {
                        "backgroundcolor": "#E5ECF6",
                        "gridcolor": "white",
                        "gridwidth": 2,
                        "linecolor": "white",
                        "showbackground": true,
                        "ticks": "",
                        "zerolinecolor": "white"
                      },
                      "zaxis": {
                        "backgroundcolor": "#E5ECF6",
                        "gridcolor": "white",
                        "gridwidth": 2,
                        "linecolor": "white",
                        "showbackground": true,
                        "ticks": "",
                        "zerolinecolor": "white"
                      }
                    },
                    "shapedefaults": {
                      "line": {
                        "color": "#2a3f5f"
                      }
                    },
                    "ternary": {
                      "aaxis": {
                        "gridcolor": "white",
                        "linecolor": "white",
                        "ticks": ""
                      },
                      "baxis": {
                        "gridcolor": "white",
                        "linecolor": "white",
                        "ticks": ""
                      },
                      "bgcolor": "#E5ECF6",
                      "caxis": {
                        "gridcolor": "white",
                        "linecolor": "white",
                        "ticks": ""
                      }
                    },
                    "title": {
                      "x": 0.05
                    },
                    "xaxis": {
                      "automargin": true,
                      "gridcolor": "white",
                      "linecolor": "white",
                      "ticks": "",
                      "title": {
                        "standoff": 15
                      },
                      "zerolinecolor": "white",
                      "zerolinewidth": 2
                    },
                    "yaxis": {
                      "automargin": true,
                      "gridcolor": "white",
                      "linecolor": "white",
                      "ticks": "",
                      "title": {
                        "standoff": 15
                      },
                      "zerolinecolor": "white",
                      "zerolinewidth": 2
                    }
                  }
                },
                "title": {
                  "text": "Slice Plot"
                },
                "width": 2700,
                "xaxis": {
                  "anchor": "y",
                  "domain": [
                    0,
                    0.09135802469135802
                  ],
                  "title": {
                    "text": "bagging_fraction"
                  }
                },
                "xaxis2": {
                  "anchor": "y2",
                  "domain": [
                    0.11358024691358025,
                    0.20493827160493827
                  ],
                  "title": {
                    "text": "bagging_freq"
                  }
                },
                "xaxis3": {
                  "anchor": "y3",
                  "domain": [
                    0.2271604938271605,
                    0.31851851851851853
                  ],
                  "title": {
                    "text": "feature_fraction"
                  }
                },
                "xaxis4": {
                  "anchor": "y4",
                  "domain": [
                    0.34074074074074073,
                    0.43209876543209874
                  ],
                  "title": {
                    "text": "lambda_l1"
                  }
                },
                "xaxis5": {
                  "anchor": "y5",
                  "domain": [
                    0.454320987654321,
                    0.5456790123456791
                  ],
                  "title": {
                    "text": "lambda_l2"
                  }
                },
                "xaxis6": {
                  "anchor": "y6",
                  "domain": [
                    0.5679012345679012,
                    0.6592592592592592
                  ],
                  "title": {
                    "text": "learning_rate"
                  },
                  "type": "log"
                },
                "xaxis7": {
                  "anchor": "y7",
                  "domain": [
                    0.6814814814814815,
                    0.7728395061728395
                  ],
                  "title": {
                    "text": "max_depth"
                  }
                },
                "xaxis8": {
                  "anchor": "y8",
                  "domain": [
                    0.7950617283950617,
                    0.8864197530864197
                  ],
                  "title": {
                    "text": "num_leaves"
                  }
                },
                "xaxis9": {
                  "anchor": "y9",
                  "domain": [
                    0.908641975308642,
                    1
                  ],
                  "title": {
                    "text": "subsample"
                  }
                },
                "yaxis": {
                  "anchor": "x",
                  "domain": [
                    0,
                    1
                  ],
                  "title": {
                    "text": "Objective Value"
                  }
                },
                "yaxis2": {
                  "anchor": "x2",
                  "domain": [
                    0,
                    1
                  ],
                  "matches": "y",
                  "showticklabels": false
                },
                "yaxis3": {
                  "anchor": "x3",
                  "domain": [
                    0,
                    1
                  ],
                  "matches": "y",
                  "showticklabels": false
                },
                "yaxis4": {
                  "anchor": "x4",
                  "domain": [
                    0,
                    1
                  ],
                  "matches": "y",
                  "showticklabels": false
                },
                "yaxis5": {
                  "anchor": "x5",
                  "domain": [
                    0,
                    1
                  ],
                  "matches": "y",
                  "showticklabels": false
                },
                "yaxis6": {
                  "anchor": "x6",
                  "domain": [
                    0,
                    1
                  ],
                  "matches": "y",
                  "showticklabels": false
                },
                "yaxis7": {
                  "anchor": "x7",
                  "domain": [
                    0,
                    1
                  ],
                  "matches": "y",
                  "showticklabels": false
                },
                "yaxis8": {
                  "anchor": "x8",
                  "domain": [
                    0,
                    1
                  ],
                  "matches": "y",
                  "showticklabels": false
                },
                "yaxis9": {
                  "anchor": "x9",
                  "domain": [
                    0,
                    1
                  ],
                  "matches": "y",
                  "showticklabels": false
                }
              }
            }
          },
          "metadata": {},
          "output_type": "display_data"
        }
      ],
      "source": [
        "optuna.visualization.plot_slice(study_bohb)"
      ]
    },
    {
      "cell_type": "markdown",
      "metadata": {},
      "source": [
        "#### Dominant Profile Plot\n",
        "The last plot shows all different hyperparameter profiles. This plot becomes increasingly less useful if the number of trials increases (and even more so when no pruning strategies are used). \n",
        "However, we can clearly see on this plot that there is a 'dominant profile' which leads to the best performance metric (see the darkest profiles corresponds to the better models). "
      ]
    },
    {
      "cell_type": "code",
      "execution_count": 32,
      "metadata": {
        "colab": {
          "base_uri": "https://localhost:8080/",
          "height": 542
        },
        "id": "bBd63INHs0-i",
        "outputId": "5d20e8e0-b522-44eb-88c8-ccd7231d1fee"
      },
      "outputs": [
        {
          "data": {
            "application/vnd.plotly.v1+json": {
              "config": {
                "plotlyServerURL": "https://plot.ly"
              },
              "data": [
                {
                  "dimensions": [
                    {
                      "label": "Objective Value",
                      "range": [
                        0.39100964692210743,
                        0.5058282041012051
                      ],
                      "values": [
                        0.47182454590445344,
                        0.4125850206946156,
                        0.4083204760130705,
                        0.5058282041012051,
                        0.46518999299607117,
                        0.408298385276862,
                        0.40280229177104465,
                        0.40196019903375113,
                        0.3999257727416247,
                        0.4185403690811756,
                        0.4015108665961956,
                        0.39756512174258274,
                        0.40816268542950396,
                        0.3997165667471344,
                        0.46337821142517516,
                        0.41102600025112634,
                        0.3943227432912572,
                        0.39593070446472706,
                        0.39707660903698055,
                        0.39715717618133045,
                        0.41128484374708885,
                        0.3944245042646143,
                        0.3964012853075667,
                        0.3954929769970621,
                        0.39508589038355996,
                        0.3946006069666297,
                        0.43645361303096475,
                        0.3950227219527202,
                        0.39466930783033066,
                        0.39478900256184496,
                        0.4067766330535261,
                        0.40386487208893,
                        0.40251973400399793,
                        0.3941825766657918,
                        0.39284941842127613,
                        0.4174591187041383,
                        0.4176633305799233,
                        0.3941303796664998,
                        0.3937298979353375,
                        0.40249625655891785,
                        0.39321342232384354,
                        0.40245105611097504,
                        0.39427081449593093,
                        0.39760053522577327,
                        0.39780600934901356,
                        0.39675678925966174,
                        0.3943122143606757,
                        0.39298504639813214,
                        0.4170313919121988,
                        0.3934788945883433,
                        0.39376932515489665,
                        0.3960756898431353,
                        0.4157470847562183,
                        0.3936146380718846,
                        0.3938994143313861,
                        0.40097133134437385,
                        0.39386035288866894,
                        0.39779637086606723,
                        0.39366744284007943,
                        0.3931265288516461,
                        0.39368578937012516,
                        0.40475595004089354,
                        0.39724721859799283,
                        0.3937904174167576,
                        0.393836574856595,
                        0.4037198993726648,
                        0.3937909629372945,
                        0.392959000230509,
                        0.3932280801975128,
                        0.39535287374704425,
                        0.39876933675004483,
                        0.3931930356872799,
                        0.39332160563436164,
                        0.3959524227823709,
                        0.39733255526202826,
                        0.39467746864533565,
                        0.39474331774124266,
                        0.39319504331581084,
                        0.3936189729453219,
                        0.39220380760591267,
                        0.3928218393215159,
                        0.39350113039029194,
                        0.3934727976855027,
                        0.3945471784846742,
                        0.40359675232024034,
                        0.3930626749114235,
                        0.39651021141889636,
                        0.39462657640045135,
                        0.3955540984094676,
                        0.3987576572193797,
                        0.39226344325866025,
                        0.3958805605412228,
                        0.39211828382605424,
                        0.40106770845289375,
                        0.3926766230986042,
                        0.39214380227432283,
                        0.393233253472567,
                        0.4059720904449307,
                        0.39244023923585736,
                        0.39645685675608033,
                        0.39342856777840945,
                        0.39218267536146034,
                        0.4106604519262262,
                        0.3950275943276543,
                        0.39346980510503216,
                        0.39297605217096376,
                        0.3929012267511546,
                        0.39236552911367417,
                        0.39315250009672825,
                        0.39194603158879054,
                        0.39326492559970805,
                        0.39235805486874337,
                        0.39100964692210743
                      ]
                    },
                    {
                      "label": "bagging_fraction",
                      "range": [
                        0.06736746669325155,
                        0.9978947897444111
                      ],
                      "values": [
                        0.06736746669325155,
                        0.5953348453354319,
                        0.5375607238773513,
                        0.1946560514738267,
                        0.13410215301489115,
                        0.8151460120530327,
                        0.6628409887799267,
                        0.8914688092093838,
                        0.9102234247750498,
                        0.950897816319921,
                        0.9176227028868053,
                        0.9978947897444111,
                        0.23400723941377288,
                        0.8469983630668692,
                        0.08402907307861196,
                        0.8690803502319039,
                        0.70516682881162,
                        0.6885663590304428,
                        0.8339460309289268,
                        0.8349451911723724,
                        0.7346059714699192,
                        0.8160611780949852,
                        0.8354075950698343,
                        0.8210460501315223,
                        0.7003277393482287,
                        0.7135911855295605,
                        0.5356334483344497,
                        0.6890292024501781,
                        0.6264505422338504,
                        0.6204196542309302,
                        0.27771175349522503,
                        0.5647238383681642,
                        0.6071547859232412,
                        0.6658586194081824,
                        0.6067432593815042,
                        0.6651653896633988,
                        0.9181677106763511,
                        0.47330946562503373,
                        0.3558045421240365,
                        0.6633674707646006,
                        0.4798554059298554,
                        0.745961703546751,
                        0.7242138606923737,
                        0.6925461043722679,
                        0.6507217761241639,
                        0.6492369771673477,
                        0.6824521788514897,
                        0.7407659685514356,
                        0.6854505101251392,
                        0.6223479714312589,
                        0.6286075785123246,
                        0.7858005404694666,
                        0.6903288486336981,
                        0.5892220125317077,
                        0.5969700982719193,
                        0.7089425863609183,
                        0.7250244545989782,
                        0.8152975576113446,
                        0.7182566738700737,
                        0.6235851110005406,
                        0.5990358019675079,
                        0.9848851128235089,
                        0.29926650821350603,
                        0.6256550467471904,
                        0.6163221732344811,
                        0.9269032096422352,
                        0.5970569037622206,
                        0.6010056303351929,
                        0.846696480511081,
                        0.31717472814247294,
                        0.8264133110837383,
                        0.5800018585959538,
                        0.559240948024627,
                        0.7862041155460718,
                        0.28675512408943765,
                        0.28492970341038953,
                        0.28154251778136474,
                        0.5060088795327812,
                        0.5671926689784348,
                        0.5140052389038778,
                        0.5201444300772864,
                        0.542988169270632,
                        0.5235672742227596,
                        0.2711652988889458,
                        0.9642828912369394,
                        0.5497138251328568,
                        0.8976911826697012,
                        0.2671984562371063,
                        0.2607307768385048,
                        0.9863752550713842,
                        0.25151708272973416,
                        0.7899707163794455,
                        0.5715955808429207,
                        0.9745639114258717,
                        0.522466571307996,
                        0.5738035246792723,
                        0.5700653776347924,
                        0.7694076029101755,
                        0.4878142502425427,
                        0.9939089014245673,
                        0.5328224771638266,
                        0.49514639518102227,
                        0.5765770320217805,
                        0.9635706170362742,
                        0.25837683897578484,
                        0.5408117017974094,
                        0.49146076854914295,
                        0.11204855807979475,
                        0.48752437594510684,
                        0.48680861553185584,
                        0.45217346210937714,
                        0.4960170080033335,
                        0.4677980650258291
                      ]
                    },
                    {
                      "label": "bagging_freq",
                      "range": [
                        0,
                        10
                      ],
                      "values": [
                        9,
                        10,
                        6,
                        9,
                        2,
                        8,
                        7,
                        7,
                        3,
                        0,
                        3,
                        3,
                        0,
                        1,
                        9,
                        1,
                        0,
                        0,
                        1,
                        1,
                        7,
                        0,
                        0,
                        0,
                        0,
                        0,
                        10,
                        0,
                        0,
                        0,
                        1,
                        5,
                        5,
                        0,
                        0,
                        1,
                        8,
                        0,
                        0,
                        9,
                        0,
                        4,
                        0,
                        0,
                        0,
                        0,
                        0,
                        0,
                        4,
                        0,
                        0,
                        8,
                        0,
                        0,
                        0,
                        0,
                        0,
                        9,
                        0,
                        0,
                        0,
                        0,
                        0,
                        0,
                        0,
                        2,
                        0,
                        0,
                        2,
                        0,
                        2,
                        0,
                        0,
                        8,
                        0,
                        0,
                        0,
                        0,
                        0,
                        0,
                        0,
                        0,
                        0,
                        0,
                        7,
                        0,
                        6,
                        0,
                        0,
                        8,
                        0,
                        1,
                        0,
                        7,
                        0,
                        0,
                        0,
                        7,
                        0,
                        3,
                        0,
                        0,
                        7,
                        3,
                        0,
                        0,
                        0,
                        0,
                        0,
                        0,
                        0,
                        0,
                        0
                      ]
                    },
                    {
                      "label": "feature_fraction",
                      "range": [
                        0.324193193099957,
                        0.9970123962440444
                      ],
                      "values": [
                        0.43663751871390155,
                        0.5658733148131218,
                        0.8651074452302434,
                        0.7445049538614674,
                        0.4626273195512892,
                        0.691036791108105,
                        0.7892464234959858,
                        0.82983479691692,
                        0.8414554130829983,
                        0.9346993135094779,
                        0.897178699472991,
                        0.8930974936870368,
                        0.724756599346498,
                        0.7347997113871726,
                        0.6920151220393455,
                        0.49214796460769017,
                        0.7423830008378178,
                        0.7484986525157964,
                        0.7465867329288225,
                        0.8586744514070223,
                        0.6913533692973244,
                        0.7403631578593338,
                        0.7562024416796088,
                        0.7356623081616244,
                        0.6244414989404267,
                        0.6013485038572651,
                        0.3470286072652672,
                        0.678934623118951,
                        0.6769178575086269,
                        0.6689826632794117,
                        0.5993221172906814,
                        0.740973966055671,
                        0.7471914215199931,
                        0.6506019387651358,
                        0.5785595258895769,
                        0.756007347486303,
                        0.324193193099957,
                        0.639412519949691,
                        0.6368234760203745,
                        0.7444914163217694,
                        0.6163868866720256,
                        0.8067833676098183,
                        0.5926312328258676,
                        0.7779254446678057,
                        0.791828104955442,
                        0.8235036259292581,
                        0.7703706451240586,
                        0.6644188022770434,
                        0.9922432623167968,
                        0.6154286935703133,
                        0.6858846803433195,
                        0.6766784151535351,
                        0.9283821163424931,
                        0.6830777086131073,
                        0.6778449882752948,
                        0.8727150556755139,
                        0.577237234974365,
                        0.6356858560802915,
                        0.5896571060054899,
                        0.593486110533242,
                        0.580023320896297,
                        0.629044162750725,
                        0.673327580171551,
                        0.6217929515825185,
                        0.6232261403411506,
                        0.6251431568808952,
                        0.6413145969596765,
                        0.6105467557776706,
                        0.5843543601889108,
                        0.6367807751665754,
                        0.8450388651586471,
                        0.5994815311117255,
                        0.5969222653964361,
                        0.6421559138746034,
                        0.626736888461071,
                        0.628433326450212,
                        0.6143180378123375,
                        0.5974728847482131,
                        0.5947799225880679,
                        0.5922744676509405,
                        0.5909625619840948,
                        0.5997809878025373,
                        0.5884935465434391,
                        0.5642062417108631,
                        0.8765452386682083,
                        0.5987576852963401,
                        0.6312678397811937,
                        0.6334995698944497,
                        0.569938012394912,
                        0.9561631146443165,
                        0.5630635408884882,
                        0.8483346516831034,
                        0.5861408000095595,
                        0.9568773603387386,
                        0.5964517531868996,
                        0.5875440781933112,
                        0.5894002358759526,
                        0.9970123962440444,
                        0.5832506019578275,
                        0.8441232013073661,
                        0.5919323067911171,
                        0.5994588845260913,
                        0.7083086681290474,
                        0.6616504829354268,
                        0.6483035989949784,
                        0.5985437827391374,
                        0.628668796619289,
                        0.5715615897995475,
                        0.6297518387557082,
                        0.618333754512497,
                        0.6258171392828362,
                        0.6191322742046423,
                        0.6274713770566759
                      ]
                    },
                    {
                      "label": "lambda_l1",
                      "range": [
                        0.018236128715875655,
                        9.820745575845315
                      ],
                      "values": [
                        3.325674692714639,
                        4.15490161612618,
                        1.7565772079721231,
                        9.820745575845315,
                        5.9857253453422885,
                        5.853420867241589,
                        3.5447876553771467,
                        0.20661620262668645,
                        0.13996635501069044,
                        2.4588629521900818,
                        0.4100087574564434,
                        0.17594149762623928,
                        1.092125060905833,
                        0.036323053434674096,
                        0.025180425561442954,
                        5.50618416364522,
                        1.3600471536391519,
                        1.6137984241012582,
                        0.8652598376495231,
                        4.260836111400499,
                        1.4774158322850794,
                        3.823678905549687,
                        3.6666512946780716,
                        2.378348609569319,
                        3.877726983678577,
                        2.3763892785799667,
                        3.6589841557613934,
                        2.011827912846216,
                        2.7770179825271244,
                        3.2845003186519808,
                        2.1596009878059363,
                        2.7032403300279264,
                        2.6552234193463766,
                        3.320300425165037,
                        2.6720135981157704,
                        8.842844617546664,
                        1.356865539357549,
                        0.5516386306716439,
                        1.1629203102308519,
                        0.018236128715875655,
                        0.7723179809742298,
                        2.467123352194654,
                        1.815598385568802,
                        5.7278855254997225,
                        3.20211034846529,
                        3.124447808124593,
                        1.32048207509968,
                        1.8847401293261985,
                        5.546395244713862,
                        2.6673895401237937,
                        2.0832401759945003,
                        1.2526005048624738,
                        3.770763221048461,
                        2.1554104987024183,
                        2.8143322932246204,
                        3.721999395639215,
                        1.9133608950987624,
                        3.162887864153314,
                        2.48733328614336,
                        1.9759834849001598,
                        2.4861822029261855,
                        3.141899079583116,
                        2.4612628842061395,
                        2.539467088094094,
                        2.880645527769003,
                        2.377927176591546,
                        2.782308322947154,
                        2.557063284650453,
                        1.6359590060638678,
                        0.5234456822976403,
                        1.5526006289877632,
                        2.4125657770023348,
                        2.33461804961952,
                        1.510975622460943,
                        0.5744666596125554,
                        0.6371133155969914,
                        0.5859873230180421,
                        2.6001864250961457,
                        2.836694888886232,
                        2.2093124058923386,
                        2.564660801322492,
                        2.446816011237262,
                        2.480084825856134,
                        0.7397947127743352,
                        0.6497143047704634,
                        2.5814409685307242,
                        1.4341931211551897,
                        0.6566579699683364,
                        0.4630882886406542,
                        1.5547667017390339,
                        0.5836939313231206,
                        1.6945085650094753,
                        1.9948751433700995,
                        0.03793794517758209,
                        1.7352423406169473,
                        1.7278272188774633,
                        1.7707982271213123,
                        0.30938106416714994,
                        1.5128837849760286,
                        1.3462444251350965,
                        1.5406875008624892,
                        1.536081076842625,
                        1.8713700736729673,
                        2.1159055189355627,
                        0.6565466137156237,
                        1.722250712081506,
                        1.867999899386016,
                        0.02584212386615148,
                        1.8125097643786074,
                        1.5172895078422206,
                        1.4446626129478397,
                        1.7805435723712846,
                        1.7278750629875486
                      ]
                    },
                    {
                      "label": "lambda_l2",
                      "range": [
                        0.03640681010362844,
                        9.981982128042333
                      ],
                      "values": [
                        9.425078083258105,
                        7.855833097643198,
                        3.49527057878423,
                        2.0815507001985702,
                        9.333549848879878,
                        7.886042153043641,
                        3.9875198007808836,
                        3.8264936774446943,
                        2.9772335271972428,
                        1.175972158619476,
                        2.517533590883899,
                        3.3888485780313538,
                        2.368633419340126,
                        3.4414797755796296,
                        0.21936189818736462,
                        3.5199181045762904,
                        3.222611088442965,
                        3.7168397635788333,
                        3.266522530917449,
                        4.369098499872072,
                        4.944700200403286,
                        0.04225362667660981,
                        0.47409975642803337,
                        0.04647962760441168,
                        0.5385754501196525,
                        0.03640681010362844,
                        5.81549867287599,
                        2.1540908730474966,
                        2.0867872647223065,
                        1.896885657528982,
                        0.14761991926099727,
                        3.487133408451908,
                        3.6703402119945814,
                        0.8907787089126139,
                        1.466926276809562,
                        0.15795248422869834,
                        6.766430960864835,
                        3.0991615565917088,
                        3.0830694407019315,
                        9.815697938434386,
                        9.311535212885783,
                        2.6823296925779503,
                        3.085129081207871,
                        1.1806698356689949,
                        2.904063639139902,
                        4.20111301691701,
                        4.175958971429672,
                        2.769654091068908,
                        3.640521588071767,
                        1.7483574111298148,
                        2.166225658212906,
                        4.473456011474559,
                        2.3001709166665476,
                        1.891583276853213,
                        2.1626374656237553,
                        4.292766367564747,
                        1.5870876272182892,
                        1.4228389381800288,
                        3.175012126363338,
                        3.177224322709729,
                        2.783474380027159,
                        5.579706100545099,
                        2.324389935310474,
                        2.4219329984683657,
                        3.29079134006105,
                        7.534912792351233,
                        2.908442769855381,
                        1.9421722663354068,
                        7.807197732861173,
                        9.93560635691765,
                        8.07073866768583,
                        1.20715917409522,
                        1.5244922493864483,
                        8.605836492107674,
                        8.520436096705257,
                        7.9657261741461145,
                        9.072146123316024,
                        2.0020422555722015,
                        2.098523721945355,
                        1.3025386993486499,
                        1.2643548104704392,
                        1.4127405303071736,
                        1.1053757302260483,
                        7.897990022027882,
                        7.76595061444001,
                        0.9224296866491499,
                        3.5287487477485175,
                        9.374061474545874,
                        9.891725755057024,
                        8.42763860046285,
                        9.341342238939019,
                        6.607551829663846,
                        1.3361176039864435,
                        8.995479800437652,
                        1.654331395216778,
                        9.981982128042333,
                        9.309813311338539,
                        9.627070592616779,
                        9.43330538389596,
                        6.83261328415389,
                        9.397069191671564,
                        9.488524958609332,
                        7.166161108238126,
                        6.966306475589468,
                        9.6669051611127,
                        9.97538905445987,
                        9.24574948725193,
                        9.634840173398947,
                        9.15104231486669,
                        9.196914444474794,
                        9.11819022953152,
                        9.286197320437493,
                        9.264696921721434
                      ]
                    },
                    {
                      "label": "learning_rate",
                      "range": [
                        -1.83746225097176,
                        -0.3501291668312674
                      ],
                      "ticktext": [
                        "0.0145",
                        "0.1",
                        "0.447"
                      ],
                      "tickvals": [
                        -1.83746225097176,
                        -1,
                        -0.3501291668312674
                      ],
                      "values": [
                        -0.8923223198638207,
                        -0.43183219095907904,
                        -1.3024027130189806,
                        -1.83746225097176,
                        -1.2303188352936851,
                        -1.1775102749814441,
                        -0.9207520003280979,
                        -0.9474995114580927,
                        -0.9367941408779502,
                        -0.8755647941923491,
                        -0.7332519465273395,
                        -0.8832955265144884,
                        -1.0159746101979188,
                        -1.0401275800923708,
                        -1.7964682561039116,
                        -0.510318863598358,
                        -1.0659051347129518,
                        -1.0786107512088563,
                        -1.0692657154672578,
                        -1.024129785840648,
                        -1.1718939928497398,
                        -1.0077720588365262,
                        -1.0168489317440048,
                        -1.1311079241900452,
                        -1.1699046596504443,
                        -1.15908293421729,
                        -0.797849383649236,
                        -1.1475811489422056,
                        -1.1505966954588394,
                        -0.9635149460391135,
                        -1.169033582300489,
                        -1.372201982614494,
                        -1.3858889248584794,
                        -1.2023840057450326,
                        -1.1783252038188832,
                        -0.403282479749663,
                        -0.6708353760564043,
                        -1.2795663867639744,
                        -1.283010611425558,
                        -1.430877033643145,
                        -1.2837105173955807,
                        -1.382044098930641,
                        -1.2720901033877088,
                        -0.9925015270927872,
                        -0.9234985595813895,
                        -0.8973963057594422,
                        -1.3141832280631447,
                        -1.211317074184766,
                        -1.2757741555329754,
                        -1.1625410497323678,
                        -1.1712097784328213,
                        -1.1147129365259587,
                        -0.3501291668312674,
                        -1.1481747004787506,
                        -1.1960185905659888,
                        -0.6024440239034531,
                        -1.3409902896705606,
                        -1.0107883265725472,
                        -1.1076594916206297,
                        -1.1050884317970842,
                        -1.2454669260988696,
                        -0.5507681498199392,
                        -0.7216174553762327,
                        -1.2158358627733346,
                        -1.2244300600225209,
                        -0.5593020824857062,
                        -1.2550753827027572,
                        -1.1822259714709613,
                        -0.9487451869378537,
                        -1.0199647401440102,
                        -0.9515672420174441,
                        -1.2539483253089811,
                        -1.25743708105474,
                        -1.0752339343417066,
                        -0.9787913527557838,
                        -1.0736970695022732,
                        -1.0852562167974378,
                        -1.2304265614772356,
                        -1.2319839880378944,
                        -1.2459197102259787,
                        -1.2417941573124973,
                        -1.2230608474939548,
                        -1.2259529329455074,
                        -1.09221806472457,
                        -0.7481371617790386,
                        -1.2230522617077069,
                        -0.8298453357916673,
                        -1.115450802089921,
                        -1.0784775086039478,
                        -0.7844165016490349,
                        -1.1026189168071283,
                        -1.050150710566237,
                        -1.2362901434771287,
                        -0.7927838970792254,
                        -1.3045819753144356,
                        -1.1908696232093696,
                        -1.2260602016586684,
                        -0.7868943851080094,
                        -1.1293966194146043,
                        -1.0551718699413477,
                        -1.1184602096849134,
                        -1.1414613111619314,
                        -0.8606836696317544,
                        -1.1135401738472412,
                        -1.0860252972904068,
                        -1.1149199997863672,
                        -1.1357036348000484,
                        -1.1281422002862083,
                        -1.1262477935853914,
                        -1.0533715248514535,
                        -1.0504039186940202,
                        -1.0659708039878921,
                        -1.0791868169171148
                      ]
                    },
                    {
                      "label": "max_depth",
                      "range": [
                        9,
                        50
                      ],
                      "values": [
                        22,
                        12,
                        14,
                        31,
                        42,
                        12,
                        21,
                        21,
                        35,
                        48,
                        33,
                        35,
                        34,
                        33,
                        17,
                        35,
                        50,
                        50,
                        40,
                        39,
                        36,
                        50,
                        50,
                        47,
                        50,
                        47,
                        41,
                        50,
                        46,
                        45,
                        13,
                        21,
                        20,
                        38,
                        49,
                        46,
                        15,
                        41,
                        37,
                        11,
                        37,
                        14,
                        40,
                        19,
                        15,
                        15,
                        41,
                        39,
                        9,
                        48,
                        46,
                        28,
                        25,
                        44,
                        44,
                        27,
                        38,
                        29,
                        39,
                        39,
                        40,
                        27,
                        19,
                        41,
                        37,
                        27,
                        38,
                        40,
                        33,
                        34,
                        36,
                        19,
                        15,
                        21,
                        20,
                        18,
                        14,
                        21,
                        21,
                        19,
                        21,
                        20,
                        20,
                        49,
                        47,
                        24,
                        19,
                        47,
                        50,
                        49,
                        50,
                        24,
                        26,
                        48,
                        18,
                        19,
                        19,
                        49,
                        18,
                        21,
                        18,
                        16,
                        43,
                        21,
                        47,
                        16,
                        18,
                        47,
                        18,
                        18,
                        18,
                        18,
                        18
                      ]
                    },
                    {
                      "label": "num_leaves",
                      "range": [
                        13,
                        200
                      ],
                      "values": [
                        188,
                        50,
                        50,
                        38,
                        190,
                        55,
                        84,
                        95,
                        93,
                        13,
                        140,
                        136,
                        26,
                        115,
                        141,
                        157,
                        121,
                        118,
                        108,
                        151,
                        34,
                        178,
                        178,
                        178,
                        180,
                        179,
                        17,
                        174,
                        176,
                        172,
                        185,
                        152,
                        154,
                        191,
                        200,
                        168,
                        66,
                        139,
                        133,
                        146,
                        135,
                        134,
                        127,
                        154,
                        160,
                        179,
                        119,
                        128,
                        69,
                        189,
                        184,
                        82,
                        85,
                        174,
                        178,
                        66,
                        118,
                        86,
                        140,
                        142,
                        135,
                        120,
                        144,
                        133,
                        135,
                        121,
                        130,
                        149,
                        159,
                        149,
                        156,
                        149,
                        147,
                        97,
                        150,
                        140,
                        108,
                        154,
                        150,
                        154,
                        159,
                        153,
                        154,
                        171,
                        64,
                        161,
                        67,
                        193,
                        195,
                        64,
                        193,
                        148,
                        165,
                        70,
                        166,
                        160,
                        153,
                        70,
                        164,
                        148,
                        163,
                        167,
                        30,
                        200,
                        197,
                        158,
                        160,
                        192,
                        161,
                        161,
                        160,
                        161,
                        161
                      ]
                    },
                    {
                      "label": "subsample",
                      "range": [
                        0.1,
                        1
                      ],
                      "values": [
                        0.7000000000000001,
                        0.5,
                        0.8,
                        0.7000000000000001,
                        0.30000000000000004,
                        0.7000000000000001,
                        0.5,
                        0.30000000000000004,
                        0.30000000000000004,
                        1,
                        0.2,
                        0.30000000000000004,
                        0.8,
                        0.2,
                        0.6,
                        0.1,
                        0.4,
                        0.4,
                        0.2,
                        0.4,
                        0.4,
                        0.2,
                        0.2,
                        0.1,
                        0.1,
                        0.1,
                        0.1,
                        0.1,
                        0.1,
                        0.1,
                        1,
                        0.2,
                        0.1,
                        0.8,
                        0.1,
                        0.7000000000000001,
                        0.7000000000000001,
                        0.30000000000000004,
                        0.30000000000000004,
                        0.4,
                        0.2,
                        0.1,
                        0.2,
                        0.1,
                        0.2,
                        0.2,
                        0.1,
                        0.1,
                        0.9,
                        0.1,
                        0.1,
                        0.4,
                        0.9,
                        0.1,
                        0.1,
                        1,
                        0.1,
                        0.30000000000000004,
                        0.1,
                        0.1,
                        0.1,
                        1,
                        0.7000000000000001,
                        0.1,
                        0.1,
                        1,
                        0.1,
                        0.1,
                        0.5,
                        0.8,
                        0.5,
                        0.1,
                        0.1,
                        0.2,
                        0.8,
                        0.8,
                        0.8,
                        0.1,
                        0.1,
                        0.1,
                        0.1,
                        0.1,
                        0.1,
                        0.8,
                        0.4,
                        0.1,
                        0.30000000000000004,
                        0.8,
                        0.8,
                        0.4,
                        0.8,
                        0.4,
                        0.1,
                        0.4,
                        0.1,
                        0.1,
                        0.1,
                        0.4,
                        0.1,
                        0.4,
                        0.1,
                        0.1,
                        0.6,
                        0.30000000000000004,
                        0.8,
                        0.1,
                        0.1,
                        0.8,
                        0.1,
                        0.1,
                        0.1,
                        0.1,
                        0.1
                      ]
                    }
                  ],
                  "labelangle": 30,
                  "labelside": "bottom",
                  "line": {
                    "color": [
                      0.47182454590445344,
                      0.4125850206946156,
                      0.4083204760130705,
                      0.5058282041012051,
                      0.46518999299607117,
                      0.408298385276862,
                      0.40280229177104465,
                      0.40196019903375113,
                      0.3999257727416247,
                      0.4185403690811756,
                      0.4015108665961956,
                      0.39756512174258274,
                      0.40816268542950396,
                      0.3997165667471344,
                      0.46337821142517516,
                      0.41102600025112634,
                      0.3943227432912572,
                      0.39593070446472706,
                      0.39707660903698055,
                      0.39715717618133045,
                      0.41128484374708885,
                      0.3944245042646143,
                      0.3964012853075667,
                      0.3954929769970621,
                      0.39508589038355996,
                      0.3946006069666297,
                      0.43645361303096475,
                      0.3950227219527202,
                      0.39466930783033066,
                      0.39478900256184496,
                      0.4067766330535261,
                      0.40386487208893,
                      0.40251973400399793,
                      0.3941825766657918,
                      0.39284941842127613,
                      0.4174591187041383,
                      0.4176633305799233,
                      0.3941303796664998,
                      0.3937298979353375,
                      0.40249625655891785,
                      0.39321342232384354,
                      0.40245105611097504,
                      0.39427081449593093,
                      0.39760053522577327,
                      0.39780600934901356,
                      0.39675678925966174,
                      0.3943122143606757,
                      0.39298504639813214,
                      0.4170313919121988,
                      0.3934788945883433,
                      0.39376932515489665,
                      0.3960756898431353,
                      0.4157470847562183,
                      0.3936146380718846,
                      0.3938994143313861,
                      0.40097133134437385,
                      0.39386035288866894,
                      0.39779637086606723,
                      0.39366744284007943,
                      0.3931265288516461,
                      0.39368578937012516,
                      0.40475595004089354,
                      0.39724721859799283,
                      0.3937904174167576,
                      0.393836574856595,
                      0.4037198993726648,
                      0.3937909629372945,
                      0.392959000230509,
                      0.3932280801975128,
                      0.39535287374704425,
                      0.39876933675004483,
                      0.3931930356872799,
                      0.39332160563436164,
                      0.3959524227823709,
                      0.39733255526202826,
                      0.39467746864533565,
                      0.39474331774124266,
                      0.39319504331581084,
                      0.3936189729453219,
                      0.39220380760591267,
                      0.3928218393215159,
                      0.39350113039029194,
                      0.3934727976855027,
                      0.3945471784846742,
                      0.40359675232024034,
                      0.3930626749114235,
                      0.39651021141889636,
                      0.39462657640045135,
                      0.3955540984094676,
                      0.3987576572193797,
                      0.39226344325866025,
                      0.3958805605412228,
                      0.39211828382605424,
                      0.40106770845289375,
                      0.3926766230986042,
                      0.39214380227432283,
                      0.393233253472567,
                      0.4059720904449307,
                      0.39244023923585736,
                      0.39645685675608033,
                      0.39342856777840945,
                      0.39218267536146034,
                      0.4106604519262262,
                      0.3950275943276543,
                      0.39346980510503216,
                      0.39297605217096376,
                      0.3929012267511546,
                      0.39236552911367417,
                      0.39315250009672825,
                      0.39194603158879054,
                      0.39326492559970805,
                      0.39235805486874337,
                      0.39100964692210743
                    ],
                    "colorbar": {
                      "title": {
                        "text": "Objective Value"
                      }
                    },
                    "colorscale": [
                      [
                        0,
                        "rgb(247,251,255)"
                      ],
                      [
                        0.125,
                        "rgb(222,235,247)"
                      ],
                      [
                        0.25,
                        "rgb(198,219,239)"
                      ],
                      [
                        0.375,
                        "rgb(158,202,225)"
                      ],
                      [
                        0.5,
                        "rgb(107,174,214)"
                      ],
                      [
                        0.625,
                        "rgb(66,146,198)"
                      ],
                      [
                        0.75,
                        "rgb(33,113,181)"
                      ],
                      [
                        0.875,
                        "rgb(8,81,156)"
                      ],
                      [
                        1,
                        "rgb(8,48,107)"
                      ]
                    ],
                    "reversescale": true,
                    "showscale": true
                  },
                  "type": "parcoords"
                }
              ],
              "layout": {
                "template": {
                  "data": {
                    "bar": [
                      {
                        "error_x": {
                          "color": "#2a3f5f"
                        },
                        "error_y": {
                          "color": "#2a3f5f"
                        },
                        "marker": {
                          "line": {
                            "color": "#E5ECF6",
                            "width": 0.5
                          },
                          "pattern": {
                            "fillmode": "overlay",
                            "size": 10,
                            "solidity": 0.2
                          }
                        },
                        "type": "bar"
                      }
                    ],
                    "barpolar": [
                      {
                        "marker": {
                          "line": {
                            "color": "#E5ECF6",
                            "width": 0.5
                          },
                          "pattern": {
                            "fillmode": "overlay",
                            "size": 10,
                            "solidity": 0.2
                          }
                        },
                        "type": "barpolar"
                      }
                    ],
                    "carpet": [
                      {
                        "aaxis": {
                          "endlinecolor": "#2a3f5f",
                          "gridcolor": "white",
                          "linecolor": "white",
                          "minorgridcolor": "white",
                          "startlinecolor": "#2a3f5f"
                        },
                        "baxis": {
                          "endlinecolor": "#2a3f5f",
                          "gridcolor": "white",
                          "linecolor": "white",
                          "minorgridcolor": "white",
                          "startlinecolor": "#2a3f5f"
                        },
                        "type": "carpet"
                      }
                    ],
                    "choropleth": [
                      {
                        "colorbar": {
                          "outlinewidth": 0,
                          "ticks": ""
                        },
                        "type": "choropleth"
                      }
                    ],
                    "contour": [
                      {
                        "colorbar": {
                          "outlinewidth": 0,
                          "ticks": ""
                        },
                        "colorscale": [
                          [
                            0,
                            "#0d0887"
                          ],
                          [
                            0.1111111111111111,
                            "#46039f"
                          ],
                          [
                            0.2222222222222222,
                            "#7201a8"
                          ],
                          [
                            0.3333333333333333,
                            "#9c179e"
                          ],
                          [
                            0.4444444444444444,
                            "#bd3786"
                          ],
                          [
                            0.5555555555555556,
                            "#d8576b"
                          ],
                          [
                            0.6666666666666666,
                            "#ed7953"
                          ],
                          [
                            0.7777777777777778,
                            "#fb9f3a"
                          ],
                          [
                            0.8888888888888888,
                            "#fdca26"
                          ],
                          [
                            1,
                            "#f0f921"
                          ]
                        ],
                        "type": "contour"
                      }
                    ],
                    "contourcarpet": [
                      {
                        "colorbar": {
                          "outlinewidth": 0,
                          "ticks": ""
                        },
                        "type": "contourcarpet"
                      }
                    ],
                    "heatmap": [
                      {
                        "colorbar": {
                          "outlinewidth": 0,
                          "ticks": ""
                        },
                        "colorscale": [
                          [
                            0,
                            "#0d0887"
                          ],
                          [
                            0.1111111111111111,
                            "#46039f"
                          ],
                          [
                            0.2222222222222222,
                            "#7201a8"
                          ],
                          [
                            0.3333333333333333,
                            "#9c179e"
                          ],
                          [
                            0.4444444444444444,
                            "#bd3786"
                          ],
                          [
                            0.5555555555555556,
                            "#d8576b"
                          ],
                          [
                            0.6666666666666666,
                            "#ed7953"
                          ],
                          [
                            0.7777777777777778,
                            "#fb9f3a"
                          ],
                          [
                            0.8888888888888888,
                            "#fdca26"
                          ],
                          [
                            1,
                            "#f0f921"
                          ]
                        ],
                        "type": "heatmap"
                      }
                    ],
                    "heatmapgl": [
                      {
                        "colorbar": {
                          "outlinewidth": 0,
                          "ticks": ""
                        },
                        "colorscale": [
                          [
                            0,
                            "#0d0887"
                          ],
                          [
                            0.1111111111111111,
                            "#46039f"
                          ],
                          [
                            0.2222222222222222,
                            "#7201a8"
                          ],
                          [
                            0.3333333333333333,
                            "#9c179e"
                          ],
                          [
                            0.4444444444444444,
                            "#bd3786"
                          ],
                          [
                            0.5555555555555556,
                            "#d8576b"
                          ],
                          [
                            0.6666666666666666,
                            "#ed7953"
                          ],
                          [
                            0.7777777777777778,
                            "#fb9f3a"
                          ],
                          [
                            0.8888888888888888,
                            "#fdca26"
                          ],
                          [
                            1,
                            "#f0f921"
                          ]
                        ],
                        "type": "heatmapgl"
                      }
                    ],
                    "histogram": [
                      {
                        "marker": {
                          "pattern": {
                            "fillmode": "overlay",
                            "size": 10,
                            "solidity": 0.2
                          }
                        },
                        "type": "histogram"
                      }
                    ],
                    "histogram2d": [
                      {
                        "colorbar": {
                          "outlinewidth": 0,
                          "ticks": ""
                        },
                        "colorscale": [
                          [
                            0,
                            "#0d0887"
                          ],
                          [
                            0.1111111111111111,
                            "#46039f"
                          ],
                          [
                            0.2222222222222222,
                            "#7201a8"
                          ],
                          [
                            0.3333333333333333,
                            "#9c179e"
                          ],
                          [
                            0.4444444444444444,
                            "#bd3786"
                          ],
                          [
                            0.5555555555555556,
                            "#d8576b"
                          ],
                          [
                            0.6666666666666666,
                            "#ed7953"
                          ],
                          [
                            0.7777777777777778,
                            "#fb9f3a"
                          ],
                          [
                            0.8888888888888888,
                            "#fdca26"
                          ],
                          [
                            1,
                            "#f0f921"
                          ]
                        ],
                        "type": "histogram2d"
                      }
                    ],
                    "histogram2dcontour": [
                      {
                        "colorbar": {
                          "outlinewidth": 0,
                          "ticks": ""
                        },
                        "colorscale": [
                          [
                            0,
                            "#0d0887"
                          ],
                          [
                            0.1111111111111111,
                            "#46039f"
                          ],
                          [
                            0.2222222222222222,
                            "#7201a8"
                          ],
                          [
                            0.3333333333333333,
                            "#9c179e"
                          ],
                          [
                            0.4444444444444444,
                            "#bd3786"
                          ],
                          [
                            0.5555555555555556,
                            "#d8576b"
                          ],
                          [
                            0.6666666666666666,
                            "#ed7953"
                          ],
                          [
                            0.7777777777777778,
                            "#fb9f3a"
                          ],
                          [
                            0.8888888888888888,
                            "#fdca26"
                          ],
                          [
                            1,
                            "#f0f921"
                          ]
                        ],
                        "type": "histogram2dcontour"
                      }
                    ],
                    "mesh3d": [
                      {
                        "colorbar": {
                          "outlinewidth": 0,
                          "ticks": ""
                        },
                        "type": "mesh3d"
                      }
                    ],
                    "parcoords": [
                      {
                        "line": {
                          "colorbar": {
                            "outlinewidth": 0,
                            "ticks": ""
                          }
                        },
                        "type": "parcoords"
                      }
                    ],
                    "pie": [
                      {
                        "automargin": true,
                        "type": "pie"
                      }
                    ],
                    "scatter": [
                      {
                        "marker": {
                          "colorbar": {
                            "outlinewidth": 0,
                            "ticks": ""
                          }
                        },
                        "type": "scatter"
                      }
                    ],
                    "scatter3d": [
                      {
                        "line": {
                          "colorbar": {
                            "outlinewidth": 0,
                            "ticks": ""
                          }
                        },
                        "marker": {
                          "colorbar": {
                            "outlinewidth": 0,
                            "ticks": ""
                          }
                        },
                        "type": "scatter3d"
                      }
                    ],
                    "scattercarpet": [
                      {
                        "marker": {
                          "colorbar": {
                            "outlinewidth": 0,
                            "ticks": ""
                          }
                        },
                        "type": "scattercarpet"
                      }
                    ],
                    "scattergeo": [
                      {
                        "marker": {
                          "colorbar": {
                            "outlinewidth": 0,
                            "ticks": ""
                          }
                        },
                        "type": "scattergeo"
                      }
                    ],
                    "scattergl": [
                      {
                        "marker": {
                          "colorbar": {
                            "outlinewidth": 0,
                            "ticks": ""
                          }
                        },
                        "type": "scattergl"
                      }
                    ],
                    "scattermapbox": [
                      {
                        "marker": {
                          "colorbar": {
                            "outlinewidth": 0,
                            "ticks": ""
                          }
                        },
                        "type": "scattermapbox"
                      }
                    ],
                    "scatterpolar": [
                      {
                        "marker": {
                          "colorbar": {
                            "outlinewidth": 0,
                            "ticks": ""
                          }
                        },
                        "type": "scatterpolar"
                      }
                    ],
                    "scatterpolargl": [
                      {
                        "marker": {
                          "colorbar": {
                            "outlinewidth": 0,
                            "ticks": ""
                          }
                        },
                        "type": "scatterpolargl"
                      }
                    ],
                    "scatterternary": [
                      {
                        "marker": {
                          "colorbar": {
                            "outlinewidth": 0,
                            "ticks": ""
                          }
                        },
                        "type": "scatterternary"
                      }
                    ],
                    "surface": [
                      {
                        "colorbar": {
                          "outlinewidth": 0,
                          "ticks": ""
                        },
                        "colorscale": [
                          [
                            0,
                            "#0d0887"
                          ],
                          [
                            0.1111111111111111,
                            "#46039f"
                          ],
                          [
                            0.2222222222222222,
                            "#7201a8"
                          ],
                          [
                            0.3333333333333333,
                            "#9c179e"
                          ],
                          [
                            0.4444444444444444,
                            "#bd3786"
                          ],
                          [
                            0.5555555555555556,
                            "#d8576b"
                          ],
                          [
                            0.6666666666666666,
                            "#ed7953"
                          ],
                          [
                            0.7777777777777778,
                            "#fb9f3a"
                          ],
                          [
                            0.8888888888888888,
                            "#fdca26"
                          ],
                          [
                            1,
                            "#f0f921"
                          ]
                        ],
                        "type": "surface"
                      }
                    ],
                    "table": [
                      {
                        "cells": {
                          "fill": {
                            "color": "#EBF0F8"
                          },
                          "line": {
                            "color": "white"
                          }
                        },
                        "header": {
                          "fill": {
                            "color": "#C8D4E3"
                          },
                          "line": {
                            "color": "white"
                          }
                        },
                        "type": "table"
                      }
                    ]
                  },
                  "layout": {
                    "annotationdefaults": {
                      "arrowcolor": "#2a3f5f",
                      "arrowhead": 0,
                      "arrowwidth": 1
                    },
                    "autotypenumbers": "strict",
                    "coloraxis": {
                      "colorbar": {
                        "outlinewidth": 0,
                        "ticks": ""
                      }
                    },
                    "colorscale": {
                      "diverging": [
                        [
                          0,
                          "#8e0152"
                        ],
                        [
                          0.1,
                          "#c51b7d"
                        ],
                        [
                          0.2,
                          "#de77ae"
                        ],
                        [
                          0.3,
                          "#f1b6da"
                        ],
                        [
                          0.4,
                          "#fde0ef"
                        ],
                        [
                          0.5,
                          "#f7f7f7"
                        ],
                        [
                          0.6,
                          "#e6f5d0"
                        ],
                        [
                          0.7,
                          "#b8e186"
                        ],
                        [
                          0.8,
                          "#7fbc41"
                        ],
                        [
                          0.9,
                          "#4d9221"
                        ],
                        [
                          1,
                          "#276419"
                        ]
                      ],
                      "sequential": [
                        [
                          0,
                          "#0d0887"
                        ],
                        [
                          0.1111111111111111,
                          "#46039f"
                        ],
                        [
                          0.2222222222222222,
                          "#7201a8"
                        ],
                        [
                          0.3333333333333333,
                          "#9c179e"
                        ],
                        [
                          0.4444444444444444,
                          "#bd3786"
                        ],
                        [
                          0.5555555555555556,
                          "#d8576b"
                        ],
                        [
                          0.6666666666666666,
                          "#ed7953"
                        ],
                        [
                          0.7777777777777778,
                          "#fb9f3a"
                        ],
                        [
                          0.8888888888888888,
                          "#fdca26"
                        ],
                        [
                          1,
                          "#f0f921"
                        ]
                      ],
                      "sequentialminus": [
                        [
                          0,
                          "#0d0887"
                        ],
                        [
                          0.1111111111111111,
                          "#46039f"
                        ],
                        [
                          0.2222222222222222,
                          "#7201a8"
                        ],
                        [
                          0.3333333333333333,
                          "#9c179e"
                        ],
                        [
                          0.4444444444444444,
                          "#bd3786"
                        ],
                        [
                          0.5555555555555556,
                          "#d8576b"
                        ],
                        [
                          0.6666666666666666,
                          "#ed7953"
                        ],
                        [
                          0.7777777777777778,
                          "#fb9f3a"
                        ],
                        [
                          0.8888888888888888,
                          "#fdca26"
                        ],
                        [
                          1,
                          "#f0f921"
                        ]
                      ]
                    },
                    "colorway": [
                      "#636efa",
                      "#EF553B",
                      "#00cc96",
                      "#ab63fa",
                      "#FFA15A",
                      "#19d3f3",
                      "#FF6692",
                      "#B6E880",
                      "#FF97FF",
                      "#FECB52"
                    ],
                    "font": {
                      "color": "#2a3f5f"
                    },
                    "geo": {
                      "bgcolor": "white",
                      "lakecolor": "white",
                      "landcolor": "#E5ECF6",
                      "showlakes": true,
                      "showland": true,
                      "subunitcolor": "white"
                    },
                    "hoverlabel": {
                      "align": "left"
                    },
                    "hovermode": "closest",
                    "mapbox": {
                      "style": "light"
                    },
                    "paper_bgcolor": "white",
                    "plot_bgcolor": "#E5ECF6",
                    "polar": {
                      "angularaxis": {
                        "gridcolor": "white",
                        "linecolor": "white",
                        "ticks": ""
                      },
                      "bgcolor": "#E5ECF6",
                      "radialaxis": {
                        "gridcolor": "white",
                        "linecolor": "white",
                        "ticks": ""
                      }
                    },
                    "scene": {
                      "xaxis": {
                        "backgroundcolor": "#E5ECF6",
                        "gridcolor": "white",
                        "gridwidth": 2,
                        "linecolor": "white",
                        "showbackground": true,
                        "ticks": "",
                        "zerolinecolor": "white"
                      },
                      "yaxis": {
                        "backgroundcolor": "#E5ECF6",
                        "gridcolor": "white",
                        "gridwidth": 2,
                        "linecolor": "white",
                        "showbackground": true,
                        "ticks": "",
                        "zerolinecolor": "white"
                      },
                      "zaxis": {
                        "backgroundcolor": "#E5ECF6",
                        "gridcolor": "white",
                        "gridwidth": 2,
                        "linecolor": "white",
                        "showbackground": true,
                        "ticks": "",
                        "zerolinecolor": "white"
                      }
                    },
                    "shapedefaults": {
                      "line": {
                        "color": "#2a3f5f"
                      }
                    },
                    "ternary": {
                      "aaxis": {
                        "gridcolor": "white",
                        "linecolor": "white",
                        "ticks": ""
                      },
                      "baxis": {
                        "gridcolor": "white",
                        "linecolor": "white",
                        "ticks": ""
                      },
                      "bgcolor": "#E5ECF6",
                      "caxis": {
                        "gridcolor": "white",
                        "linecolor": "white",
                        "ticks": ""
                      }
                    },
                    "title": {
                      "x": 0.05
                    },
                    "xaxis": {
                      "automargin": true,
                      "gridcolor": "white",
                      "linecolor": "white",
                      "ticks": "",
                      "title": {
                        "standoff": 15
                      },
                      "zerolinecolor": "white",
                      "zerolinewidth": 2
                    },
                    "yaxis": {
                      "automargin": true,
                      "gridcolor": "white",
                      "linecolor": "white",
                      "ticks": "",
                      "title": {
                        "standoff": 15
                      },
                      "zerolinecolor": "white",
                      "zerolinewidth": 2
                    }
                  }
                },
                "title": {
                  "text": "Parallel Coordinate Plot"
                }
              }
            }
          },
          "metadata": {},
          "output_type": "display_data"
        }
      ],
      "source": [
        "optuna.visualization.plot_parallel_coordinate(study_bohb)"
      ]
    }
  ],
  "metadata": {
    "colab": {
      "collapsed_sections": [],
      "name": "Practical_Hyperparameter_Optimization.ipynb",
      "provenance": []
    },
    "kernelspec": {
      "display_name": "Python 3",
      "name": "python3"
    },
    "language_info": {
      "codemirror_mode": {
        "name": "ipython",
        "version": 3
      },
      "file_extension": ".py",
      "mimetype": "text/x-python",
      "name": "python",
      "nbconvert_exporter": "python",
      "pygments_lexer": "ipython3",
      "version": "3.8.10"
    }
  },
  "nbformat": 4,
  "nbformat_minor": 0
}
