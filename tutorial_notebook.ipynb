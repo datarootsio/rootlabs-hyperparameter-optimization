{
  "cells": [
    {
      "cell_type": "markdown",
      "metadata": {
        "id": "_QeUp1cABgBu"
      },
      "source": [
        "# **Set-up**\n"
      ]
    },
    {
      "cell_type": "code",
      "execution_count": 1,
      "metadata": {
        "id": "rA7Jg7zB1tzI"
      },
      "outputs": [],
      "source": [
        "%%capture\n",
        "!pip install -r requirements"
      ]
    },
    {
      "cell_type": "code",
      "execution_count": 2,
      "metadata": {
        "id": "aBMUFyRTBCyR"
      },
      "outputs": [],
      "source": [
        "# Import Packages\n",
        "## for data and preprocessing\n",
        "import pandas as pd\n",
        "from sklearn.preprocessing import StandardScaler\n",
        "\n",
        "## for model fitting\n",
        "import lightgbm as lgb\n",
        "import sklearn.metrics as metric\n",
        "\n",
        "## for hyperparameter optimization\n",
        "import optuna\n",
        "\n",
        "## for replicability\n",
        "import random"
      ]
    },
    {
      "cell_type": "code",
      "execution_count": 3,
      "metadata": {
        "id": "lq307ThH1cix"
      },
      "outputs": [],
      "source": [
        "train = pd.read_csv('./data/california_housing_train.csv')\n",
        "test = pd.read_csv('./data/california_housing_test.csv')\n",
        "\n",
        "names = train.columns\n",
        "\n",
        "scaler = StandardScaler()\n",
        "train = pd.DataFrame(scaler.fit_transform(train),columns=names)\n",
        "test = pd.DataFrame(scaler.transform(test), columns=names)\n",
        "\n",
        "\n",
        "X_train = train.drop(['median_house_value'],axis=1)\n",
        "X_test  = test.drop(['median_house_value'],axis=1)\n",
        "y_train = train.median_house_value\n",
        "y_test  = test.median_house_value"
      ]
    },
    {
      "cell_type": "markdown",
      "metadata": {
        "id": "lbUodoqRQiLJ"
      },
      "source": [
        "# **OPTUNA**"
      ]
    },
    {
      "cell_type": "markdown",
      "metadata": {
        "id": "EPWbpIQzWQYR"
      },
      "source": [
        "## **General Overview**"
      ]
    },
    {
      "cell_type": "markdown",
      "metadata": {
        "id": "K8NPYlPKfrpM"
      },
      "source": [
        "Optuna optimizes any objective function. This objective function takes a set of arguments (e.g., hyperparameters) and returns a single value (e.g., validation score).  \n",
        "\n",
        "In Optuna, we create a **study**. A study is defined by the objective function and the hyperparameter space and, thus, defines the scope and purpose of our optimization exercise.   \n",
        "Each study consists of a set of **Trials**. Each trial is, thus, a single selection from the hyperparameter space for which we evaluate the objective function. Every next trial builds on the previous one (i.e., an iterative optimization process).\n",
        "\n",
        "The optimization algorithm helps in picking the next trial to evaluate in a smart(er) way, until we find the optimal value."
      ]
    },
    {
      "cell_type": "markdown",
      "metadata": {
        "id": "V-cncUm2QlWI"
      },
      "source": [
        "In practice, every hyperparameter optimization exercise consist of 4 steps:\n",
        "\n",
        "* define a function which **trains a model** and **returns the validation score**\n",
        "\n",
        "* define the **hyperparameter space** through which the optimization algorithm can search (trials are instances/realizations of this space)\n",
        "\n",
        "* create a **study**, which describes the optimization exercise: \n",
        "    * *Direction* : \n",
        "        * minimize: for (Root) Mean Squared Errors, minus-log-likelihood, ... (the lower, the better)\n",
        "        * maximize: r2_score, auc, accuracy, precision, recall, f1_score, ... (the higher, the better)\n",
        "    * *Sampler* : the chosen optimization technique **(Optimization)**\n",
        "    * *Pruner* : early stopping of unpromising trials **(Steroids)**\n",
        "\n",
        "* **optimize** the study using different trials in a smart way **(worker function)**\n"
      ]
    },
    {
      "cell_type": "markdown",
      "metadata": {},
      "source": [
        "Firstly, we need to realize that our time is also limited. In order to limit our waiting time (and computing time), we set a maximum number of trials to evaluate (i.e., maximum number of iterations). "
      ]
    },
    {
      "cell_type": "code",
      "execution_count": 4,
      "metadata": {},
      "outputs": [],
      "source": [
        "N_TRIALS = 200"
      ]
    },
    {
      "cell_type": "markdown",
      "metadata": {},
      "source": [
        "### Step 1\n",
        "We define a function which takes a hyperparameter configuration (params;  which is defined later) as the argument.  \n",
        "Then this function takes our data and trains a machine learning model. In this example, we train a lightgbm model, which can take a lot of interesting hyperparameters to illustrate tuning. Any model architecture can work here (e.g., xgboost, random forest, neural networks, ...).  \n",
        "Lastly, we make some predictions on our test (or validation) set and compute the validation score. In this example, we use the Root Mean Squared Error (RMSE), but again any validation metric is viable."
      ]
    },
    {
      "cell_type": "code",
      "execution_count": 5,
      "metadata": {},
      "outputs": [],
      "source": [
        "def train_evaluate(params):\n",
        "    '''Train a model using your dataset and return the validation score.'''\n",
        "    train_data = lgb.Dataset(X_train, label=y_train)\n",
        "    test_data = lgb.Dataset(X_test, label=y_test, reference=train_data)\n",
        "    # Train a Model\n",
        "    model = lgb.train(params, train_data,\n",
        "                      num_boost_round=params['NUM_BOOST_ROUND'],\n",
        "                      early_stopping_rounds=params['EARLY_STOPPING_ROUNDS'],\n",
        "                      valid_sets=[test_data],\n",
        "                      valid_names=['valid'],\n",
        "                      )\n",
        "    # Evaluate the model\n",
        "    preds = model.predict(test_data,num_iteration=model.best_iteration)\n",
        "    truth = test_data.get_label()\n",
        "    score = metric.mean_squared_error(truth, preds, squared=False)\n",
        "      \n",
        "    #score = model.best_score['valid']['rmse']\n",
        "    # Return the validation score\n",
        "    return score"
      ]
    },
    {
      "cell_type": "markdown",
      "metadata": {},
      "source": [
        "### Step 2\n",
        "We define the objective function of our optimization exercise, which takes a trial as argument.  \n",
        "In this function, we first define the parameter space. This parameter space is a dictionary defining each hyperparameter of interest. For each hyperparameter, we use the $trial.suggest$ functionality to define the domain from which we can sample values for the hyperparameters. In a Bayesian way, think about this as our prior (hyper)parameter distribution. We can use various distributions:\n",
        "- trial.suggest_loguniform for floating point hyperparameters between two bounds favoring smaller values,\n",
        "- trial.suggest_float for floating point hyperparameters between two bounds\n",
        "- trial.suggest_int for integer hyperparameters between two bounds and a step-size,\n",
        "- trial.suggest_uniform for uniformly distributed hyperparameters between two bounds,\n",
        "- trial.suggest_discrete_uniform for uniformly distrubuted hyperparameters between two bounds but with additional step-size,\n",
        "- ...\n",
        "\n",
        "After defining the hyperparameter space, we apply the previously defined function to train a model and return the validation score.  \n",
        "At this stage, we will also check whether the score should be pruned or not (depending on whether a pruning strategy was specified)."
      ]
    },
    {
      "cell_type": "code",
      "execution_count": 6,
      "metadata": {
        "id": "_hxYNpUzCmnj"
      },
      "outputs": [],
      "source": [
        "def objective(trial):\n",
        "    '''\n",
        "    Define the Hyperparameter Space from which to sample a configuration.\n",
        "    Then train a model and output the validation score (see Step 1).\n",
        "    '''\n",
        "    # Define the Hyper-parameter Space\n",
        "    params = {'learning_rate': trial.suggest_loguniform('learning_rate', 0.01, 0.5),\n",
        "              'max_depth': trial.suggest_int('max_depth', 1, 30, 1),\n",
        "              'num_leaves': trial.suggest_int('num_leaves', 2, 100),\n",
        "              'min_data_in_leaf': trial.suggest_int('min_data_in_leaf', 10, 100),\n",
        "              'feature_fraction': trial.suggest_uniform('feature_fraction', 0.1, 1.0),\n",
        "              'subsample': trial.suggest_discrete_uniform('subsample', 0.1, 1.0,.1),\n",
        "              'colsample_by_tree': 1,\n",
        "              'lambda_l1': trial.suggest_float('lambda_l1', 0, 10),\n",
        "              'lambda_l2': trial.suggest_float('lambda_l2', 0, 10),\n",
        "              'NUM_BOOST_ROUND': 200,\n",
        "              'EARLY_STOPPING_ROUNDS': 20,\n",
        "              'objective': 'rmse',\n",
        "              }\n",
        "              \n",
        "    # Train the model and return the validation score\n",
        "    score = train_evaluate(params)\n",
        "    \n",
        "    #Check Pruning\n",
        "    trial.report(score,1)\n",
        "    if trial.should_prune():\n",
        "        raise optuna.TrialPruned()\n",
        "\n",
        "    # Return the validation score\n",
        "    return score"
      ]
    },
    {
      "cell_type": "markdown",
      "metadata": {},
      "source": [
        "### Step 3\n",
        "We create the study object, in which we describe the optimization exercise by means of: \n",
        "\n",
        "* the *Direction* of our optimization: \n",
        "  * minimize: for (Root) Mean Squared Errors, minus-log-likelihood, ... (the lower, the better)\n",
        "  * maximize: r2_score, auc, accuracy, precision, recall, f1_score, ... (the higher, the better)  \n",
        "  \n",
        "\n",
        "* the *Sampler* which is our optimization technique: \n",
        "  * GridSampler, applies a Grid Search on a predefined grid (extra arguments required!)\n",
        "  * RandomSampler, applies Random Search on the parameter space\n",
        "  * CmaEsSampler, applies a Covariance Matrix Adaptation Evolutionary Search algorithm\n",
        "  * TPESampler, is the default option, which applies a Tree-structured Parzen Estimator algorithm  \n",
        "\n",
        "\n",
        "* the *Pruner* which is our pruning strategy to quickly stop unpromising trials:\n",
        "  * NopPruner, does not prune any trials\n",
        "  * MedianPruner, prunes trials that are worst than the median of previous trials\n",
        "  * SuccessiveHalvingPruner, uses Asynchronous Successive Halving (prune half of the least performing trials)\n",
        "  * HyperbandPruner, uses the Hyperband pruning strategy  "
      ]
    },
    {
      "cell_type": "code",
      "execution_count": 7,
      "metadata": {},
      "outputs": [
        {
          "name": "stderr",
          "output_type": "stream",
          "text": [
            "\u001b[32m[I 2021-11-08 17:38:41,247]\u001b[0m A new study created in memory with name: no-name-ce3609f8-03ce-47d6-9852-6c7e4687a1e5\u001b[0m\n"
          ]
        }
      ],
      "source": [
        "study = optuna.create_study(\n",
        "    direction = 'minimize',                         \n",
        "    sampler = optuna.samplers.RandomSampler(),      \n",
        "    pruner = optuna.pruners.NopPruner()            \n",
        "    )"
      ]
    },
    {
      "cell_type": "markdown",
      "metadata": {},
      "source": [
        "### Step 4\n",
        "We call the optimize function on our study object to start the optimization process. "
      ]
    },
    {
      "cell_type": "code",
      "execution_count": 8,
      "metadata": {
        "id": "sxSQuoTiJ4AC"
      },
      "outputs": [
        {
          "name": "stdout",
          "output_type": "stream",
          "text": [
            "Couldn't find program: 'false'\n"
          ]
        }
      ],
      "source": [
        "%%script false --no-raise-error\n",
        "study.optimize(objective, n_trials=N_trials)"
      ]
    },
    {
      "cell_type": "markdown",
      "metadata": {
        "id": "ZLDo29BxV6uP"
      },
      "source": [
        "## Example of Several Optimization Strategies\n",
        "\n",
        "Uncomment the following line if you want to suppress all output of the optuna sampler."
      ]
    },
    {
      "cell_type": "code",
      "execution_count": 9,
      "metadata": {},
      "outputs": [],
      "source": [
        "#optuna.logging.set_verbosity(optuna.logging.WARNING)"
      ]
    },
    {
      "cell_type": "code",
      "execution_count": 10,
      "metadata": {},
      "outputs": [],
      "source": [
        "random.seed(1)"
      ]
    },
    {
      "cell_type": "markdown",
      "metadata": {},
      "source": [
        "Next, we define out $train\\_evaluate$ and our $objective$ functions. "
      ]
    },
    {
      "cell_type": "code",
      "execution_count": 11,
      "metadata": {},
      "outputs": [],
      "source": [
        "def train_evaluate(params):\n",
        "    # Format/Preprocess Data\n",
        "    train_data = lgb.Dataset(X_train, label=y_train)\n",
        "    test_data = lgb.Dataset(X_test, label=y_test, reference=train_data)\n",
        "    \n",
        "    # Train a Model\n",
        "    model = lgb.train(params, train_data,\n",
        "                      num_boost_round=params['NUM_BOOST_ROUND'],\n",
        "                      early_stopping_rounds=params['EARLY_STOPPING_ROUNDS'],\n",
        "                      valid_sets=[test_data],\n",
        "                      valid_names=['valid'],\n",
        "                      )\n",
        "    \n",
        "    # Evaluate the model \n",
        "    preds = model.predict(X_test,num_iteration=model.best_iteration)\n",
        "    truth = test_data.get_label()\n",
        "    score = metric.mean_squared_error(truth, preds, squared=False)\n",
        "    \n",
        "    # Return the validation score\n",
        "    return score\n",
        "\n",
        "def objective(trial):\n",
        "    # Define the Hyper-parameter Space\n",
        "    params = {'learning_rate': trial.suggest_loguniform('learning_rate', 0.01, 0.5),\n",
        "              'max_depth': trial.suggest_int('max_depth', 1, 50),\n",
        "              'num_leaves': trial.suggest_int('num_leaves', 2, 200),\n",
        "              'feature_fraction': trial.suggest_uniform('feature_fraction', 0.1, 1.0),\n",
        "              'subsample': trial.suggest_discrete_uniform('subsample', 0.1, 1.0, .1),\n",
        "              'colsample_by_tree': 1,\n",
        "              'lambda_l1': trial.suggest_float('lambda_l1', 0, 10),\n",
        "              'lambda_l2': trial.suggest_float('lambda_l2', 0, 10),\n",
        "              'bagging_fraction':trial.suggest_uniform('bagging_fraction', 0, 1),\n",
        "              'bagging_freq':trial.suggest_int('bagging_freq',0,10),\n",
        "              'NUM_BOOST_ROUND': 200,\n",
        "              'EARLY_STOPPING_ROUNDS': 20,\n",
        "              'objective': 'rmse',\n",
        "              }\n",
        "    \n",
        "    # Train the model and return the validation score\n",
        "    score = train_evaluate(params)\n",
        "    \n",
        "    #Check Pruning\n",
        "    trial.report(score,200)\n",
        "    if trial.should_prune():\n",
        "      raise optuna.TrialPruned()\n",
        "    \n",
        "    # Return the validation score\n",
        "    return score"
      ]
    },
    {
      "cell_type": "markdown",
      "metadata": {},
      "source": [
        "### **Grid Search**\n",
        "\n",
        "A grid search does not really look at the hyperparameter space, but rather takes a search space with discrete lists of hyperparameter values into account.\n",
        "In this example, we search over a small grid of 4*4*4 hyperparameters (total size of the grid: 48 possibilities)."
      ]
    },
    {
      "cell_type": "code",
      "execution_count": 12,
      "metadata": {
        "colab": {
          "base_uri": "https://localhost:8080/"
        },
        "id": "-M3qPkBmJCVh",
        "outputId": "5c56114a-287b-4f09-e83e-43fb75db7da9"
      },
      "outputs": [
        {
          "name": "stderr",
          "output_type": "stream",
          "text": [
            "\u001b[32m[I 2021-11-08 17:38:41,436]\u001b[0m A new study created in memory with name: no-name-0a3509d8-9c41-4ede-970e-e9b822b9b0cb\u001b[0m\n",
            "\u001b[32m[I 2021-11-08 17:38:41,504]\u001b[0m Trial 0 finished with value: 0.7470006743845352 and parameters: {'learning_rate': 0.01, 'max_depth': 20, 'num_leaves': 2}. Best is trial 0 with value: 0.7470006743845352.\u001b[0m\n",
            "\u001b[32m[I 2021-11-08 17:38:41,663]\u001b[0m Trial 1 finished with value: 0.42793408300698016 and parameters: {'learning_rate': 0.5, 'max_depth': 10, 'num_leaves': 10}. Best is trial 1 with value: 0.42793408300698016.\u001b[0m\n",
            "\u001b[32m[I 2021-11-08 17:38:41,754]\u001b[0m Trial 2 finished with value: 0.7470006743845352 and parameters: {'learning_rate': 0.01, 'max_depth': 10, 'num_leaves': 2}. Best is trial 1 with value: 0.42793408300698016.\u001b[0m\n",
            "\u001b[32m[I 2021-11-08 17:38:41,837]\u001b[0m Trial 3 finished with value: 0.5988083376612268 and parameters: {'learning_rate': 0.1, 'max_depth': 1, 'num_leaves': 20}. Best is trial 1 with value: 0.42793408300698016.\u001b[0m\n",
            "\u001b[32m[I 2021-11-08 17:38:41,968]\u001b[0m Trial 4 finished with value: 0.5943733156686446 and parameters: {'learning_rate': 0.01, 'max_depth': 20, 'num_leaves': 10}. Best is trial 1 with value: 0.42793408300698016.\u001b[0m\n",
            "\u001b[32m[I 2021-11-08 17:38:42,043]\u001b[0m Trial 5 finished with value: 0.5261623792105229 and parameters: {'learning_rate': 0.5, 'max_depth': 1, 'num_leaves': 100}. Best is trial 1 with value: 0.42793408300698016.\u001b[0m\n",
            "\u001b[32m[I 2021-11-08 17:38:42,126]\u001b[0m Trial 6 finished with value: 0.5261623792105229 and parameters: {'learning_rate': 0.5, 'max_depth': 1, 'num_leaves': 2}. Best is trial 1 with value: 0.42793408300698016.\u001b[0m\n",
            "\u001b[32m[I 2021-11-08 17:38:42,231]\u001b[0m Trial 7 finished with value: 0.5261623792105229 and parameters: {'learning_rate': 0.5, 'max_depth': 10, 'num_leaves': 2}. Best is trial 1 with value: 0.42793408300698016.\u001b[0m\n",
            "\u001b[32m[I 2021-11-08 17:38:42,297]\u001b[0m Trial 8 finished with value: 0.5988083376612268 and parameters: {'learning_rate': 0.1, 'max_depth': 30, 'num_leaves': 2}. Best is trial 1 with value: 0.42793408300698016.\u001b[0m\n",
            "\u001b[32m[I 2021-11-08 17:38:42,365]\u001b[0m Trial 9 finished with value: 0.5988083376612268 and parameters: {'learning_rate': 0.1, 'max_depth': 1, 'num_leaves': 2}. Best is trial 1 with value: 0.42793408300698016.\u001b[0m\n",
            "\u001b[32m[I 2021-11-08 17:38:42,995]\u001b[0m Trial 10 finished with value: 0.47634823058692954 and parameters: {'learning_rate': 0.01, 'max_depth': 10, 'num_leaves': 100}. Best is trial 1 with value: 0.42793408300698016.\u001b[0m\n",
            "\u001b[32m[I 2021-11-08 17:38:43,108]\u001b[0m Trial 11 finished with value: 0.41825909396001104 and parameters: {'learning_rate': 0.5, 'max_depth': 20, 'num_leaves': 20}. Best is trial 11 with value: 0.41825909396001104.\u001b[0m\n",
            "\u001b[32m[I 2021-11-08 17:38:43,177]\u001b[0m Trial 12 finished with value: 0.7470006743845352 and parameters: {'learning_rate': 0.01, 'max_depth': 1, 'num_leaves': 10}. Best is trial 11 with value: 0.41825909396001104.\u001b[0m\n",
            "\u001b[32m[I 2021-11-08 17:38:43,245]\u001b[0m Trial 13 finished with value: 0.5261623792105229 and parameters: {'learning_rate': 0.5, 'max_depth': 1, 'num_leaves': 10}. Best is trial 11 with value: 0.41825909396001104.\u001b[0m\n",
            "\u001b[32m[I 2021-11-08 17:38:43,314]\u001b[0m Trial 14 finished with value: 0.5261623792105229 and parameters: {'learning_rate': 0.5, 'max_depth': 20, 'num_leaves': 2}. Best is trial 11 with value: 0.41825909396001104.\u001b[0m\n",
            "\u001b[32m[I 2021-11-08 17:38:43,381]\u001b[0m Trial 15 finished with value: 0.7470006743845352 and parameters: {'learning_rate': 0.01, 'max_depth': 1, 'num_leaves': 2}. Best is trial 11 with value: 0.41825909396001104.\u001b[0m\n",
            "\u001b[32m[I 2021-11-08 17:38:43,446]\u001b[0m Trial 16 finished with value: 0.5261623792105229 and parameters: {'learning_rate': 0.5, 'max_depth': 30, 'num_leaves': 2}. Best is trial 11 with value: 0.41825909396001104.\u001b[0m\n",
            "\u001b[32m[I 2021-11-08 17:38:43,617]\u001b[0m Trial 17 finished with value: 0.5502752189885596 and parameters: {'learning_rate': 0.01, 'max_depth': 30, 'num_leaves': 20}. Best is trial 11 with value: 0.41825909396001104.\u001b[0m\n",
            "\u001b[32m[I 2021-11-08 17:38:43,727]\u001b[0m Trial 18 finished with value: 0.423496649217459 and parameters: {'learning_rate': 0.5, 'max_depth': 10, 'num_leaves': 20}. Best is trial 11 with value: 0.41825909396001104.\u001b[0m\n",
            "\u001b[32m[I 2021-11-08 17:38:43,817]\u001b[0m Trial 19 finished with value: 0.43603254247107676 and parameters: {'learning_rate': 0.5, 'max_depth': 20, 'num_leaves': 100}. Best is trial 11 with value: 0.41825909396001104.\u001b[0m\n",
            "\u001b[32m[I 2021-11-08 17:38:43,942]\u001b[0m Trial 20 finished with value: 0.5943733156686446 and parameters: {'learning_rate': 0.01, 'max_depth': 30, 'num_leaves': 10}. Best is trial 11 with value: 0.41825909396001104.\u001b[0m\n",
            "\u001b[32m[I 2021-11-08 17:38:44,055]\u001b[0m Trial 21 finished with value: 0.43127147613298594 and parameters: {'learning_rate': 0.1, 'max_depth': 30, 'num_leaves': 10}. Best is trial 11 with value: 0.41825909396001104.\u001b[0m\n",
            "\u001b[32m[I 2021-11-08 17:38:44,233]\u001b[0m Trial 22 finished with value: 0.5502447214202039 and parameters: {'learning_rate': 0.01, 'max_depth': 10, 'num_leaves': 20}. Best is trial 11 with value: 0.41825909396001104.\u001b[0m\n",
            "\u001b[32m[I 2021-11-08 17:38:44,348]\u001b[0m Trial 23 finished with value: 0.43127147613298594 and parameters: {'learning_rate': 0.1, 'max_depth': 10, 'num_leaves': 10}. Best is trial 11 with value: 0.41825909396001104.\u001b[0m\n",
            "\u001b[32m[I 2021-11-08 17:38:44,409]\u001b[0m Trial 24 finished with value: 0.7470006743845352 and parameters: {'learning_rate': 0.01, 'max_depth': 1, 'num_leaves': 20}. Best is trial 11 with value: 0.41825909396001104.\u001b[0m\n",
            "\u001b[32m[I 2021-11-08 17:38:44,471]\u001b[0m Trial 25 finished with value: 0.7470006743845352 and parameters: {'learning_rate': 0.01, 'max_depth': 1, 'num_leaves': 100}. Best is trial 11 with value: 0.41825909396001104.\u001b[0m\n",
            "\u001b[32m[I 2021-11-08 17:38:44,587]\u001b[0m Trial 26 finished with value: 0.5943733156686446 and parameters: {'learning_rate': 0.01, 'max_depth': 10, 'num_leaves': 10}. Best is trial 11 with value: 0.41825909396001104.\u001b[0m\n",
            "\u001b[32m[I 2021-11-08 17:38:44,685]\u001b[0m Trial 27 finished with value: 0.4351091340913668 and parameters: {'learning_rate': 0.5, 'max_depth': 30, 'num_leaves': 100}. Best is trial 11 with value: 0.41825909396001104.\u001b[0m\n",
            "\u001b[32m[I 2021-11-08 17:38:44,765]\u001b[0m Trial 28 finished with value: 0.42793408300698016 and parameters: {'learning_rate': 0.5, 'max_depth': 20, 'num_leaves': 10}. Best is trial 11 with value: 0.41825909396001104.\u001b[0m\n",
            "\u001b[32m[I 2021-11-08 17:38:44,925]\u001b[0m Trial 29 finished with value: 0.5502752189885596 and parameters: {'learning_rate': 0.01, 'max_depth': 20, 'num_leaves': 20}. Best is trial 11 with value: 0.41825909396001104.\u001b[0m\n",
            "\u001b[32m[I 2021-11-08 17:38:45,050]\u001b[0m Trial 30 finished with value: 0.4136656691816637 and parameters: {'learning_rate': 0.1, 'max_depth': 30, 'num_leaves': 20}. Best is trial 30 with value: 0.4136656691816637.\u001b[0m\n",
            "\u001b[32m[I 2021-11-08 17:38:45,198]\u001b[0m Trial 31 finished with value: 0.41318336256718824 and parameters: {'learning_rate': 0.1, 'max_depth': 10, 'num_leaves': 20}. Best is trial 31 with value: 0.41318336256718824.\u001b[0m\n",
            "\u001b[32m[I 2021-11-08 17:38:45,397]\u001b[0m Trial 32 finished with value: 0.43097071502431894 and parameters: {'learning_rate': 0.5, 'max_depth': 10, 'num_leaves': 100}. Best is trial 31 with value: 0.41318336256718824.\u001b[0m\n",
            "\u001b[32m[I 2021-11-08 17:38:45,613]\u001b[0m Trial 33 finished with value: 0.43127147613298594 and parameters: {'learning_rate': 0.1, 'max_depth': 20, 'num_leaves': 10}. Best is trial 31 with value: 0.41318336256718824.\u001b[0m\n",
            "\u001b[32m[I 2021-11-08 17:38:45,700]\u001b[0m Trial 34 finished with value: 0.5261623792105229 and parameters: {'learning_rate': 0.5, 'max_depth': 1, 'num_leaves': 20}. Best is trial 31 with value: 0.41318336256718824.\u001b[0m\n",
            "\u001b[32m[I 2021-11-08 17:38:46,103]\u001b[0m Trial 35 finished with value: 0.4009600440564793 and parameters: {'learning_rate': 0.1, 'max_depth': 10, 'num_leaves': 100}. Best is trial 35 with value: 0.4009600440564793.\u001b[0m\n",
            "\u001b[32m[I 2021-11-08 17:38:46,190]\u001b[0m Trial 36 finished with value: 0.41825909396001104 and parameters: {'learning_rate': 0.5, 'max_depth': 30, 'num_leaves': 20}. Best is trial 35 with value: 0.4009600440564793.\u001b[0m\n",
            "\u001b[32m[I 2021-11-08 17:38:46,268]\u001b[0m Trial 37 finished with value: 0.5988083376612268 and parameters: {'learning_rate': 0.1, 'max_depth': 20, 'num_leaves': 2}. Best is trial 35 with value: 0.4009600440564793.\u001b[0m\n",
            "\u001b[32m[I 2021-11-08 17:38:46,422]\u001b[0m Trial 38 finished with value: 0.4136656691816637 and parameters: {'learning_rate': 0.1, 'max_depth': 20, 'num_leaves': 20}. Best is trial 35 with value: 0.4009600440564793.\u001b[0m\n",
            "\u001b[32m[I 2021-11-08 17:38:46,866]\u001b[0m Trial 39 finished with value: 0.40207231639195906 and parameters: {'learning_rate': 0.1, 'max_depth': 30, 'num_leaves': 100}. Best is trial 35 with value: 0.4009600440564793.\u001b[0m\n",
            "\u001b[32m[I 2021-11-08 17:38:47,374]\u001b[0m Trial 40 finished with value: 0.47375380713319415 and parameters: {'learning_rate': 0.01, 'max_depth': 30, 'num_leaves': 100}. Best is trial 35 with value: 0.4009600440564793.\u001b[0m\n",
            "\u001b[32m[I 2021-11-08 17:38:47,440]\u001b[0m Trial 41 finished with value: 0.5988083376612268 and parameters: {'learning_rate': 0.1, 'max_depth': 10, 'num_leaves': 2}. Best is trial 35 with value: 0.4009600440564793.\u001b[0m\n",
            "\u001b[32m[I 2021-11-08 17:38:47,498]\u001b[0m Trial 42 finished with value: 0.5988083376612268 and parameters: {'learning_rate': 0.1, 'max_depth': 1, 'num_leaves': 100}. Best is trial 35 with value: 0.4009600440564793.\u001b[0m\n",
            "\u001b[32m[I 2021-11-08 17:38:47,905]\u001b[0m Trial 43 finished with value: 0.4023716930729493 and parameters: {'learning_rate': 0.1, 'max_depth': 20, 'num_leaves': 100}. Best is trial 35 with value: 0.4009600440564793.\u001b[0m\n",
            "\u001b[32m[I 2021-11-08 17:38:47,981]\u001b[0m Trial 44 finished with value: 0.42793408300698016 and parameters: {'learning_rate': 0.5, 'max_depth': 30, 'num_leaves': 10}. Best is trial 35 with value: 0.4009600440564793.\u001b[0m\n",
            "\u001b[32m[I 2021-11-08 17:38:48,462]\u001b[0m Trial 45 finished with value: 0.47375380713319415 and parameters: {'learning_rate': 0.01, 'max_depth': 20, 'num_leaves': 100}. Best is trial 35 with value: 0.4009600440564793.\u001b[0m\n",
            "\u001b[32m[I 2021-11-08 17:38:48,570]\u001b[0m Trial 46 finished with value: 0.5988083376612268 and parameters: {'learning_rate': 0.1, 'max_depth': 1, 'num_leaves': 10}. Best is trial 35 with value: 0.4009600440564793.\u001b[0m\n",
            "\u001b[32m[I 2021-11-08 17:38:48,630]\u001b[0m Trial 47 finished with value: 0.7470006743845352 and parameters: {'learning_rate': 0.01, 'max_depth': 30, 'num_leaves': 2}. Best is trial 35 with value: 0.4009600440564793.\u001b[0m\n"
          ]
        },
        {
          "name": "stdout",
          "output_type": "stream",
          "text": [
            "Wall time: 7.2 s\n"
          ]
        }
      ],
      "source": [
        "%%time\n",
        "%%capture\n",
        "\n",
        "def objective_grid(trial):\n",
        "    # Define the Hyper-parameter Space\n",
        "    params = {'learning_rate': trial.suggest_float('learning_rate', 0.01, 0.5),\n",
        "              'max_depth': trial.suggest_int('max_depth', 1, 50),\n",
        "              'num_leaves': trial.suggest_int('num_leaves', 2, 200),\n",
        "              'NUM_BOOST_ROUND': 200,\n",
        "              'EARLY_STOPPING_ROUNDS': 20,\n",
        "              'objective': 'rmse',\n",
        "              'verbose': -1,\n",
        "              }\n",
        "    #Apply the train_evaluate function\n",
        "    score = train_evaluate(params)\n",
        "    return score\n",
        "\n",
        "search_space = {'learning_rate': [0.01, 0.10, 0.50],\n",
        "              'max_depth': [1, 10, 20, 30],\n",
        "              'num_leaves': [2, 10, 20, 100]}\n",
        "\n",
        "study_gridsearch = optuna.create_study(\n",
        "    direction='minimize',\n",
        "    sampler=optuna.samplers.GridSampler(search_space),\n",
        "    pruner = optuna.pruners.NopPruner() \n",
        "    )\n",
        "\n",
        "study_gridsearch.optimize(objective_grid, n_trials=N_TRIALS)"
      ]
    },
    {
      "cell_type": "code",
      "execution_count": 13,
      "metadata": {
        "colab": {
          "base_uri": "https://localhost:8080/"
        },
        "id": "5Si3TBSQPLA2",
        "outputId": "0c67db2b-7479-478f-87a5-fb9d9f2eb9b4"
      },
      "outputs": [
        {
          "name": "stdout",
          "output_type": "stream",
          "text": [
            "{'score': 0.4009600440564793, 'params': {'learning_rate': 0.1, 'max_depth': 10, 'num_leaves': 100}}\n"
          ]
        }
      ],
      "source": [
        "gridsearch = {'score': study_gridsearch.best_value, 'params': study_gridsearch.best_params}\n",
        "print(gridsearch)"
      ]
    },
    {
      "cell_type": "markdown",
      "metadata": {
        "id": "Sn-ozVvUXKY-"
      },
      "source": [
        "### **Random Search**"
      ]
    },
    {
      "cell_type": "code",
      "execution_count": 14,
      "metadata": {
        "colab": {
          "base_uri": "https://localhost:8080/"
        },
        "id": "Dc6wSh7LXV1p",
        "outputId": "0ff9959c-671b-4464-ffb7-0a0985dc370f"
      },
      "outputs": [
        {
          "name": "stderr",
          "output_type": "stream",
          "text": [
            "\u001b[32m[I 2021-11-08 17:38:48,723]\u001b[0m A new study created in memory with name: no-name-38c8cf09-90b0-4952-b769-65d2788c6f99\u001b[0m\n",
            "\u001b[32m[I 2021-11-08 17:38:49,044]\u001b[0m Trial 0 finished with value: 0.4778734311745048 and parameters: {'learning_rate': 0.12704180938770063, 'max_depth': 24, 'num_leaves': 21, 'feature_fraction': 0.1889242485048997, 'subsample': 0.4, 'lambda_l1': 3.4268989036758635, 'lambda_l2': 7.6163051425424975, 'bagging_fraction': 0.3768619943287135, 'bagging_freq': 6}. Best is trial 0 with value: 0.4778734311745048.\u001b[0m\n",
            "\u001b[32m[I 2021-11-08 17:38:49,614]\u001b[0m Trial 1 finished with value: 0.4089903580603225 and parameters: {'learning_rate': 0.028872007939517635, 'max_depth': 31, 'num_leaves': 119, 'feature_fraction': 0.7459935462740664, 'subsample': 0.6, 'lambda_l1': 1.6098537795466217, 'lambda_l2': 3.252387295111655, 'bagging_fraction': 0.39599847569663116, 'bagging_freq': 3}. Best is trial 1 with value: 0.4089903580603225.\u001b[0m\n",
            "\u001b[32m[I 2021-11-08 17:38:49,691]\u001b[0m Trial 2 finished with value: 0.5819267260023515 and parameters: {'learning_rate': 0.06660594965183425, 'max_depth': 11, 'num_leaves': 4, 'feature_fraction': 0.2609329473653722, 'subsample': 0.2, 'lambda_l1': 8.971204289670924, 'lambda_l2': 6.037940365979569, 'bagging_fraction': 0.0657592039048791, 'bagging_freq': 9}. Best is trial 1 with value: 0.4089903580603225.\u001b[0m\n",
            "\u001b[32m[I 2021-11-08 17:38:50,492]\u001b[0m Trial 3 finished with value: 0.39651979611630067 and parameters: {'learning_rate': 0.04546437531253444, 'max_depth': 13, 'num_leaves': 200, 'feature_fraction': 0.58398483825196, 'subsample': 0.30000000000000004, 'lambda_l1': 3.3659279839214973, 'lambda_l2': 3.0583347511218193, 'bagging_fraction': 0.9139336052567875, 'bagging_freq': 0}. Best is trial 3 with value: 0.39651979611630067.\u001b[0m\n",
            "\u001b[32m[I 2021-11-08 17:38:50,827]\u001b[0m Trial 4 finished with value: 0.4312846586237704 and parameters: {'learning_rate': 0.04787460176690279, 'max_depth': 46, 'num_leaves': 45, 'feature_fraction': 0.5435158711545601, 'subsample': 0.1, 'lambda_l1': 1.639832371348433, 'lambda_l2': 6.93938278698322, 'bagging_fraction': 0.922597712748653, 'bagging_freq': 6}. Best is trial 3 with value: 0.39651979611630067.\u001b[0m\n",
            "\u001b[32m[I 2021-11-08 17:38:51,157]\u001b[0m Trial 5 finished with value: 0.4505735507023935 and parameters: {'learning_rate': 0.0538456587045785, 'max_depth': 13, 'num_leaves': 119, 'feature_fraction': 0.5412785129430425, 'subsample': 0.8, 'lambda_l1': 7.796602024092935, 'lambda_l2': 8.39107083354795, 'bagging_fraction': 0.32098264877675575, 'bagging_freq': 10}. Best is trial 3 with value: 0.39651979611630067.\u001b[0m\n",
            "\u001b[32m[I 2021-11-08 17:38:51,363]\u001b[0m Trial 6 finished with value: 0.44358847180273464 and parameters: {'learning_rate': 0.07536917393226278, 'max_depth': 4, 'num_leaves': 102, 'feature_fraction': 0.6429126790678747, 'subsample': 0.1, 'lambda_l1': 8.337303742301152, 'lambda_l2': 3.3637711218590347, 'bagging_fraction': 0.9460622279104799, 'bagging_freq': 6}. Best is trial 3 with value: 0.39651979611630067.\u001b[0m\n",
            "\u001b[32m[I 2021-11-08 17:38:51,673]\u001b[0m Trial 7 finished with value: 0.4718165863307495 and parameters: {'learning_rate': 0.061726593164451504, 'max_depth': 5, 'num_leaves': 150, 'feature_fraction': 0.3185086542491754, 'subsample': 0.5, 'lambda_l1': 9.309924016284986, 'lambda_l2': 8.835849849702685, 'bagging_fraction': 0.5755779836558572, 'bagging_freq': 3}. Best is trial 3 with value: 0.39651979611630067.\u001b[0m\n",
            "\u001b[32m[I 2021-11-08 17:38:51,927]\u001b[0m Trial 8 finished with value: 0.43172071736205386 and parameters: {'learning_rate': 0.19852602997398638, 'max_depth': 49, 'num_leaves': 18, 'feature_fraction': 0.7243903541289066, 'subsample': 1.0, 'lambda_l1': 9.542119731767249, 'lambda_l2': 8.024706066303754, 'bagging_fraction': 0.2680780748418281, 'bagging_freq': 9}. Best is trial 3 with value: 0.39651979611630067.\u001b[0m\n",
            "\u001b[32m[I 2021-11-08 17:38:52,168]\u001b[0m Trial 9 finished with value: 0.41909568895678484 and parameters: {'learning_rate': 0.3155396693604671, 'max_depth': 5, 'num_leaves': 47, 'feature_fraction': 0.9677093637663498, 'subsample': 0.5, 'lambda_l1': 4.118588188224348, 'lambda_l2': 0.26286673190773047, 'bagging_fraction': 0.6549346075897599, 'bagging_freq': 4}. Best is trial 3 with value: 0.39651979611630067.\u001b[0m\n",
            "\u001b[32m[I 2021-11-08 17:38:52,764]\u001b[0m Trial 10 finished with value: 0.4600314715344638 and parameters: {'learning_rate': 0.13800925711093873, 'max_depth': 46, 'num_leaves': 151, 'feature_fraction': 0.2769467243712902, 'subsample': 1.0, 'lambda_l1': 8.432732425480827, 'lambda_l2': 0.6265336685715484, 'bagging_fraction': 0.8961280858970566, 'bagging_freq': 4}. Best is trial 3 with value: 0.39651979611630067.\u001b[0m\n",
            "\u001b[32m[I 2021-11-08 17:38:52,947]\u001b[0m Trial 11 finished with value: 0.6368115183884512 and parameters: {'learning_rate': 0.010022178210805279, 'max_depth': 3, 'num_leaves': 54, 'feature_fraction': 0.8936914150198665, 'subsample': 0.7000000000000001, 'lambda_l1': 3.2042440088117417, 'lambda_l2': 0.006901214147614354, 'bagging_fraction': 0.9618276042567963, 'bagging_freq': 1}. Best is trial 3 with value: 0.39651979611630067.\u001b[0m\n",
            "\u001b[32m[I 2021-11-08 17:38:53,329]\u001b[0m Trial 12 finished with value: 0.44324274502262234 and parameters: {'learning_rate': 0.32267495210421293, 'max_depth': 10, 'num_leaves': 128, 'feature_fraction': 0.3349933498600025, 'subsample': 0.7000000000000001, 'lambda_l1': 2.386041284441036, 'lambda_l2': 7.016429736612842, 'bagging_fraction': 0.4401141727081418, 'bagging_freq': 6}. Best is trial 3 with value: 0.39651979611630067.\u001b[0m\n",
            "\u001b[32m[I 2021-11-08 17:38:53,469]\u001b[0m Trial 13 finished with value: 0.6131744420863536 and parameters: {'learning_rate': 0.03277596000818297, 'max_depth': 20, 'num_leaves': 5, 'feature_fraction': 0.2105080184938793, 'subsample': 0.7000000000000001, 'lambda_l1': 9.995849370386015, 'lambda_l2': 9.438610998865336, 'bagging_fraction': 0.28157487458821606, 'bagging_freq': 5}. Best is trial 3 with value: 0.39651979611630067.\u001b[0m\n",
            "\u001b[32m[I 2021-11-08 17:38:53,740]\u001b[0m Trial 14 finished with value: 0.4887074428851611 and parameters: {'learning_rate': 0.20186320588536094, 'max_depth': 43, 'num_leaves': 153, 'feature_fraction': 0.2796428724842456, 'subsample': 0.1, 'lambda_l1': 4.125951323474885, 'lambda_l2': 6.7517277903137245, 'bagging_fraction': 0.10617463068394639, 'bagging_freq': 7}. Best is trial 3 with value: 0.39651979611630067.\u001b[0m\n",
            "\u001b[32m[I 2021-11-08 17:38:54,392]\u001b[0m Trial 15 finished with value: 0.4210871274406962 and parameters: {'learning_rate': 0.0841393564512115, 'max_depth': 22, 'num_leaves': 170, 'feature_fraction': 0.5427709051424301, 'subsample': 0.9, 'lambda_l1': 4.135452192128256, 'lambda_l2': 1.943313783854702, 'bagging_fraction': 0.4295479996082129, 'bagging_freq': 9}. Best is trial 3 with value: 0.39651979611630067.\u001b[0m\n",
            "\u001b[32m[I 2021-11-08 17:38:54,561]\u001b[0m Trial 16 finished with value: 0.4403597048729205 and parameters: {'learning_rate': 0.2099288762160166, 'max_depth': 3, 'num_leaves': 167, 'feature_fraction': 0.6169419378346276, 'subsample': 0.6, 'lambda_l1': 9.938588752205456, 'lambda_l2': 8.556760291365485, 'bagging_fraction': 0.8334277408912355, 'bagging_freq': 8}. Best is trial 3 with value: 0.39651979611630067.\u001b[0m\n",
            "\u001b[32m[I 2021-11-08 17:38:54,833]\u001b[0m Trial 17 finished with value: 0.44872927729382817 and parameters: {'learning_rate': 0.024330483216229805, 'max_depth': 34, 'num_leaves': 23, 'feature_fraction': 0.5871658473867557, 'subsample': 0.6, 'lambda_l1': 4.617921816310407, 'lambda_l2': 4.999631698116625, 'bagging_fraction': 0.3732155763921382, 'bagging_freq': 5}. Best is trial 3 with value: 0.39651979611630067.\u001b[0m\n",
            "\u001b[32m[I 2021-11-08 17:38:55,037]\u001b[0m Trial 18 finished with value: 0.4538002884978962 and parameters: {'learning_rate': 0.02563652632900031, 'max_depth': 8, 'num_leaves': 19, 'feature_fraction': 0.6457804502418598, 'subsample': 0.6, 'lambda_l1': 5.596197464136418, 'lambda_l2': 3.9274507166967867, 'bagging_fraction': 0.24835230512040374, 'bagging_freq': 0}. Best is trial 3 with value: 0.39651979611630067.\u001b[0m\n",
            "\u001b[32m[I 2021-11-08 17:38:55,439]\u001b[0m Trial 19 finished with value: 0.4175402006680279 and parameters: {'learning_rate': 0.1410510963866776, 'max_depth': 47, 'num_leaves': 80, 'feature_fraction': 0.8627291130401663, 'subsample': 0.7000000000000001, 'lambda_l1': 7.233281438931705, 'lambda_l2': 5.448108789967712, 'bagging_fraction': 0.32275773943373587, 'bagging_freq': 3}. Best is trial 3 with value: 0.39651979611630067.\u001b[0m\n",
            "\u001b[32m[I 2021-11-08 17:38:55,851]\u001b[0m Trial 20 finished with value: 0.47748170192043937 and parameters: {'learning_rate': 0.08962126914026718, 'max_depth': 14, 'num_leaves': 39, 'feature_fraction': 0.19141995781385274, 'subsample': 0.5, 'lambda_l1': 8.23134249809603, 'lambda_l2': 1.065577378459437, 'bagging_fraction': 0.9666401692515977, 'bagging_freq': 1}. Best is trial 3 with value: 0.39651979611630067.\u001b[0m\n",
            "\u001b[32m[I 2021-11-08 17:38:56,468]\u001b[0m Trial 21 finished with value: 0.48066073120428837 and parameters: {'learning_rate': 0.011963047103061529, 'max_depth': 30, 'num_leaves': 73, 'feature_fraction': 0.8583291396744644, 'subsample': 0.8, 'lambda_l1': 4.6784021724981315, 'lambda_l2': 4.476987478608549, 'bagging_fraction': 0.35428575535029916, 'bagging_freq': 6}. Best is trial 3 with value: 0.39651979611630067.\u001b[0m\n",
            "\u001b[32m[I 2021-11-08 17:38:56,717]\u001b[0m Trial 22 finished with value: 0.45408080289160774 and parameters: {'learning_rate': 0.11916428679555184, 'max_depth': 39, 'num_leaves': 42, 'feature_fraction': 0.7207596909071481, 'subsample': 0.5, 'lambda_l1': 9.504854505513782, 'lambda_l2': 9.040300808171374, 'bagging_fraction': 0.11179406839712835, 'bagging_freq': 5}. Best is trial 3 with value: 0.39651979611630067.\u001b[0m\n",
            "\u001b[32m[I 2021-11-08 17:38:57,956]\u001b[0m Trial 23 finished with value: 0.4760735684180696 and parameters: {'learning_rate': 0.010631033622395106, 'max_depth': 36, 'num_leaves': 193, 'feature_fraction': 0.8150039961842603, 'subsample': 0.7000000000000001, 'lambda_l1': 6.1486022005699015, 'lambda_l2': 6.968812508848847, 'bagging_fraction': 0.906173260264102, 'bagging_freq': 2}. Best is trial 3 with value: 0.39651979611630067.\u001b[0m\n",
            "\u001b[32m[I 2021-11-08 17:38:58,631]\u001b[0m Trial 24 finished with value: 0.4106069542523747 and parameters: {'learning_rate': 0.195205072142502, 'max_depth': 43, 'num_leaves': 48, 'feature_fraction': 0.5287205525786419, 'subsample': 0.4, 'lambda_l1': 2.9033385901769595, 'lambda_l2': 8.188256832878913, 'bagging_fraction': 0.9502820469374557, 'bagging_freq': 4}. Best is trial 3 with value: 0.39651979611630067.\u001b[0m\n",
            "\u001b[32m[I 2021-11-08 17:38:59,244]\u001b[0m Trial 25 finished with value: 0.4086391291854566 and parameters: {'learning_rate': 0.24652209525992633, 'max_depth': 22, 'num_leaves': 127, 'feature_fraction': 0.9935341501337895, 'subsample': 1.0, 'lambda_l1': 8.722217803604831, 'lambda_l2': 4.392750012288933, 'bagging_fraction': 0.6954280953974507, 'bagging_freq': 0}. Best is trial 3 with value: 0.39651979611630067.\u001b[0m\n",
            "\u001b[32m[I 2021-11-08 17:38:59,336]\u001b[0m Trial 26 finished with value: 0.636810568994772 and parameters: {'learning_rate': 0.04930230734211626, 'max_depth': 1, 'num_leaves': 89, 'feature_fraction': 0.4125110216742208, 'subsample': 0.9, 'lambda_l1': 5.304979813352291, 'lambda_l2': 3.9269101437819662, 'bagging_fraction': 0.26441145807566613, 'bagging_freq': 10}. Best is trial 3 with value: 0.39651979611630067.\u001b[0m\n",
            "\u001b[32m[I 2021-11-08 17:38:59,725]\u001b[0m Trial 27 finished with value: 0.4403356785013514 and parameters: {'learning_rate': 0.07656161278833995, 'max_depth': 11, 'num_leaves': 138, 'feature_fraction': 0.40800820735426846, 'subsample': 0.5, 'lambda_l1': 9.886435624602353, 'lambda_l2': 3.264956376222673, 'bagging_fraction': 0.5323261099070972, 'bagging_freq': 7}. Best is trial 3 with value: 0.39651979611630067.\u001b[0m\n",
            "\u001b[32m[I 2021-11-08 17:39:00,092]\u001b[0m Trial 28 finished with value: 0.46230824443856433 and parameters: {'learning_rate': 0.2526273632134436, 'max_depth': 45, 'num_leaves': 122, 'feature_fraction': 0.21915663938891936, 'subsample': 0.2, 'lambda_l1': 6.415783433901251, 'lambda_l2': 9.612843234933555, 'bagging_fraction': 0.3426702015657721, 'bagging_freq': 6}. Best is trial 3 with value: 0.39651979611630067.\u001b[0m\n",
            "\u001b[32m[I 2021-11-08 17:39:01,052]\u001b[0m Trial 29 finished with value: 0.3978729261880544 and parameters: {'learning_rate': 0.10322955421939162, 'max_depth': 50, 'num_leaves': 160, 'feature_fraction': 0.7812571942139293, 'subsample': 0.1, 'lambda_l1': 4.9364708905130605, 'lambda_l2': 1.8522201876330202, 'bagging_fraction': 0.9037861991206108, 'bagging_freq': 5}. Best is trial 3 with value: 0.39651979611630067.\u001b[0m\n",
            "\u001b[32m[I 2021-11-08 17:39:01,191]\u001b[0m Trial 30 finished with value: 0.5974592173841303 and parameters: {'learning_rate': 0.013920387938276754, 'max_depth': 3, 'num_leaves': 163, 'feature_fraction': 0.6727822437977752, 'subsample': 1.0, 'lambda_l1': 4.1142446613241725, 'lambda_l2': 2.7134123485648063, 'bagging_fraction': 0.42985994316992937, 'bagging_freq': 10}. Best is trial 3 with value: 0.39651979611630067.\u001b[0m\n",
            "\u001b[32m[I 2021-11-08 17:39:01,654]\u001b[0m Trial 31 finished with value: 0.412128487230959 and parameters: {'learning_rate': 0.18593011237971557, 'max_depth': 40, 'num_leaves': 62, 'feature_fraction': 0.45015763431856415, 'subsample': 0.1, 'lambda_l1': 6.796276908227363, 'lambda_l2': 0.6473398719439916, 'bagging_fraction': 0.760959701145758, 'bagging_freq': 1}. Best is trial 3 with value: 0.39651979611630067.\u001b[0m\n",
            "\u001b[32m[I 2021-11-08 17:39:02,141]\u001b[0m Trial 32 finished with value: 0.5248198654662589 and parameters: {'learning_rate': 0.03900917264475637, 'max_depth': 40, 'num_leaves': 75, 'feature_fraction': 0.2139280076783489, 'subsample': 0.9, 'lambda_l1': 3.2342139907633927, 'lambda_l2': 0.13495807950141603, 'bagging_fraction': 0.34906515448122233, 'bagging_freq': 5}. Best is trial 3 with value: 0.39651979611630067.\u001b[0m\n",
            "\u001b[32m[I 2021-11-08 17:39:03,149]\u001b[0m Trial 33 finished with value: 0.4479615588202356 and parameters: {'learning_rate': 0.013898208964183829, 'max_depth': 41, 'num_leaves': 163, 'feature_fraction': 0.6723039333092532, 'subsample': 0.30000000000000004, 'lambda_l1': 5.445192768770007, 'lambda_l2': 4.440804161803371, 'bagging_fraction': 0.36351567291160836, 'bagging_freq': 0}. Best is trial 3 with value: 0.39651979611630067.\u001b[0m\n",
            "\u001b[32m[I 2021-11-08 17:39:03,461]\u001b[0m Trial 34 finished with value: 0.5050621084975876 and parameters: {'learning_rate': 0.06398852713150079, 'max_depth': 39, 'num_leaves': 59, 'feature_fraction': 0.27299197996327546, 'subsample': 0.9, 'lambda_l1': 8.906805768810171, 'lambda_l2': 3.477128840005098, 'bagging_fraction': 0.4060680227327097, 'bagging_freq': 9}. Best is trial 3 with value: 0.39651979611630067.\u001b[0m\n",
            "\u001b[32m[I 2021-11-08 17:39:04,262]\u001b[0m Trial 35 finished with value: 0.41886660701332457 and parameters: {'learning_rate': 0.06388386892150547, 'max_depth': 25, 'num_leaves': 135, 'feature_fraction': 0.48381346602726605, 'subsample': 0.1, 'lambda_l1': 0.14558160220894623, 'lambda_l2': 3.5743324389491136, 'bagging_fraction': 0.5262360002729268, 'bagging_freq': 8}. Best is trial 3 with value: 0.39651979611630067.\u001b[0m\n",
            "\u001b[32m[I 2021-11-08 17:39:04,590]\u001b[0m Trial 36 finished with value: 0.48474854076479323 and parameters: {'learning_rate': 0.31331417154286767, 'max_depth': 27, 'num_leaves': 40, 'feature_fraction': 0.20588666417247736, 'subsample': 0.7000000000000001, 'lambda_l1': 0.06491079146472511, 'lambda_l2': 3.936133802824263, 'bagging_fraction': 0.41626619122438613, 'bagging_freq': 9}. Best is trial 3 with value: 0.39651979611630067.\u001b[0m\n",
            "\u001b[32m[I 2021-11-08 17:39:05,091]\u001b[0m Trial 37 finished with value: 0.4291486761701203 and parameters: {'learning_rate': 0.1310364145088011, 'max_depth': 33, 'num_leaves': 85, 'feature_fraction': 0.5309031337096755, 'subsample': 1.0, 'lambda_l1': 7.9661742284365165, 'lambda_l2': 7.356223848290999, 'bagging_fraction': 0.43569015829071356, 'bagging_freq': 9}. Best is trial 3 with value: 0.39651979611630067.\u001b[0m\n",
            "\u001b[32m[I 2021-11-08 17:39:05,777]\u001b[0m Trial 38 finished with value: 0.5198136103522304 and parameters: {'learning_rate': 0.013160020118130129, 'max_depth': 34, 'num_leaves': 153, 'feature_fraction': 0.4821327435604612, 'subsample': 0.7000000000000001, 'lambda_l1': 6.919184867574249, 'lambda_l2': 1.412192189859861, 'bagging_fraction': 0.7460921533197992, 'bagging_freq': 3}. Best is trial 3 with value: 0.39651979611630067.\u001b[0m\n",
            "\u001b[32m[I 2021-11-08 17:39:06,580]\u001b[0m Trial 39 finished with value: 0.41634592309523105 and parameters: {'learning_rate': 0.04374315537818891, 'max_depth': 47, 'num_leaves': 94, 'feature_fraction': 0.9492855201230276, 'subsample': 0.5, 'lambda_l1': 6.328722923467235, 'lambda_l2': 3.961004030809759, 'bagging_fraction': 0.6443749118146813, 'bagging_freq': 6}. Best is trial 3 with value: 0.39651979611630067.\u001b[0m\n",
            "\u001b[32m[I 2021-11-08 17:39:06,844]\u001b[0m Trial 40 finished with value: 0.4844952489440987 and parameters: {'learning_rate': 0.02121011561763448, 'max_depth': 23, 'num_leaves': 39, 'feature_fraction': 0.6972356658322361, 'subsample': 0.4, 'lambda_l1': 1.7796743357699873, 'lambda_l2': 9.309725812230981, 'bagging_fraction': 0.06095623045554377, 'bagging_freq': 2}. Best is trial 3 with value: 0.39651979611630067.\u001b[0m\n",
            "\u001b[32m[I 2021-11-08 17:39:07,077]\u001b[0m Trial 41 finished with value: 0.6466673775307418 and parameters: {'learning_rate': 0.029913480282466674, 'max_depth': 40, 'num_leaves': 9, 'feature_fraction': 0.1024125343209623, 'subsample': 0.4, 'lambda_l1': 4.888741437898019, 'lambda_l2': 7.2624022206991174, 'bagging_fraction': 0.6281187645349021, 'bagging_freq': 7}. Best is trial 3 with value: 0.39651979611630067.\u001b[0m\n",
            "\u001b[32m[I 2021-11-08 17:39:07,295]\u001b[0m Trial 42 finished with value: 0.4345659888005859 and parameters: {'learning_rate': 0.49419475495747955, 'max_depth': 10, 'num_leaves': 15, 'feature_fraction': 0.35042549302366344, 'subsample': 0.9, 'lambda_l1': 2.565870404426549, 'lambda_l2': 9.292435677707564, 'bagging_fraction': 0.8202879744674337, 'bagging_freq': 8}. Best is trial 3 with value: 0.39651979611630067.\u001b[0m\n",
            "\u001b[32m[I 2021-11-08 17:39:07,869]\u001b[0m Trial 43 finished with value: 0.41837487047164157 and parameters: {'learning_rate': 0.19521779147887708, 'max_depth': 22, 'num_leaves': 150, 'feature_fraction': 0.7708814461276786, 'subsample': 0.1, 'lambda_l1': 3.5733577755697588, 'lambda_l2': 5.448058618368171, 'bagging_fraction': 0.31306808103073314, 'bagging_freq': 9}. Best is trial 3 with value: 0.39651979611630067.\u001b[0m\n",
            "\u001b[32m[I 2021-11-08 17:39:08,873]\u001b[0m Trial 44 finished with value: 0.4232444250929039 and parameters: {'learning_rate': 0.05290571488245304, 'max_depth': 19, 'num_leaves': 191, 'feature_fraction': 0.548314467368667, 'subsample': 0.8, 'lambda_l1': 3.3296234985931097, 'lambda_l2': 8.403652014351866, 'bagging_fraction': 0.828987205482161, 'bagging_freq': 8}. Best is trial 3 with value: 0.39651979611630067.\u001b[0m\n",
            "\u001b[32m[I 2021-11-08 17:39:09,065]\u001b[0m Trial 45 finished with value: 0.5727619530761928 and parameters: {'learning_rate': 0.06525166138314714, 'max_depth': 5, 'num_leaves': 113, 'feature_fraction': 0.1599178093435743, 'subsample': 0.5, 'lambda_l1': 6.386517022084641, 'lambda_l2': 8.174717910657712, 'bagging_fraction': 0.6777989774263348, 'bagging_freq': 5}. Best is trial 3 with value: 0.39651979611630067.\u001b[0m\n",
            "\u001b[32m[I 2021-11-08 17:39:09,680]\u001b[0m Trial 46 finished with value: 0.4079698985445454 and parameters: {'learning_rate': 0.029729400174729057, 'max_depth': 12, 'num_leaves': 97, 'feature_fraction': 0.5788907247550329, 'subsample': 0.9, 'lambda_l1': 3.8157416594925477, 'lambda_l2': 7.389371458667803, 'bagging_fraction': 0.6455754271409188, 'bagging_freq': 0}. Best is trial 3 with value: 0.39651979611630067.\u001b[0m\n",
            "\u001b[32m[I 2021-11-08 17:39:09,943]\u001b[0m Trial 47 finished with value: 0.6163457965452432 and parameters: {'learning_rate': 0.0185442090621418, 'max_depth': 6, 'num_leaves': 73, 'feature_fraction': 0.2689093741427757, 'subsample': 0.8, 'lambda_l1': 5.309438834631754, 'lambda_l2': 0.8579541789909118, 'bagging_fraction': 0.5590598248328653, 'bagging_freq': 8}. Best is trial 3 with value: 0.39651979611630067.\u001b[0m\n",
            "\u001b[32m[I 2021-11-08 17:39:10,018]\u001b[0m Trial 48 finished with value: 0.6807818413869552 and parameters: {'learning_rate': 0.02359957392211052, 'max_depth': 1, 'num_leaves': 165, 'feature_fraction': 0.6399207537203866, 'subsample': 0.2, 'lambda_l1': 2.8222670030800225, 'lambda_l2': 1.0895465541843086, 'bagging_fraction': 0.06400824107902592, 'bagging_freq': 7}. Best is trial 3 with value: 0.39651979611630067.\u001b[0m\n",
            "\u001b[32m[I 2021-11-08 17:39:10,122]\u001b[0m Trial 49 finished with value: 0.45718268509768345 and parameters: {'learning_rate': 0.47840923704437094, 'max_depth': 2, 'num_leaves': 145, 'feature_fraction': 0.6286865307198124, 'subsample': 0.1, 'lambda_l1': 5.781664529365427, 'lambda_l2': 0.45266452966802206, 'bagging_fraction': 0.8476259842540705, 'bagging_freq': 10}. Best is trial 3 with value: 0.39651979611630067.\u001b[0m\n",
            "\u001b[32m[I 2021-11-08 17:39:10,801]\u001b[0m Trial 50 finished with value: 0.3989104742340219 and parameters: {'learning_rate': 0.11601638322761054, 'max_depth': 47, 'num_leaves': 91, 'feature_fraction': 0.8837855646647866, 'subsample': 0.2, 'lambda_l1': 2.651976320046235, 'lambda_l2': 5.463097079952278, 'bagging_fraction': 0.8120237414275892, 'bagging_freq': 1}. Best is trial 3 with value: 0.39651979611630067.\u001b[0m\n",
            "\u001b[32m[I 2021-11-08 17:39:11,728]\u001b[0m Trial 51 finished with value: 0.4054516314095657 and parameters: {'learning_rate': 0.0600230801352292, 'max_depth': 34, 'num_leaves': 147, 'feature_fraction': 0.9679956155661336, 'subsample': 0.30000000000000004, 'lambda_l1': 6.024395068414028, 'lambda_l2': 2.2495517018627087, 'bagging_fraction': 0.17855411338435045, 'bagging_freq': 0}. Best is trial 3 with value: 0.39651979611630067.\u001b[0m\n",
            "\u001b[32m[I 2021-11-08 17:39:11,940]\u001b[0m Trial 52 finished with value: 0.525163072957542 and parameters: {'learning_rate': 0.028812961206585882, 'max_depth': 30, 'num_leaves': 78, 'feature_fraction': 0.4659798510543979, 'subsample': 0.7000000000000001, 'lambda_l1': 9.36325343521887, 'lambda_l2': 9.344753211106747, 'bagging_fraction': 0.11695429050401263, 'bagging_freq': 10}. Best is trial 3 with value: 0.39651979611630067.\u001b[0m\n",
            "\u001b[32m[I 2021-11-08 17:39:12,614]\u001b[0m Trial 53 finished with value: 0.40838300910238534 and parameters: {'learning_rate': 0.04036258028185891, 'max_depth': 11, 'num_leaves': 98, 'feature_fraction': 0.9533476237692035, 'subsample': 0.8, 'lambda_l1': 0.3716301186665627, 'lambda_l2': 6.852873743325811, 'bagging_fraction': 0.7972999621504773, 'bagging_freq': 1}. Best is trial 3 with value: 0.39651979611630067.\u001b[0m\n",
            "\u001b[32m[I 2021-11-08 17:39:13,511]\u001b[0m Trial 54 finished with value: 0.4094367739661108 and parameters: {'learning_rate': 0.028250086181185727, 'max_depth': 46, 'num_leaves': 150, 'feature_fraction': 0.837340062880156, 'subsample': 0.9, 'lambda_l1': 1.04450217078484, 'lambda_l2': 2.6574329989225154, 'bagging_fraction': 0.5019959901869144, 'bagging_freq': 10}. Best is trial 3 with value: 0.39651979611630067.\u001b[0m\n",
            "\u001b[32m[I 2021-11-08 17:39:13,723]\u001b[0m Trial 55 finished with value: 0.5207955517994097 and parameters: {'learning_rate': 0.07118040606214739, 'max_depth': 4, 'num_leaves': 168, 'feature_fraction': 0.23866251728365276, 'subsample': 0.7000000000000001, 'lambda_l1': 0.26707867229355253, 'lambda_l2': 5.290503963678526, 'bagging_fraction': 0.7907608049114747, 'bagging_freq': 2}. Best is trial 3 with value: 0.39651979611630067.\u001b[0m\n",
            "\u001b[32m[I 2021-11-08 17:39:14,163]\u001b[0m Trial 56 finished with value: 0.49247302806082816 and parameters: {'learning_rate': 0.01003238146404752, 'max_depth': 30, 'num_leaves': 52, 'feature_fraction': 0.824026164897607, 'subsample': 0.4, 'lambda_l1': 4.393666516161189, 'lambda_l2': 7.9163865922202925, 'bagging_fraction': 0.700242375173287, 'bagging_freq': 0}. Best is trial 3 with value: 0.39651979611630067.\u001b[0m\n",
            "\u001b[32m[I 2021-11-08 17:39:14,424]\u001b[0m Trial 57 finished with value: 0.48419857747106637 and parameters: {'learning_rate': 0.014693228110827346, 'max_depth': 8, 'num_leaves': 23, 'feature_fraction': 0.7660269606788939, 'subsample': 0.1, 'lambda_l1': 3.7113896385363008, 'lambda_l2': 2.206393664314128, 'bagging_fraction': 0.7445408087954882, 'bagging_freq': 10}. Best is trial 3 with value: 0.39651979611630067.\u001b[0m\n",
            "\u001b[32m[I 2021-11-08 17:39:15,090]\u001b[0m Trial 58 finished with value: 0.40594040042054813 and parameters: {'learning_rate': 0.07939134544813685, 'max_depth': 45, 'num_leaves': 95, 'feature_fraction': 0.6205601050691562, 'subsample': 0.30000000000000004, 'lambda_l1': 5.166170729392407, 'lambda_l2': 7.490867003152416, 'bagging_fraction': 0.6418963913941058, 'bagging_freq': 8}. Best is trial 3 with value: 0.39651979611630067.\u001b[0m\n",
            "\u001b[32m[I 2021-11-08 17:39:15,607]\u001b[0m Trial 59 finished with value: 0.40558701442040646 and parameters: {'learning_rate': 0.1709225280319252, 'max_depth': 18, 'num_leaves': 60, 'feature_fraction': 0.9798335435748414, 'subsample': 0.9, 'lambda_l1': 5.3207860589194045, 'lambda_l2': 3.6302482446948146, 'bagging_fraction': 0.6896167194385239, 'bagging_freq': 7}. Best is trial 3 with value: 0.39651979611630067.\u001b[0m\n",
            "\u001b[32m[I 2021-11-08 17:39:15,800]\u001b[0m Trial 60 finished with value: 0.4166956528839347 and parameters: {'learning_rate': 0.40424416285424764, 'max_depth': 4, 'num_leaves': 86, 'feature_fraction': 0.7124879010439327, 'subsample': 1.0, 'lambda_l1': 1.5148330989585634, 'lambda_l2': 7.751587440708509, 'bagging_fraction': 0.9204652403386325, 'bagging_freq': 9}. Best is trial 3 with value: 0.39651979611630067.\u001b[0m\n",
            "\u001b[32m[I 2021-11-08 17:39:16,779]\u001b[0m Trial 61 finished with value: 0.40228465783157036 and parameters: {'learning_rate': 0.10596166385580474, 'max_depth': 47, 'num_leaves': 193, 'feature_fraction': 0.9137824115200742, 'subsample': 0.6, 'lambda_l1': 4.341210581490271, 'lambda_l2': 8.614258522367955, 'bagging_fraction': 0.7108743627973311, 'bagging_freq': 8}. Best is trial 3 with value: 0.39651979611630067.\u001b[0m\n",
            "\u001b[32m[I 2021-11-08 17:39:17,066]\u001b[0m Trial 62 finished with value: 0.447771139092268 and parameters: {'learning_rate': 0.1262373465157574, 'max_depth': 9, 'num_leaves': 85, 'feature_fraction': 0.5468710806425423, 'subsample': 0.30000000000000004, 'lambda_l1': 6.651167248358903, 'lambda_l2': 5.853417148717948, 'bagging_fraction': 0.18012657250529418, 'bagging_freq': 10}. Best is trial 3 with value: 0.39651979611630067.\u001b[0m\n",
            "\u001b[32m[I 2021-11-08 17:39:17,356]\u001b[0m Trial 63 finished with value: 0.42451141940570924 and parameters: {'learning_rate': 0.4220342840187392, 'max_depth': 24, 'num_leaves': 164, 'feature_fraction': 0.9776913612753276, 'subsample': 0.6, 'lambda_l1': 8.533602539494332, 'lambda_l2': 9.673380814183213, 'bagging_fraction': 0.5144857169746531, 'bagging_freq': 5}. Best is trial 3 with value: 0.39651979611630067.\u001b[0m\n",
            "\u001b[32m[I 2021-11-08 17:39:17,916]\u001b[0m Trial 64 finished with value: 0.4250407560354927 and parameters: {'learning_rate': 0.03161386743214664, 'max_depth': 36, 'num_leaves': 193, 'feature_fraction': 0.775563064620381, 'subsample': 0.9, 'lambda_l1': 9.379972054046705, 'lambda_l2': 6.079184873068869, 'bagging_fraction': 0.6053258181464448, 'bagging_freq': 8}. Best is trial 3 with value: 0.39651979611630067.\u001b[0m\n",
            "\u001b[32m[I 2021-11-08 17:39:18,526]\u001b[0m Trial 65 finished with value: 0.5027100986623053 and parameters: {'learning_rate': 0.05505029336753914, 'max_depth': 44, 'num_leaves': 106, 'feature_fraction': 0.20285029935984045, 'subsample': 0.2, 'lambda_l1': 4.0181953851929, 'lambda_l2': 8.99271780701121, 'bagging_fraction': 0.46637003121684095, 'bagging_freq': 1}. Best is trial 3 with value: 0.39651979611630067.\u001b[0m\n",
            "\u001b[32m[I 2021-11-08 17:39:19,365]\u001b[0m Trial 66 finished with value: 0.43330840615645827 and parameters: {'learning_rate': 0.07910384897229808, 'max_depth': 19, 'num_leaves': 134, 'feature_fraction': 0.36905255495241707, 'subsample': 0.8, 'lambda_l1': 4.371448651457422, 'lambda_l2': 7.521784763073819, 'bagging_fraction': 0.48699434964015587, 'bagging_freq': 10}. Best is trial 3 with value: 0.39651979611630067.\u001b[0m\n",
            "\u001b[32m[I 2021-11-08 17:39:19,916]\u001b[0m Trial 67 finished with value: 0.4047583127113877 and parameters: {'learning_rate': 0.1477013070839142, 'max_depth': 45, 'num_leaves': 63, 'feature_fraction': 0.6943987102597674, 'subsample': 0.2, 'lambda_l1': 4.198116261666282, 'lambda_l2': 7.850581997017692, 'bagging_fraction': 0.7536753244610914, 'bagging_freq': 7}. Best is trial 3 with value: 0.39651979611630067.\u001b[0m\n",
            "\u001b[32m[I 2021-11-08 17:39:20,157]\u001b[0m Trial 68 finished with value: 0.47968358610572653 and parameters: {'learning_rate': 0.06479745023015845, 'max_depth': 49, 'num_leaves': 91, 'feature_fraction': 0.39393872967084664, 'subsample': 0.7000000000000001, 'lambda_l1': 4.316701534071732, 'lambda_l2': 5.5765427823076985, 'bagging_fraction': 0.07853628558552561, 'bagging_freq': 7}. Best is trial 3 with value: 0.39651979611630067.\u001b[0m\n",
            "\u001b[32m[I 2021-11-08 17:39:20,268]\u001b[0m Trial 69 finished with value: 0.540168981430898 and parameters: {'learning_rate': 0.044693216470514434, 'max_depth': 2, 'num_leaves': 70, 'feature_fraction': 0.9844309068229681, 'subsample': 0.8, 'lambda_l1': 5.596716042602838, 'lambda_l2': 3.5185366723680023, 'bagging_fraction': 0.7476820979579274, 'bagging_freq': 9}. Best is trial 3 with value: 0.39651979611630067.\u001b[0m\n",
            "\u001b[32m[I 2021-11-08 17:39:21,054]\u001b[0m Trial 70 finished with value: 0.49780186824601586 and parameters: {'learning_rate': 0.05348933532400749, 'max_depth': 33, 'num_leaves': 114, 'feature_fraction': 0.2903585865627589, 'subsample': 0.1, 'lambda_l1': 4.185632521017255, 'lambda_l2': 1.496898981118624, 'bagging_fraction': 0.819483435163834, 'bagging_freq': 3}. Best is trial 3 with value: 0.39651979611630067.\u001b[0m\n",
            "\u001b[32m[I 2021-11-08 17:39:21,249]\u001b[0m Trial 71 finished with value: 0.75684735758005 and parameters: {'learning_rate': 0.01252753667474572, 'max_depth': 40, 'num_leaves': 17, 'feature_fraction': 0.15586864254705257, 'subsample': 1.0, 'lambda_l1': 9.062033892949607, 'lambda_l2': 4.736859245023649, 'bagging_fraction': 0.22273929532181702, 'bagging_freq': 0}. Best is trial 3 with value: 0.39651979611630067.\u001b[0m\n",
            "\u001b[32m[I 2021-11-08 17:39:22,101]\u001b[0m Trial 72 finished with value: 0.4186451231822538 and parameters: {'learning_rate': 0.022485431511447985, 'max_depth': 17, 'num_leaves': 132, 'feature_fraction': 0.6278595716086092, 'subsample': 0.9, 'lambda_l1': 3.887048530048717, 'lambda_l2': 5.126412309528691, 'bagging_fraction': 0.6457075540039124, 'bagging_freq': 1}. Best is trial 3 with value: 0.39651979611630067.\u001b[0m\n",
            "\u001b[32m[I 2021-11-08 17:39:22,493]\u001b[0m Trial 73 finished with value: 0.42606281742323754 and parameters: {'learning_rate': 0.07512687593779702, 'max_depth': 50, 'num_leaves': 170, 'feature_fraction': 0.6587554712504496, 'subsample': 0.7000000000000001, 'lambda_l1': 8.958086235096694, 'lambda_l2': 8.184829141352898, 'bagging_fraction': 0.3262936526108533, 'bagging_freq': 2}. Best is trial 3 with value: 0.39651979611630067.\u001b[0m\n",
            "\u001b[32m[I 2021-11-08 17:39:23,048]\u001b[0m Trial 74 finished with value: 0.406977903155122 and parameters: {'learning_rate': 0.1459326218194462, 'max_depth': 44, 'num_leaves': 144, 'feature_fraction': 0.7395020923755092, 'subsample': 0.6, 'lambda_l1': 9.958447528508765, 'lambda_l2': 4.874462447436608, 'bagging_fraction': 0.7265061283934117, 'bagging_freq': 10}. Best is trial 3 with value: 0.39651979611630067.\u001b[0m\n",
            "\u001b[32m[I 2021-11-08 17:39:23,312]\u001b[0m Trial 75 finished with value: 0.5058030860420727 and parameters: {'learning_rate': 0.017685016053210843, 'max_depth': 30, 'num_leaves': 101, 'feature_fraction': 0.7655652024285033, 'subsample': 0.7000000000000001, 'lambda_l1': 5.811449464477533, 'lambda_l2': 8.764807289465178, 'bagging_fraction': 0.09937523762084077, 'bagging_freq': 2}. Best is trial 3 with value: 0.39651979611630067.\u001b[0m\n",
            "\u001b[32m[I 2021-11-08 17:39:23,782]\u001b[0m Trial 76 finished with value: 0.4124297403257009 and parameters: {'learning_rate': 0.039177841998359, 'max_depth': 8, 'num_leaves': 172, 'feature_fraction': 0.5650286228344501, 'subsample': 0.6, 'lambda_l1': 0.35391977940856023, 'lambda_l2': 7.102883063266454, 'bagging_fraction': 0.4199707361276752, 'bagging_freq': 2}. Best is trial 3 with value: 0.39651979611630067.\u001b[0m\n",
            "\u001b[32m[I 2021-11-08 17:39:24,018]\u001b[0m Trial 77 finished with value: 0.6171732219434684 and parameters: {'learning_rate': 0.03442713938080082, 'max_depth': 50, 'num_leaves': 20, 'feature_fraction': 0.1251986960270418, 'subsample': 0.9, 'lambda_l1': 6.453636179506455, 'lambda_l2': 4.1198478104386735, 'bagging_fraction': 0.9384740797998214, 'bagging_freq': 8}. Best is trial 3 with value: 0.39651979611630067.\u001b[0m\n",
            "\u001b[32m[I 2021-11-08 17:39:24,353]\u001b[0m Trial 78 finished with value: 0.46446226614320063 and parameters: {'learning_rate': 0.04692655783454779, 'max_depth': 10, 'num_leaves': 80, 'feature_fraction': 0.35662335801123535, 'subsample': 0.5, 'lambda_l1': 4.557442588050634, 'lambda_l2': 2.3125227154561245, 'bagging_fraction': 0.19051180124360279, 'bagging_freq': 5}. Best is trial 3 with value: 0.39651979611630067.\u001b[0m\n",
            "\u001b[32m[I 2021-11-08 17:39:24,770]\u001b[0m Trial 79 finished with value: 0.5373689189427205 and parameters: {'learning_rate': 0.16626822205944758, 'max_depth': 12, 'num_leaves': 139, 'feature_fraction': 0.15581856780791448, 'subsample': 1.0, 'lambda_l1': 1.9353814298532357, 'lambda_l2': 6.2603425141511115, 'bagging_fraction': 0.5551742198369057, 'bagging_freq': 5}. Best is trial 3 with value: 0.39651979611630067.\u001b[0m\n",
            "\u001b[32m[I 2021-11-08 17:39:25,649]\u001b[0m Trial 80 finished with value: 0.4054568073554765 and parameters: {'learning_rate': 0.14426740574157657, 'max_depth': 11, 'num_leaves': 143, 'feature_fraction': 0.6456010590522028, 'subsample': 0.5, 'lambda_l1': 2.8894375076238257, 'lambda_l2': 4.150810683419957, 'bagging_fraction': 0.5573268615481147, 'bagging_freq': 8}. Best is trial 3 with value: 0.39651979611630067.\u001b[0m\n",
            "\u001b[32m[I 2021-11-08 17:39:26,035]\u001b[0m Trial 81 finished with value: 0.4459502698158341 and parameters: {'learning_rate': 0.4794193139198095, 'max_depth': 8, 'num_leaves': 161, 'feature_fraction': 0.3194697201299358, 'subsample': 0.8, 'lambda_l1': 6.149945341716036, 'lambda_l2': 8.717320215736805, 'bagging_fraction': 0.34807342252528295, 'bagging_freq': 2}. Best is trial 3 with value: 0.39651979611630067.\u001b[0m\n",
            "\u001b[32m[I 2021-11-08 17:39:26,516]\u001b[0m Trial 82 finished with value: 0.44021561298352524 and parameters: {'learning_rate': 0.019819111389795828, 'max_depth': 27, 'num_leaves': 59, 'feature_fraction': 0.5820482145092061, 'subsample': 0.7000000000000001, 'lambda_l1': 6.983511982845721, 'lambda_l2': 9.73275490960787, 'bagging_fraction': 0.6717715766785044, 'bagging_freq': 2}. Best is trial 3 with value: 0.39651979611630067.\u001b[0m\n",
            "\u001b[32m[I 2021-11-08 17:39:26,907]\u001b[0m Trial 83 finished with value: 0.41588273608171433 and parameters: {'learning_rate': 0.244503299669919, 'max_depth': 27, 'num_leaves': 102, 'feature_fraction': 0.9842130064430206, 'subsample': 0.4, 'lambda_l1': 1.6446914196565787, 'lambda_l2': 4.241588207012777, 'bagging_fraction': 0.5019487643697425, 'bagging_freq': 5}. Best is trial 3 with value: 0.39651979611630067.\u001b[0m\n",
            "\u001b[32m[I 2021-11-08 17:39:27,069]\u001b[0m Trial 84 finished with value: 0.5993397757305703 and parameters: {'learning_rate': 0.015765369385247464, 'max_depth': 22, 'num_leaves': 12, 'feature_fraction': 0.7449721892103072, 'subsample': 0.30000000000000004, 'lambda_l1': 7.756028323033059, 'lambda_l2': 5.395660374541093, 'bagging_fraction': 0.030036565022568018, 'bagging_freq': 7}. Best is trial 3 with value: 0.39651979611630067.\u001b[0m\n",
            "\u001b[32m[I 2021-11-08 17:39:27,421]\u001b[0m Trial 85 finished with value: 0.44320878777595174 and parameters: {'learning_rate': 0.03240428739933848, 'max_depth': 49, 'num_leaves': 53, 'feature_fraction': 0.6292224663461139, 'subsample': 1.0, 'lambda_l1': 6.566945388598925, 'lambda_l2': 0.25641922400503003, 'bagging_fraction': 0.19966086412334227, 'bagging_freq': 3}. Best is trial 3 with value: 0.39651979611630067.\u001b[0m\n",
            "\u001b[32m[I 2021-11-08 17:39:28,019]\u001b[0m Trial 86 finished with value: 0.40420714735408503 and parameters: {'learning_rate': 0.20176998020618842, 'max_depth': 44, 'num_leaves': 64, 'feature_fraction': 0.775072944150149, 'subsample': 0.4, 'lambda_l1': 7.761690619426911, 'lambda_l2': 1.2708480043327985, 'bagging_fraction': 0.9034522702070251, 'bagging_freq': 8}. Best is trial 3 with value: 0.39651979611630067.\u001b[0m\n",
            "\u001b[32m[I 2021-11-08 17:39:28,199]\u001b[0m Trial 87 finished with value: 0.7859233855444637 and parameters: {'learning_rate': 0.011747415906234588, 'max_depth': 40, 'num_leaves': 107, 'feature_fraction': 0.1488218043411238, 'subsample': 0.6, 'lambda_l1': 1.781211714324874, 'lambda_l2': 9.493383910649309, 'bagging_fraction': 0.052486040494251984, 'bagging_freq': 8}. Best is trial 3 with value: 0.39651979611630067.\u001b[0m\n",
            "\u001b[32m[I 2021-11-08 17:39:28,490]\u001b[0m Trial 88 finished with value: 0.4369405320178304 and parameters: {'learning_rate': 0.3949899763690542, 'max_depth': 14, 'num_leaves': 136, 'feature_fraction': 0.8367485616863777, 'subsample': 0.6, 'lambda_l1': 8.672226367828047, 'lambda_l2': 1.2640844830901077, 'bagging_fraction': 0.23644981950328092, 'bagging_freq': 4}. Best is trial 3 with value: 0.39651979611630067.\u001b[0m\n",
            "\u001b[32m[I 2021-11-08 17:39:29,247]\u001b[0m Trial 89 finished with value: 0.43072310683191417 and parameters: {'learning_rate': 0.01951965012519572, 'max_depth': 28, 'num_leaves': 100, 'feature_fraction': 0.8467193391750494, 'subsample': 0.2, 'lambda_l1': 3.504423986891181, 'lambda_l2': 4.953862250288301, 'bagging_fraction': 0.5171000684259394, 'bagging_freq': 10}. Best is trial 3 with value: 0.39651979611630067.\u001b[0m\n",
            "\u001b[32m[I 2021-11-08 17:39:29,468]\u001b[0m Trial 90 finished with value: 0.47612802166155765 and parameters: {'learning_rate': 0.0326479576983074, 'max_depth': 4, 'num_leaves': 159, 'feature_fraction': 0.8358325771289173, 'subsample': 0.4, 'lambda_l1': 6.928415500604304, 'lambda_l2': 1.7759496988702128, 'bagging_fraction': 0.6018299673983756, 'bagging_freq': 10}. Best is trial 3 with value: 0.39651979611630067.\u001b[0m\n",
            "\u001b[32m[I 2021-11-08 17:39:29,609]\u001b[0m Trial 91 finished with value: 0.5941245151971236 and parameters: {'learning_rate': 0.02336606006127089, 'max_depth': 2, 'num_leaves': 70, 'feature_fraction': 0.9194073683337735, 'subsample': 0.1, 'lambda_l1': 2.6138756284162556, 'lambda_l2': 8.385291889698435, 'bagging_fraction': 0.5335477063500341, 'bagging_freq': 2}. Best is trial 3 with value: 0.39651979611630067.\u001b[0m\n",
            "\u001b[32m[I 2021-11-08 17:39:30,077]\u001b[0m Trial 92 finished with value: 0.4892463265050291 and parameters: {'learning_rate': 0.44702780705298456, 'max_depth': 31, 'num_leaves': 110, 'feature_fraction': 0.2458517460523042, 'subsample': 0.2, 'lambda_l1': 3.0301970644951135, 'lambda_l2': 3.249602543307446, 'bagging_fraction': 0.847128224067053, 'bagging_freq': 0}. Best is trial 3 with value: 0.39651979611630067.\u001b[0m\n",
            "\u001b[32m[I 2021-11-08 17:39:30,399]\u001b[0m Trial 93 finished with value: 0.48185962256769427 and parameters: {'learning_rate': 0.029714182165026564, 'max_depth': 16, 'num_leaves': 135, 'feature_fraction': 0.4504638770721634, 'subsample': 0.30000000000000004, 'lambda_l1': 8.030970209706979, 'lambda_l2': 0.25089435778300695, 'bagging_fraction': 0.25972255585407, 'bagging_freq': 7}. Best is trial 3 with value: 0.39651979611630067.\u001b[0m\n",
            "\u001b[32m[I 2021-11-08 17:39:30,662]\u001b[0m Trial 94 finished with value: 0.44715682420844033 and parameters: {'learning_rate': 0.13429425886981647, 'max_depth': 37, 'num_leaves': 195, 'feature_fraction': 0.7114025919090909, 'subsample': 0.7000000000000001, 'lambda_l1': 3.711343204569051, 'lambda_l2': 1.604494904936895, 'bagging_fraction': 0.07071293868381345, 'bagging_freq': 6}. Best is trial 3 with value: 0.39651979611630067.\u001b[0m\n",
            "\u001b[32m[I 2021-11-08 17:39:31,016]\u001b[0m Trial 95 finished with value: 0.414372836447735 and parameters: {'learning_rate': 0.11629041689785795, 'max_depth': 44, 'num_leaves': 36, 'feature_fraction': 0.6768261892556375, 'subsample': 0.5, 'lambda_l1': 6.421744213863238, 'lambda_l2': 7.247784448964881, 'bagging_fraction': 0.5430322105116778, 'bagging_freq': 8}. Best is trial 3 with value: 0.39651979611630067.\u001b[0m\n",
            "\u001b[32m[I 2021-11-08 17:39:31,295]\u001b[0m Trial 96 finished with value: 0.4811423011692718 and parameters: {'learning_rate': 0.016020436997400266, 'max_depth': 7, 'num_leaves': 27, 'feature_fraction': 0.6800192567464851, 'subsample': 0.9, 'lambda_l1': 9.938402262057291, 'lambda_l2': 2.4679446916315317, 'bagging_fraction': 0.5918515676172861, 'bagging_freq': 9}. Best is trial 3 with value: 0.39651979611630067.\u001b[0m\n",
            "\u001b[32m[I 2021-11-08 17:39:31,657]\u001b[0m Trial 97 finished with value: 0.44090995863090954 and parameters: {'learning_rate': 0.02367570036453198, 'max_depth': 42, 'num_leaves': 39, 'feature_fraction': 0.6015160955219956, 'subsample': 0.8, 'lambda_l1': 3.753439436444026, 'lambda_l2': 1.28763237292986, 'bagging_fraction': 0.2242875177425664, 'bagging_freq': 5}. Best is trial 3 with value: 0.39651979611630067.\u001b[0m\n",
            "\u001b[32m[I 2021-11-08 17:39:32,938]\u001b[0m Trial 98 finished with value: 0.39672142197058635 and parameters: {'learning_rate': 0.1293105046477676, 'max_depth': 31, 'num_leaves': 176, 'feature_fraction': 0.7365324033141099, 'subsample': 0.1, 'lambda_l1': 3.1538150432793954, 'lambda_l2': 5.148799931250321, 'bagging_fraction': 0.8815514975265633, 'bagging_freq': 6}. Best is trial 3 with value: 0.39651979611630067.\u001b[0m\n",
            "\u001b[32m[I 2021-11-08 17:39:33,101]\u001b[0m Trial 99 finished with value: 0.5216487729318977 and parameters: {'learning_rate': 0.04979141483829568, 'max_depth': 3, 'num_leaves': 172, 'feature_fraction': 0.46558856275133986, 'subsample': 0.9, 'lambda_l1': 8.106298687758127, 'lambda_l2': 7.0851110114835265, 'bagging_fraction': 0.39656485044742495, 'bagging_freq': 8}. Best is trial 3 with value: 0.39651979611630067.\u001b[0m\n",
            "\u001b[32m[I 2021-11-08 17:39:33,554]\u001b[0m Trial 100 finished with value: 0.42560380023828476 and parameters: {'learning_rate': 0.05929598452002089, 'max_depth': 7, 'num_leaves': 187, 'feature_fraction': 0.7322080946778238, 'subsample': 0.9, 'lambda_l1': 5.0040158685362375, 'lambda_l2': 8.10095917692948, 'bagging_fraction': 0.36184384080999643, 'bagging_freq': 3}. Best is trial 3 with value: 0.39651979611630067.\u001b[0m\n",
            "\u001b[32m[I 2021-11-08 17:39:33,810]\u001b[0m Trial 101 finished with value: 0.4108843914189276 and parameters: {'learning_rate': 0.16461815167299582, 'max_depth': 44, 'num_leaves': 21, 'feature_fraction': 0.8171735122273925, 'subsample': 0.7000000000000001, 'lambda_l1': 7.133214959915847, 'lambda_l2': 6.472770049297926, 'bagging_fraction': 0.2082799878994538, 'bagging_freq': 0}. Best is trial 3 with value: 0.39651979611630067.\u001b[0m\n",
            "\u001b[32m[I 2021-11-08 17:39:34,805]\u001b[0m Trial 102 finished with value: 0.4200451478492416 and parameters: {'learning_rate': 0.0250374829260961, 'max_depth': 29, 'num_leaves': 124, 'feature_fraction': 0.8340259847075675, 'subsample': 0.2, 'lambda_l1': 5.987654429196746, 'lambda_l2': 3.294089021953842, 'bagging_fraction': 0.709395092293014, 'bagging_freq': 3}. Best is trial 3 with value: 0.39651979611630067.\u001b[0m\n",
            "\u001b[32m[I 2021-11-08 17:39:34,934]\u001b[0m Trial 103 finished with value: 0.558490011980793 and parameters: {'learning_rate': 0.33321142013957816, 'max_depth': 31, 'num_leaves': 183, 'feature_fraction': 0.16371928613538766, 'subsample': 0.5, 'lambda_l1': 7.157550373246008, 'lambda_l2': 5.959444705090161, 'bagging_fraction': 0.031762869486578915, 'bagging_freq': 7}. Best is trial 3 with value: 0.39651979611630067.\u001b[0m\n",
            "\u001b[32m[I 2021-11-08 17:39:35,383]\u001b[0m Trial 104 finished with value: 0.4091026725992958 and parameters: {'learning_rate': 0.1282534455433105, 'max_depth': 33, 'num_leaves': 139, 'feature_fraction': 0.9047790466556587, 'subsample': 0.7000000000000001, 'lambda_l1': 0.08317531047543514, 'lambda_l2': 2.2744463310310756, 'bagging_fraction': 0.5181056072861914, 'bagging_freq': 2}. Best is trial 3 with value: 0.39651979611630067.\u001b[0m\n",
            "\u001b[32m[I 2021-11-08 17:39:35,911]\u001b[0m Trial 105 finished with value: 0.40095279995896543 and parameters: {'learning_rate': 0.22276027754422306, 'max_depth': 38, 'num_leaves': 44, 'feature_fraction': 0.7279252150891795, 'subsample': 0.2, 'lambda_l1': 7.799588696354287, 'lambda_l2': 6.548682206870444, 'bagging_fraction': 0.986638588405437, 'bagging_freq': 1}. Best is trial 3 with value: 0.39651979611630067.\u001b[0m\n",
            "\u001b[32m[I 2021-11-08 17:39:36,359]\u001b[0m Trial 106 finished with value: 0.46568598439138215 and parameters: {'learning_rate': 0.2524945687208914, 'max_depth': 37, 'num_leaves': 77, 'feature_fraction': 0.18772123430003512, 'subsample': 0.8, 'lambda_l1': 8.400717398678148, 'lambda_l2': 9.942512931586048, 'bagging_fraction': 0.4634168068086292, 'bagging_freq': 5}. Best is trial 3 with value: 0.39651979611630067.\u001b[0m\n",
            "\u001b[32m[I 2021-11-08 17:39:36,763]\u001b[0m Trial 107 finished with value: 0.4389381242978907 and parameters: {'learning_rate': 0.35550839618723723, 'max_depth': 15, 'num_leaves': 97, 'feature_fraction': 0.5340663015271264, 'subsample': 0.8, 'lambda_l1': 4.864935402534266, 'lambda_l2': 3.153400545827928, 'bagging_fraction': 0.45064883912965026, 'bagging_freq': 1}. Best is trial 3 with value: 0.39651979611630067.\u001b[0m\n",
            "\u001b[32m[I 2021-11-08 17:39:37,025]\u001b[0m Trial 108 finished with value: 0.4959980078356618 and parameters: {'learning_rate': 0.0180005798289689, 'max_depth': 44, 'num_leaves': 66, 'feature_fraction': 0.675610756766471, 'subsample': 0.9, 'lambda_l1': 3.2345215416979824, 'lambda_l2': 0.848927260460296, 'bagging_fraction': 0.06279071054471452, 'bagging_freq': 2}. Best is trial 3 with value: 0.39651979611630067.\u001b[0m\n",
            "\u001b[32m[I 2021-11-08 17:39:37,375]\u001b[0m Trial 109 finished with value: 0.7830686055669575 and parameters: {'learning_rate': 0.010319868830425979, 'max_depth': 41, 'num_leaves': 130, 'feature_fraction': 0.14298655651431758, 'subsample': 0.8, 'lambda_l1': 3.636335672738318, 'lambda_l2': 6.141879020698212, 'bagging_fraction': 0.3018876004908275, 'bagging_freq': 3}. Best is trial 3 with value: 0.39651979611630067.\u001b[0m\n",
            "\u001b[32m[I 2021-11-08 17:39:38,129]\u001b[0m Trial 110 finished with value: 0.41491373669578346 and parameters: {'learning_rate': 0.023948553527876823, 'max_depth': 50, 'num_leaves': 93, 'feature_fraction': 0.6587081167451977, 'subsample': 0.4, 'lambda_l1': 1.41691151910727, 'lambda_l2': 8.482458633399188, 'bagging_fraction': 0.5120941306020113, 'bagging_freq': 3}. Best is trial 3 with value: 0.39651979611630067.\u001b[0m\n",
            "\u001b[32m[I 2021-11-08 17:39:38,707]\u001b[0m Trial 111 finished with value: 0.47491849714121104 and parameters: {'learning_rate': 0.17921410083841952, 'max_depth': 33, 'num_leaves': 154, 'feature_fraction': 0.26978759225612303, 'subsample': 0.9, 'lambda_l1': 2.836340250421836, 'lambda_l2': 1.7298571801116414, 'bagging_fraction': 0.42204726607941945, 'bagging_freq': 8}. Best is trial 3 with value: 0.39651979611630067.\u001b[0m\n",
            "\u001b[32m[I 2021-11-08 17:39:38,823]\u001b[0m Trial 112 finished with value: 0.47951064538515537 and parameters: {'learning_rate': 0.12291142148522118, 'max_depth': 2, 'num_leaves': 87, 'feature_fraction': 0.8430432928264274, 'subsample': 0.5, 'lambda_l1': 0.7474162515167582, 'lambda_l2': 8.007994741559093, 'bagging_fraction': 0.7711515557465239, 'bagging_freq': 5}. Best is trial 3 with value: 0.39651979611630067.\u001b[0m\n",
            "\u001b[32m[I 2021-11-08 17:39:39,385]\u001b[0m Trial 113 finished with value: 0.42892188622843186 and parameters: {'learning_rate': 0.2203744613166205, 'max_depth': 48, 'num_leaves': 175, 'feature_fraction': 0.48795644381076575, 'subsample': 0.30000000000000004, 'lambda_l1': 3.3700670976399505, 'lambda_l2': 6.628534113472616, 'bagging_fraction': 0.30277570021488276, 'bagging_freq': 1}. Best is trial 3 with value: 0.39651979611630067.\u001b[0m\n",
            "\u001b[32m[I 2021-11-08 17:39:39,608]\u001b[0m Trial 114 finished with value: 0.529398081822184 and parameters: {'learning_rate': 0.2012306074885871, 'max_depth': 39, 'num_leaves': 161, 'feature_fraction': 0.16119227395779745, 'subsample': 0.4, 'lambda_l1': 8.459696324583955, 'lambda_l2': 2.908359791126424, 'bagging_fraction': 0.5062078180010425, 'bagging_freq': 4}. Best is trial 3 with value: 0.39651979611630067.\u001b[0m\n",
            "\u001b[32m[I 2021-11-08 17:39:40,603]\u001b[0m Trial 115 finished with value: 0.4972397347664162 and parameters: {'learning_rate': 0.06145697619694129, 'max_depth': 32, 'num_leaves': 176, 'feature_fraction': 0.306848366339893, 'subsample': 0.8, 'lambda_l1': 2.5652195942758116, 'lambda_l2': 8.348159998930104, 'bagging_fraction': 0.7159297666732439, 'bagging_freq': 10}. Best is trial 3 with value: 0.39651979611630067.\u001b[0m\n",
            "\u001b[32m[I 2021-11-08 17:39:41,155]\u001b[0m Trial 116 finished with value: 0.4375144652816328 and parameters: {'learning_rate': 0.033149546662681065, 'max_depth': 6, 'num_leaves': 64, 'feature_fraction': 0.9564878818021261, 'subsample': 0.5, 'lambda_l1': 4.849118375959881, 'lambda_l2': 4.839767080011943, 'bagging_fraction': 0.9497381645455134, 'bagging_freq': 5}. Best is trial 3 with value: 0.39651979611630067.\u001b[0m\n",
            "\u001b[32m[I 2021-11-08 17:39:41,554]\u001b[0m Trial 117 finished with value: 0.5770369090247935 and parameters: {'learning_rate': 0.056044088975809966, 'max_depth': 17, 'num_leaves': 34, 'feature_fraction': 0.17676029764622853, 'subsample': 0.7000000000000001, 'lambda_l1': 5.34115696111626, 'lambda_l2': 9.158133406893974, 'bagging_fraction': 0.30119909930062627, 'bagging_freq': 2}. Best is trial 3 with value: 0.39651979611630067.\u001b[0m\n",
            "\u001b[32m[I 2021-11-08 17:39:41,942]\u001b[0m Trial 118 finished with value: 0.43343410312953873 and parameters: {'learning_rate': 0.46475211103485187, 'max_depth': 11, 'num_leaves': 60, 'feature_fraction': 0.38868517760551957, 'subsample': 0.9, 'lambda_l1': 9.289405549261101, 'lambda_l2': 3.8262578521536095, 'bagging_fraction': 0.4921469335404769, 'bagging_freq': 5}. Best is trial 3 with value: 0.39651979611630067.\u001b[0m\n",
            "\u001b[32m[I 2021-11-08 17:39:42,380]\u001b[0m Trial 119 finished with value: 0.4571015254959387 and parameters: {'learning_rate': 0.2414744438046342, 'max_depth': 48, 'num_leaves': 196, 'feature_fraction': 0.22781598952749857, 'subsample': 0.5, 'lambda_l1': 9.57824880900332, 'lambda_l2': 1.486804166896517, 'bagging_fraction': 0.6567798516482265, 'bagging_freq': 2}. Best is trial 3 with value: 0.39651979611630067.\u001b[0m\n",
            "\u001b[32m[I 2021-11-08 17:39:42,489]\u001b[0m Trial 120 finished with value: 0.6849722776573622 and parameters: {'learning_rate': 0.02348066421614483, 'max_depth': 1, 'num_leaves': 2, 'feature_fraction': 0.6001971443329528, 'subsample': 0.9, 'lambda_l1': 4.695502411949356, 'lambda_l2': 1.1620507376572264, 'bagging_fraction': 0.5551430649245646, 'bagging_freq': 1}. Best is trial 3 with value: 0.39651979611630067.\u001b[0m\n",
            "\u001b[32m[I 2021-11-08 17:39:42,792]\u001b[0m Trial 121 finished with value: 0.4530409889575526 and parameters: {'learning_rate': 0.3158098988251038, 'max_depth': 13, 'num_leaves': 183, 'feature_fraction': 0.7819330154721607, 'subsample': 0.5, 'lambda_l1': 8.738797291910842, 'lambda_l2': 6.970504944887553, 'bagging_fraction': 0.11553880380415238, 'bagging_freq': 7}. Best is trial 3 with value: 0.39651979611630067.\u001b[0m\n",
            "\u001b[32m[I 2021-11-08 17:39:43,117]\u001b[0m Trial 122 finished with value: 0.5899521587447173 and parameters: {'learning_rate': 0.024331884556286248, 'max_depth': 36, 'num_leaves': 161, 'feature_fraction': 0.19809527670905203, 'subsample': 0.2, 'lambda_l1': 6.850300138565379, 'lambda_l2': 4.816323447380091, 'bagging_fraction': 0.24387727187941743, 'bagging_freq': 3}. Best is trial 3 with value: 0.39651979611630067.\u001b[0m\n",
            "\u001b[32m[I 2021-11-08 17:39:43,767]\u001b[0m Trial 123 finished with value: 0.4095610415878182 and parameters: {'learning_rate': 0.05942215386237626, 'max_depth': 8, 'num_leaves': 139, 'feature_fraction': 0.5980401006792422, 'subsample': 0.30000000000000004, 'lambda_l1': 7.3854060605319685, 'lambda_l2': 3.237486136119391, 'bagging_fraction': 0.9403062604499088, 'bagging_freq': 2}. Best is trial 3 with value: 0.39651979611630067.\u001b[0m\n",
            "\u001b[32m[I 2021-11-08 17:39:43,856]\u001b[0m Trial 124 finished with value: 0.51970839911354 and parameters: {'learning_rate': 0.39688080034661055, 'max_depth': 35, 'num_leaves': 146, 'feature_fraction': 0.9428061518501402, 'subsample': 0.6, 'lambda_l1': 0.4135962646546354, 'lambda_l2': 5.3592382182836005, 'bagging_fraction': 0.05633931784681623, 'bagging_freq': 6}. Best is trial 3 with value: 0.39651979611630067.\u001b[0m\n",
            "\u001b[32m[I 2021-11-08 17:39:44,293]\u001b[0m Trial 125 finished with value: 0.5931395293933148 and parameters: {'learning_rate': 0.04259932104243147, 'max_depth': 18, 'num_leaves': 76, 'feature_fraction': 0.11912120309779725, 'subsample': 0.1, 'lambda_l1': 6.149222077938333, 'lambda_l2': 3.496670276266184, 'bagging_fraction': 0.9695096922428849, 'bagging_freq': 9}. Best is trial 3 with value: 0.39651979611630067.\u001b[0m\n",
            "\u001b[32m[I 2021-11-08 17:39:45,029]\u001b[0m Trial 126 finished with value: 0.40238952294098 and parameters: {'learning_rate': 0.052764514513535705, 'max_depth': 17, 'num_leaves': 75, 'feature_fraction': 0.7569208038566347, 'subsample': 0.9, 'lambda_l1': 4.5680165607407766, 'lambda_l2': 3.2547840549604645, 'bagging_fraction': 0.12528961625640578, 'bagging_freq': 0}. Best is trial 3 with value: 0.39651979611630067.\u001b[0m\n",
            "\u001b[32m[I 2021-11-08 17:39:45,942]\u001b[0m Trial 127 finished with value: 0.41433580794931835 and parameters: {'learning_rate': 0.22926930880655047, 'max_depth': 43, 'num_leaves': 170, 'feature_fraction': 0.987882663350871, 'subsample': 0.4, 'lambda_l1': 3.6755062252388324, 'lambda_l2': 3.7996789978878445, 'bagging_fraction': 0.6182278316806994, 'bagging_freq': 9}. Best is trial 3 with value: 0.39651979611630067.\u001b[0m\n",
            "\u001b[32m[I 2021-11-08 17:39:46,211]\u001b[0m Trial 128 finished with value: 0.459738314027393 and parameters: {'learning_rate': 0.04526472808665387, 'max_depth': 38, 'num_leaves': 9, 'feature_fraction': 0.9443619144907794, 'subsample': 0.5, 'lambda_l1': 2.5933520636246854, 'lambda_l2': 9.420447131432034, 'bagging_fraction': 0.8283909398964421, 'bagging_freq': 10}. Best is trial 3 with value: 0.39651979611630067.\u001b[0m\n",
            "\u001b[32m[I 2021-11-08 17:39:46,541]\u001b[0m Trial 129 finished with value: 0.5511867259173981 and parameters: {'learning_rate': 0.013421594127530528, 'max_depth': 45, 'num_leaves': 100, 'feature_fraction': 0.5003300177630298, 'subsample': 0.2, 'lambda_l1': 4.3170210654822325, 'lambda_l2': 1.890547354255394, 'bagging_fraction': 0.1297869823766904, 'bagging_freq': 4}. Best is trial 3 with value: 0.39651979611630067.\u001b[0m\n",
            "\u001b[32m[I 2021-11-08 17:39:46,986]\u001b[0m Trial 130 finished with value: 0.42813233246748916 and parameters: {'learning_rate': 0.16406948555287076, 'max_depth': 35, 'num_leaves': 191, 'feature_fraction': 0.9302851918935319, 'subsample': 0.30000000000000004, 'lambda_l1': 8.114957165121284, 'lambda_l2': 1.5821904306527124, 'bagging_fraction': 0.24082394701717658, 'bagging_freq': 9}. Best is trial 3 with value: 0.39651979611630067.\u001b[0m\n",
            "\u001b[32m[I 2021-11-08 17:39:47,643]\u001b[0m Trial 131 finished with value: 0.4721877192249404 and parameters: {'learning_rate': 0.10430250596425537, 'max_depth': 40, 'num_leaves': 100, 'feature_fraction': 0.2673480878920007, 'subsample': 0.9, 'lambda_l1': 3.348643852112607, 'lambda_l2': 8.97834126391358, 'bagging_fraction': 0.9588541759150564, 'bagging_freq': 5}. Best is trial 3 with value: 0.39651979611630067.\u001b[0m\n",
            "\u001b[32m[I 2021-11-08 17:39:48,100]\u001b[0m Trial 132 finished with value: 0.4354093636302067 and parameters: {'learning_rate': 0.21502582332264647, 'max_depth': 20, 'num_leaves': 67, 'feature_fraction': 0.45665395088205385, 'subsample': 0.8, 'lambda_l1': 4.642886004439268, 'lambda_l2': 2.4728428458517726, 'bagging_fraction': 0.21824522733086227, 'bagging_freq': 5}. Best is trial 3 with value: 0.39651979611630067.\u001b[0m\n",
            "\u001b[32m[I 2021-11-08 17:39:48,293]\u001b[0m Trial 133 finished with value: 0.5274879402761339 and parameters: {'learning_rate': 0.03195805745662579, 'max_depth': 31, 'num_leaves': 9, 'feature_fraction': 0.3762515069252519, 'subsample': 0.5, 'lambda_l1': 8.431112308306862, 'lambda_l2': 3.7830418104714134, 'bagging_fraction': 0.3989179809465945, 'bagging_freq': 10}. Best is trial 3 with value: 0.39651979611630067.\u001b[0m\n",
            "\u001b[32m[I 2021-11-08 17:39:48,801]\u001b[0m Trial 134 finished with value: 0.4188676998693729 and parameters: {'learning_rate': 0.4185646651965543, 'max_depth': 11, 'num_leaves': 191, 'feature_fraction': 0.5287976182448061, 'subsample': 0.2, 'lambda_l1': 7.726977760146216, 'lambda_l2': 9.282315868451207, 'bagging_fraction': 0.8604171847820011, 'bagging_freq': 4}. Best is trial 3 with value: 0.39651979611630067.\u001b[0m\n",
            "\u001b[32m[I 2021-11-08 17:39:48,981]\u001b[0m Trial 135 finished with value: 0.46868386236890697 and parameters: {'learning_rate': 0.3476080699488026, 'max_depth': 36, 'num_leaves': 12, 'feature_fraction': 0.3744328669304422, 'subsample': 0.8, 'lambda_l1': 0.3331633627235686, 'lambda_l2': 5.472901510308064, 'bagging_fraction': 0.21268368984672936, 'bagging_freq': 1}. Best is trial 3 with value: 0.39651979611630067.\u001b[0m\n",
            "\u001b[32m[I 2021-11-08 17:39:49,695]\u001b[0m Trial 136 finished with value: 0.48219951331935995 and parameters: {'learning_rate': 0.0747805147312659, 'max_depth': 14, 'num_leaves': 189, 'feature_fraction': 0.20068096467512797, 'subsample': 0.30000000000000004, 'lambda_l1': 5.150539970527773, 'lambda_l2': 7.73083943329968, 'bagging_fraction': 0.9946658216596409, 'bagging_freq': 8}. Best is trial 3 with value: 0.39651979611630067.\u001b[0m\n",
            "\u001b[32m[I 2021-11-08 17:39:50,217]\u001b[0m Trial 137 finished with value: 0.4899202949689599 and parameters: {'learning_rate': 0.012837466869432696, 'max_depth': 7, 'num_leaves': 86, 'feature_fraction': 0.5694174499354576, 'subsample': 0.7000000000000001, 'lambda_l1': 5.149671769569499, 'lambda_l2': 7.403274399161931, 'bagging_fraction': 0.6413739744941778, 'bagging_freq': 2}. Best is trial 3 with value: 0.39651979611630067.\u001b[0m\n",
            "\u001b[32m[I 2021-11-08 17:39:50,328]\u001b[0m Trial 138 finished with value: 0.5903477149047569 and parameters: {'learning_rate': 0.1193715891164512, 'max_depth': 25, 'num_leaves': 2, 'feature_fraction': 0.5712541421568769, 'subsample': 0.2, 'lambda_l1': 5.208635651867591, 'lambda_l2': 7.105041898278137, 'bagging_fraction': 0.8740213828787095, 'bagging_freq': 9}. Best is trial 3 with value: 0.39651979611630067.\u001b[0m\n",
            "\u001b[32m[I 2021-11-08 17:39:51,031]\u001b[0m Trial 139 finished with value: 0.40898573512223424 and parameters: {'learning_rate': 0.14107499198881265, 'max_depth': 12, 'num_leaves': 195, 'feature_fraction': 0.8921731523784288, 'subsample': 1.0, 'lambda_l1': 7.039041066171031, 'lambda_l2': 2.3914779282467435, 'bagging_fraction': 0.6050455673647867, 'bagging_freq': 6}. Best is trial 3 with value: 0.39651979611630067.\u001b[0m\n",
            "\u001b[32m[I 2021-11-08 17:39:51,841]\u001b[0m Trial 140 finished with value: 0.41545255687962435 and parameters: {'learning_rate': 0.03493094823088824, 'max_depth': 41, 'num_leaves': 90, 'feature_fraction': 0.9278817365300066, 'subsample': 0.7000000000000001, 'lambda_l1': 2.0580160757358943, 'lambda_l2': 5.930090304820342, 'bagging_fraction': 0.4534510621082626, 'bagging_freq': 9}. Best is trial 3 with value: 0.39651979611630067.\u001b[0m\n",
            "\u001b[32m[I 2021-11-08 17:39:52,266]\u001b[0m Trial 141 finished with value: 0.537138315849505 and parameters: {'learning_rate': 0.01434349905913534, 'max_depth': 18, 'num_leaves': 156, 'feature_fraction': 0.33644639223503103, 'subsample': 1.0, 'lambda_l1': 6.34142653398782, 'lambda_l2': 0.8316931505567171, 'bagging_fraction': 0.3423994966465379, 'bagging_freq': 3}. Best is trial 3 with value: 0.39651979611630067.\u001b[0m\n",
            "\u001b[32m[I 2021-11-08 17:39:52,547]\u001b[0m Trial 142 finished with value: 0.4258176312701581 and parameters: {'learning_rate': 0.3707253861790792, 'max_depth': 32, 'num_leaves': 30, 'feature_fraction': 0.8743068040108228, 'subsample': 0.6, 'lambda_l1': 7.4532588558303035, 'lambda_l2': 8.38398765199969, 'bagging_fraction': 0.4288955560890214, 'bagging_freq': 8}. Best is trial 3 with value: 0.39651979611630067.\u001b[0m\n",
            "\u001b[32m[I 2021-11-08 17:39:52,676]\u001b[0m Trial 143 finished with value: 0.59108543992801 and parameters: {'learning_rate': 0.11601227841646836, 'max_depth': 1, 'num_leaves': 37, 'feature_fraction': 0.3665714041786905, 'subsample': 0.4, 'lambda_l1': 3.596220415050283, 'lambda_l2': 3.859093612009902, 'bagging_fraction': 0.18814153218321406, 'bagging_freq': 5}. Best is trial 3 with value: 0.39651979611630067.\u001b[0m\n",
            "\u001b[32m[I 2021-11-08 17:39:53,041]\u001b[0m Trial 144 finished with value: 0.5346073309831162 and parameters: {'learning_rate': 0.15465003311792008, 'max_depth': 15, 'num_leaves': 93, 'feature_fraction': 0.16026312800776932, 'subsample': 0.6, 'lambda_l1': 6.7360805695729, 'lambda_l2': 8.54158312311479, 'bagging_fraction': 0.964189803138235, 'bagging_freq': 2}. Best is trial 3 with value: 0.39651979611630067.\u001b[0m\n",
            "\u001b[32m[I 2021-11-08 17:39:53,652]\u001b[0m Trial 145 finished with value: 0.43504589501498236 and parameters: {'learning_rate': 0.06257060642967088, 'max_depth': 49, 'num_leaves': 71, 'feature_fraction': 0.38174794968501913, 'subsample': 0.7000000000000001, 'lambda_l1': 6.8235698127804545, 'lambda_l2': 9.838026343775057, 'bagging_fraction': 0.8369945475536679, 'bagging_freq': 4}. Best is trial 3 with value: 0.39651979611630067.\u001b[0m\n",
            "\u001b[32m[I 2021-11-08 17:39:54,099]\u001b[0m Trial 146 finished with value: 0.4141616622979416 and parameters: {'learning_rate': 0.05180144162224588, 'max_depth': 7, 'num_leaves': 178, 'feature_fraction': 0.6672176746979398, 'subsample': 0.6, 'lambda_l1': 4.5787893396985035, 'lambda_l2': 5.5083249867179305, 'bagging_fraction': 0.9719231386127348, 'bagging_freq': 10}. Best is trial 3 with value: 0.39651979611630067.\u001b[0m\n",
            "\u001b[32m[I 2021-11-08 17:39:54,361]\u001b[0m Trial 147 finished with value: 0.6036624915163549 and parameters: {'learning_rate': 0.019783196099119726, 'max_depth': 26, 'num_leaves': 24, 'feature_fraction': 0.28411199328051406, 'subsample': 0.7000000000000001, 'lambda_l1': 3.993069433606168, 'lambda_l2': 0.8061139111913285, 'bagging_fraction': 0.7311373287804183, 'bagging_freq': 6}. Best is trial 3 with value: 0.39651979611630067.\u001b[0m\n",
            "\u001b[32m[I 2021-11-08 17:39:54,723]\u001b[0m Trial 148 finished with value: 0.5182777419319812 and parameters: {'learning_rate': 0.018921957864825423, 'max_depth': 29, 'num_leaves': 25, 'feature_fraction': 0.3560999880048794, 'subsample': 0.2, 'lambda_l1': 7.611596056788963, 'lambda_l2': 3.3669913633151047, 'bagging_fraction': 0.6187943926578423, 'bagging_freq': 2}. Best is trial 3 with value: 0.39651979611630067.\u001b[0m\n",
            "\u001b[32m[I 2021-11-08 17:39:55,289]\u001b[0m Trial 149 finished with value: 0.6899746006207135 and parameters: {'learning_rate': 0.010833380240073109, 'max_depth': 24, 'num_leaves': 120, 'feature_fraction': 0.2821576560538208, 'subsample': 0.7000000000000001, 'lambda_l1': 2.967243316536213, 'lambda_l2': 3.9408414127544997, 'bagging_fraction': 0.23082432087678728, 'bagging_freq': 2}. Best is trial 3 with value: 0.39651979611630067.\u001b[0m\n",
            "\u001b[32m[I 2021-11-08 17:39:56,004]\u001b[0m Trial 150 finished with value: 0.39890733827811214 and parameters: {'learning_rate': 0.11232992606837858, 'max_depth': 32, 'num_leaves': 79, 'feature_fraction': 0.9255579365860546, 'subsample': 0.9, 'lambda_l1': 2.544295604778948, 'lambda_l2': 9.216713121855161, 'bagging_fraction': 0.7713373102794816, 'bagging_freq': 5}. Best is trial 3 with value: 0.39651979611630067.\u001b[0m\n",
            "\u001b[32m[I 2021-11-08 17:39:56,417]\u001b[0m Trial 151 finished with value: 0.46412619183709297 and parameters: {'learning_rate': 0.015997095340112105, 'max_depth': 8, 'num_leaves': 36, 'feature_fraction': 0.8773340773856815, 'subsample': 0.4, 'lambda_l1': 8.154863982096245, 'lambda_l2': 3.686443137420725, 'bagging_fraction': 0.880414093795844, 'bagging_freq': 7}. Best is trial 3 with value: 0.39651979611630067.\u001b[0m\n",
            "\u001b[32m[I 2021-11-08 17:39:56,753]\u001b[0m Trial 152 finished with value: 0.551355134172662 and parameters: {'learning_rate': 0.03312246469170581, 'max_depth': 9, 'num_leaves': 48, 'feature_fraction': 0.2575846444618376, 'subsample': 0.5, 'lambda_l1': 1.6644693257407028, 'lambda_l2': 5.547224387473303, 'bagging_fraction': 0.1690593571236767, 'bagging_freq': 6}. Best is trial 3 with value: 0.39651979611630067.\u001b[0m\n",
            "\u001b[32m[I 2021-11-08 17:39:57,229]\u001b[0m Trial 153 finished with value: 0.4280481699399623 and parameters: {'learning_rate': 0.25081856030835503, 'max_depth': 15, 'num_leaves': 121, 'feature_fraction': 0.6328109835840185, 'subsample': 0.5, 'lambda_l1': 1.4347287024679811, 'lambda_l2': 2.3509997443376696, 'bagging_fraction': 0.3161501598621186, 'bagging_freq': 3}. Best is trial 3 with value: 0.39651979611630067.\u001b[0m\n",
            "\u001b[32m[I 2021-11-08 17:39:58,069]\u001b[0m Trial 154 finished with value: 0.41023959347016464 and parameters: {'learning_rate': 0.06294674093067769, 'max_depth': 25, 'num_leaves': 150, 'feature_fraction': 0.5778289356560987, 'subsample': 0.9, 'lambda_l1': 5.430669468213606, 'lambda_l2': 3.4505683167730306, 'bagging_fraction': 0.5118582816845948, 'bagging_freq': 10}. Best is trial 3 with value: 0.39651979611630067.\u001b[0m\n",
            "\u001b[32m[I 2021-11-08 17:39:59,125]\u001b[0m Trial 155 finished with value: 0.428844150482697 and parameters: {'learning_rate': 0.039386343035156965, 'max_depth': 29, 'num_leaves': 146, 'feature_fraction': 0.5112789325733955, 'subsample': 0.8, 'lambda_l1': 1.050826787860688, 'lambda_l2': 6.050037624092633, 'bagging_fraction': 0.6863969053602195, 'bagging_freq': 7}. Best is trial 3 with value: 0.39651979611630067.\u001b[0m\n",
            "\u001b[32m[I 2021-11-08 17:39:59,326]\u001b[0m Trial 156 finished with value: 0.5381038835244785 and parameters: {'learning_rate': 0.06302953725665597, 'max_depth': 43, 'num_leaves': 141, 'feature_fraction': 0.19367261354829543, 'subsample': 0.5, 'lambda_l1': 2.575181206164563, 'lambda_l2': 3.479949624931095, 'bagging_fraction': 0.03842093443731198, 'bagging_freq': 4}. Best is trial 3 with value: 0.39651979611630067.\u001b[0m\n",
            "\u001b[32m[I 2021-11-08 17:40:00,158]\u001b[0m Trial 157 finished with value: 0.5431753478353522 and parameters: {'learning_rate': 0.029798722759640597, 'max_depth': 15, 'num_leaves': 128, 'feature_fraction': 0.2791295451121283, 'subsample': 0.5, 'lambda_l1': 4.1407264847164225, 'lambda_l2': 1.0841215223235645, 'bagging_fraction': 0.7852544438633532, 'bagging_freq': 4}. Best is trial 3 with value: 0.39651979611630067.\u001b[0m\n",
            "\u001b[32m[I 2021-11-08 17:40:00,352]\u001b[0m Trial 158 finished with value: 0.46195033550200854 and parameters: {'learning_rate': 0.3961944370802836, 'max_depth': 42, 'num_leaves': 78, 'feature_fraction': 0.7268607478808775, 'subsample': 0.9, 'lambda_l1': 0.7141878124657208, 'lambda_l2': 5.97763462400655, 'bagging_fraction': 0.2508072921439354, 'bagging_freq': 10}. Best is trial 3 with value: 0.39651979611630067.\u001b[0m\n",
            "\u001b[32m[I 2021-11-08 17:40:00,550]\u001b[0m Trial 159 finished with value: 0.5023041675084291 and parameters: {'learning_rate': 0.03221874087938357, 'max_depth': 4, 'num_leaves': 152, 'feature_fraction': 0.9036206371701232, 'subsample': 0.1, 'lambda_l1': 7.534730335068835, 'lambda_l2': 9.509753781718407, 'bagging_fraction': 0.11236443498172954, 'bagging_freq': 1}. Best is trial 3 with value: 0.39651979611630067.\u001b[0m\n",
            "\u001b[32m[I 2021-11-08 17:40:01,026]\u001b[0m Trial 160 finished with value: 0.41498244455844924 and parameters: {'learning_rate': 0.09146941275374709, 'max_depth': 34, 'num_leaves': 65, 'feature_fraction': 0.5738198521319248, 'subsample': 0.9, 'lambda_l1': 9.473641529941922, 'lambda_l2': 1.7456889584812674, 'bagging_fraction': 0.5563670184114595, 'bagging_freq': 9}. Best is trial 3 with value: 0.39651979611630067.\u001b[0m\n",
            "\u001b[32m[I 2021-11-08 17:40:01,129]\u001b[0m Trial 161 finished with value: 0.5035878158266293 and parameters: {'learning_rate': 0.2940691273637054, 'max_depth': 7, 'num_leaves': 132, 'feature_fraction': 0.9066433796250557, 'subsample': 1.0, 'lambda_l1': 0.4387585664071769, 'lambda_l2': 0.21706882970920272, 'bagging_fraction': 0.05134634829606033, 'bagging_freq': 1}. Best is trial 3 with value: 0.39651979611630067.\u001b[0m\n",
            "\u001b[32m[I 2021-11-08 17:40:01,595]\u001b[0m Trial 162 finished with value: 0.4553331875578925 and parameters: {'learning_rate': 0.018039171105464744, 'max_depth': 31, 'num_leaves': 61, 'feature_fraction': 0.6253497929097827, 'subsample': 0.8, 'lambda_l1': 6.162931402210515, 'lambda_l2': 7.947103775472652, 'bagging_fraction': 0.38961245625086416, 'bagging_freq': 5}. Best is trial 3 with value: 0.39651979611630067.\u001b[0m\n",
            "\u001b[32m[I 2021-11-08 17:40:01,794]\u001b[0m Trial 163 finished with value: 0.5662087110079227 and parameters: {'learning_rate': 0.015406255986354233, 'max_depth': 5, 'num_leaves': 7, 'feature_fraction': 0.8728175665725713, 'subsample': 0.9, 'lambda_l1': 2.0836957453970975, 'lambda_l2': 5.258598373615517, 'bagging_fraction': 0.8212802216074561, 'bagging_freq': 8}. Best is trial 3 with value: 0.39651979611630067.\u001b[0m\n",
            "\u001b[32m[I 2021-11-08 17:40:02,160]\u001b[0m Trial 164 finished with value: 0.44255069793697127 and parameters: {'learning_rate': 0.05375914886321645, 'max_depth': 37, 'num_leaves': 36, 'feature_fraction': 0.5213742721863663, 'subsample': 0.6, 'lambda_l1': 7.2307342018436955, 'lambda_l2': 8.977344780711915, 'bagging_fraction': 0.616481153496578, 'bagging_freq': 6}. Best is trial 3 with value: 0.39651979611630067.\u001b[0m\n",
            "\u001b[32m[I 2021-11-08 17:40:03,128]\u001b[0m Trial 165 finished with value: 0.418534428906208 and parameters: {'learning_rate': 0.04538898038541577, 'max_depth': 27, 'num_leaves': 83, 'feature_fraction': 0.9323321532331634, 'subsample': 0.9, 'lambda_l1': 8.329077798602066, 'lambda_l2': 8.37756926743641, 'bagging_fraction': 0.6473479911178015, 'bagging_freq': 10}. Best is trial 3 with value: 0.39651979611630067.\u001b[0m\n",
            "\u001b[32m[I 2021-11-08 17:40:03,790]\u001b[0m Trial 166 finished with value: 0.5404996728405056 and parameters: {'learning_rate': 0.03359934574786445, 'max_depth': 20, 'num_leaves': 186, 'feature_fraction': 0.2752620276292418, 'subsample': 0.6, 'lambda_l1': 7.0530935689111365, 'lambda_l2': 9.845582929423236, 'bagging_fraction': 0.7874422813708782, 'bagging_freq': 1}. Best is trial 3 with value: 0.39651979611630067.\u001b[0m\n",
            "\u001b[32m[I 2021-11-08 17:40:04,134]\u001b[0m Trial 167 finished with value: 0.4444018038853601 and parameters: {'learning_rate': 0.49526862202909533, 'max_depth': 41, 'num_leaves': 143, 'feature_fraction': 0.8484215522648625, 'subsample': 0.4, 'lambda_l1': 4.343165874565673, 'lambda_l2': 1.9493141908125855, 'bagging_fraction': 0.29554267250361754, 'bagging_freq': 5}. Best is trial 3 with value: 0.39651979611630067.\u001b[0m\n",
            "\u001b[32m[I 2021-11-08 17:40:04,235]\u001b[0m Trial 168 finished with value: 0.604552677865591 and parameters: {'learning_rate': 0.2716666842894599, 'max_depth': 15, 'num_leaves': 55, 'feature_fraction': 0.11686554539948356, 'subsample': 0.6, 'lambda_l1': 7.768113976886264, 'lambda_l2': 7.4452229700588095, 'bagging_fraction': 0.015277360057005862, 'bagging_freq': 9}. Best is trial 3 with value: 0.39651979611630067.\u001b[0m\n",
            "\u001b[32m[I 2021-11-08 17:40:04,670]\u001b[0m Trial 169 finished with value: 0.4560700252685104 and parameters: {'learning_rate': 0.022125067527820952, 'max_depth': 31, 'num_leaves': 84, 'feature_fraction': 0.9418720222841392, 'subsample': 0.5, 'lambda_l1': 3.161707920508101, 'lambda_l2': 1.2997396888213741, 'bagging_fraction': 0.16007054873464877, 'bagging_freq': 10}. Best is trial 3 with value: 0.39651979611630067.\u001b[0m\n",
            "\u001b[32m[I 2021-11-08 17:40:05,183]\u001b[0m Trial 170 finished with value: 0.4856270252170773 and parameters: {'learning_rate': 0.012561915865210821, 'max_depth': 11, 'num_leaves': 180, 'feature_fraction': 0.8845410478695028, 'subsample': 0.9, 'lambda_l1': 7.947960878103819, 'lambda_l2': 2.1040514638499985, 'bagging_fraction': 0.37157104931695784, 'bagging_freq': 2}. Best is trial 3 with value: 0.39651979611630067.\u001b[0m\n",
            "\u001b[32m[I 2021-11-08 17:40:05,521]\u001b[0m Trial 171 finished with value: 0.4279730969657164 and parameters: {'learning_rate': 0.14311095775749572, 'max_depth': 13, 'num_leaves': 60, 'feature_fraction': 0.8091521362909702, 'subsample': 0.1, 'lambda_l1': 9.28223718212138, 'lambda_l2': 2.3399760954698245, 'bagging_fraction': 0.24964346355274813, 'bagging_freq': 6}. Best is trial 3 with value: 0.39651979611630067.\u001b[0m\n",
            "\u001b[32m[I 2021-11-08 17:40:06,081]\u001b[0m Trial 172 finished with value: 0.5343811284162611 and parameters: {'learning_rate': 0.22567634266538694, 'max_depth': 46, 'num_leaves': 83, 'feature_fraction': 0.14028851497183623, 'subsample': 0.4, 'lambda_l1': 2.014672742628397, 'lambda_l2': 1.5724147963932689, 'bagging_fraction': 0.45036830214973544, 'bagging_freq': 4}. Best is trial 3 with value: 0.39651979611630067.\u001b[0m\n",
            "\u001b[32m[I 2021-11-08 17:40:07,007]\u001b[0m Trial 173 finished with value: 0.4173389446621779 and parameters: {'learning_rate': 0.028319602011506993, 'max_depth': 41, 'num_leaves': 182, 'feature_fraction': 0.8109078739554321, 'subsample': 0.6, 'lambda_l1': 6.870473577607595, 'lambda_l2': 2.7451244503800973, 'bagging_fraction': 0.7572295003811962, 'bagging_freq': 2}. Best is trial 3 with value: 0.39651979611630067.\u001b[0m\n",
            "\u001b[32m[I 2021-11-08 17:40:07,236]\u001b[0m Trial 174 finished with value: 0.6719983176377232 and parameters: {'learning_rate': 0.012109180874746205, 'max_depth': 2, 'num_leaves': 156, 'feature_fraction': 0.586206548501475, 'subsample': 1.0, 'lambda_l1': 1.4329305509813883, 'lambda_l2': 9.594011494629587, 'bagging_fraction': 0.5324754877810554, 'bagging_freq': 1}. Best is trial 3 with value: 0.39651979611630067.\u001b[0m\n",
            "\u001b[32m[I 2021-11-08 17:40:07,799]\u001b[0m Trial 175 finished with value: 0.4180877825830222 and parameters: {'learning_rate': 0.05892260766325124, 'max_depth': 27, 'num_leaves': 69, 'feature_fraction': 0.7231504515951475, 'subsample': 0.7000000000000001, 'lambda_l1': 7.774605836947593, 'lambda_l2': 2.294342511478298, 'bagging_fraction': 0.4620778524236798, 'bagging_freq': 4}. Best is trial 3 with value: 0.39651979611630067.\u001b[0m\n",
            "\u001b[32m[I 2021-11-08 17:40:08,219]\u001b[0m Trial 176 finished with value: 0.6049829586196039 and parameters: {'learning_rate': 0.03793917971673282, 'max_depth': 49, 'num_leaves': 172, 'feature_fraction': 0.1296957815620173, 'subsample': 0.2, 'lambda_l1': 5.548676916210818, 'lambda_l2': 8.985186373730599, 'bagging_fraction': 0.9166570814440875, 'bagging_freq': 9}. Best is trial 3 with value: 0.39651979611630067.\u001b[0m\n",
            "\u001b[32m[I 2021-11-08 17:40:08,450]\u001b[0m Trial 177 finished with value: 0.6117441516393778 and parameters: {'learning_rate': 0.038702108838431074, 'max_depth': 6, 'num_leaves': 23, 'feature_fraction': 0.1606538736520254, 'subsample': 1.0, 'lambda_l1': 7.058126488972864, 'lambda_l2': 6.1925772521991265, 'bagging_fraction': 0.28410181631988785, 'bagging_freq': 10}. Best is trial 3 with value: 0.39651979611630067.\u001b[0m\n",
            "\u001b[32m[I 2021-11-08 17:40:08,680]\u001b[0m Trial 178 finished with value: 0.7382739162031083 and parameters: {'learning_rate': 0.015667756797601448, 'max_depth': 17, 'num_leaves': 95, 'feature_fraction': 0.18593718454776303, 'subsample': 0.2, 'lambda_l1': 9.649703851343531, 'lambda_l2': 3.5673092941119644, 'bagging_fraction': 0.1612697080463702, 'bagging_freq': 3}. Best is trial 3 with value: 0.39651979611630067.\u001b[0m\n",
            "\u001b[32m[I 2021-11-08 17:40:08,999]\u001b[0m Trial 179 finished with value: 0.4680667064164328 and parameters: {'learning_rate': 0.028670777981234602, 'max_depth': 15, 'num_leaves': 187, 'feature_fraction': 0.6982015818258882, 'subsample': 0.7000000000000001, 'lambda_l1': 8.292287265692655, 'lambda_l2': 1.8648077590041978, 'bagging_fraction': 0.12954175574225213, 'bagging_freq': 9}. Best is trial 3 with value: 0.39651979611630067.\u001b[0m\n",
            "\u001b[32m[I 2021-11-08 17:40:09,124]\u001b[0m Trial 180 finished with value: 0.6047941434539391 and parameters: {'learning_rate': 0.027106546356106927, 'max_depth': 4, 'num_leaves': 3, 'feature_fraction': 0.7982309822446254, 'subsample': 0.4, 'lambda_l1': 1.4601546447557057, 'lambda_l2': 3.8934708230071777, 'bagging_fraction': 0.45357787685486795, 'bagging_freq': 3}. Best is trial 3 with value: 0.39651979611630067.\u001b[0m\n",
            "\u001b[32m[I 2021-11-08 17:40:09,660]\u001b[0m Trial 181 finished with value: 0.4103413518539512 and parameters: {'learning_rate': 0.07288517624426602, 'max_depth': 27, 'num_leaves': 55, 'feature_fraction': 0.8825861056633679, 'subsample': 0.6, 'lambda_l1': 2.0936039961850685, 'lambda_l2': 1.2479995003892952, 'bagging_fraction': 0.4280962334417677, 'bagging_freq': 6}. Best is trial 3 with value: 0.39651979611630067.\u001b[0m\n",
            "\u001b[32m[I 2021-11-08 17:40:10,380]\u001b[0m Trial 182 finished with value: 0.4242709678549776 and parameters: {'learning_rate': 0.06483571390959508, 'max_depth': 37, 'num_leaves': 160, 'feature_fraction': 0.9501189517412685, 'subsample': 0.30000000000000004, 'lambda_l1': 8.80438270585226, 'lambda_l2': 7.352712897077765, 'bagging_fraction': 0.45945941501641807, 'bagging_freq': 6}. Best is trial 3 with value: 0.39651979611630067.\u001b[0m\n",
            "\u001b[32m[I 2021-11-08 17:40:10,746]\u001b[0m Trial 183 finished with value: 0.43823247642253 and parameters: {'learning_rate': 0.28050008671903315, 'max_depth': 12, 'num_leaves': 35, 'feature_fraction': 0.4322829439113157, 'subsample': 0.8, 'lambda_l1': 8.882935427135132, 'lambda_l2': 8.170783724749004, 'bagging_fraction': 0.35154853705061406, 'bagging_freq': 1}. Best is trial 3 with value: 0.39651979611630067.\u001b[0m\n",
            "\u001b[32m[I 2021-11-08 17:40:11,408]\u001b[0m Trial 184 finished with value: 0.45344071129900526 and parameters: {'learning_rate': 0.02624656311574436, 'max_depth': 33, 'num_leaves': 87, 'feature_fraction': 0.4636433271554026, 'subsample': 0.8, 'lambda_l1': 4.076567675241797, 'lambda_l2': 9.899904280862074, 'bagging_fraction': 0.7701954016886541, 'bagging_freq': 0}. Best is trial 3 with value: 0.39651979611630067.\u001b[0m\n",
            "\u001b[32m[I 2021-11-08 17:40:11,926]\u001b[0m Trial 185 finished with value: 0.42467812362224167 and parameters: {'learning_rate': 0.28784978973024866, 'max_depth': 40, 'num_leaves': 80, 'feature_fraction': 0.47823823959863077, 'subsample': 0.7000000000000001, 'lambda_l1': 8.52160249733995, 'lambda_l2': 6.673350434577325, 'bagging_fraction': 0.5554185505449233, 'bagging_freq': 10}. Best is trial 3 with value: 0.39651979611630067.\u001b[0m\n",
            "\u001b[32m[I 2021-11-08 17:40:12,737]\u001b[0m Trial 186 finished with value: 0.5594977166122277 and parameters: {'learning_rate': 0.02606374541486893, 'max_depth': 17, 'num_leaves': 194, 'feature_fraction': 0.20006894102308237, 'subsample': 0.2, 'lambda_l1': 3.6629840232421507, 'lambda_l2': 3.0029046998214115, 'bagging_fraction': 0.6885400268521347, 'bagging_freq': 10}. Best is trial 3 with value: 0.39651979611630067.\u001b[0m\n",
            "\u001b[32m[I 2021-11-08 17:40:12,939]\u001b[0m Trial 187 finished with value: 0.43274969383297324 and parameters: {'learning_rate': 0.14074538954485072, 'max_depth': 18, 'num_leaves': 9, 'feature_fraction': 0.6360077216736869, 'subsample': 0.5, 'lambda_l1': 4.284778182149168, 'lambda_l2': 4.804540006469633, 'bagging_fraction': 0.7947077980737053, 'bagging_freq': 5}. Best is trial 3 with value: 0.39651979611630067.\u001b[0m\n",
            "\u001b[32m[I 2021-11-08 17:40:13,906]\u001b[0m Trial 188 finished with value: 0.5443415971233607 and parameters: {'learning_rate': 0.19847050358806098, 'max_depth': 40, 'num_leaves': 178, 'feature_fraction': 0.12321525535522268, 'subsample': 0.30000000000000004, 'lambda_l1': 0.19039130061649034, 'lambda_l2': 0.8947102813800256, 'bagging_fraction': 0.34150887374354566, 'bagging_freq': 4}. Best is trial 3 with value: 0.39651979611630067.\u001b[0m\n",
            "\u001b[32m[I 2021-11-08 17:40:14,550]\u001b[0m Trial 189 finished with value: 0.4021576078633661 and parameters: {'learning_rate': 0.10254893140684462, 'max_depth': 15, 'num_leaves': 162, 'feature_fraction': 0.8055915790136935, 'subsample': 1.0, 'lambda_l1': 0.34249324666112524, 'lambda_l2': 3.579179492525544, 'bagging_fraction': 0.6001894613207723, 'bagging_freq': 3}. Best is trial 3 with value: 0.39651979611630067.\u001b[0m\n",
            "\u001b[32m[I 2021-11-08 17:40:15,218]\u001b[0m Trial 190 finished with value: 0.46747895197285 and parameters: {'learning_rate': 0.02500311566816951, 'max_depth': 48, 'num_leaves': 159, 'feature_fraction': 0.44490834691765724, 'subsample': 0.5, 'lambda_l1': 8.811820266561803, 'lambda_l2': 4.942294790388587, 'bagging_fraction': 0.8313599152791051, 'bagging_freq': 2}. Best is trial 3 with value: 0.39651979611630067.\u001b[0m\n",
            "\u001b[32m[I 2021-11-08 17:40:15,574]\u001b[0m Trial 191 finished with value: 0.4647486565560556 and parameters: {'learning_rate': 0.46256769564468714, 'max_depth': 24, 'num_leaves': 62, 'feature_fraction': 0.26131796509058103, 'subsample': 0.7000000000000001, 'lambda_l1': 8.664299301267501, 'lambda_l2': 6.933734066979989, 'bagging_fraction': 0.5233178684966056, 'bagging_freq': 8}. Best is trial 3 with value: 0.39651979611630067.\u001b[0m\n",
            "\u001b[32m[I 2021-11-08 17:40:15,752]\u001b[0m Trial 192 finished with value: 0.475973771098256 and parameters: {'learning_rate': 0.4982480948298856, 'max_depth': 16, 'num_leaves': 94, 'feature_fraction': 0.850835922403581, 'subsample': 0.1, 'lambda_l1': 1.5662900766629195, 'lambda_l2': 0.2207275460243241, 'bagging_fraction': 0.3365119338065936, 'bagging_freq': 9}. Best is trial 3 with value: 0.39651979611630067.\u001b[0m\n",
            "\u001b[32m[I 2021-11-08 17:40:16,231]\u001b[0m Trial 193 finished with value: 0.41453642705760485 and parameters: {'learning_rate': 0.30305596816742514, 'max_depth': 15, 'num_leaves': 157, 'feature_fraction': 0.4944753544641547, 'subsample': 0.5, 'lambda_l1': 5.208990175032256, 'lambda_l2': 5.9834303913683184, 'bagging_fraction': 0.7442723454891239, 'bagging_freq': 8}. Best is trial 3 with value: 0.39651979611630067.\u001b[0m\n",
            "\u001b[32m[I 2021-11-08 17:40:16,956]\u001b[0m Trial 194 finished with value: 0.4078288165637644 and parameters: {'learning_rate': 0.06373058443047099, 'max_depth': 23, 'num_leaves': 185, 'feature_fraction': 0.890757625175012, 'subsample': 0.5, 'lambda_l1': 9.78488559523448, 'lambda_l2': 3.78246382935133, 'bagging_fraction': 0.573716263681104, 'bagging_freq': 0}. Best is trial 3 with value: 0.39651979611630067.\u001b[0m\n",
            "\u001b[32m[I 2021-11-08 17:40:17,101]\u001b[0m Trial 195 finished with value: 0.47322317970441574 and parameters: {'learning_rate': 0.10936021634745904, 'max_depth': 41, 'num_leaves': 4, 'feature_fraction': 0.9430545513312633, 'subsample': 0.8, 'lambda_l1': 5.103749525536775, 'lambda_l2': 2.2671890226671687, 'bagging_fraction': 0.821570404821485, 'bagging_freq': 5}. Best is trial 3 with value: 0.39651979611630067.\u001b[0m\n",
            "\u001b[32m[I 2021-11-08 17:40:17,282]\u001b[0m Trial 196 finished with value: 0.4726613105503708 and parameters: {'learning_rate': 0.21467413754605932, 'max_depth': 47, 'num_leaves': 5, 'feature_fraction': 0.3704312171702363, 'subsample': 0.2, 'lambda_l1': 6.517046002685624, 'lambda_l2': 9.782774862243846, 'bagging_fraction': 0.33538555720003693, 'bagging_freq': 1}. Best is trial 3 with value: 0.39651979611630067.\u001b[0m\n",
            "\u001b[32m[I 2021-11-08 17:40:17,420]\u001b[0m Trial 197 finished with value: 0.47206088402346025 and parameters: {'learning_rate': 0.25845857285951923, 'max_depth': 3, 'num_leaves': 51, 'feature_fraction': 0.7004142068018798, 'subsample': 0.9, 'lambda_l1': 9.371326555975058, 'lambda_l2': 8.807416830982557, 'bagging_fraction': 0.13122018460898122, 'bagging_freq': 8}. Best is trial 3 with value: 0.39651979611630067.\u001b[0m\n",
            "\u001b[32m[I 2021-11-08 17:40:17,551]\u001b[0m Trial 198 finished with value: 0.47617316365659396 and parameters: {'learning_rate': 0.13097543154583577, 'max_depth': 2, 'num_leaves': 98, 'feature_fraction': 0.8856025460532766, 'subsample': 0.9, 'lambda_l1': 4.22027887630002, 'lambda_l2': 4.3997214950312795, 'bagging_fraction': 0.40808456949939953, 'bagging_freq': 4}. Best is trial 3 with value: 0.39651979611630067.\u001b[0m\n",
            "\u001b[32m[I 2021-11-08 17:40:17,735]\u001b[0m Trial 199 finished with value: 0.4483436816985021 and parameters: {'learning_rate': 0.3126231364439874, 'max_depth': 8, 'num_leaves': 92, 'feature_fraction': 0.7956379358808136, 'subsample': 0.1, 'lambda_l1': 2.8652169066282784, 'lambda_l2': 9.758789322722825, 'bagging_fraction': 0.18549033203782128, 'bagging_freq': 4}. Best is trial 3 with value: 0.39651979611630067.\u001b[0m\n"
          ]
        },
        {
          "name": "stdout",
          "output_type": "stream",
          "text": [
            "Wall time: 1min 29s\n"
          ]
        }
      ],
      "source": [
        "%%time\n",
        "%%capture\n",
        "\n",
        "study_randomsearch = optuna.create_study(\n",
        "    direction = 'minimize',\n",
        "    sampler = optuna.samplers.RandomSampler(),\n",
        "    pruner = optuna.pruners.NopPruner() \n",
        "    )\n",
        "\n",
        "study_randomsearch.optimize(objective, n_trials=N_TRIALS)"
      ]
    },
    {
      "cell_type": "code",
      "execution_count": 15,
      "metadata": {
        "colab": {
          "base_uri": "https://localhost:8080/"
        },
        "id": "NqGKn8p4aSxZ",
        "outputId": "d6141829-ede7-42f6-feea-c98f8ab4c9f1"
      },
      "outputs": [
        {
          "name": "stdout",
          "output_type": "stream",
          "text": [
            "{'score': 0.39651979611630067, 'params': {'learning_rate': 0.04546437531253444, 'max_depth': 13, 'num_leaves': 200, 'feature_fraction': 0.58398483825196, 'subsample': 0.30000000000000004, 'lambda_l1': 3.3659279839214973, 'lambda_l2': 3.0583347511218193, 'bagging_fraction': 0.9139336052567875, 'bagging_freq': 0}}\n"
          ]
        }
      ],
      "source": [
        "randomsearch = {'score': study_randomsearch.best_value, 'params': study_randomsearch.best_params}\n",
        "print(randomsearch)"
      ]
    },
    {
      "cell_type": "markdown",
      "metadata": {
        "id": "qrAr9OUvJYJl"
      },
      "source": [
        "### **CMAES**"
      ]
    },
    {
      "cell_type": "code",
      "execution_count": 16,
      "metadata": {
        "colab": {
          "base_uri": "https://localhost:8080/"
        },
        "id": "Wv1aInVeJV9Y",
        "outputId": "3918ff77-7525-4ed5-9936-729eb3d943d0"
      },
      "outputs": [
        {
          "name": "stderr",
          "output_type": "stream",
          "text": [
            "\u001b[32m[I 2021-11-08 17:40:17,895]\u001b[0m A new study created in memory with name: no-name-d76590d9-182a-493e-89cd-c467c5d65d95\u001b[0m\n",
            "\u001b[32m[I 2021-11-08 17:40:18,392]\u001b[0m Trial 0 finished with value: 0.40294164221960865 and parameters: {'learning_rate': 0.10744358111460002, 'max_depth': 21, 'num_leaves': 47, 'feature_fraction': 0.7510785316103546, 'subsample': 0.4, 'lambda_l1': 5.101745808458499, 'lambda_l2': 0.4305358779428836, 'bagging_fraction': 0.8512966595533874, 'bagging_freq': 4}. Best is trial 0 with value: 0.40294164221960865.\u001b[0m\n",
            "\u001b[32m[I 2021-11-08 17:40:19,056]\u001b[0m Trial 1 finished with value: 0.4137684858852812 and parameters: {'learning_rate': 0.0672011132343066, 'max_depth': 25, 'num_leaves': 101, 'feature_fraction': 0.6255071740360991, 'subsample': 0.30000000000000004, 'lambda_l1': 5.190605714406583, 'lambda_l2': 5.06152342587859, 'bagging_fraction': 0.4239778127350932, 'bagging_freq': 5}. Best is trial 0 with value: 0.40294164221960865.\u001b[0m\n",
            "\u001b[32m[I 2021-11-08 17:40:19,747]\u001b[0m Trial 2 finished with value: 0.41046203415173443 and parameters: {'learning_rate': 0.07783352994260753, 'max_depth': 25, 'num_leaves': 101, 'feature_fraction': 0.596392671791898, 'subsample': 0.8, 'lambda_l1': 4.948270531333496, 'lambda_l2': 4.780350059082536, 'bagging_fraction': 0.5191297409285093, 'bagging_freq': 5}. Best is trial 0 with value: 0.40294164221960865.\u001b[0m\n",
            "\u001b[32m[I 2021-11-08 17:40:20,319]\u001b[0m Trial 3 finished with value: 0.433921296174542 and parameters: {'learning_rate': 0.07705798003532961, 'max_depth': 25, 'num_leaves': 101, 'feature_fraction': 0.31783135483400554, 'subsample': 0.30000000000000004, 'lambda_l1': 4.95705639848478, 'lambda_l2': 4.945206461571636, 'bagging_fraction': 0.46277057042710684, 'bagging_freq': 5}. Best is trial 0 with value: 0.40294164221960865.\u001b[0m\n",
            "\u001b[32m[I 2021-11-08 17:40:21,152]\u001b[0m Trial 4 finished with value: 0.4227927480075438 and parameters: {'learning_rate': 0.059743464184730644, 'max_depth': 26, 'num_leaves': 101, 'feature_fraction': 0.4962564656699741, 'subsample': 0.4, 'lambda_l1': 5.0229724432949485, 'lambda_l2': 5.122443382309583, 'bagging_fraction': 0.8118970330083211, 'bagging_freq': 5}. Best is trial 0 with value: 0.40294164221960865.\u001b[0m\n",
            "\u001b[32m[I 2021-11-08 17:40:22,105]\u001b[0m Trial 5 finished with value: 0.4041101797924719 and parameters: {'learning_rate': 0.0774859717092174, 'max_depth': 26, 'num_leaves': 101, 'feature_fraction': 0.5813293032644082, 'subsample': 0.6, 'lambda_l1': 4.87858339028116, 'lambda_l2': 5.255295196353608, 'bagging_fraction': 0.6513034111886189, 'bagging_freq': 5}. Best is trial 0 with value: 0.40294164221960865.\u001b[0m\n",
            "\u001b[32m[I 2021-11-08 17:40:22,889]\u001b[0m Trial 6 pruned. \u001b[0m\n",
            "\u001b[32m[I 2021-11-08 17:40:23,404]\u001b[0m Trial 7 pruned. \u001b[0m\n",
            "\u001b[32m[I 2021-11-08 17:40:24,237]\u001b[0m Trial 8 pruned. \u001b[0m\n",
            "\u001b[32m[I 2021-11-08 17:40:25,111]\u001b[0m Trial 9 finished with value: 0.40482574115868564 and parameters: {'learning_rate': 0.06972592509032365, 'max_depth': 25, 'num_leaves': 101, 'feature_fraction': 0.5669170112840758, 'subsample': 0.6, 'lambda_l1': 5.071231190595771, 'lambda_l2': 4.874944490534805, 'bagging_fraction': 0.7320561174118188, 'bagging_freq': 5}. Best is trial 0 with value: 0.40294164221960865.\u001b[0m\n",
            "\u001b[32m[I 2021-11-08 17:40:25,912]\u001b[0m Trial 10 finished with value: 0.4013365693900631 and parameters: {'learning_rate': 0.08618700669306105, 'max_depth': 25, 'num_leaves': 101, 'feature_fraction': 0.7031642793710636, 'subsample': 0.5, 'lambda_l1': 4.728730660820031, 'lambda_l2': 4.718630449119441, 'bagging_fraction': 0.6837421345070018, 'bagging_freq': 5}. Best is trial 10 with value: 0.4013365693900631.\u001b[0m\n",
            "\u001b[32m[I 2021-11-08 17:40:26,639]\u001b[0m Trial 11 finished with value: 0.4061405018851167 and parameters: {'learning_rate': 0.07894450396062487, 'max_depth': 25, 'num_leaves': 101, 'feature_fraction': 0.6633642579931317, 'subsample': 0.6, 'lambda_l1': 5.056694752811481, 'lambda_l2': 5.2404610314885645, 'bagging_fraction': 0.5905829091337642, 'bagging_freq': 5}. Best is trial 10 with value: 0.4013365693900631.\u001b[0m\n",
            "\u001b[32m[I 2021-11-08 17:40:27,035]\u001b[0m Trial 12 pruned. \u001b[0m\n",
            "\u001b[32m[I 2021-11-08 17:40:27,542]\u001b[0m Trial 13 pruned. \u001b[0m\n",
            "\u001b[32m[I 2021-11-08 17:40:28,107]\u001b[0m Trial 14 pruned. \u001b[0m\n",
            "\u001b[32m[I 2021-11-08 17:40:28,784]\u001b[0m Trial 15 pruned. \u001b[0m\n",
            "\u001b[32m[I 2021-11-08 17:40:29,343]\u001b[0m Trial 16 pruned. \u001b[0m\n",
            "\u001b[32m[I 2021-11-08 17:40:29,822]\u001b[0m Trial 17 pruned. \u001b[0m\n",
            "\u001b[32m[I 2021-11-08 17:40:30,505]\u001b[0m Trial 18 pruned. \u001b[0m\n",
            "\u001b[32m[I 2021-11-08 17:40:31,150]\u001b[0m Trial 19 pruned. \u001b[0m\n",
            "\u001b[32m[I 2021-11-08 17:40:31,590]\u001b[0m Trial 20 pruned. \u001b[0m\n",
            "\u001b[32m[I 2021-11-08 17:40:32,391]\u001b[0m Trial 21 finished with value: 0.4057099842319665 and parameters: {'learning_rate': 0.07421881491081839, 'max_depth': 26, 'num_leaves': 101, 'feature_fraction': 0.756198585656819, 'subsample': 0.8, 'lambda_l1': 4.989576176527917, 'lambda_l2': 5.133578517306081, 'bagging_fraction': 0.5617346801432939, 'bagging_freq': 5}. Best is trial 10 with value: 0.4013365693900631.\u001b[0m\n",
            "\u001b[32m[I 2021-11-08 17:40:33,135]\u001b[0m Trial 22 pruned. \u001b[0m\n",
            "\u001b[32m[I 2021-11-08 17:40:33,661]\u001b[0m Trial 23 pruned. \u001b[0m\n",
            "\u001b[32m[I 2021-11-08 17:40:34,387]\u001b[0m Trial 24 pruned. \u001b[0m\n",
            "\u001b[32m[I 2021-11-08 17:40:34,950]\u001b[0m Trial 25 pruned. \u001b[0m\n",
            "\u001b[32m[I 2021-11-08 17:40:35,764]\u001b[0m Trial 26 finished with value: 0.40205786939014665 and parameters: {'learning_rate': 0.07710404721825496, 'max_depth': 25, 'num_leaves': 101, 'feature_fraction': 0.7464757589834522, 'subsample': 0.6, 'lambda_l1': 4.890364892916118, 'lambda_l2': 5.040237940936532, 'bagging_fraction': 0.7245069807733099, 'bagging_freq': 5}. Best is trial 10 with value: 0.4013365693900631.\u001b[0m\n",
            "\u001b[32m[I 2021-11-08 17:40:36,535]\u001b[0m Trial 27 pruned. \u001b[0m\n",
            "\u001b[32m[I 2021-11-08 17:40:37,258]\u001b[0m Trial 28 pruned. \u001b[0m\n",
            "\u001b[32m[I 2021-11-08 17:40:37,963]\u001b[0m Trial 29 pruned. \u001b[0m\n",
            "\u001b[32m[I 2021-11-08 17:40:38,696]\u001b[0m Trial 30 pruned. \u001b[0m\n",
            "\u001b[32m[I 2021-11-08 17:40:39,370]\u001b[0m Trial 31 pruned. \u001b[0m\n",
            "\u001b[32m[I 2021-11-08 17:40:40,115]\u001b[0m Trial 32 finished with value: 0.40505007005799715 and parameters: {'learning_rate': 0.06545267566036742, 'max_depth': 25, 'num_leaves': 101, 'feature_fraction': 0.6194405110642761, 'subsample': 0.5, 'lambda_l1': 4.829745854065237, 'lambda_l2': 4.989858156033601, 'bagging_fraction': 0.6374781182023965, 'bagging_freq': 5}. Best is trial 10 with value: 0.4013365693900631.\u001b[0m\n",
            "\u001b[32m[I 2021-11-08 17:40:40,889]\u001b[0m Trial 33 finished with value: 0.40397679211807297 and parameters: {'learning_rate': 0.07916456849908467, 'max_depth': 25, 'num_leaves': 101, 'feature_fraction': 0.7669772446583787, 'subsample': 0.30000000000000004, 'lambda_l1': 4.765612517122347, 'lambda_l2': 5.059656763200005, 'bagging_fraction': 0.6164094859842374, 'bagging_freq': 5}. Best is trial 10 with value: 0.4013365693900631.\u001b[0m\n",
            "\u001b[32m[I 2021-11-08 17:40:41,580]\u001b[0m Trial 34 pruned. \u001b[0m\n",
            "\u001b[32m[I 2021-11-08 17:40:42,432]\u001b[0m Trial 35 pruned. \u001b[0m\n",
            "\u001b[32m[I 2021-11-08 17:40:43,205]\u001b[0m Trial 36 finished with value: 0.39911023667709156 and parameters: {'learning_rate': 0.0729514837066573, 'max_depth': 25, 'num_leaves': 101, 'feature_fraction': 0.830672997203351, 'subsample': 0.5, 'lambda_l1': 5.082169948668119, 'lambda_l2': 5.044530620152359, 'bagging_fraction': 0.8101809792766952, 'bagging_freq': 5}. Best is trial 36 with value: 0.39911023667709156.\u001b[0m\n",
            "\u001b[32m[I 2021-11-08 17:40:43,950]\u001b[0m Trial 37 pruned. \u001b[0m\n",
            "\u001b[32m[I 2021-11-08 17:40:44,679]\u001b[0m Trial 38 pruned. \u001b[0m\n",
            "\u001b[32m[I 2021-11-08 17:40:45,478]\u001b[0m Trial 39 pruned. \u001b[0m\n",
            "\u001b[32m[I 2021-11-08 17:40:46,254]\u001b[0m Trial 40 finished with value: 0.40138250643097956 and parameters: {'learning_rate': 0.09276668894551841, 'max_depth': 25, 'num_leaves': 101, 'feature_fraction': 0.7888562587342653, 'subsample': 0.4, 'lambda_l1': 4.872938966134927, 'lambda_l2': 5.057238021191379, 'bagging_fraction': 0.7438817974562697, 'bagging_freq': 5}. Best is trial 36 with value: 0.39911023667709156.\u001b[0m\n",
            "\u001b[32m[I 2021-11-08 17:40:47,005]\u001b[0m Trial 41 pruned. \u001b[0m\n",
            "\u001b[32m[I 2021-11-08 17:40:47,793]\u001b[0m Trial 42 finished with value: 0.40239435601244516 and parameters: {'learning_rate': 0.08244963558904576, 'max_depth': 25, 'num_leaves': 101, 'feature_fraction': 0.6863536935875245, 'subsample': 0.6, 'lambda_l1': 4.828219008399159, 'lambda_l2': 4.792116992357462, 'bagging_fraction': 0.6802815453788245, 'bagging_freq': 5}. Best is trial 36 with value: 0.39911023667709156.\u001b[0m\n",
            "\u001b[32m[I 2021-11-08 17:40:48,596]\u001b[0m Trial 43 finished with value: 0.4012162013849858 and parameters: {'learning_rate': 0.06699277566465497, 'max_depth': 25, 'num_leaves': 101, 'feature_fraction': 0.5631664133221611, 'subsample': 0.4, 'lambda_l1': 4.828148856087725, 'lambda_l2': 4.954205126456796, 'bagging_fraction': 0.8413620019189512, 'bagging_freq': 5}. Best is trial 36 with value: 0.39911023667709156.\u001b[0m\n",
            "\u001b[32m[I 2021-11-08 17:40:49,404]\u001b[0m Trial 44 finished with value: 0.39979915413596606 and parameters: {'learning_rate': 0.07994694875631204, 'max_depth': 25, 'num_leaves': 101, 'feature_fraction': 0.7509321136198953, 'subsample': 0.5, 'lambda_l1': 4.921915434745171, 'lambda_l2': 4.911744229736949, 'bagging_fraction': 0.8055149017398041, 'bagging_freq': 5}. Best is trial 36 with value: 0.39911023667709156.\u001b[0m\n",
            "\u001b[32m[I 2021-11-08 17:40:50,041]\u001b[0m Trial 45 pruned. \u001b[0m\n",
            "\u001b[32m[I 2021-11-08 17:40:50,720]\u001b[0m Trial 46 pruned. \u001b[0m\n",
            "\u001b[32m[I 2021-11-08 17:40:51,506]\u001b[0m Trial 47 finished with value: 0.40087638574760565 and parameters: {'learning_rate': 0.07814818350006687, 'max_depth': 25, 'num_leaves': 101, 'feature_fraction': 0.7315415828754698, 'subsample': 0.7000000000000001, 'lambda_l1': 4.820117318844371, 'lambda_l2': 4.686683804365325, 'bagging_fraction': 0.7463433032411274, 'bagging_freq': 5}. Best is trial 36 with value: 0.39911023667709156.\u001b[0m\n",
            "\u001b[32m[I 2021-11-08 17:40:52,373]\u001b[0m Trial 48 pruned. \u001b[0m\n",
            "\u001b[32m[I 2021-11-08 17:40:53,122]\u001b[0m Trial 49 pruned. \u001b[0m\n",
            "\u001b[32m[I 2021-11-08 17:40:53,915]\u001b[0m Trial 50 pruned. \u001b[0m\n",
            "\u001b[32m[I 2021-11-08 17:40:54,736]\u001b[0m Trial 51 finished with value: 0.3991017468021107 and parameters: {'learning_rate': 0.06533925099043215, 'max_depth': 25, 'num_leaves': 101, 'feature_fraction': 0.796502692318646, 'subsample': 0.6, 'lambda_l1': 4.782144964897405, 'lambda_l2': 5.196465833833155, 'bagging_fraction': 0.8312287341501923, 'bagging_freq': 5}. Best is trial 51 with value: 0.3991017468021107.\u001b[0m\n",
            "\u001b[32m[I 2021-11-08 17:40:55,422]\u001b[0m Trial 52 pruned. \u001b[0m\n",
            "\u001b[32m[I 2021-11-08 17:40:56,219]\u001b[0m Trial 53 finished with value: 0.4010457833454105 and parameters: {'learning_rate': 0.091829677618505, 'max_depth': 25, 'num_leaves': 101, 'feature_fraction': 0.773515416963304, 'subsample': 0.1, 'lambda_l1': 4.8626596016201455, 'lambda_l2': 4.824846676742974, 'bagging_fraction': 0.6648195117447487, 'bagging_freq': 5}. Best is trial 51 with value: 0.3991017468021107.\u001b[0m\n",
            "\u001b[32m[I 2021-11-08 17:40:57,019]\u001b[0m Trial 54 finished with value: 0.40063587440032583 and parameters: {'learning_rate': 0.07374623104155285, 'max_depth': 25, 'num_leaves': 101, 'feature_fraction': 0.7792638119000814, 'subsample': 0.5, 'lambda_l1': 4.875152118066803, 'lambda_l2': 5.232889768940795, 'bagging_fraction': 0.7246475625154216, 'bagging_freq': 5}. Best is trial 51 with value: 0.3991017468021107.\u001b[0m\n",
            "\u001b[32m[I 2021-11-08 17:40:57,890]\u001b[0m Trial 55 finished with value: 0.39857060589299026 and parameters: {'learning_rate': 0.07266305755340173, 'max_depth': 25, 'num_leaves': 101, 'feature_fraction': 0.8420469358801685, 'subsample': 0.6, 'lambda_l1': 4.764057613948939, 'lambda_l2': 5.321601209886178, 'bagging_fraction': 0.8384231845569774, 'bagging_freq': 5}. Best is trial 55 with value: 0.39857060589299026.\u001b[0m\n",
            "\u001b[32m[I 2021-11-08 17:40:58,673]\u001b[0m Trial 56 pruned. \u001b[0m\n",
            "\u001b[32m[I 2021-11-08 17:40:59,496]\u001b[0m Trial 57 finished with value: 0.3998216724819863 and parameters: {'learning_rate': 0.07820769926537993, 'max_depth': 25, 'num_leaves': 101, 'feature_fraction': 0.9293273679897077, 'subsample': 0.5, 'lambda_l1': 4.938126202962198, 'lambda_l2': 5.069216812273377, 'bagging_fraction': 0.7373550109071397, 'bagging_freq': 5}. Best is trial 55 with value: 0.39857060589299026.\u001b[0m\n",
            "\u001b[32m[I 2021-11-08 17:41:00,328]\u001b[0m Trial 58 finished with value: 0.3995040551617717 and parameters: {'learning_rate': 0.054763581792461845, 'max_depth': 25, 'num_leaves': 101, 'feature_fraction': 0.749574246432186, 'subsample': 0.4, 'lambda_l1': 5.071224923045341, 'lambda_l2': 5.206211115277936, 'bagging_fraction': 0.9673061516456716, 'bagging_freq': 5}. Best is trial 55 with value: 0.39857060589299026.\u001b[0m\n",
            "\u001b[32m[I 2021-11-08 17:41:01,100]\u001b[0m Trial 59 pruned. \u001b[0m\n",
            "\u001b[32m[I 2021-11-08 17:41:01,917]\u001b[0m Trial 60 finished with value: 0.39882518272184453 and parameters: {'learning_rate': 0.06977200655499437, 'max_depth': 25, 'num_leaves': 101, 'feature_fraction': 0.8027856968632661, 'subsample': 0.4, 'lambda_l1': 4.760948908542569, 'lambda_l2': 4.982488989184329, 'bagging_fraction': 0.8530044902085651, 'bagging_freq': 5}. Best is trial 55 with value: 0.39857060589299026.\u001b[0m\n",
            "\u001b[32m[I 2021-11-08 17:41:02,701]\u001b[0m Trial 61 pruned. \u001b[0m\n",
            "\u001b[32m[I 2021-11-08 17:41:03,406]\u001b[0m Trial 62 pruned. \u001b[0m\n",
            "\u001b[32m[I 2021-11-08 17:41:04,194]\u001b[0m Trial 63 pruned. \u001b[0m\n",
            "\u001b[32m[I 2021-11-08 17:41:05,019]\u001b[0m Trial 64 finished with value: 0.3993155012288349 and parameters: {'learning_rate': 0.06584577605401332, 'max_depth': 25, 'num_leaves': 101, 'feature_fraction': 0.8501831902649312, 'subsample': 0.6, 'lambda_l1': 4.789889693454307, 'lambda_l2': 5.053418718674879, 'bagging_fraction': 0.8091032067823821, 'bagging_freq': 5}. Best is trial 55 with value: 0.39857060589299026.\u001b[0m\n",
            "\u001b[32m[I 2021-11-08 17:41:05,936]\u001b[0m Trial 65 pruned. \u001b[0m\n",
            "\u001b[32m[I 2021-11-08 17:41:06,722]\u001b[0m Trial 66 finished with value: 0.40060924736915604 and parameters: {'learning_rate': 0.06109287623144413, 'max_depth': 25, 'num_leaves': 101, 'feature_fraction': 0.8002942616657158, 'subsample': 0.4, 'lambda_l1': 4.878768022676469, 'lambda_l2': 4.958073064702217, 'bagging_fraction': 0.8227755459846519, 'bagging_freq': 5}. Best is trial 55 with value: 0.39857060589299026.\u001b[0m\n",
            "\u001b[32m[I 2021-11-08 17:41:07,556]\u001b[0m Trial 67 pruned. \u001b[0m\n",
            "\u001b[32m[I 2021-11-08 17:41:08,283]\u001b[0m Trial 68 pruned. \u001b[0m\n",
            "\u001b[32m[I 2021-11-08 17:41:09,094]\u001b[0m Trial 69 pruned. \u001b[0m\n",
            "\u001b[32m[I 2021-11-08 17:41:09,935]\u001b[0m Trial 70 pruned. \u001b[0m\n",
            "\u001b[32m[I 2021-11-08 17:41:10,668]\u001b[0m Trial 71 pruned. \u001b[0m\n",
            "\u001b[32m[I 2021-11-08 17:41:11,336]\u001b[0m Trial 72 pruned. \u001b[0m\n",
            "\u001b[32m[I 2021-11-08 17:41:12,055]\u001b[0m Trial 73 pruned. \u001b[0m\n",
            "\u001b[32m[I 2021-11-08 17:41:12,846]\u001b[0m Trial 74 pruned. \u001b[0m\n",
            "\u001b[32m[I 2021-11-08 17:41:13,666]\u001b[0m Trial 75 finished with value: 0.40073331233709647 and parameters: {'learning_rate': 0.06915895560632619, 'max_depth': 25, 'num_leaves': 101, 'feature_fraction': 0.8509866744874235, 'subsample': 0.7000000000000001, 'lambda_l1': 4.954197276064514, 'lambda_l2': 5.000726291146606, 'bagging_fraction': 0.8199150891445597, 'bagging_freq': 5}. Best is trial 55 with value: 0.39857060589299026.\u001b[0m\n",
            "\u001b[32m[I 2021-11-08 17:41:14,431]\u001b[0m Trial 76 pruned. \u001b[0m\n",
            "\u001b[32m[I 2021-11-08 17:41:15,214]\u001b[0m Trial 77 finished with value: 0.3997103490873633 and parameters: {'learning_rate': 0.07616819382167057, 'max_depth': 25, 'num_leaves': 101, 'feature_fraction': 0.6839601620410019, 'subsample': 0.8, 'lambda_l1': 5.0333754864967695, 'lambda_l2': 4.900965534619103, 'bagging_fraction': 0.8602828955177211, 'bagging_freq': 5}. Best is trial 55 with value: 0.39857060589299026.\u001b[0m\n",
            "\u001b[32m[I 2021-11-08 17:41:16,028]\u001b[0m Trial 78 finished with value: 0.3997716600665442 and parameters: {'learning_rate': 0.07261036679210159, 'max_depth': 25, 'num_leaves': 101, 'feature_fraction': 0.7952821234188223, 'subsample': 0.7000000000000001, 'lambda_l1': 4.68010234814602, 'lambda_l2': 4.752267437709443, 'bagging_fraction': 0.9315174504853099, 'bagging_freq': 5}. Best is trial 55 with value: 0.39857060589299026.\u001b[0m\n",
            "\u001b[32m[I 2021-11-08 17:41:16,784]\u001b[0m Trial 79 pruned. \u001b[0m\n",
            "\u001b[32m[I 2021-11-08 17:41:17,437]\u001b[0m Trial 80 pruned. \u001b[0m\n",
            "\u001b[32m[I 2021-11-08 17:41:18,331]\u001b[0m Trial 81 pruned. \u001b[0m\n",
            "\u001b[32m[I 2021-11-08 17:41:19,083]\u001b[0m Trial 82 pruned. \u001b[0m\n",
            "\u001b[32m[I 2021-11-08 17:41:19,857]\u001b[0m Trial 83 finished with value: 0.3976948737994768 and parameters: {'learning_rate': 0.07941435182533442, 'max_depth': 25, 'num_leaves': 101, 'feature_fraction': 0.7693781990346881, 'subsample': 0.5, 'lambda_l1': 4.922499313439385, 'lambda_l2': 5.123054547392707, 'bagging_fraction': 0.891325416547308, 'bagging_freq': 5}. Best is trial 83 with value: 0.3976948737994768.\u001b[0m\n",
            "\u001b[32m[I 2021-11-08 17:41:20,638]\u001b[0m Trial 84 pruned. \u001b[0m\n",
            "\u001b[32m[I 2021-11-08 17:41:21,317]\u001b[0m Trial 85 pruned. \u001b[0m\n",
            "\u001b[32m[I 2021-11-08 17:41:22,325]\u001b[0m Trial 86 finished with value: 0.39734636135176205 and parameters: {'learning_rate': 0.08239742377407555, 'max_depth': 25, 'num_leaves': 101, 'feature_fraction': 0.7826355045199904, 'subsample': 0.5, 'lambda_l1': 4.684701790639473, 'lambda_l2': 5.2722152305725185, 'bagging_fraction': 0.927478516777267, 'bagging_freq': 5}. Best is trial 86 with value: 0.39734636135176205.\u001b[0m\n",
            "\u001b[32m[I 2021-11-08 17:41:23,195]\u001b[0m Trial 87 finished with value: 0.39854688411794037 and parameters: {'learning_rate': 0.0821054387464503, 'max_depth': 25, 'num_leaves': 101, 'feature_fraction': 0.9304095282788664, 'subsample': 0.2, 'lambda_l1': 4.873776062983334, 'lambda_l2': 5.323327636069589, 'bagging_fraction': 0.990165310141656, 'bagging_freq': 5}. Best is trial 86 with value: 0.39734636135176205.\u001b[0m\n",
            "\u001b[32m[I 2021-11-08 17:41:24,140]\u001b[0m Trial 88 pruned. \u001b[0m\n",
            "\u001b[32m[I 2021-11-08 17:41:24,984]\u001b[0m Trial 89 finished with value: 0.397299174149008 and parameters: {'learning_rate': 0.0901206579528451, 'max_depth': 25, 'num_leaves': 101, 'feature_fraction': 0.62962559918458, 'subsample': 0.30000000000000004, 'lambda_l1': 4.607008835222876, 'lambda_l2': 5.155529008990258, 'bagging_fraction': 0.9857786196599184, 'bagging_freq': 5}. Best is trial 89 with value: 0.397299174149008.\u001b[0m\n",
            "\u001b[32m[I 2021-11-08 17:41:25,755]\u001b[0m Trial 90 pruned. \u001b[0m\n",
            "\u001b[32m[I 2021-11-08 17:41:26,569]\u001b[0m Trial 91 finished with value: 0.4000369964098154 and parameters: {'learning_rate': 0.09194249324429107, 'max_depth': 25, 'num_leaves': 101, 'feature_fraction': 0.765538607591979, 'subsample': 0.7000000000000001, 'lambda_l1': 4.752752637331623, 'lambda_l2': 4.9777939019442865, 'bagging_fraction': 0.7820696944096756, 'bagging_freq': 5}. Best is trial 89 with value: 0.397299174149008.\u001b[0m\n",
            "\u001b[32m[I 2021-11-08 17:41:27,442]\u001b[0m Trial 92 pruned. \u001b[0m\n",
            "\u001b[32m[I 2021-11-08 17:41:28,199]\u001b[0m Trial 93 pruned. \u001b[0m\n",
            "\u001b[32m[I 2021-11-08 17:41:28,996]\u001b[0m Trial 94 pruned. \u001b[0m\n",
            "\u001b[32m[I 2021-11-08 17:41:29,788]\u001b[0m Trial 95 pruned. \u001b[0m\n",
            "\u001b[32m[I 2021-11-08 17:41:30,671]\u001b[0m Trial 96 pruned. \u001b[0m\n",
            "\u001b[32m[I 2021-11-08 17:41:31,563]\u001b[0m Trial 97 pruned. \u001b[0m\n",
            "\u001b[32m[I 2021-11-08 17:41:32,316]\u001b[0m Trial 98 pruned. \u001b[0m\n",
            "\u001b[32m[I 2021-11-08 17:41:33,098]\u001b[0m Trial 99 pruned. \u001b[0m\n",
            "\u001b[32m[I 2021-11-08 17:41:33,896]\u001b[0m Trial 100 pruned. \u001b[0m\n",
            "\u001b[32m[I 2021-11-08 17:41:34,368]\u001b[0m Trial 101 pruned. \u001b[0m\n",
            "\u001b[32m[I 2021-11-08 17:41:35,184]\u001b[0m Trial 102 pruned. \u001b[0m\n",
            "\u001b[32m[I 2021-11-08 17:41:35,994]\u001b[0m Trial 103 finished with value: 0.3970050484327186 and parameters: {'learning_rate': 0.07931654710862619, 'max_depth': 25, 'num_leaves': 101, 'feature_fraction': 0.7457037409419827, 'subsample': 0.7000000000000001, 'lambda_l1': 4.585962892060239, 'lambda_l2': 4.996787518429583, 'bagging_fraction': 0.8716234597071375, 'bagging_freq': 5}. Best is trial 103 with value: 0.3970050484327186.\u001b[0m\n",
            "\u001b[32m[I 2021-11-08 17:41:36,753]\u001b[0m Trial 104 pruned. \u001b[0m\n",
            "\u001b[32m[I 2021-11-08 17:41:37,641]\u001b[0m Trial 105 pruned. \u001b[0m\n",
            "\u001b[32m[I 2021-11-08 17:41:38,286]\u001b[0m Trial 106 pruned. \u001b[0m\n",
            "\u001b[32m[I 2021-11-08 17:41:39,088]\u001b[0m Trial 107 finished with value: 0.39998466846028735 and parameters: {'learning_rate': 0.06680391230477639, 'max_depth': 25, 'num_leaves': 101, 'feature_fraction': 0.6888235594689432, 'subsample': 0.6, 'lambda_l1': 4.543213252243581, 'lambda_l2': 5.272129902788716, 'bagging_fraction': 0.8756034915641302, 'bagging_freq': 5}. Best is trial 103 with value: 0.3970050484327186.\u001b[0m\n",
            "\u001b[32m[I 2021-11-08 17:41:39,704]\u001b[0m Trial 108 pruned. \u001b[0m\n",
            "\u001b[32m[I 2021-11-08 17:41:40,530]\u001b[0m Trial 109 pruned. \u001b[0m\n",
            "\u001b[32m[I 2021-11-08 17:41:41,285]\u001b[0m Trial 110 pruned. \u001b[0m\n",
            "\u001b[32m[I 2021-11-08 17:41:42,094]\u001b[0m Trial 111 pruned. \u001b[0m\n",
            "\u001b[32m[I 2021-11-08 17:41:42,917]\u001b[0m Trial 112 pruned. \u001b[0m\n",
            "\u001b[32m[I 2021-11-08 17:41:43,777]\u001b[0m Trial 113 pruned. \u001b[0m\n",
            "\u001b[32m[I 2021-11-08 17:41:44,254]\u001b[0m Trial 114 pruned. \u001b[0m\n",
            "\u001b[32m[I 2021-11-08 17:41:45,236]\u001b[0m Trial 115 pruned. \u001b[0m\n",
            "\u001b[32m[I 2021-11-08 17:41:46,000]\u001b[0m Trial 116 finished with value: 0.39997517539811034 and parameters: {'learning_rate': 0.06442512127579053, 'max_depth': 25, 'num_leaves': 101, 'feature_fraction': 0.732639382177553, 'subsample': 0.6, 'lambda_l1': 4.635923889589218, 'lambda_l2': 5.167486677013974, 'bagging_fraction': 0.9082720013042754, 'bagging_freq': 5}. Best is trial 103 with value: 0.3970050484327186.\u001b[0m\n",
            "\u001b[32m[I 2021-11-08 17:41:46,795]\u001b[0m Trial 117 pruned. \u001b[0m\n",
            "\u001b[32m[I 2021-11-08 17:41:47,372]\u001b[0m Trial 118 pruned. \u001b[0m\n",
            "\u001b[32m[I 2021-11-08 17:41:48,129]\u001b[0m Trial 119 pruned. \u001b[0m\n",
            "\u001b[32m[I 2021-11-08 17:41:48,897]\u001b[0m Trial 120 finished with value: 0.3990529121781139 and parameters: {'learning_rate': 0.08570342792057037, 'max_depth': 25, 'num_leaves': 101, 'feature_fraction': 0.7089805640960045, 'subsample': 0.5, 'lambda_l1': 5.0537833738130695, 'lambda_l2': 5.028608071047338, 'bagging_fraction': 0.7967951259170268, 'bagging_freq': 5}. Best is trial 103 with value: 0.3970050484327186.\u001b[0m\n",
            "\u001b[32m[I 2021-11-08 17:41:49,709]\u001b[0m Trial 121 pruned. \u001b[0m\n",
            "\u001b[32m[I 2021-11-08 17:41:50,747]\u001b[0m Trial 122 pruned. \u001b[0m\n",
            "\u001b[32m[I 2021-11-08 17:41:51,573]\u001b[0m Trial 123 pruned. \u001b[0m\n",
            "\u001b[32m[I 2021-11-08 17:41:52,424]\u001b[0m Trial 124 pruned. \u001b[0m\n",
            "\u001b[32m[I 2021-11-08 17:41:53,255]\u001b[0m Trial 125 pruned. \u001b[0m\n",
            "\u001b[32m[I 2021-11-08 17:41:53,958]\u001b[0m Trial 126 pruned. \u001b[0m\n",
            "\u001b[32m[I 2021-11-08 17:41:54,797]\u001b[0m Trial 127 pruned. \u001b[0m\n",
            "\u001b[32m[I 2021-11-08 17:41:56,059]\u001b[0m Trial 128 pruned. \u001b[0m\n",
            "\u001b[32m[I 2021-11-08 17:41:56,789]\u001b[0m Trial 129 pruned. \u001b[0m\n",
            "\u001b[32m[I 2021-11-08 17:41:57,655]\u001b[0m Trial 130 pruned. \u001b[0m\n",
            "\u001b[32m[I 2021-11-08 17:41:58,494]\u001b[0m Trial 131 pruned. \u001b[0m\n",
            "\u001b[32m[I 2021-11-08 17:41:59,317]\u001b[0m Trial 132 finished with value: 0.39969953375678735 and parameters: {'learning_rate': 0.08635510467231274, 'max_depth': 25, 'num_leaves': 101, 'feature_fraction': 0.5934192492590804, 'subsample': 0.6, 'lambda_l1': 5.074756016142319, 'lambda_l2': 4.810983240185562, 'bagging_fraction': 0.8823527063434848, 'bagging_freq': 5}. Best is trial 103 with value: 0.3970050484327186.\u001b[0m\n",
            "\u001b[32m[I 2021-11-08 17:42:00,194]\u001b[0m Trial 133 pruned. \u001b[0m\n",
            "\u001b[32m[I 2021-11-08 17:42:01,007]\u001b[0m Trial 134 finished with value: 0.3998970116706598 and parameters: {'learning_rate': 0.09836307712290197, 'max_depth': 25, 'num_leaves': 101, 'feature_fraction': 0.8421175936331202, 'subsample': 0.8, 'lambda_l1': 4.6898989195803304, 'lambda_l2': 5.431859970881877, 'bagging_fraction': 0.8140202726208877, 'bagging_freq': 5}. Best is trial 103 with value: 0.3970050484327186.\u001b[0m\n",
            "\u001b[32m[I 2021-11-08 17:42:01,706]\u001b[0m Trial 135 pruned. \u001b[0m\n",
            "\u001b[32m[I 2021-11-08 17:42:02,445]\u001b[0m Trial 136 pruned. \u001b[0m\n",
            "\u001b[32m[I 2021-11-08 17:42:03,332]\u001b[0m Trial 137 pruned. \u001b[0m\n",
            "\u001b[32m[I 2021-11-08 17:42:04,128]\u001b[0m Trial 138 pruned. \u001b[0m\n",
            "\u001b[32m[I 2021-11-08 17:42:04,941]\u001b[0m Trial 139 finished with value: 0.39739189855955054 and parameters: {'learning_rate': 0.0740746068245881, 'max_depth': 25, 'num_leaves': 101, 'feature_fraction': 0.6047015907952922, 'subsample': 0.6, 'lambda_l1': 4.531199437267329, 'lambda_l2': 5.240632066806808, 'bagging_fraction': 0.9943865470370705, 'bagging_freq': 5}. Best is trial 103 with value: 0.3970050484327186.\u001b[0m\n",
            "\u001b[32m[I 2021-11-08 17:42:05,775]\u001b[0m Trial 140 pruned. \u001b[0m\n",
            "\u001b[32m[I 2021-11-08 17:42:06,537]\u001b[0m Trial 141 pruned. \u001b[0m\n",
            "\u001b[32m[I 2021-11-08 17:42:07,347]\u001b[0m Trial 142 finished with value: 0.39953650040252864 and parameters: {'learning_rate': 0.08268203471861585, 'max_depth': 25, 'num_leaves': 101, 'feature_fraction': 0.8743868037623475, 'subsample': 0.5, 'lambda_l1': 4.5123740654133, 'lambda_l2': 5.083116488270915, 'bagging_fraction': 0.8189426908488533, 'bagging_freq': 5}. Best is trial 103 with value: 0.3970050484327186.\u001b[0m\n",
            "\u001b[32m[I 2021-11-08 17:42:08,119]\u001b[0m Trial 143 pruned. \u001b[0m\n",
            "\u001b[32m[I 2021-11-08 17:42:08,912]\u001b[0m Trial 144 finished with value: 0.39986230931886124 and parameters: {'learning_rate': 0.06170755216747125, 'max_depth': 25, 'num_leaves': 101, 'feature_fraction': 0.7074852874593458, 'subsample': 1.0, 'lambda_l1': 4.680833099178136, 'lambda_l2': 5.078283021264175, 'bagging_fraction': 0.8512133749551734, 'bagging_freq': 5}. Best is trial 103 with value: 0.3970050484327186.\u001b[0m\n",
            "\u001b[32m[I 2021-11-08 17:42:09,700]\u001b[0m Trial 145 finished with value: 0.39857245431446425 and parameters: {'learning_rate': 0.07838135459768586, 'max_depth': 25, 'num_leaves': 101, 'feature_fraction': 0.7615771380778786, 'subsample': 0.6, 'lambda_l1': 4.931186910500791, 'lambda_l2': 4.837659636373319, 'bagging_fraction': 0.8332200760601067, 'bagging_freq': 5}. Best is trial 103 with value: 0.3970050484327186.\u001b[0m\n",
            "\u001b[32m[I 2021-11-08 17:42:10,464]\u001b[0m Trial 146 pruned. \u001b[0m\n",
            "\u001b[32m[I 2021-11-08 17:42:11,252]\u001b[0m Trial 147 finished with value: 0.39720464104746356 and parameters: {'learning_rate': 0.0829700799152578, 'max_depth': 25, 'num_leaves': 101, 'feature_fraction': 0.715710669806565, 'subsample': 0.5, 'lambda_l1': 4.635391778200023, 'lambda_l2': 5.119639041003476, 'bagging_fraction': 0.8228573717893432, 'bagging_freq': 4}. Best is trial 103 with value: 0.3970050484327186.\u001b[0m\n",
            "\u001b[32m[I 2021-11-08 17:42:12,122]\u001b[0m Trial 148 finished with value: 0.3981180394624778 and parameters: {'learning_rate': 0.09376752379863137, 'max_depth': 25, 'num_leaves': 101, 'feature_fraction': 0.829568373350028, 'subsample': 0.5, 'lambda_l1': 4.305988720386606, 'lambda_l2': 5.2885859181622354, 'bagging_fraction': 0.990198725233351, 'bagging_freq': 5}. Best is trial 103 with value: 0.3970050484327186.\u001b[0m\n",
            "\u001b[32m[I 2021-11-08 17:42:12,933]\u001b[0m Trial 149 finished with value: 0.39705886580821315 and parameters: {'learning_rate': 0.08454493684897367, 'max_depth': 25, 'num_leaves': 101, 'feature_fraction': 0.6044692004410913, 'subsample': 0.7000000000000001, 'lambda_l1': 4.602689050304736, 'lambda_l2': 5.008758758393258, 'bagging_fraction': 0.963437303303446, 'bagging_freq': 5}. Best is trial 103 with value: 0.3970050484327186.\u001b[0m\n",
            "\u001b[32m[I 2021-11-08 17:42:13,728]\u001b[0m Trial 150 finished with value: 0.39848881086789706 and parameters: {'learning_rate': 0.07446301439452867, 'max_depth': 25, 'num_leaves': 101, 'feature_fraction': 0.6149032452024207, 'subsample': 0.5, 'lambda_l1': 4.800490160056937, 'lambda_l2': 4.991932878174425, 'bagging_fraction': 0.871794089132213, 'bagging_freq': 5}. Best is trial 103 with value: 0.3970050484327186.\u001b[0m\n",
            "\u001b[32m[I 2021-11-08 17:42:14,805]\u001b[0m Trial 151 pruned. \u001b[0m\n",
            "\u001b[32m[I 2021-11-08 17:42:15,602]\u001b[0m Trial 152 pruned. \u001b[0m\n",
            "\u001b[32m[I 2021-11-08 17:42:16,433]\u001b[0m Trial 153 finished with value: 0.39853818523587564 and parameters: {'learning_rate': 0.08112198824420404, 'max_depth': 25, 'num_leaves': 101, 'feature_fraction': 0.5944958329688795, 'subsample': 0.4, 'lambda_l1': 4.809894821481251, 'lambda_l2': 4.83314664013369, 'bagging_fraction': 0.9096532966100408, 'bagging_freq': 5}. Best is trial 103 with value: 0.3970050484327186.\u001b[0m\n",
            "\u001b[32m[I 2021-11-08 17:42:17,193]\u001b[0m Trial 154 pruned. \u001b[0m\n",
            "\u001b[32m[I 2021-11-08 17:42:18,028]\u001b[0m Trial 155 finished with value: 0.39762141293641345 and parameters: {'learning_rate': 0.06419424248216649, 'max_depth': 25, 'num_leaves': 101, 'feature_fraction': 0.616294657428977, 'subsample': 0.8, 'lambda_l1': 4.6134917729080245, 'lambda_l2': 5.060404423925247, 'bagging_fraction': 0.9469839217885118, 'bagging_freq': 4}. Best is trial 103 with value: 0.3970050484327186.\u001b[0m\n",
            "\u001b[32m[I 2021-11-08 17:42:18,840]\u001b[0m Trial 156 finished with value: 0.3980845407429105 and parameters: {'learning_rate': 0.07806192758909694, 'max_depth': 25, 'num_leaves': 101, 'feature_fraction': 0.6543297443388212, 'subsample': 0.8, 'lambda_l1': 4.539285123768334, 'lambda_l2': 4.92467237640193, 'bagging_fraction': 0.9121711249968354, 'bagging_freq': 4}. Best is trial 103 with value: 0.3970050484327186.\u001b[0m\n",
            "\u001b[32m[I 2021-11-08 17:42:19,652]\u001b[0m Trial 157 finished with value: 0.3985750279919986 and parameters: {'learning_rate': 0.08893148264459146, 'max_depth': 25, 'num_leaves': 101, 'feature_fraction': 0.7613266487575184, 'subsample': 0.5, 'lambda_l1': 4.552355359943057, 'lambda_l2': 5.080029654243678, 'bagging_fraction': 0.8981018944272692, 'bagging_freq': 5}. Best is trial 103 with value: 0.3970050484327186.\u001b[0m\n",
            "\u001b[32m[I 2021-11-08 17:42:20,368]\u001b[0m Trial 158 pruned. \u001b[0m\n",
            "\u001b[32m[I 2021-11-08 17:42:21,115]\u001b[0m Trial 159 pruned. \u001b[0m\n",
            "\u001b[32m[I 2021-11-08 17:42:21,977]\u001b[0m Trial 160 finished with value: 0.3978554803016498 and parameters: {'learning_rate': 0.0700613637659566, 'max_depth': 25, 'num_leaves': 101, 'feature_fraction': 0.7221746914628624, 'subsample': 0.6, 'lambda_l1': 4.683451987671998, 'lambda_l2': 5.114967642720502, 'bagging_fraction': 0.8623838055191482, 'bagging_freq': 5}. Best is trial 103 with value: 0.3970050484327186.\u001b[0m\n",
            "\u001b[32m[I 2021-11-08 17:42:22,719]\u001b[0m Trial 161 pruned. \u001b[0m\n",
            "\u001b[32m[I 2021-11-08 17:42:23,477]\u001b[0m Trial 162 pruned. \u001b[0m\n",
            "\u001b[32m[I 2021-11-08 17:42:24,249]\u001b[0m Trial 163 finished with value: 0.39541059287964725 and parameters: {'learning_rate': 0.08913522371968123, 'max_depth': 25, 'num_leaves': 101, 'feature_fraction': 0.578102603115959, 'subsample': 0.4, 'lambda_l1': 4.455498295556283, 'lambda_l2': 5.021117599893441, 'bagging_fraction': 0.9871247941193314, 'bagging_freq': 5}. Best is trial 163 with value: 0.39541059287964725.\u001b[0m\n",
            "\u001b[32m[I 2021-11-08 17:42:25,178]\u001b[0m Trial 164 finished with value: 0.3978732440406541 and parameters: {'learning_rate': 0.08576786638999834, 'max_depth': 25, 'num_leaves': 101, 'feature_fraction': 0.6270063671067735, 'subsample': 0.6, 'lambda_l1': 4.605101088187228, 'lambda_l2': 5.173767972014476, 'bagging_fraction': 0.8847568124558907, 'bagging_freq': 5}. Best is trial 163 with value: 0.39541059287964725.\u001b[0m\n",
            "\u001b[32m[I 2021-11-08 17:42:25,987]\u001b[0m Trial 165 finished with value: 0.3983061431495152 and parameters: {'learning_rate': 0.09581924828398097, 'max_depth': 25, 'num_leaves': 101, 'feature_fraction': 0.7456995473687131, 'subsample': 0.30000000000000004, 'lambda_l1': 4.452659749574587, 'lambda_l2': 5.160392930683281, 'bagging_fraction': 0.9433362352803709, 'bagging_freq': 5}. Best is trial 163 with value: 0.39541059287964725.\u001b[0m\n",
            "\u001b[32m[I 2021-11-08 17:42:26,591]\u001b[0m Trial 166 pruned. \u001b[0m\n",
            "\u001b[32m[I 2021-11-08 17:42:27,474]\u001b[0m Trial 167 finished with value: 0.39926240672075697 and parameters: {'learning_rate': 0.0740972468999336, 'max_depth': 25, 'num_leaves': 101, 'feature_fraction': 0.5996375219512907, 'subsample': 0.5, 'lambda_l1': 4.726549568373838, 'lambda_l2': 5.388425181871789, 'bagging_fraction': 0.897160781292828, 'bagging_freq': 5}. Best is trial 163 with value: 0.39541059287964725.\u001b[0m\n",
            "\u001b[32m[I 2021-11-08 17:42:28,222]\u001b[0m Trial 168 pruned. \u001b[0m\n",
            "\u001b[32m[I 2021-11-08 17:42:29,026]\u001b[0m Trial 169 pruned. \u001b[0m\n",
            "\u001b[32m[I 2021-11-08 17:42:29,829]\u001b[0m Trial 170 pruned. \u001b[0m\n",
            "\u001b[32m[I 2021-11-08 17:42:30,585]\u001b[0m Trial 171 pruned. \u001b[0m\n",
            "\u001b[32m[I 2021-11-08 17:42:31,314]\u001b[0m Trial 172 pruned. \u001b[0m\n",
            "\u001b[32m[I 2021-11-08 17:42:32,100]\u001b[0m Trial 173 finished with value: 0.3990572963894157 and parameters: {'learning_rate': 0.1087777061425247, 'max_depth': 25, 'num_leaves': 101, 'feature_fraction': 0.6896132449523162, 'subsample': 0.8, 'lambda_l1': 4.233537936552984, 'lambda_l2': 5.108793785592396, 'bagging_fraction': 0.7817311710140241, 'bagging_freq': 4}. Best is trial 163 with value: 0.39541059287964725.\u001b[0m\n",
            "\u001b[32m[I 2021-11-08 17:42:32,862]\u001b[0m Trial 174 pruned. \u001b[0m\n",
            "\u001b[32m[I 2021-11-08 17:42:33,634]\u001b[0m Trial 175 pruned. \u001b[0m\n",
            "\u001b[32m[I 2021-11-08 17:42:34,623]\u001b[0m Trial 176 finished with value: 0.39814165053008116 and parameters: {'learning_rate': 0.061693093638140094, 'max_depth': 25, 'num_leaves': 101, 'feature_fraction': 0.660700510687386, 'subsample': 0.7000000000000001, 'lambda_l1': 4.723137620250056, 'lambda_l2': 5.1448819838611834, 'bagging_fraction': 0.9959645743290512, 'bagging_freq': 5}. Best is trial 163 with value: 0.39541059287964725.\u001b[0m\n",
            "\u001b[32m[I 2021-11-08 17:42:35,271]\u001b[0m Trial 177 pruned. \u001b[0m\n",
            "\u001b[32m[I 2021-11-08 17:42:36,037]\u001b[0m Trial 178 finished with value: 0.39579855555971394 and parameters: {'learning_rate': 0.08340827411324934, 'max_depth': 25, 'num_leaves': 101, 'feature_fraction': 0.584204897825074, 'subsample': 0.5, 'lambda_l1': 4.790144271749795, 'lambda_l2': 5.215251218825662, 'bagging_fraction': 0.9915424676650073, 'bagging_freq': 5}. Best is trial 163 with value: 0.39541059287964725.\u001b[0m\n",
            "\u001b[32m[I 2021-11-08 17:42:36,783]\u001b[0m Trial 179 pruned. \u001b[0m\n",
            "\u001b[32m[I 2021-11-08 17:42:37,505]\u001b[0m Trial 180 pruned. \u001b[0m\n",
            "\u001b[32m[I 2021-11-08 17:42:38,279]\u001b[0m Trial 181 finished with value: 0.3995590777633036 and parameters: {'learning_rate': 0.07642564315208346, 'max_depth': 25, 'num_leaves': 101, 'feature_fraction': 0.7960236174841183, 'subsample': 0.7000000000000001, 'lambda_l1': 4.6524172927165734, 'lambda_l2': 5.136359592722519, 'bagging_fraction': 0.8781745573151548, 'bagging_freq': 5}. Best is trial 163 with value: 0.39541059287964725.\u001b[0m\n",
            "\u001b[32m[I 2021-11-08 17:42:38,989]\u001b[0m Trial 182 pruned. \u001b[0m\n",
            "\u001b[32m[I 2021-11-08 17:42:39,808]\u001b[0m Trial 183 pruned. \u001b[0m\n",
            "\u001b[32m[I 2021-11-08 17:42:40,569]\u001b[0m Trial 184 pruned. \u001b[0m\n",
            "\u001b[32m[I 2021-11-08 17:42:41,335]\u001b[0m Trial 185 finished with value: 0.3978338912856187 and parameters: {'learning_rate': 0.06841108560854377, 'max_depth': 25, 'num_leaves': 101, 'feature_fraction': 0.5664267740238866, 'subsample': 0.6, 'lambda_l1': 4.442321134236621, 'lambda_l2': 5.1523014226409165, 'bagging_fraction': 0.9516079801738919, 'bagging_freq': 5}. Best is trial 163 with value: 0.39541059287964725.\u001b[0m\n",
            "\u001b[32m[I 2021-11-08 17:42:42,117]\u001b[0m Trial 186 finished with value: 0.39941509843644024 and parameters: {'learning_rate': 0.07223266626547685, 'max_depth': 25, 'num_leaves': 101, 'feature_fraction': 0.7051862730507211, 'subsample': 0.5, 'lambda_l1': 4.745078752740251, 'lambda_l2': 5.111215450629845, 'bagging_fraction': 0.8978521797136413, 'bagging_freq': 5}. Best is trial 163 with value: 0.39541059287964725.\u001b[0m\n",
            "\u001b[32m[I 2021-11-08 17:42:42,905]\u001b[0m Trial 187 finished with value: 0.39916943817490735 and parameters: {'learning_rate': 0.09487930206342884, 'max_depth': 25, 'num_leaves': 101, 'feature_fraction': 0.8296187229804313, 'subsample': 0.30000000000000004, 'lambda_l1': 4.656768321836542, 'lambda_l2': 5.1341451938425395, 'bagging_fraction': 0.9239273619563148, 'bagging_freq': 5}. Best is trial 163 with value: 0.39541059287964725.\u001b[0m\n",
            "\u001b[32m[I 2021-11-08 17:42:43,692]\u001b[0m Trial 188 pruned. \u001b[0m\n",
            "\u001b[32m[I 2021-11-08 17:42:44,458]\u001b[0m Trial 189 pruned. \u001b[0m\n",
            "\u001b[32m[I 2021-11-08 17:42:45,370]\u001b[0m Trial 190 pruned. \u001b[0m\n",
            "\u001b[32m[I 2021-11-08 17:42:46,161]\u001b[0m Trial 191 pruned. \u001b[0m\n",
            "\u001b[32m[I 2021-11-08 17:42:46,942]\u001b[0m Trial 192 finished with value: 0.3980183034535539 and parameters: {'learning_rate': 0.08612954923078606, 'max_depth': 25, 'num_leaves': 101, 'feature_fraction': 0.8004979578562998, 'subsample': 0.4, 'lambda_l1': 4.974220855702644, 'lambda_l2': 4.862202155535386, 'bagging_fraction': 0.8978328468041159, 'bagging_freq': 4}. Best is trial 163 with value: 0.39541059287964725.\u001b[0m\n",
            "\u001b[32m[I 2021-11-08 17:42:47,487]\u001b[0m Trial 193 pruned. \u001b[0m\n",
            "\u001b[32m[I 2021-11-08 17:42:48,091]\u001b[0m Trial 194 pruned. \u001b[0m\n",
            "\u001b[32m[I 2021-11-08 17:42:48,856]\u001b[0m Trial 195 finished with value: 0.39534373804008377 and parameters: {'learning_rate': 0.09217041850161034, 'max_depth': 25, 'num_leaves': 101, 'feature_fraction': 0.6319213954274244, 'subsample': 0.6, 'lambda_l1': 4.54613539405008, 'lambda_l2': 4.869960247357709, 'bagging_fraction': 0.930488473355766, 'bagging_freq': 5}. Best is trial 195 with value: 0.39534373804008377.\u001b[0m\n",
            "\u001b[32m[I 2021-11-08 17:42:49,591]\u001b[0m Trial 196 pruned. \u001b[0m\n",
            "\u001b[32m[I 2021-11-08 17:42:50,384]\u001b[0m Trial 197 pruned. \u001b[0m\n",
            "\u001b[32m[I 2021-11-08 17:42:51,295]\u001b[0m Trial 198 pruned. \u001b[0m\n",
            "\u001b[32m[I 2021-11-08 17:42:52,129]\u001b[0m Trial 199 pruned. \u001b[0m\n"
          ]
        },
        {
          "name": "stdout",
          "output_type": "stream",
          "text": [
            "Wall time: 2min 34s\n"
          ]
        }
      ],
      "source": [
        "%%time\n",
        "%%capture\n",
        "\n",
        "study_cmaes = optuna.create_study(\n",
        "    direction = 'minimize',\n",
        "    sampler = optuna.samplers.CmaEsSampler(),\n",
        "    pruner = optuna.pruners.MedianPruner()  \n",
        "    )\n",
        "\n",
        "study_cmaes.optimize(objective, n_trials=N_TRIALS)"
      ]
    },
    {
      "cell_type": "code",
      "execution_count": 17,
      "metadata": {
        "colab": {
          "base_uri": "https://localhost:8080/"
        },
        "id": "ggS0cFflJixW",
        "outputId": "889e8c19-1a72-458c-d55b-be1063aab04d"
      },
      "outputs": [
        {
          "name": "stdout",
          "output_type": "stream",
          "text": [
            "{'score': 0.39534373804008377, 'params': {'learning_rate': 0.09217041850161034, 'max_depth': 25, 'num_leaves': 101, 'feature_fraction': 0.6319213954274244, 'subsample': 0.6, 'lambda_l1': 4.54613539405008, 'lambda_l2': 4.869960247357709, 'bagging_fraction': 0.930488473355766, 'bagging_freq': 5}}\n"
          ]
        }
      ],
      "source": [
        "cmaessearch = {'score': study_cmaes.best_value, 'params': study_cmaes.best_params}\n",
        "print(cmaessearch)"
      ]
    },
    {
      "cell_type": "markdown",
      "metadata": {},
      "source": [
        "### **Tree-Parzen Estimator**"
      ]
    },
    {
      "cell_type": "code",
      "execution_count": 18,
      "metadata": {},
      "outputs": [
        {
          "name": "stderr",
          "output_type": "stream",
          "text": [
            "\u001b[32m[I 2021-11-08 17:42:52,214]\u001b[0m A new study created in memory with name: no-name-4f12b512-f3ef-499c-90fa-c99825dee606\u001b[0m\n",
            "\u001b[32m[I 2021-11-08 17:42:53,223]\u001b[0m Trial 0 finished with value: 0.39777958750773185 and parameters: {'learning_rate': 0.05334609012206734, 'max_depth': 19, 'num_leaves': 144, 'feature_fraction': 0.8195622686545379, 'subsample': 0.6, 'lambda_l1': 3.1198031544877125, 'lambda_l2': 4.043844488143719, 'bagging_fraction': 0.8908158072211779, 'bagging_freq': 0}. Best is trial 0 with value: 0.39777958750773185.\u001b[0m\n",
            "\u001b[32m[I 2021-11-08 17:42:53,910]\u001b[0m Trial 1 finished with value: 0.4358752291970234 and parameters: {'learning_rate': 0.02055104060171125, 'max_depth': 27, 'num_leaves': 73, 'feature_fraction': 0.9969228057154212, 'subsample': 0.8, 'lambda_l1': 6.21174486221821, 'lambda_l2': 3.290085828953492, 'bagging_fraction': 0.6488878021188779, 'bagging_freq': 2}. Best is trial 0 with value: 0.39777958750773185.\u001b[0m\n",
            "\u001b[32m[I 2021-11-08 17:42:54,141]\u001b[0m Trial 2 finished with value: 0.5203807777909708 and parameters: {'learning_rate': 0.014722330302847884, 'max_depth': 5, 'num_leaves': 50, 'feature_fraction': 0.6783427225217332, 'subsample': 0.8, 'lambda_l1': 5.895164532082785, 'lambda_l2': 7.960523627569657, 'bagging_fraction': 0.8750676318252245, 'bagging_freq': 10}. Best is trial 0 with value: 0.39777958750773185.\u001b[0m\n",
            "\u001b[32m[I 2021-11-08 17:42:54,694]\u001b[0m Trial 3 finished with value: 0.5365393245501137 and parameters: {'learning_rate': 0.35393776503283025, 'max_depth': 26, 'num_leaves': 154, 'feature_fraction': 0.1170572488064267, 'subsample': 0.5, 'lambda_l1': 0.8195294654778429, 'lambda_l2': 1.2154370210153143, 'bagging_fraction': 0.33140625369643817, 'bagging_freq': 1}. Best is trial 0 with value: 0.39777958750773185.\u001b[0m\n",
            "\u001b[32m[I 2021-11-08 17:42:55,108]\u001b[0m Trial 4 finished with value: 0.4104979684730721 and parameters: {'learning_rate': 0.12437916671506624, 'max_depth': 30, 'num_leaves': 48, 'feature_fraction': 0.9447408383471247, 'subsample': 0.7000000000000001, 'lambda_l1': 7.319625907620729, 'lambda_l2': 9.533167780551242, 'bagging_fraction': 0.6630323978823917, 'bagging_freq': 7}. Best is trial 0 with value: 0.39777958750773185.\u001b[0m\n",
            "\u001b[32m[I 2021-11-08 17:42:55,287]\u001b[0m Trial 5 finished with value: 0.47015591630797793 and parameters: {'learning_rate': 0.17421069335029835, 'max_depth': 37, 'num_leaves': 54, 'feature_fraction': 0.5905266898996308, 'subsample': 1.0, 'lambda_l1': 6.27787962361897, 'lambda_l2': 3.922670909026519, 'bagging_fraction': 0.053334701258654804, 'bagging_freq': 5}. Best is trial 0 with value: 0.39777958750773185.\u001b[0m\n",
            "\u001b[32m[I 2021-11-08 17:42:55,611]\u001b[0m Trial 6 finished with value: 0.51815502666185 and parameters: {'learning_rate': 0.015134968049930723, 'max_depth': 41, 'num_leaves': 40, 'feature_fraction': 0.5469671864582101, 'subsample': 0.1, 'lambda_l1': 7.259712872372219, 'lambda_l2': 6.808668605885439, 'bagging_fraction': 0.6540358026732982, 'bagging_freq': 1}. Best is trial 0 with value: 0.39777958750773185.\u001b[0m\n",
            "\u001b[32m[I 2021-11-08 17:42:56,044]\u001b[0m Trial 7 finished with value: 0.40642026908691603 and parameters: {'learning_rate': 0.10744863857056959, 'max_depth': 8, 'num_leaves': 147, 'feature_fraction': 0.6745951748017355, 'subsample': 0.4, 'lambda_l1': 2.4030013826950847, 'lambda_l2': 1.085699695287472, 'bagging_fraction': 0.5941638918449714, 'bagging_freq': 1}. Best is trial 0 with value: 0.39777958750773185.\u001b[0m\n",
            "\u001b[32m[I 2021-11-08 17:42:56,236]\u001b[0m Trial 8 finished with value: 0.4663227417478962 and parameters: {'learning_rate': 0.18105785711294767, 'max_depth': 26, 'num_leaves': 57, 'feature_fraction': 0.9891289690787409, 'subsample': 0.1, 'lambda_l1': 4.946607982786241, 'lambda_l2': 5.784226680952261, 'bagging_fraction': 0.05873235287653089, 'bagging_freq': 6}. Best is trial 0 with value: 0.39777958750773185.\u001b[0m\n",
            "\u001b[32m[I 2021-11-08 17:42:56,774]\u001b[0m Trial 9 finished with value: 0.41483109096896564 and parameters: {'learning_rate': 0.0465606324866418, 'max_depth': 9, 'num_leaves': 194, 'feature_fraction': 0.7622282951106162, 'subsample': 0.30000000000000004, 'lambda_l1': 8.764689125845312, 'lambda_l2': 8.667182134604927, 'bagging_fraction': 0.8159591292767633, 'bagging_freq': 4}. Best is trial 0 with value: 0.39777958750773185.\u001b[0m\n",
            "\u001b[32m[I 2021-11-08 17:42:57,599]\u001b[0m Trial 10 finished with value: 0.4358822119430389 and parameters: {'learning_rate': 0.04341455328773115, 'max_depth': 50, 'num_leaves': 110, 'feature_fraction': 0.3605767938400616, 'subsample': 0.6, 'lambda_l1': 3.4258904035841478, 'lambda_l2': 3.2354418572301147, 'bagging_fraction': 0.9831169451634268, 'bagging_freq': 3}. Best is trial 0 with value: 0.39777958750773185.\u001b[0m\n",
            "\u001b[32m[I 2021-11-08 17:42:58,402]\u001b[0m Trial 11 finished with value: 0.39676360732062 and parameters: {'learning_rate': 0.08345306001121927, 'max_depth': 14, 'num_leaves': 133, 'feature_fraction': 0.7990039867895682, 'subsample': 0.4, 'lambda_l1': 1.8301187276075441, 'lambda_l2': 0.1549751816124919, 'bagging_fraction': 0.5093138810364279, 'bagging_freq': 0}. Best is trial 11 with value: 0.39676360732062.\u001b[0m\n",
            "\u001b[32m[I 2021-11-08 17:42:59,200]\u001b[0m Trial 12 finished with value: 0.39705167741757585 and parameters: {'learning_rate': 0.059713398871135616, 'max_depth': 15, 'num_leaves': 127, 'feature_fraction': 0.8406221506841819, 'subsample': 0.30000000000000004, 'lambda_l1': 0.5445007433151243, 'lambda_l2': 1.8409506808036702, 'bagging_fraction': 0.3672368617273547, 'bagging_freq': 0}. Best is trial 11 with value: 0.39676360732062.\u001b[0m\n",
            "\u001b[32m[I 2021-11-08 17:43:00,016]\u001b[0m Trial 13 finished with value: 0.39832894004666264 and parameters: {'learning_rate': 0.031263214884253716, 'max_depth': 16, 'num_leaves': 122, 'feature_fraction': 0.8395224225862602, 'subsample': 0.30000000000000004, 'lambda_l1': 0.37813153647717873, 'lambda_l2': 0.3551192606903173, 'bagging_fraction': 0.3592283907486403, 'bagging_freq': 0}. Best is trial 11 with value: 0.39676360732062.\u001b[0m\n",
            "\u001b[32m[I 2021-11-08 17:43:00,195]\u001b[0m Trial 14 finished with value: 0.48827390180582025 and parameters: {'learning_rate': 0.08191307512766331, 'max_depth': 15, 'num_leaves': 6, 'feature_fraction': 0.44946562016362956, 'subsample': 0.30000000000000004, 'lambda_l1': 1.4953823437695846, 'lambda_l2': 1.7736430669115264, 'bagging_fraction': 0.36449153063177475, 'bagging_freq': 3}. Best is trial 11 with value: 0.39676360732062.\u001b[0m\n",
            "\u001b[32m[I 2021-11-08 17:43:00,369]\u001b[0m Trial 15 finished with value: 0.46890674635843854 and parameters: {'learning_rate': 0.4116242440536428, 'max_depth': 18, 'num_leaves': 184, 'feature_fraction': 0.8251453152881325, 'subsample': 0.2, 'lambda_l1': 1.9944573847813736, 'lambda_l2': 2.411628422138149, 'bagging_fraction': 0.21741614784235314, 'bagging_freq': 8}. Best is trial 11 with value: 0.39676360732062.\u001b[0m\n",
            "\u001b[32m[I 2021-11-08 17:43:00,520]\u001b[0m Trial 16 finished with value: 0.5801764159261753 and parameters: {'learning_rate': 0.027411837584099315, 'max_depth': 2, 'num_leaves': 89, 'feature_fraction': 0.702581269259859, 'subsample': 0.4, 'lambda_l1': 4.074489683952255, 'lambda_l2': 0.34143000823297853, 'bagging_fraction': 0.4698869998336159, 'bagging_freq': 3}. Best is trial 11 with value: 0.39676360732062.\u001b[0m\n",
            "\u001b[32m[I 2021-11-08 17:43:00,933]\u001b[0m Trial 17 finished with value: 0.40884621539062127 and parameters: {'learning_rate': 0.24893652352362183, 'max_depth': 11, 'num_leaves': 169, 'feature_fraction': 0.8908944371813101, 'subsample': 0.5, 'lambda_l1': 0.17601758902306952, 'lambda_l2': 0.020788883219572035, 'bagging_fraction': 0.5075452561552851, 'bagging_freq': 0}. Best is trial 11 with value: 0.39676360732062.\u001b[0m\n",
            "\u001b[32m[I 2021-11-08 17:43:01,558]\u001b[0m Trial 18 finished with value: 0.43559137291234246 and parameters: {'learning_rate': 0.07445905844527043, 'max_depth': 21, 'num_leaves': 126, 'feature_fraction': 0.34997780496503184, 'subsample': 0.2, 'lambda_l1': 1.3666385818493372, 'lambda_l2': 2.281234899136389, 'bagging_fraction': 0.2155783780873157, 'bagging_freq': 2}. Best is trial 11 with value: 0.39676360732062.\u001b[0m\n",
            "\u001b[32m[I 2021-11-08 17:43:02,162]\u001b[0m Trial 19 finished with value: 0.4105835328108676 and parameters: {'learning_rate': 0.10581792664485727, 'max_depth': 12, 'num_leaves': 94, 'feature_fraction': 0.576978866676752, 'subsample': 0.4, 'lambda_l1': 3.141044192407265, 'lambda_l2': 4.825808118297627, 'bagging_fraction': 0.4818810463556593, 'bagging_freq': 10}. Best is trial 11 with value: 0.39676360732062.\u001b[0m\n",
            "\u001b[32m[I 2021-11-08 17:43:02,454]\u001b[0m Trial 20 finished with value: 0.569120265038397 and parameters: {'learning_rate': 0.06211761899744634, 'max_depth': 33, 'num_leaves': 130, 'feature_fraction': 0.15024351869721436, 'subsample': 0.2, 'lambda_l1': 4.352365575488008, 'lambda_l2': 1.3905513774307394, 'bagging_fraction': 0.21855277203652357, 'bagging_freq': 5}. Best is trial 11 with value: 0.39676360732062.\u001b[0m\n",
            "\u001b[32m[I 2021-11-08 17:43:03,370]\u001b[0m Trial 21 finished with value: 0.39774605861028445 and parameters: {'learning_rate': 0.04630887977285688, 'max_depth': 21, 'num_leaves': 152, 'feature_fraction': 0.7869995651071506, 'subsample': 0.6, 'lambda_l1': 2.6465321864269464, 'lambda_l2': 4.519558752368437, 'bagging_fraction': 0.7751378234400477, 'bagging_freq': 0}. Best is trial 11 with value: 0.39676360732062.\u001b[0m\n",
            "\u001b[32m[I 2021-11-08 17:43:04,348]\u001b[0m Trial 22 finished with value: 0.4003720056397519 and parameters: {'learning_rate': 0.03384709991892749, 'max_depth': 22, 'num_leaves': 167, 'feature_fraction': 0.7546492677055825, 'subsample': 0.5, 'lambda_l1': 2.5227650781211057, 'lambda_l2': 5.05484152172792, 'bagging_fraction': 0.7332194690402228, 'bagging_freq': 0}. Best is trial 11 with value: 0.39676360732062.\u001b[0m\n",
            "\u001b[32m[I 2021-11-08 17:43:05,093]\u001b[0m Trial 23 finished with value: 0.3979780607377734 and parameters: {'learning_rate': 0.07715761430969802, 'max_depth': 14, 'num_leaves': 114, 'feature_fraction': 0.8795873698636131, 'subsample': 0.7000000000000001, 'lambda_l1': 1.26355474325018, 'lambda_l2': 2.5170206259353356, 'bagging_fraction': 0.5614019010035354, 'bagging_freq': 2}. Best is trial 11 with value: 0.39676360732062.\u001b[0m\n",
            "\u001b[32m[I 2021-11-08 17:43:05,968]\u001b[0m Trial 24 finished with value: 0.39688697393447386 and parameters: {'learning_rate': 0.03860844359607439, 'max_depth': 22, 'num_leaves': 137, 'feature_fraction': 0.7526155593100475, 'subsample': 0.4, 'lambda_l1': 0.04453741927845245, 'lambda_l2': 6.758207841993659, 'bagging_fraction': 0.7696572275391294, 'bagging_freq': 1}. Best is trial 11 with value: 0.39676360732062.\u001b[0m\n",
            "\u001b[32m[I 2021-11-08 17:43:06,392]\u001b[0m Trial 25 finished with value: 0.4584979758665753 and parameters: {'learning_rate': 0.020010850445818476, 'max_depth': 6, 'num_leaves': 136, 'feature_fraction': 0.6377218090265142, 'subsample': 0.4, 'lambda_l1': 0.12154749066215059, 'lambda_l2': 6.163532770506753, 'bagging_fraction': 0.41218995323234786, 'bagging_freq': 1}. Best is trial 11 with value: 0.39676360732062.\u001b[0m\n",
            "\u001b[32m[I 2021-11-08 17:43:06,896]\u001b[0m Trial 26 finished with value: 0.41832666611837205 and parameters: {'learning_rate': 0.15040531211272837, 'max_depth': 23, 'num_leaves': 101, 'feature_fraction': 0.8992887192612644, 'subsample': 0.30000000000000004, 'lambda_l1': 0.9319927283871328, 'lambda_l2': 7.132141400825727, 'bagging_fraction': 0.2743746949634689, 'bagging_freq': 2}. Best is trial 11 with value: 0.39676360732062.\u001b[0m\n",
            "\u001b[32m[I 2021-11-08 17:43:07,017]\u001b[0m Trial 27 finished with value: 0.6506373772936509 and parameters: {'learning_rate': 0.03678484488101082, 'max_depth': 1, 'num_leaves': 170, 'feature_fraction': 0.7463292399877784, 'subsample': 0.2, 'lambda_l1': 1.7054233982894675, 'lambda_l2': 5.5702736472857985, 'bagging_fraction': 0.10631835347753521, 'bagging_freq': 1}. Best is trial 11 with value: 0.39676360732062.\u001b[0m\n",
            "\u001b[32m[I 2021-11-08 17:43:07,641]\u001b[0m Trial 28 finished with value: 0.4546585139307703 and parameters: {'learning_rate': 0.023683224871548003, 'max_depth': 17, 'num_leaves': 79, 'feature_fraction': 0.5220307206099579, 'subsample': 0.4, 'lambda_l1': 0.5579616251914248, 'lambda_l2': 7.616087556274229, 'bagging_fraction': 0.9708428952599177, 'bagging_freq': 4}. Best is trial 11 with value: 0.39676360732062.\u001b[0m\n",
            "\u001b[32m[I 2021-11-08 17:43:08,537]\u001b[0m Trial 29 finished with value: 0.45216102910541134 and parameters: {'learning_rate': 0.010595459203856296, 'max_depth': 31, 'num_leaves': 141, 'feature_fraction': 0.8149434223820103, 'subsample': 0.5, 'lambda_l1': 1.872690060123924, 'lambda_l2': 0.7296154973258069, 'bagging_fraction': 0.7292357030435106, 'bagging_freq': 0}. Best is trial 11 with value: 0.39676360732062.\u001b[0m\n",
            "\u001b[32m[I 2021-11-08 17:43:09,293]\u001b[0m Trial 30 finished with value: 0.4007766246593847 and parameters: {'learning_rate': 0.056792808616926614, 'max_depth': 13, 'num_leaves': 112, 'feature_fraction': 0.918402290256538, 'subsample': 0.30000000000000004, 'lambda_l1': 3.8343964275286155, 'lambda_l2': 3.662371268812349, 'bagging_fraction': 0.42882225338523405, 'bagging_freq': 0}. Best is trial 11 with value: 0.39676360732062.\u001b[0m\n",
            "\u001b[32m[I 2021-11-08 17:43:10,219]\u001b[0m Trial 31 finished with value: 0.3968898818950269 and parameters: {'learning_rate': 0.04893529802113026, 'max_depth': 20, 'num_leaves': 156, 'feature_fraction': 0.8073902769858315, 'subsample': 0.6, 'lambda_l1': 2.6643434031761615, 'lambda_l2': 4.669867888141309, 'bagging_fraction': 0.7996162589718846, 'bagging_freq': 0}. Best is trial 11 with value: 0.39676360732062.\u001b[0m\n",
            "\u001b[32m[I 2021-11-08 17:43:11,206]\u001b[0m Trial 32 finished with value: 0.3979117096489618 and parameters: {'learning_rate': 0.09082939490283348, 'max_depth': 19, 'num_leaves': 161, 'feature_fraction': 0.8555002998262946, 'subsample': 0.7000000000000001, 'lambda_l1': 0.9517023707352601, 'lambda_l2': 6.505132918755426, 'bagging_fraction': 0.8561701198023359, 'bagging_freq': 1}. Best is trial 11 with value: 0.39676360732062.\u001b[0m\n",
            "\u001b[32m[I 2021-11-08 17:43:12,243]\u001b[0m Trial 33 finished with value: 0.39769527200861254 and parameters: {'learning_rate': 0.05977683413577087, 'max_depth': 19, 'num_leaves': 179, 'feature_fraction': 0.7209309177997527, 'subsample': 0.8, 'lambda_l1': 0.09606249500654407, 'lambda_l2': 8.616603331677519, 'bagging_fraction': 0.5739384620844896, 'bagging_freq': 2}. Best is trial 11 with value: 0.39676360732062.\u001b[0m\n",
            "\u001b[32m[I 2021-11-08 17:43:13,070]\u001b[0m Trial 34 finished with value: 0.39682469949529525 and parameters: {'learning_rate': 0.039284229126444824, 'max_depth': 25, 'num_leaves': 139, 'feature_fraction': 0.6368382959546396, 'subsample': 0.5, 'lambda_l1': 2.824034476958663, 'lambda_l2': 1.7704067372905596, 'bagging_fraction': 0.9081740520235015, 'bagging_freq': 0}. Best is trial 11 with value: 0.39676360732062.\u001b[0m\n",
            "\u001b[32m[I 2021-11-08 17:43:13,944]\u001b[0m Trial 35 finished with value: 0.3984920196338919 and parameters: {'learning_rate': 0.03803384219697973, 'max_depth': 26, 'num_leaves': 142, 'feature_fraction': 0.6335687755113967, 'subsample': 0.6, 'lambda_l1': 2.833263087458158, 'lambda_l2': 3.139855286375651, 'bagging_fraction': 0.9202897116012708, 'bagging_freq': 1}. Best is trial 11 with value: 0.39676360732062.\u001b[0m\n",
            "\u001b[32m[I 2021-11-08 17:43:14,787]\u001b[0m Trial 36 finished with value: 0.47399800418969246 and parameters: {'learning_rate': 0.01944070124497043, 'max_depth': 29, 'num_leaves': 153, 'feature_fraction': 0.48377735759750173, 'subsample': 0.5, 'lambda_l1': 4.916967380787509, 'lambda_l2': 4.196135174249961, 'bagging_fraction': 0.9086857039672654, 'bagging_freq': 2}. Best is trial 11 with value: 0.39676360732062.\u001b[0m\n",
            "\u001b[32m[I 2021-11-08 17:43:15,705]\u001b[0m Trial 37 finished with value: 0.41227133119217735 and parameters: {'learning_rate': 0.025215748671465123, 'max_depth': 23, 'num_leaves': 184, 'feature_fraction': 0.6678084108941408, 'subsample': 0.7000000000000001, 'lambda_l1': 3.392166112279854, 'lambda_l2': 7.5779185670243105, 'bagging_fraction': 0.7112793412297163, 'bagging_freq': 1}. Best is trial 11 with value: 0.39676360732062.\u001b[0m\n",
            "\u001b[32m[I 2021-11-08 17:43:16,520]\u001b[0m Trial 38 finished with value: 0.42771440261269184 and parameters: {'learning_rate': 0.015687856090791492, 'max_depth': 40, 'num_leaves': 136, 'feature_fraction': 0.6095277335357642, 'subsample': 0.9, 'lambda_l1': 2.1805351217660123, 'lambda_l2': 5.33285523349451, 'bagging_fraction': 0.8267804915848086, 'bagging_freq': 0}. Best is trial 11 with value: 0.39676360732062.\u001b[0m\n",
            "\u001b[32m[I 2021-11-08 17:43:17,136]\u001b[0m Trial 39 finished with value: 0.42178418075853435 and parameters: {'learning_rate': 0.049613054942294406, 'max_depth': 34, 'num_leaves': 162, 'feature_fraction': 0.9654613749168932, 'subsample': 0.5, 'lambda_l1': 9.86348710013803, 'lambda_l2': 9.848742570770064, 'bagging_fraction': 0.6249614645694462, 'bagging_freq': 8}. Best is trial 11 with value: 0.39676360732062.\u001b[0m\n",
            "\u001b[32m[I 2021-11-08 17:43:17,940]\u001b[0m Trial 40 finished with value: 0.40107255463839 and parameters: {'learning_rate': 0.10182727470536651, 'max_depth': 29, 'num_leaves': 121, 'feature_fraction': 0.7871734380357834, 'subsample': 0.6, 'lambda_l1': 5.553822918875701, 'lambda_l2': 0.802727739729681, 'bagging_fraction': 0.7823193724879501, 'bagging_freq': 4}. Best is trial 11 with value: 0.39676360732062.\u001b[0m\n",
            "\u001b[32m[I 2021-11-08 17:43:18,747]\u001b[0m Trial 41 finished with value: 0.3948252498819617 and parameters: {'learning_rate': 0.06459112158624755, 'max_depth': 24, 'num_leaves': 130, 'feature_fraction': 0.6969334903893525, 'subsample': 0.4, 'lambda_l1': 1.1406911497335723, 'lambda_l2': 1.7618739919937134, 'bagging_fraction': 0.9235523600548966, 'bagging_freq': 0}. Best is trial 41 with value: 0.3948252498819617.\u001b[0m\n",
            "\u001b[32m[I 2021-11-08 17:43:19,684]\u001b[0m Trial 42 finished with value: 0.39479433226391214 and parameters: {'learning_rate': 0.041948110660201446, 'max_depth': 25, 'num_leaves': 149, 'feature_fraction': 0.7090078151755798, 'subsample': 0.4, 'lambda_l1': 1.1356810643018322, 'lambda_l2': 2.938873946628647, 'bagging_fraction': 0.9365245931490542, 'bagging_freq': 1}. Best is trial 42 with value: 0.39479433226391214.\u001b[0m\n",
            "\u001b[32m[I 2021-11-08 17:43:20,620]\u001b[0m Trial 43 finished with value: 0.3957071939286922 and parameters: {'learning_rate': 0.04014606393265538, 'max_depth': 25, 'num_leaves': 145, 'feature_fraction': 0.6984874464200727, 'subsample': 0.4, 'lambda_l1': 0.911474163811892, 'lambda_l2': 2.9563796912498868, 'bagging_fraction': 0.9290286993841477, 'bagging_freq': 1}. Best is trial 42 with value: 0.39479433226391214.\u001b[0m\n",
            "\u001b[32m[I 2021-11-08 17:43:21,387]\u001b[0m Trial 44 finished with value: 0.40081046012317034 and parameters: {'learning_rate': 0.028992565915337488, 'max_depth': 25, 'num_leaves': 101, 'feature_fraction': 0.6929225642237697, 'subsample': 0.4, 'lambda_l1': 1.0850448102194556, 'lambda_l2': 2.747470511603008, 'bagging_fraction': 0.9540567423726825, 'bagging_freq': 2}. Best is trial 42 with value: 0.39479433226391214.\u001b[0m\n",
            "\u001b[32m[I 2021-11-08 17:43:22,281]\u001b[0m Trial 45 finished with value: 0.39783747909208245 and parameters: {'learning_rate': 0.12629050961925545, 'max_depth': 27, 'num_leaves': 146, 'feature_fraction': 0.6559593681394422, 'subsample': 0.5, 'lambda_l1': 2.0707599430463146, 'lambda_l2': 1.5470025999942179, 'bagging_fraction': 0.8746659707497562, 'bagging_freq': 1}. Best is trial 42 with value: 0.39479433226391214.\u001b[0m\n",
            "\u001b[32m[I 2021-11-08 17:43:23,057]\u001b[0m Trial 46 finished with value: 0.41445307414803234 and parameters: {'learning_rate': 0.06857998884880206, 'max_depth': 36, 'num_leaves': 117, 'feature_fraction': 0.5581536220409475, 'subsample': 0.4, 'lambda_l1': 1.5482352369128574, 'lambda_l2': 1.9748025271734737, 'bagging_fraction': 0.9927766115855963, 'bagging_freq': 6}. Best is trial 42 with value: 0.39479433226391214.\u001b[0m\n",
            "\u001b[32m[I 2021-11-08 17:43:23,873]\u001b[0m Trial 47 finished with value: 0.39633165527333714 and parameters: {'learning_rate': 0.08903701014630191, 'max_depth': 24, 'num_leaves': 132, 'feature_fraction': 0.7150909618286692, 'subsample': 0.30000000000000004, 'lambda_l1': 0.588002753790096, 'lambda_l2': 3.040233870198235, 'bagging_fraction': 0.9453051508136903, 'bagging_freq': 3}. Best is trial 42 with value: 0.39479433226391214.\u001b[0m\n",
            "\u001b[32m[I 2021-11-08 17:43:24,285]\u001b[0m Trial 48 finished with value: 0.41160118908296656 and parameters: {'learning_rate': 0.21231806263448386, 'max_depth': 32, 'num_leaves': 130, 'feature_fraction': 0.7254103986641764, 'subsample': 0.30000000000000004, 'lambda_l1': 0.6968677025273458, 'lambda_l2': 3.701532903131867, 'bagging_fraction': 0.8533143350587697, 'bagging_freq': 3}. Best is trial 42 with value: 0.39479433226391214.\u001b[0m\n",
            "\u001b[32m[I 2021-11-08 17:43:24,800]\u001b[0m Trial 49 finished with value: 0.4003853417186937 and parameters: {'learning_rate': 0.1274078950678606, 'max_depth': 48, 'num_leaves': 105, 'feature_fraction': 0.6071427431635971, 'subsample': 0.1, 'lambda_l1': 0.6411151372324015, 'lambda_l2': 1.076880000700921, 'bagging_fraction': 0.9482677464705842, 'bagging_freq': 3}. Best is trial 42 with value: 0.39479433226391214.\u001b[0m\n",
            "\u001b[32m[I 2021-11-08 17:43:25,546]\u001b[0m Trial 50 finished with value: 0.4071073889373439 and parameters: {'learning_rate': 0.08243187447430496, 'max_depth': 28, 'num_leaves': 199, 'feature_fraction': 0.7005591478200399, 'subsample': 0.2, 'lambda_l1': 7.928369182602099, 'lambda_l2': 2.914458362762032, 'bagging_fraction': 0.6834538195018736, 'bagging_freq': 4}. Best is trial 42 with value: 0.39479433226391214.\u001b[0m\n",
            "\u001b[32m[I 2021-11-08 17:43:26,483]\u001b[0m Trial 51 finished with value: 0.39373102180464753 and parameters: {'learning_rate': 0.042200717834984136, 'max_depth': 24, 'num_leaves': 150, 'feature_fraction': 0.6691965943367563, 'subsample': 0.4, 'lambda_l1': 1.1992975041396996, 'lambda_l2': 2.0174282745691197, 'bagging_fraction': 0.9120875701797994, 'bagging_freq': 1}. Best is trial 51 with value: 0.39373102180464753.\u001b[0m\n",
            "\u001b[32m[I 2021-11-08 17:43:27,501]\u001b[0m Trial 52 finished with value: 0.3946478700238427 and parameters: {'learning_rate': 0.06501036724737494, 'max_depth': 24, 'num_leaves': 155, 'feature_fraction': 0.7803134861402178, 'subsample': 0.30000000000000004, 'lambda_l1': 1.2037999984881798, 'lambda_l2': 3.3531433482762414, 'bagging_fraction': 0.9359360294978016, 'bagging_freq': 2}. Best is trial 51 with value: 0.39373102180464753.\u001b[0m\n",
            "\u001b[32m[I 2021-11-08 17:43:28,618]\u001b[0m Trial 53 finished with value: 0.39590791860562263 and parameters: {'learning_rate': 0.06679447853343529, 'max_depth': 25, 'num_leaves': 176, 'feature_fraction': 0.6882575220081731, 'subsample': 0.30000000000000004, 'lambda_l1': 1.266444212365904, 'lambda_l2': 3.3305929076837626, 'bagging_fraction': 0.9373856843218491, 'bagging_freq': 1}. Best is trial 51 with value: 0.39373102180464753.\u001b[0m\n",
            "\u001b[32m[I 2021-11-08 17:43:29,637]\u001b[0m Trial 54 finished with value: 0.41868945401302193 and parameters: {'learning_rate': 0.054122967412259235, 'max_depth': 27, 'num_leaves': 181, 'feature_fraction': 0.5156467104970411, 'subsample': 0.30000000000000004, 'lambda_l1': 1.196147782470626, 'lambda_l2': 3.412429535579881, 'bagging_fraction': 0.8839225384429169, 'bagging_freq': 1}. Best is trial 51 with value: 0.39373102180464753.\u001b[0m\n",
            "\u001b[32m[I 2021-11-08 17:43:30,774]\u001b[0m Trial 55 finished with value: 0.392182560678307 and parameters: {'learning_rate': 0.06740287399478939, 'max_depth': 30, 'num_leaves': 175, 'feature_fraction': 0.6719669157521356, 'subsample': 0.2, 'lambda_l1': 1.5789683015264173, 'lambda_l2': 2.264825344629245, 'bagging_fraction': 0.9900427272221736, 'bagging_freq': 2}. Best is trial 55 with value: 0.392182560678307.\u001b[0m\n",
            "\u001b[32m[I 2021-11-08 17:43:32,001]\u001b[0m Trial 56 finished with value: 0.39577709496428454 and parameters: {'learning_rate': 0.04322828170987012, 'max_depth': 30, 'num_leaves': 191, 'feature_fraction': 0.7678159618077633, 'subsample': 0.2, 'lambda_l1': 2.1423311582559155, 'lambda_l2': 2.118149146388408, 'bagging_fraction': 0.9984438466818594, 'bagging_freq': 2}. Best is trial 55 with value: 0.392182560678307.\u001b[0m\n",
            "\u001b[32m[I 2021-11-08 17:43:32,933]\u001b[0m Trial 57 finished with value: 0.39598393389654774 and parameters: {'learning_rate': 0.03254627922490715, 'max_depth': 35, 'num_leaves': 148, 'feature_fraction': 0.6110194466447366, 'subsample': 0.4, 'lambda_l1': 1.7177689536049563, 'lambda_l2': 2.6277317036364902, 'bagging_fraction': 0.8282811329890953, 'bagging_freq': 2}. Best is trial 55 with value: 0.392182560678307.\u001b[0m\n",
            "\u001b[32m[I 2021-11-08 17:43:33,616]\u001b[0m Trial 58 finished with value: 0.44248749496641687 and parameters: {'learning_rate': 0.0435978058724757, 'max_depth': 31, 'num_leaves': 160, 'feature_fraction': 0.4254933306959652, 'subsample': 0.30000000000000004, 'lambda_l1': 6.714148442038256, 'lambda_l2': 4.259236219049912, 'bagging_fraction': 0.8875592928115076, 'bagging_freq': 1}. Best is trial 55 with value: 0.392182560678307.\u001b[0m\n",
            "\u001b[32m[I 2021-11-08 17:43:34,664]\u001b[0m Trial 59 finished with value: 0.39186209620422224 and parameters: {'learning_rate': 0.054526898989133946, 'max_depth': 38, 'num_leaves': 171, 'feature_fraction': 0.5665988736945224, 'subsample': 0.1, 'lambda_l1': 0.8299009064869973, 'lambda_l2': 2.332512380423336, 'bagging_fraction': 0.8404644128386054, 'bagging_freq': 2}. Best is trial 59 with value: 0.39186209620422224.\u001b[0m\n",
            "\u001b[32m[I 2021-11-08 17:43:35,712]\u001b[0m Trial 60 finished with value: 0.3919725716551635 and parameters: {'learning_rate': 0.06815521948448587, 'max_depth': 37, 'num_leaves': 172, 'feature_fraction': 0.5668445474189385, 'subsample': 0.1, 'lambda_l1': 0.37364551969384285, 'lambda_l2': 1.5137336453788912, 'bagging_fraction': 0.8495014381926494, 'bagging_freq': 3}. Best is trial 59 with value: 0.39186209620422224.\u001b[0m\n",
            "\u001b[32m[I 2021-11-08 17:43:36,768]\u001b[0m Trial 61 finished with value: 0.39501710931904577 and parameters: {'learning_rate': 0.0661435154873517, 'max_depth': 38, 'num_leaves': 174, 'feature_fraction': 0.5689992787412353, 'subsample': 0.1, 'lambda_l1': 0.4213853962959475, 'lambda_l2': 1.1580055688696325, 'bagging_fraction': 0.8469841200720433, 'bagging_freq': 3}. Best is trial 59 with value: 0.39186209620422224.\u001b[0m\n",
            "\u001b[32m[I 2021-11-08 17:43:38,028]\u001b[0m Trial 62 finished with value: 0.4172503439839928 and parameters: {'learning_rate': 0.05329817177431922, 'max_depth': 43, 'num_leaves': 189, 'feature_fraction': 0.5133707227468907, 'subsample': 0.1, 'lambda_l1': 1.3918224108560926, 'lambda_l2': 2.302995829880324, 'bagging_fraction': 0.9657606756890486, 'bagging_freq': 2}. Best is trial 59 with value: 0.39186209620422224.\u001b[0m\n",
            "\u001b[32m[I 2021-11-08 17:43:39,097]\u001b[0m Trial 63 finished with value: 0.3933961487723843 and parameters: {'learning_rate': 0.0703924499043992, 'max_depth': 40, 'num_leaves': 168, 'feature_fraction': 0.6625193124873104, 'subsample': 0.1, 'lambda_l1': 2.3291298803041123, 'lambda_l2': 1.5174286672641202, 'bagging_fraction': 0.9991359960018307, 'bagging_freq': 2}. Best is trial 59 with value: 0.39186209620422224.\u001b[0m\n",
            "\u001b[32m[I 2021-11-08 17:43:40,113]\u001b[0m Trial 64 finished with value: 0.4147391446284488 and parameters: {'learning_rate': 0.0727308502736839, 'max_depth': 43, 'num_leaves': 166, 'feature_fraction': 0.45981947460180594, 'subsample': 0.1, 'lambda_l1': 2.422060587176176, 'lambda_l2': 0.782450325793481, 'bagging_fraction': 0.9810793140258145, 'bagging_freq': 2}. Best is trial 59 with value: 0.39186209620422224.\u001b[0m\n",
            "\u001b[32m[I 2021-11-08 17:43:41,072]\u001b[0m Trial 65 finished with value: 0.398426447031887 and parameters: {'learning_rate': 0.09626657539083079, 'max_depth': 38, 'num_leaves': 173, 'feature_fraction': 0.5883029887599314, 'subsample': 0.1, 'lambda_l1': 1.6257029837843346, 'lambda_l2': 1.4951753572116666, 'bagging_fraction': 0.8891962682725771, 'bagging_freq': 3}. Best is trial 59 with value: 0.39186209620422224.\u001b[0m\n",
            "\u001b[32m[I 2021-11-08 17:43:42,103]\u001b[0m Trial 66 finished with value: 0.4287271900133849 and parameters: {'learning_rate': 0.11441426565695947, 'max_depth': 45, 'num_leaves': 199, 'feature_fraction': 0.4057061974369003, 'subsample': 0.2, 'lambda_l1': 0.43320397233387875, 'lambda_l2': 2.3888625312452736, 'bagging_fraction': 0.7566077393428368, 'bagging_freq': 5}. Best is trial 59 with value: 0.39186209620422224.\u001b[0m\n",
            "\u001b[32m[I 2021-11-08 17:43:42,462]\u001b[0m Trial 67 finished with value: 0.501395825296839 and parameters: {'learning_rate': 0.05228211642582553, 'max_depth': 40, 'num_leaves': 36, 'feature_fraction': 0.19494582377363084, 'subsample': 0.2, 'lambda_l1': 0.7655812014879556, 'lambda_l2': 2.0897711300527444, 'bagging_fraction': 0.8537716070213072, 'bagging_freq': 2}. Best is trial 59 with value: 0.39186209620422224.\u001b[0m\n",
            "\u001b[32m[I 2021-11-08 17:43:43,456]\u001b[0m Trial 68 finished with value: 0.39371762598898574 and parameters: {'learning_rate': 0.08104154473076174, 'max_depth': 37, 'num_leaves': 158, 'feature_fraction': 0.6599946501748021, 'subsample': 0.1, 'lambda_l1': 1.8628304839824532, 'lambda_l2': 2.669300690844227, 'bagging_fraction': 0.9958227090974494, 'bagging_freq': 3}. Best is trial 59 with value: 0.39186209620422224.\u001b[0m\n",
            "\u001b[32m[I 2021-11-08 17:43:44,426]\u001b[0m Trial 69 finished with value: 0.4115422430914382 and parameters: {'learning_rate': 0.15368171410311418, 'max_depth': 37, 'num_leaves': 157, 'feature_fraction': 0.5498655660764273, 'subsample': 0.1, 'lambda_l1': 3.2646299476237135, 'lambda_l2': 1.3589645333198126, 'bagging_fraction': 0.8060078397367532, 'bagging_freq': 4}. Best is trial 59 with value: 0.39186209620422224.\u001b[0m\n",
            "\u001b[32m[I 2021-11-08 17:43:45,494]\u001b[0m Trial 70 finished with value: 0.3911869158710172 and parameters: {'learning_rate': 0.07861803514102106, 'max_depth': 43, 'num_leaves': 166, 'feature_fraction': 0.6589177553880874, 'subsample': 0.2, 'lambda_l1': 1.938786379502495, 'lambda_l2': 0.49895580539483153, 'bagging_fraction': 0.9681985959336308, 'bagging_freq': 3}. Best is trial 70 with value: 0.3911869158710172.\u001b[0m\n",
            "\u001b[32m[I 2021-11-08 17:43:46,548]\u001b[0m Trial 71 finished with value: 0.39369874897395496 and parameters: {'learning_rate': 0.060031342423260414, 'max_depth': 42, 'num_leaves': 165, 'feature_fraction': 0.6592791503348857, 'subsample': 0.2, 'lambda_l1': 1.850071490725426, 'lambda_l2': 0.9600853770470481, 'bagging_fraction': 0.9904548322163398, 'bagging_freq': 3}. Best is trial 70 with value: 0.3911869158710172.\u001b[0m\n",
            "\u001b[32m[I 2021-11-08 17:43:47,649]\u001b[0m Trial 72 finished with value: 0.3938844797743843 and parameters: {'learning_rate': 0.07781871583640121, 'max_depth': 45, 'num_leaves': 167, 'feature_fraction': 0.6608335627254474, 'subsample': 0.1, 'lambda_l1': 1.861400532557846, 'lambda_l2': 0.4230857718044758, 'bagging_fraction': 0.9883753530342226, 'bagging_freq': 3}. Best is trial 70 with value: 0.3911869158710172.\u001b[0m\n",
            "\u001b[32m[I 2021-11-08 17:43:48,775]\u001b[0m Trial 73 finished with value: 0.3928181372558751 and parameters: {'learning_rate': 0.05868035076024333, 'max_depth': 41, 'num_leaves': 185, 'feature_fraction': 0.6370955392281611, 'subsample': 0.2, 'lambda_l1': 2.338697287429391, 'lambda_l2': 1.03071668269061, 'bagging_fraction': 0.99811664289614, 'bagging_freq': 4}. Best is trial 70 with value: 0.3911869158710172.\u001b[0m\n",
            "\u001b[32m[I 2021-11-08 17:43:49,903]\u001b[0m Trial 74 finished with value: 0.3954875057746036 and parameters: {'learning_rate': 0.0866001118147223, 'max_depth': 41, 'num_leaves': 184, 'feature_fraction': 0.6377253483107803, 'subsample': 0.2, 'lambda_l1': 2.2989455019685985, 'lambda_l2': 0.5096386744173136, 'bagging_fraction': 0.9978089141420886, 'bagging_freq': 4}. Best is trial 70 with value: 0.3911869158710172.\u001b[0m\n",
            "\u001b[32m[I 2021-11-08 17:43:50,951]\u001b[0m Trial 75 finished with value: 0.42112189170779807 and parameters: {'learning_rate': 0.05700041369525537, 'max_depth': 46, 'num_leaves': 188, 'feature_fraction': 0.5378178563697116, 'subsample': 0.1, 'lambda_l1': 2.9651395045773956, 'lambda_l2': 1.0147980467214957, 'bagging_fraction': 0.9646300756583779, 'bagging_freq': 3}. Best is trial 70 with value: 0.3911869158710172.\u001b[0m\n",
            "\u001b[32m[I 2021-11-08 17:43:52,039]\u001b[0m Trial 76 finished with value: 0.3961196517344946 and parameters: {'learning_rate': 0.07420730612328962, 'max_depth': 43, 'num_leaves': 175, 'feature_fraction': 0.5895305666205564, 'subsample': 0.2, 'lambda_l1': 3.566460961819269, 'lambda_l2': 0.14283050860129065, 'bagging_fraction': 0.9678290772300389, 'bagging_freq': 4}. Best is trial 70 with value: 0.3911869158710172.\u001b[0m\n",
            "\u001b[32m[I 2021-11-08 17:43:53,097]\u001b[0m Trial 77 finished with value: 0.3955135090834262 and parameters: {'learning_rate': 0.11607153088715225, 'max_depth': 41, 'num_leaves': 163, 'feature_fraction': 0.7411202481916509, 'subsample': 0.1, 'lambda_l1': 2.562197953314548, 'lambda_l2': 1.6305096024399233, 'bagging_fraction': 0.9988369328693514, 'bagging_freq': 3}. Best is trial 70 with value: 0.3911869158710172.\u001b[0m\n",
            "\u001b[32m[I 2021-11-08 17:43:53,216]\u001b[0m Trial 78 finished with value: 0.7372580024007926 and parameters: {'learning_rate': 0.09912966443469474, 'max_depth': 39, 'num_leaves': 170, 'feature_fraction': 0.6190569696309532, 'subsample': 0.2, 'lambda_l1': 1.9022773709589464, 'lambda_l2': 0.6270546204976364, 'bagging_fraction': 0.0024592470526297316, 'bagging_freq': 4}. Best is trial 70 with value: 0.3911869158710172.\u001b[0m\n",
            "\u001b[32m[I 2021-11-08 17:43:54,113]\u001b[0m Trial 79 finished with value: 0.42073576186246825 and parameters: {'learning_rate': 0.05981268729800684, 'max_depth': 35, 'num_leaves': 194, 'feature_fraction': 0.4860343622727976, 'subsample': 0.1, 'lambda_l1': 4.574047137226907, 'lambda_l2': 1.2420797506336572, 'bagging_fraction': 0.8744302336445786, 'bagging_freq': 5}. Best is trial 70 with value: 0.3911869158710172.\u001b[0m\n",
            "\u001b[32m[I 2021-11-08 17:43:55,212]\u001b[0m Trial 80 finished with value: 0.3928979477726259 and parameters: {'learning_rate': 0.04780439900055684, 'max_depth': 50, 'num_leaves': 176, 'feature_fraction': 0.5762984168440387, 'subsample': 0.2, 'lambda_l1': 2.326626161855552, 'lambda_l2': 0.9308350992359616, 'bagging_fraction': 0.9536005049392882, 'bagging_freq': 3}. Best is trial 70 with value: 0.3911869158710172.\u001b[0m\n",
            "\u001b[32m[I 2021-11-08 17:43:56,341]\u001b[0m Trial 81 finished with value: 0.3928773572386002 and parameters: {'learning_rate': 0.07431651389675348, 'max_depth': 49, 'num_leaves': 179, 'feature_fraction': 0.6401632108272056, 'subsample': 0.2, 'lambda_l1': 2.997265525580231, 'lambda_l2': 0.9397300992110421, 'bagging_fraction': 0.8999611818251896, 'bagging_freq': 3}. Best is trial 70 with value: 0.3911869158710172.\u001b[0m\n",
            "\u001b[32m[I 2021-11-08 17:43:57,433]\u001b[0m Trial 82 finished with value: 0.3948865154031428 and parameters: {'learning_rate': 0.04874798374752711, 'max_depth': 49, 'num_leaves': 180, 'feature_fraction': 0.6370836688433632, 'subsample': 0.2, 'lambda_l1': 3.086546622327784, 'lambda_l2': 0.8654875627849082, 'bagging_fraction': 0.9020222025892954, 'bagging_freq': 3}. Best is trial 70 with value: 0.3911869158710172.\u001b[0m\n",
            "\u001b[32m[I 2021-11-08 17:43:58,650]\u001b[0m Trial 83 finished with value: 0.39489310872061 and parameters: {'learning_rate': 0.05897757080165338, 'max_depth': 50, 'num_leaves': 194, 'feature_fraction': 0.5761138064331293, 'subsample': 0.2, 'lambda_l1': 2.419809005971708, 'lambda_l2': 0.0033839543110287806, 'bagging_fraction': 0.9641037127978358, 'bagging_freq': 4}. Best is trial 70 with value: 0.3911869158710172.\u001b[0m\n",
            "\u001b[32m[I 2021-11-08 17:43:59,790]\u001b[0m Trial 84 finished with value: 0.3949451184421543 and parameters: {'learning_rate': 0.07171525210142478, 'max_depth': 46, 'num_leaves': 184, 'feature_fraction': 0.6051026591078014, 'subsample': 0.2, 'lambda_l1': 2.1552291924916394, 'lambda_l2': 0.36826662855482994, 'bagging_fraction': 0.9069106639038196, 'bagging_freq': 3}. Best is trial 70 with value: 0.3911869158710172.\u001b[0m\n",
            "\u001b[32m[I 2021-11-08 17:44:00,788]\u001b[0m Trial 85 finished with value: 0.42549667639690886 and parameters: {'learning_rate': 0.04838695194832377, 'max_depth': 47, 'num_leaves': 178, 'feature_fraction': 0.5435018295186799, 'subsample': 0.2, 'lambda_l1': 4.018882937161946, 'lambda_l2': 1.3024426195563312, 'bagging_fraction': 0.8234158431098303, 'bagging_freq': 2}. Best is trial 70 with value: 0.3911869158710172.\u001b[0m\n",
            "\u001b[32m[I 2021-11-08 17:44:01,948]\u001b[0m Trial 86 finished with value: 0.395132759799443 and parameters: {'learning_rate': 0.09200711529239707, 'max_depth': 44, 'num_leaves': 172, 'feature_fraction': 0.6471224872801563, 'subsample': 0.2, 'lambda_l1': 2.7874401986987905, 'lambda_l2': 0.9678186423641263, 'bagging_fraction': 0.9565527452935529, 'bagging_freq': 3}. Best is trial 70 with value: 0.3911869158710172.\u001b[0m\n",
            "\u001b[32m[I 2021-11-08 17:44:02,985]\u001b[0m Trial 87 finished with value: 0.3976083532344233 and parameters: {'learning_rate': 0.06307146469720445, 'max_depth': 41, 'num_leaves': 164, 'feature_fraction': 0.6759998418015206, 'subsample': 0.1, 'lambda_l1': 3.6156837867095044, 'lambda_l2': 0.6656884575341248, 'bagging_fraction': 0.9194297288328921, 'bagging_freq': 5}. Best is trial 70 with value: 0.3911869158710172.\u001b[0m\n",
            "\u001b[32m[I 2021-11-08 17:44:04,124]\u001b[0m Trial 88 finished with value: 0.39507036899698694 and parameters: {'learning_rate': 0.05338595704652908, 'max_depth': 49, 'num_leaves': 182, 'feature_fraction': 0.619992651182078, 'subsample': 1.0, 'lambda_l1': 2.428795811033117, 'lambda_l2': 1.714896055888847, 'bagging_fraction': 0.9484695352317799, 'bagging_freq': 4}. Best is trial 70 with value: 0.3911869158710172.\u001b[0m\n",
            "\u001b[32m[I 2021-11-08 17:44:05,280]\u001b[0m Trial 89 finished with value: 0.39396841954587086 and parameters: {'learning_rate': 0.03563773913128306, 'max_depth': 42, 'num_leaves': 189, 'feature_fraction': 0.587889370526222, 'subsample': 0.2, 'lambda_l1': 0.23713480469367987, 'lambda_l2': 1.4532817800360331, 'bagging_fraction': 0.8672568330230872, 'bagging_freq': 2}. Best is trial 70 with value: 0.3911869158710172.\u001b[0m\n",
            "\u001b[32m[I 2021-11-08 17:44:06,337]\u001b[0m Trial 90 finished with value: 0.39563181068817344 and parameters: {'learning_rate': 0.07147512517183728, 'max_depth': 39, 'num_leaves': 168, 'feature_fraction': 0.7317381291604559, 'subsample': 0.1, 'lambda_l1': 0.9235541250960312, 'lambda_l2': 0.30720583124168954, 'bagging_fraction': 0.7914421943354992, 'bagging_freq': 3}. Best is trial 70 with value: 0.3911869158710172.\u001b[0m\n",
            "\u001b[32m[I 2021-11-08 17:44:07,769]\u001b[0m Trial 91 finished with value: 0.39428995942348766 and parameters: {'learning_rate': 0.08267547643465177, 'max_depth': 37, 'num_leaves': 158, 'feature_fraction': 0.659883699233751, 'subsample': 0.1, 'lambda_l1': 1.5168390374999885, 'lambda_l2': 1.9238791645522086, 'bagging_fraction': 0.9686207746635485, 'bagging_freq': 3}. Best is trial 70 with value: 0.3911869158710172.\u001b[0m\n",
            "\u001b[32m[I 2021-11-08 17:44:08,875]\u001b[0m Trial 92 finished with value: 0.39224811787842806 and parameters: {'learning_rate': 0.07805519131392134, 'max_depth': 33, 'num_leaves': 177, 'feature_fraction': 0.5633999948833619, 'subsample': 0.1, 'lambda_l1': 1.9416010279820386, 'lambda_l2': 1.1685794012011954, 'bagging_fraction': 0.9807181981061974, 'bagging_freq': 3}. Best is trial 70 with value: 0.3911869158710172.\u001b[0m\n",
            "\u001b[32m[I 2021-11-08 17:44:09,261]\u001b[0m Trial 93 finished with value: 0.4131230466579963 and parameters: {'learning_rate': 0.3371955407912883, 'max_depth': 33, 'num_leaves': 177, 'feature_fraction': 0.5666212458535214, 'subsample': 0.2, 'lambda_l1': 1.465267801692344, 'lambda_l2': 1.0754988482297587, 'bagging_fraction': 0.9309255769923456, 'bagging_freq': 4}. Best is trial 70 with value: 0.3911869158710172.\u001b[0m\n",
            "\u001b[32m[I 2021-11-08 17:44:10,510]\u001b[0m Trial 94 finished with value: 0.4244320897937603 and parameters: {'learning_rate': 0.04504295628715419, 'max_depth': 34, 'num_leaves': 186, 'feature_fraction': 0.5288547015674843, 'subsample': 0.1, 'lambda_l1': 2.1009799670106064, 'lambda_l2': 0.7104736494960281, 'bagging_fraction': 0.9048391284601631, 'bagging_freq': 2}. Best is trial 70 with value: 0.3911869158710172.\u001b[0m\n",
            "\u001b[32m[I 2021-11-08 17:44:11,548]\u001b[0m Trial 95 finished with value: 0.41686800434381194 and parameters: {'learning_rate': 0.0764753396128324, 'max_depth': 47, 'num_leaves': 171, 'feature_fraction': 0.5085897590033157, 'subsample': 0.2, 'lambda_l1': 1.673658743730303, 'lambda_l2': 1.6001755673094786, 'bagging_fraction': 0.9741453462921765, 'bagging_freq': 3}. Best is trial 70 with value: 0.3911869158710172.\u001b[0m\n",
            "\u001b[32m[I 2021-11-08 17:44:12,615]\u001b[0m Trial 96 finished with value: 0.41642517188139255 and parameters: {'learning_rate': 0.061927993708085424, 'max_depth': 39, 'num_leaves': 179, 'feature_fraction': 0.484918281385822, 'subsample': 0.1, 'lambda_l1': 2.7904550162670305, 'lambda_l2': 1.1864227361162627, 'bagging_fraction': 0.9392134103430823, 'bagging_freq': 4}. Best is trial 70 with value: 0.3911869158710172.\u001b[0m\n",
            "\u001b[32m[I 2021-11-08 17:44:13,591]\u001b[0m Trial 97 finished with value: 0.4047264866581632 and parameters: {'learning_rate': 0.11184562605686321, 'max_depth': 36, 'num_leaves': 164, 'feature_fraction': 0.6232351530411965, 'subsample': 0.2, 'lambda_l1': 1.9712386239502107, 'lambda_l2': 0.9085808604545927, 'bagging_fraction': 0.5348228861441189, 'bagging_freq': 3}. Best is trial 70 with value: 0.3911869158710172.\u001b[0m\n",
            "\u001b[32m[I 2021-11-08 17:44:14,771]\u001b[0m Trial 98 finished with value: 0.3940189601520938 and parameters: {'learning_rate': 0.06855040574931842, 'max_depth': 42, 'num_leaves': 194, 'feature_fraction': 0.5860445068634322, 'subsample': 0.1, 'lambda_l1': 2.2352790785550454, 'lambda_l2': 0.1969567090101142, 'bagging_fraction': 0.8923177629227373, 'bagging_freq': 2}. Best is trial 70 with value: 0.3911869158710172.\u001b[0m\n",
            "\u001b[32m[I 2021-11-08 17:44:15,810]\u001b[0m Trial 99 finished with value: 0.3961962834827503 and parameters: {'learning_rate': 0.08970819563263636, 'max_depth': 50, 'num_leaves': 172, 'feature_fraction': 0.6808619607431732, 'subsample': 0.30000000000000004, 'lambda_l1': 3.1502446591894384, 'lambda_l2': 0.4927265028059276, 'bagging_fraction': 0.8390527695902052, 'bagging_freq': 9}. Best is trial 70 with value: 0.3911869158710172.\u001b[0m\n",
            "\u001b[32m[I 2021-11-08 17:44:16,745]\u001b[0m Trial 100 finished with value: 0.41773913433955573 and parameters: {'learning_rate': 0.05639691249482066, 'max_depth': 32, 'num_leaves': 153, 'feature_fraction': 0.5617586481709061, 'subsample': 0.2, 'lambda_l1': 2.6869484657361777, 'lambda_l2': 2.251826866039385, 'bagging_fraction': 0.8669116590019866, 'bagging_freq': 3}. Best is trial 70 with value: 0.3911869158710172.\u001b[0m\n",
            "\u001b[32m[I 2021-11-08 17:44:17,811]\u001b[0m Trial 101 finished with value: 0.3920115003823992 and parameters: {'learning_rate': 0.0831869691443098, 'max_depth': 38, 'num_leaves': 168, 'feature_fraction': 0.6040010470487829, 'subsample': 0.1, 'lambda_l1': 1.7919103995820873, 'lambda_l2': 2.713004912305377, 'bagging_fraction': 0.9806935251070608, 'bagging_freq': 3}. Best is trial 70 with value: 0.3911869158710172.\u001b[0m\n",
            "\u001b[32m[I 2021-11-08 17:44:18,892]\u001b[0m Trial 102 finished with value: 0.3944503416015194 and parameters: {'learning_rate': 0.0984013815421619, 'max_depth': 40, 'num_leaves': 168, 'feature_fraction': 0.5983914430149668, 'subsample': 0.1, 'lambda_l1': 1.7139067801912458, 'lambda_l2': 1.8639313698833835, 'bagging_fraction': 0.9836078742483104, 'bagging_freq': 2}. Best is trial 70 with value: 0.3911869158710172.\u001b[0m\n",
            "\u001b[32m[I 2021-11-08 17:44:19,909]\u001b[0m Trial 103 finished with value: 0.3934975093603721 and parameters: {'learning_rate': 0.05023107507711536, 'max_depth': 44, 'num_leaves': 161, 'feature_fraction': 0.6509745631228443, 'subsample': 0.1, 'lambda_l1': 1.4300620973139435, 'lambda_l2': 1.3852404551700321, 'bagging_fraction': 0.9505284618778064, 'bagging_freq': 4}. Best is trial 70 with value: 0.3911869158710172.\u001b[0m\n",
            "\u001b[32m[I 2021-11-08 17:44:20,997]\u001b[0m Trial 104 finished with value: 0.3932583839345178 and parameters: {'learning_rate': 0.05162648188336134, 'max_depth': 44, 'num_leaves': 176, 'feature_fraction': 0.6279683525716993, 'subsample': 0.1, 'lambda_l1': 1.383093632061151, 'lambda_l2': 2.1030119340536824, 'bagging_fraction': 0.9199015834132818, 'bagging_freq': 4}. Best is trial 70 with value: 0.3911869158710172.\u001b[0m\n",
            "\u001b[32m[I 2021-11-08 17:44:22,235]\u001b[0m Trial 105 finished with value: 0.4139466938639781 and parameters: {'learning_rate': 0.0778744387892727, 'max_depth': 48, 'num_leaves': 176, 'feature_fraction': 0.5526418605126406, 'subsample': 0.1, 'lambda_l1': 0.9795074275415918, 'lambda_l2': 2.2489682338159995, 'bagging_fraction': 0.9226902794238123, 'bagging_freq': 5}. Best is trial 70 with value: 0.3911869158710172.\u001b[0m\n",
            "\u001b[32m[I 2021-11-08 17:44:22,567]\u001b[0m Trial 106 finished with value: 0.4363208380391425 and parameters: {'learning_rate': 0.13608845791705823, 'max_depth': 36, 'num_leaves': 191, 'feature_fraction': 0.6222386751401191, 'subsample': 0.1, 'lambda_l1': 5.796477792450482, 'lambda_l2': 2.4330674786319917, 'bagging_fraction': 0.145235975664314, 'bagging_freq': 4}. Best is trial 70 with value: 0.3911869158710172.\u001b[0m\n",
            "\u001b[32m[I 2021-11-08 17:44:23,129]\u001b[0m Trial 107 finished with value: 0.399641105643847 and parameters: {'learning_rate': 0.07039035880930758, 'max_depth': 38, 'num_leaves': 66, 'feature_fraction': 0.6844622187043644, 'subsample': 0.1, 'lambda_l1': 0.2815711754217558, 'lambda_l2': 1.7015743749709358, 'bagging_fraction': 0.9243555495905937, 'bagging_freq': 6}. Best is trial 70 with value: 0.3911869158710172.\u001b[0m\n",
            "\u001b[32m[I 2021-11-08 17:44:24,351]\u001b[0m Trial 108 finished with value: 0.39573075369760297 and parameters: {'learning_rate': 0.08255444877040971, 'max_depth': 45, 'num_leaves': 182, 'feature_fraction': 0.574536652150631, 'subsample': 0.1, 'lambda_l1': 0.8459107814812182, 'lambda_l2': 2.0739911799950206, 'bagging_fraction': 0.8845626338977557, 'bagging_freq': 2}. Best is trial 70 with value: 0.3911869158710172.\u001b[0m\n",
            "\u001b[32m[I 2021-11-08 17:44:25,049]\u001b[0m Trial 109 finished with value: 0.4354274800896873 and parameters: {'learning_rate': 0.04570051197638571, 'max_depth': 35, 'num_leaves': 200, 'feature_fraction': 0.5027966788460675, 'subsample': 0.2, 'lambda_l1': 2.5515704827757366, 'lambda_l2': 2.800414895063578, 'bagging_fraction': 0.309644979915913, 'bagging_freq': 2}. Best is trial 70 with value: 0.3911869158710172.\u001b[0m\n",
            "\u001b[32m[I 2021-11-08 17:44:25,379]\u001b[0m Trial 110 finished with value: 0.43040208036353894 and parameters: {'learning_rate': 0.06395127182139577, 'max_depth': 33, 'num_leaves': 15, 'feature_fraction': 0.6045152079180801, 'subsample': 0.30000000000000004, 'lambda_l1': 1.3454199036072902, 'lambda_l2': 2.521289748203946, 'bagging_fraction': 0.9749794008317479, 'bagging_freq': 3}. Best is trial 70 with value: 0.3911869158710172.\u001b[0m\n",
            "\u001b[32m[I 2021-11-08 17:44:26,426]\u001b[0m Trial 111 finished with value: 0.39423791745210723 and parameters: {'learning_rate': 0.051939587034834145, 'max_depth': 44, 'num_leaves': 160, 'feature_fraction': 0.6380381691415493, 'subsample': 0.1, 'lambda_l1': 1.4078309957224793, 'lambda_l2': 1.3844272447934556, 'bagging_fraction': 0.94974752754848, 'bagging_freq': 4}. Best is trial 70 with value: 0.3911869158710172.\u001b[0m\n",
            "\u001b[32m[I 2021-11-08 17:44:27,460]\u001b[0m Trial 112 finished with value: 0.4221016616162824 and parameters: {'learning_rate': 0.050769504498611374, 'max_depth': 46, 'num_leaves': 174, 'feature_fraction': 0.5330222715885681, 'subsample': 0.1, 'lambda_l1': 2.2893485487127503, 'lambda_l2': 1.534876509956554, 'bagging_fraction': 0.948345225165568, 'bagging_freq': 4}. Best is trial 70 with value: 0.3911869158710172.\u001b[0m\n",
            "\u001b[32m[I 2021-11-08 17:44:28,608]\u001b[0m Trial 113 finished with value: 0.3937244619439435 and parameters: {'learning_rate': 0.06545487837273377, 'max_depth': 44, 'num_leaves': 185, 'feature_fraction': 0.6310186814134262, 'subsample': 0.1, 'lambda_l1': 2.0241049006056384, 'lambda_l2': 1.2680870451667785, 'bagging_fraction': 0.9772315353578049, 'bagging_freq': 3}. Best is trial 70 with value: 0.3911869158710172.\u001b[0m\n",
            "\u001b[32m[I 2021-11-08 17:44:29,719]\u001b[0m Trial 114 finished with value: 0.39429723165556624 and parameters: {'learning_rate': 0.05799098572152777, 'max_depth': 40, 'num_leaves': 179, 'feature_fraction': 0.6023113754499513, 'subsample': 0.9, 'lambda_l1': 0.6153157683006354, 'lambda_l2': 1.8661429912748968, 'bagging_fraction': 0.9999695679324812, 'bagging_freq': 4}. Best is trial 70 with value: 0.3911869158710172.\u001b[0m\n",
            "\u001b[32m[I 2021-11-08 17:44:30,899]\u001b[0m Trial 115 finished with value: 0.39713418117353644 and parameters: {'learning_rate': 0.041001680253508095, 'max_depth': 42, 'num_leaves': 170, 'feature_fraction': 0.7155954597790423, 'subsample': 0.2, 'lambda_l1': 1.658147052130336, 'lambda_l2': 2.138940151510495, 'bagging_fraction': 0.9020444909699109, 'bagging_freq': 5}. Best is trial 70 with value: 0.3911869158710172.\u001b[0m\n",
            "\u001b[32m[I 2021-11-08 17:44:32,251]\u001b[0m Trial 116 finished with value: 0.39183829428853273 and parameters: {'learning_rate': 0.05562298154802586, 'max_depth': 48, 'num_leaves': 163, 'feature_fraction': 0.6403957818957994, 'subsample': 0.1, 'lambda_l1': 1.1256962112254336, 'lambda_l2': 0.5928401997368602, 'bagging_fraction': 0.9556896022688958, 'bagging_freq': 3}. Best is trial 70 with value: 0.3911869158710172.\u001b[0m\n",
            "\u001b[32m[I 2021-11-08 17:44:33,338]\u001b[0m Trial 117 finished with value: 0.39333935855866015 and parameters: {'learning_rate': 0.05547907903917103, 'max_depth': 47, 'num_leaves': 175, 'feature_fraction': 0.5752051993085252, 'subsample': 0.1, 'lambda_l1': 0.002022108664365696, 'lambda_l2': 0.5737797520845609, 'bagging_fraction': 0.9163041931855218, 'bagging_freq': 3}. Best is trial 70 with value: 0.3911869158710172.\u001b[0m\n",
            "\u001b[32m[I 2021-11-08 17:44:34,369]\u001b[0m Trial 118 finished with value: 0.4192027988916502 and parameters: {'learning_rate': 0.055819676801443924, 'max_depth': 48, 'num_leaves': 175, 'feature_fraction': 0.5606708513897479, 'subsample': 0.1, 'lambda_l1': 0.14124474341526302, 'lambda_l2': 0.6092293654463864, 'bagging_fraction': 0.8607227218374089, 'bagging_freq': 3}. Best is trial 70 with value: 0.3911869158710172.\u001b[0m\n",
            "\u001b[32m[I 2021-11-08 17:44:35,507]\u001b[0m Trial 119 finished with value: 0.5093119292124271 and parameters: {'learning_rate': 0.04787769737041717, 'max_depth': 49, 'num_leaves': 188, 'feature_fraction': 0.26551230361508105, 'subsample': 0.2, 'lambda_l1': 0.4168566331415261, 'lambda_l2': 0.7831935376062197, 'bagging_fraction': 0.9231141126986617, 'bagging_freq': 3}. Best is trial 70 with value: 0.3911869158710172.\u001b[0m\n",
            "\u001b[32m[I 2021-11-08 17:44:36,202]\u001b[0m Trial 120 finished with value: 0.40239322877047906 and parameters: {'learning_rate': 0.10435989240279976, 'max_depth': 50, 'num_leaves': 196, 'feature_fraction': 0.5767567966095323, 'subsample': 0.1, 'lambda_l1': 0.01082039578632793, 'lambda_l2': 0.21021878185248777, 'bagging_fraction': 0.6154805979105694, 'bagging_freq': 3}. Best is trial 70 with value: 0.3911869158710172.\u001b[0m\n",
            "\u001b[32m[I 2021-11-08 17:44:37,297]\u001b[0m Trial 121 finished with value: 0.3941650424596928 and parameters: {'learning_rate': 0.07632824109796549, 'max_depth': 46, 'num_leaves': 169, 'feature_fraction': 0.6474739957716216, 'subsample': 0.1, 'lambda_l1': 1.1476973925839609, 'lambda_l2': 1.1273841960975015, 'bagging_fraction': 0.9633998176220292, 'bagging_freq': 2}. Best is trial 70 with value: 0.3911869158710172.\u001b[0m\n",
            "\u001b[32m[I 2021-11-08 17:44:38,406]\u001b[0m Trial 122 finished with value: 0.3942584310110307 and parameters: {'learning_rate': 0.07000379443969852, 'max_depth': 47, 'num_leaves': 180, 'feature_fraction': 0.617205031943055, 'subsample': 0.1, 'lambda_l1': 0.6837622340718035, 'lambda_l2': 0.49035290863911185, 'bagging_fraction': 0.9405489489624718, 'bagging_freq': 3}. Best is trial 70 with value: 0.3911869158710172.\u001b[0m\n",
            "\u001b[32m[I 2021-11-08 17:44:39,324]\u001b[0m Trial 123 finished with value: 0.39560228407855047 and parameters: {'learning_rate': 0.09101039157313277, 'max_depth': 47, 'num_leaves': 165, 'feature_fraction': 0.6797539904821762, 'subsample': 0.2, 'lambda_l1': 0.46440612197272046, 'lambda_l2': 0.9294461334660387, 'bagging_fraction': 0.8962379812794028, 'bagging_freq': 2}. Best is trial 70 with value: 0.3911869158710172.\u001b[0m\n",
            "\u001b[32m[I 2021-11-08 17:44:40,268]\u001b[0m Trial 124 finished with value: 0.4156699380967643 and parameters: {'learning_rate': 0.060587418721225146, 'max_depth': 48, 'num_leaves': 155, 'feature_fraction': 0.5454479703503377, 'subsample': 0.1, 'lambda_l1': 1.031890495256501, 'lambda_l2': 0.053336581123775484, 'bagging_fraction': 0.8414489492188315, 'bagging_freq': 3}. Best is trial 70 with value: 0.3911869158710172.\u001b[0m\n",
            "\u001b[32m[I 2021-11-08 17:44:41,359]\u001b[0m Trial 125 finished with value: 0.3936165194374344 and parameters: {'learning_rate': 0.08522897176582177, 'max_depth': 38, 'num_leaves': 173, 'feature_fraction': 0.5872009856771958, 'subsample': 0.1, 'lambda_l1': 1.5856713853319133, 'lambda_l2': 0.7402344554334124, 'bagging_fraction': 0.97756227229218, 'bagging_freq': 3}. Best is trial 70 with value: 0.3911869158710172.\u001b[0m\n",
            "\u001b[32m[I 2021-11-08 17:44:42,495]\u001b[0m Trial 126 finished with value: 0.39082303043994887 and parameters: {'learning_rate': 0.054428812605522216, 'max_depth': 41, 'num_leaves': 184, 'feature_fraction': 0.5966268411956196, 'subsample': 0.2, 'lambda_l1': 0.7943701449014271, 'lambda_l2': 1.155994649121961, 'bagging_fraction': 0.9147770488944053, 'bagging_freq': 3}. Best is trial 126 with value: 0.39082303043994887.\u001b[0m\n",
            "\u001b[32m[I 2021-11-08 17:44:43,786]\u001b[0m Trial 127 finished with value: 0.41625682646279566 and parameters: {'learning_rate': 0.05472842693384495, 'max_depth': 43, 'num_leaves': 191, 'feature_fraction': 0.5233370751793655, 'subsample': 0.2, 'lambda_l1': 0.7847901470198231, 'lambda_l2': 0.47987422119893475, 'bagging_fraction': 0.8780588008774807, 'bagging_freq': 3}. Best is trial 126 with value: 0.39082303043994887.\u001b[0m\n",
            "\u001b[32m[I 2021-11-08 17:44:44,912]\u001b[0m Trial 128 finished with value: 0.39038612605190603 and parameters: {'learning_rate': 0.03602755861946449, 'max_depth': 45, 'num_leaves': 186, 'feature_fraction': 0.6014689332932478, 'subsample': 0.30000000000000004, 'lambda_l1': 0.32856552212928725, 'lambda_l2': 1.0803859751978806, 'bagging_fraction': 0.8185072443269765, 'bagging_freq': 3}. Best is trial 128 with value: 0.39038612605190603.\u001b[0m\n",
            "\u001b[32m[I 2021-11-08 17:44:45,587]\u001b[0m Trial 129 finished with value: 0.39931828478723747 and parameters: {'learning_rate': 0.03756919615602923, 'max_depth': 45, 'num_leaves': 86, 'feature_fraction': 0.5992068341786507, 'subsample': 0.30000000000000004, 'lambda_l1': 1.0323580458644144, 'lambda_l2': 1.0669479264280508, 'bagging_fraction': 0.8090786670832378, 'bagging_freq': 4}. Best is trial 128 with value: 0.39038612605190603.\u001b[0m\n",
            "\u001b[32m[I 2021-11-08 17:44:46,635]\u001b[0m Trial 130 finished with value: 0.3984331993378295 and parameters: {'learning_rate': 0.03306893369437618, 'max_depth': 30, 'num_leaves': 185, 'feature_fraction': 0.6300770450012962, 'subsample': 0.2, 'lambda_l1': 0.7388473456499665, 'lambda_l2': 8.766100612927273, 'bagging_fraction': 0.6928340110260028, 'bagging_freq': 3}. Best is trial 128 with value: 0.39038612605190603.\u001b[0m\n",
            "\u001b[32m[I 2021-11-08 17:44:47,733]\u001b[0m Trial 131 finished with value: 0.394210559834439 and parameters: {'learning_rate': 0.04258851413239176, 'max_depth': 49, 'num_leaves': 182, 'feature_fraction': 0.5690852134776733, 'subsample': 0.2, 'lambda_l1': 0.27780013155856714, 'lambda_l2': 1.235832671495728, 'bagging_fraction': 0.7620240544904098, 'bagging_freq': 3}. Best is trial 128 with value: 0.39038612605190603.\u001b[0m\n",
            "\u001b[32m[I 2021-11-08 17:44:48,820]\u001b[0m Trial 132 finished with value: 0.39554570379242854 and parameters: {'learning_rate': 0.02916369701179093, 'max_depth': 41, 'num_leaves': 178, 'feature_fraction': 0.616112971744382, 'subsample': 0.30000000000000004, 'lambda_l1': 1.2727638405470625, 'lambda_l2': 0.8275870423474595, 'bagging_fraction': 0.9151216218744627, 'bagging_freq': 3}. Best is trial 128 with value: 0.39038612605190603.\u001b[0m\n",
            "\u001b[32m[I 2021-11-08 17:44:50,028]\u001b[0m Trial 133 finished with value: 0.42082487191770984 and parameters: {'learning_rate': 0.04614337908465804, 'max_depth': 43, 'num_leaves': 176, 'feature_fraction': 0.5469778394678498, 'subsample': 0.2, 'lambda_l1': 0.5585527684550488, 'lambda_l2': 1.7264460800897294, 'bagging_fraction': 0.8302431071318537, 'bagging_freq': 3}. Best is trial 128 with value: 0.39038612605190603.\u001b[0m\n",
            "\u001b[32m[I 2021-11-08 17:44:51,186]\u001b[0m Trial 134 finished with value: 0.3921868361394841 and parameters: {'learning_rate': 0.06452122347219046, 'max_depth': 46, 'num_leaves': 189, 'feature_fraction': 0.5863905724536365, 'subsample': 0.2, 'lambda_l1': 0.2995361022361175, 'lambda_l2': 0.24829963322012882, 'bagging_fraction': 0.9340544847335303, 'bagging_freq': 4}. Best is trial 128 with value: 0.39038612605190603.\u001b[0m\n",
            "\u001b[32m[I 2021-11-08 17:44:52,717]\u001b[0m Trial 135 finished with value: 0.39399695619581304 and parameters: {'learning_rate': 0.06609020901285877, 'max_depth': 39, 'num_leaves': 186, 'feature_fraction': 0.5967269366864416, 'subsample': 0.2, 'lambda_l1': 1.7834195499739995, 'lambda_l2': 0.20741377558440144, 'bagging_fraction': 0.9359838469439616, 'bagging_freq': 4}. Best is trial 128 with value: 0.39038612605190603.\u001b[0m\n",
            "\u001b[32m[I 2021-11-08 17:44:54,291]\u001b[0m Trial 136 finished with value: 0.391969763775449 and parameters: {'learning_rate': 0.03599528807712691, 'max_depth': 42, 'num_leaves': 196, 'feature_fraction': 0.64078191964722, 'subsample': 0.30000000000000004, 'lambda_l1': 0.3995792835476991, 'lambda_l2': 0.2809856259282842, 'bagging_fraction': 0.9634140805885698, 'bagging_freq': 4}. Best is trial 128 with value: 0.39038612605190603.\u001b[0m\n",
            "\u001b[32m[I 2021-11-08 17:44:55,766]\u001b[0m Trial 137 finished with value: 0.3975582720103556 and parameters: {'learning_rate': 0.021604117624031315, 'max_depth': 42, 'num_leaves': 198, 'feature_fraction': 0.6479266865316646, 'subsample': 0.30000000000000004, 'lambda_l1': 0.3150340353022134, 'lambda_l2': 0.34769675850085857, 'bagging_fraction': 0.9611722273278251, 'bagging_freq': 4}. Best is trial 128 with value: 0.39038612605190603.\u001b[0m\n",
            "\u001b[32m[I 2021-11-08 17:44:56,955]\u001b[0m Trial 138 finished with value: 0.3920677413644361 and parameters: {'learning_rate': 0.035084222251948224, 'max_depth': 45, 'num_leaves': 192, 'feature_fraction': 0.6730670021776594, 'subsample': 0.30000000000000004, 'lambda_l1': 0.5138369255221865, 'lambda_l2': 0.6445138778611382, 'bagging_fraction': 0.9540196453865972, 'bagging_freq': 2}. Best is trial 128 with value: 0.39038612605190603.\u001b[0m\n",
            "\u001b[32m[I 2021-11-08 17:44:58,187]\u001b[0m Trial 139 finished with value: 0.39570970851197523 and parameters: {'learning_rate': 0.02798246617789682, 'max_depth': 41, 'num_leaves': 194, 'feature_fraction': 0.6918564458594227, 'subsample': 0.30000000000000004, 'lambda_l1': 0.4420438465836287, 'lambda_l2': 0.019960892877316783, 'bagging_fraction': 0.8905707357329051, 'bagging_freq': 2}. Best is trial 128 with value: 0.39038612605190603.\u001b[0m\n",
            "\u001b[32m[I 2021-11-08 17:44:59,436]\u001b[0m Trial 140 finished with value: 0.3958764171532676 and parameters: {'learning_rate': 0.03275253623831888, 'max_depth': 45, 'num_leaves': 191, 'feature_fraction': 0.7015292467816477, 'subsample': 0.30000000000000004, 'lambda_l1': 0.8752605364903141, 'lambda_l2': 0.6232526926663744, 'bagging_fraction': 0.9796170907692352, 'bagging_freq': 2}. Best is trial 128 with value: 0.39038612605190603.\u001b[0m\n",
            "\u001b[32m[I 2021-11-08 17:45:00,637]\u001b[0m Trial 141 finished with value: 0.39303909142311205 and parameters: {'learning_rate': 0.03570547819012168, 'max_depth': 46, 'num_leaves': 188, 'feature_fraction': 0.6700903372331362, 'subsample': 0.30000000000000004, 'lambda_l1': 0.6213791495813639, 'lambda_l2': 0.9480250767455577, 'bagging_fraction': 0.9532713025357328, 'bagging_freq': 2}. Best is trial 128 with value: 0.39038612605190603.\u001b[0m\n",
            "\u001b[32m[I 2021-11-08 17:45:01,789]\u001b[0m Trial 142 finished with value: 0.3930012152921456 and parameters: {'learning_rate': 0.03921168148022114, 'max_depth': 50, 'num_leaves': 183, 'feature_fraction': 0.6444163886837471, 'subsample': 0.2, 'lambda_l1': 0.21180228352950436, 'lambda_l2': 0.3494605665861785, 'bagging_fraction': 0.9389085005158941, 'bagging_freq': 3}. Best is trial 128 with value: 0.39038612605190603.\u001b[0m\n",
            "\u001b[32m[I 2021-11-08 17:45:03,007]\u001b[0m Trial 143 finished with value: 0.39471052057271033 and parameters: {'learning_rate': 0.03038717021184555, 'max_depth': 37, 'num_leaves': 194, 'feature_fraction': 0.6128419315642581, 'subsample': 0.2, 'lambda_l1': 0.8769274818139552, 'lambda_l2': 1.0816717052522198, 'bagging_fraction': 0.9668503071093805, 'bagging_freq': 3}. Best is trial 128 with value: 0.39038612605190603.\u001b[0m\n",
            "\u001b[32m[I 2021-11-08 17:45:04,090]\u001b[0m Trial 144 finished with value: 0.4025667023801405 and parameters: {'learning_rate': 0.025382924283400547, 'max_depth': 39, 'num_leaves': 200, 'feature_fraction': 0.6707465071353259, 'subsample': 0.2, 'lambda_l1': 0.48545374716749884, 'lambda_l2': 0.7522874582763028, 'bagging_fraction': 0.4308766050623683, 'bagging_freq': 4}. Best is trial 128 with value: 0.39038612605190603.\u001b[0m\n",
            "\u001b[32m[I 2021-11-08 17:45:05,167]\u001b[0m Trial 145 finished with value: 0.3946690100094107 and parameters: {'learning_rate': 0.07748485166269119, 'max_depth': 48, 'num_leaves': 189, 'feature_fraction': 0.5879855170065079, 'subsample': 0.2, 'lambda_l1': 1.1287403862763412, 'lambda_l2': 0.3749461720981377, 'bagging_fraction': 0.8561654417126485, 'bagging_freq': 2}. Best is trial 128 with value: 0.39038612605190603.\u001b[0m\n",
            "\u001b[32m[I 2021-11-08 17:45:06,323]\u001b[0m Trial 146 finished with value: 0.4268388697405007 and parameters: {'learning_rate': 0.060936036444884836, 'max_depth': 36, 'num_leaves': 181, 'feature_fraction': 0.5592847049765648, 'subsample': 0.30000000000000004, 'lambda_l1': 9.60986040351313, 'lambda_l2': 1.3387594544904957, 'bagging_fraction': 0.9835114632421513, 'bagging_freq': 6}. Best is trial 128 with value: 0.39038612605190603.\u001b[0m\n",
            "\u001b[32m[I 2021-11-08 17:45:07,513]\u001b[0m Trial 147 finished with value: 0.39530363100708493 and parameters: {'learning_rate': 0.07314496479142191, 'max_depth': 43, 'num_leaves': 196, 'feature_fraction': 0.6057957128568097, 'subsample': 0.2, 'lambda_l1': 2.031314216595323, 'lambda_l2': 0.9390216577438961, 'bagging_fraction': 0.9995545810391003, 'bagging_freq': 3}. Best is trial 128 with value: 0.39038612605190603.\u001b[0m\n",
            "\u001b[32m[I 2021-11-08 17:45:08,874]\u001b[0m Trial 148 finished with value: 0.4264149065605853 and parameters: {'learning_rate': 0.03633804688060201, 'max_depth': 45, 'num_leaves': 186, 'feature_fraction': 0.5010258194670176, 'subsample': 0.30000000000000004, 'lambda_l1': 0.18906288053848908, 'lambda_l2': 0.5803810458060845, 'bagging_fraction': 0.9024976724215669, 'bagging_freq': 3}. Best is trial 128 with value: 0.39038612605190603.\u001b[0m\n",
            "\u001b[32m[I 2021-11-08 17:45:10,053]\u001b[0m Trial 149 finished with value: 0.39375695207045164 and parameters: {'learning_rate': 0.06466811455520613, 'max_depth': 28, 'num_leaves': 192, 'feature_fraction': 0.6313511532855622, 'subsample': 0.2, 'lambda_l1': 0.6985480058742158, 'lambda_l2': 1.1785944672279975, 'bagging_fraction': 0.9351863730366354, 'bagging_freq': 4}. Best is trial 128 with value: 0.39038612605190603.\u001b[0m\n",
            "\u001b[32m[I 2021-11-08 17:45:11,140]\u001b[0m Trial 150 finished with value: 0.39596759393154246 and parameters: {'learning_rate': 0.04538390838058239, 'max_depth': 40, 'num_leaves': 171, 'feature_fraction': 0.7160179889468146, 'subsample': 0.30000000000000004, 'lambda_l1': 0.9830863910730059, 'lambda_l2': 0.773708319007038, 'bagging_fraction': 0.8737948635588473, 'bagging_freq': 2}. Best is trial 128 with value: 0.39038612605190603.\u001b[0m\n",
            "\u001b[32m[I 2021-11-08 17:45:12,277]\u001b[0m Trial 151 finished with value: 0.3925767426879632 and parameters: {'learning_rate': 0.03404462314135177, 'max_depth': 50, 'num_leaves': 183, 'feature_fraction': 0.6487224277209339, 'subsample': 0.2, 'lambda_l1': 0.2553027055951135, 'lambda_l2': 0.1800272755886151, 'bagging_fraction': 0.9509199687821184, 'bagging_freq': 3}. Best is trial 128 with value: 0.39038612605190603.\u001b[0m\n",
            "\u001b[32m[I 2021-11-08 17:45:13,395]\u001b[0m Trial 152 finished with value: 0.39237617362967614 and parameters: {'learning_rate': 0.0341681315234746, 'max_depth': 49, 'num_leaves': 180, 'feature_fraction': 0.6624942933977875, 'subsample': 0.2, 'lambda_l1': 0.027647354108735978, 'lambda_l2': 0.2226114146053041, 'bagging_fraction': 0.9562751208701126, 'bagging_freq': 3}. Best is trial 128 with value: 0.39038612605190603.\u001b[0m\n",
            "\u001b[32m[I 2021-11-08 17:45:14,513]\u001b[0m Trial 153 finished with value: 0.39312645036986366 and parameters: {'learning_rate': 0.030958187929776605, 'max_depth': 48, 'num_leaves': 182, 'feature_fraction': 0.6571287840038365, 'subsample': 0.2, 'lambda_l1': 0.03048713102963635, 'lambda_l2': 0.19823545000850448, 'bagging_fraction': 0.9600943424499581, 'bagging_freq': 3}. Best is trial 128 with value: 0.39038612605190603.\u001b[0m\n",
            "\u001b[32m[I 2021-11-08 17:45:15,680]\u001b[0m Trial 154 finished with value: 0.39295886191801127 and parameters: {'learning_rate': 0.035526209903144534, 'max_depth': 49, 'num_leaves': 187, 'feature_fraction': 0.6664023030903733, 'subsample': 0.2, 'lambda_l1': 0.34627895527894315, 'lambda_l2': 0.27806989541486843, 'bagging_fraction': 0.9803447936640447, 'bagging_freq': 2}. Best is trial 128 with value: 0.39038612605190603.\u001b[0m\n",
            "\u001b[32m[I 2021-11-08 17:45:16,923]\u001b[0m Trial 155 finished with value: 0.3963077998905132 and parameters: {'learning_rate': 0.027132082918040874, 'max_depth': 47, 'num_leaves': 181, 'feature_fraction': 0.6877314978837925, 'subsample': 0.2, 'lambda_l1': 0.5504199045399722, 'lambda_l2': 0.47270089932291914, 'bagging_fraction': 0.9369683636810128, 'bagging_freq': 3}. Best is trial 128 with value: 0.39038612605190603.\u001b[0m\n",
            "\u001b[32m[I 2021-11-08 17:45:18,001]\u001b[0m Trial 156 finished with value: 0.39296255756843523 and parameters: {'learning_rate': 0.040388904174566864, 'max_depth': 46, 'num_leaves': 167, 'feature_fraction': 0.6409768464693848, 'subsample': 0.2, 'lambda_l1': 0.09672660917004111, 'lambda_l2': 6.095521569752998, 'bagging_fraction': 0.9202482603697425, 'bagging_freq': 3}. Best is trial 128 with value: 0.39038612605190603.\u001b[0m\n",
            "\u001b[32m[I 2021-11-08 17:45:19,209]\u001b[0m Trial 157 finished with value: 0.4347769558983025 and parameters: {'learning_rate': 0.011186764782974761, 'max_depth': 34, 'num_leaves': 191, 'feature_fraction': 0.7294116205171107, 'subsample': 0.30000000000000004, 'lambda_l1': 0.353729259666088, 'lambda_l2': 0.12308510065160783, 'bagging_fraction': 0.9571192225591569, 'bagging_freq': 7}. Best is trial 128 with value: 0.39038612605190603.\u001b[0m\n",
            "\u001b[32m[I 2021-11-08 17:45:20,318]\u001b[0m Trial 158 finished with value: 0.39795607718256854 and parameters: {'learning_rate': 0.024992852395675266, 'max_depth': 42, 'num_leaves': 178, 'feature_fraction': 0.6135504318958326, 'subsample': 0.1, 'lambda_l1': 0.7969688104938767, 'lambda_l2': 0.4941497306985172, 'bagging_fraction': 0.8991978791883102, 'bagging_freq': 4}. Best is trial 128 with value: 0.39038612605190603.\u001b[0m\n",
            "\u001b[32m[I 2021-11-08 17:45:21,473]\u001b[0m Trial 159 finished with value: 0.39341697718045876 and parameters: {'learning_rate': 0.033807315982142074, 'max_depth': 44, 'num_leaves': 185, 'feature_fraction': 0.652369961967511, 'subsample': 0.2, 'lambda_l1': 0.2596152260081379, 'lambda_l2': 3.634846727806601, 'bagging_fraction': 0.9760904055924473, 'bagging_freq': 3}. Best is trial 128 with value: 0.39038612605190603.\u001b[0m\n",
            "\u001b[32m[I 2021-11-08 17:45:22,291]\u001b[0m Trial 160 finished with value: 0.39652956827274416 and parameters: {'learning_rate': 0.08395825052204399, 'max_depth': 31, 'num_leaves': 162, 'feature_fraction': 0.7040635583542705, 'subsample': 0.1, 'lambda_l1': 0.002935971665111947, 'lambda_l2': 1.5211976682423136, 'bagging_fraction': 0.9449348263564805, 'bagging_freq': 2}. Best is trial 128 with value: 0.39038612605190603.\u001b[0m\n",
            "\u001b[32m[I 2021-11-08 17:45:23,389]\u001b[0m Trial 161 finished with value: 0.3967621315777114 and parameters: {'learning_rate': 0.07111664432144757, 'max_depth': 50, 'num_leaves': 173, 'feature_fraction': 0.5937922936525886, 'subsample': 0.2, 'lambda_l1': 0.584483563795224, 'lambda_l2': 0.6475735207477968, 'bagging_fraction': 0.9583716895664914, 'bagging_freq': 3}. Best is trial 128 with value: 0.39038612605190603.\u001b[0m\n",
            "\u001b[32m[I 2021-11-08 17:45:24,546]\u001b[0m Trial 162 finished with value: 0.3922675253547545 and parameters: {'learning_rate': 0.058204260083461926, 'max_depth': 49, 'num_leaves': 178, 'feature_fraction': 0.6282311988056556, 'subsample': 0.2, 'lambda_l1': 2.207641891720005, 'lambda_l2': 0.01929688239244723, 'bagging_fraction': 0.9977358235596254, 'bagging_freq': 3}. Best is trial 128 with value: 0.39038612605190603.\u001b[0m\n",
            "\u001b[32m[I 2021-11-08 17:45:25,677]\u001b[0m Trial 163 finished with value: 0.3941903540517063 and parameters: {'learning_rate': 0.09494567554951387, 'max_depth': 49, 'num_leaves': 179, 'feature_fraction': 0.6351328625471755, 'subsample': 0.2, 'lambda_l1': 1.5622305228685969, 'lambda_l2': 0.003274079330187224, 'bagging_fraction': 0.9903112822745282, 'bagging_freq': 3}. Best is trial 128 with value: 0.39038612605190603.\u001b[0m\n",
            "\u001b[32m[I 2021-11-08 17:45:27,140]\u001b[0m Trial 164 finished with value: 0.392430864440364 and parameters: {'learning_rate': 0.05852049065005535, 'max_depth': 47, 'num_leaves': 171, 'feature_fraction': 0.6735517216116504, 'subsample': 0.30000000000000004, 'lambda_l1': 1.8633997314204465, 'lambda_l2': 0.2936749849141549, 'bagging_fraction': 0.9975085089497704, 'bagging_freq': 4}. Best is trial 128 with value: 0.39038612605190603.\u001b[0m\n",
            "\u001b[32m[I 2021-11-08 17:45:28,216]\u001b[0m Trial 165 finished with value: 0.39300993420352465 and parameters: {'learning_rate': 0.05813979067729395, 'max_depth': 47, 'num_leaves': 170, 'feature_fraction': 0.675607309855149, 'subsample': 0.4, 'lambda_l1': 1.9515693501782412, 'lambda_l2': 0.2707195626741486, 'bagging_fraction': 0.9964907340955975, 'bagging_freq': 5}. Best is trial 128 with value: 0.39038612605190603.\u001b[0m\n",
            "\u001b[32m[I 2021-11-08 17:45:29,173]\u001b[0m Trial 166 finished with value: 0.3935057501121647 and parameters: {'learning_rate': 0.06414921252022895, 'max_depth': 48, 'num_leaves': 173, 'feature_fraction': 0.658956487089149, 'subsample': 0.30000000000000004, 'lambda_l1': 0.42681524679832855, 'lambda_l2': 0.37262632356705305, 'bagging_fraction': 0.9765528375473079, 'bagging_freq': 5}. Best is trial 128 with value: 0.39038612605190603.\u001b[0m\n",
            "\u001b[32m[I 2021-11-08 17:45:30,212]\u001b[0m Trial 167 finished with value: 0.39949420641460764 and parameters: {'learning_rate': 0.05293757426639395, 'max_depth': 38, 'num_leaves': 166, 'feature_fraction': 0.6899185747626095, 'subsample': 0.30000000000000004, 'lambda_l1': 5.16960070836772, 'lambda_l2': 0.11455036163598077, 'bagging_fraction': 0.9997845670923591, 'bagging_freq': 4}. Best is trial 128 with value: 0.39038612605190603.\u001b[0m\n",
            "\u001b[32m[I 2021-11-08 17:45:31,772]\u001b[0m Trial 168 finished with value: 0.39523729115163253 and parameters: {'learning_rate': 0.038889793556778074, 'max_depth': 46, 'num_leaves': 184, 'feature_fraction': 0.7491330952562852, 'subsample': 0.30000000000000004, 'lambda_l1': 1.740680381744764, 'lambda_l2': 0.018364553803111083, 'bagging_fraction': 0.9689786790573022, 'bagging_freq': 4}. Best is trial 128 with value: 0.39038612605190603.\u001b[0m\n",
            "\u001b[32m[I 2021-11-08 17:45:32,949]\u001b[0m Trial 169 finished with value: 0.39467282975247764 and parameters: {'learning_rate': 0.060563514080473155, 'max_depth': 45, 'num_leaves': 190, 'feature_fraction': 0.6203441719547288, 'subsample': 0.4, 'lambda_l1': 1.1520141013855607, 'lambda_l2': 0.6081623671512806, 'bagging_fraction': 0.9390216393843733, 'bagging_freq': 4}. Best is trial 128 with value: 0.39038612605190603.\u001b[0m\n",
            "\u001b[32m[I 2021-11-08 17:45:34,169]\u001b[0m Trial 170 finished with value: 0.3940779550879718 and parameters: {'learning_rate': 0.04313052442473916, 'max_depth': 43, 'num_leaves': 196, 'feature_fraction': 0.5836915363659299, 'subsample': 0.1, 'lambda_l1': 1.3670110020157695, 'lambda_l2': 0.3687905928910389, 'bagging_fraction': 0.9254943460845029, 'bagging_freq': 4}. Best is trial 128 with value: 0.39038612605190603.\u001b[0m\n",
            "\u001b[32m[I 2021-11-08 17:45:35,300]\u001b[0m Trial 171 finished with value: 0.3943677598115921 and parameters: {'learning_rate': 0.07989359461320283, 'max_depth': 49, 'num_leaves': 180, 'feature_fraction': 0.6430509695183053, 'subsample': 0.2, 'lambda_l1': 2.1958615514022983, 'lambda_l2': 0.760847828825984, 'bagging_fraction': 0.9599332121171049, 'bagging_freq': 3}. Best is trial 128 with value: 0.39038612605190603.\u001b[0m\n",
            "\u001b[32m[I 2021-11-08 17:45:36,174]\u001b[0m Trial 172 finished with value: 0.40086845608868665 and parameters: {'learning_rate': 0.0668898078726893, 'max_depth': 48, 'num_leaves': 175, 'feature_fraction': 0.6181036101638481, 'subsample': 0.2, 'lambda_l1': 6.5905736261655115, 'lambda_l2': 0.9248910240338424, 'bagging_fraction': 0.9708217920229782, 'bagging_freq': 3}. Best is trial 128 with value: 0.39038612605190603.\u001b[0m\n",
            "\u001b[32m[I 2021-11-08 17:45:37,705]\u001b[0m Trial 173 finished with value: 0.39416707609452273 and parameters: {'learning_rate': 0.07681117090100537, 'max_depth': 47, 'num_leaves': 187, 'feature_fraction': 0.6689408658168071, 'subsample': 0.2, 'lambda_l1': 2.497598189837531, 'lambda_l2': 0.4705553936442751, 'bagging_fraction': 0.9116587395359143, 'bagging_freq': 3}. Best is trial 128 with value: 0.39038612605190603.\u001b[0m\n",
            "\u001b[32m[I 2021-11-08 17:45:38,792]\u001b[0m Trial 174 finished with value: 0.39285048536454603 and parameters: {'learning_rate': 0.06888848703319149, 'max_depth': 40, 'num_leaves': 170, 'feature_fraction': 0.632896869697864, 'subsample': 0.30000000000000004, 'lambda_l1': 0.7599359852487061, 'lambda_l2': 0.1984368310694651, 'bagging_fraction': 0.9824736400435766, 'bagging_freq': 3}. Best is trial 128 with value: 0.39038612605190603.\u001b[0m\n",
            "\u001b[32m[I 2021-11-08 17:45:39,851]\u001b[0m Trial 175 finished with value: 0.3923681377495203 and parameters: {'learning_rate': 0.056909778115606914, 'max_depth': 41, 'num_leaves': 163, 'feature_fraction': 0.5981037916180806, 'subsample': 0.30000000000000004, 'lambda_l1': 0.758298294995014, 'lambda_l2': 0.23707594880796706, 'bagging_fraction': 0.9846992127117788, 'bagging_freq': 2}. Best is trial 128 with value: 0.39038612605190603.\u001b[0m\n",
            "\u001b[32m[I 2021-11-08 17:45:40,878]\u001b[0m Trial 176 finished with value: 0.3948176768549475 and parameters: {'learning_rate': 0.05004327124718841, 'max_depth': 41, 'num_leaves': 160, 'feature_fraction': 0.6015010038373882, 'subsample': 0.30000000000000004, 'lambda_l1': 0.5608666318797697, 'lambda_l2': 0.23331144357122696, 'bagging_fraction': 0.9987342847868838, 'bagging_freq': 2}. Best is trial 128 with value: 0.39038612605190603.\u001b[0m\n",
            "\u001b[32m[I 2021-11-08 17:45:41,915]\u001b[0m Trial 177 finished with value: 0.41714789333075336 and parameters: {'learning_rate': 0.05504067579125647, 'max_depth': 42, 'num_leaves': 165, 'feature_fraction': 0.5369326324400623, 'subsample': 0.30000000000000004, 'lambda_l1': 0.9627101202909013, 'lambda_l2': 0.619759699351652, 'bagging_fraction': 0.9498173290579653, 'bagging_freq': 2}. Best is trial 128 with value: 0.39038612605190603.\u001b[0m\n",
            "\u001b[32m[I 2021-11-08 17:45:42,880]\u001b[0m Trial 178 finished with value: 0.3947867728908439 and parameters: {'learning_rate': 0.031719081022999904, 'max_depth': 44, 'num_leaves': 162, 'feature_fraction': 0.5687152250881884, 'subsample': 0.30000000000000004, 'lambda_l1': 0.22727287347534153, 'lambda_l2': 0.3928178069368994, 'bagging_fraction': 0.9839772599781967, 'bagging_freq': 1}. Best is trial 128 with value: 0.39038612605190603.\u001b[0m\n",
            "\u001b[32m[I 2021-11-08 17:45:43,644]\u001b[0m Trial 179 finished with value: 0.424739233713095 and parameters: {'learning_rate': 0.05872473412589191, 'max_depth': 9, 'num_leaves': 169, 'feature_fraction': 0.5519122840328279, 'subsample': 0.1, 'lambda_l1': 1.2330637914011624, 'lambda_l2': 5.133134504066076, 'bagging_fraction': 0.9516780617470775, 'bagging_freq': 2}. Best is trial 128 with value: 0.39038612605190603.\u001b[0m\n",
            "\u001b[32m[I 2021-11-08 17:45:44,482]\u001b[0m Trial 180 finished with value: 0.40379262771178853 and parameters: {'learning_rate': 0.06277766503679348, 'max_depth': 39, 'num_leaves': 177, 'feature_fraction': 0.5942330063875009, 'subsample': 0.8, 'lambda_l1': 7.424205020078966, 'lambda_l2': 0.7705051905388105, 'bagging_fraction': 0.930805872375652, 'bagging_freq': 2}. Best is trial 128 with value: 0.39038612605190603.\u001b[0m\n",
            "\u001b[32m[I 2021-11-08 17:45:45,508]\u001b[0m Trial 181 finished with value: 0.3915443840169096 and parameters: {'learning_rate': 0.06792203805796464, 'max_depth': 40, 'num_leaves': 157, 'feature_fraction': 0.62692272949957, 'subsample': 0.30000000000000004, 'lambda_l1': 0.7584685995840315, 'lambda_l2': 0.021938591588147496, 'bagging_fraction': 0.979819987455978, 'bagging_freq': 3}. Best is trial 128 with value: 0.39038612605190603.\u001b[0m\n",
            "\u001b[32m[I 2021-11-08 17:45:46,516]\u001b[0m Trial 182 finished with value: 0.39214893714089644 and parameters: {'learning_rate': 0.05603851252232023, 'max_depth': 41, 'num_leaves': 152, 'feature_fraction': 0.6570289142618675, 'subsample': 0.30000000000000004, 'lambda_l1': 0.7720658065929614, 'lambda_l2': 0.03289675252317337, 'bagging_fraction': 0.9736081751544603, 'bagging_freq': 3}. Best is trial 128 with value: 0.39038612605190603.\u001b[0m\n",
            "\u001b[32m[I 2021-11-08 17:45:47,483]\u001b[0m Trial 183 finished with value: 0.39258322940496504 and parameters: {'learning_rate': 0.06860440692191527, 'max_depth': 40, 'num_leaves': 150, 'feature_fraction': 0.680816135362782, 'subsample': 0.30000000000000004, 'lambda_l1': 0.669894989453735, 'lambda_l2': 0.04934556034733589, 'bagging_fraction': 0.9687196585366409, 'bagging_freq': 3}. Best is trial 128 with value: 0.39038612605190603.\u001b[0m\n",
            "\u001b[32m[I 2021-11-08 17:45:48,835]\u001b[0m Trial 184 finished with value: 0.39320574053686813 and parameters: {'learning_rate': 0.04867064457484753, 'max_depth': 38, 'num_leaves': 156, 'feature_fraction': 0.6536151456943783, 'subsample': 0.4, 'lambda_l1': 0.8370763431282892, 'lambda_l2': 0.004659974665762401, 'bagging_fraction': 0.9785445702932106, 'bagging_freq': 3}. Best is trial 128 with value: 0.39038612605190603.\u001b[0m\n",
            "\u001b[32m[I 2021-11-08 17:45:50,175]\u001b[0m Trial 185 finished with value: 0.39229277956030983 and parameters: {'learning_rate': 0.05444315209356907, 'max_depth': 37, 'num_leaves': 159, 'feature_fraction': 0.6254573491884807, 'subsample': 0.30000000000000004, 'lambda_l1': 0.3691840926643714, 'lambda_l2': 0.25040360364244146, 'bagging_fraction': 0.9491763827725448, 'bagging_freq': 3}. Best is trial 128 with value: 0.39038612605190603.\u001b[0m\n",
            "\u001b[32m[I 2021-11-08 17:45:51,514]\u001b[0m Trial 186 finished with value: 0.39253056138463727 and parameters: {'learning_rate': 0.05457008859242828, 'max_depth': 37, 'num_leaves': 158, 'feature_fraction': 0.6126867969567695, 'subsample': 0.30000000000000004, 'lambda_l1': 0.4657043573009892, 'lambda_l2': 0.3354965808287797, 'bagging_fraction': 0.9999273028754069, 'bagging_freq': 3}. Best is trial 128 with value: 0.39038612605190603.\u001b[0m\n",
            "\u001b[32m[I 2021-11-08 17:45:52,523]\u001b[0m Trial 187 finished with value: 0.39238959399200296 and parameters: {'learning_rate': 0.06224945908251231, 'max_depth': 41, 'num_leaves': 153, 'feature_fraction': 0.5808344671454628, 'subsample': 0.30000000000000004, 'lambda_l1': 1.0269652667014755, 'lambda_l2': 0.484868417981448, 'bagging_fraction': 0.93553486195276, 'bagging_freq': 3}. Best is trial 128 with value: 0.39038612605190603.\u001b[0m\n",
            "\u001b[32m[I 2021-11-08 17:45:53,488]\u001b[0m Trial 188 finished with value: 0.39290594162648873 and parameters: {'learning_rate': 0.06424157020320037, 'max_depth': 36, 'num_leaves': 144, 'feature_fraction': 0.5795033720918066, 'subsample': 0.30000000000000004, 'lambda_l1': 0.9499129179722329, 'lambda_l2': 0.39701411270496934, 'bagging_fraction': 0.9184126916675145, 'bagging_freq': 3}. Best is trial 128 with value: 0.39038612605190603.\u001b[0m\n",
            "\u001b[32m[I 2021-11-08 17:45:54,434]\u001b[0m Trial 189 finished with value: 0.41465858523122306 and parameters: {'learning_rate': 0.08629254147102976, 'max_depth': 40, 'num_leaves': 147, 'feature_fraction': 0.5587260666506668, 'subsample': 0.30000000000000004, 'lambda_l1': 1.061399467324186, 'lambda_l2': 0.6051351494203704, 'bagging_fraction': 0.9425967369096911, 'bagging_freq': 2}. Best is trial 128 with value: 0.39038612605190603.\u001b[0m\n",
            "\u001b[32m[I 2021-11-08 17:45:55,318]\u001b[0m Trial 190 finished with value: 0.39567177975584766 and parameters: {'learning_rate': 0.07122577187860553, 'max_depth': 42, 'num_leaves': 151, 'feature_fraction': 0.6045801212749056, 'subsample': 0.4, 'lambda_l1': 0.7397643960115583, 'lambda_l2': 0.5635237857860238, 'bagging_fraction': 0.7808507515188767, 'bagging_freq': 3}. Best is trial 128 with value: 0.39038612605190603.\u001b[0m\n",
            "\u001b[32m[I 2021-11-08 17:45:56,368]\u001b[0m Trial 191 finished with value: 0.3925644356041234 and parameters: {'learning_rate': 0.05788122962050235, 'max_depth': 39, 'num_leaves': 162, 'feature_fraction': 0.6243951755444115, 'subsample': 0.30000000000000004, 'lambda_l1': 0.48119058140600046, 'lambda_l2': 0.29776612633973026, 'bagging_fraction': 0.9650249563399785, 'bagging_freq': 3}. Best is trial 128 with value: 0.39038612605190603.\u001b[0m\n",
            "\u001b[32m[I 2021-11-08 17:45:57,406]\u001b[0m Trial 192 finished with value: 0.39599330716912434 and parameters: {'learning_rate': 0.06098159831529375, 'max_depth': 35, 'num_leaves': 165, 'feature_fraction': 0.5889879037329098, 'subsample': 0.30000000000000004, 'lambda_l1': 1.53576329662339, 'lambda_l2': 0.23629745805582578, 'bagging_fraction': 0.7320543756357379, 'bagging_freq': 3}. Best is trial 128 with value: 0.39038612605190603.\u001b[0m\n",
            "\u001b[32m[I 2021-11-08 17:45:58,419]\u001b[0m Trial 193 finished with value: 0.3935813831237969 and parameters: {'learning_rate': 0.0492786092321095, 'max_depth': 41, 'num_leaves': 151, 'feature_fraction': 0.571389487252152, 'subsample': 0.30000000000000004, 'lambda_l1': 1.2293924163661276, 'lambda_l2': 0.03493644414054953, 'bagging_fraction': 0.9758120699930741, 'bagging_freq': 3}. Best is trial 128 with value: 0.39038612605190603.\u001b[0m\n",
            "\u001b[32m[I 2021-11-08 17:45:59,471]\u001b[0m Trial 194 finished with value: 0.3918721781351502 and parameters: {'learning_rate': 0.05274031855671099, 'max_depth': 38, 'num_leaves': 155, 'feature_fraction': 0.6212122277954601, 'subsample': 0.30000000000000004, 'lambda_l1': 0.6789789821790905, 'lambda_l2': 0.490816631628169, 'bagging_fraction': 0.9301593286022816, 'bagging_freq': 2}. Best is trial 128 with value: 0.39038612605190603.\u001b[0m\n",
            "\u001b[32m[I 2021-11-08 17:46:00,536]\u001b[0m Trial 195 finished with value: 0.39192048926378037 and parameters: {'learning_rate': 0.04621961295294152, 'max_depth': 37, 'num_leaves': 159, 'feature_fraction': 0.6260385606214551, 'subsample': 0.4, 'lambda_l1': 0.6387517675711829, 'lambda_l2': 0.5295110183120266, 'bagging_fraction': 0.9299464836421586, 'bagging_freq': 2}. Best is trial 128 with value: 0.39038612605190603.\u001b[0m\n",
            "\u001b[32m[I 2021-11-08 17:46:01,577]\u001b[0m Trial 196 finished with value: 0.3912302044142374 and parameters: {'learning_rate': 0.053336553405430635, 'max_depth': 37, 'num_leaves': 156, 'feature_fraction': 0.624509342983163, 'subsample': 0.5, 'lambda_l1': 0.583122333021222, 'lambda_l2': 0.7712953275801938, 'bagging_fraction': 0.8896820413019995, 'bagging_freq': 2}. Best is trial 128 with value: 0.39038612605190603.\u001b[0m\n",
            "\u001b[32m[I 2021-11-08 17:46:02,606]\u001b[0m Trial 197 finished with value: 0.39144050647390505 and parameters: {'learning_rate': 0.052563611832124074, 'max_depth': 36, 'num_leaves': 157, 'feature_fraction': 0.6257487065268172, 'subsample': 0.5, 'lambda_l1': 0.698178956826507, 'lambda_l2': 0.7895504925253162, 'bagging_fraction': 0.8842477031378039, 'bagging_freq': 2}. Best is trial 128 with value: 0.39038612605190603.\u001b[0m\n",
            "\u001b[32m[I 2021-11-08 17:46:03,905]\u001b[0m Trial 198 finished with value: 0.39304265733432897 and parameters: {'learning_rate': 0.04588956355471473, 'max_depth': 37, 'num_leaves': 155, 'feature_fraction': 0.6300560317886905, 'subsample': 0.5, 'lambda_l1': 0.5361584312900318, 'lambda_l2': 1.1511659571114183, 'bagging_fraction': 0.8799189780076871, 'bagging_freq': 2}. Best is trial 128 with value: 0.39038612605190603.\u001b[0m\n",
            "\u001b[32m[I 2021-11-08 17:46:04,933]\u001b[0m Trial 199 finished with value: 0.39317725713748 and parameters: {'learning_rate': 0.05181640300231852, 'max_depth': 34, 'num_leaves': 158, 'feature_fraction': 0.6199050122758364, 'subsample': 0.6, 'lambda_l1': 0.36099796102594794, 'lambda_l2': 0.7718344333310119, 'bagging_fraction': 0.9019807529847489, 'bagging_freq': 2}. Best is trial 128 with value: 0.39038612605190603.\u001b[0m\n"
          ]
        },
        {
          "name": "stdout",
          "output_type": "stream",
          "text": [
            "Wall time: 3min 12s\n"
          ]
        }
      ],
      "source": [
        "%%time\n",
        "%%capture\n",
        "\n",
        "study_tpe = optuna.create_study(\n",
        "    direction = 'minimize',\n",
        "    sampler = optuna.samplers.TPESampler(),\n",
        "    pruner = optuna.pruners.NopPruner()\n",
        "    )\n",
        "\n",
        "study_tpe.optimize(objective, n_trials=N_TRIALS)"
      ]
    },
    {
      "cell_type": "code",
      "execution_count": 19,
      "metadata": {},
      "outputs": [
        {
          "name": "stdout",
          "output_type": "stream",
          "text": [
            "{'score': 0.39038612605190603, 'params': {'learning_rate': 0.03602755861946449, 'max_depth': 45, 'num_leaves': 186, 'feature_fraction': 0.6014689332932478, 'subsample': 0.30000000000000004, 'lambda_l1': 0.32856552212928725, 'lambda_l2': 1.0803859751978806, 'bagging_fraction': 0.8185072443269765, 'bagging_freq': 3}}\n"
          ]
        }
      ],
      "source": [
        "tpesearch = {'score': study_tpe.best_value, 'params': study_tpe.best_params}\n",
        "print(tpesearch)"
      ]
    },
    {
      "cell_type": "markdown",
      "metadata": {
        "id": "SGCET5ZNaTol"
      },
      "source": [
        "### **BOHB**\n",
        "\n",
        "Note that for BOHB, increasing the number of trials is highly beneficiary to the final result. This is, in general, true for every use-case in which Hyperband Pruning is applied.  \n",
        "As the hyperband pruning algorithms applies Successive Halving on multiple sets to balance resource distributions, a higher number of trials will work better. "
      ]
    },
    {
      "cell_type": "code",
      "execution_count": 20,
      "metadata": {
        "colab": {
          "base_uri": "https://localhost:8080/"
        },
        "id": "KLlozjVlbKfh",
        "outputId": "e7ec100d-62de-40e3-bdc6-ced310ae3afb"
      },
      "outputs": [
        {
          "name": "stderr",
          "output_type": "stream",
          "text": [
            "\u001b[32m[I 2021-11-08 17:46:05,019]\u001b[0m A new study created in memory with name: no-name-c61f9435-515d-43f3-8c40-10c21cb652f2\u001b[0m\n",
            "\u001b[32m[I 2021-11-08 17:46:05,526]\u001b[0m Trial 0 finished with value: 0.4841883832862934 and parameters: {'learning_rate': 0.022586424291801393, 'max_depth': 47, 'num_leaves': 81, 'feature_fraction': 0.450251502812666, 'subsample': 0.7000000000000001, 'lambda_l1': 8.900256077480686, 'lambda_l2': 0.38093164022530046, 'bagging_fraction': 0.5170134268781407, 'bagging_freq': 9}. Best is trial 0 with value: 0.4841883832862934.\u001b[0m\n",
            "\u001b[32m[I 2021-11-08 17:46:06,202]\u001b[0m Trial 1 finished with value: 0.6381090661203797 and parameters: {'learning_rate': 0.01471323834845577, 'max_depth': 31, 'num_leaves': 162, 'feature_fraction': 0.2560456544305305, 'subsample': 0.5, 'lambda_l1': 1.1752649644970603, 'lambda_l2': 4.8498260065316, 'bagging_fraction': 0.26861657550972107, 'bagging_freq': 1}. Best is trial 0 with value: 0.4841883832862934.\u001b[0m\n",
            "\u001b[32m[I 2021-11-08 17:46:06,484]\u001b[0m Trial 2 finished with value: 0.6454050071551597 and parameters: {'learning_rate': 0.014625407085830171, 'max_depth': 6, 'num_leaves': 191, 'feature_fraction': 0.30080225278340433, 'subsample': 0.9, 'lambda_l1': 0.8606057170757075, 'lambda_l2': 4.535342131820209, 'bagging_fraction': 0.6626808631276916, 'bagging_freq': 10}. Best is trial 0 with value: 0.4841883832862934.\u001b[0m\n",
            "\u001b[32m[I 2021-11-08 17:46:06,756]\u001b[0m Trial 3 finished with value: 0.613359795778066 and parameters: {'learning_rate': 0.03501641703219061, 'max_depth': 31, 'num_leaves': 58, 'feature_fraction': 0.17321209647186553, 'subsample': 1.0, 'lambda_l1': 8.415879219511822, 'lambda_l2': 5.046354628189729, 'bagging_fraction': 0.9497907713606619, 'bagging_freq': 1}. Best is trial 0 with value: 0.4841883832862934.\u001b[0m\n",
            "\u001b[32m[I 2021-11-08 17:46:07,612]\u001b[0m Trial 4 finished with value: 0.6254652065235652 and parameters: {'learning_rate': 0.01553497415989353, 'max_depth': 28, 'num_leaves': 188, 'feature_fraction': 0.25412465103409687, 'subsample': 0.7000000000000001, 'lambda_l1': 2.570486669026324, 'lambda_l2': 2.3991105140562228, 'bagging_fraction': 0.4381374854779433, 'bagging_freq': 10}. Best is trial 0 with value: 0.4841883832862934.\u001b[0m\n",
            "\u001b[32m[I 2021-11-08 17:46:08,026]\u001b[0m Trial 5 finished with value: 0.40494794698708025 and parameters: {'learning_rate': 0.3307744037295136, 'max_depth': 45, 'num_leaves': 149, 'feature_fraction': 0.610766297783667, 'subsample': 0.8, 'lambda_l1': 9.981604728404672, 'lambda_l2': 3.4667652620772973, 'bagging_fraction': 0.8628548853906589, 'bagging_freq': 9}. Best is trial 5 with value: 0.40494794698708025.\u001b[0m\n",
            "\u001b[32m[I 2021-11-08 17:46:08,175]\u001b[0m Trial 6 pruned. \u001b[0m\n",
            "\u001b[32m[I 2021-11-08 17:46:08,881]\u001b[0m Trial 7 pruned. \u001b[0m\n",
            "\u001b[32m[I 2021-11-08 17:46:08,982]\u001b[0m Trial 8 pruned. \u001b[0m\n",
            "\u001b[32m[I 2021-11-08 17:46:09,141]\u001b[0m Trial 9 finished with value: 0.4865479241831563 and parameters: {'learning_rate': 0.40474678312464696, 'max_depth': 46, 'num_leaves': 82, 'feature_fraction': 0.8014978776485945, 'subsample': 0.30000000000000004, 'lambda_l1': 4.566971922266424, 'lambda_l2': 8.575183918437313, 'bagging_fraction': 0.04939576538961854, 'bagging_freq': 3}. Best is trial 5 with value: 0.40494794698708025.\u001b[0m\n",
            "\u001b[32m[I 2021-11-08 17:46:09,594]\u001b[0m Trial 10 pruned. \u001b[0m\n",
            "\u001b[32m[I 2021-11-08 17:46:10,513]\u001b[0m Trial 11 finished with value: 0.3997466581374875 and parameters: {'learning_rate': 0.06202292856941969, 'max_depth': 40, 'num_leaves': 194, 'feature_fraction': 0.6822829261105977, 'subsample': 0.7000000000000001, 'lambda_l1': 2.7086208962771186, 'lambda_l2': 7.597933651418564, 'bagging_fraction': 0.5787283120797121, 'bagging_freq': 1}. Best is trial 11 with value: 0.3997466581374875.\u001b[0m\n",
            "\u001b[32m[I 2021-11-08 17:46:11,398]\u001b[0m Trial 12 finished with value: 0.40601773082712345 and parameters: {'learning_rate': 0.03824657272097223, 'max_depth': 46, 'num_leaves': 130, 'feature_fraction': 0.9443538638106862, 'subsample': 0.2, 'lambda_l1': 0.8934725158038659, 'lambda_l2': 0.8581792359741647, 'bagging_fraction': 0.6499905734067785, 'bagging_freq': 8}. Best is trial 11 with value: 0.3997466581374875.\u001b[0m\n",
            "\u001b[32m[I 2021-11-08 17:46:11,799]\u001b[0m Trial 13 pruned. \u001b[0m\n",
            "\u001b[32m[I 2021-11-08 17:46:12,111]\u001b[0m Trial 14 finished with value: 0.5519037602852193 and parameters: {'learning_rate': 0.012179982628607105, 'max_depth': 6, 'num_leaves': 127, 'feature_fraction': 0.5034340199218802, 'subsample': 0.7000000000000001, 'lambda_l1': 1.179400553847908, 'lambda_l2': 5.467520028141616, 'bagging_fraction': 0.6133618433129143, 'bagging_freq': 2}. Best is trial 11 with value: 0.3997466581374875.\u001b[0m\n",
            "\u001b[32m[I 2021-11-08 17:46:12,476]\u001b[0m Trial 15 finished with value: 0.4791076353553249 and parameters: {'learning_rate': 0.013789387159599561, 'max_depth': 49, 'num_leaves': 58, 'feature_fraction': 0.798826872408032, 'subsample': 1.0, 'lambda_l1': 3.2180310269121493, 'lambda_l2': 1.256711139855734, 'bagging_fraction': 0.14939068445977344, 'bagging_freq': 7}. Best is trial 11 with value: 0.3997466581374875.\u001b[0m\n",
            "\u001b[32m[I 2021-11-08 17:46:12,991]\u001b[0m Trial 16 pruned. \u001b[0m\n",
            "\u001b[32m[I 2021-11-08 17:46:13,524]\u001b[0m Trial 17 pruned. \u001b[0m\n",
            "\u001b[32m[I 2021-11-08 17:46:14,018]\u001b[0m Trial 18 pruned. \u001b[0m\n",
            "\u001b[32m[I 2021-11-08 17:46:14,532]\u001b[0m Trial 19 finished with value: 0.42796767068563196 and parameters: {'learning_rate': 0.08401174954154703, 'max_depth': 50, 'num_leaves': 98, 'feature_fraction': 0.8190145257184372, 'subsample': 0.8, 'lambda_l1': 0.14929060983553621, 'lambda_l2': 1.811802536938324, 'bagging_fraction': 0.14288728342867152, 'bagging_freq': 2}. Best is trial 11 with value: 0.3997466581374875.\u001b[0m\n",
            "\u001b[32m[I 2021-11-08 17:46:14,663]\u001b[0m Trial 20 pruned. \u001b[0m\n",
            "\u001b[32m[I 2021-11-08 17:46:15,067]\u001b[0m Trial 21 pruned. \u001b[0m\n",
            "\u001b[32m[I 2021-11-08 17:46:15,430]\u001b[0m Trial 22 pruned. \u001b[0m\n",
            "\u001b[32m[I 2021-11-08 17:46:15,700]\u001b[0m Trial 23 pruned. \u001b[0m\n",
            "\u001b[32m[I 2021-11-08 17:46:16,021]\u001b[0m Trial 24 finished with value: 0.4136794129908068 and parameters: {'learning_rate': 0.29693936476036076, 'max_depth': 37, 'num_leaves': 30, 'feature_fraction': 0.8175703570526435, 'subsample': 0.7000000000000001, 'lambda_l1': 7.678847461184642, 'lambda_l2': 5.735697745934958, 'bagging_fraction': 0.6204410894833365, 'bagging_freq': 6}. Best is trial 11 with value: 0.3997466581374875.\u001b[0m\n",
            "\u001b[32m[I 2021-11-08 17:46:16,539]\u001b[0m Trial 25 pruned. \u001b[0m\n",
            "\u001b[32m[I 2021-11-08 17:46:17,406]\u001b[0m Trial 26 pruned. \u001b[0m\n",
            "\u001b[32m[I 2021-11-08 17:46:18,304]\u001b[0m Trial 27 finished with value: 0.3975041865605588 and parameters: {'learning_rate': 0.1194877880204923, 'max_depth': 39, 'num_leaves': 133, 'feature_fraction': 0.7758475439713237, 'subsample': 0.7000000000000001, 'lambda_l1': 3.4828155363302447, 'lambda_l2': 2.271997866404398, 'bagging_fraction': 0.7807538074551179, 'bagging_freq': 2}. Best is trial 27 with value: 0.3975041865605588.\u001b[0m\n",
            "\u001b[32m[I 2021-11-08 17:46:19,049]\u001b[0m Trial 28 pruned. \u001b[0m\n",
            "\u001b[32m[I 2021-11-08 17:46:19,615]\u001b[0m Trial 29 pruned. \u001b[0m\n",
            "\u001b[32m[I 2021-11-08 17:46:19,977]\u001b[0m Trial 30 pruned. \u001b[0m\n",
            "\u001b[32m[I 2021-11-08 17:46:20,680]\u001b[0m Trial 31 finished with value: 0.4161730116444901 and parameters: {'learning_rate': 0.02475232352414698, 'max_depth': 30, 'num_leaves': 92, 'feature_fraction': 0.9786562765326997, 'subsample': 0.7000000000000001, 'lambda_l1': 0.9324793572852885, 'lambda_l2': 0.8846142791350142, 'bagging_fraction': 0.7830379727782418, 'bagging_freq': 4}. Best is trial 27 with value: 0.3975041865605588.\u001b[0m\n",
            "\u001b[32m[I 2021-11-08 17:46:21,828]\u001b[0m Trial 32 finished with value: 0.3989594659716585 and parameters: {'learning_rate': 0.05334650544901992, 'max_depth': 32, 'num_leaves': 197, 'feature_fraction': 0.8324762178980071, 'subsample': 0.7000000000000001, 'lambda_l1': 2.653748764866084, 'lambda_l2': 6.848005060973291, 'bagging_fraction': 0.7520033922820746, 'bagging_freq': 0}. Best is trial 27 with value: 0.3975041865605588.\u001b[0m\n",
            "\u001b[32m[I 2021-11-08 17:46:22,695]\u001b[0m Trial 33 pruned. \u001b[0m\n",
            "\u001b[32m[I 2021-11-08 17:46:23,229]\u001b[0m Trial 34 pruned. \u001b[0m\n",
            "\u001b[32m[I 2021-11-08 17:46:24,226]\u001b[0m Trial 35 pruned. \u001b[0m\n",
            "\u001b[32m[I 2021-11-08 17:46:24,708]\u001b[0m Trial 36 pruned. \u001b[0m\n",
            "\u001b[32m[I 2021-11-08 17:46:25,785]\u001b[0m Trial 37 pruned. \u001b[0m\n",
            "\u001b[32m[I 2021-11-08 17:46:26,258]\u001b[0m Trial 38 finished with value: 0.4174786243315373 and parameters: {'learning_rate': 0.058173788131364874, 'max_depth': 45, 'num_leaves': 79, 'feature_fraction': 0.7917551884417525, 'subsample': 0.2, 'lambda_l1': 9.919158941611682, 'lambda_l2': 7.7361274236521504, 'bagging_fraction': 0.5547815189417001, 'bagging_freq': 6}. Best is trial 27 with value: 0.3975041865605588.\u001b[0m\n",
            "\u001b[32m[I 2021-11-08 17:46:26,411]\u001b[0m Trial 39 pruned. \u001b[0m\n",
            "\u001b[32m[I 2021-11-08 17:46:26,743]\u001b[0m Trial 40 pruned. \u001b[0m\n",
            "\u001b[32m[I 2021-11-08 17:46:27,146]\u001b[0m Trial 41 pruned. \u001b[0m\n",
            "\u001b[32m[I 2021-11-08 17:46:27,347]\u001b[0m Trial 42 pruned. \u001b[0m\n",
            "\u001b[32m[I 2021-11-08 17:46:27,528]\u001b[0m Trial 43 pruned. \u001b[0m\n",
            "\u001b[32m[I 2021-11-08 17:46:27,757]\u001b[0m Trial 44 pruned. \u001b[0m\n",
            "\u001b[32m[I 2021-11-08 17:46:28,798]\u001b[0m Trial 45 finished with value: 0.3988591007678517 and parameters: {'learning_rate': 0.06885614687158047, 'max_depth': 41, 'num_leaves': 196, 'feature_fraction': 0.7252655013485878, 'subsample': 0.7000000000000001, 'lambda_l1': 2.6645894998946953, 'lambda_l2': 7.798262770376896, 'bagging_fraction': 0.5685827172322191, 'bagging_freq': 1}. Best is trial 27 with value: 0.3975041865605588.\u001b[0m\n",
            "\u001b[32m[I 2021-11-08 17:46:29,886]\u001b[0m Trial 46 finished with value: 0.3974783349981576 and parameters: {'learning_rate': 0.07655861775185986, 'max_depth': 43, 'num_leaves': 200, 'feature_fraction': 0.7381236242304765, 'subsample': 0.6, 'lambda_l1': 2.0464655399733345, 'lambda_l2': 8.404361642441296, 'bagging_fraction': 0.6014630766118171, 'bagging_freq': 1}. Best is trial 46 with value: 0.3974783349981576.\u001b[0m\n",
            "\u001b[32m[I 2021-11-08 17:46:30,146]\u001b[0m Trial 47 finished with value: 0.4116953508591068 and parameters: {'learning_rate': 0.44349731773223794, 'max_depth': 8, 'num_leaves': 21, 'feature_fraction': 0.729735303219558, 'subsample': 0.30000000000000004, 'lambda_l1': 4.157455982324439, 'lambda_l2': 3.1601093694584925, 'bagging_fraction': 0.9711395134392139, 'bagging_freq': 8}. Best is trial 46 with value: 0.3974783349981576.\u001b[0m\n",
            "\u001b[32m[I 2021-11-08 17:46:31,095]\u001b[0m Trial 48 pruned. \u001b[0m\n",
            "\u001b[32m[I 2021-11-08 17:46:32,044]\u001b[0m Trial 49 pruned. \u001b[0m\n",
            "\u001b[32m[I 2021-11-08 17:46:32,942]\u001b[0m Trial 50 pruned. \u001b[0m\n",
            "\u001b[32m[I 2021-11-08 17:46:34,045]\u001b[0m Trial 51 pruned. \u001b[0m\n",
            "\u001b[32m[I 2021-11-08 17:46:34,364]\u001b[0m Trial 52 pruned. \u001b[0m\n",
            "\u001b[32m[I 2021-11-08 17:46:35,080]\u001b[0m Trial 53 pruned. \u001b[0m\n",
            "\u001b[32m[I 2021-11-08 17:46:35,905]\u001b[0m Trial 54 pruned. \u001b[0m\n",
            "\u001b[32m[I 2021-11-08 17:46:36,155]\u001b[0m Trial 55 pruned. \u001b[0m\n",
            "\u001b[32m[I 2021-11-08 17:46:37,668]\u001b[0m Trial 56 finished with value: 0.3979916449170602 and parameters: {'learning_rate': 0.04742460299969534, 'max_depth': 27, 'num_leaves': 197, 'feature_fraction': 0.857498698715126, 'subsample': 0.7000000000000001, 'lambda_l1': 2.406933648122423, 'lambda_l2': 6.771848637091559, 'bagging_fraction': 0.715999865298919, 'bagging_freq': 0}. Best is trial 46 with value: 0.3974783349981576.\u001b[0m\n",
            "\u001b[32m[I 2021-11-08 17:46:38,856]\u001b[0m Trial 57 pruned. \u001b[0m\n",
            "\u001b[32m[I 2021-11-08 17:46:39,901]\u001b[0m Trial 58 finished with value: 0.3971227965466615 and parameters: {'learning_rate': 0.06505166576758345, 'max_depth': 40, 'num_leaves': 181, 'feature_fraction': 0.7600735147371397, 'subsample': 0.5, 'lambda_l1': 1.5000077112215062, 'lambda_l2': 8.967407385707794, 'bagging_fraction': 0.590089979019584, 'bagging_freq': 2}. Best is trial 58 with value: 0.3971227965466615.\u001b[0m\n",
            "\u001b[32m[I 2021-11-08 17:46:41,057]\u001b[0m Trial 59 finished with value: 0.3933518858646489 and parameters: {'learning_rate': 0.09135930600259921, 'max_depth': 19, 'num_leaves': 181, 'feature_fraction': 0.8007111851567676, 'subsample': 0.5, 'lambda_l1': 1.3308000782524045, 'lambda_l2': 9.13749606230088, 'bagging_fraction': 0.9994850683720786, 'bagging_freq': 2}. Best is trial 59 with value: 0.3933518858646489.\u001b[0m\n",
            "\u001b[32m[I 2021-11-08 17:46:42,154]\u001b[0m Trial 60 finished with value: 0.3960742946556223 and parameters: {'learning_rate': 0.08326842594141334, 'max_depth': 14, 'num_leaves': 180, 'feature_fraction': 0.7950937280702867, 'subsample': 0.30000000000000004, 'lambda_l1': 1.324830514651949, 'lambda_l2': 9.386025154829087, 'bagging_fraction': 0.9943109159729702, 'bagging_freq': 3}. Best is trial 59 with value: 0.3933518858646489.\u001b[0m\n",
            "\u001b[32m[I 2021-11-08 17:46:42,617]\u001b[0m Trial 61 finished with value: 0.4101939294640818 and parameters: {'learning_rate': 0.1532617389644115, 'max_depth': 22, 'num_leaves': 54, 'feature_fraction': 0.6577349452799676, 'subsample': 0.30000000000000004, 'lambda_l1': 9.874544744592587, 'lambda_l2': 3.548121504723689, 'bagging_fraction': 0.6602140779357195, 'bagging_freq': 5}. Best is trial 59 with value: 0.3933518858646489.\u001b[0m\n",
            "\u001b[32m[I 2021-11-08 17:46:43,039]\u001b[0m Trial 62 pruned. \u001b[0m\n",
            "\u001b[32m[I 2021-11-08 17:46:44,006]\u001b[0m Trial 63 finished with value: 0.3955244753199988 and parameters: {'learning_rate': 0.09052466650016006, 'max_depth': 12, 'num_leaves': 182, 'feature_fraction': 0.6373200137372954, 'subsample': 0.30000000000000004, 'lambda_l1': 1.3453560738290478, 'lambda_l2': 9.123501577380484, 'bagging_fraction': 0.9173206963727182, 'bagging_freq': 3}. Best is trial 59 with value: 0.3933518858646489.\u001b[0m\n",
            "\u001b[32m[I 2021-11-08 17:46:44,430]\u001b[0m Trial 64 pruned. \u001b[0m\n",
            "\u001b[32m[I 2021-11-08 17:46:45,401]\u001b[0m Trial 65 pruned. \u001b[0m\n",
            "\u001b[32m[I 2021-11-08 17:46:46,091]\u001b[0m Trial 66 pruned. \u001b[0m\n",
            "\u001b[32m[I 2021-11-08 17:46:46,798]\u001b[0m Trial 67 finished with value: 0.40369244495255924 and parameters: {'learning_rate': 0.04271120613568317, 'max_depth': 40, 'num_leaves': 81, 'feature_fraction': 0.8388507914900182, 'subsample': 0.2, 'lambda_l1': 3.263589121987901, 'lambda_l2': 7.348166861578615, 'bagging_fraction': 0.8832267407672243, 'bagging_freq': 3}. Best is trial 59 with value: 0.3933518858646489.\u001b[0m\n",
            "\u001b[32m[I 2021-11-08 17:46:47,180]\u001b[0m Trial 68 pruned. \u001b[0m\n",
            "\u001b[32m[I 2021-11-08 17:46:47,584]\u001b[0m Trial 69 finished with value: 0.4094195318135425 and parameters: {'learning_rate': 0.1933988250323396, 'max_depth': 19, 'num_leaves': 41, 'feature_fraction': 0.6598321074224659, 'subsample': 0.30000000000000004, 'lambda_l1': 4.973809987978154, 'lambda_l2': 3.2273899679039935, 'bagging_fraction': 0.7500610525523959, 'bagging_freq': 4}. Best is trial 59 with value: 0.3933518858646489.\u001b[0m\n",
            "\u001b[32m[I 2021-11-08 17:46:48,551]\u001b[0m Trial 70 finished with value: 0.3984033195983795 and parameters: {'learning_rate': 0.16070664930992745, 'max_depth': 19, 'num_leaves': 200, 'feature_fraction': 0.6080855093565171, 'subsample': 0.30000000000000004, 'lambda_l1': 3.971995104167976, 'lambda_l2': 3.497467455314969, 'bagging_fraction': 0.9693150245847002, 'bagging_freq': 4}. Best is trial 59 with value: 0.3933518858646489.\u001b[0m\n",
            "\u001b[32m[I 2021-11-08 17:46:50,363]\u001b[0m Trial 71 pruned. \u001b[0m\n",
            "\u001b[32m[I 2021-11-08 17:46:50,978]\u001b[0m Trial 72 finished with value: 0.4031384890589754 and parameters: {'learning_rate': 0.18005998548347127, 'max_depth': 36, 'num_leaves': 104, 'feature_fraction': 0.6881772947437094, 'subsample': 0.1, 'lambda_l1': 1.8623213483731782, 'lambda_l2': 2.2198579385464203, 'bagging_fraction': 0.9045388085228638, 'bagging_freq': 3}. Best is trial 59 with value: 0.3933518858646489.\u001b[0m\n",
            "\u001b[32m[I 2021-11-08 17:46:51,924]\u001b[0m Trial 73 pruned. \u001b[0m\n",
            "\u001b[32m[I 2021-11-08 17:46:52,690]\u001b[0m Trial 74 pruned. \u001b[0m\n",
            "\u001b[32m[I 2021-11-08 17:46:53,750]\u001b[0m Trial 75 finished with value: 0.3943867825296045 and parameters: {'learning_rate': 0.08717084111658956, 'max_depth': 13, 'num_leaves': 189, 'feature_fraction': 0.6608203929808446, 'subsample': 0.30000000000000004, 'lambda_l1': 0.7196547416616725, 'lambda_l2': 9.610510728682112, 'bagging_fraction': 0.9304602704438278, 'bagging_freq': 2}. Best is trial 59 with value: 0.3933518858646489.\u001b[0m\n",
            "\u001b[32m[I 2021-11-08 17:46:54,506]\u001b[0m Trial 76 pruned. \u001b[0m\n",
            "\u001b[32m[I 2021-11-08 17:46:54,799]\u001b[0m Trial 77 pruned. \u001b[0m\n",
            "\u001b[32m[I 2021-11-08 17:46:55,162]\u001b[0m Trial 78 pruned. \u001b[0m\n",
            "\u001b[32m[I 2021-11-08 17:46:55,555]\u001b[0m Trial 79 pruned. \u001b[0m\n",
            "\u001b[32m[I 2021-11-08 17:46:56,584]\u001b[0m Trial 80 finished with value: 0.3931418030159253 and parameters: {'learning_rate': 0.06418227906641276, 'max_depth': 19, 'num_leaves': 161, 'feature_fraction': 0.7957211753240753, 'subsample': 0.4, 'lambda_l1': 0.9117751086972121, 'lambda_l2': 8.80687495714879, 'bagging_fraction': 0.8252958723848858, 'bagging_freq': 3}. Best is trial 80 with value: 0.3931418030159253.\u001b[0m\n",
            "\u001b[32m[I 2021-11-08 17:46:57,340]\u001b[0m Trial 81 pruned. \u001b[0m\n",
            "\u001b[32m[I 2021-11-08 17:46:58,377]\u001b[0m Trial 82 finished with value: 0.39510333983457796 and parameters: {'learning_rate': 0.12135788422366296, 'max_depth': 19, 'num_leaves': 194, 'feature_fraction': 0.5884454322056724, 'subsample': 0.30000000000000004, 'lambda_l1': 4.181517331015857, 'lambda_l2': 3.1994205192531893, 'bagging_fraction': 0.9913474346114105, 'bagging_freq': 3}. Best is trial 80 with value: 0.3931418030159253.\u001b[0m\n",
            "\u001b[32m[I 2021-11-08 17:46:59,415]\u001b[0m Trial 83 pruned. \u001b[0m\n",
            "\u001b[32m[I 2021-11-08 17:47:00,624]\u001b[0m Trial 84 finished with value: 0.3967755215158326 and parameters: {'learning_rate': 0.045890176927309234, 'max_depth': 26, 'num_leaves': 200, 'feature_fraction': 0.5933625279093985, 'subsample': 0.30000000000000004, 'lambda_l1': 2.939705064530375, 'lambda_l2': 4.35453303656565, 'bagging_fraction': 0.862964749279632, 'bagging_freq': 3}. Best is trial 80 with value: 0.3931418030159253.\u001b[0m\n",
            "\u001b[32m[I 2021-11-08 17:47:01,133]\u001b[0m Trial 85 pruned. \u001b[0m\n",
            "\u001b[32m[I 2021-11-08 17:47:01,346]\u001b[0m Trial 86 pruned. \u001b[0m\n",
            "\u001b[32m[I 2021-11-08 17:47:02,161]\u001b[0m Trial 87 pruned. \u001b[0m\n",
            "\u001b[32m[I 2021-11-08 17:47:02,286]\u001b[0m Trial 88 pruned. \u001b[0m\n",
            "\u001b[32m[I 2021-11-08 17:47:03,354]\u001b[0m Trial 89 pruned. \u001b[0m\n",
            "\u001b[32m[I 2021-11-08 17:47:03,704]\u001b[0m Trial 90 pruned. \u001b[0m\n",
            "\u001b[32m[I 2021-11-08 17:47:04,054]\u001b[0m Trial 91 pruned. \u001b[0m\n",
            "\u001b[32m[I 2021-11-08 17:47:04,935]\u001b[0m Trial 92 finished with value: 0.40323780870242926 and parameters: {'learning_rate': 0.04173676265889572, 'max_depth': 49, 'num_leaves': 114, 'feature_fraction': 0.9709024875902131, 'subsample': 0.1, 'lambda_l1': 0.15694760316649892, 'lambda_l2': 0.49604526790202463, 'bagging_fraction': 0.7762648155436906, 'bagging_freq': 6}. Best is trial 80 with value: 0.3931418030159253.\u001b[0m\n",
            "\u001b[32m[I 2021-11-08 17:47:06,023]\u001b[0m Trial 93 finished with value: 0.3955063360837263 and parameters: {'learning_rate': 0.03966388082065773, 'max_depth': 27, 'num_leaves': 177, 'feature_fraction': 0.5646967735154113, 'subsample': 0.4, 'lambda_l1': 2.3466949356547255, 'lambda_l2': 4.645019679018753, 'bagging_fraction': 0.8581720783861981, 'bagging_freq': 3}. Best is trial 80 with value: 0.3931418030159253.\u001b[0m\n",
            "\u001b[32m[I 2021-11-08 17:47:06,177]\u001b[0m Trial 94 pruned. \u001b[0m\n",
            "\u001b[32m[I 2021-11-08 17:47:07,255]\u001b[0m Trial 95 finished with value: 0.39656953121854777 and parameters: {'learning_rate': 0.03928279990173755, 'max_depth': 26, 'num_leaves': 176, 'feature_fraction': 0.5744333182250912, 'subsample': 0.4, 'lambda_l1': 2.3725637551827354, 'lambda_l2': 4.376745158554963, 'bagging_fraction': 0.855645148433073, 'bagging_freq': 3}. Best is trial 80 with value: 0.3931418030159253.\u001b[0m\n",
            "\u001b[32m[I 2021-11-08 17:47:07,911]\u001b[0m Trial 96 pruned. \u001b[0m\n",
            "\u001b[32m[I 2021-11-08 17:47:08,905]\u001b[0m Trial 97 pruned. \u001b[0m\n",
            "\u001b[32m[I 2021-11-08 17:47:10,198]\u001b[0m Trial 98 pruned. \u001b[0m\n",
            "\u001b[32m[I 2021-11-08 17:47:11,511]\u001b[0m Trial 99 finished with value: 0.3946469666257386 and parameters: {'learning_rate': 0.06944165923643231, 'max_depth': 24, 'num_leaves': 167, 'feature_fraction': 0.7900888474645511, 'subsample': 0.5, 'lambda_l1': 1.045187595553493, 'lambda_l2': 9.23866022025864, 'bagging_fraction': 0.9461419735380648, 'bagging_freq': 2}. Best is trial 80 with value: 0.3931418030159253.\u001b[0m\n",
            "\u001b[32m[I 2021-11-08 17:47:12,618]\u001b[0m Trial 100 finished with value: 0.39417966536052834 and parameters: {'learning_rate': 0.04439540109932023, 'max_depth': 24, 'num_leaves': 162, 'feature_fraction': 0.7991311195546439, 'subsample': 0.4, 'lambda_l1': 0.9287466418167424, 'lambda_l2': 9.591324432880697, 'bagging_fraction': 0.941934114445806, 'bagging_freq': 3}. Best is trial 80 with value: 0.3931418030159253.\u001b[0m\n",
            "\u001b[32m[I 2021-11-08 17:47:13,283]\u001b[0m Trial 101 pruned. \u001b[0m\n",
            "\u001b[32m[I 2021-11-08 17:47:14,410]\u001b[0m Trial 102 pruned. \u001b[0m\n",
            "\u001b[32m[I 2021-11-08 17:47:14,953]\u001b[0m Trial 103 pruned. \u001b[0m\n",
            "\u001b[32m[I 2021-11-08 17:47:15,879]\u001b[0m Trial 104 finished with value: 0.39257682757458573 and parameters: {'learning_rate': 0.057103266369196076, 'max_depth': 20, 'num_leaves': 141, 'feature_fraction': 0.6625084482114943, 'subsample': 0.4, 'lambda_l1': 1.0237072346371456, 'lambda_l2': 7.440308570325081, 'bagging_fraction': 0.8272918649562542, 'bagging_freq': 3}. Best is trial 104 with value: 0.39257682757458573.\u001b[0m\n",
            "\u001b[32m[I 2021-11-08 17:47:16,581]\u001b[0m Trial 105 pruned. \u001b[0m\n",
            "\u001b[32m[I 2021-11-08 17:47:17,541]\u001b[0m Trial 106 finished with value: 0.3936048317235989 and parameters: {'learning_rate': 0.0561377325027755, 'max_depth': 26, 'num_leaves': 152, 'feature_fraction': 0.6695285356666227, 'subsample': 0.5, 'lambda_l1': 0.9839750694007019, 'lambda_l2': 7.928819194704843, 'bagging_fraction': 0.8094636978601102, 'bagging_freq': 2}. Best is trial 104 with value: 0.39257682757458573.\u001b[0m\n",
            "\u001b[32m[I 2021-11-08 17:47:18,527]\u001b[0m Trial 107 pruned. \u001b[0m\n",
            "\u001b[32m[I 2021-11-08 17:47:19,911]\u001b[0m Trial 108 finished with value: 0.4005929277938314 and parameters: {'learning_rate': 0.07536123499281129, 'max_depth': 34, 'num_leaves': 112, 'feature_fraction': 0.6001836196257133, 'subsample': 0.1, 'lambda_l1': 2.80448093321424, 'lambda_l2': 4.914041001213277, 'bagging_fraction': 0.6492903049345577, 'bagging_freq': 6}. Best is trial 104 with value: 0.39257682757458573.\u001b[0m\n",
            "\u001b[32m[I 2021-11-08 17:47:20,093]\u001b[0m Trial 109 pruned. \u001b[0m\n",
            "\u001b[32m[I 2021-11-08 17:47:21,528]\u001b[0m Trial 110 pruned. \u001b[0m\n",
            "\u001b[32m[I 2021-11-08 17:47:22,586]\u001b[0m Trial 111 pruned. \u001b[0m\n",
            "\u001b[32m[I 2021-11-08 17:47:23,160]\u001b[0m Trial 112 pruned. \u001b[0m\n",
            "\u001b[32m[I 2021-11-08 17:47:24,001]\u001b[0m Trial 113 pruned. \u001b[0m\n",
            "\u001b[32m[I 2021-11-08 17:47:24,257]\u001b[0m Trial 114 pruned. \u001b[0m\n",
            "\u001b[32m[I 2021-11-08 17:47:25,421]\u001b[0m Trial 115 pruned. \u001b[0m\n",
            "\u001b[32m[I 2021-11-08 17:47:27,138]\u001b[0m Trial 116 pruned. \u001b[0m\n",
            "\u001b[32m[I 2021-11-08 17:47:28,607]\u001b[0m Trial 117 pruned. \u001b[0m\n",
            "\u001b[32m[I 2021-11-08 17:47:29,135]\u001b[0m Trial 118 pruned. \u001b[0m\n",
            "\u001b[32m[I 2021-11-08 17:47:30,084]\u001b[0m Trial 119 pruned. \u001b[0m\n",
            "\u001b[32m[I 2021-11-08 17:47:30,978]\u001b[0m Trial 120 pruned. \u001b[0m\n",
            "\u001b[32m[I 2021-11-08 17:47:31,480]\u001b[0m Trial 121 pruned. \u001b[0m\n",
            "\u001b[32m[I 2021-11-08 17:47:32,392]\u001b[0m Trial 122 pruned. \u001b[0m\n",
            "\u001b[32m[I 2021-11-08 17:47:32,929]\u001b[0m Trial 123 pruned. \u001b[0m\n",
            "\u001b[32m[I 2021-11-08 17:47:33,350]\u001b[0m Trial 124 pruned. \u001b[0m\n",
            "\u001b[32m[I 2021-11-08 17:47:33,694]\u001b[0m Trial 125 finished with value: 0.4036569143474376 and parameters: {'learning_rate': 0.2157906824124881, 'max_depth': 22, 'num_leaves': 31, 'feature_fraction': 0.9355787454246725, 'subsample': 0.7000000000000001, 'lambda_l1': 4.171689785040709, 'lambda_l2': 1.874655934432129, 'bagging_fraction': 0.7633020438751419, 'bagging_freq': 7}. Best is trial 104 with value: 0.39257682757458573.\u001b[0m\n",
            "\u001b[32m[I 2021-11-08 17:47:34,191]\u001b[0m Trial 126 pruned. \u001b[0m\n",
            "\u001b[32m[I 2021-11-08 17:47:35,168]\u001b[0m Trial 127 pruned. \u001b[0m\n",
            "\u001b[32m[I 2021-11-08 17:47:36,473]\u001b[0m Trial 128 pruned. \u001b[0m\n",
            "\u001b[32m[I 2021-11-08 17:47:37,341]\u001b[0m Trial 129 pruned. \u001b[0m\n",
            "\u001b[32m[I 2021-11-08 17:47:38,146]\u001b[0m Trial 130 pruned. \u001b[0m\n",
            "\u001b[32m[I 2021-11-08 17:47:39,077]\u001b[0m Trial 131 pruned. \u001b[0m\n",
            "\u001b[32m[I 2021-11-08 17:47:39,412]\u001b[0m Trial 132 pruned. \u001b[0m\n",
            "\u001b[32m[I 2021-11-08 17:47:40,698]\u001b[0m Trial 133 finished with value: 0.39511714104272483 and parameters: {'learning_rate': 0.04618174383962963, 'max_depth': 26, 'num_leaves': 194, 'feature_fraction': 0.5960100878710609, 'subsample': 0.30000000000000004, 'lambda_l1': 3.0143322645590325, 'lambda_l2': 0.029461339496596572, 'bagging_fraction': 0.894440551923383, 'bagging_freq': 3}. Best is trial 104 with value: 0.39257682757458573.\u001b[0m\n",
            "\u001b[32m[I 2021-11-08 17:47:40,871]\u001b[0m Trial 134 pruned. \u001b[0m\n",
            "\u001b[32m[I 2021-11-08 17:47:42,083]\u001b[0m Trial 135 pruned. \u001b[0m\n",
            "\u001b[32m[I 2021-11-08 17:47:42,725]\u001b[0m Trial 136 pruned. \u001b[0m\n",
            "\u001b[32m[I 2021-11-08 17:47:43,866]\u001b[0m Trial 137 pruned. \u001b[0m\n",
            "\u001b[32m[I 2021-11-08 17:47:44,808]\u001b[0m Trial 138 pruned. \u001b[0m\n",
            "\u001b[32m[I 2021-11-08 17:47:45,871]\u001b[0m Trial 139 pruned. \u001b[0m\n",
            "\u001b[32m[I 2021-11-08 17:47:47,048]\u001b[0m Trial 140 pruned. \u001b[0m\n",
            "\u001b[32m[I 2021-11-08 17:47:47,938]\u001b[0m Trial 141 pruned. \u001b[0m\n",
            "\u001b[32m[I 2021-11-08 17:47:48,676]\u001b[0m Trial 142 pruned. \u001b[0m\n",
            "\u001b[32m[I 2021-11-08 17:47:49,806]\u001b[0m Trial 143 finished with value: 0.39387865535606786 and parameters: {'learning_rate': 0.06878844129536235, 'max_depth': 13, 'num_leaves': 172, 'feature_fraction': 0.6422725000491373, 'subsample': 0.30000000000000004, 'lambda_l1': 1.2499883899746056, 'lambda_l2': 9.166566538544714, 'bagging_fraction': 0.9193980737555403, 'bagging_freq': 3}. Best is trial 104 with value: 0.39257682757458573.\u001b[0m\n",
            "\u001b[32m[I 2021-11-08 17:47:51,172]\u001b[0m Trial 144 pruned. \u001b[0m\n",
            "\u001b[32m[I 2021-11-08 17:47:52,560]\u001b[0m Trial 145 finished with value: 0.3935984108653237 and parameters: {'learning_rate': 0.06681084187167913, 'max_depth': 18, 'num_leaves': 161, 'feature_fraction': 0.6469195563104171, 'subsample': 0.30000000000000004, 'lambda_l1': 1.110215762991381, 'lambda_l2': 9.3107810954, 'bagging_fraction': 0.9120426483729321, 'bagging_freq': 3}. Best is trial 104 with value: 0.39257682757458573.\u001b[0m\n",
            "\u001b[32m[I 2021-11-08 17:47:53,246]\u001b[0m Trial 146 pruned. \u001b[0m\n",
            "\u001b[32m[I 2021-11-08 17:47:53,975]\u001b[0m Trial 147 pruned. \u001b[0m\n",
            "\u001b[32m[I 2021-11-08 17:47:54,933]\u001b[0m Trial 148 finished with value: 0.3930013213000103 and parameters: {'learning_rate': 0.06487965652325461, 'max_depth': 19, 'num_leaves': 150, 'feature_fraction': 0.6874476002998026, 'subsample': 0.30000000000000004, 'lambda_l1': 1.2905144474311356, 'lambda_l2': 5.594279713236993, 'bagging_fraction': 0.9132571269463571, 'bagging_freq': 4}. Best is trial 104 with value: 0.39257682757458573.\u001b[0m\n",
            "\u001b[32m[I 2021-11-08 17:47:55,932]\u001b[0m Trial 149 pruned. \u001b[0m\n",
            "\u001b[32m[I 2021-11-08 17:47:56,590]\u001b[0m Trial 150 finished with value: 0.4020456725778528 and parameters: {'learning_rate': 0.13509624276843446, 'max_depth': 50, 'num_leaves': 102, 'feature_fraction': 0.6050016908271694, 'subsample': 0.30000000000000004, 'lambda_l1': 1.9949038034552888, 'lambda_l2': 8.018908449800657, 'bagging_fraction': 0.5482617000759509, 'bagging_freq': 5}. Best is trial 104 with value: 0.39257682757458573.\u001b[0m\n",
            "\u001b[32m[I 2021-11-08 17:47:57,538]\u001b[0m Trial 151 finished with value: 0.39360968688763953 and parameters: {'learning_rate': 0.06737606595114072, 'max_depth': 16, 'num_leaves': 134, 'feature_fraction': 0.7327736766138813, 'subsample': 0.30000000000000004, 'lambda_l1': 1.1274958606225203, 'lambda_l2': 3.211734024516802, 'bagging_fraction': 0.9736634770459489, 'bagging_freq': 4}. Best is trial 104 with value: 0.39257682757458573.\u001b[0m\n",
            "\u001b[32m[I 2021-11-08 17:47:58,332]\u001b[0m Trial 152 pruned. \u001b[0m\n",
            "\u001b[32m[I 2021-11-08 17:47:59,444]\u001b[0m Trial 153 pruned. \u001b[0m\n",
            "\u001b[32m[I 2021-11-08 17:47:59,627]\u001b[0m Trial 154 pruned. \u001b[0m\n",
            "\u001b[32m[I 2021-11-08 17:48:00,554]\u001b[0m Trial 155 pruned. \u001b[0m\n",
            "\u001b[32m[I 2021-11-08 17:48:01,523]\u001b[0m Trial 156 pruned. \u001b[0m\n",
            "\u001b[32m[I 2021-11-08 17:48:02,710]\u001b[0m Trial 157 pruned. \u001b[0m\n",
            "\u001b[32m[I 2021-11-08 17:48:03,886]\u001b[0m Trial 158 finished with value: 0.39114518689931493 and parameters: {'learning_rate': 0.08172830313176777, 'max_depth': 19, 'num_leaves': 138, 'feature_fraction': 0.6325912685746059, 'subsample': 0.30000000000000004, 'lambda_l1': 1.423784790381366, 'lambda_l2': 5.776714176157167, 'bagging_fraction': 0.9744684796437324, 'bagging_freq': 5}. Best is trial 158 with value: 0.39114518689931493.\u001b[0m\n",
            "\u001b[32m[I 2021-11-08 17:48:05,098]\u001b[0m Trial 159 pruned. \u001b[0m\n",
            "\u001b[32m[I 2021-11-08 17:48:06,267]\u001b[0m Trial 160 pruned. \u001b[0m\n",
            "\u001b[32m[I 2021-11-08 17:48:07,114]\u001b[0m Trial 161 pruned. \u001b[0m\n",
            "\u001b[32m[I 2021-11-08 17:48:08,054]\u001b[0m Trial 162 pruned. \u001b[0m\n",
            "\u001b[32m[I 2021-11-08 17:48:08,710]\u001b[0m Trial 163 pruned. \u001b[0m\n",
            "\u001b[32m[I 2021-11-08 17:48:09,707]\u001b[0m Trial 164 pruned. \u001b[0m\n",
            "\u001b[32m[I 2021-11-08 17:48:10,289]\u001b[0m Trial 165 pruned. \u001b[0m\n",
            "\u001b[32m[I 2021-11-08 17:48:11,170]\u001b[0m Trial 166 pruned. \u001b[0m\n",
            "\u001b[32m[I 2021-11-08 17:48:12,195]\u001b[0m Trial 167 finished with value: 0.3925450529356618 and parameters: {'learning_rate': 0.05171656184172002, 'max_depth': 21, 'num_leaves': 129, 'feature_fraction': 0.6295961524120526, 'subsample': 0.2, 'lambda_l1': 1.478064031011546, 'lambda_l2': 4.119700895696672, 'bagging_fraction': 0.922693228427523, 'bagging_freq': 3}. Best is trial 158 with value: 0.39114518689931493.\u001b[0m\n",
            "\u001b[32m[I 2021-11-08 17:48:13,176]\u001b[0m Trial 168 pruned. \u001b[0m\n",
            "\u001b[32m[I 2021-11-08 17:48:14,224]\u001b[0m Trial 169 pruned. \u001b[0m\n",
            "\u001b[32m[I 2021-11-08 17:48:15,410]\u001b[0m Trial 170 pruned. \u001b[0m\n",
            "\u001b[32m[I 2021-11-08 17:48:16,297]\u001b[0m Trial 171 pruned. \u001b[0m\n",
            "\u001b[32m[I 2021-11-08 17:48:17,094]\u001b[0m Trial 172 pruned. \u001b[0m\n",
            "\u001b[32m[I 2021-11-08 17:48:17,880]\u001b[0m Trial 173 pruned. \u001b[0m\n",
            "\u001b[32m[I 2021-11-08 17:48:18,051]\u001b[0m Trial 174 pruned. \u001b[0m\n",
            "\u001b[32m[I 2021-11-08 17:48:19,039]\u001b[0m Trial 175 finished with value: 0.39301434623070286 and parameters: {'learning_rate': 0.06400860878000043, 'max_depth': 14, 'num_leaves': 158, 'feature_fraction': 0.6000756683675793, 'subsample': 0.30000000000000004, 'lambda_l1': 1.4270572600529783, 'lambda_l2': 5.187827048511804, 'bagging_fraction': 0.9255689895269342, 'bagging_freq': 3}. Best is trial 158 with value: 0.39114518689931493.\u001b[0m\n",
            "\u001b[32m[I 2021-11-08 17:48:19,959]\u001b[0m Trial 176 pruned. \u001b[0m\n",
            "\u001b[32m[I 2021-11-08 17:48:21,131]\u001b[0m Trial 177 finished with value: 0.39211735959132943 and parameters: {'learning_rate': 0.07434283052994846, 'max_depth': 18, 'num_leaves': 158, 'feature_fraction': 0.6040231003262457, 'subsample': 0.4, 'lambda_l1': 1.135178668584053, 'lambda_l2': 5.479598372448608, 'bagging_fraction': 0.9308314807626122, 'bagging_freq': 3}. Best is trial 158 with value: 0.39114518689931493.\u001b[0m\n",
            "\u001b[32m[I 2021-11-08 17:48:22,039]\u001b[0m Trial 178 pruned. \u001b[0m\n",
            "\u001b[32m[I 2021-11-08 17:48:22,736]\u001b[0m Trial 179 pruned. \u001b[0m\n",
            "\u001b[32m[I 2021-11-08 17:48:23,991]\u001b[0m Trial 180 pruned. \u001b[0m\n",
            "\u001b[32m[I 2021-11-08 17:48:25,239]\u001b[0m Trial 181 pruned. \u001b[0m\n",
            "\u001b[32m[I 2021-11-08 17:48:26,303]\u001b[0m Trial 182 pruned. \u001b[0m\n",
            "\u001b[32m[I 2021-11-08 17:48:27,393]\u001b[0m Trial 183 finished with value: 0.39343526032408027 and parameters: {'learning_rate': 0.05528982494543332, 'max_depth': 17, 'num_leaves': 156, 'feature_fraction': 0.5658646722045048, 'subsample': 0.5, 'lambda_l1': 0.18984936835501287, 'lambda_l2': 6.515155022607827, 'bagging_fraction': 0.9288346569153609, 'bagging_freq': 3}. Best is trial 158 with value: 0.39114518689931493.\u001b[0m\n",
            "\u001b[32m[I 2021-11-08 17:48:28,506]\u001b[0m Trial 184 pruned. \u001b[0m\n",
            "\u001b[32m[I 2021-11-08 17:48:29,462]\u001b[0m Trial 185 pruned. \u001b[0m\n",
            "\u001b[32m[I 2021-11-08 17:48:30,013]\u001b[0m Trial 186 pruned. \u001b[0m\n",
            "\u001b[32m[I 2021-11-08 17:48:31,145]\u001b[0m Trial 187 pruned. \u001b[0m\n",
            "\u001b[32m[I 2021-11-08 17:48:32,434]\u001b[0m Trial 188 pruned. \u001b[0m\n",
            "\u001b[32m[I 2021-11-08 17:48:33,493]\u001b[0m Trial 189 pruned. \u001b[0m\n",
            "\u001b[32m[I 2021-11-08 17:48:34,813]\u001b[0m Trial 190 finished with value: 0.39231416202983405 and parameters: {'learning_rate': 0.055480216876695666, 'max_depth': 22, 'num_leaves': 159, 'feature_fraction': 0.6471150106350324, 'subsample': 0.5, 'lambda_l1': 0.9693711424118627, 'lambda_l2': 7.222796246939877, 'bagging_fraction': 0.8064900297754799, 'bagging_freq': 2}. Best is trial 158 with value: 0.39114518689931493.\u001b[0m\n",
            "\u001b[32m[I 2021-11-08 17:48:36,015]\u001b[0m Trial 191 pruned. \u001b[0m\n",
            "\u001b[32m[I 2021-11-08 17:48:37,368]\u001b[0m Trial 192 finished with value: 0.3913536167650509 and parameters: {'learning_rate': 0.05299188868169507, 'max_depth': 19, 'num_leaves': 140, 'feature_fraction': 0.6472967069589805, 'subsample': 0.6, 'lambda_l1': 1.6447368994230078, 'lambda_l2': 6.0956606519335335, 'bagging_fraction': 0.9287242434514271, 'bagging_freq': 3}. Best is trial 158 with value: 0.39114518689931493.\u001b[0m\n",
            "\u001b[32m[I 2021-11-08 17:48:38,707]\u001b[0m Trial 193 pruned. \u001b[0m\n",
            "\u001b[32m[I 2021-11-08 17:48:39,751]\u001b[0m Trial 194 pruned. \u001b[0m\n",
            "\u001b[32m[I 2021-11-08 17:48:41,165]\u001b[0m Trial 195 pruned. \u001b[0m\n",
            "\u001b[32m[I 2021-11-08 17:48:42,037]\u001b[0m Trial 196 pruned. \u001b[0m\n",
            "\u001b[32m[I 2021-11-08 17:48:43,066]\u001b[0m Trial 197 pruned. \u001b[0m\n",
            "\u001b[32m[I 2021-11-08 17:48:43,510]\u001b[0m Trial 198 pruned. \u001b[0m\n",
            "\u001b[32m[I 2021-11-08 17:48:44,237]\u001b[0m Trial 199 pruned. \u001b[0m\n",
            "\u001b[32m[I 2021-11-08 17:48:45,139]\u001b[0m Trial 200 pruned. \u001b[0m\n",
            "\u001b[32m[I 2021-11-08 17:48:46,497]\u001b[0m Trial 201 finished with value: 0.3927344182143409 and parameters: {'learning_rate': 0.04902998732940526, 'max_depth': 23, 'num_leaves': 176, 'feature_fraction': 0.6828879398783029, 'subsample': 0.5, 'lambda_l1': 1.9642147967405625, 'lambda_l2': 4.6552540326603316, 'bagging_fraction': 0.9242676774766493, 'bagging_freq': 2}. Best is trial 158 with value: 0.39114518689931493.\u001b[0m\n",
            "\u001b[32m[I 2021-11-08 17:48:47,779]\u001b[0m Trial 202 pruned. \u001b[0m\n",
            "\u001b[32m[I 2021-11-08 17:48:48,428]\u001b[0m Trial 203 pruned. \u001b[0m\n",
            "\u001b[32m[I 2021-11-08 17:48:49,536]\u001b[0m Trial 204 pruned. \u001b[0m\n",
            "\u001b[32m[I 2021-11-08 17:48:50,389]\u001b[0m Trial 205 finished with value: 0.4008609891850287 and parameters: {'learning_rate': 0.04969912170366746, 'max_depth': 41, 'num_leaves': 94, 'feature_fraction': 0.800162017593107, 'subsample': 0.2, 'lambda_l1': 1.1578754510864024, 'lambda_l2': 0.06044431973948061, 'bagging_fraction': 0.6893034965417222, 'bagging_freq': 7}. Best is trial 158 with value: 0.39114518689931493.\u001b[0m\n",
            "\u001b[32m[I 2021-11-08 17:48:51,891]\u001b[0m Trial 206 pruned. \u001b[0m\n",
            "\u001b[32m[I 2021-11-08 17:48:52,371]\u001b[0m Trial 207 pruned. \u001b[0m\n",
            "\u001b[32m[I 2021-11-08 17:48:53,646]\u001b[0m Trial 208 pruned. \u001b[0m\n",
            "\u001b[32m[I 2021-11-08 17:48:54,708]\u001b[0m Trial 209 pruned. \u001b[0m\n",
            "\u001b[32m[I 2021-11-08 17:48:55,912]\u001b[0m Trial 210 pruned. \u001b[0m\n",
            "\u001b[32m[I 2021-11-08 17:48:57,138]\u001b[0m Trial 211 pruned. \u001b[0m\n",
            "\u001b[32m[I 2021-11-08 17:48:58,177]\u001b[0m Trial 212 pruned. \u001b[0m\n",
            "\u001b[32m[I 2021-11-08 17:48:59,440]\u001b[0m Trial 213 pruned. \u001b[0m\n",
            "\u001b[32m[I 2021-11-08 17:49:00,461]\u001b[0m Trial 214 pruned. \u001b[0m\n",
            "\u001b[32m[I 2021-11-08 17:49:01,032]\u001b[0m Trial 215 pruned. \u001b[0m\n",
            "\u001b[32m[I 2021-11-08 17:49:02,168]\u001b[0m Trial 216 pruned. \u001b[0m\n",
            "\u001b[32m[I 2021-11-08 17:49:03,098]\u001b[0m Trial 217 finished with value: 0.3948969052885311 and parameters: {'learning_rate': 0.06662261003675943, 'max_depth': 32, 'num_leaves': 119, 'feature_fraction': 0.8686581369783815, 'subsample': 0.5, 'lambda_l1': 0.654340288590987, 'lambda_l2': 5.018936755333657, 'bagging_fraction': 0.9431503236670746, 'bagging_freq': 4}. Best is trial 158 with value: 0.39114518689931493.\u001b[0m\n",
            "\u001b[32m[I 2021-11-08 17:49:04,397]\u001b[0m Trial 218 finished with value: 0.3923948814780071 and parameters: {'learning_rate': 0.0911129902207517, 'max_depth': 24, 'num_leaves': 178, 'feature_fraction': 0.6242121214414557, 'subsample': 0.5, 'lambda_l1': 0.8386090310327954, 'lambda_l2': 7.02220506761199, 'bagging_fraction': 0.809236928129241, 'bagging_freq': 2}. Best is trial 158 with value: 0.39114518689931493.\u001b[0m\n",
            "\u001b[32m[I 2021-11-08 17:49:05,701]\u001b[0m Trial 219 pruned. \u001b[0m\n",
            "\u001b[32m[I 2021-11-08 17:49:06,016]\u001b[0m Trial 220 pruned. \u001b[0m\n",
            "\u001b[32m[I 2021-11-08 17:49:07,044]\u001b[0m Trial 221 pruned. \u001b[0m\n",
            "\u001b[32m[I 2021-11-08 17:49:08,175]\u001b[0m Trial 222 pruned. \u001b[0m\n",
            "\u001b[32m[I 2021-11-08 17:49:09,075]\u001b[0m Trial 223 pruned. \u001b[0m\n",
            "\u001b[32m[I 2021-11-08 17:49:10,155]\u001b[0m Trial 224 finished with value: 0.3923262511836064 and parameters: {'learning_rate': 0.06345034543327664, 'max_depth': 18, 'num_leaves': 157, 'feature_fraction': 0.6700779967003404, 'subsample': 0.4, 'lambda_l1': 1.0252351861707942, 'lambda_l2': 4.280876961882549, 'bagging_fraction': 0.8257083342100664, 'bagging_freq': 3}. Best is trial 158 with value: 0.39114518689931493.\u001b[0m\n",
            "\u001b[32m[I 2021-11-08 17:49:10,761]\u001b[0m Trial 225 pruned. \u001b[0m\n",
            "\u001b[32m[I 2021-11-08 17:49:11,429]\u001b[0m Trial 226 pruned. \u001b[0m\n",
            "\u001b[32m[I 2021-11-08 17:49:12,700]\u001b[0m Trial 227 pruned. \u001b[0m\n",
            "\u001b[32m[I 2021-11-08 17:49:13,374]\u001b[0m Trial 228 finished with value: 0.4169147919075664 and parameters: {'learning_rate': 0.25833887140131667, 'max_depth': 24, 'num_leaves': 143, 'feature_fraction': 0.3408979683642418, 'subsample': 0.2, 'lambda_l1': 6.182018740122106, 'lambda_l2': 3.2266939867011333, 'bagging_fraction': 0.8368910936893118, 'bagging_freq': 4}. Best is trial 158 with value: 0.39114518689931493.\u001b[0m\n",
            "\u001b[32m[I 2021-11-08 17:49:14,102]\u001b[0m Trial 229 pruned. \u001b[0m\n",
            "\u001b[32m[I 2021-11-08 17:49:14,703]\u001b[0m Trial 230 pruned. \u001b[0m\n",
            "\u001b[32m[I 2021-11-08 17:49:15,693]\u001b[0m Trial 231 pruned. \u001b[0m\n",
            "\u001b[32m[I 2021-11-08 17:49:17,036]\u001b[0m Trial 232 pruned. \u001b[0m\n",
            "\u001b[32m[I 2021-11-08 17:49:18,350]\u001b[0m Trial 233 pruned. \u001b[0m\n",
            "\u001b[32m[I 2021-11-08 17:49:18,852]\u001b[0m Trial 234 pruned. \u001b[0m\n",
            "\u001b[32m[I 2021-11-08 17:49:19,434]\u001b[0m Trial 235 pruned. \u001b[0m\n",
            "\u001b[32m[I 2021-11-08 17:49:20,511]\u001b[0m Trial 236 pruned. \u001b[0m\n",
            "\u001b[32m[I 2021-11-08 17:49:21,209]\u001b[0m Trial 237 pruned. \u001b[0m\n",
            "\u001b[32m[I 2021-11-08 17:49:21,370]\u001b[0m Trial 238 pruned. \u001b[0m\n",
            "\u001b[32m[I 2021-11-08 17:49:22,584]\u001b[0m Trial 239 pruned. \u001b[0m\n",
            "\u001b[32m[I 2021-11-08 17:49:23,087]\u001b[0m Trial 240 finished with value: 0.41458023971970115 and parameters: {'learning_rate': 0.14152117470569034, 'max_depth': 50, 'num_leaves': 90, 'feature_fraction': 0.5376741298494353, 'subsample': 0.7000000000000001, 'lambda_l1': 9.882975890908515, 'lambda_l2': 0.15413277152314775, 'bagging_fraction': 0.700641956998893, 'bagging_freq': 4}. Best is trial 158 with value: 0.39114518689931493.\u001b[0m\n",
            "\u001b[32m[I 2021-11-08 17:49:23,493]\u001b[0m Trial 241 finished with value: 0.40879487514904855 and parameters: {'learning_rate': 0.42969792626133524, 'max_depth': 37, 'num_leaves': 67, 'feature_fraction': 0.6326124915811568, 'subsample': 0.1, 'lambda_l1': 4.503384563555104, 'lambda_l2': 1.683613859837363, 'bagging_fraction': 0.984678926039244, 'bagging_freq': 10}. Best is trial 158 with value: 0.39114518689931493.\u001b[0m\n",
            "\u001b[32m[I 2021-11-08 17:49:24,500]\u001b[0m Trial 242 finished with value: 0.3960931484896128 and parameters: {'learning_rate': 0.0573210566461553, 'max_depth': 20, 'num_leaves': 135, 'feature_fraction': 0.7703674853535051, 'subsample': 0.4, 'lambda_l1': 1.8771861512073602, 'lambda_l2': 5.99559422668464, 'bagging_fraction': 0.9546334155387156, 'bagging_freq': 4}. Best is trial 158 with value: 0.39114518689931493.\u001b[0m\n",
            "\u001b[32m[I 2021-11-08 17:49:25,471]\u001b[0m Trial 243 pruned. \u001b[0m\n",
            "\u001b[32m[I 2021-11-08 17:49:26,521]\u001b[0m Trial 244 pruned. \u001b[0m\n",
            "\u001b[32m[I 2021-11-08 17:49:26,693]\u001b[0m Trial 245 pruned. \u001b[0m\n",
            "\u001b[32m[I 2021-11-08 17:49:27,053]\u001b[0m Trial 246 pruned. \u001b[0m\n",
            "\u001b[32m[I 2021-11-08 17:49:28,044]\u001b[0m Trial 247 pruned. \u001b[0m\n",
            "\u001b[32m[I 2021-11-08 17:49:29,133]\u001b[0m Trial 248 pruned. \u001b[0m\n",
            "\u001b[32m[I 2021-11-08 17:49:29,342]\u001b[0m Trial 249 pruned. \u001b[0m\n",
            "\u001b[32m[I 2021-11-08 17:49:30,477]\u001b[0m Trial 250 pruned. \u001b[0m\n",
            "\u001b[32m[I 2021-11-08 17:49:30,902]\u001b[0m Trial 251 pruned. \u001b[0m\n",
            "\u001b[32m[I 2021-11-08 17:49:31,868]\u001b[0m Trial 252 pruned. \u001b[0m\n",
            "\u001b[32m[I 2021-11-08 17:49:32,661]\u001b[0m Trial 253 finished with value: 0.4025971705666202 and parameters: {'learning_rate': 0.14986190714862385, 'max_depth': 13, 'num_leaves': 186, 'feature_fraction': 0.6050570576870534, 'subsample': 1.0, 'lambda_l1': 5.809655423587219, 'lambda_l2': 1.5162548077874671, 'bagging_fraction': 0.8649592873682662, 'bagging_freq': 5}. Best is trial 158 with value: 0.39114518689931493.\u001b[0m\n",
            "\u001b[32m[I 2021-11-08 17:49:33,588]\u001b[0m Trial 254 pruned. \u001b[0m\n",
            "\u001b[32m[I 2021-11-08 17:49:34,497]\u001b[0m Trial 255 pruned. \u001b[0m\n",
            "\u001b[32m[I 2021-11-08 17:49:35,366]\u001b[0m Trial 256 pruned. \u001b[0m\n",
            "\u001b[32m[I 2021-11-08 17:49:36,378]\u001b[0m Trial 257 pruned. \u001b[0m\n",
            "\u001b[32m[I 2021-11-08 17:49:37,429]\u001b[0m Trial 258 finished with value: 0.39952498671662373 and parameters: {'learning_rate': 0.07616436421399714, 'max_depth': 37, 'num_leaves': 139, 'feature_fraction': 0.9998638001250584, 'subsample': 0.1, 'lambda_l1': 1.0926661045077843, 'lambda_l2': 0.8898115685826407, 'bagging_fraction': 0.8343846687374694, 'bagging_freq': 5}. Best is trial 158 with value: 0.39114518689931493.\u001b[0m\n",
            "\u001b[32m[I 2021-11-08 17:49:38,402]\u001b[0m Trial 259 pruned. \u001b[0m\n",
            "\u001b[32m[I 2021-11-08 17:49:39,389]\u001b[0m Trial 260 finished with value: 0.3947418916876338 and parameters: {'learning_rate': 0.07595378031708086, 'max_depth': 31, 'num_leaves': 136, 'feature_fraction': 0.7785257310178066, 'subsample': 0.2, 'lambda_l1': 1.885894956474823, 'lambda_l2': 1.1489736425529844, 'bagging_fraction': 0.8588176588074697, 'bagging_freq': 4}. Best is trial 158 with value: 0.39114518689931493.\u001b[0m\n",
            "\u001b[32m[I 2021-11-08 17:49:40,418]\u001b[0m Trial 261 pruned. \u001b[0m\n",
            "\u001b[32m[I 2021-11-08 17:49:41,532]\u001b[0m Trial 262 pruned. \u001b[0m\n",
            "\u001b[32m[I 2021-11-08 17:49:42,625]\u001b[0m Trial 263 finished with value: 0.39182336218644315 and parameters: {'learning_rate': 0.06811249473212729, 'max_depth': 20, 'num_leaves': 160, 'feature_fraction': 0.6417435000965739, 'subsample': 0.30000000000000004, 'lambda_l1': 1.1536888508857683, 'lambda_l2': 9.32622749009566, 'bagging_fraction': 0.9127691749853951, 'bagging_freq': 3}. Best is trial 158 with value: 0.39114518689931493.\u001b[0m\n",
            "\u001b[32m[I 2021-11-08 17:49:43,715]\u001b[0m Trial 264 finished with value: 0.39215888589865977 and parameters: {'learning_rate': 0.06512301707083273, 'max_depth': 20, 'num_leaves': 156, 'feature_fraction': 0.6288265209739996, 'subsample': 0.2, 'lambda_l1': 1.7180211330249422, 'lambda_l2': 4.036279817853976, 'bagging_fraction': 0.9212663691797719, 'bagging_freq': 3}. Best is trial 158 with value: 0.39114518689931493.\u001b[0m\n",
            "\u001b[32m[I 2021-11-08 17:49:44,762]\u001b[0m Trial 265 pruned. \u001b[0m\n",
            "\u001b[32m[I 2021-11-08 17:49:45,918]\u001b[0m Trial 266 pruned. \u001b[0m\n",
            "\u001b[32m[I 2021-11-08 17:49:47,029]\u001b[0m Trial 267 finished with value: 0.3924587749536706 and parameters: {'learning_rate': 0.0680691576193485, 'max_depth': 20, 'num_leaves': 161, 'feature_fraction': 0.6810480298057435, 'subsample': 0.30000000000000004, 'lambda_l1': 2.2323697414834434, 'lambda_l2': 3.3783561668519715, 'bagging_fraction': 0.9456864629104633, 'bagging_freq': 3}. Best is trial 158 with value: 0.39114518689931493.\u001b[0m\n",
            "\u001b[32m[I 2021-11-08 17:49:47,919]\u001b[0m Trial 268 pruned. \u001b[0m\n",
            "\u001b[32m[I 2021-11-08 17:49:48,780]\u001b[0m Trial 269 finished with value: 0.40304692359673566 and parameters: {'learning_rate': 0.14390616424684075, 'max_depth': 13, 'num_leaves': 197, 'feature_fraction': 0.6163578675860296, 'subsample': 0.9, 'lambda_l1': 5.5726563186792575, 'lambda_l2': 1.2769650079721275, 'bagging_fraction': 0.8661044613949885, 'bagging_freq': 5}. Best is trial 158 with value: 0.39114518689931493.\u001b[0m\n",
            "\u001b[32m[I 2021-11-08 17:49:50,064]\u001b[0m Trial 270 finished with value: 0.3923455668682737 and parameters: {'learning_rate': 0.06007944246094259, 'max_depth': 20, 'num_leaves': 161, 'feature_fraction': 0.6786972471618612, 'subsample': 0.30000000000000004, 'lambda_l1': 2.281501230086735, 'lambda_l2': 3.235175778993388, 'bagging_fraction': 0.8866720128051405, 'bagging_freq': 3}. Best is trial 158 with value: 0.39114518689931493.\u001b[0m\n",
            "\u001b[32m[I 2021-11-08 17:49:51,133]\u001b[0m Trial 271 finished with value: 0.39240600376219975 and parameters: {'learning_rate': 0.059816406675919614, 'max_depth': 20, 'num_leaves': 154, 'feature_fraction': 0.6868220577900339, 'subsample': 0.30000000000000004, 'lambda_l1': 2.1420416571510654, 'lambda_l2': 3.4332121971318363, 'bagging_fraction': 0.9432186222697381, 'bagging_freq': 3}. Best is trial 158 with value: 0.39114518689931493.\u001b[0m\n",
            "\u001b[32m[I 2021-11-08 17:49:52,225]\u001b[0m Trial 272 pruned. \u001b[0m\n",
            "\u001b[32m[I 2021-11-08 17:49:53,405]\u001b[0m Trial 273 pruned. \u001b[0m\n",
            "\u001b[32m[I 2021-11-08 17:49:54,236]\u001b[0m Trial 274 finished with value: 0.41348343169958107 and parameters: {'learning_rate': 0.18456347481320012, 'max_depth': 44, 'num_leaves': 128, 'feature_fraction': 0.5323010455065361, 'subsample': 0.1, 'lambda_l1': 7.1480960236782, 'lambda_l2': 1.6597819836124326, 'bagging_fraction': 0.7545129732847157, 'bagging_freq': 3}. Best is trial 158 with value: 0.39114518689931493.\u001b[0m\n",
            "\u001b[32m[I 2021-11-08 17:49:55,260]\u001b[0m Trial 275 pruned. \u001b[0m\n",
            "\u001b[32m[I 2021-11-08 17:49:56,370]\u001b[0m Trial 276 pruned. \u001b[0m\n",
            "\u001b[32m[I 2021-11-08 17:49:57,560]\u001b[0m Trial 277 finished with value: 0.39233553934072457 and parameters: {'learning_rate': 0.051384781285018076, 'max_depth': 20, 'num_leaves': 159, 'feature_fraction': 0.6528774846889341, 'subsample': 0.30000000000000004, 'lambda_l1': 2.1103851066739225, 'lambda_l2': 3.4668474124811097, 'bagging_fraction': 0.9087749665873682, 'bagging_freq': 3}. Best is trial 158 with value: 0.39114518689931493.\u001b[0m\n",
            "\u001b[32m[I 2021-11-08 17:49:58,736]\u001b[0m Trial 278 pruned. \u001b[0m\n",
            "\u001b[32m[I 2021-11-08 17:49:59,574]\u001b[0m Trial 279 pruned. \u001b[0m\n",
            "\u001b[32m[I 2021-11-08 17:50:00,889]\u001b[0m Trial 280 pruned. \u001b[0m\n",
            "\u001b[32m[I 2021-11-08 17:50:02,013]\u001b[0m Trial 281 pruned. \u001b[0m\n",
            "\u001b[32m[I 2021-11-08 17:50:03,097]\u001b[0m Trial 282 pruned. \u001b[0m\n",
            "\u001b[32m[I 2021-11-08 17:50:04,521]\u001b[0m Trial 283 pruned. \u001b[0m\n",
            "\u001b[32m[I 2021-11-08 17:50:05,865]\u001b[0m Trial 284 pruned. \u001b[0m\n",
            "\u001b[32m[I 2021-11-08 17:50:06,784]\u001b[0m Trial 285 finished with value: 0.40150105427373 and parameters: {'learning_rate': 0.1596247148905243, 'max_depth': 13, 'num_leaves': 196, 'feature_fraction': 0.5949735399596051, 'subsample': 1.0, 'lambda_l1': 5.637935651580315, 'lambda_l2': 3.0355743707537837, 'bagging_fraction': 0.886535192608092, 'bagging_freq': 6}. Best is trial 158 with value: 0.39114518689931493.\u001b[0m\n",
            "\u001b[32m[I 2021-11-08 17:50:07,885]\u001b[0m Trial 286 pruned. \u001b[0m\n",
            "\u001b[32m[I 2021-11-08 17:50:09,090]\u001b[0m Trial 287 finished with value: 0.39420868400304077 and parameters: {'learning_rate': 0.07511261225339719, 'max_depth': 33, 'num_leaves': 170, 'feature_fraction': 0.7758492136002951, 'subsample': 0.2, 'lambda_l1': 1.1193257841411524, 'lambda_l2': 2.0666576241688044, 'bagging_fraction': 0.8718027497722636, 'bagging_freq': 4}. Best is trial 158 with value: 0.39114518689931493.\u001b[0m\n",
            "\u001b[32m[I 2021-11-08 17:50:10,251]\u001b[0m Trial 288 pruned. \u001b[0m\n",
            "\u001b[32m[I 2021-11-08 17:50:11,467]\u001b[0m Trial 289 pruned. \u001b[0m\n",
            "\u001b[32m[I 2021-11-08 17:50:12,573]\u001b[0m Trial 290 pruned. \u001b[0m\n",
            "\u001b[32m[I 2021-11-08 17:50:13,470]\u001b[0m Trial 291 finished with value: 0.40037835932404575 and parameters: {'learning_rate': 0.1239321026668579, 'max_depth': 12, 'num_leaves': 191, 'feature_fraction': 0.6021651214251131, 'subsample': 1.0, 'lambda_l1': 5.732561593399967, 'lambda_l2': 3.131327644574809, 'bagging_fraction': 0.898471273337164, 'bagging_freq': 5}. Best is trial 158 with value: 0.39114518689931493.\u001b[0m\n",
            "\u001b[32m[I 2021-11-08 17:50:14,597]\u001b[0m Trial 292 pruned. \u001b[0m\n",
            "\u001b[32m[I 2021-11-08 17:50:15,794]\u001b[0m Trial 293 pruned. \u001b[0m\n",
            "\u001b[32m[I 2021-11-08 17:50:16,818]\u001b[0m Trial 294 pruned. \u001b[0m\n",
            "\u001b[32m[I 2021-11-08 17:50:18,093]\u001b[0m Trial 295 pruned. \u001b[0m\n",
            "\u001b[32m[I 2021-11-08 17:50:18,631]\u001b[0m Trial 296 finished with value: 0.40040981078888616 and parameters: {'learning_rate': 0.26141810463086335, 'max_depth': 35, 'num_leaves': 61, 'feature_fraction': 0.6494195442607391, 'subsample': 0.30000000000000004, 'lambda_l1': 4.0649934383862565, 'lambda_l2': 2.2550708804114894, 'bagging_fraction': 0.9985208043464835, 'bagging_freq': 6}. Best is trial 158 with value: 0.39114518689931493.\u001b[0m\n",
            "\u001b[32m[I 2021-11-08 17:50:19,697]\u001b[0m Trial 297 finished with value: 0.3921095649773873 and parameters: {'learning_rate': 0.05994530936312202, 'max_depth': 21, 'num_leaves': 131, 'feature_fraction': 0.60834790847532, 'subsample': 0.30000000000000004, 'lambda_l1': 1.8769998320530332, 'lambda_l2': 4.4943803297156935, 'bagging_fraction': 0.9675212676272547, 'bagging_freq': 3}. Best is trial 158 with value: 0.39114518689931493.\u001b[0m\n",
            "\u001b[32m[I 2021-11-08 17:50:20,383]\u001b[0m Trial 298 pruned. \u001b[0m\n",
            "\u001b[32m[I 2021-11-08 17:50:21,417]\u001b[0m Trial 299 pruned. \u001b[0m\n",
            "\u001b[32m[I 2021-11-08 17:50:21,614]\u001b[0m Trial 300 pruned. \u001b[0m\n",
            "\u001b[32m[I 2021-11-08 17:50:21,999]\u001b[0m Trial 301 pruned. \u001b[0m\n",
            "\u001b[32m[I 2021-11-08 17:50:22,513]\u001b[0m Trial 302 pruned. \u001b[0m\n",
            "\u001b[32m[I 2021-11-08 17:50:23,581]\u001b[0m Trial 303 pruned. \u001b[0m\n",
            "\u001b[32m[I 2021-11-08 17:50:24,580]\u001b[0m Trial 304 pruned. \u001b[0m\n",
            "\u001b[32m[I 2021-11-08 17:50:25,811]\u001b[0m Trial 305 pruned. \u001b[0m\n",
            "\u001b[32m[I 2021-11-08 17:50:26,818]\u001b[0m Trial 306 pruned. \u001b[0m\n",
            "\u001b[32m[I 2021-11-08 17:50:28,084]\u001b[0m Trial 307 finished with value: 0.39598784087189864 and parameters: {'learning_rate': 0.07540313490361886, 'max_depth': 32, 'num_leaves': 164, 'feature_fraction': 0.766732627672321, 'subsample': 0.4, 'lambda_l1': 2.877386939345118, 'lambda_l2': 2.0000772597584895, 'bagging_fraction': 0.9840052328512805, 'bagging_freq': 4}. Best is trial 158 with value: 0.39114518689931493.\u001b[0m\n",
            "\u001b[32m[I 2021-11-08 17:50:28,617]\u001b[0m Trial 308 pruned. \u001b[0m\n",
            "\u001b[32m[I 2021-11-08 17:50:29,760]\u001b[0m Trial 309 pruned. \u001b[0m\n",
            "\u001b[32m[I 2021-11-08 17:50:30,724]\u001b[0m Trial 310 pruned. \u001b[0m\n",
            "\u001b[32m[I 2021-11-08 17:50:31,748]\u001b[0m Trial 311 pruned. \u001b[0m\n",
            "\u001b[32m[I 2021-11-08 17:50:32,799]\u001b[0m Trial 312 pruned. \u001b[0m\n",
            "\u001b[32m[I 2021-11-08 17:50:33,665]\u001b[0m Trial 313 pruned. \u001b[0m\n",
            "\u001b[32m[I 2021-11-08 17:50:34,710]\u001b[0m Trial 314 pruned. \u001b[0m\n",
            "\u001b[32m[I 2021-11-08 17:50:35,873]\u001b[0m Trial 315 finished with value: 0.39622546704157396 and parameters: {'learning_rate': 0.07522534908513116, 'max_depth': 31, 'num_leaves': 170, 'feature_fraction': 0.9021173767232673, 'subsample': 0.4, 'lambda_l1': 0.7559675634246212, 'lambda_l2': 2.308405197156317, 'bagging_fraction': 0.9828573922472957, 'bagging_freq': 4}. Best is trial 158 with value: 0.39114518689931493.\u001b[0m\n",
            "\u001b[32m[I 2021-11-08 17:50:36,970]\u001b[0m Trial 316 finished with value: 0.39134626269478856 and parameters: {'learning_rate': 0.07460162416033954, 'max_depth': 18, 'num_leaves': 149, 'feature_fraction': 0.6265759060335746, 'subsample': 0.30000000000000004, 'lambda_l1': 1.841390218579588, 'lambda_l2': 5.27997919227893, 'bagging_fraction': 0.9492026778094208, 'bagging_freq': 3}. Best is trial 158 with value: 0.39114518689931493.\u001b[0m\n",
            "\u001b[32m[I 2021-11-08 17:50:38,788]\u001b[0m Trial 317 pruned. \u001b[0m\n",
            "\u001b[32m[I 2021-11-08 17:50:39,944]\u001b[0m Trial 318 finished with value: 0.3953139869807683 and parameters: {'learning_rate': 0.04681464192251726, 'max_depth': 32, 'num_leaves': 181, 'feature_fraction': 0.6395345820077077, 'subsample': 0.2, 'lambda_l1': 2.986450459656641, 'lambda_l2': 3.051154021532599, 'bagging_fraction': 0.9364198506933915, 'bagging_freq': 3}. Best is trial 158 with value: 0.39114518689931493.\u001b[0m\n",
            "\u001b[32m[I 2021-11-08 17:50:40,425]\u001b[0m Trial 319 finished with value: 0.4061986543159781 and parameters: {'learning_rate': 0.25153648243303334, 'max_depth': 43, 'num_leaves': 52, 'feature_fraction': 0.9605731050145154, 'subsample': 0.30000000000000004, 'lambda_l1': 1.615153855065656, 'lambda_l2': 6.30462389046715, 'bagging_fraction': 0.8597022014007183, 'bagging_freq': 3}. Best is trial 158 with value: 0.39114518689931493.\u001b[0m\n",
            "\u001b[32m[I 2021-11-08 17:50:41,884]\u001b[0m Trial 320 pruned. \u001b[0m\n",
            "\u001b[32m[I 2021-11-08 17:50:42,948]\u001b[0m Trial 321 finished with value: 0.3918950427262505 and parameters: {'learning_rate': 0.07266492130193379, 'max_depth': 18, 'num_leaves': 147, 'feature_fraction': 0.6426737859902588, 'subsample': 0.30000000000000004, 'lambda_l1': 1.8597265410657988, 'lambda_l2': 4.770471715709441, 'bagging_fraction': 0.9647162744443329, 'bagging_freq': 3}. Best is trial 158 with value: 0.39114518689931493.\u001b[0m\n",
            "\u001b[32m[I 2021-11-08 17:50:43,493]\u001b[0m Trial 322 pruned. \u001b[0m\n",
            "\u001b[32m[I 2021-11-08 17:50:44,777]\u001b[0m Trial 323 pruned. \u001b[0m\n",
            "\u001b[32m[I 2021-11-08 17:50:45,824]\u001b[0m Trial 324 pruned. \u001b[0m\n",
            "\u001b[32m[I 2021-11-08 17:50:46,820]\u001b[0m Trial 325 pruned. \u001b[0m\n",
            "\u001b[32m[I 2021-11-08 17:50:47,897]\u001b[0m Trial 326 pruned. \u001b[0m\n",
            "\u001b[32m[I 2021-11-08 17:50:49,360]\u001b[0m Trial 327 pruned. \u001b[0m\n",
            "\u001b[32m[I 2021-11-08 17:50:50,286]\u001b[0m Trial 328 pruned. \u001b[0m\n",
            "\u001b[32m[I 2021-11-08 17:50:51,256]\u001b[0m Trial 329 finished with value: 0.39156949413891473 and parameters: {'learning_rate': 0.0884490252554413, 'max_depth': 16, 'num_leaves': 134, 'feature_fraction': 0.6649852572853834, 'subsample': 0.2, 'lambda_l1': 1.5164375172172841, 'lambda_l2': 7.357822302451703, 'bagging_fraction': 0.9839378796202459, 'bagging_freq': 3}. Best is trial 158 with value: 0.39114518689931493.\u001b[0m\n",
            "\u001b[32m[I 2021-11-08 17:50:52,400]\u001b[0m Trial 330 pruned. \u001b[0m\n",
            "\u001b[32m[I 2021-11-08 17:50:53,496]\u001b[0m Trial 331 pruned. \u001b[0m\n",
            "\u001b[32m[I 2021-11-08 17:50:53,725]\u001b[0m Trial 332 pruned. \u001b[0m\n",
            "\u001b[32m[I 2021-11-08 17:50:54,799]\u001b[0m Trial 333 pruned. \u001b[0m\n",
            "\u001b[32m[I 2021-11-08 17:50:55,973]\u001b[0m Trial 334 pruned. \u001b[0m\n",
            "\u001b[32m[I 2021-11-08 17:50:56,571]\u001b[0m Trial 335 finished with value: 0.4009280938053731 and parameters: {'learning_rate': 0.15869454342400732, 'max_depth': 8, 'num_leaves': 171, 'feature_fraction': 0.6349953460521449, 'subsample': 1.0, 'lambda_l1': 6.710119380086671, 'lambda_l2': 3.0856410673080883, 'bagging_fraction': 0.996527380004334, 'bagging_freq': 5}. Best is trial 158 with value: 0.39114518689931493.\u001b[0m\n",
            "\u001b[32m[I 2021-11-08 17:50:57,935]\u001b[0m Trial 336 pruned. \u001b[0m\n",
            "\u001b[32m[I 2021-11-08 17:50:58,928]\u001b[0m Trial 337 pruned. \u001b[0m\n",
            "\u001b[32m[I 2021-11-08 17:51:00,075]\u001b[0m Trial 338 pruned. \u001b[0m\n",
            "\u001b[32m[I 2021-11-08 17:51:00,926]\u001b[0m Trial 339 pruned. \u001b[0m\n",
            "\u001b[32m[I 2021-11-08 17:51:02,605]\u001b[0m Trial 340 finished with value: 0.3966816501274369 and parameters: {'learning_rate': 0.07497232642656543, 'max_depth': 18, 'num_leaves': 199, 'feature_fraction': 0.8519546673465673, 'subsample': 0.4, 'lambda_l1': 0.6384027261928916, 'lambda_l2': 2.690359035321195, 'bagging_fraction': 0.9364862933472705, 'bagging_freq': 4}. Best is trial 158 with value: 0.39114518689931493.\u001b[0m\n",
            "\u001b[32m[I 2021-11-08 17:51:03,802]\u001b[0m Trial 341 pruned. \u001b[0m\n",
            "\u001b[32m[I 2021-11-08 17:51:04,766]\u001b[0m Trial 342 finished with value: 0.3921658931139085 and parameters: {'learning_rate': 0.05484057867519337, 'max_depth': 17, 'num_leaves': 134, 'feature_fraction': 0.6835541108715455, 'subsample': 0.4, 'lambda_l1': 0.8134862380322699, 'lambda_l2': 4.701508956683754, 'bagging_fraction': 0.9697515432075182, 'bagging_freq': 3}. Best is trial 158 with value: 0.39114518689931493.\u001b[0m\n",
            "\u001b[32m[I 2021-11-08 17:51:05,747]\u001b[0m Trial 343 pruned. \u001b[0m\n",
            "\u001b[32m[I 2021-11-08 17:51:06,657]\u001b[0m Trial 344 pruned. \u001b[0m\n",
            "\u001b[32m[I 2021-11-08 17:51:07,644]\u001b[0m Trial 345 pruned. \u001b[0m\n",
            "\u001b[32m[I 2021-11-08 17:51:08,600]\u001b[0m Trial 346 pruned. \u001b[0m\n",
            "\u001b[32m[I 2021-11-08 17:51:08,827]\u001b[0m Trial 347 pruned. \u001b[0m\n",
            "\u001b[32m[I 2021-11-08 17:51:09,901]\u001b[0m Trial 348 pruned. \u001b[0m\n",
            "\u001b[32m[I 2021-11-08 17:51:10,994]\u001b[0m Trial 349 pruned. \u001b[0m\n",
            "\u001b[32m[I 2021-11-08 17:51:12,011]\u001b[0m Trial 350 pruned. \u001b[0m\n",
            "\u001b[32m[I 2021-11-08 17:51:13,223]\u001b[0m Trial 351 finished with value: 0.3958146484787168 and parameters: {'learning_rate': 0.04704674512176715, 'max_depth': 30, 'num_leaves': 200, 'feature_fraction': 0.5825023088241771, 'subsample': 0.30000000000000004, 'lambda_l1': 3.0657802643925804, 'lambda_l2': 4.6421343289105454, 'bagging_fraction': 0.8578777963795898, 'bagging_freq': 3}. Best is trial 158 with value: 0.39114518689931493.\u001b[0m\n",
            "\u001b[32m[I 2021-11-08 17:51:14,372]\u001b[0m Trial 352 pruned. \u001b[0m\n",
            "\u001b[32m[I 2021-11-08 17:51:15,518]\u001b[0m Trial 353 pruned. \u001b[0m\n",
            "\u001b[32m[I 2021-11-08 17:51:17,022]\u001b[0m Trial 354 pruned. \u001b[0m\n",
            "\u001b[32m[I 2021-11-08 17:51:18,254]\u001b[0m Trial 355 finished with value: 0.3966718207087215 and parameters: {'learning_rate': 0.06208639599830734, 'max_depth': 17, 'num_leaves': 186, 'feature_fraction': 0.8457293019410042, 'subsample': 0.5, 'lambda_l1': 0.6956069431174916, 'lambda_l2': 2.2111259054182963, 'bagging_fraction': 0.9913524230261084, 'bagging_freq': 2}. Best is trial 158 with value: 0.39114518689931493.\u001b[0m\n",
            "\u001b[32m[I 2021-11-08 17:51:18,354]\u001b[0m Trial 356 pruned. \u001b[0m\n",
            "\u001b[32m[I 2021-11-08 17:51:19,569]\u001b[0m Trial 357 pruned. \u001b[0m\n",
            "\u001b[32m[I 2021-11-08 17:51:20,695]\u001b[0m Trial 358 pruned. \u001b[0m\n",
            "\u001b[32m[I 2021-11-08 17:51:21,873]\u001b[0m Trial 359 pruned. \u001b[0m\n",
            "\u001b[32m[I 2021-11-08 17:51:22,598]\u001b[0m Trial 360 pruned. \u001b[0m\n",
            "\u001b[32m[I 2021-11-08 17:51:23,511]\u001b[0m Trial 361 pruned. \u001b[0m\n",
            "\u001b[32m[I 2021-11-08 17:51:24,584]\u001b[0m Trial 362 pruned. \u001b[0m\n",
            "\u001b[32m[I 2021-11-08 17:51:25,846]\u001b[0m Trial 363 finished with value: 0.39209330140772314 and parameters: {'learning_rate': 0.08008587763825409, 'max_depth': 21, 'num_leaves': 151, 'feature_fraction': 0.6777472961378157, 'subsample': 0.30000000000000004, 'lambda_l1': 1.8282613152409706, 'lambda_l2': 5.032198374613663, 'bagging_fraction': 0.9243979606893916, 'bagging_freq': 3}. Best is trial 158 with value: 0.39114518689931493.\u001b[0m\n",
            "\u001b[32m[I 2021-11-08 17:51:26,956]\u001b[0m Trial 364 pruned. \u001b[0m\n",
            "\u001b[32m[I 2021-11-08 17:51:28,040]\u001b[0m Trial 365 pruned. \u001b[0m\n",
            "\u001b[32m[I 2021-11-08 17:51:29,129]\u001b[0m Trial 366 pruned. \u001b[0m\n",
            "\u001b[32m[I 2021-11-08 17:51:30,267]\u001b[0m Trial 367 pruned. \u001b[0m\n",
            "\u001b[32m[I 2021-11-08 17:51:30,976]\u001b[0m Trial 368 pruned. \u001b[0m\n",
            "\u001b[32m[I 2021-11-08 17:51:32,230]\u001b[0m Trial 369 finished with value: 0.394633625733407 and parameters: {'learning_rate': 0.07133986883996281, 'max_depth': 36, 'num_leaves': 186, 'feature_fraction': 0.5791316683420787, 'subsample': 0.30000000000000004, 'lambda_l1': 1.4312984754718274, 'lambda_l2': 5.097430232278026, 'bagging_fraction': 0.7982259639065943, 'bagging_freq': 3}. Best is trial 158 with value: 0.39114518689931493.\u001b[0m\n",
            "\u001b[32m[I 2021-11-08 17:51:33,258]\u001b[0m Trial 370 pruned. \u001b[0m\n",
            "\u001b[32m[I 2021-11-08 17:51:34,314]\u001b[0m Trial 371 pruned. \u001b[0m\n",
            "\u001b[32m[I 2021-11-08 17:51:35,343]\u001b[0m Trial 372 pruned. \u001b[0m\n",
            "\u001b[32m[I 2021-11-08 17:51:36,522]\u001b[0m Trial 373 finished with value: 0.39167037783385256 and parameters: {'learning_rate': 0.05346287413030784, 'max_depth': 21, 'num_leaves': 159, 'feature_fraction': 0.6525757790356872, 'subsample': 0.4, 'lambda_l1': 1.3971845013661444, 'lambda_l2': 3.817753101452234, 'bagging_fraction': 0.8818524082579272, 'bagging_freq': 3}. Best is trial 158 with value: 0.39114518689931493.\u001b[0m\n",
            "\u001b[32m[I 2021-11-08 17:51:37,041]\u001b[0m Trial 374 pruned. \u001b[0m\n",
            "\u001b[32m[I 2021-11-08 17:51:38,164]\u001b[0m Trial 375 finished with value: 0.39152532083544905 and parameters: {'learning_rate': 0.059035383492261735, 'max_depth': 20, 'num_leaves': 158, 'feature_fraction': 0.6149644078125989, 'subsample': 0.4, 'lambda_l1': 1.2242260550756454, 'lambda_l2': 3.633648798489717, 'bagging_fraction': 0.8086660722147349, 'bagging_freq': 3}. Best is trial 158 with value: 0.39114518689931493.\u001b[0m\n",
            "\u001b[32m[I 2021-11-08 17:51:38,756]\u001b[0m Trial 376 pruned. \u001b[0m\n",
            "\u001b[32m[I 2021-11-08 17:51:40,024]\u001b[0m Trial 377 pruned. \u001b[0m\n",
            "\u001b[32m[I 2021-11-08 17:51:40,260]\u001b[0m Trial 378 pruned. \u001b[0m\n",
            "\u001b[32m[I 2021-11-08 17:51:41,049]\u001b[0m Trial 379 pruned. \u001b[0m\n",
            "\u001b[32m[I 2021-11-08 17:51:42,239]\u001b[0m Trial 380 pruned. \u001b[0m\n",
            "\u001b[32m[I 2021-11-08 17:51:43,146]\u001b[0m Trial 381 pruned. \u001b[0m\n",
            "\u001b[32m[I 2021-11-08 17:51:43,982]\u001b[0m Trial 382 pruned. \u001b[0m\n",
            "\u001b[32m[I 2021-11-08 17:51:44,918]\u001b[0m Trial 383 finished with value: 0.3962937976406004 and parameters: {'learning_rate': 0.1121036358457752, 'max_depth': 38, 'num_leaves': 163, 'feature_fraction': 0.8319249416709008, 'subsample': 0.30000000000000004, 'lambda_l1': 1.3871817719178372, 'lambda_l2': 3.139760050276832, 'bagging_fraction': 0.8906094156227579, 'bagging_freq': 2}. Best is trial 158 with value: 0.39114518689931493.\u001b[0m\n",
            "\u001b[32m[I 2021-11-08 17:51:46,113]\u001b[0m Trial 384 pruned. \u001b[0m\n",
            "\u001b[32m[I 2021-11-08 17:51:47,185]\u001b[0m Trial 385 pruned. \u001b[0m\n",
            "\u001b[32m[I 2021-11-08 17:51:48,455]\u001b[0m Trial 386 pruned. \u001b[0m\n",
            "\u001b[32m[I 2021-11-08 17:51:49,920]\u001b[0m Trial 387 finished with value: 0.3922843129549211 and parameters: {'learning_rate': 0.06958104724015393, 'max_depth': 18, 'num_leaves': 167, 'feature_fraction': 0.5734191679222153, 'subsample': 0.2, 'lambda_l1': 1.661438467104408, 'lambda_l2': 3.955155232883771, 'bagging_fraction': 0.9060095196635208, 'bagging_freq': 3}. Best is trial 158 with value: 0.39114518689931493.\u001b[0m\n",
            "\u001b[32m[I 2021-11-08 17:51:50,185]\u001b[0m Trial 388 pruned. \u001b[0m\n",
            "\u001b[32m[I 2021-11-08 17:51:51,145]\u001b[0m Trial 389 pruned. \u001b[0m\n",
            "\u001b[32m[I 2021-11-08 17:51:52,343]\u001b[0m Trial 390 finished with value: 0.39174767818931416 and parameters: {'learning_rate': 0.05434716309649982, 'max_depth': 22, 'num_leaves': 160, 'feature_fraction': 0.5742005504769483, 'subsample': 0.4, 'lambda_l1': 1.6200209268879036, 'lambda_l2': 4.019832308537628, 'bagging_fraction': 0.9137681370352722, 'bagging_freq': 3}. Best is trial 158 with value: 0.39114518689931493.\u001b[0m\n",
            "\u001b[32m[I 2021-11-08 17:51:53,138]\u001b[0m Trial 391 pruned. \u001b[0m\n",
            "\u001b[32m[I 2021-11-08 17:51:54,245]\u001b[0m Trial 392 finished with value: 0.39114128987333147 and parameters: {'learning_rate': 0.06976579246623671, 'max_depth': 18, 'num_leaves': 165, 'feature_fraction': 0.5769590702836126, 'subsample': 0.2, 'lambda_l1': 1.7041120100896419, 'lambda_l2': 3.721305715564068, 'bagging_fraction': 0.906216278754276, 'bagging_freq': 3}. Best is trial 392 with value: 0.39114128987333147.\u001b[0m\n",
            "\u001b[32m[I 2021-11-08 17:51:55,355]\u001b[0m Trial 393 finished with value: 0.3918751609459709 and parameters: {'learning_rate': 0.05661511410346794, 'max_depth': 21, 'num_leaves': 162, 'feature_fraction': 0.5853889738004353, 'subsample': 0.2, 'lambda_l1': 1.6986574330809268, 'lambda_l2': 4.542992987652205, 'bagging_fraction': 0.9162357956739807, 'bagging_freq': 3}. Best is trial 392 with value: 0.39114128987333147.\u001b[0m\n",
            "\u001b[32m[I 2021-11-08 17:51:56,497]\u001b[0m Trial 394 pruned. \u001b[0m\n",
            "\u001b[32m[I 2021-11-08 17:51:57,206]\u001b[0m Trial 395 pruned. \u001b[0m\n",
            "\u001b[32m[I 2021-11-08 17:51:58,227]\u001b[0m Trial 396 pruned. \u001b[0m\n",
            "\u001b[32m[I 2021-11-08 17:51:59,311]\u001b[0m Trial 397 pruned. \u001b[0m\n",
            "\u001b[32m[I 2021-11-08 17:52:00,503]\u001b[0m Trial 398 finished with value: 0.3960459329237222 and parameters: {'learning_rate': 0.06314153857263725, 'max_depth': 30, 'num_leaves': 181, 'feature_fraction': 0.8342160913349381, 'subsample': 0.30000000000000004, 'lambda_l1': 1.0598780028137411, 'lambda_l2': 2.2605593461829177, 'bagging_fraction': 0.9632810071026692, 'bagging_freq': 1}. Best is trial 392 with value: 0.39114128987333147.\u001b[0m\n",
            "\u001b[32m[I 2021-11-08 17:52:01,594]\u001b[0m Trial 399 pruned. \u001b[0m\n"
          ]
        },
        {
          "name": "stdout",
          "output_type": "stream",
          "text": [
            "Wall time: 5min 56s\n"
          ]
        }
      ],
      "source": [
        "%%time\n",
        "%%capture\n",
        "\n",
        "study_bohb = optuna.create_study(\n",
        "    direction = 'minimize',\n",
        "    sampler = optuna.samplers.TPESampler(),\n",
        "    pruner = optuna.pruners.HyperbandPruner()\n",
        "    )\n",
        "\n",
        "study_bohb.optimize(objective, n_trials=N_TRIALS*2)"
      ]
    },
    {
      "cell_type": "code",
      "execution_count": 21,
      "metadata": {
        "colab": {
          "base_uri": "https://localhost:8080/"
        },
        "id": "bJb6vlBEbabZ",
        "outputId": "8dff7631-c190-48df-bb4f-1d10f2b8031d"
      },
      "outputs": [
        {
          "name": "stdout",
          "output_type": "stream",
          "text": [
            "{'score': 0.39114128987333147, 'params': {'learning_rate': 0.06976579246623671, 'max_depth': 18, 'num_leaves': 165, 'feature_fraction': 0.5769590702836126, 'subsample': 0.2, 'lambda_l1': 1.7041120100896419, 'lambda_l2': 3.721305715564068, 'bagging_fraction': 0.906216278754276, 'bagging_freq': 3}}\n"
          ]
        }
      ],
      "source": [
        "bohbsearch = {'score': study_bohb.best_value, 'params': study_bohb.best_params}\n",
        "print(bohbsearch)"
      ]
    },
    {
      "cell_type": "markdown",
      "metadata": {},
      "source": [
        "### **Summary**\n",
        "The final overview of our results shows that TPE and BOHB perform far better than the other algorithms. \n",
        "In this example, the differences are not extreme, which is mostly due to the very stylized example. In many other cases, the gains of hyperparameter optimization are considerable."
      ]
    },
    {
      "cell_type": "code",
      "execution_count": 22,
      "metadata": {
        "colab": {
          "base_uri": "https://localhost:8080/",
          "height": 173
        },
        "id": "K8XEAc3JLzJs",
        "outputId": "53f04aa4-7877-4658-806e-4cd5d3ec3f59"
      },
      "outputs": [
        {
          "data": {
            "text/html": [
              "<div>\n",
              "<style scoped>\n",
              "    .dataframe tbody tr th:only-of-type {\n",
              "        vertical-align: middle;\n",
              "    }\n",
              "\n",
              "    .dataframe tbody tr th {\n",
              "        vertical-align: top;\n",
              "    }\n",
              "\n",
              "    .dataframe thead th {\n",
              "        text-align: right;\n",
              "    }\n",
              "</style>\n",
              "<table border=\"1\" class=\"dataframe\">\n",
              "  <thead>\n",
              "    <tr style=\"text-align: right;\">\n",
              "      <th></th>\n",
              "      <th>RMSE</th>\n",
              "    </tr>\n",
              "  </thead>\n",
              "  <tbody>\n",
              "    <tr>\n",
              "      <th>Grid</th>\n",
              "      <td>0.400960</td>\n",
              "    </tr>\n",
              "    <tr>\n",
              "      <th>Random</th>\n",
              "      <td>0.396520</td>\n",
              "    </tr>\n",
              "    <tr>\n",
              "      <th>CMAES</th>\n",
              "      <td>0.395344</td>\n",
              "    </tr>\n",
              "    <tr>\n",
              "      <th>TPE</th>\n",
              "      <td>0.390386</td>\n",
              "    </tr>\n",
              "    <tr>\n",
              "      <th>BOHB</th>\n",
              "      <td>0.391141</td>\n",
              "    </tr>\n",
              "  </tbody>\n",
              "</table>\n",
              "</div>"
            ],
            "text/plain": [
              "            RMSE\n",
              "Grid    0.400960\n",
              "Random  0.396520\n",
              "CMAES   0.395344\n",
              "TPE     0.390386\n",
              "BOHB    0.391141"
            ]
          },
          "execution_count": 22,
          "metadata": {},
          "output_type": "execute_result"
        }
      ],
      "source": [
        "pd.DataFrame([gridsearch['score'],randomsearch['score'],cmaessearch['score'],tpesearch['score'],bohbsearch['score']],index=['Grid','Random','CMAES','TPE','BOHB'],columns=['RMSE'])"
      ]
    },
    {
      "cell_type": "markdown",
      "metadata": {
        "id": "kbgu9CQ2r4UQ"
      },
      "source": [
        "### **Visualization**\n",
        "#### History"
      ]
    },
    {
      "cell_type": "code",
      "execution_count": 23,
      "metadata": {
        "colab": {
          "base_uri": "https://localhost:8080/",
          "height": 609
        },
        "id": "iPlWe3oZbmrp",
        "outputId": "9b7c0c8f-af01-4025-a379-0e005d7b637a"
      },
      "outputs": [
        {
          "data": {
            "text/html": [
              "<div>\n",
              "<style scoped>\n",
              "    .dataframe tbody tr th:only-of-type {\n",
              "        vertical-align: middle;\n",
              "    }\n",
              "\n",
              "    .dataframe tbody tr th {\n",
              "        vertical-align: top;\n",
              "    }\n",
              "\n",
              "    .dataframe thead th {\n",
              "        text-align: right;\n",
              "    }\n",
              "</style>\n",
              "<table border=\"1\" class=\"dataframe\">\n",
              "  <thead>\n",
              "    <tr style=\"text-align: right;\">\n",
              "      <th></th>\n",
              "      <th>number</th>\n",
              "      <th>value</th>\n",
              "      <th>datetime_start</th>\n",
              "      <th>datetime_complete</th>\n",
              "      <th>duration</th>\n",
              "      <th>params_bagging_fraction</th>\n",
              "      <th>params_bagging_freq</th>\n",
              "      <th>params_feature_fraction</th>\n",
              "      <th>params_lambda_l1</th>\n",
              "      <th>params_lambda_l2</th>\n",
              "      <th>params_learning_rate</th>\n",
              "      <th>params_max_depth</th>\n",
              "      <th>params_num_leaves</th>\n",
              "      <th>params_subsample</th>\n",
              "      <th>system_attrs_completed_rung_0</th>\n",
              "      <th>system_attrs_completed_rung_1</th>\n",
              "      <th>system_attrs_completed_rung_2</th>\n",
              "      <th>system_attrs_completed_rung_3</th>\n",
              "      <th>system_attrs_completed_rung_4</th>\n",
              "      <th>state</th>\n",
              "    </tr>\n",
              "  </thead>\n",
              "  <tbody>\n",
              "    <tr>\n",
              "      <th>0</th>\n",
              "      <td>0</td>\n",
              "      <td>0.484188</td>\n",
              "      <td>2021-11-08 17:46:05.020412</td>\n",
              "      <td>2021-11-08 17:46:05.526556</td>\n",
              "      <td>0 days 00:00:00.506144</td>\n",
              "      <td>0.517013</td>\n",
              "      <td>9</td>\n",
              "      <td>0.450252</td>\n",
              "      <td>8.900256</td>\n",
              "      <td>0.380932</td>\n",
              "      <td>0.022586</td>\n",
              "      <td>47</td>\n",
              "      <td>81</td>\n",
              "      <td>0.7</td>\n",
              "      <td>NaN</td>\n",
              "      <td>NaN</td>\n",
              "      <td>NaN</td>\n",
              "      <td>NaN</td>\n",
              "      <td>NaN</td>\n",
              "      <td>COMPLETE</td>\n",
              "    </tr>\n",
              "    <tr>\n",
              "      <th>1</th>\n",
              "      <td>1</td>\n",
              "      <td>0.638109</td>\n",
              "      <td>2021-11-08 17:46:05.526556</td>\n",
              "      <td>2021-11-08 17:46:06.202228</td>\n",
              "      <td>0 days 00:00:00.675672</td>\n",
              "      <td>0.268617</td>\n",
              "      <td>1</td>\n",
              "      <td>0.256046</td>\n",
              "      <td>1.175265</td>\n",
              "      <td>4.849826</td>\n",
              "      <td>0.014713</td>\n",
              "      <td>31</td>\n",
              "      <td>162</td>\n",
              "      <td>0.5</td>\n",
              "      <td>0.638109</td>\n",
              "      <td>0.638109</td>\n",
              "      <td>0.638109</td>\n",
              "      <td>0.638109</td>\n",
              "      <td>NaN</td>\n",
              "      <td>COMPLETE</td>\n",
              "    </tr>\n",
              "    <tr>\n",
              "      <th>2</th>\n",
              "      <td>2</td>\n",
              "      <td>0.645405</td>\n",
              "      <td>2021-11-08 17:46:06.202228</td>\n",
              "      <td>2021-11-08 17:46:06.484389</td>\n",
              "      <td>0 days 00:00:00.282161</td>\n",
              "      <td>0.662681</td>\n",
              "      <td>10</td>\n",
              "      <td>0.300802</td>\n",
              "      <td>0.860606</td>\n",
              "      <td>4.535342</td>\n",
              "      <td>0.014625</td>\n",
              "      <td>6</td>\n",
              "      <td>191</td>\n",
              "      <td>0.9</td>\n",
              "      <td>0.645405</td>\n",
              "      <td>0.645405</td>\n",
              "      <td>0.645405</td>\n",
              "      <td>0.645405</td>\n",
              "      <td>0.645405</td>\n",
              "      <td>COMPLETE</td>\n",
              "    </tr>\n",
              "    <tr>\n",
              "      <th>3</th>\n",
              "      <td>3</td>\n",
              "      <td>0.613360</td>\n",
              "      <td>2021-11-08 17:46:06.484389</td>\n",
              "      <td>2021-11-08 17:46:06.756240</td>\n",
              "      <td>0 days 00:00:00.271851</td>\n",
              "      <td>0.949791</td>\n",
              "      <td>1</td>\n",
              "      <td>0.173212</td>\n",
              "      <td>8.415879</td>\n",
              "      <td>5.046355</td>\n",
              "      <td>0.035016</td>\n",
              "      <td>31</td>\n",
              "      <td>58</td>\n",
              "      <td>1.0</td>\n",
              "      <td>0.613360</td>\n",
              "      <td>0.613360</td>\n",
              "      <td>0.613360</td>\n",
              "      <td>0.613360</td>\n",
              "      <td>0.613360</td>\n",
              "      <td>COMPLETE</td>\n",
              "    </tr>\n",
              "    <tr>\n",
              "      <th>4</th>\n",
              "      <td>4</td>\n",
              "      <td>0.625465</td>\n",
              "      <td>2021-11-08 17:46:06.764264</td>\n",
              "      <td>2021-11-08 17:46:07.612487</td>\n",
              "      <td>0 days 00:00:00.848223</td>\n",
              "      <td>0.438137</td>\n",
              "      <td>10</td>\n",
              "      <td>0.254125</td>\n",
              "      <td>2.570487</td>\n",
              "      <td>2.399111</td>\n",
              "      <td>0.015535</td>\n",
              "      <td>28</td>\n",
              "      <td>188</td>\n",
              "      <td>0.7</td>\n",
              "      <td>0.625465</td>\n",
              "      <td>0.625465</td>\n",
              "      <td>NaN</td>\n",
              "      <td>NaN</td>\n",
              "      <td>NaN</td>\n",
              "      <td>COMPLETE</td>\n",
              "    </tr>\n",
              "    <tr>\n",
              "      <th>...</th>\n",
              "      <td>...</td>\n",
              "      <td>...</td>\n",
              "      <td>...</td>\n",
              "      <td>...</td>\n",
              "      <td>...</td>\n",
              "      <td>...</td>\n",
              "      <td>...</td>\n",
              "      <td>...</td>\n",
              "      <td>...</td>\n",
              "      <td>...</td>\n",
              "      <td>...</td>\n",
              "      <td>...</td>\n",
              "      <td>...</td>\n",
              "      <td>...</td>\n",
              "      <td>...</td>\n",
              "      <td>...</td>\n",
              "      <td>...</td>\n",
              "      <td>...</td>\n",
              "      <td>...</td>\n",
              "      <td>...</td>\n",
              "    </tr>\n",
              "    <tr>\n",
              "      <th>395</th>\n",
              "      <td>395</td>\n",
              "      <td>0.423763</td>\n",
              "      <td>2021-11-08 17:51:56.498623</td>\n",
              "      <td>2021-11-08 17:51:57.206974</td>\n",
              "      <td>0 days 00:00:00.708351</td>\n",
              "      <td>0.906071</td>\n",
              "      <td>3</td>\n",
              "      <td>0.554998</td>\n",
              "      <td>9.801587</td>\n",
              "      <td>3.329278</td>\n",
              "      <td>0.073386</td>\n",
              "      <td>18</td>\n",
              "      <td>165</td>\n",
              "      <td>0.2</td>\n",
              "      <td>0.423763</td>\n",
              "      <td>NaN</td>\n",
              "      <td>NaN</td>\n",
              "      <td>NaN</td>\n",
              "      <td>NaN</td>\n",
              "      <td>PRUNED</td>\n",
              "    </tr>\n",
              "    <tr>\n",
              "      <th>396</th>\n",
              "      <td>396</td>\n",
              "      <td>0.489054</td>\n",
              "      <td>2021-11-08 17:51:57.207973</td>\n",
              "      <td>2021-11-08 17:51:58.227605</td>\n",
              "      <td>0 days 00:00:01.019632</td>\n",
              "      <td>0.707287</td>\n",
              "      <td>2</td>\n",
              "      <td>0.236664</td>\n",
              "      <td>1.665786</td>\n",
              "      <td>3.918632</td>\n",
              "      <td>0.077225</td>\n",
              "      <td>33</td>\n",
              "      <td>164</td>\n",
              "      <td>0.2</td>\n",
              "      <td>0.489054</td>\n",
              "      <td>NaN</td>\n",
              "      <td>NaN</td>\n",
              "      <td>NaN</td>\n",
              "      <td>NaN</td>\n",
              "      <td>PRUNED</td>\n",
              "    </tr>\n",
              "    <tr>\n",
              "      <th>397</th>\n",
              "      <td>397</td>\n",
              "      <td>0.398724</td>\n",
              "      <td>2021-11-08 17:51:58.227605</td>\n",
              "      <td>2021-11-08 17:51:59.311321</td>\n",
              "      <td>0 days 00:00:01.083716</td>\n",
              "      <td>0.968729</td>\n",
              "      <td>3</td>\n",
              "      <td>0.604341</td>\n",
              "      <td>5.239395</td>\n",
              "      <td>3.498675</td>\n",
              "      <td>0.066325</td>\n",
              "      <td>18</td>\n",
              "      <td>162</td>\n",
              "      <td>0.2</td>\n",
              "      <td>0.398724</td>\n",
              "      <td>NaN</td>\n",
              "      <td>NaN</td>\n",
              "      <td>NaN</td>\n",
              "      <td>NaN</td>\n",
              "      <td>PRUNED</td>\n",
              "    </tr>\n",
              "    <tr>\n",
              "      <th>398</th>\n",
              "      <td>398</td>\n",
              "      <td>0.396046</td>\n",
              "      <td>2021-11-08 17:51:59.311321</td>\n",
              "      <td>2021-11-08 17:52:00.502426</td>\n",
              "      <td>0 days 00:00:01.191105</td>\n",
              "      <td>0.963281</td>\n",
              "      <td>1</td>\n",
              "      <td>0.834216</td>\n",
              "      <td>1.059878</td>\n",
              "      <td>2.260559</td>\n",
              "      <td>0.063142</td>\n",
              "      <td>30</td>\n",
              "      <td>181</td>\n",
              "      <td>0.3</td>\n",
              "      <td>0.396046</td>\n",
              "      <td>0.396046</td>\n",
              "      <td>0.396046</td>\n",
              "      <td>NaN</td>\n",
              "      <td>NaN</td>\n",
              "      <td>COMPLETE</td>\n",
              "    </tr>\n",
              "    <tr>\n",
              "      <th>399</th>\n",
              "      <td>399</td>\n",
              "      <td>0.397766</td>\n",
              "      <td>2021-11-08 17:52:00.504427</td>\n",
              "      <td>2021-11-08 17:52:01.594865</td>\n",
              "      <td>0 days 00:00:01.090438</td>\n",
              "      <td>0.860080</td>\n",
              "      <td>3</td>\n",
              "      <td>0.579711</td>\n",
              "      <td>1.683567</td>\n",
              "      <td>3.762414</td>\n",
              "      <td>0.095985</td>\n",
              "      <td>17</td>\n",
              "      <td>170</td>\n",
              "      <td>0.3</td>\n",
              "      <td>0.397766</td>\n",
              "      <td>NaN</td>\n",
              "      <td>NaN</td>\n",
              "      <td>NaN</td>\n",
              "      <td>NaN</td>\n",
              "      <td>PRUNED</td>\n",
              "    </tr>\n",
              "  </tbody>\n",
              "</table>\n",
              "<p>400 rows × 20 columns</p>\n",
              "</div>"
            ],
            "text/plain": [
              "     number     value             datetime_start          datetime_complete  \\\n",
              "0         0  0.484188 2021-11-08 17:46:05.020412 2021-11-08 17:46:05.526556   \n",
              "1         1  0.638109 2021-11-08 17:46:05.526556 2021-11-08 17:46:06.202228   \n",
              "2         2  0.645405 2021-11-08 17:46:06.202228 2021-11-08 17:46:06.484389   \n",
              "3         3  0.613360 2021-11-08 17:46:06.484389 2021-11-08 17:46:06.756240   \n",
              "4         4  0.625465 2021-11-08 17:46:06.764264 2021-11-08 17:46:07.612487   \n",
              "..      ...       ...                        ...                        ...   \n",
              "395     395  0.423763 2021-11-08 17:51:56.498623 2021-11-08 17:51:57.206974   \n",
              "396     396  0.489054 2021-11-08 17:51:57.207973 2021-11-08 17:51:58.227605   \n",
              "397     397  0.398724 2021-11-08 17:51:58.227605 2021-11-08 17:51:59.311321   \n",
              "398     398  0.396046 2021-11-08 17:51:59.311321 2021-11-08 17:52:00.502426   \n",
              "399     399  0.397766 2021-11-08 17:52:00.504427 2021-11-08 17:52:01.594865   \n",
              "\n",
              "                  duration  params_bagging_fraction  params_bagging_freq  \\\n",
              "0   0 days 00:00:00.506144                 0.517013                    9   \n",
              "1   0 days 00:00:00.675672                 0.268617                    1   \n",
              "2   0 days 00:00:00.282161                 0.662681                   10   \n",
              "3   0 days 00:00:00.271851                 0.949791                    1   \n",
              "4   0 days 00:00:00.848223                 0.438137                   10   \n",
              "..                     ...                      ...                  ...   \n",
              "395 0 days 00:00:00.708351                 0.906071                    3   \n",
              "396 0 days 00:00:01.019632                 0.707287                    2   \n",
              "397 0 days 00:00:01.083716                 0.968729                    3   \n",
              "398 0 days 00:00:01.191105                 0.963281                    1   \n",
              "399 0 days 00:00:01.090438                 0.860080                    3   \n",
              "\n",
              "     params_feature_fraction  params_lambda_l1  params_lambda_l2  \\\n",
              "0                   0.450252          8.900256          0.380932   \n",
              "1                   0.256046          1.175265          4.849826   \n",
              "2                   0.300802          0.860606          4.535342   \n",
              "3                   0.173212          8.415879          5.046355   \n",
              "4                   0.254125          2.570487          2.399111   \n",
              "..                       ...               ...               ...   \n",
              "395                 0.554998          9.801587          3.329278   \n",
              "396                 0.236664          1.665786          3.918632   \n",
              "397                 0.604341          5.239395          3.498675   \n",
              "398                 0.834216          1.059878          2.260559   \n",
              "399                 0.579711          1.683567          3.762414   \n",
              "\n",
              "     params_learning_rate  params_max_depth  params_num_leaves  \\\n",
              "0                0.022586                47                 81   \n",
              "1                0.014713                31                162   \n",
              "2                0.014625                 6                191   \n",
              "3                0.035016                31                 58   \n",
              "4                0.015535                28                188   \n",
              "..                    ...               ...                ...   \n",
              "395              0.073386                18                165   \n",
              "396              0.077225                33                164   \n",
              "397              0.066325                18                162   \n",
              "398              0.063142                30                181   \n",
              "399              0.095985                17                170   \n",
              "\n",
              "     params_subsample  system_attrs_completed_rung_0  \\\n",
              "0                 0.7                            NaN   \n",
              "1                 0.5                       0.638109   \n",
              "2                 0.9                       0.645405   \n",
              "3                 1.0                       0.613360   \n",
              "4                 0.7                       0.625465   \n",
              "..                ...                            ...   \n",
              "395               0.2                       0.423763   \n",
              "396               0.2                       0.489054   \n",
              "397               0.2                       0.398724   \n",
              "398               0.3                       0.396046   \n",
              "399               0.3                       0.397766   \n",
              "\n",
              "     system_attrs_completed_rung_1  system_attrs_completed_rung_2  \\\n",
              "0                              NaN                            NaN   \n",
              "1                         0.638109                       0.638109   \n",
              "2                         0.645405                       0.645405   \n",
              "3                         0.613360                       0.613360   \n",
              "4                         0.625465                            NaN   \n",
              "..                             ...                            ...   \n",
              "395                            NaN                            NaN   \n",
              "396                            NaN                            NaN   \n",
              "397                            NaN                            NaN   \n",
              "398                       0.396046                       0.396046   \n",
              "399                            NaN                            NaN   \n",
              "\n",
              "     system_attrs_completed_rung_3  system_attrs_completed_rung_4     state  \n",
              "0                              NaN                            NaN  COMPLETE  \n",
              "1                         0.638109                            NaN  COMPLETE  \n",
              "2                         0.645405                       0.645405  COMPLETE  \n",
              "3                         0.613360                       0.613360  COMPLETE  \n",
              "4                              NaN                            NaN  COMPLETE  \n",
              "..                             ...                            ...       ...  \n",
              "395                            NaN                            NaN    PRUNED  \n",
              "396                            NaN                            NaN    PRUNED  \n",
              "397                            NaN                            NaN    PRUNED  \n",
              "398                            NaN                            NaN  COMPLETE  \n",
              "399                            NaN                            NaN    PRUNED  \n",
              "\n",
              "[400 rows x 20 columns]"
            ]
          },
          "execution_count": 23,
          "metadata": {},
          "output_type": "execute_result"
        }
      ],
      "source": [
        "trials_df = study_bohb.trials_dataframe()\n",
        "trials_df"
      ]
    },
    {
      "cell_type": "markdown",
      "metadata": {},
      "source": [
        "We can see that the optimization history plot for the BOHB shows a decreasing pattern. \n",
        "In the earlier trials, the algorithm makes big leaps forward in its performance (after about 60 trials, the model has already surpassed random search).    \n",
        "After that, there is a long stretch where the model barely improves.\n",
        "\n",
        "We can also notice that the optimization results become increasingly less variable. This is due to the pruning strategy. There are far less big jumps in the model performance and the model results are close together."
      ]
    },
    {
      "cell_type": "code",
      "execution_count": 24,
      "metadata": {},
      "outputs": [
        {
          "data": {
            "application/vnd.plotly.v1+json": {
              "config": {
                "plotlyServerURL": "https://plot.ly"
              },
              "data": [
                {
                  "mode": "markers",
                  "name": "Objective Value",
                  "type": "scatter",
                  "x": [
                    0,
                    1,
                    2,
                    3,
                    4,
                    5,
                    9,
                    11,
                    12,
                    14,
                    15,
                    19,
                    24,
                    27,
                    31,
                    32,
                    38,
                    45,
                    46,
                    47,
                    56,
                    58,
                    59,
                    60,
                    61,
                    63,
                    67,
                    69,
                    70,
                    72,
                    75,
                    80,
                    82,
                    84,
                    92,
                    93,
                    95,
                    99,
                    100,
                    104,
                    106,
                    108,
                    125,
                    133,
                    143,
                    145,
                    148,
                    150,
                    151,
                    158,
                    167,
                    175,
                    177,
                    183,
                    190,
                    192,
                    201,
                    205,
                    217,
                    218,
                    224,
                    228,
                    240,
                    241,
                    242,
                    253,
                    258,
                    260,
                    263,
                    264,
                    267,
                    269,
                    270,
                    271,
                    274,
                    277,
                    285,
                    287,
                    291,
                    296,
                    297,
                    307,
                    315,
                    316,
                    318,
                    319,
                    321,
                    329,
                    335,
                    340,
                    342,
                    351,
                    355,
                    363,
                    369,
                    373,
                    375,
                    383,
                    387,
                    390,
                    392,
                    393,
                    398
                  ],
                  "y": [
                    0.4841883832862934,
                    0.6381090661203797,
                    0.6454050071551597,
                    0.613359795778066,
                    0.6254652065235652,
                    0.40494794698708025,
                    0.4865479241831563,
                    0.3997466581374875,
                    0.40601773082712345,
                    0.5519037602852193,
                    0.4791076353553249,
                    0.42796767068563196,
                    0.4136794129908068,
                    0.3975041865605588,
                    0.4161730116444901,
                    0.3989594659716585,
                    0.4174786243315373,
                    0.3988591007678517,
                    0.3974783349981576,
                    0.4116953508591068,
                    0.3979916449170602,
                    0.3971227965466615,
                    0.3933518858646489,
                    0.3960742946556223,
                    0.4101939294640818,
                    0.3955244753199988,
                    0.40369244495255924,
                    0.4094195318135425,
                    0.3984033195983795,
                    0.4031384890589754,
                    0.3943867825296045,
                    0.3931418030159253,
                    0.39510333983457796,
                    0.3967755215158326,
                    0.40323780870242926,
                    0.3955063360837263,
                    0.39656953121854777,
                    0.3946469666257386,
                    0.39417966536052834,
                    0.39257682757458573,
                    0.3936048317235989,
                    0.4005929277938314,
                    0.4036569143474376,
                    0.39511714104272483,
                    0.39387865535606786,
                    0.3935984108653237,
                    0.3930013213000103,
                    0.4020456725778528,
                    0.39360968688763953,
                    0.39114518689931493,
                    0.3925450529356618,
                    0.39301434623070286,
                    0.39211735959132943,
                    0.39343526032408027,
                    0.39231416202983405,
                    0.3913536167650509,
                    0.3927344182143409,
                    0.4008609891850287,
                    0.3948969052885311,
                    0.3923948814780071,
                    0.3923262511836064,
                    0.4169147919075664,
                    0.41458023971970115,
                    0.40879487514904855,
                    0.3960931484896128,
                    0.4025971705666202,
                    0.39952498671662373,
                    0.3947418916876338,
                    0.39182336218644315,
                    0.39215888589865977,
                    0.3924587749536706,
                    0.40304692359673566,
                    0.3923455668682737,
                    0.39240600376219975,
                    0.41348343169958107,
                    0.39233553934072457,
                    0.40150105427373,
                    0.39420868400304077,
                    0.40037835932404575,
                    0.40040981078888616,
                    0.3921095649773873,
                    0.39598784087189864,
                    0.39622546704157396,
                    0.39134626269478856,
                    0.3953139869807683,
                    0.4061986543159781,
                    0.3918950427262505,
                    0.39156949413891473,
                    0.4009280938053731,
                    0.3966816501274369,
                    0.3921658931139085,
                    0.3958146484787168,
                    0.3966718207087215,
                    0.39209330140772314,
                    0.394633625733407,
                    0.39167037783385256,
                    0.39152532083544905,
                    0.3962937976406004,
                    0.3922843129549211,
                    0.39174767818931416,
                    0.39114128987333147,
                    0.3918751609459709,
                    0.3960459329237222
                  ]
                },
                {
                  "name": "Best Value",
                  "type": "scatter",
                  "x": [
                    0,
                    1,
                    2,
                    3,
                    4,
                    5,
                    9,
                    11,
                    12,
                    14,
                    15,
                    19,
                    24,
                    27,
                    31,
                    32,
                    38,
                    45,
                    46,
                    47,
                    56,
                    58,
                    59,
                    60,
                    61,
                    63,
                    67,
                    69,
                    70,
                    72,
                    75,
                    80,
                    82,
                    84,
                    92,
                    93,
                    95,
                    99,
                    100,
                    104,
                    106,
                    108,
                    125,
                    133,
                    143,
                    145,
                    148,
                    150,
                    151,
                    158,
                    167,
                    175,
                    177,
                    183,
                    190,
                    192,
                    201,
                    205,
                    217,
                    218,
                    224,
                    228,
                    240,
                    241,
                    242,
                    253,
                    258,
                    260,
                    263,
                    264,
                    267,
                    269,
                    270,
                    271,
                    274,
                    277,
                    285,
                    287,
                    291,
                    296,
                    297,
                    307,
                    315,
                    316,
                    318,
                    319,
                    321,
                    329,
                    335,
                    340,
                    342,
                    351,
                    355,
                    363,
                    369,
                    373,
                    375,
                    383,
                    387,
                    390,
                    392,
                    393,
                    398
                  ],
                  "y": [
                    0.4841883832862934,
                    0.4841883832862934,
                    0.4841883832862934,
                    0.4841883832862934,
                    0.4841883832862934,
                    0.40494794698708025,
                    0.40494794698708025,
                    0.3997466581374875,
                    0.3997466581374875,
                    0.3997466581374875,
                    0.3997466581374875,
                    0.3997466581374875,
                    0.3997466581374875,
                    0.3975041865605588,
                    0.3975041865605588,
                    0.3975041865605588,
                    0.3975041865605588,
                    0.3975041865605588,
                    0.3974783349981576,
                    0.3974783349981576,
                    0.3974783349981576,
                    0.3971227965466615,
                    0.3933518858646489,
                    0.3933518858646489,
                    0.3933518858646489,
                    0.3933518858646489,
                    0.3933518858646489,
                    0.3933518858646489,
                    0.3933518858646489,
                    0.3933518858646489,
                    0.3933518858646489,
                    0.3931418030159253,
                    0.3931418030159253,
                    0.3931418030159253,
                    0.3931418030159253,
                    0.3931418030159253,
                    0.3931418030159253,
                    0.3931418030159253,
                    0.3931418030159253,
                    0.39257682757458573,
                    0.39257682757458573,
                    0.39257682757458573,
                    0.39257682757458573,
                    0.39257682757458573,
                    0.39257682757458573,
                    0.39257682757458573,
                    0.39257682757458573,
                    0.39257682757458573,
                    0.39257682757458573,
                    0.39114518689931493,
                    0.39114518689931493,
                    0.39114518689931493,
                    0.39114518689931493,
                    0.39114518689931493,
                    0.39114518689931493,
                    0.39114518689931493,
                    0.39114518689931493,
                    0.39114518689931493,
                    0.39114518689931493,
                    0.39114518689931493,
                    0.39114518689931493,
                    0.39114518689931493,
                    0.39114518689931493,
                    0.39114518689931493,
                    0.39114518689931493,
                    0.39114518689931493,
                    0.39114518689931493,
                    0.39114518689931493,
                    0.39114518689931493,
                    0.39114518689931493,
                    0.39114518689931493,
                    0.39114518689931493,
                    0.39114518689931493,
                    0.39114518689931493,
                    0.39114518689931493,
                    0.39114518689931493,
                    0.39114518689931493,
                    0.39114518689931493,
                    0.39114518689931493,
                    0.39114518689931493,
                    0.39114518689931493,
                    0.39114518689931493,
                    0.39114518689931493,
                    0.39114518689931493,
                    0.39114518689931493,
                    0.39114518689931493,
                    0.39114518689931493,
                    0.39114518689931493,
                    0.39114518689931493,
                    0.39114518689931493,
                    0.39114518689931493,
                    0.39114518689931493,
                    0.39114518689931493,
                    0.39114518689931493,
                    0.39114518689931493,
                    0.39114518689931493,
                    0.39114518689931493,
                    0.39114518689931493,
                    0.39114518689931493,
                    0.39114518689931493,
                    0.39114128987333147,
                    0.39114128987333147,
                    0.39114128987333147
                  ]
                }
              ],
              "layout": {
                "template": {
                  "data": {
                    "bar": [
                      {
                        "error_x": {
                          "color": "#2a3f5f"
                        },
                        "error_y": {
                          "color": "#2a3f5f"
                        },
                        "marker": {
                          "line": {
                            "color": "#E5ECF6",
                            "width": 0.5
                          },
                          "pattern": {
                            "fillmode": "overlay",
                            "size": 10,
                            "solidity": 0.2
                          }
                        },
                        "type": "bar"
                      }
                    ],
                    "barpolar": [
                      {
                        "marker": {
                          "line": {
                            "color": "#E5ECF6",
                            "width": 0.5
                          },
                          "pattern": {
                            "fillmode": "overlay",
                            "size": 10,
                            "solidity": 0.2
                          }
                        },
                        "type": "barpolar"
                      }
                    ],
                    "carpet": [
                      {
                        "aaxis": {
                          "endlinecolor": "#2a3f5f",
                          "gridcolor": "white",
                          "linecolor": "white",
                          "minorgridcolor": "white",
                          "startlinecolor": "#2a3f5f"
                        },
                        "baxis": {
                          "endlinecolor": "#2a3f5f",
                          "gridcolor": "white",
                          "linecolor": "white",
                          "minorgridcolor": "white",
                          "startlinecolor": "#2a3f5f"
                        },
                        "type": "carpet"
                      }
                    ],
                    "choropleth": [
                      {
                        "colorbar": {
                          "outlinewidth": 0,
                          "ticks": ""
                        },
                        "type": "choropleth"
                      }
                    ],
                    "contour": [
                      {
                        "colorbar": {
                          "outlinewidth": 0,
                          "ticks": ""
                        },
                        "colorscale": [
                          [
                            0,
                            "#0d0887"
                          ],
                          [
                            0.1111111111111111,
                            "#46039f"
                          ],
                          [
                            0.2222222222222222,
                            "#7201a8"
                          ],
                          [
                            0.3333333333333333,
                            "#9c179e"
                          ],
                          [
                            0.4444444444444444,
                            "#bd3786"
                          ],
                          [
                            0.5555555555555556,
                            "#d8576b"
                          ],
                          [
                            0.6666666666666666,
                            "#ed7953"
                          ],
                          [
                            0.7777777777777778,
                            "#fb9f3a"
                          ],
                          [
                            0.8888888888888888,
                            "#fdca26"
                          ],
                          [
                            1,
                            "#f0f921"
                          ]
                        ],
                        "type": "contour"
                      }
                    ],
                    "contourcarpet": [
                      {
                        "colorbar": {
                          "outlinewidth": 0,
                          "ticks": ""
                        },
                        "type": "contourcarpet"
                      }
                    ],
                    "heatmap": [
                      {
                        "colorbar": {
                          "outlinewidth": 0,
                          "ticks": ""
                        },
                        "colorscale": [
                          [
                            0,
                            "#0d0887"
                          ],
                          [
                            0.1111111111111111,
                            "#46039f"
                          ],
                          [
                            0.2222222222222222,
                            "#7201a8"
                          ],
                          [
                            0.3333333333333333,
                            "#9c179e"
                          ],
                          [
                            0.4444444444444444,
                            "#bd3786"
                          ],
                          [
                            0.5555555555555556,
                            "#d8576b"
                          ],
                          [
                            0.6666666666666666,
                            "#ed7953"
                          ],
                          [
                            0.7777777777777778,
                            "#fb9f3a"
                          ],
                          [
                            0.8888888888888888,
                            "#fdca26"
                          ],
                          [
                            1,
                            "#f0f921"
                          ]
                        ],
                        "type": "heatmap"
                      }
                    ],
                    "heatmapgl": [
                      {
                        "colorbar": {
                          "outlinewidth": 0,
                          "ticks": ""
                        },
                        "colorscale": [
                          [
                            0,
                            "#0d0887"
                          ],
                          [
                            0.1111111111111111,
                            "#46039f"
                          ],
                          [
                            0.2222222222222222,
                            "#7201a8"
                          ],
                          [
                            0.3333333333333333,
                            "#9c179e"
                          ],
                          [
                            0.4444444444444444,
                            "#bd3786"
                          ],
                          [
                            0.5555555555555556,
                            "#d8576b"
                          ],
                          [
                            0.6666666666666666,
                            "#ed7953"
                          ],
                          [
                            0.7777777777777778,
                            "#fb9f3a"
                          ],
                          [
                            0.8888888888888888,
                            "#fdca26"
                          ],
                          [
                            1,
                            "#f0f921"
                          ]
                        ],
                        "type": "heatmapgl"
                      }
                    ],
                    "histogram": [
                      {
                        "marker": {
                          "pattern": {
                            "fillmode": "overlay",
                            "size": 10,
                            "solidity": 0.2
                          }
                        },
                        "type": "histogram"
                      }
                    ],
                    "histogram2d": [
                      {
                        "colorbar": {
                          "outlinewidth": 0,
                          "ticks": ""
                        },
                        "colorscale": [
                          [
                            0,
                            "#0d0887"
                          ],
                          [
                            0.1111111111111111,
                            "#46039f"
                          ],
                          [
                            0.2222222222222222,
                            "#7201a8"
                          ],
                          [
                            0.3333333333333333,
                            "#9c179e"
                          ],
                          [
                            0.4444444444444444,
                            "#bd3786"
                          ],
                          [
                            0.5555555555555556,
                            "#d8576b"
                          ],
                          [
                            0.6666666666666666,
                            "#ed7953"
                          ],
                          [
                            0.7777777777777778,
                            "#fb9f3a"
                          ],
                          [
                            0.8888888888888888,
                            "#fdca26"
                          ],
                          [
                            1,
                            "#f0f921"
                          ]
                        ],
                        "type": "histogram2d"
                      }
                    ],
                    "histogram2dcontour": [
                      {
                        "colorbar": {
                          "outlinewidth": 0,
                          "ticks": ""
                        },
                        "colorscale": [
                          [
                            0,
                            "#0d0887"
                          ],
                          [
                            0.1111111111111111,
                            "#46039f"
                          ],
                          [
                            0.2222222222222222,
                            "#7201a8"
                          ],
                          [
                            0.3333333333333333,
                            "#9c179e"
                          ],
                          [
                            0.4444444444444444,
                            "#bd3786"
                          ],
                          [
                            0.5555555555555556,
                            "#d8576b"
                          ],
                          [
                            0.6666666666666666,
                            "#ed7953"
                          ],
                          [
                            0.7777777777777778,
                            "#fb9f3a"
                          ],
                          [
                            0.8888888888888888,
                            "#fdca26"
                          ],
                          [
                            1,
                            "#f0f921"
                          ]
                        ],
                        "type": "histogram2dcontour"
                      }
                    ],
                    "mesh3d": [
                      {
                        "colorbar": {
                          "outlinewidth": 0,
                          "ticks": ""
                        },
                        "type": "mesh3d"
                      }
                    ],
                    "parcoords": [
                      {
                        "line": {
                          "colorbar": {
                            "outlinewidth": 0,
                            "ticks": ""
                          }
                        },
                        "type": "parcoords"
                      }
                    ],
                    "pie": [
                      {
                        "automargin": true,
                        "type": "pie"
                      }
                    ],
                    "scatter": [
                      {
                        "marker": {
                          "colorbar": {
                            "outlinewidth": 0,
                            "ticks": ""
                          }
                        },
                        "type": "scatter"
                      }
                    ],
                    "scatter3d": [
                      {
                        "line": {
                          "colorbar": {
                            "outlinewidth": 0,
                            "ticks": ""
                          }
                        },
                        "marker": {
                          "colorbar": {
                            "outlinewidth": 0,
                            "ticks": ""
                          }
                        },
                        "type": "scatter3d"
                      }
                    ],
                    "scattercarpet": [
                      {
                        "marker": {
                          "colorbar": {
                            "outlinewidth": 0,
                            "ticks": ""
                          }
                        },
                        "type": "scattercarpet"
                      }
                    ],
                    "scattergeo": [
                      {
                        "marker": {
                          "colorbar": {
                            "outlinewidth": 0,
                            "ticks": ""
                          }
                        },
                        "type": "scattergeo"
                      }
                    ],
                    "scattergl": [
                      {
                        "marker": {
                          "colorbar": {
                            "outlinewidth": 0,
                            "ticks": ""
                          }
                        },
                        "type": "scattergl"
                      }
                    ],
                    "scattermapbox": [
                      {
                        "marker": {
                          "colorbar": {
                            "outlinewidth": 0,
                            "ticks": ""
                          }
                        },
                        "type": "scattermapbox"
                      }
                    ],
                    "scatterpolar": [
                      {
                        "marker": {
                          "colorbar": {
                            "outlinewidth": 0,
                            "ticks": ""
                          }
                        },
                        "type": "scatterpolar"
                      }
                    ],
                    "scatterpolargl": [
                      {
                        "marker": {
                          "colorbar": {
                            "outlinewidth": 0,
                            "ticks": ""
                          }
                        },
                        "type": "scatterpolargl"
                      }
                    ],
                    "scatterternary": [
                      {
                        "marker": {
                          "colorbar": {
                            "outlinewidth": 0,
                            "ticks": ""
                          }
                        },
                        "type": "scatterternary"
                      }
                    ],
                    "surface": [
                      {
                        "colorbar": {
                          "outlinewidth": 0,
                          "ticks": ""
                        },
                        "colorscale": [
                          [
                            0,
                            "#0d0887"
                          ],
                          [
                            0.1111111111111111,
                            "#46039f"
                          ],
                          [
                            0.2222222222222222,
                            "#7201a8"
                          ],
                          [
                            0.3333333333333333,
                            "#9c179e"
                          ],
                          [
                            0.4444444444444444,
                            "#bd3786"
                          ],
                          [
                            0.5555555555555556,
                            "#d8576b"
                          ],
                          [
                            0.6666666666666666,
                            "#ed7953"
                          ],
                          [
                            0.7777777777777778,
                            "#fb9f3a"
                          ],
                          [
                            0.8888888888888888,
                            "#fdca26"
                          ],
                          [
                            1,
                            "#f0f921"
                          ]
                        ],
                        "type": "surface"
                      }
                    ],
                    "table": [
                      {
                        "cells": {
                          "fill": {
                            "color": "#EBF0F8"
                          },
                          "line": {
                            "color": "white"
                          }
                        },
                        "header": {
                          "fill": {
                            "color": "#C8D4E3"
                          },
                          "line": {
                            "color": "white"
                          }
                        },
                        "type": "table"
                      }
                    ]
                  },
                  "layout": {
                    "annotationdefaults": {
                      "arrowcolor": "#2a3f5f",
                      "arrowhead": 0,
                      "arrowwidth": 1
                    },
                    "autotypenumbers": "strict",
                    "coloraxis": {
                      "colorbar": {
                        "outlinewidth": 0,
                        "ticks": ""
                      }
                    },
                    "colorscale": {
                      "diverging": [
                        [
                          0,
                          "#8e0152"
                        ],
                        [
                          0.1,
                          "#c51b7d"
                        ],
                        [
                          0.2,
                          "#de77ae"
                        ],
                        [
                          0.3,
                          "#f1b6da"
                        ],
                        [
                          0.4,
                          "#fde0ef"
                        ],
                        [
                          0.5,
                          "#f7f7f7"
                        ],
                        [
                          0.6,
                          "#e6f5d0"
                        ],
                        [
                          0.7,
                          "#b8e186"
                        ],
                        [
                          0.8,
                          "#7fbc41"
                        ],
                        [
                          0.9,
                          "#4d9221"
                        ],
                        [
                          1,
                          "#276419"
                        ]
                      ],
                      "sequential": [
                        [
                          0,
                          "#0d0887"
                        ],
                        [
                          0.1111111111111111,
                          "#46039f"
                        ],
                        [
                          0.2222222222222222,
                          "#7201a8"
                        ],
                        [
                          0.3333333333333333,
                          "#9c179e"
                        ],
                        [
                          0.4444444444444444,
                          "#bd3786"
                        ],
                        [
                          0.5555555555555556,
                          "#d8576b"
                        ],
                        [
                          0.6666666666666666,
                          "#ed7953"
                        ],
                        [
                          0.7777777777777778,
                          "#fb9f3a"
                        ],
                        [
                          0.8888888888888888,
                          "#fdca26"
                        ],
                        [
                          1,
                          "#f0f921"
                        ]
                      ],
                      "sequentialminus": [
                        [
                          0,
                          "#0d0887"
                        ],
                        [
                          0.1111111111111111,
                          "#46039f"
                        ],
                        [
                          0.2222222222222222,
                          "#7201a8"
                        ],
                        [
                          0.3333333333333333,
                          "#9c179e"
                        ],
                        [
                          0.4444444444444444,
                          "#bd3786"
                        ],
                        [
                          0.5555555555555556,
                          "#d8576b"
                        ],
                        [
                          0.6666666666666666,
                          "#ed7953"
                        ],
                        [
                          0.7777777777777778,
                          "#fb9f3a"
                        ],
                        [
                          0.8888888888888888,
                          "#fdca26"
                        ],
                        [
                          1,
                          "#f0f921"
                        ]
                      ]
                    },
                    "colorway": [
                      "#636efa",
                      "#EF553B",
                      "#00cc96",
                      "#ab63fa",
                      "#FFA15A",
                      "#19d3f3",
                      "#FF6692",
                      "#B6E880",
                      "#FF97FF",
                      "#FECB52"
                    ],
                    "font": {
                      "color": "#2a3f5f"
                    },
                    "geo": {
                      "bgcolor": "white",
                      "lakecolor": "white",
                      "landcolor": "#E5ECF6",
                      "showlakes": true,
                      "showland": true,
                      "subunitcolor": "white"
                    },
                    "hoverlabel": {
                      "align": "left"
                    },
                    "hovermode": "closest",
                    "mapbox": {
                      "style": "light"
                    },
                    "paper_bgcolor": "white",
                    "plot_bgcolor": "#E5ECF6",
                    "polar": {
                      "angularaxis": {
                        "gridcolor": "white",
                        "linecolor": "white",
                        "ticks": ""
                      },
                      "bgcolor": "#E5ECF6",
                      "radialaxis": {
                        "gridcolor": "white",
                        "linecolor": "white",
                        "ticks": ""
                      }
                    },
                    "scene": {
                      "xaxis": {
                        "backgroundcolor": "#E5ECF6",
                        "gridcolor": "white",
                        "gridwidth": 2,
                        "linecolor": "white",
                        "showbackground": true,
                        "ticks": "",
                        "zerolinecolor": "white"
                      },
                      "yaxis": {
                        "backgroundcolor": "#E5ECF6",
                        "gridcolor": "white",
                        "gridwidth": 2,
                        "linecolor": "white",
                        "showbackground": true,
                        "ticks": "",
                        "zerolinecolor": "white"
                      },
                      "zaxis": {
                        "backgroundcolor": "#E5ECF6",
                        "gridcolor": "white",
                        "gridwidth": 2,
                        "linecolor": "white",
                        "showbackground": true,
                        "ticks": "",
                        "zerolinecolor": "white"
                      }
                    },
                    "shapedefaults": {
                      "line": {
                        "color": "#2a3f5f"
                      }
                    },
                    "ternary": {
                      "aaxis": {
                        "gridcolor": "white",
                        "linecolor": "white",
                        "ticks": ""
                      },
                      "baxis": {
                        "gridcolor": "white",
                        "linecolor": "white",
                        "ticks": ""
                      },
                      "bgcolor": "#E5ECF6",
                      "caxis": {
                        "gridcolor": "white",
                        "linecolor": "white",
                        "ticks": ""
                      }
                    },
                    "title": {
                      "x": 0.05
                    },
                    "xaxis": {
                      "automargin": true,
                      "gridcolor": "white",
                      "linecolor": "white",
                      "ticks": "",
                      "title": {
                        "standoff": 15
                      },
                      "zerolinecolor": "white",
                      "zerolinewidth": 2
                    },
                    "yaxis": {
                      "automargin": true,
                      "gridcolor": "white",
                      "linecolor": "white",
                      "ticks": "",
                      "title": {
                        "standoff": 15
                      },
                      "zerolinecolor": "white",
                      "zerolinewidth": 2
                    }
                  }
                },
                "title": {
                  "text": "Optimization History Plot"
                },
                "xaxis": {
                  "title": {
                    "text": "#Trials"
                  }
                },
                "yaxis": {
                  "title": {
                    "text": "Objective Value"
                  }
                }
              }
            }
          },
          "metadata": {},
          "output_type": "display_data"
        }
      ],
      "source": [
        "optuna.visualization.plot_optimization_history(study_bohb)"
      ]
    },
    {
      "cell_type": "markdown",
      "metadata": {},
      "source": [
        "#### Hyperparameter Importance Plot\n",
        "In this plot, we can see the importance of our hyperparameters. It seems that feature fraction, the learning rate and the bagging fraction are (in order of importance) the most important hyperparameters for our model. \n",
        "The max depth, subsamples and penalization terms are, respectively, far less important to tune in our example. \n",
        "\n",
        "This plot might help us to more efficiently tune hyperparameters in the future (as some hyperparameters do not affect the model performance as much as others)."
      ]
    },
    {
      "cell_type": "code",
      "execution_count": 25,
      "metadata": {},
      "outputs": [
        {
          "data": {
            "application/vnd.plotly.v1+json": {
              "config": {
                "plotlyServerURL": "https://plot.ly"
              },
              "data": [
                {
                  "cliponaxis": false,
                  "hovertemplate": [
                    "max_depth (IntUniformDistribution): 0.00092203216602565<extra></extra>",
                    "lambda_l2 (UniformDistribution): 0.0010414184897260988<extra></extra>",
                    "subsample (DiscreteUniformDistribution): 0.0031837310327993656<extra></extra>",
                    "lambda_l1 (UniformDistribution): 0.003555966533873727<extra></extra>",
                    "num_leaves (IntUniformDistribution): 0.00753784759481992<extra></extra>",
                    "bagging_freq (IntUniformDistribution): 0.02031263843532671<extra></extra>",
                    "bagging_fraction (UniformDistribution): 0.11546462007674663<extra></extra>",
                    "learning_rate (LogUniformDistribution): 0.20918032012817372<extra></extra>",
                    "feature_fraction (UniformDistribution): 0.6388014255425083<extra></extra>"
                  ],
                  "marker": {
                    "color": "rgb(66,146,198)"
                  },
                  "orientation": "h",
                  "text": [
                    "0.00092203216602565",
                    "0.0010414184897260988",
                    "0.0031837310327993656",
                    "0.003555966533873727",
                    "0.00753784759481992",
                    "0.02031263843532671",
                    "0.11546462007674663",
                    "0.20918032012817372",
                    "0.6388014255425083"
                  ],
                  "textposition": "outside",
                  "texttemplate": "%{text:.2f}",
                  "type": "bar",
                  "x": [
                    0.00092203216602565,
                    0.0010414184897260988,
                    0.0031837310327993656,
                    0.003555966533873727,
                    0.00753784759481992,
                    0.02031263843532671,
                    0.11546462007674663,
                    0.20918032012817372,
                    0.6388014255425083
                  ],
                  "y": [
                    "max_depth",
                    "lambda_l2",
                    "subsample",
                    "lambda_l1",
                    "num_leaves",
                    "bagging_freq",
                    "bagging_fraction",
                    "learning_rate",
                    "feature_fraction"
                  ]
                }
              ],
              "layout": {
                "showlegend": false,
                "template": {
                  "data": {
                    "bar": [
                      {
                        "error_x": {
                          "color": "#2a3f5f"
                        },
                        "error_y": {
                          "color": "#2a3f5f"
                        },
                        "marker": {
                          "line": {
                            "color": "#E5ECF6",
                            "width": 0.5
                          },
                          "pattern": {
                            "fillmode": "overlay",
                            "size": 10,
                            "solidity": 0.2
                          }
                        },
                        "type": "bar"
                      }
                    ],
                    "barpolar": [
                      {
                        "marker": {
                          "line": {
                            "color": "#E5ECF6",
                            "width": 0.5
                          },
                          "pattern": {
                            "fillmode": "overlay",
                            "size": 10,
                            "solidity": 0.2
                          }
                        },
                        "type": "barpolar"
                      }
                    ],
                    "carpet": [
                      {
                        "aaxis": {
                          "endlinecolor": "#2a3f5f",
                          "gridcolor": "white",
                          "linecolor": "white",
                          "minorgridcolor": "white",
                          "startlinecolor": "#2a3f5f"
                        },
                        "baxis": {
                          "endlinecolor": "#2a3f5f",
                          "gridcolor": "white",
                          "linecolor": "white",
                          "minorgridcolor": "white",
                          "startlinecolor": "#2a3f5f"
                        },
                        "type": "carpet"
                      }
                    ],
                    "choropleth": [
                      {
                        "colorbar": {
                          "outlinewidth": 0,
                          "ticks": ""
                        },
                        "type": "choropleth"
                      }
                    ],
                    "contour": [
                      {
                        "colorbar": {
                          "outlinewidth": 0,
                          "ticks": ""
                        },
                        "colorscale": [
                          [
                            0,
                            "#0d0887"
                          ],
                          [
                            0.1111111111111111,
                            "#46039f"
                          ],
                          [
                            0.2222222222222222,
                            "#7201a8"
                          ],
                          [
                            0.3333333333333333,
                            "#9c179e"
                          ],
                          [
                            0.4444444444444444,
                            "#bd3786"
                          ],
                          [
                            0.5555555555555556,
                            "#d8576b"
                          ],
                          [
                            0.6666666666666666,
                            "#ed7953"
                          ],
                          [
                            0.7777777777777778,
                            "#fb9f3a"
                          ],
                          [
                            0.8888888888888888,
                            "#fdca26"
                          ],
                          [
                            1,
                            "#f0f921"
                          ]
                        ],
                        "type": "contour"
                      }
                    ],
                    "contourcarpet": [
                      {
                        "colorbar": {
                          "outlinewidth": 0,
                          "ticks": ""
                        },
                        "type": "contourcarpet"
                      }
                    ],
                    "heatmap": [
                      {
                        "colorbar": {
                          "outlinewidth": 0,
                          "ticks": ""
                        },
                        "colorscale": [
                          [
                            0,
                            "#0d0887"
                          ],
                          [
                            0.1111111111111111,
                            "#46039f"
                          ],
                          [
                            0.2222222222222222,
                            "#7201a8"
                          ],
                          [
                            0.3333333333333333,
                            "#9c179e"
                          ],
                          [
                            0.4444444444444444,
                            "#bd3786"
                          ],
                          [
                            0.5555555555555556,
                            "#d8576b"
                          ],
                          [
                            0.6666666666666666,
                            "#ed7953"
                          ],
                          [
                            0.7777777777777778,
                            "#fb9f3a"
                          ],
                          [
                            0.8888888888888888,
                            "#fdca26"
                          ],
                          [
                            1,
                            "#f0f921"
                          ]
                        ],
                        "type": "heatmap"
                      }
                    ],
                    "heatmapgl": [
                      {
                        "colorbar": {
                          "outlinewidth": 0,
                          "ticks": ""
                        },
                        "colorscale": [
                          [
                            0,
                            "#0d0887"
                          ],
                          [
                            0.1111111111111111,
                            "#46039f"
                          ],
                          [
                            0.2222222222222222,
                            "#7201a8"
                          ],
                          [
                            0.3333333333333333,
                            "#9c179e"
                          ],
                          [
                            0.4444444444444444,
                            "#bd3786"
                          ],
                          [
                            0.5555555555555556,
                            "#d8576b"
                          ],
                          [
                            0.6666666666666666,
                            "#ed7953"
                          ],
                          [
                            0.7777777777777778,
                            "#fb9f3a"
                          ],
                          [
                            0.8888888888888888,
                            "#fdca26"
                          ],
                          [
                            1,
                            "#f0f921"
                          ]
                        ],
                        "type": "heatmapgl"
                      }
                    ],
                    "histogram": [
                      {
                        "marker": {
                          "pattern": {
                            "fillmode": "overlay",
                            "size": 10,
                            "solidity": 0.2
                          }
                        },
                        "type": "histogram"
                      }
                    ],
                    "histogram2d": [
                      {
                        "colorbar": {
                          "outlinewidth": 0,
                          "ticks": ""
                        },
                        "colorscale": [
                          [
                            0,
                            "#0d0887"
                          ],
                          [
                            0.1111111111111111,
                            "#46039f"
                          ],
                          [
                            0.2222222222222222,
                            "#7201a8"
                          ],
                          [
                            0.3333333333333333,
                            "#9c179e"
                          ],
                          [
                            0.4444444444444444,
                            "#bd3786"
                          ],
                          [
                            0.5555555555555556,
                            "#d8576b"
                          ],
                          [
                            0.6666666666666666,
                            "#ed7953"
                          ],
                          [
                            0.7777777777777778,
                            "#fb9f3a"
                          ],
                          [
                            0.8888888888888888,
                            "#fdca26"
                          ],
                          [
                            1,
                            "#f0f921"
                          ]
                        ],
                        "type": "histogram2d"
                      }
                    ],
                    "histogram2dcontour": [
                      {
                        "colorbar": {
                          "outlinewidth": 0,
                          "ticks": ""
                        },
                        "colorscale": [
                          [
                            0,
                            "#0d0887"
                          ],
                          [
                            0.1111111111111111,
                            "#46039f"
                          ],
                          [
                            0.2222222222222222,
                            "#7201a8"
                          ],
                          [
                            0.3333333333333333,
                            "#9c179e"
                          ],
                          [
                            0.4444444444444444,
                            "#bd3786"
                          ],
                          [
                            0.5555555555555556,
                            "#d8576b"
                          ],
                          [
                            0.6666666666666666,
                            "#ed7953"
                          ],
                          [
                            0.7777777777777778,
                            "#fb9f3a"
                          ],
                          [
                            0.8888888888888888,
                            "#fdca26"
                          ],
                          [
                            1,
                            "#f0f921"
                          ]
                        ],
                        "type": "histogram2dcontour"
                      }
                    ],
                    "mesh3d": [
                      {
                        "colorbar": {
                          "outlinewidth": 0,
                          "ticks": ""
                        },
                        "type": "mesh3d"
                      }
                    ],
                    "parcoords": [
                      {
                        "line": {
                          "colorbar": {
                            "outlinewidth": 0,
                            "ticks": ""
                          }
                        },
                        "type": "parcoords"
                      }
                    ],
                    "pie": [
                      {
                        "automargin": true,
                        "type": "pie"
                      }
                    ],
                    "scatter": [
                      {
                        "marker": {
                          "colorbar": {
                            "outlinewidth": 0,
                            "ticks": ""
                          }
                        },
                        "type": "scatter"
                      }
                    ],
                    "scatter3d": [
                      {
                        "line": {
                          "colorbar": {
                            "outlinewidth": 0,
                            "ticks": ""
                          }
                        },
                        "marker": {
                          "colorbar": {
                            "outlinewidth": 0,
                            "ticks": ""
                          }
                        },
                        "type": "scatter3d"
                      }
                    ],
                    "scattercarpet": [
                      {
                        "marker": {
                          "colorbar": {
                            "outlinewidth": 0,
                            "ticks": ""
                          }
                        },
                        "type": "scattercarpet"
                      }
                    ],
                    "scattergeo": [
                      {
                        "marker": {
                          "colorbar": {
                            "outlinewidth": 0,
                            "ticks": ""
                          }
                        },
                        "type": "scattergeo"
                      }
                    ],
                    "scattergl": [
                      {
                        "marker": {
                          "colorbar": {
                            "outlinewidth": 0,
                            "ticks": ""
                          }
                        },
                        "type": "scattergl"
                      }
                    ],
                    "scattermapbox": [
                      {
                        "marker": {
                          "colorbar": {
                            "outlinewidth": 0,
                            "ticks": ""
                          }
                        },
                        "type": "scattermapbox"
                      }
                    ],
                    "scatterpolar": [
                      {
                        "marker": {
                          "colorbar": {
                            "outlinewidth": 0,
                            "ticks": ""
                          }
                        },
                        "type": "scatterpolar"
                      }
                    ],
                    "scatterpolargl": [
                      {
                        "marker": {
                          "colorbar": {
                            "outlinewidth": 0,
                            "ticks": ""
                          }
                        },
                        "type": "scatterpolargl"
                      }
                    ],
                    "scatterternary": [
                      {
                        "marker": {
                          "colorbar": {
                            "outlinewidth": 0,
                            "ticks": ""
                          }
                        },
                        "type": "scatterternary"
                      }
                    ],
                    "surface": [
                      {
                        "colorbar": {
                          "outlinewidth": 0,
                          "ticks": ""
                        },
                        "colorscale": [
                          [
                            0,
                            "#0d0887"
                          ],
                          [
                            0.1111111111111111,
                            "#46039f"
                          ],
                          [
                            0.2222222222222222,
                            "#7201a8"
                          ],
                          [
                            0.3333333333333333,
                            "#9c179e"
                          ],
                          [
                            0.4444444444444444,
                            "#bd3786"
                          ],
                          [
                            0.5555555555555556,
                            "#d8576b"
                          ],
                          [
                            0.6666666666666666,
                            "#ed7953"
                          ],
                          [
                            0.7777777777777778,
                            "#fb9f3a"
                          ],
                          [
                            0.8888888888888888,
                            "#fdca26"
                          ],
                          [
                            1,
                            "#f0f921"
                          ]
                        ],
                        "type": "surface"
                      }
                    ],
                    "table": [
                      {
                        "cells": {
                          "fill": {
                            "color": "#EBF0F8"
                          },
                          "line": {
                            "color": "white"
                          }
                        },
                        "header": {
                          "fill": {
                            "color": "#C8D4E3"
                          },
                          "line": {
                            "color": "white"
                          }
                        },
                        "type": "table"
                      }
                    ]
                  },
                  "layout": {
                    "annotationdefaults": {
                      "arrowcolor": "#2a3f5f",
                      "arrowhead": 0,
                      "arrowwidth": 1
                    },
                    "autotypenumbers": "strict",
                    "coloraxis": {
                      "colorbar": {
                        "outlinewidth": 0,
                        "ticks": ""
                      }
                    },
                    "colorscale": {
                      "diverging": [
                        [
                          0,
                          "#8e0152"
                        ],
                        [
                          0.1,
                          "#c51b7d"
                        ],
                        [
                          0.2,
                          "#de77ae"
                        ],
                        [
                          0.3,
                          "#f1b6da"
                        ],
                        [
                          0.4,
                          "#fde0ef"
                        ],
                        [
                          0.5,
                          "#f7f7f7"
                        ],
                        [
                          0.6,
                          "#e6f5d0"
                        ],
                        [
                          0.7,
                          "#b8e186"
                        ],
                        [
                          0.8,
                          "#7fbc41"
                        ],
                        [
                          0.9,
                          "#4d9221"
                        ],
                        [
                          1,
                          "#276419"
                        ]
                      ],
                      "sequential": [
                        [
                          0,
                          "#0d0887"
                        ],
                        [
                          0.1111111111111111,
                          "#46039f"
                        ],
                        [
                          0.2222222222222222,
                          "#7201a8"
                        ],
                        [
                          0.3333333333333333,
                          "#9c179e"
                        ],
                        [
                          0.4444444444444444,
                          "#bd3786"
                        ],
                        [
                          0.5555555555555556,
                          "#d8576b"
                        ],
                        [
                          0.6666666666666666,
                          "#ed7953"
                        ],
                        [
                          0.7777777777777778,
                          "#fb9f3a"
                        ],
                        [
                          0.8888888888888888,
                          "#fdca26"
                        ],
                        [
                          1,
                          "#f0f921"
                        ]
                      ],
                      "sequentialminus": [
                        [
                          0,
                          "#0d0887"
                        ],
                        [
                          0.1111111111111111,
                          "#46039f"
                        ],
                        [
                          0.2222222222222222,
                          "#7201a8"
                        ],
                        [
                          0.3333333333333333,
                          "#9c179e"
                        ],
                        [
                          0.4444444444444444,
                          "#bd3786"
                        ],
                        [
                          0.5555555555555556,
                          "#d8576b"
                        ],
                        [
                          0.6666666666666666,
                          "#ed7953"
                        ],
                        [
                          0.7777777777777778,
                          "#fb9f3a"
                        ],
                        [
                          0.8888888888888888,
                          "#fdca26"
                        ],
                        [
                          1,
                          "#f0f921"
                        ]
                      ]
                    },
                    "colorway": [
                      "#636efa",
                      "#EF553B",
                      "#00cc96",
                      "#ab63fa",
                      "#FFA15A",
                      "#19d3f3",
                      "#FF6692",
                      "#B6E880",
                      "#FF97FF",
                      "#FECB52"
                    ],
                    "font": {
                      "color": "#2a3f5f"
                    },
                    "geo": {
                      "bgcolor": "white",
                      "lakecolor": "white",
                      "landcolor": "#E5ECF6",
                      "showlakes": true,
                      "showland": true,
                      "subunitcolor": "white"
                    },
                    "hoverlabel": {
                      "align": "left"
                    },
                    "hovermode": "closest",
                    "mapbox": {
                      "style": "light"
                    },
                    "paper_bgcolor": "white",
                    "plot_bgcolor": "#E5ECF6",
                    "polar": {
                      "angularaxis": {
                        "gridcolor": "white",
                        "linecolor": "white",
                        "ticks": ""
                      },
                      "bgcolor": "#E5ECF6",
                      "radialaxis": {
                        "gridcolor": "white",
                        "linecolor": "white",
                        "ticks": ""
                      }
                    },
                    "scene": {
                      "xaxis": {
                        "backgroundcolor": "#E5ECF6",
                        "gridcolor": "white",
                        "gridwidth": 2,
                        "linecolor": "white",
                        "showbackground": true,
                        "ticks": "",
                        "zerolinecolor": "white"
                      },
                      "yaxis": {
                        "backgroundcolor": "#E5ECF6",
                        "gridcolor": "white",
                        "gridwidth": 2,
                        "linecolor": "white",
                        "showbackground": true,
                        "ticks": "",
                        "zerolinecolor": "white"
                      },
                      "zaxis": {
                        "backgroundcolor": "#E5ECF6",
                        "gridcolor": "white",
                        "gridwidth": 2,
                        "linecolor": "white",
                        "showbackground": true,
                        "ticks": "",
                        "zerolinecolor": "white"
                      }
                    },
                    "shapedefaults": {
                      "line": {
                        "color": "#2a3f5f"
                      }
                    },
                    "ternary": {
                      "aaxis": {
                        "gridcolor": "white",
                        "linecolor": "white",
                        "ticks": ""
                      },
                      "baxis": {
                        "gridcolor": "white",
                        "linecolor": "white",
                        "ticks": ""
                      },
                      "bgcolor": "#E5ECF6",
                      "caxis": {
                        "gridcolor": "white",
                        "linecolor": "white",
                        "ticks": ""
                      }
                    },
                    "title": {
                      "x": 0.05
                    },
                    "xaxis": {
                      "automargin": true,
                      "gridcolor": "white",
                      "linecolor": "white",
                      "ticks": "",
                      "title": {
                        "standoff": 15
                      },
                      "zerolinecolor": "white",
                      "zerolinewidth": 2
                    },
                    "yaxis": {
                      "automargin": true,
                      "gridcolor": "white",
                      "linecolor": "white",
                      "ticks": "",
                      "title": {
                        "standoff": 15
                      },
                      "zerolinecolor": "white",
                      "zerolinewidth": 2
                    }
                  }
                },
                "title": {
                  "text": "Hyperparameter Importances"
                },
                "xaxis": {
                  "title": {
                    "text": "Importance for Objective Value"
                  }
                },
                "yaxis": {
                  "title": {
                    "text": "Hyperparameter"
                  }
                }
              }
            }
          },
          "metadata": {},
          "output_type": "display_data"
        }
      ],
      "source": [
        "optuna.visualization.plot_param_importances(study_bohb)"
      ]
    },
    {
      "cell_type": "markdown",
      "metadata": {},
      "source": [
        "#### Exploration - Exploitation Plot\n",
        "In this plot, we can see which regions of each hyperparameter have been explored (on the horizontal axes). We also notice that for many important hyperparameters, the darker values (later trials) are clustered together. This means that our hyperparameter tuning exercise has reached quite good convergence on the most optimal hyperparameter value."
      ]
    },
    {
      "cell_type": "code",
      "execution_count": 26,
      "metadata": {
        "colab": {
          "base_uri": "https://localhost:8080/",
          "height": 562
        },
        "id": "ervzJ624sen1",
        "outputId": "6748540e-5c25-4b01-bc8b-da061bf46dc2"
      },
      "outputs": [
        {
          "data": {
            "application/vnd.plotly.v1+json": {
              "config": {
                "plotlyServerURL": "https://plot.ly"
              },
              "data": [
                {
                  "marker": {
                    "color": [
                      0,
                      1,
                      2,
                      3,
                      4,
                      5,
                      9,
                      11,
                      12,
                      14,
                      15,
                      19,
                      24,
                      27,
                      31,
                      32,
                      38,
                      45,
                      46,
                      47,
                      56,
                      58,
                      59,
                      60,
                      61,
                      63,
                      67,
                      69,
                      70,
                      72,
                      75,
                      80,
                      82,
                      84,
                      92,
                      93,
                      95,
                      99,
                      100,
                      104,
                      106,
                      108,
                      125,
                      133,
                      143,
                      145,
                      148,
                      150,
                      151,
                      158,
                      167,
                      175,
                      177,
                      183,
                      190,
                      192,
                      201,
                      205,
                      217,
                      218,
                      224,
                      228,
                      240,
                      241,
                      242,
                      253,
                      258,
                      260,
                      263,
                      264,
                      267,
                      269,
                      270,
                      271,
                      274,
                      277,
                      285,
                      287,
                      291,
                      296,
                      297,
                      307,
                      315,
                      316,
                      318,
                      319,
                      321,
                      329,
                      335,
                      340,
                      342,
                      351,
                      355,
                      363,
                      369,
                      373,
                      375,
                      383,
                      387,
                      390,
                      392,
                      393,
                      398
                    ],
                    "colorbar": {
                      "title": {
                        "text": "#Trials"
                      },
                      "x": 1,
                      "xpad": 40
                    },
                    "colorscale": [
                      [
                        0,
                        "rgb(247,251,255)"
                      ],
                      [
                        0.125,
                        "rgb(222,235,247)"
                      ],
                      [
                        0.25,
                        "rgb(198,219,239)"
                      ],
                      [
                        0.375,
                        "rgb(158,202,225)"
                      ],
                      [
                        0.5,
                        "rgb(107,174,214)"
                      ],
                      [
                        0.625,
                        "rgb(66,146,198)"
                      ],
                      [
                        0.75,
                        "rgb(33,113,181)"
                      ],
                      [
                        0.875,
                        "rgb(8,81,156)"
                      ],
                      [
                        1,
                        "rgb(8,48,107)"
                      ]
                    ],
                    "line": {
                      "color": "Grey",
                      "width": 0.5
                    },
                    "showscale": true
                  },
                  "mode": "markers",
                  "showlegend": false,
                  "type": "scatter",
                  "x": [
                    0.5170134268781407,
                    0.26861657550972107,
                    0.6626808631276916,
                    0.9497907713606619,
                    0.4381374854779433,
                    0.8628548853906589,
                    0.04939576538961854,
                    0.5787283120797121,
                    0.6499905734067785,
                    0.6133618433129143,
                    0.14939068445977344,
                    0.14288728342867152,
                    0.6204410894833365,
                    0.7807538074551179,
                    0.7830379727782418,
                    0.7520033922820746,
                    0.5547815189417001,
                    0.5685827172322191,
                    0.6014630766118171,
                    0.9711395134392139,
                    0.715999865298919,
                    0.590089979019584,
                    0.9994850683720786,
                    0.9943109159729702,
                    0.6602140779357195,
                    0.9173206963727182,
                    0.8832267407672243,
                    0.7500610525523959,
                    0.9693150245847002,
                    0.9045388085228638,
                    0.9304602704438278,
                    0.8252958723848858,
                    0.9913474346114105,
                    0.862964749279632,
                    0.7762648155436906,
                    0.8581720783861981,
                    0.855645148433073,
                    0.9461419735380648,
                    0.941934114445806,
                    0.8272918649562542,
                    0.8094636978601102,
                    0.6492903049345577,
                    0.7633020438751419,
                    0.894440551923383,
                    0.9193980737555403,
                    0.9120426483729321,
                    0.9132571269463571,
                    0.5482617000759509,
                    0.9736634770459489,
                    0.9744684796437324,
                    0.922693228427523,
                    0.9255689895269342,
                    0.9308314807626122,
                    0.9288346569153609,
                    0.8064900297754799,
                    0.9287242434514271,
                    0.9242676774766493,
                    0.6893034965417222,
                    0.9431503236670746,
                    0.809236928129241,
                    0.8257083342100664,
                    0.8368910936893118,
                    0.700641956998893,
                    0.984678926039244,
                    0.9546334155387156,
                    0.8649592873682662,
                    0.8343846687374694,
                    0.8588176588074697,
                    0.9127691749853951,
                    0.9212663691797719,
                    0.9456864629104633,
                    0.8661044613949885,
                    0.8866720128051405,
                    0.9432186222697381,
                    0.7545129732847157,
                    0.9087749665873682,
                    0.886535192608092,
                    0.8718027497722636,
                    0.898471273337164,
                    0.9985208043464835,
                    0.9675212676272547,
                    0.9840052328512805,
                    0.9828573922472957,
                    0.9492026778094208,
                    0.9364198506933915,
                    0.8597022014007183,
                    0.9647162744443329,
                    0.9839378796202459,
                    0.996527380004334,
                    0.9364862933472705,
                    0.9697515432075182,
                    0.8578777963795898,
                    0.9913524230261084,
                    0.9243979606893916,
                    0.7982259639065943,
                    0.8818524082579272,
                    0.8086660722147349,
                    0.8906094156227579,
                    0.9060095196635208,
                    0.9137681370352722,
                    0.906216278754276,
                    0.9162357956739807,
                    0.9632810071026692
                  ],
                  "xaxis": "x",
                  "y": [
                    0.4841883832862934,
                    0.6381090661203797,
                    0.6454050071551597,
                    0.613359795778066,
                    0.6254652065235652,
                    0.40494794698708025,
                    0.4865479241831563,
                    0.3997466581374875,
                    0.40601773082712345,
                    0.5519037602852193,
                    0.4791076353553249,
                    0.42796767068563196,
                    0.4136794129908068,
                    0.3975041865605588,
                    0.4161730116444901,
                    0.3989594659716585,
                    0.4174786243315373,
                    0.3988591007678517,
                    0.3974783349981576,
                    0.4116953508591068,
                    0.3979916449170602,
                    0.3971227965466615,
                    0.3933518858646489,
                    0.3960742946556223,
                    0.4101939294640818,
                    0.3955244753199988,
                    0.40369244495255924,
                    0.4094195318135425,
                    0.3984033195983795,
                    0.4031384890589754,
                    0.3943867825296045,
                    0.3931418030159253,
                    0.39510333983457796,
                    0.3967755215158326,
                    0.40323780870242926,
                    0.3955063360837263,
                    0.39656953121854777,
                    0.3946469666257386,
                    0.39417966536052834,
                    0.39257682757458573,
                    0.3936048317235989,
                    0.4005929277938314,
                    0.4036569143474376,
                    0.39511714104272483,
                    0.39387865535606786,
                    0.3935984108653237,
                    0.3930013213000103,
                    0.4020456725778528,
                    0.39360968688763953,
                    0.39114518689931493,
                    0.3925450529356618,
                    0.39301434623070286,
                    0.39211735959132943,
                    0.39343526032408027,
                    0.39231416202983405,
                    0.3913536167650509,
                    0.3927344182143409,
                    0.4008609891850287,
                    0.3948969052885311,
                    0.3923948814780071,
                    0.3923262511836064,
                    0.4169147919075664,
                    0.41458023971970115,
                    0.40879487514904855,
                    0.3960931484896128,
                    0.4025971705666202,
                    0.39952498671662373,
                    0.3947418916876338,
                    0.39182336218644315,
                    0.39215888589865977,
                    0.3924587749536706,
                    0.40304692359673566,
                    0.3923455668682737,
                    0.39240600376219975,
                    0.41348343169958107,
                    0.39233553934072457,
                    0.40150105427373,
                    0.39420868400304077,
                    0.40037835932404575,
                    0.40040981078888616,
                    0.3921095649773873,
                    0.39598784087189864,
                    0.39622546704157396,
                    0.39134626269478856,
                    0.3953139869807683,
                    0.4061986543159781,
                    0.3918950427262505,
                    0.39156949413891473,
                    0.4009280938053731,
                    0.3966816501274369,
                    0.3921658931139085,
                    0.3958146484787168,
                    0.3966718207087215,
                    0.39209330140772314,
                    0.394633625733407,
                    0.39167037783385256,
                    0.39152532083544905,
                    0.3962937976406004,
                    0.3922843129549211,
                    0.39174767818931416,
                    0.39114128987333147,
                    0.3918751609459709,
                    0.3960459329237222
                  ],
                  "yaxis": "y"
                },
                {
                  "marker": {
                    "color": [
                      0,
                      1,
                      2,
                      3,
                      4,
                      5,
                      9,
                      11,
                      12,
                      14,
                      15,
                      19,
                      24,
                      27,
                      31,
                      32,
                      38,
                      45,
                      46,
                      47,
                      56,
                      58,
                      59,
                      60,
                      61,
                      63,
                      67,
                      69,
                      70,
                      72,
                      75,
                      80,
                      82,
                      84,
                      92,
                      93,
                      95,
                      99,
                      100,
                      104,
                      106,
                      108,
                      125,
                      133,
                      143,
                      145,
                      148,
                      150,
                      151,
                      158,
                      167,
                      175,
                      177,
                      183,
                      190,
                      192,
                      201,
                      205,
                      217,
                      218,
                      224,
                      228,
                      240,
                      241,
                      242,
                      253,
                      258,
                      260,
                      263,
                      264,
                      267,
                      269,
                      270,
                      271,
                      274,
                      277,
                      285,
                      287,
                      291,
                      296,
                      297,
                      307,
                      315,
                      316,
                      318,
                      319,
                      321,
                      329,
                      335,
                      340,
                      342,
                      351,
                      355,
                      363,
                      369,
                      373,
                      375,
                      383,
                      387,
                      390,
                      392,
                      393,
                      398
                    ],
                    "colorbar": {
                      "title": {
                        "text": "#Trials"
                      },
                      "x": 1,
                      "xpad": 40
                    },
                    "colorscale": [
                      [
                        0,
                        "rgb(247,251,255)"
                      ],
                      [
                        0.125,
                        "rgb(222,235,247)"
                      ],
                      [
                        0.25,
                        "rgb(198,219,239)"
                      ],
                      [
                        0.375,
                        "rgb(158,202,225)"
                      ],
                      [
                        0.5,
                        "rgb(107,174,214)"
                      ],
                      [
                        0.625,
                        "rgb(66,146,198)"
                      ],
                      [
                        0.75,
                        "rgb(33,113,181)"
                      ],
                      [
                        0.875,
                        "rgb(8,81,156)"
                      ],
                      [
                        1,
                        "rgb(8,48,107)"
                      ]
                    ],
                    "line": {
                      "color": "Grey",
                      "width": 0.5
                    },
                    "showscale": false
                  },
                  "mode": "markers",
                  "showlegend": false,
                  "type": "scatter",
                  "x": [
                    9,
                    1,
                    10,
                    1,
                    10,
                    9,
                    3,
                    1,
                    8,
                    2,
                    7,
                    2,
                    6,
                    2,
                    4,
                    0,
                    6,
                    1,
                    1,
                    8,
                    0,
                    2,
                    2,
                    3,
                    5,
                    3,
                    3,
                    4,
                    4,
                    3,
                    2,
                    3,
                    3,
                    3,
                    6,
                    3,
                    3,
                    2,
                    3,
                    3,
                    2,
                    6,
                    7,
                    3,
                    3,
                    3,
                    4,
                    5,
                    4,
                    5,
                    3,
                    3,
                    3,
                    3,
                    2,
                    3,
                    2,
                    7,
                    4,
                    2,
                    3,
                    4,
                    4,
                    10,
                    4,
                    5,
                    5,
                    4,
                    3,
                    3,
                    3,
                    5,
                    3,
                    3,
                    3,
                    3,
                    6,
                    4,
                    5,
                    6,
                    3,
                    4,
                    4,
                    3,
                    3,
                    3,
                    3,
                    3,
                    5,
                    4,
                    3,
                    3,
                    2,
                    3,
                    3,
                    3,
                    3,
                    2,
                    3,
                    3,
                    3,
                    3,
                    1
                  ],
                  "xaxis": "x2",
                  "y": [
                    0.4841883832862934,
                    0.6381090661203797,
                    0.6454050071551597,
                    0.613359795778066,
                    0.6254652065235652,
                    0.40494794698708025,
                    0.4865479241831563,
                    0.3997466581374875,
                    0.40601773082712345,
                    0.5519037602852193,
                    0.4791076353553249,
                    0.42796767068563196,
                    0.4136794129908068,
                    0.3975041865605588,
                    0.4161730116444901,
                    0.3989594659716585,
                    0.4174786243315373,
                    0.3988591007678517,
                    0.3974783349981576,
                    0.4116953508591068,
                    0.3979916449170602,
                    0.3971227965466615,
                    0.3933518858646489,
                    0.3960742946556223,
                    0.4101939294640818,
                    0.3955244753199988,
                    0.40369244495255924,
                    0.4094195318135425,
                    0.3984033195983795,
                    0.4031384890589754,
                    0.3943867825296045,
                    0.3931418030159253,
                    0.39510333983457796,
                    0.3967755215158326,
                    0.40323780870242926,
                    0.3955063360837263,
                    0.39656953121854777,
                    0.3946469666257386,
                    0.39417966536052834,
                    0.39257682757458573,
                    0.3936048317235989,
                    0.4005929277938314,
                    0.4036569143474376,
                    0.39511714104272483,
                    0.39387865535606786,
                    0.3935984108653237,
                    0.3930013213000103,
                    0.4020456725778528,
                    0.39360968688763953,
                    0.39114518689931493,
                    0.3925450529356618,
                    0.39301434623070286,
                    0.39211735959132943,
                    0.39343526032408027,
                    0.39231416202983405,
                    0.3913536167650509,
                    0.3927344182143409,
                    0.4008609891850287,
                    0.3948969052885311,
                    0.3923948814780071,
                    0.3923262511836064,
                    0.4169147919075664,
                    0.41458023971970115,
                    0.40879487514904855,
                    0.3960931484896128,
                    0.4025971705666202,
                    0.39952498671662373,
                    0.3947418916876338,
                    0.39182336218644315,
                    0.39215888589865977,
                    0.3924587749536706,
                    0.40304692359673566,
                    0.3923455668682737,
                    0.39240600376219975,
                    0.41348343169958107,
                    0.39233553934072457,
                    0.40150105427373,
                    0.39420868400304077,
                    0.40037835932404575,
                    0.40040981078888616,
                    0.3921095649773873,
                    0.39598784087189864,
                    0.39622546704157396,
                    0.39134626269478856,
                    0.3953139869807683,
                    0.4061986543159781,
                    0.3918950427262505,
                    0.39156949413891473,
                    0.4009280938053731,
                    0.3966816501274369,
                    0.3921658931139085,
                    0.3958146484787168,
                    0.3966718207087215,
                    0.39209330140772314,
                    0.394633625733407,
                    0.39167037783385256,
                    0.39152532083544905,
                    0.3962937976406004,
                    0.3922843129549211,
                    0.39174767818931416,
                    0.39114128987333147,
                    0.3918751609459709,
                    0.3960459329237222
                  ],
                  "yaxis": "y2"
                },
                {
                  "marker": {
                    "color": [
                      0,
                      1,
                      2,
                      3,
                      4,
                      5,
                      9,
                      11,
                      12,
                      14,
                      15,
                      19,
                      24,
                      27,
                      31,
                      32,
                      38,
                      45,
                      46,
                      47,
                      56,
                      58,
                      59,
                      60,
                      61,
                      63,
                      67,
                      69,
                      70,
                      72,
                      75,
                      80,
                      82,
                      84,
                      92,
                      93,
                      95,
                      99,
                      100,
                      104,
                      106,
                      108,
                      125,
                      133,
                      143,
                      145,
                      148,
                      150,
                      151,
                      158,
                      167,
                      175,
                      177,
                      183,
                      190,
                      192,
                      201,
                      205,
                      217,
                      218,
                      224,
                      228,
                      240,
                      241,
                      242,
                      253,
                      258,
                      260,
                      263,
                      264,
                      267,
                      269,
                      270,
                      271,
                      274,
                      277,
                      285,
                      287,
                      291,
                      296,
                      297,
                      307,
                      315,
                      316,
                      318,
                      319,
                      321,
                      329,
                      335,
                      340,
                      342,
                      351,
                      355,
                      363,
                      369,
                      373,
                      375,
                      383,
                      387,
                      390,
                      392,
                      393,
                      398
                    ],
                    "colorbar": {
                      "title": {
                        "text": "#Trials"
                      },
                      "x": 1,
                      "xpad": 40
                    },
                    "colorscale": [
                      [
                        0,
                        "rgb(247,251,255)"
                      ],
                      [
                        0.125,
                        "rgb(222,235,247)"
                      ],
                      [
                        0.25,
                        "rgb(198,219,239)"
                      ],
                      [
                        0.375,
                        "rgb(158,202,225)"
                      ],
                      [
                        0.5,
                        "rgb(107,174,214)"
                      ],
                      [
                        0.625,
                        "rgb(66,146,198)"
                      ],
                      [
                        0.75,
                        "rgb(33,113,181)"
                      ],
                      [
                        0.875,
                        "rgb(8,81,156)"
                      ],
                      [
                        1,
                        "rgb(8,48,107)"
                      ]
                    ],
                    "line": {
                      "color": "Grey",
                      "width": 0.5
                    },
                    "showscale": false
                  },
                  "mode": "markers",
                  "showlegend": false,
                  "type": "scatter",
                  "x": [
                    0.450251502812666,
                    0.2560456544305305,
                    0.30080225278340433,
                    0.17321209647186553,
                    0.25412465103409687,
                    0.610766297783667,
                    0.8014978776485945,
                    0.6822829261105977,
                    0.9443538638106862,
                    0.5034340199218802,
                    0.798826872408032,
                    0.8190145257184372,
                    0.8175703570526435,
                    0.7758475439713237,
                    0.9786562765326997,
                    0.8324762178980071,
                    0.7917551884417525,
                    0.7252655013485878,
                    0.7381236242304765,
                    0.729735303219558,
                    0.857498698715126,
                    0.7600735147371397,
                    0.8007111851567676,
                    0.7950937280702867,
                    0.6577349452799676,
                    0.6373200137372954,
                    0.8388507914900182,
                    0.6598321074224659,
                    0.6080855093565171,
                    0.6881772947437094,
                    0.6608203929808446,
                    0.7957211753240753,
                    0.5884454322056724,
                    0.5933625279093985,
                    0.9709024875902131,
                    0.5646967735154113,
                    0.5744333182250912,
                    0.7900888474645511,
                    0.7991311195546439,
                    0.6625084482114943,
                    0.6695285356666227,
                    0.6001836196257133,
                    0.9355787454246725,
                    0.5960100878710609,
                    0.6422725000491373,
                    0.6469195563104171,
                    0.6874476002998026,
                    0.6050016908271694,
                    0.7327736766138813,
                    0.6325912685746059,
                    0.6295961524120526,
                    0.6000756683675793,
                    0.6040231003262457,
                    0.5658646722045048,
                    0.6471150106350324,
                    0.6472967069589805,
                    0.6828879398783029,
                    0.800162017593107,
                    0.8686581369783815,
                    0.6242121214414557,
                    0.6700779967003404,
                    0.3408979683642418,
                    0.5376741298494353,
                    0.6326124915811568,
                    0.7703674853535051,
                    0.6050570576870534,
                    0.9998638001250584,
                    0.7785257310178066,
                    0.6417435000965739,
                    0.6288265209739996,
                    0.6810480298057435,
                    0.6163578675860296,
                    0.6786972471618612,
                    0.6868220577900339,
                    0.5323010455065361,
                    0.6528774846889341,
                    0.5949735399596051,
                    0.7758492136002951,
                    0.6021651214251131,
                    0.6494195442607391,
                    0.60834790847532,
                    0.766732627672321,
                    0.9021173767232673,
                    0.6265759060335746,
                    0.6395345820077077,
                    0.9605731050145154,
                    0.6426737859902588,
                    0.6649852572853834,
                    0.6349953460521449,
                    0.8519546673465673,
                    0.6835541108715455,
                    0.5825023088241771,
                    0.8457293019410042,
                    0.6777472961378157,
                    0.5791316683420787,
                    0.6525757790356872,
                    0.6149644078125989,
                    0.8319249416709008,
                    0.5734191679222153,
                    0.5742005504769483,
                    0.5769590702836126,
                    0.5853889738004353,
                    0.8342160913349381
                  ],
                  "xaxis": "x3",
                  "y": [
                    0.4841883832862934,
                    0.6381090661203797,
                    0.6454050071551597,
                    0.613359795778066,
                    0.6254652065235652,
                    0.40494794698708025,
                    0.4865479241831563,
                    0.3997466581374875,
                    0.40601773082712345,
                    0.5519037602852193,
                    0.4791076353553249,
                    0.42796767068563196,
                    0.4136794129908068,
                    0.3975041865605588,
                    0.4161730116444901,
                    0.3989594659716585,
                    0.4174786243315373,
                    0.3988591007678517,
                    0.3974783349981576,
                    0.4116953508591068,
                    0.3979916449170602,
                    0.3971227965466615,
                    0.3933518858646489,
                    0.3960742946556223,
                    0.4101939294640818,
                    0.3955244753199988,
                    0.40369244495255924,
                    0.4094195318135425,
                    0.3984033195983795,
                    0.4031384890589754,
                    0.3943867825296045,
                    0.3931418030159253,
                    0.39510333983457796,
                    0.3967755215158326,
                    0.40323780870242926,
                    0.3955063360837263,
                    0.39656953121854777,
                    0.3946469666257386,
                    0.39417966536052834,
                    0.39257682757458573,
                    0.3936048317235989,
                    0.4005929277938314,
                    0.4036569143474376,
                    0.39511714104272483,
                    0.39387865535606786,
                    0.3935984108653237,
                    0.3930013213000103,
                    0.4020456725778528,
                    0.39360968688763953,
                    0.39114518689931493,
                    0.3925450529356618,
                    0.39301434623070286,
                    0.39211735959132943,
                    0.39343526032408027,
                    0.39231416202983405,
                    0.3913536167650509,
                    0.3927344182143409,
                    0.4008609891850287,
                    0.3948969052885311,
                    0.3923948814780071,
                    0.3923262511836064,
                    0.4169147919075664,
                    0.41458023971970115,
                    0.40879487514904855,
                    0.3960931484896128,
                    0.4025971705666202,
                    0.39952498671662373,
                    0.3947418916876338,
                    0.39182336218644315,
                    0.39215888589865977,
                    0.3924587749536706,
                    0.40304692359673566,
                    0.3923455668682737,
                    0.39240600376219975,
                    0.41348343169958107,
                    0.39233553934072457,
                    0.40150105427373,
                    0.39420868400304077,
                    0.40037835932404575,
                    0.40040981078888616,
                    0.3921095649773873,
                    0.39598784087189864,
                    0.39622546704157396,
                    0.39134626269478856,
                    0.3953139869807683,
                    0.4061986543159781,
                    0.3918950427262505,
                    0.39156949413891473,
                    0.4009280938053731,
                    0.3966816501274369,
                    0.3921658931139085,
                    0.3958146484787168,
                    0.3966718207087215,
                    0.39209330140772314,
                    0.394633625733407,
                    0.39167037783385256,
                    0.39152532083544905,
                    0.3962937976406004,
                    0.3922843129549211,
                    0.39174767818931416,
                    0.39114128987333147,
                    0.3918751609459709,
                    0.3960459329237222
                  ],
                  "yaxis": "y3"
                },
                {
                  "marker": {
                    "color": [
                      0,
                      1,
                      2,
                      3,
                      4,
                      5,
                      9,
                      11,
                      12,
                      14,
                      15,
                      19,
                      24,
                      27,
                      31,
                      32,
                      38,
                      45,
                      46,
                      47,
                      56,
                      58,
                      59,
                      60,
                      61,
                      63,
                      67,
                      69,
                      70,
                      72,
                      75,
                      80,
                      82,
                      84,
                      92,
                      93,
                      95,
                      99,
                      100,
                      104,
                      106,
                      108,
                      125,
                      133,
                      143,
                      145,
                      148,
                      150,
                      151,
                      158,
                      167,
                      175,
                      177,
                      183,
                      190,
                      192,
                      201,
                      205,
                      217,
                      218,
                      224,
                      228,
                      240,
                      241,
                      242,
                      253,
                      258,
                      260,
                      263,
                      264,
                      267,
                      269,
                      270,
                      271,
                      274,
                      277,
                      285,
                      287,
                      291,
                      296,
                      297,
                      307,
                      315,
                      316,
                      318,
                      319,
                      321,
                      329,
                      335,
                      340,
                      342,
                      351,
                      355,
                      363,
                      369,
                      373,
                      375,
                      383,
                      387,
                      390,
                      392,
                      393,
                      398
                    ],
                    "colorbar": {
                      "title": {
                        "text": "#Trials"
                      },
                      "x": 1,
                      "xpad": 40
                    },
                    "colorscale": [
                      [
                        0,
                        "rgb(247,251,255)"
                      ],
                      [
                        0.125,
                        "rgb(222,235,247)"
                      ],
                      [
                        0.25,
                        "rgb(198,219,239)"
                      ],
                      [
                        0.375,
                        "rgb(158,202,225)"
                      ],
                      [
                        0.5,
                        "rgb(107,174,214)"
                      ],
                      [
                        0.625,
                        "rgb(66,146,198)"
                      ],
                      [
                        0.75,
                        "rgb(33,113,181)"
                      ],
                      [
                        0.875,
                        "rgb(8,81,156)"
                      ],
                      [
                        1,
                        "rgb(8,48,107)"
                      ]
                    ],
                    "line": {
                      "color": "Grey",
                      "width": 0.5
                    },
                    "showscale": false
                  },
                  "mode": "markers",
                  "showlegend": false,
                  "type": "scatter",
                  "x": [
                    8.900256077480686,
                    1.1752649644970603,
                    0.8606057170757075,
                    8.415879219511822,
                    2.570486669026324,
                    9.981604728404672,
                    4.566971922266424,
                    2.7086208962771186,
                    0.8934725158038659,
                    1.179400553847908,
                    3.2180310269121493,
                    0.14929060983553621,
                    7.678847461184642,
                    3.4828155363302447,
                    0.9324793572852885,
                    2.653748764866084,
                    9.919158941611682,
                    2.6645894998946953,
                    2.0464655399733345,
                    4.157455982324439,
                    2.406933648122423,
                    1.5000077112215062,
                    1.3308000782524045,
                    1.324830514651949,
                    9.874544744592587,
                    1.3453560738290478,
                    3.263589121987901,
                    4.973809987978154,
                    3.971995104167976,
                    1.8623213483731782,
                    0.7196547416616725,
                    0.9117751086972121,
                    4.181517331015857,
                    2.939705064530375,
                    0.15694760316649892,
                    2.3466949356547255,
                    2.3725637551827354,
                    1.045187595553493,
                    0.9287466418167424,
                    1.0237072346371456,
                    0.9839750694007019,
                    2.80448093321424,
                    4.171689785040709,
                    3.0143322645590325,
                    1.2499883899746056,
                    1.110215762991381,
                    1.2905144474311356,
                    1.9949038034552888,
                    1.1274958606225203,
                    1.423784790381366,
                    1.478064031011546,
                    1.4270572600529783,
                    1.135178668584053,
                    0.18984936835501287,
                    0.9693711424118627,
                    1.6447368994230078,
                    1.9642147967405625,
                    1.1578754510864024,
                    0.654340288590987,
                    0.8386090310327954,
                    1.0252351861707942,
                    6.182018740122106,
                    9.882975890908515,
                    4.503384563555104,
                    1.8771861512073602,
                    5.809655423587219,
                    1.0926661045077843,
                    1.885894956474823,
                    1.1536888508857683,
                    1.7180211330249422,
                    2.2323697414834434,
                    5.5726563186792575,
                    2.281501230086735,
                    2.1420416571510654,
                    7.1480960236782,
                    2.1103851066739225,
                    5.637935651580315,
                    1.1193257841411524,
                    5.732561593399967,
                    4.0649934383862565,
                    1.8769998320530332,
                    2.877386939345118,
                    0.7559675634246212,
                    1.841390218579588,
                    2.986450459656641,
                    1.615153855065656,
                    1.8597265410657988,
                    1.5164375172172841,
                    6.710119380086671,
                    0.6384027261928916,
                    0.8134862380322699,
                    3.0657802643925804,
                    0.6956069431174916,
                    1.8282613152409706,
                    1.4312984754718274,
                    1.3971845013661444,
                    1.2242260550756454,
                    1.3871817719178372,
                    1.661438467104408,
                    1.6200209268879036,
                    1.7041120100896419,
                    1.6986574330809268,
                    1.0598780028137411
                  ],
                  "xaxis": "x4",
                  "y": [
                    0.4841883832862934,
                    0.6381090661203797,
                    0.6454050071551597,
                    0.613359795778066,
                    0.6254652065235652,
                    0.40494794698708025,
                    0.4865479241831563,
                    0.3997466581374875,
                    0.40601773082712345,
                    0.5519037602852193,
                    0.4791076353553249,
                    0.42796767068563196,
                    0.4136794129908068,
                    0.3975041865605588,
                    0.4161730116444901,
                    0.3989594659716585,
                    0.4174786243315373,
                    0.3988591007678517,
                    0.3974783349981576,
                    0.4116953508591068,
                    0.3979916449170602,
                    0.3971227965466615,
                    0.3933518858646489,
                    0.3960742946556223,
                    0.4101939294640818,
                    0.3955244753199988,
                    0.40369244495255924,
                    0.4094195318135425,
                    0.3984033195983795,
                    0.4031384890589754,
                    0.3943867825296045,
                    0.3931418030159253,
                    0.39510333983457796,
                    0.3967755215158326,
                    0.40323780870242926,
                    0.3955063360837263,
                    0.39656953121854777,
                    0.3946469666257386,
                    0.39417966536052834,
                    0.39257682757458573,
                    0.3936048317235989,
                    0.4005929277938314,
                    0.4036569143474376,
                    0.39511714104272483,
                    0.39387865535606786,
                    0.3935984108653237,
                    0.3930013213000103,
                    0.4020456725778528,
                    0.39360968688763953,
                    0.39114518689931493,
                    0.3925450529356618,
                    0.39301434623070286,
                    0.39211735959132943,
                    0.39343526032408027,
                    0.39231416202983405,
                    0.3913536167650509,
                    0.3927344182143409,
                    0.4008609891850287,
                    0.3948969052885311,
                    0.3923948814780071,
                    0.3923262511836064,
                    0.4169147919075664,
                    0.41458023971970115,
                    0.40879487514904855,
                    0.3960931484896128,
                    0.4025971705666202,
                    0.39952498671662373,
                    0.3947418916876338,
                    0.39182336218644315,
                    0.39215888589865977,
                    0.3924587749536706,
                    0.40304692359673566,
                    0.3923455668682737,
                    0.39240600376219975,
                    0.41348343169958107,
                    0.39233553934072457,
                    0.40150105427373,
                    0.39420868400304077,
                    0.40037835932404575,
                    0.40040981078888616,
                    0.3921095649773873,
                    0.39598784087189864,
                    0.39622546704157396,
                    0.39134626269478856,
                    0.3953139869807683,
                    0.4061986543159781,
                    0.3918950427262505,
                    0.39156949413891473,
                    0.4009280938053731,
                    0.3966816501274369,
                    0.3921658931139085,
                    0.3958146484787168,
                    0.3966718207087215,
                    0.39209330140772314,
                    0.394633625733407,
                    0.39167037783385256,
                    0.39152532083544905,
                    0.3962937976406004,
                    0.3922843129549211,
                    0.39174767818931416,
                    0.39114128987333147,
                    0.3918751609459709,
                    0.3960459329237222
                  ],
                  "yaxis": "y4"
                },
                {
                  "marker": {
                    "color": [
                      0,
                      1,
                      2,
                      3,
                      4,
                      5,
                      9,
                      11,
                      12,
                      14,
                      15,
                      19,
                      24,
                      27,
                      31,
                      32,
                      38,
                      45,
                      46,
                      47,
                      56,
                      58,
                      59,
                      60,
                      61,
                      63,
                      67,
                      69,
                      70,
                      72,
                      75,
                      80,
                      82,
                      84,
                      92,
                      93,
                      95,
                      99,
                      100,
                      104,
                      106,
                      108,
                      125,
                      133,
                      143,
                      145,
                      148,
                      150,
                      151,
                      158,
                      167,
                      175,
                      177,
                      183,
                      190,
                      192,
                      201,
                      205,
                      217,
                      218,
                      224,
                      228,
                      240,
                      241,
                      242,
                      253,
                      258,
                      260,
                      263,
                      264,
                      267,
                      269,
                      270,
                      271,
                      274,
                      277,
                      285,
                      287,
                      291,
                      296,
                      297,
                      307,
                      315,
                      316,
                      318,
                      319,
                      321,
                      329,
                      335,
                      340,
                      342,
                      351,
                      355,
                      363,
                      369,
                      373,
                      375,
                      383,
                      387,
                      390,
                      392,
                      393,
                      398
                    ],
                    "colorbar": {
                      "title": {
                        "text": "#Trials"
                      },
                      "x": 1,
                      "xpad": 40
                    },
                    "colorscale": [
                      [
                        0,
                        "rgb(247,251,255)"
                      ],
                      [
                        0.125,
                        "rgb(222,235,247)"
                      ],
                      [
                        0.25,
                        "rgb(198,219,239)"
                      ],
                      [
                        0.375,
                        "rgb(158,202,225)"
                      ],
                      [
                        0.5,
                        "rgb(107,174,214)"
                      ],
                      [
                        0.625,
                        "rgb(66,146,198)"
                      ],
                      [
                        0.75,
                        "rgb(33,113,181)"
                      ],
                      [
                        0.875,
                        "rgb(8,81,156)"
                      ],
                      [
                        1,
                        "rgb(8,48,107)"
                      ]
                    ],
                    "line": {
                      "color": "Grey",
                      "width": 0.5
                    },
                    "showscale": false
                  },
                  "mode": "markers",
                  "showlegend": false,
                  "type": "scatter",
                  "x": [
                    0.38093164022530046,
                    4.8498260065316,
                    4.535342131820209,
                    5.046354628189729,
                    2.3991105140562228,
                    3.4667652620772973,
                    8.575183918437313,
                    7.597933651418564,
                    0.8581792359741647,
                    5.467520028141616,
                    1.256711139855734,
                    1.811802536938324,
                    5.735697745934958,
                    2.271997866404398,
                    0.8846142791350142,
                    6.848005060973291,
                    7.7361274236521504,
                    7.798262770376896,
                    8.404361642441296,
                    3.1601093694584925,
                    6.771848637091559,
                    8.967407385707794,
                    9.13749606230088,
                    9.386025154829087,
                    3.548121504723689,
                    9.123501577380484,
                    7.348166861578615,
                    3.2273899679039935,
                    3.497467455314969,
                    2.2198579385464203,
                    9.610510728682112,
                    8.80687495714879,
                    3.1994205192531893,
                    4.35453303656565,
                    0.49604526790202463,
                    4.645019679018753,
                    4.376745158554963,
                    9.23866022025864,
                    9.591324432880697,
                    7.440308570325081,
                    7.928819194704843,
                    4.914041001213277,
                    1.874655934432129,
                    0.029461339496596572,
                    9.166566538544714,
                    9.3107810954,
                    5.594279713236993,
                    8.018908449800657,
                    3.211734024516802,
                    5.776714176157167,
                    4.119700895696672,
                    5.187827048511804,
                    5.479598372448608,
                    6.515155022607827,
                    7.222796246939877,
                    6.0956606519335335,
                    4.6552540326603316,
                    0.06044431973948061,
                    5.018936755333657,
                    7.02220506761199,
                    4.280876961882549,
                    3.2266939867011333,
                    0.15413277152314775,
                    1.683613859837363,
                    5.99559422668464,
                    1.5162548077874671,
                    0.8898115685826407,
                    1.1489736425529844,
                    9.32622749009566,
                    4.036279817853976,
                    3.3783561668519715,
                    1.2769650079721275,
                    3.235175778993388,
                    3.4332121971318363,
                    1.6597819836124326,
                    3.4668474124811097,
                    3.0355743707537837,
                    2.0666576241688044,
                    3.131327644574809,
                    2.2550708804114894,
                    4.4943803297156935,
                    2.0000772597584895,
                    2.308405197156317,
                    5.27997919227893,
                    3.051154021532599,
                    6.30462389046715,
                    4.770471715709441,
                    7.357822302451703,
                    3.0856410673080883,
                    2.690359035321195,
                    4.701508956683754,
                    4.6421343289105454,
                    2.2111259054182963,
                    5.032198374613663,
                    5.097430232278026,
                    3.817753101452234,
                    3.633648798489717,
                    3.139760050276832,
                    3.955155232883771,
                    4.019832308537628,
                    3.721305715564068,
                    4.542992987652205,
                    2.2605593461829177
                  ],
                  "xaxis": "x5",
                  "y": [
                    0.4841883832862934,
                    0.6381090661203797,
                    0.6454050071551597,
                    0.613359795778066,
                    0.6254652065235652,
                    0.40494794698708025,
                    0.4865479241831563,
                    0.3997466581374875,
                    0.40601773082712345,
                    0.5519037602852193,
                    0.4791076353553249,
                    0.42796767068563196,
                    0.4136794129908068,
                    0.3975041865605588,
                    0.4161730116444901,
                    0.3989594659716585,
                    0.4174786243315373,
                    0.3988591007678517,
                    0.3974783349981576,
                    0.4116953508591068,
                    0.3979916449170602,
                    0.3971227965466615,
                    0.3933518858646489,
                    0.3960742946556223,
                    0.4101939294640818,
                    0.3955244753199988,
                    0.40369244495255924,
                    0.4094195318135425,
                    0.3984033195983795,
                    0.4031384890589754,
                    0.3943867825296045,
                    0.3931418030159253,
                    0.39510333983457796,
                    0.3967755215158326,
                    0.40323780870242926,
                    0.3955063360837263,
                    0.39656953121854777,
                    0.3946469666257386,
                    0.39417966536052834,
                    0.39257682757458573,
                    0.3936048317235989,
                    0.4005929277938314,
                    0.4036569143474376,
                    0.39511714104272483,
                    0.39387865535606786,
                    0.3935984108653237,
                    0.3930013213000103,
                    0.4020456725778528,
                    0.39360968688763953,
                    0.39114518689931493,
                    0.3925450529356618,
                    0.39301434623070286,
                    0.39211735959132943,
                    0.39343526032408027,
                    0.39231416202983405,
                    0.3913536167650509,
                    0.3927344182143409,
                    0.4008609891850287,
                    0.3948969052885311,
                    0.3923948814780071,
                    0.3923262511836064,
                    0.4169147919075664,
                    0.41458023971970115,
                    0.40879487514904855,
                    0.3960931484896128,
                    0.4025971705666202,
                    0.39952498671662373,
                    0.3947418916876338,
                    0.39182336218644315,
                    0.39215888589865977,
                    0.3924587749536706,
                    0.40304692359673566,
                    0.3923455668682737,
                    0.39240600376219975,
                    0.41348343169958107,
                    0.39233553934072457,
                    0.40150105427373,
                    0.39420868400304077,
                    0.40037835932404575,
                    0.40040981078888616,
                    0.3921095649773873,
                    0.39598784087189864,
                    0.39622546704157396,
                    0.39134626269478856,
                    0.3953139869807683,
                    0.4061986543159781,
                    0.3918950427262505,
                    0.39156949413891473,
                    0.4009280938053731,
                    0.3966816501274369,
                    0.3921658931139085,
                    0.3958146484787168,
                    0.3966718207087215,
                    0.39209330140772314,
                    0.394633625733407,
                    0.39167037783385256,
                    0.39152532083544905,
                    0.3962937976406004,
                    0.3922843129549211,
                    0.39174767818931416,
                    0.39114128987333147,
                    0.3918751609459709,
                    0.3960459329237222
                  ],
                  "yaxis": "y5"
                },
                {
                  "marker": {
                    "color": [
                      0,
                      1,
                      2,
                      3,
                      4,
                      5,
                      9,
                      11,
                      12,
                      14,
                      15,
                      19,
                      24,
                      27,
                      31,
                      32,
                      38,
                      45,
                      46,
                      47,
                      56,
                      58,
                      59,
                      60,
                      61,
                      63,
                      67,
                      69,
                      70,
                      72,
                      75,
                      80,
                      82,
                      84,
                      92,
                      93,
                      95,
                      99,
                      100,
                      104,
                      106,
                      108,
                      125,
                      133,
                      143,
                      145,
                      148,
                      150,
                      151,
                      158,
                      167,
                      175,
                      177,
                      183,
                      190,
                      192,
                      201,
                      205,
                      217,
                      218,
                      224,
                      228,
                      240,
                      241,
                      242,
                      253,
                      258,
                      260,
                      263,
                      264,
                      267,
                      269,
                      270,
                      271,
                      274,
                      277,
                      285,
                      287,
                      291,
                      296,
                      297,
                      307,
                      315,
                      316,
                      318,
                      319,
                      321,
                      329,
                      335,
                      340,
                      342,
                      351,
                      355,
                      363,
                      369,
                      373,
                      375,
                      383,
                      387,
                      390,
                      392,
                      393,
                      398
                    ],
                    "colorbar": {
                      "title": {
                        "text": "#Trials"
                      },
                      "x": 1,
                      "xpad": 40
                    },
                    "colorscale": [
                      [
                        0,
                        "rgb(247,251,255)"
                      ],
                      [
                        0.125,
                        "rgb(222,235,247)"
                      ],
                      [
                        0.25,
                        "rgb(198,219,239)"
                      ],
                      [
                        0.375,
                        "rgb(158,202,225)"
                      ],
                      [
                        0.5,
                        "rgb(107,174,214)"
                      ],
                      [
                        0.625,
                        "rgb(66,146,198)"
                      ],
                      [
                        0.75,
                        "rgb(33,113,181)"
                      ],
                      [
                        0.875,
                        "rgb(8,81,156)"
                      ],
                      [
                        1,
                        "rgb(8,48,107)"
                      ]
                    ],
                    "line": {
                      "color": "Grey",
                      "width": 0.5
                    },
                    "showscale": false
                  },
                  "mode": "markers",
                  "showlegend": false,
                  "type": "scatter",
                  "x": [
                    0.022586424291801393,
                    0.01471323834845577,
                    0.014625407085830171,
                    0.03501641703219061,
                    0.01553497415989353,
                    0.3307744037295136,
                    0.40474678312464696,
                    0.06202292856941969,
                    0.03824657272097223,
                    0.012179982628607105,
                    0.013789387159599561,
                    0.08401174954154703,
                    0.29693936476036076,
                    0.1194877880204923,
                    0.02475232352414698,
                    0.05334650544901992,
                    0.058173788131364874,
                    0.06885614687158047,
                    0.07655861775185986,
                    0.44349731773223794,
                    0.04742460299969534,
                    0.06505166576758345,
                    0.09135930600259921,
                    0.08326842594141334,
                    0.1532617389644115,
                    0.09052466650016006,
                    0.04271120613568317,
                    0.1933988250323396,
                    0.16070664930992745,
                    0.18005998548347127,
                    0.08717084111658956,
                    0.06418227906641276,
                    0.12135788422366296,
                    0.045890176927309234,
                    0.04173676265889572,
                    0.03966388082065773,
                    0.03928279990173755,
                    0.06944165923643231,
                    0.04439540109932023,
                    0.057103266369196076,
                    0.0561377325027755,
                    0.07536123499281129,
                    0.2157906824124881,
                    0.04618174383962963,
                    0.06878844129536235,
                    0.06681084187167913,
                    0.06487965652325461,
                    0.13509624276843446,
                    0.06737606595114072,
                    0.08172830313176777,
                    0.05171656184172002,
                    0.06400860878000043,
                    0.07434283052994846,
                    0.05528982494543332,
                    0.055480216876695666,
                    0.05299188868169507,
                    0.04902998732940526,
                    0.04969912170366746,
                    0.06662261003675943,
                    0.0911129902207517,
                    0.06345034543327664,
                    0.25833887140131667,
                    0.14152117470569034,
                    0.42969792626133524,
                    0.0573210566461553,
                    0.14986190714862385,
                    0.07616436421399714,
                    0.07595378031708086,
                    0.06811249473212729,
                    0.06512301707083273,
                    0.0680691576193485,
                    0.14390616424684075,
                    0.06007944246094259,
                    0.059816406675919614,
                    0.18456347481320012,
                    0.051384781285018076,
                    0.1596247148905243,
                    0.07511261225339719,
                    0.1239321026668579,
                    0.26141810463086335,
                    0.05994530936312202,
                    0.07540313490361886,
                    0.07522534908513116,
                    0.07460162416033954,
                    0.04681464192251726,
                    0.25153648243303334,
                    0.07266492130193379,
                    0.0884490252554413,
                    0.15869454342400732,
                    0.07497232642656543,
                    0.05484057867519337,
                    0.04704674512176715,
                    0.06208639599830734,
                    0.08008587763825409,
                    0.07133986883996281,
                    0.05346287413030784,
                    0.059035383492261735,
                    0.1121036358457752,
                    0.06958104724015393,
                    0.05434716309649982,
                    0.06976579246623671,
                    0.05661511410346794,
                    0.06314153857263725
                  ],
                  "xaxis": "x6",
                  "y": [
                    0.4841883832862934,
                    0.6381090661203797,
                    0.6454050071551597,
                    0.613359795778066,
                    0.6254652065235652,
                    0.40494794698708025,
                    0.4865479241831563,
                    0.3997466581374875,
                    0.40601773082712345,
                    0.5519037602852193,
                    0.4791076353553249,
                    0.42796767068563196,
                    0.4136794129908068,
                    0.3975041865605588,
                    0.4161730116444901,
                    0.3989594659716585,
                    0.4174786243315373,
                    0.3988591007678517,
                    0.3974783349981576,
                    0.4116953508591068,
                    0.3979916449170602,
                    0.3971227965466615,
                    0.3933518858646489,
                    0.3960742946556223,
                    0.4101939294640818,
                    0.3955244753199988,
                    0.40369244495255924,
                    0.4094195318135425,
                    0.3984033195983795,
                    0.4031384890589754,
                    0.3943867825296045,
                    0.3931418030159253,
                    0.39510333983457796,
                    0.3967755215158326,
                    0.40323780870242926,
                    0.3955063360837263,
                    0.39656953121854777,
                    0.3946469666257386,
                    0.39417966536052834,
                    0.39257682757458573,
                    0.3936048317235989,
                    0.4005929277938314,
                    0.4036569143474376,
                    0.39511714104272483,
                    0.39387865535606786,
                    0.3935984108653237,
                    0.3930013213000103,
                    0.4020456725778528,
                    0.39360968688763953,
                    0.39114518689931493,
                    0.3925450529356618,
                    0.39301434623070286,
                    0.39211735959132943,
                    0.39343526032408027,
                    0.39231416202983405,
                    0.3913536167650509,
                    0.3927344182143409,
                    0.4008609891850287,
                    0.3948969052885311,
                    0.3923948814780071,
                    0.3923262511836064,
                    0.4169147919075664,
                    0.41458023971970115,
                    0.40879487514904855,
                    0.3960931484896128,
                    0.4025971705666202,
                    0.39952498671662373,
                    0.3947418916876338,
                    0.39182336218644315,
                    0.39215888589865977,
                    0.3924587749536706,
                    0.40304692359673566,
                    0.3923455668682737,
                    0.39240600376219975,
                    0.41348343169958107,
                    0.39233553934072457,
                    0.40150105427373,
                    0.39420868400304077,
                    0.40037835932404575,
                    0.40040981078888616,
                    0.3921095649773873,
                    0.39598784087189864,
                    0.39622546704157396,
                    0.39134626269478856,
                    0.3953139869807683,
                    0.4061986543159781,
                    0.3918950427262505,
                    0.39156949413891473,
                    0.4009280938053731,
                    0.3966816501274369,
                    0.3921658931139085,
                    0.3958146484787168,
                    0.3966718207087215,
                    0.39209330140772314,
                    0.394633625733407,
                    0.39167037783385256,
                    0.39152532083544905,
                    0.3962937976406004,
                    0.3922843129549211,
                    0.39174767818931416,
                    0.39114128987333147,
                    0.3918751609459709,
                    0.3960459329237222
                  ],
                  "yaxis": "y6"
                },
                {
                  "marker": {
                    "color": [
                      0,
                      1,
                      2,
                      3,
                      4,
                      5,
                      9,
                      11,
                      12,
                      14,
                      15,
                      19,
                      24,
                      27,
                      31,
                      32,
                      38,
                      45,
                      46,
                      47,
                      56,
                      58,
                      59,
                      60,
                      61,
                      63,
                      67,
                      69,
                      70,
                      72,
                      75,
                      80,
                      82,
                      84,
                      92,
                      93,
                      95,
                      99,
                      100,
                      104,
                      106,
                      108,
                      125,
                      133,
                      143,
                      145,
                      148,
                      150,
                      151,
                      158,
                      167,
                      175,
                      177,
                      183,
                      190,
                      192,
                      201,
                      205,
                      217,
                      218,
                      224,
                      228,
                      240,
                      241,
                      242,
                      253,
                      258,
                      260,
                      263,
                      264,
                      267,
                      269,
                      270,
                      271,
                      274,
                      277,
                      285,
                      287,
                      291,
                      296,
                      297,
                      307,
                      315,
                      316,
                      318,
                      319,
                      321,
                      329,
                      335,
                      340,
                      342,
                      351,
                      355,
                      363,
                      369,
                      373,
                      375,
                      383,
                      387,
                      390,
                      392,
                      393,
                      398
                    ],
                    "colorbar": {
                      "title": {
                        "text": "#Trials"
                      },
                      "x": 1,
                      "xpad": 40
                    },
                    "colorscale": [
                      [
                        0,
                        "rgb(247,251,255)"
                      ],
                      [
                        0.125,
                        "rgb(222,235,247)"
                      ],
                      [
                        0.25,
                        "rgb(198,219,239)"
                      ],
                      [
                        0.375,
                        "rgb(158,202,225)"
                      ],
                      [
                        0.5,
                        "rgb(107,174,214)"
                      ],
                      [
                        0.625,
                        "rgb(66,146,198)"
                      ],
                      [
                        0.75,
                        "rgb(33,113,181)"
                      ],
                      [
                        0.875,
                        "rgb(8,81,156)"
                      ],
                      [
                        1,
                        "rgb(8,48,107)"
                      ]
                    ],
                    "line": {
                      "color": "Grey",
                      "width": 0.5
                    },
                    "showscale": false
                  },
                  "mode": "markers",
                  "showlegend": false,
                  "type": "scatter",
                  "x": [
                    47,
                    31,
                    6,
                    31,
                    28,
                    45,
                    46,
                    40,
                    46,
                    6,
                    49,
                    50,
                    37,
                    39,
                    30,
                    32,
                    45,
                    41,
                    43,
                    8,
                    27,
                    40,
                    19,
                    14,
                    22,
                    12,
                    40,
                    19,
                    19,
                    36,
                    13,
                    19,
                    19,
                    26,
                    49,
                    27,
                    26,
                    24,
                    24,
                    20,
                    26,
                    34,
                    22,
                    26,
                    13,
                    18,
                    19,
                    50,
                    16,
                    19,
                    21,
                    14,
                    18,
                    17,
                    22,
                    19,
                    23,
                    41,
                    32,
                    24,
                    18,
                    24,
                    50,
                    37,
                    20,
                    13,
                    37,
                    31,
                    20,
                    20,
                    20,
                    13,
                    20,
                    20,
                    44,
                    20,
                    13,
                    33,
                    12,
                    35,
                    21,
                    32,
                    31,
                    18,
                    32,
                    43,
                    18,
                    16,
                    8,
                    18,
                    17,
                    30,
                    17,
                    21,
                    36,
                    21,
                    20,
                    38,
                    18,
                    22,
                    18,
                    21,
                    30
                  ],
                  "xaxis": "x7",
                  "y": [
                    0.4841883832862934,
                    0.6381090661203797,
                    0.6454050071551597,
                    0.613359795778066,
                    0.6254652065235652,
                    0.40494794698708025,
                    0.4865479241831563,
                    0.3997466581374875,
                    0.40601773082712345,
                    0.5519037602852193,
                    0.4791076353553249,
                    0.42796767068563196,
                    0.4136794129908068,
                    0.3975041865605588,
                    0.4161730116444901,
                    0.3989594659716585,
                    0.4174786243315373,
                    0.3988591007678517,
                    0.3974783349981576,
                    0.4116953508591068,
                    0.3979916449170602,
                    0.3971227965466615,
                    0.3933518858646489,
                    0.3960742946556223,
                    0.4101939294640818,
                    0.3955244753199988,
                    0.40369244495255924,
                    0.4094195318135425,
                    0.3984033195983795,
                    0.4031384890589754,
                    0.3943867825296045,
                    0.3931418030159253,
                    0.39510333983457796,
                    0.3967755215158326,
                    0.40323780870242926,
                    0.3955063360837263,
                    0.39656953121854777,
                    0.3946469666257386,
                    0.39417966536052834,
                    0.39257682757458573,
                    0.3936048317235989,
                    0.4005929277938314,
                    0.4036569143474376,
                    0.39511714104272483,
                    0.39387865535606786,
                    0.3935984108653237,
                    0.3930013213000103,
                    0.4020456725778528,
                    0.39360968688763953,
                    0.39114518689931493,
                    0.3925450529356618,
                    0.39301434623070286,
                    0.39211735959132943,
                    0.39343526032408027,
                    0.39231416202983405,
                    0.3913536167650509,
                    0.3927344182143409,
                    0.4008609891850287,
                    0.3948969052885311,
                    0.3923948814780071,
                    0.3923262511836064,
                    0.4169147919075664,
                    0.41458023971970115,
                    0.40879487514904855,
                    0.3960931484896128,
                    0.4025971705666202,
                    0.39952498671662373,
                    0.3947418916876338,
                    0.39182336218644315,
                    0.39215888589865977,
                    0.3924587749536706,
                    0.40304692359673566,
                    0.3923455668682737,
                    0.39240600376219975,
                    0.41348343169958107,
                    0.39233553934072457,
                    0.40150105427373,
                    0.39420868400304077,
                    0.40037835932404575,
                    0.40040981078888616,
                    0.3921095649773873,
                    0.39598784087189864,
                    0.39622546704157396,
                    0.39134626269478856,
                    0.3953139869807683,
                    0.4061986543159781,
                    0.3918950427262505,
                    0.39156949413891473,
                    0.4009280938053731,
                    0.3966816501274369,
                    0.3921658931139085,
                    0.3958146484787168,
                    0.3966718207087215,
                    0.39209330140772314,
                    0.394633625733407,
                    0.39167037783385256,
                    0.39152532083544905,
                    0.3962937976406004,
                    0.3922843129549211,
                    0.39174767818931416,
                    0.39114128987333147,
                    0.3918751609459709,
                    0.3960459329237222
                  ],
                  "yaxis": "y7"
                },
                {
                  "marker": {
                    "color": [
                      0,
                      1,
                      2,
                      3,
                      4,
                      5,
                      9,
                      11,
                      12,
                      14,
                      15,
                      19,
                      24,
                      27,
                      31,
                      32,
                      38,
                      45,
                      46,
                      47,
                      56,
                      58,
                      59,
                      60,
                      61,
                      63,
                      67,
                      69,
                      70,
                      72,
                      75,
                      80,
                      82,
                      84,
                      92,
                      93,
                      95,
                      99,
                      100,
                      104,
                      106,
                      108,
                      125,
                      133,
                      143,
                      145,
                      148,
                      150,
                      151,
                      158,
                      167,
                      175,
                      177,
                      183,
                      190,
                      192,
                      201,
                      205,
                      217,
                      218,
                      224,
                      228,
                      240,
                      241,
                      242,
                      253,
                      258,
                      260,
                      263,
                      264,
                      267,
                      269,
                      270,
                      271,
                      274,
                      277,
                      285,
                      287,
                      291,
                      296,
                      297,
                      307,
                      315,
                      316,
                      318,
                      319,
                      321,
                      329,
                      335,
                      340,
                      342,
                      351,
                      355,
                      363,
                      369,
                      373,
                      375,
                      383,
                      387,
                      390,
                      392,
                      393,
                      398
                    ],
                    "colorbar": {
                      "title": {
                        "text": "#Trials"
                      },
                      "x": 1,
                      "xpad": 40
                    },
                    "colorscale": [
                      [
                        0,
                        "rgb(247,251,255)"
                      ],
                      [
                        0.125,
                        "rgb(222,235,247)"
                      ],
                      [
                        0.25,
                        "rgb(198,219,239)"
                      ],
                      [
                        0.375,
                        "rgb(158,202,225)"
                      ],
                      [
                        0.5,
                        "rgb(107,174,214)"
                      ],
                      [
                        0.625,
                        "rgb(66,146,198)"
                      ],
                      [
                        0.75,
                        "rgb(33,113,181)"
                      ],
                      [
                        0.875,
                        "rgb(8,81,156)"
                      ],
                      [
                        1,
                        "rgb(8,48,107)"
                      ]
                    ],
                    "line": {
                      "color": "Grey",
                      "width": 0.5
                    },
                    "showscale": false
                  },
                  "mode": "markers",
                  "showlegend": false,
                  "type": "scatter",
                  "x": [
                    81,
                    162,
                    191,
                    58,
                    188,
                    149,
                    82,
                    194,
                    130,
                    127,
                    58,
                    98,
                    30,
                    133,
                    92,
                    197,
                    79,
                    196,
                    200,
                    21,
                    197,
                    181,
                    181,
                    180,
                    54,
                    182,
                    81,
                    41,
                    200,
                    104,
                    189,
                    161,
                    194,
                    200,
                    114,
                    177,
                    176,
                    167,
                    162,
                    141,
                    152,
                    112,
                    31,
                    194,
                    172,
                    161,
                    150,
                    102,
                    134,
                    138,
                    129,
                    158,
                    158,
                    156,
                    159,
                    140,
                    176,
                    94,
                    119,
                    178,
                    157,
                    143,
                    90,
                    67,
                    135,
                    186,
                    139,
                    136,
                    160,
                    156,
                    161,
                    197,
                    161,
                    154,
                    128,
                    159,
                    196,
                    170,
                    191,
                    61,
                    131,
                    164,
                    170,
                    149,
                    181,
                    52,
                    147,
                    134,
                    171,
                    199,
                    134,
                    200,
                    186,
                    151,
                    186,
                    159,
                    158,
                    163,
                    167,
                    160,
                    165,
                    162,
                    181
                  ],
                  "xaxis": "x8",
                  "y": [
                    0.4841883832862934,
                    0.6381090661203797,
                    0.6454050071551597,
                    0.613359795778066,
                    0.6254652065235652,
                    0.40494794698708025,
                    0.4865479241831563,
                    0.3997466581374875,
                    0.40601773082712345,
                    0.5519037602852193,
                    0.4791076353553249,
                    0.42796767068563196,
                    0.4136794129908068,
                    0.3975041865605588,
                    0.4161730116444901,
                    0.3989594659716585,
                    0.4174786243315373,
                    0.3988591007678517,
                    0.3974783349981576,
                    0.4116953508591068,
                    0.3979916449170602,
                    0.3971227965466615,
                    0.3933518858646489,
                    0.3960742946556223,
                    0.4101939294640818,
                    0.3955244753199988,
                    0.40369244495255924,
                    0.4094195318135425,
                    0.3984033195983795,
                    0.4031384890589754,
                    0.3943867825296045,
                    0.3931418030159253,
                    0.39510333983457796,
                    0.3967755215158326,
                    0.40323780870242926,
                    0.3955063360837263,
                    0.39656953121854777,
                    0.3946469666257386,
                    0.39417966536052834,
                    0.39257682757458573,
                    0.3936048317235989,
                    0.4005929277938314,
                    0.4036569143474376,
                    0.39511714104272483,
                    0.39387865535606786,
                    0.3935984108653237,
                    0.3930013213000103,
                    0.4020456725778528,
                    0.39360968688763953,
                    0.39114518689931493,
                    0.3925450529356618,
                    0.39301434623070286,
                    0.39211735959132943,
                    0.39343526032408027,
                    0.39231416202983405,
                    0.3913536167650509,
                    0.3927344182143409,
                    0.4008609891850287,
                    0.3948969052885311,
                    0.3923948814780071,
                    0.3923262511836064,
                    0.4169147919075664,
                    0.41458023971970115,
                    0.40879487514904855,
                    0.3960931484896128,
                    0.4025971705666202,
                    0.39952498671662373,
                    0.3947418916876338,
                    0.39182336218644315,
                    0.39215888589865977,
                    0.3924587749536706,
                    0.40304692359673566,
                    0.3923455668682737,
                    0.39240600376219975,
                    0.41348343169958107,
                    0.39233553934072457,
                    0.40150105427373,
                    0.39420868400304077,
                    0.40037835932404575,
                    0.40040981078888616,
                    0.3921095649773873,
                    0.39598784087189864,
                    0.39622546704157396,
                    0.39134626269478856,
                    0.3953139869807683,
                    0.4061986543159781,
                    0.3918950427262505,
                    0.39156949413891473,
                    0.4009280938053731,
                    0.3966816501274369,
                    0.3921658931139085,
                    0.3958146484787168,
                    0.3966718207087215,
                    0.39209330140772314,
                    0.394633625733407,
                    0.39167037783385256,
                    0.39152532083544905,
                    0.3962937976406004,
                    0.3922843129549211,
                    0.39174767818931416,
                    0.39114128987333147,
                    0.3918751609459709,
                    0.3960459329237222
                  ],
                  "yaxis": "y8"
                },
                {
                  "marker": {
                    "color": [
                      0,
                      1,
                      2,
                      3,
                      4,
                      5,
                      9,
                      11,
                      12,
                      14,
                      15,
                      19,
                      24,
                      27,
                      31,
                      32,
                      38,
                      45,
                      46,
                      47,
                      56,
                      58,
                      59,
                      60,
                      61,
                      63,
                      67,
                      69,
                      70,
                      72,
                      75,
                      80,
                      82,
                      84,
                      92,
                      93,
                      95,
                      99,
                      100,
                      104,
                      106,
                      108,
                      125,
                      133,
                      143,
                      145,
                      148,
                      150,
                      151,
                      158,
                      167,
                      175,
                      177,
                      183,
                      190,
                      192,
                      201,
                      205,
                      217,
                      218,
                      224,
                      228,
                      240,
                      241,
                      242,
                      253,
                      258,
                      260,
                      263,
                      264,
                      267,
                      269,
                      270,
                      271,
                      274,
                      277,
                      285,
                      287,
                      291,
                      296,
                      297,
                      307,
                      315,
                      316,
                      318,
                      319,
                      321,
                      329,
                      335,
                      340,
                      342,
                      351,
                      355,
                      363,
                      369,
                      373,
                      375,
                      383,
                      387,
                      390,
                      392,
                      393,
                      398
                    ],
                    "colorbar": {
                      "title": {
                        "text": "#Trials"
                      },
                      "x": 1,
                      "xpad": 40
                    },
                    "colorscale": [
                      [
                        0,
                        "rgb(247,251,255)"
                      ],
                      [
                        0.125,
                        "rgb(222,235,247)"
                      ],
                      [
                        0.25,
                        "rgb(198,219,239)"
                      ],
                      [
                        0.375,
                        "rgb(158,202,225)"
                      ],
                      [
                        0.5,
                        "rgb(107,174,214)"
                      ],
                      [
                        0.625,
                        "rgb(66,146,198)"
                      ],
                      [
                        0.75,
                        "rgb(33,113,181)"
                      ],
                      [
                        0.875,
                        "rgb(8,81,156)"
                      ],
                      [
                        1,
                        "rgb(8,48,107)"
                      ]
                    ],
                    "line": {
                      "color": "Grey",
                      "width": 0.5
                    },
                    "showscale": false
                  },
                  "mode": "markers",
                  "showlegend": false,
                  "type": "scatter",
                  "x": [
                    0.7000000000000001,
                    0.5,
                    0.9,
                    1,
                    0.7000000000000001,
                    0.8,
                    0.30000000000000004,
                    0.7000000000000001,
                    0.2,
                    0.7000000000000001,
                    1,
                    0.8,
                    0.7000000000000001,
                    0.7000000000000001,
                    0.7000000000000001,
                    0.7000000000000001,
                    0.2,
                    0.7000000000000001,
                    0.6,
                    0.30000000000000004,
                    0.7000000000000001,
                    0.5,
                    0.5,
                    0.30000000000000004,
                    0.30000000000000004,
                    0.30000000000000004,
                    0.2,
                    0.30000000000000004,
                    0.30000000000000004,
                    0.1,
                    0.30000000000000004,
                    0.4,
                    0.30000000000000004,
                    0.30000000000000004,
                    0.1,
                    0.4,
                    0.4,
                    0.5,
                    0.4,
                    0.4,
                    0.5,
                    0.1,
                    0.7000000000000001,
                    0.30000000000000004,
                    0.30000000000000004,
                    0.30000000000000004,
                    0.30000000000000004,
                    0.30000000000000004,
                    0.30000000000000004,
                    0.30000000000000004,
                    0.2,
                    0.30000000000000004,
                    0.4,
                    0.5,
                    0.5,
                    0.6,
                    0.5,
                    0.2,
                    0.5,
                    0.5,
                    0.4,
                    0.2,
                    0.7000000000000001,
                    0.1,
                    0.4,
                    1,
                    0.1,
                    0.2,
                    0.30000000000000004,
                    0.2,
                    0.30000000000000004,
                    0.9,
                    0.30000000000000004,
                    0.30000000000000004,
                    0.1,
                    0.30000000000000004,
                    1,
                    0.2,
                    1,
                    0.30000000000000004,
                    0.30000000000000004,
                    0.4,
                    0.4,
                    0.30000000000000004,
                    0.2,
                    0.30000000000000004,
                    0.30000000000000004,
                    0.2,
                    1,
                    0.4,
                    0.4,
                    0.30000000000000004,
                    0.5,
                    0.30000000000000004,
                    0.30000000000000004,
                    0.4,
                    0.4,
                    0.30000000000000004,
                    0.2,
                    0.4,
                    0.2,
                    0.2,
                    0.30000000000000004
                  ],
                  "xaxis": "x9",
                  "y": [
                    0.4841883832862934,
                    0.6381090661203797,
                    0.6454050071551597,
                    0.613359795778066,
                    0.6254652065235652,
                    0.40494794698708025,
                    0.4865479241831563,
                    0.3997466581374875,
                    0.40601773082712345,
                    0.5519037602852193,
                    0.4791076353553249,
                    0.42796767068563196,
                    0.4136794129908068,
                    0.3975041865605588,
                    0.4161730116444901,
                    0.3989594659716585,
                    0.4174786243315373,
                    0.3988591007678517,
                    0.3974783349981576,
                    0.4116953508591068,
                    0.3979916449170602,
                    0.3971227965466615,
                    0.3933518858646489,
                    0.3960742946556223,
                    0.4101939294640818,
                    0.3955244753199988,
                    0.40369244495255924,
                    0.4094195318135425,
                    0.3984033195983795,
                    0.4031384890589754,
                    0.3943867825296045,
                    0.3931418030159253,
                    0.39510333983457796,
                    0.3967755215158326,
                    0.40323780870242926,
                    0.3955063360837263,
                    0.39656953121854777,
                    0.3946469666257386,
                    0.39417966536052834,
                    0.39257682757458573,
                    0.3936048317235989,
                    0.4005929277938314,
                    0.4036569143474376,
                    0.39511714104272483,
                    0.39387865535606786,
                    0.3935984108653237,
                    0.3930013213000103,
                    0.4020456725778528,
                    0.39360968688763953,
                    0.39114518689931493,
                    0.3925450529356618,
                    0.39301434623070286,
                    0.39211735959132943,
                    0.39343526032408027,
                    0.39231416202983405,
                    0.3913536167650509,
                    0.3927344182143409,
                    0.4008609891850287,
                    0.3948969052885311,
                    0.3923948814780071,
                    0.3923262511836064,
                    0.4169147919075664,
                    0.41458023971970115,
                    0.40879487514904855,
                    0.3960931484896128,
                    0.4025971705666202,
                    0.39952498671662373,
                    0.3947418916876338,
                    0.39182336218644315,
                    0.39215888589865977,
                    0.3924587749536706,
                    0.40304692359673566,
                    0.3923455668682737,
                    0.39240600376219975,
                    0.41348343169958107,
                    0.39233553934072457,
                    0.40150105427373,
                    0.39420868400304077,
                    0.40037835932404575,
                    0.40040981078888616,
                    0.3921095649773873,
                    0.39598784087189864,
                    0.39622546704157396,
                    0.39134626269478856,
                    0.3953139869807683,
                    0.4061986543159781,
                    0.3918950427262505,
                    0.39156949413891473,
                    0.4009280938053731,
                    0.3966816501274369,
                    0.3921658931139085,
                    0.3958146484787168,
                    0.3966718207087215,
                    0.39209330140772314,
                    0.394633625733407,
                    0.39167037783385256,
                    0.39152532083544905,
                    0.3962937976406004,
                    0.3922843129549211,
                    0.39174767818931416,
                    0.39114128987333147,
                    0.3918751609459709,
                    0.3960459329237222
                  ],
                  "yaxis": "y9"
                }
              ],
              "layout": {
                "template": {
                  "data": {
                    "bar": [
                      {
                        "error_x": {
                          "color": "#2a3f5f"
                        },
                        "error_y": {
                          "color": "#2a3f5f"
                        },
                        "marker": {
                          "line": {
                            "color": "#E5ECF6",
                            "width": 0.5
                          },
                          "pattern": {
                            "fillmode": "overlay",
                            "size": 10,
                            "solidity": 0.2
                          }
                        },
                        "type": "bar"
                      }
                    ],
                    "barpolar": [
                      {
                        "marker": {
                          "line": {
                            "color": "#E5ECF6",
                            "width": 0.5
                          },
                          "pattern": {
                            "fillmode": "overlay",
                            "size": 10,
                            "solidity": 0.2
                          }
                        },
                        "type": "barpolar"
                      }
                    ],
                    "carpet": [
                      {
                        "aaxis": {
                          "endlinecolor": "#2a3f5f",
                          "gridcolor": "white",
                          "linecolor": "white",
                          "minorgridcolor": "white",
                          "startlinecolor": "#2a3f5f"
                        },
                        "baxis": {
                          "endlinecolor": "#2a3f5f",
                          "gridcolor": "white",
                          "linecolor": "white",
                          "minorgridcolor": "white",
                          "startlinecolor": "#2a3f5f"
                        },
                        "type": "carpet"
                      }
                    ],
                    "choropleth": [
                      {
                        "colorbar": {
                          "outlinewidth": 0,
                          "ticks": ""
                        },
                        "type": "choropleth"
                      }
                    ],
                    "contour": [
                      {
                        "colorbar": {
                          "outlinewidth": 0,
                          "ticks": ""
                        },
                        "colorscale": [
                          [
                            0,
                            "#0d0887"
                          ],
                          [
                            0.1111111111111111,
                            "#46039f"
                          ],
                          [
                            0.2222222222222222,
                            "#7201a8"
                          ],
                          [
                            0.3333333333333333,
                            "#9c179e"
                          ],
                          [
                            0.4444444444444444,
                            "#bd3786"
                          ],
                          [
                            0.5555555555555556,
                            "#d8576b"
                          ],
                          [
                            0.6666666666666666,
                            "#ed7953"
                          ],
                          [
                            0.7777777777777778,
                            "#fb9f3a"
                          ],
                          [
                            0.8888888888888888,
                            "#fdca26"
                          ],
                          [
                            1,
                            "#f0f921"
                          ]
                        ],
                        "type": "contour"
                      }
                    ],
                    "contourcarpet": [
                      {
                        "colorbar": {
                          "outlinewidth": 0,
                          "ticks": ""
                        },
                        "type": "contourcarpet"
                      }
                    ],
                    "heatmap": [
                      {
                        "colorbar": {
                          "outlinewidth": 0,
                          "ticks": ""
                        },
                        "colorscale": [
                          [
                            0,
                            "#0d0887"
                          ],
                          [
                            0.1111111111111111,
                            "#46039f"
                          ],
                          [
                            0.2222222222222222,
                            "#7201a8"
                          ],
                          [
                            0.3333333333333333,
                            "#9c179e"
                          ],
                          [
                            0.4444444444444444,
                            "#bd3786"
                          ],
                          [
                            0.5555555555555556,
                            "#d8576b"
                          ],
                          [
                            0.6666666666666666,
                            "#ed7953"
                          ],
                          [
                            0.7777777777777778,
                            "#fb9f3a"
                          ],
                          [
                            0.8888888888888888,
                            "#fdca26"
                          ],
                          [
                            1,
                            "#f0f921"
                          ]
                        ],
                        "type": "heatmap"
                      }
                    ],
                    "heatmapgl": [
                      {
                        "colorbar": {
                          "outlinewidth": 0,
                          "ticks": ""
                        },
                        "colorscale": [
                          [
                            0,
                            "#0d0887"
                          ],
                          [
                            0.1111111111111111,
                            "#46039f"
                          ],
                          [
                            0.2222222222222222,
                            "#7201a8"
                          ],
                          [
                            0.3333333333333333,
                            "#9c179e"
                          ],
                          [
                            0.4444444444444444,
                            "#bd3786"
                          ],
                          [
                            0.5555555555555556,
                            "#d8576b"
                          ],
                          [
                            0.6666666666666666,
                            "#ed7953"
                          ],
                          [
                            0.7777777777777778,
                            "#fb9f3a"
                          ],
                          [
                            0.8888888888888888,
                            "#fdca26"
                          ],
                          [
                            1,
                            "#f0f921"
                          ]
                        ],
                        "type": "heatmapgl"
                      }
                    ],
                    "histogram": [
                      {
                        "marker": {
                          "pattern": {
                            "fillmode": "overlay",
                            "size": 10,
                            "solidity": 0.2
                          }
                        },
                        "type": "histogram"
                      }
                    ],
                    "histogram2d": [
                      {
                        "colorbar": {
                          "outlinewidth": 0,
                          "ticks": ""
                        },
                        "colorscale": [
                          [
                            0,
                            "#0d0887"
                          ],
                          [
                            0.1111111111111111,
                            "#46039f"
                          ],
                          [
                            0.2222222222222222,
                            "#7201a8"
                          ],
                          [
                            0.3333333333333333,
                            "#9c179e"
                          ],
                          [
                            0.4444444444444444,
                            "#bd3786"
                          ],
                          [
                            0.5555555555555556,
                            "#d8576b"
                          ],
                          [
                            0.6666666666666666,
                            "#ed7953"
                          ],
                          [
                            0.7777777777777778,
                            "#fb9f3a"
                          ],
                          [
                            0.8888888888888888,
                            "#fdca26"
                          ],
                          [
                            1,
                            "#f0f921"
                          ]
                        ],
                        "type": "histogram2d"
                      }
                    ],
                    "histogram2dcontour": [
                      {
                        "colorbar": {
                          "outlinewidth": 0,
                          "ticks": ""
                        },
                        "colorscale": [
                          [
                            0,
                            "#0d0887"
                          ],
                          [
                            0.1111111111111111,
                            "#46039f"
                          ],
                          [
                            0.2222222222222222,
                            "#7201a8"
                          ],
                          [
                            0.3333333333333333,
                            "#9c179e"
                          ],
                          [
                            0.4444444444444444,
                            "#bd3786"
                          ],
                          [
                            0.5555555555555556,
                            "#d8576b"
                          ],
                          [
                            0.6666666666666666,
                            "#ed7953"
                          ],
                          [
                            0.7777777777777778,
                            "#fb9f3a"
                          ],
                          [
                            0.8888888888888888,
                            "#fdca26"
                          ],
                          [
                            1,
                            "#f0f921"
                          ]
                        ],
                        "type": "histogram2dcontour"
                      }
                    ],
                    "mesh3d": [
                      {
                        "colorbar": {
                          "outlinewidth": 0,
                          "ticks": ""
                        },
                        "type": "mesh3d"
                      }
                    ],
                    "parcoords": [
                      {
                        "line": {
                          "colorbar": {
                            "outlinewidth": 0,
                            "ticks": ""
                          }
                        },
                        "type": "parcoords"
                      }
                    ],
                    "pie": [
                      {
                        "automargin": true,
                        "type": "pie"
                      }
                    ],
                    "scatter": [
                      {
                        "marker": {
                          "colorbar": {
                            "outlinewidth": 0,
                            "ticks": ""
                          }
                        },
                        "type": "scatter"
                      }
                    ],
                    "scatter3d": [
                      {
                        "line": {
                          "colorbar": {
                            "outlinewidth": 0,
                            "ticks": ""
                          }
                        },
                        "marker": {
                          "colorbar": {
                            "outlinewidth": 0,
                            "ticks": ""
                          }
                        },
                        "type": "scatter3d"
                      }
                    ],
                    "scattercarpet": [
                      {
                        "marker": {
                          "colorbar": {
                            "outlinewidth": 0,
                            "ticks": ""
                          }
                        },
                        "type": "scattercarpet"
                      }
                    ],
                    "scattergeo": [
                      {
                        "marker": {
                          "colorbar": {
                            "outlinewidth": 0,
                            "ticks": ""
                          }
                        },
                        "type": "scattergeo"
                      }
                    ],
                    "scattergl": [
                      {
                        "marker": {
                          "colorbar": {
                            "outlinewidth": 0,
                            "ticks": ""
                          }
                        },
                        "type": "scattergl"
                      }
                    ],
                    "scattermapbox": [
                      {
                        "marker": {
                          "colorbar": {
                            "outlinewidth": 0,
                            "ticks": ""
                          }
                        },
                        "type": "scattermapbox"
                      }
                    ],
                    "scatterpolar": [
                      {
                        "marker": {
                          "colorbar": {
                            "outlinewidth": 0,
                            "ticks": ""
                          }
                        },
                        "type": "scatterpolar"
                      }
                    ],
                    "scatterpolargl": [
                      {
                        "marker": {
                          "colorbar": {
                            "outlinewidth": 0,
                            "ticks": ""
                          }
                        },
                        "type": "scatterpolargl"
                      }
                    ],
                    "scatterternary": [
                      {
                        "marker": {
                          "colorbar": {
                            "outlinewidth": 0,
                            "ticks": ""
                          }
                        },
                        "type": "scatterternary"
                      }
                    ],
                    "surface": [
                      {
                        "colorbar": {
                          "outlinewidth": 0,
                          "ticks": ""
                        },
                        "colorscale": [
                          [
                            0,
                            "#0d0887"
                          ],
                          [
                            0.1111111111111111,
                            "#46039f"
                          ],
                          [
                            0.2222222222222222,
                            "#7201a8"
                          ],
                          [
                            0.3333333333333333,
                            "#9c179e"
                          ],
                          [
                            0.4444444444444444,
                            "#bd3786"
                          ],
                          [
                            0.5555555555555556,
                            "#d8576b"
                          ],
                          [
                            0.6666666666666666,
                            "#ed7953"
                          ],
                          [
                            0.7777777777777778,
                            "#fb9f3a"
                          ],
                          [
                            0.8888888888888888,
                            "#fdca26"
                          ],
                          [
                            1,
                            "#f0f921"
                          ]
                        ],
                        "type": "surface"
                      }
                    ],
                    "table": [
                      {
                        "cells": {
                          "fill": {
                            "color": "#EBF0F8"
                          },
                          "line": {
                            "color": "white"
                          }
                        },
                        "header": {
                          "fill": {
                            "color": "#C8D4E3"
                          },
                          "line": {
                            "color": "white"
                          }
                        },
                        "type": "table"
                      }
                    ]
                  },
                  "layout": {
                    "annotationdefaults": {
                      "arrowcolor": "#2a3f5f",
                      "arrowhead": 0,
                      "arrowwidth": 1
                    },
                    "autotypenumbers": "strict",
                    "coloraxis": {
                      "colorbar": {
                        "outlinewidth": 0,
                        "ticks": ""
                      }
                    },
                    "colorscale": {
                      "diverging": [
                        [
                          0,
                          "#8e0152"
                        ],
                        [
                          0.1,
                          "#c51b7d"
                        ],
                        [
                          0.2,
                          "#de77ae"
                        ],
                        [
                          0.3,
                          "#f1b6da"
                        ],
                        [
                          0.4,
                          "#fde0ef"
                        ],
                        [
                          0.5,
                          "#f7f7f7"
                        ],
                        [
                          0.6,
                          "#e6f5d0"
                        ],
                        [
                          0.7,
                          "#b8e186"
                        ],
                        [
                          0.8,
                          "#7fbc41"
                        ],
                        [
                          0.9,
                          "#4d9221"
                        ],
                        [
                          1,
                          "#276419"
                        ]
                      ],
                      "sequential": [
                        [
                          0,
                          "#0d0887"
                        ],
                        [
                          0.1111111111111111,
                          "#46039f"
                        ],
                        [
                          0.2222222222222222,
                          "#7201a8"
                        ],
                        [
                          0.3333333333333333,
                          "#9c179e"
                        ],
                        [
                          0.4444444444444444,
                          "#bd3786"
                        ],
                        [
                          0.5555555555555556,
                          "#d8576b"
                        ],
                        [
                          0.6666666666666666,
                          "#ed7953"
                        ],
                        [
                          0.7777777777777778,
                          "#fb9f3a"
                        ],
                        [
                          0.8888888888888888,
                          "#fdca26"
                        ],
                        [
                          1,
                          "#f0f921"
                        ]
                      ],
                      "sequentialminus": [
                        [
                          0,
                          "#0d0887"
                        ],
                        [
                          0.1111111111111111,
                          "#46039f"
                        ],
                        [
                          0.2222222222222222,
                          "#7201a8"
                        ],
                        [
                          0.3333333333333333,
                          "#9c179e"
                        ],
                        [
                          0.4444444444444444,
                          "#bd3786"
                        ],
                        [
                          0.5555555555555556,
                          "#d8576b"
                        ],
                        [
                          0.6666666666666666,
                          "#ed7953"
                        ],
                        [
                          0.7777777777777778,
                          "#fb9f3a"
                        ],
                        [
                          0.8888888888888888,
                          "#fdca26"
                        ],
                        [
                          1,
                          "#f0f921"
                        ]
                      ]
                    },
                    "colorway": [
                      "#636efa",
                      "#EF553B",
                      "#00cc96",
                      "#ab63fa",
                      "#FFA15A",
                      "#19d3f3",
                      "#FF6692",
                      "#B6E880",
                      "#FF97FF",
                      "#FECB52"
                    ],
                    "font": {
                      "color": "#2a3f5f"
                    },
                    "geo": {
                      "bgcolor": "white",
                      "lakecolor": "white",
                      "landcolor": "#E5ECF6",
                      "showlakes": true,
                      "showland": true,
                      "subunitcolor": "white"
                    },
                    "hoverlabel": {
                      "align": "left"
                    },
                    "hovermode": "closest",
                    "mapbox": {
                      "style": "light"
                    },
                    "paper_bgcolor": "white",
                    "plot_bgcolor": "#E5ECF6",
                    "polar": {
                      "angularaxis": {
                        "gridcolor": "white",
                        "linecolor": "white",
                        "ticks": ""
                      },
                      "bgcolor": "#E5ECF6",
                      "radialaxis": {
                        "gridcolor": "white",
                        "linecolor": "white",
                        "ticks": ""
                      }
                    },
                    "scene": {
                      "xaxis": {
                        "backgroundcolor": "#E5ECF6",
                        "gridcolor": "white",
                        "gridwidth": 2,
                        "linecolor": "white",
                        "showbackground": true,
                        "ticks": "",
                        "zerolinecolor": "white"
                      },
                      "yaxis": {
                        "backgroundcolor": "#E5ECF6",
                        "gridcolor": "white",
                        "gridwidth": 2,
                        "linecolor": "white",
                        "showbackground": true,
                        "ticks": "",
                        "zerolinecolor": "white"
                      },
                      "zaxis": {
                        "backgroundcolor": "#E5ECF6",
                        "gridcolor": "white",
                        "gridwidth": 2,
                        "linecolor": "white",
                        "showbackground": true,
                        "ticks": "",
                        "zerolinecolor": "white"
                      }
                    },
                    "shapedefaults": {
                      "line": {
                        "color": "#2a3f5f"
                      }
                    },
                    "ternary": {
                      "aaxis": {
                        "gridcolor": "white",
                        "linecolor": "white",
                        "ticks": ""
                      },
                      "baxis": {
                        "gridcolor": "white",
                        "linecolor": "white",
                        "ticks": ""
                      },
                      "bgcolor": "#E5ECF6",
                      "caxis": {
                        "gridcolor": "white",
                        "linecolor": "white",
                        "ticks": ""
                      }
                    },
                    "title": {
                      "x": 0.05
                    },
                    "xaxis": {
                      "automargin": true,
                      "gridcolor": "white",
                      "linecolor": "white",
                      "ticks": "",
                      "title": {
                        "standoff": 15
                      },
                      "zerolinecolor": "white",
                      "zerolinewidth": 2
                    },
                    "yaxis": {
                      "automargin": true,
                      "gridcolor": "white",
                      "linecolor": "white",
                      "ticks": "",
                      "title": {
                        "standoff": 15
                      },
                      "zerolinecolor": "white",
                      "zerolinewidth": 2
                    }
                  }
                },
                "title": {
                  "text": "Slice Plot"
                },
                "width": 2700,
                "xaxis": {
                  "anchor": "y",
                  "domain": [
                    0,
                    0.09135802469135802
                  ],
                  "title": {
                    "text": "bagging_fraction"
                  }
                },
                "xaxis2": {
                  "anchor": "y2",
                  "domain": [
                    0.11358024691358025,
                    0.20493827160493827
                  ],
                  "title": {
                    "text": "bagging_freq"
                  }
                },
                "xaxis3": {
                  "anchor": "y3",
                  "domain": [
                    0.2271604938271605,
                    0.31851851851851853
                  ],
                  "title": {
                    "text": "feature_fraction"
                  }
                },
                "xaxis4": {
                  "anchor": "y4",
                  "domain": [
                    0.34074074074074073,
                    0.43209876543209874
                  ],
                  "title": {
                    "text": "lambda_l1"
                  }
                },
                "xaxis5": {
                  "anchor": "y5",
                  "domain": [
                    0.454320987654321,
                    0.5456790123456791
                  ],
                  "title": {
                    "text": "lambda_l2"
                  }
                },
                "xaxis6": {
                  "anchor": "y6",
                  "domain": [
                    0.5679012345679012,
                    0.6592592592592592
                  ],
                  "title": {
                    "text": "learning_rate"
                  },
                  "type": "log"
                },
                "xaxis7": {
                  "anchor": "y7",
                  "domain": [
                    0.6814814814814815,
                    0.7728395061728395
                  ],
                  "title": {
                    "text": "max_depth"
                  }
                },
                "xaxis8": {
                  "anchor": "y8",
                  "domain": [
                    0.7950617283950617,
                    0.8864197530864197
                  ],
                  "title": {
                    "text": "num_leaves"
                  }
                },
                "xaxis9": {
                  "anchor": "y9",
                  "domain": [
                    0.908641975308642,
                    1
                  ],
                  "title": {
                    "text": "subsample"
                  }
                },
                "yaxis": {
                  "anchor": "x",
                  "domain": [
                    0,
                    1
                  ],
                  "title": {
                    "text": "Objective Value"
                  }
                },
                "yaxis2": {
                  "anchor": "x2",
                  "domain": [
                    0,
                    1
                  ],
                  "matches": "y",
                  "showticklabels": false
                },
                "yaxis3": {
                  "anchor": "x3",
                  "domain": [
                    0,
                    1
                  ],
                  "matches": "y",
                  "showticklabels": false
                },
                "yaxis4": {
                  "anchor": "x4",
                  "domain": [
                    0,
                    1
                  ],
                  "matches": "y",
                  "showticklabels": false
                },
                "yaxis5": {
                  "anchor": "x5",
                  "domain": [
                    0,
                    1
                  ],
                  "matches": "y",
                  "showticklabels": false
                },
                "yaxis6": {
                  "anchor": "x6",
                  "domain": [
                    0,
                    1
                  ],
                  "matches": "y",
                  "showticklabels": false
                },
                "yaxis7": {
                  "anchor": "x7",
                  "domain": [
                    0,
                    1
                  ],
                  "matches": "y",
                  "showticklabels": false
                },
                "yaxis8": {
                  "anchor": "x8",
                  "domain": [
                    0,
                    1
                  ],
                  "matches": "y",
                  "showticklabels": false
                },
                "yaxis9": {
                  "anchor": "x9",
                  "domain": [
                    0,
                    1
                  ],
                  "matches": "y",
                  "showticklabels": false
                }
              }
            }
          },
          "metadata": {},
          "output_type": "display_data"
        }
      ],
      "source": [
        "optuna.visualization.plot_slice(study_bohb)"
      ]
    },
    {
      "cell_type": "markdown",
      "metadata": {},
      "source": [
        "#### Dominant Profile Plot\n",
        "The last plot shows all different hyperparameter profiles. This plot becomes increasingly less useful if the number of trials increases (and even more so when no pruning strategies are used). \n",
        "However, we can clearly see on this plot that there is a 'dominant profile' which leads to the best performance metric (see the darkest profiles corresponds to the better models). "
      ]
    },
    {
      "cell_type": "code",
      "execution_count": 27,
      "metadata": {
        "colab": {
          "base_uri": "https://localhost:8080/",
          "height": 542
        },
        "id": "bBd63INHs0-i",
        "outputId": "5d20e8e0-b522-44eb-88c8-ccd7231d1fee"
      },
      "outputs": [
        {
          "data": {
            "application/vnd.plotly.v1+json": {
              "config": {
                "plotlyServerURL": "https://plot.ly"
              },
              "data": [
                {
                  "dimensions": [
                    {
                      "label": "Objective Value",
                      "range": [
                        0.39114128987333147,
                        0.6454050071551597
                      ],
                      "values": [
                        0.4841883832862934,
                        0.6381090661203797,
                        0.6454050071551597,
                        0.613359795778066,
                        0.6254652065235652,
                        0.40494794698708025,
                        0.4865479241831563,
                        0.3997466581374875,
                        0.40601773082712345,
                        0.5519037602852193,
                        0.4791076353553249,
                        0.42796767068563196,
                        0.4136794129908068,
                        0.3975041865605588,
                        0.4161730116444901,
                        0.3989594659716585,
                        0.4174786243315373,
                        0.3988591007678517,
                        0.3974783349981576,
                        0.4116953508591068,
                        0.3979916449170602,
                        0.3971227965466615,
                        0.3933518858646489,
                        0.3960742946556223,
                        0.4101939294640818,
                        0.3955244753199988,
                        0.40369244495255924,
                        0.4094195318135425,
                        0.3984033195983795,
                        0.4031384890589754,
                        0.3943867825296045,
                        0.3931418030159253,
                        0.39510333983457796,
                        0.3967755215158326,
                        0.40323780870242926,
                        0.3955063360837263,
                        0.39656953121854777,
                        0.3946469666257386,
                        0.39417966536052834,
                        0.39257682757458573,
                        0.3936048317235989,
                        0.4005929277938314,
                        0.4036569143474376,
                        0.39511714104272483,
                        0.39387865535606786,
                        0.3935984108653237,
                        0.3930013213000103,
                        0.4020456725778528,
                        0.39360968688763953,
                        0.39114518689931493,
                        0.3925450529356618,
                        0.39301434623070286,
                        0.39211735959132943,
                        0.39343526032408027,
                        0.39231416202983405,
                        0.3913536167650509,
                        0.3927344182143409,
                        0.4008609891850287,
                        0.3948969052885311,
                        0.3923948814780071,
                        0.3923262511836064,
                        0.4169147919075664,
                        0.41458023971970115,
                        0.40879487514904855,
                        0.3960931484896128,
                        0.4025971705666202,
                        0.39952498671662373,
                        0.3947418916876338,
                        0.39182336218644315,
                        0.39215888589865977,
                        0.3924587749536706,
                        0.40304692359673566,
                        0.3923455668682737,
                        0.39240600376219975,
                        0.41348343169958107,
                        0.39233553934072457,
                        0.40150105427373,
                        0.39420868400304077,
                        0.40037835932404575,
                        0.40040981078888616,
                        0.3921095649773873,
                        0.39598784087189864,
                        0.39622546704157396,
                        0.39134626269478856,
                        0.3953139869807683,
                        0.4061986543159781,
                        0.3918950427262505,
                        0.39156949413891473,
                        0.4009280938053731,
                        0.3966816501274369,
                        0.3921658931139085,
                        0.3958146484787168,
                        0.3966718207087215,
                        0.39209330140772314,
                        0.394633625733407,
                        0.39167037783385256,
                        0.39152532083544905,
                        0.3962937976406004,
                        0.3922843129549211,
                        0.39174767818931416,
                        0.39114128987333147,
                        0.3918751609459709,
                        0.3960459329237222
                      ]
                    },
                    {
                      "label": "bagging_fraction",
                      "range": [
                        0.04939576538961854,
                        0.9994850683720786
                      ],
                      "values": [
                        0.5170134268781407,
                        0.26861657550972107,
                        0.6626808631276916,
                        0.9497907713606619,
                        0.4381374854779433,
                        0.8628548853906589,
                        0.04939576538961854,
                        0.5787283120797121,
                        0.6499905734067785,
                        0.6133618433129143,
                        0.14939068445977344,
                        0.14288728342867152,
                        0.6204410894833365,
                        0.7807538074551179,
                        0.7830379727782418,
                        0.7520033922820746,
                        0.5547815189417001,
                        0.5685827172322191,
                        0.6014630766118171,
                        0.9711395134392139,
                        0.715999865298919,
                        0.590089979019584,
                        0.9994850683720786,
                        0.9943109159729702,
                        0.6602140779357195,
                        0.9173206963727182,
                        0.8832267407672243,
                        0.7500610525523959,
                        0.9693150245847002,
                        0.9045388085228638,
                        0.9304602704438278,
                        0.8252958723848858,
                        0.9913474346114105,
                        0.862964749279632,
                        0.7762648155436906,
                        0.8581720783861981,
                        0.855645148433073,
                        0.9461419735380648,
                        0.941934114445806,
                        0.8272918649562542,
                        0.8094636978601102,
                        0.6492903049345577,
                        0.7633020438751419,
                        0.894440551923383,
                        0.9193980737555403,
                        0.9120426483729321,
                        0.9132571269463571,
                        0.5482617000759509,
                        0.9736634770459489,
                        0.9744684796437324,
                        0.922693228427523,
                        0.9255689895269342,
                        0.9308314807626122,
                        0.9288346569153609,
                        0.8064900297754799,
                        0.9287242434514271,
                        0.9242676774766493,
                        0.6893034965417222,
                        0.9431503236670746,
                        0.809236928129241,
                        0.8257083342100664,
                        0.8368910936893118,
                        0.700641956998893,
                        0.984678926039244,
                        0.9546334155387156,
                        0.8649592873682662,
                        0.8343846687374694,
                        0.8588176588074697,
                        0.9127691749853951,
                        0.9212663691797719,
                        0.9456864629104633,
                        0.8661044613949885,
                        0.8866720128051405,
                        0.9432186222697381,
                        0.7545129732847157,
                        0.9087749665873682,
                        0.886535192608092,
                        0.8718027497722636,
                        0.898471273337164,
                        0.9985208043464835,
                        0.9675212676272547,
                        0.9840052328512805,
                        0.9828573922472957,
                        0.9492026778094208,
                        0.9364198506933915,
                        0.8597022014007183,
                        0.9647162744443329,
                        0.9839378796202459,
                        0.996527380004334,
                        0.9364862933472705,
                        0.9697515432075182,
                        0.8578777963795898,
                        0.9913524230261084,
                        0.9243979606893916,
                        0.7982259639065943,
                        0.8818524082579272,
                        0.8086660722147349,
                        0.8906094156227579,
                        0.9060095196635208,
                        0.9137681370352722,
                        0.906216278754276,
                        0.9162357956739807,
                        0.9632810071026692
                      ]
                    },
                    {
                      "label": "bagging_freq",
                      "range": [
                        0,
                        10
                      ],
                      "values": [
                        9,
                        1,
                        10,
                        1,
                        10,
                        9,
                        3,
                        1,
                        8,
                        2,
                        7,
                        2,
                        6,
                        2,
                        4,
                        0,
                        6,
                        1,
                        1,
                        8,
                        0,
                        2,
                        2,
                        3,
                        5,
                        3,
                        3,
                        4,
                        4,
                        3,
                        2,
                        3,
                        3,
                        3,
                        6,
                        3,
                        3,
                        2,
                        3,
                        3,
                        2,
                        6,
                        7,
                        3,
                        3,
                        3,
                        4,
                        5,
                        4,
                        5,
                        3,
                        3,
                        3,
                        3,
                        2,
                        3,
                        2,
                        7,
                        4,
                        2,
                        3,
                        4,
                        4,
                        10,
                        4,
                        5,
                        5,
                        4,
                        3,
                        3,
                        3,
                        5,
                        3,
                        3,
                        3,
                        3,
                        6,
                        4,
                        5,
                        6,
                        3,
                        4,
                        4,
                        3,
                        3,
                        3,
                        3,
                        3,
                        5,
                        4,
                        3,
                        3,
                        2,
                        3,
                        3,
                        3,
                        3,
                        2,
                        3,
                        3,
                        3,
                        3,
                        1
                      ]
                    },
                    {
                      "label": "feature_fraction",
                      "range": [
                        0.17321209647186553,
                        0.9998638001250584
                      ],
                      "values": [
                        0.450251502812666,
                        0.2560456544305305,
                        0.30080225278340433,
                        0.17321209647186553,
                        0.25412465103409687,
                        0.610766297783667,
                        0.8014978776485945,
                        0.6822829261105977,
                        0.9443538638106862,
                        0.5034340199218802,
                        0.798826872408032,
                        0.8190145257184372,
                        0.8175703570526435,
                        0.7758475439713237,
                        0.9786562765326997,
                        0.8324762178980071,
                        0.7917551884417525,
                        0.7252655013485878,
                        0.7381236242304765,
                        0.729735303219558,
                        0.857498698715126,
                        0.7600735147371397,
                        0.8007111851567676,
                        0.7950937280702867,
                        0.6577349452799676,
                        0.6373200137372954,
                        0.8388507914900182,
                        0.6598321074224659,
                        0.6080855093565171,
                        0.6881772947437094,
                        0.6608203929808446,
                        0.7957211753240753,
                        0.5884454322056724,
                        0.5933625279093985,
                        0.9709024875902131,
                        0.5646967735154113,
                        0.5744333182250912,
                        0.7900888474645511,
                        0.7991311195546439,
                        0.6625084482114943,
                        0.6695285356666227,
                        0.6001836196257133,
                        0.9355787454246725,
                        0.5960100878710609,
                        0.6422725000491373,
                        0.6469195563104171,
                        0.6874476002998026,
                        0.6050016908271694,
                        0.7327736766138813,
                        0.6325912685746059,
                        0.6295961524120526,
                        0.6000756683675793,
                        0.6040231003262457,
                        0.5658646722045048,
                        0.6471150106350324,
                        0.6472967069589805,
                        0.6828879398783029,
                        0.800162017593107,
                        0.8686581369783815,
                        0.6242121214414557,
                        0.6700779967003404,
                        0.3408979683642418,
                        0.5376741298494353,
                        0.6326124915811568,
                        0.7703674853535051,
                        0.6050570576870534,
                        0.9998638001250584,
                        0.7785257310178066,
                        0.6417435000965739,
                        0.6288265209739996,
                        0.6810480298057435,
                        0.6163578675860296,
                        0.6786972471618612,
                        0.6868220577900339,
                        0.5323010455065361,
                        0.6528774846889341,
                        0.5949735399596051,
                        0.7758492136002951,
                        0.6021651214251131,
                        0.6494195442607391,
                        0.60834790847532,
                        0.766732627672321,
                        0.9021173767232673,
                        0.6265759060335746,
                        0.6395345820077077,
                        0.9605731050145154,
                        0.6426737859902588,
                        0.6649852572853834,
                        0.6349953460521449,
                        0.8519546673465673,
                        0.6835541108715455,
                        0.5825023088241771,
                        0.8457293019410042,
                        0.6777472961378157,
                        0.5791316683420787,
                        0.6525757790356872,
                        0.6149644078125989,
                        0.8319249416709008,
                        0.5734191679222153,
                        0.5742005504769483,
                        0.5769590702836126,
                        0.5853889738004353,
                        0.8342160913349381
                      ]
                    },
                    {
                      "label": "lambda_l1",
                      "range": [
                        0.14929060983553621,
                        9.981604728404672
                      ],
                      "values": [
                        8.900256077480686,
                        1.1752649644970603,
                        0.8606057170757075,
                        8.415879219511822,
                        2.570486669026324,
                        9.981604728404672,
                        4.566971922266424,
                        2.7086208962771186,
                        0.8934725158038659,
                        1.179400553847908,
                        3.2180310269121493,
                        0.14929060983553621,
                        7.678847461184642,
                        3.4828155363302447,
                        0.9324793572852885,
                        2.653748764866084,
                        9.919158941611682,
                        2.6645894998946953,
                        2.0464655399733345,
                        4.157455982324439,
                        2.406933648122423,
                        1.5000077112215062,
                        1.3308000782524045,
                        1.324830514651949,
                        9.874544744592587,
                        1.3453560738290478,
                        3.263589121987901,
                        4.973809987978154,
                        3.971995104167976,
                        1.8623213483731782,
                        0.7196547416616725,
                        0.9117751086972121,
                        4.181517331015857,
                        2.939705064530375,
                        0.15694760316649892,
                        2.3466949356547255,
                        2.3725637551827354,
                        1.045187595553493,
                        0.9287466418167424,
                        1.0237072346371456,
                        0.9839750694007019,
                        2.80448093321424,
                        4.171689785040709,
                        3.0143322645590325,
                        1.2499883899746056,
                        1.110215762991381,
                        1.2905144474311356,
                        1.9949038034552888,
                        1.1274958606225203,
                        1.423784790381366,
                        1.478064031011546,
                        1.4270572600529783,
                        1.135178668584053,
                        0.18984936835501287,
                        0.9693711424118627,
                        1.6447368994230078,
                        1.9642147967405625,
                        1.1578754510864024,
                        0.654340288590987,
                        0.8386090310327954,
                        1.0252351861707942,
                        6.182018740122106,
                        9.882975890908515,
                        4.503384563555104,
                        1.8771861512073602,
                        5.809655423587219,
                        1.0926661045077843,
                        1.885894956474823,
                        1.1536888508857683,
                        1.7180211330249422,
                        2.2323697414834434,
                        5.5726563186792575,
                        2.281501230086735,
                        2.1420416571510654,
                        7.1480960236782,
                        2.1103851066739225,
                        5.637935651580315,
                        1.1193257841411524,
                        5.732561593399967,
                        4.0649934383862565,
                        1.8769998320530332,
                        2.877386939345118,
                        0.7559675634246212,
                        1.841390218579588,
                        2.986450459656641,
                        1.615153855065656,
                        1.8597265410657988,
                        1.5164375172172841,
                        6.710119380086671,
                        0.6384027261928916,
                        0.8134862380322699,
                        3.0657802643925804,
                        0.6956069431174916,
                        1.8282613152409706,
                        1.4312984754718274,
                        1.3971845013661444,
                        1.2242260550756454,
                        1.3871817719178372,
                        1.661438467104408,
                        1.6200209268879036,
                        1.7041120100896419,
                        1.6986574330809268,
                        1.0598780028137411
                      ]
                    },
                    {
                      "label": "lambda_l2",
                      "range": [
                        0.029461339496596572,
                        9.610510728682112
                      ],
                      "values": [
                        0.38093164022530046,
                        4.8498260065316,
                        4.535342131820209,
                        5.046354628189729,
                        2.3991105140562228,
                        3.4667652620772973,
                        8.575183918437313,
                        7.597933651418564,
                        0.8581792359741647,
                        5.467520028141616,
                        1.256711139855734,
                        1.811802536938324,
                        5.735697745934958,
                        2.271997866404398,
                        0.8846142791350142,
                        6.848005060973291,
                        7.7361274236521504,
                        7.798262770376896,
                        8.404361642441296,
                        3.1601093694584925,
                        6.771848637091559,
                        8.967407385707794,
                        9.13749606230088,
                        9.386025154829087,
                        3.548121504723689,
                        9.123501577380484,
                        7.348166861578615,
                        3.2273899679039935,
                        3.497467455314969,
                        2.2198579385464203,
                        9.610510728682112,
                        8.80687495714879,
                        3.1994205192531893,
                        4.35453303656565,
                        0.49604526790202463,
                        4.645019679018753,
                        4.376745158554963,
                        9.23866022025864,
                        9.591324432880697,
                        7.440308570325081,
                        7.928819194704843,
                        4.914041001213277,
                        1.874655934432129,
                        0.029461339496596572,
                        9.166566538544714,
                        9.3107810954,
                        5.594279713236993,
                        8.018908449800657,
                        3.211734024516802,
                        5.776714176157167,
                        4.119700895696672,
                        5.187827048511804,
                        5.479598372448608,
                        6.515155022607827,
                        7.222796246939877,
                        6.0956606519335335,
                        4.6552540326603316,
                        0.06044431973948061,
                        5.018936755333657,
                        7.02220506761199,
                        4.280876961882549,
                        3.2266939867011333,
                        0.15413277152314775,
                        1.683613859837363,
                        5.99559422668464,
                        1.5162548077874671,
                        0.8898115685826407,
                        1.1489736425529844,
                        9.32622749009566,
                        4.036279817853976,
                        3.3783561668519715,
                        1.2769650079721275,
                        3.235175778993388,
                        3.4332121971318363,
                        1.6597819836124326,
                        3.4668474124811097,
                        3.0355743707537837,
                        2.0666576241688044,
                        3.131327644574809,
                        2.2550708804114894,
                        4.4943803297156935,
                        2.0000772597584895,
                        2.308405197156317,
                        5.27997919227893,
                        3.051154021532599,
                        6.30462389046715,
                        4.770471715709441,
                        7.357822302451703,
                        3.0856410673080883,
                        2.690359035321195,
                        4.701508956683754,
                        4.6421343289105454,
                        2.2111259054182963,
                        5.032198374613663,
                        5.097430232278026,
                        3.817753101452234,
                        3.633648798489717,
                        3.139760050276832,
                        3.955155232883771,
                        4.019832308537628,
                        3.721305715564068,
                        4.542992987652205,
                        2.2605593461829177
                      ]
                    },
                    {
                      "label": "learning_rate",
                      "range": [
                        -1.9143533311042484,
                        -0.35310900243340626
                      ],
                      "ticktext": [
                        "0.0122",
                        "0.1",
                        "0.443"
                      ],
                      "tickvals": [
                        -1.9143533311042484,
                        -1,
                        -0.35310900243340626
                      ],
                      "values": [
                        -1.6461525177850576,
                        -1.8322917295783043,
                        -1.8348920368581436,
                        -1.4557282940822667,
                        -1.8086894647923337,
                        -0.48046810476980756,
                        -0.39281659427753285,
                        -1.2074477313023155,
                        -1.417407475936709,
                        -1.9143533311042484,
                        -1.8604550347029334,
                        -1.07565997103078,
                        -0.5273322248863785,
                        -0.9226764785344633,
                        -1.6063840271808438,
                        -1.2728940244853377,
                        -1.2352726551120186,
                        -1.1620572836823264,
                        -1.116005916246874,
                        -0.35310900243340626,
                        -1.3239962959851783,
                        -1.1867415780507866,
                        -1.0392472081392339,
                        -1.079519644918015,
                        -0.8145662510854554,
                        -1.0432330664823066,
                        -1.369458164216458,
                        -0.7135461687407183,
                        -0.793966153735299,
                        -0.744582789204547,
                        -1.0596287634610353,
                        -1.19258486548306,
                        -0.9159320037275713,
                        -1.338280267901201,
                        -1.3794812403185601,
                        -1.4016047955129336,
                        -1.405797565219645,
                        -1.1583799106913328,
                        -1.3526620159356735,
                        -1.2433390489249896,
                        -1.2507451332302606,
                        -1.1228519930951106,
                        -0.6659673115724919,
                        -1.3355296719898782,
                        -1.1624845312902226,
                        -1.1751530557433634,
                        -1.1878914579715312,
                        -0.8693567291987435,
                        -1.1714943508139422,
                        -1.0876275179435515,
                        -1.2863703550755081,
                        -1.1937616120439374,
                        -1.1287609075914458,
                        -1.2573547850902507,
                        -1.2558618499028609,
                        -1.2757906015383045,
                        -1.3095382189865383,
                        -1.3036512861685015,
                        -1.1763783571993578,
                        -1.0404197000961077,
                        -1.1975660091979992,
                        -0.5878102420459245,
                        -0.8491785751938545,
                        -0.36683674223285784,
                        -1.2416858124937276,
                        -0.8243087448538045,
                        -1.1182481788600065,
                        -1.1194506058697813,
                        -1.1667732126765027,
                        -1.1862654873132432,
                        -1.1670496239147539,
                        -0.8419206025814615,
                        -1.221274106251218,
                        -1.2231796796980858,
                        -0.7338542418615166,
                        -1.2891654876701075,
                        -0.7968998654314734,
                        -1.124287133939004,
                        -0.9068161818791003,
                        -0.5826643384501735,
                        -1.22224479417333,
                        -1.1226105978564749,
                        -1.1236357882287005,
                        -1.1272517173504564,
                        -1.3296182941132184,
                        -0.5993990166903803,
                        -1.1386751924642644,
                        -1.0533069488313154,
                        -0.7994380058323247,
                        -1.125099012582674,
                        -1.2608979712035069,
                        -1.3274704173919425,
                        -1.2070035494224247,
                        -1.0964440607511738,
                        -1.1466676934576139,
                        -1.2719476975551525,
                        -1.2288876112498162,
                        -0.9503803017480177,
                        -1.157509039123965,
                        -1.2648231210108347,
                        -1.1563574682749291,
                        -1.2470676130610143,
                        -1.1996848398421962
                      ]
                    },
                    {
                      "label": "max_depth",
                      "range": [
                        6,
                        50
                      ],
                      "values": [
                        47,
                        31,
                        6,
                        31,
                        28,
                        45,
                        46,
                        40,
                        46,
                        6,
                        49,
                        50,
                        37,
                        39,
                        30,
                        32,
                        45,
                        41,
                        43,
                        8,
                        27,
                        40,
                        19,
                        14,
                        22,
                        12,
                        40,
                        19,
                        19,
                        36,
                        13,
                        19,
                        19,
                        26,
                        49,
                        27,
                        26,
                        24,
                        24,
                        20,
                        26,
                        34,
                        22,
                        26,
                        13,
                        18,
                        19,
                        50,
                        16,
                        19,
                        21,
                        14,
                        18,
                        17,
                        22,
                        19,
                        23,
                        41,
                        32,
                        24,
                        18,
                        24,
                        50,
                        37,
                        20,
                        13,
                        37,
                        31,
                        20,
                        20,
                        20,
                        13,
                        20,
                        20,
                        44,
                        20,
                        13,
                        33,
                        12,
                        35,
                        21,
                        32,
                        31,
                        18,
                        32,
                        43,
                        18,
                        16,
                        8,
                        18,
                        17,
                        30,
                        17,
                        21,
                        36,
                        21,
                        20,
                        38,
                        18,
                        22,
                        18,
                        21,
                        30
                      ]
                    },
                    {
                      "label": "num_leaves",
                      "range": [
                        21,
                        200
                      ],
                      "values": [
                        81,
                        162,
                        191,
                        58,
                        188,
                        149,
                        82,
                        194,
                        130,
                        127,
                        58,
                        98,
                        30,
                        133,
                        92,
                        197,
                        79,
                        196,
                        200,
                        21,
                        197,
                        181,
                        181,
                        180,
                        54,
                        182,
                        81,
                        41,
                        200,
                        104,
                        189,
                        161,
                        194,
                        200,
                        114,
                        177,
                        176,
                        167,
                        162,
                        141,
                        152,
                        112,
                        31,
                        194,
                        172,
                        161,
                        150,
                        102,
                        134,
                        138,
                        129,
                        158,
                        158,
                        156,
                        159,
                        140,
                        176,
                        94,
                        119,
                        178,
                        157,
                        143,
                        90,
                        67,
                        135,
                        186,
                        139,
                        136,
                        160,
                        156,
                        161,
                        197,
                        161,
                        154,
                        128,
                        159,
                        196,
                        170,
                        191,
                        61,
                        131,
                        164,
                        170,
                        149,
                        181,
                        52,
                        147,
                        134,
                        171,
                        199,
                        134,
                        200,
                        186,
                        151,
                        186,
                        159,
                        158,
                        163,
                        167,
                        160,
                        165,
                        162,
                        181
                      ]
                    },
                    {
                      "label": "subsample",
                      "range": [
                        0.1,
                        1
                      ],
                      "values": [
                        0.7000000000000001,
                        0.5,
                        0.9,
                        1,
                        0.7000000000000001,
                        0.8,
                        0.30000000000000004,
                        0.7000000000000001,
                        0.2,
                        0.7000000000000001,
                        1,
                        0.8,
                        0.7000000000000001,
                        0.7000000000000001,
                        0.7000000000000001,
                        0.7000000000000001,
                        0.2,
                        0.7000000000000001,
                        0.6,
                        0.30000000000000004,
                        0.7000000000000001,
                        0.5,
                        0.5,
                        0.30000000000000004,
                        0.30000000000000004,
                        0.30000000000000004,
                        0.2,
                        0.30000000000000004,
                        0.30000000000000004,
                        0.1,
                        0.30000000000000004,
                        0.4,
                        0.30000000000000004,
                        0.30000000000000004,
                        0.1,
                        0.4,
                        0.4,
                        0.5,
                        0.4,
                        0.4,
                        0.5,
                        0.1,
                        0.7000000000000001,
                        0.30000000000000004,
                        0.30000000000000004,
                        0.30000000000000004,
                        0.30000000000000004,
                        0.30000000000000004,
                        0.30000000000000004,
                        0.30000000000000004,
                        0.2,
                        0.30000000000000004,
                        0.4,
                        0.5,
                        0.5,
                        0.6,
                        0.5,
                        0.2,
                        0.5,
                        0.5,
                        0.4,
                        0.2,
                        0.7000000000000001,
                        0.1,
                        0.4,
                        1,
                        0.1,
                        0.2,
                        0.30000000000000004,
                        0.2,
                        0.30000000000000004,
                        0.9,
                        0.30000000000000004,
                        0.30000000000000004,
                        0.1,
                        0.30000000000000004,
                        1,
                        0.2,
                        1,
                        0.30000000000000004,
                        0.30000000000000004,
                        0.4,
                        0.4,
                        0.30000000000000004,
                        0.2,
                        0.30000000000000004,
                        0.30000000000000004,
                        0.2,
                        1,
                        0.4,
                        0.4,
                        0.30000000000000004,
                        0.5,
                        0.30000000000000004,
                        0.30000000000000004,
                        0.4,
                        0.4,
                        0.30000000000000004,
                        0.2,
                        0.4,
                        0.2,
                        0.2,
                        0.30000000000000004
                      ]
                    }
                  ],
                  "labelangle": 30,
                  "labelside": "bottom",
                  "line": {
                    "color": [
                      0.4841883832862934,
                      0.6381090661203797,
                      0.6454050071551597,
                      0.613359795778066,
                      0.6254652065235652,
                      0.40494794698708025,
                      0.4865479241831563,
                      0.3997466581374875,
                      0.40601773082712345,
                      0.5519037602852193,
                      0.4791076353553249,
                      0.42796767068563196,
                      0.4136794129908068,
                      0.3975041865605588,
                      0.4161730116444901,
                      0.3989594659716585,
                      0.4174786243315373,
                      0.3988591007678517,
                      0.3974783349981576,
                      0.4116953508591068,
                      0.3979916449170602,
                      0.3971227965466615,
                      0.3933518858646489,
                      0.3960742946556223,
                      0.4101939294640818,
                      0.3955244753199988,
                      0.40369244495255924,
                      0.4094195318135425,
                      0.3984033195983795,
                      0.4031384890589754,
                      0.3943867825296045,
                      0.3931418030159253,
                      0.39510333983457796,
                      0.3967755215158326,
                      0.40323780870242926,
                      0.3955063360837263,
                      0.39656953121854777,
                      0.3946469666257386,
                      0.39417966536052834,
                      0.39257682757458573,
                      0.3936048317235989,
                      0.4005929277938314,
                      0.4036569143474376,
                      0.39511714104272483,
                      0.39387865535606786,
                      0.3935984108653237,
                      0.3930013213000103,
                      0.4020456725778528,
                      0.39360968688763953,
                      0.39114518689931493,
                      0.3925450529356618,
                      0.39301434623070286,
                      0.39211735959132943,
                      0.39343526032408027,
                      0.39231416202983405,
                      0.3913536167650509,
                      0.3927344182143409,
                      0.4008609891850287,
                      0.3948969052885311,
                      0.3923948814780071,
                      0.3923262511836064,
                      0.4169147919075664,
                      0.41458023971970115,
                      0.40879487514904855,
                      0.3960931484896128,
                      0.4025971705666202,
                      0.39952498671662373,
                      0.3947418916876338,
                      0.39182336218644315,
                      0.39215888589865977,
                      0.3924587749536706,
                      0.40304692359673566,
                      0.3923455668682737,
                      0.39240600376219975,
                      0.41348343169958107,
                      0.39233553934072457,
                      0.40150105427373,
                      0.39420868400304077,
                      0.40037835932404575,
                      0.40040981078888616,
                      0.3921095649773873,
                      0.39598784087189864,
                      0.39622546704157396,
                      0.39134626269478856,
                      0.3953139869807683,
                      0.4061986543159781,
                      0.3918950427262505,
                      0.39156949413891473,
                      0.4009280938053731,
                      0.3966816501274369,
                      0.3921658931139085,
                      0.3958146484787168,
                      0.3966718207087215,
                      0.39209330140772314,
                      0.394633625733407,
                      0.39167037783385256,
                      0.39152532083544905,
                      0.3962937976406004,
                      0.3922843129549211,
                      0.39174767818931416,
                      0.39114128987333147,
                      0.3918751609459709,
                      0.3960459329237222
                    ],
                    "colorbar": {
                      "title": {
                        "text": "Objective Value"
                      }
                    },
                    "colorscale": [
                      [
                        0,
                        "rgb(247,251,255)"
                      ],
                      [
                        0.125,
                        "rgb(222,235,247)"
                      ],
                      [
                        0.25,
                        "rgb(198,219,239)"
                      ],
                      [
                        0.375,
                        "rgb(158,202,225)"
                      ],
                      [
                        0.5,
                        "rgb(107,174,214)"
                      ],
                      [
                        0.625,
                        "rgb(66,146,198)"
                      ],
                      [
                        0.75,
                        "rgb(33,113,181)"
                      ],
                      [
                        0.875,
                        "rgb(8,81,156)"
                      ],
                      [
                        1,
                        "rgb(8,48,107)"
                      ]
                    ],
                    "reversescale": true,
                    "showscale": true
                  },
                  "type": "parcoords"
                }
              ],
              "layout": {
                "template": {
                  "data": {
                    "bar": [
                      {
                        "error_x": {
                          "color": "#2a3f5f"
                        },
                        "error_y": {
                          "color": "#2a3f5f"
                        },
                        "marker": {
                          "line": {
                            "color": "#E5ECF6",
                            "width": 0.5
                          },
                          "pattern": {
                            "fillmode": "overlay",
                            "size": 10,
                            "solidity": 0.2
                          }
                        },
                        "type": "bar"
                      }
                    ],
                    "barpolar": [
                      {
                        "marker": {
                          "line": {
                            "color": "#E5ECF6",
                            "width": 0.5
                          },
                          "pattern": {
                            "fillmode": "overlay",
                            "size": 10,
                            "solidity": 0.2
                          }
                        },
                        "type": "barpolar"
                      }
                    ],
                    "carpet": [
                      {
                        "aaxis": {
                          "endlinecolor": "#2a3f5f",
                          "gridcolor": "white",
                          "linecolor": "white",
                          "minorgridcolor": "white",
                          "startlinecolor": "#2a3f5f"
                        },
                        "baxis": {
                          "endlinecolor": "#2a3f5f",
                          "gridcolor": "white",
                          "linecolor": "white",
                          "minorgridcolor": "white",
                          "startlinecolor": "#2a3f5f"
                        },
                        "type": "carpet"
                      }
                    ],
                    "choropleth": [
                      {
                        "colorbar": {
                          "outlinewidth": 0,
                          "ticks": ""
                        },
                        "type": "choropleth"
                      }
                    ],
                    "contour": [
                      {
                        "colorbar": {
                          "outlinewidth": 0,
                          "ticks": ""
                        },
                        "colorscale": [
                          [
                            0,
                            "#0d0887"
                          ],
                          [
                            0.1111111111111111,
                            "#46039f"
                          ],
                          [
                            0.2222222222222222,
                            "#7201a8"
                          ],
                          [
                            0.3333333333333333,
                            "#9c179e"
                          ],
                          [
                            0.4444444444444444,
                            "#bd3786"
                          ],
                          [
                            0.5555555555555556,
                            "#d8576b"
                          ],
                          [
                            0.6666666666666666,
                            "#ed7953"
                          ],
                          [
                            0.7777777777777778,
                            "#fb9f3a"
                          ],
                          [
                            0.8888888888888888,
                            "#fdca26"
                          ],
                          [
                            1,
                            "#f0f921"
                          ]
                        ],
                        "type": "contour"
                      }
                    ],
                    "contourcarpet": [
                      {
                        "colorbar": {
                          "outlinewidth": 0,
                          "ticks": ""
                        },
                        "type": "contourcarpet"
                      }
                    ],
                    "heatmap": [
                      {
                        "colorbar": {
                          "outlinewidth": 0,
                          "ticks": ""
                        },
                        "colorscale": [
                          [
                            0,
                            "#0d0887"
                          ],
                          [
                            0.1111111111111111,
                            "#46039f"
                          ],
                          [
                            0.2222222222222222,
                            "#7201a8"
                          ],
                          [
                            0.3333333333333333,
                            "#9c179e"
                          ],
                          [
                            0.4444444444444444,
                            "#bd3786"
                          ],
                          [
                            0.5555555555555556,
                            "#d8576b"
                          ],
                          [
                            0.6666666666666666,
                            "#ed7953"
                          ],
                          [
                            0.7777777777777778,
                            "#fb9f3a"
                          ],
                          [
                            0.8888888888888888,
                            "#fdca26"
                          ],
                          [
                            1,
                            "#f0f921"
                          ]
                        ],
                        "type": "heatmap"
                      }
                    ],
                    "heatmapgl": [
                      {
                        "colorbar": {
                          "outlinewidth": 0,
                          "ticks": ""
                        },
                        "colorscale": [
                          [
                            0,
                            "#0d0887"
                          ],
                          [
                            0.1111111111111111,
                            "#46039f"
                          ],
                          [
                            0.2222222222222222,
                            "#7201a8"
                          ],
                          [
                            0.3333333333333333,
                            "#9c179e"
                          ],
                          [
                            0.4444444444444444,
                            "#bd3786"
                          ],
                          [
                            0.5555555555555556,
                            "#d8576b"
                          ],
                          [
                            0.6666666666666666,
                            "#ed7953"
                          ],
                          [
                            0.7777777777777778,
                            "#fb9f3a"
                          ],
                          [
                            0.8888888888888888,
                            "#fdca26"
                          ],
                          [
                            1,
                            "#f0f921"
                          ]
                        ],
                        "type": "heatmapgl"
                      }
                    ],
                    "histogram": [
                      {
                        "marker": {
                          "pattern": {
                            "fillmode": "overlay",
                            "size": 10,
                            "solidity": 0.2
                          }
                        },
                        "type": "histogram"
                      }
                    ],
                    "histogram2d": [
                      {
                        "colorbar": {
                          "outlinewidth": 0,
                          "ticks": ""
                        },
                        "colorscale": [
                          [
                            0,
                            "#0d0887"
                          ],
                          [
                            0.1111111111111111,
                            "#46039f"
                          ],
                          [
                            0.2222222222222222,
                            "#7201a8"
                          ],
                          [
                            0.3333333333333333,
                            "#9c179e"
                          ],
                          [
                            0.4444444444444444,
                            "#bd3786"
                          ],
                          [
                            0.5555555555555556,
                            "#d8576b"
                          ],
                          [
                            0.6666666666666666,
                            "#ed7953"
                          ],
                          [
                            0.7777777777777778,
                            "#fb9f3a"
                          ],
                          [
                            0.8888888888888888,
                            "#fdca26"
                          ],
                          [
                            1,
                            "#f0f921"
                          ]
                        ],
                        "type": "histogram2d"
                      }
                    ],
                    "histogram2dcontour": [
                      {
                        "colorbar": {
                          "outlinewidth": 0,
                          "ticks": ""
                        },
                        "colorscale": [
                          [
                            0,
                            "#0d0887"
                          ],
                          [
                            0.1111111111111111,
                            "#46039f"
                          ],
                          [
                            0.2222222222222222,
                            "#7201a8"
                          ],
                          [
                            0.3333333333333333,
                            "#9c179e"
                          ],
                          [
                            0.4444444444444444,
                            "#bd3786"
                          ],
                          [
                            0.5555555555555556,
                            "#d8576b"
                          ],
                          [
                            0.6666666666666666,
                            "#ed7953"
                          ],
                          [
                            0.7777777777777778,
                            "#fb9f3a"
                          ],
                          [
                            0.8888888888888888,
                            "#fdca26"
                          ],
                          [
                            1,
                            "#f0f921"
                          ]
                        ],
                        "type": "histogram2dcontour"
                      }
                    ],
                    "mesh3d": [
                      {
                        "colorbar": {
                          "outlinewidth": 0,
                          "ticks": ""
                        },
                        "type": "mesh3d"
                      }
                    ],
                    "parcoords": [
                      {
                        "line": {
                          "colorbar": {
                            "outlinewidth": 0,
                            "ticks": ""
                          }
                        },
                        "type": "parcoords"
                      }
                    ],
                    "pie": [
                      {
                        "automargin": true,
                        "type": "pie"
                      }
                    ],
                    "scatter": [
                      {
                        "marker": {
                          "colorbar": {
                            "outlinewidth": 0,
                            "ticks": ""
                          }
                        },
                        "type": "scatter"
                      }
                    ],
                    "scatter3d": [
                      {
                        "line": {
                          "colorbar": {
                            "outlinewidth": 0,
                            "ticks": ""
                          }
                        },
                        "marker": {
                          "colorbar": {
                            "outlinewidth": 0,
                            "ticks": ""
                          }
                        },
                        "type": "scatter3d"
                      }
                    ],
                    "scattercarpet": [
                      {
                        "marker": {
                          "colorbar": {
                            "outlinewidth": 0,
                            "ticks": ""
                          }
                        },
                        "type": "scattercarpet"
                      }
                    ],
                    "scattergeo": [
                      {
                        "marker": {
                          "colorbar": {
                            "outlinewidth": 0,
                            "ticks": ""
                          }
                        },
                        "type": "scattergeo"
                      }
                    ],
                    "scattergl": [
                      {
                        "marker": {
                          "colorbar": {
                            "outlinewidth": 0,
                            "ticks": ""
                          }
                        },
                        "type": "scattergl"
                      }
                    ],
                    "scattermapbox": [
                      {
                        "marker": {
                          "colorbar": {
                            "outlinewidth": 0,
                            "ticks": ""
                          }
                        },
                        "type": "scattermapbox"
                      }
                    ],
                    "scatterpolar": [
                      {
                        "marker": {
                          "colorbar": {
                            "outlinewidth": 0,
                            "ticks": ""
                          }
                        },
                        "type": "scatterpolar"
                      }
                    ],
                    "scatterpolargl": [
                      {
                        "marker": {
                          "colorbar": {
                            "outlinewidth": 0,
                            "ticks": ""
                          }
                        },
                        "type": "scatterpolargl"
                      }
                    ],
                    "scatterternary": [
                      {
                        "marker": {
                          "colorbar": {
                            "outlinewidth": 0,
                            "ticks": ""
                          }
                        },
                        "type": "scatterternary"
                      }
                    ],
                    "surface": [
                      {
                        "colorbar": {
                          "outlinewidth": 0,
                          "ticks": ""
                        },
                        "colorscale": [
                          [
                            0,
                            "#0d0887"
                          ],
                          [
                            0.1111111111111111,
                            "#46039f"
                          ],
                          [
                            0.2222222222222222,
                            "#7201a8"
                          ],
                          [
                            0.3333333333333333,
                            "#9c179e"
                          ],
                          [
                            0.4444444444444444,
                            "#bd3786"
                          ],
                          [
                            0.5555555555555556,
                            "#d8576b"
                          ],
                          [
                            0.6666666666666666,
                            "#ed7953"
                          ],
                          [
                            0.7777777777777778,
                            "#fb9f3a"
                          ],
                          [
                            0.8888888888888888,
                            "#fdca26"
                          ],
                          [
                            1,
                            "#f0f921"
                          ]
                        ],
                        "type": "surface"
                      }
                    ],
                    "table": [
                      {
                        "cells": {
                          "fill": {
                            "color": "#EBF0F8"
                          },
                          "line": {
                            "color": "white"
                          }
                        },
                        "header": {
                          "fill": {
                            "color": "#C8D4E3"
                          },
                          "line": {
                            "color": "white"
                          }
                        },
                        "type": "table"
                      }
                    ]
                  },
                  "layout": {
                    "annotationdefaults": {
                      "arrowcolor": "#2a3f5f",
                      "arrowhead": 0,
                      "arrowwidth": 1
                    },
                    "autotypenumbers": "strict",
                    "coloraxis": {
                      "colorbar": {
                        "outlinewidth": 0,
                        "ticks": ""
                      }
                    },
                    "colorscale": {
                      "diverging": [
                        [
                          0,
                          "#8e0152"
                        ],
                        [
                          0.1,
                          "#c51b7d"
                        ],
                        [
                          0.2,
                          "#de77ae"
                        ],
                        [
                          0.3,
                          "#f1b6da"
                        ],
                        [
                          0.4,
                          "#fde0ef"
                        ],
                        [
                          0.5,
                          "#f7f7f7"
                        ],
                        [
                          0.6,
                          "#e6f5d0"
                        ],
                        [
                          0.7,
                          "#b8e186"
                        ],
                        [
                          0.8,
                          "#7fbc41"
                        ],
                        [
                          0.9,
                          "#4d9221"
                        ],
                        [
                          1,
                          "#276419"
                        ]
                      ],
                      "sequential": [
                        [
                          0,
                          "#0d0887"
                        ],
                        [
                          0.1111111111111111,
                          "#46039f"
                        ],
                        [
                          0.2222222222222222,
                          "#7201a8"
                        ],
                        [
                          0.3333333333333333,
                          "#9c179e"
                        ],
                        [
                          0.4444444444444444,
                          "#bd3786"
                        ],
                        [
                          0.5555555555555556,
                          "#d8576b"
                        ],
                        [
                          0.6666666666666666,
                          "#ed7953"
                        ],
                        [
                          0.7777777777777778,
                          "#fb9f3a"
                        ],
                        [
                          0.8888888888888888,
                          "#fdca26"
                        ],
                        [
                          1,
                          "#f0f921"
                        ]
                      ],
                      "sequentialminus": [
                        [
                          0,
                          "#0d0887"
                        ],
                        [
                          0.1111111111111111,
                          "#46039f"
                        ],
                        [
                          0.2222222222222222,
                          "#7201a8"
                        ],
                        [
                          0.3333333333333333,
                          "#9c179e"
                        ],
                        [
                          0.4444444444444444,
                          "#bd3786"
                        ],
                        [
                          0.5555555555555556,
                          "#d8576b"
                        ],
                        [
                          0.6666666666666666,
                          "#ed7953"
                        ],
                        [
                          0.7777777777777778,
                          "#fb9f3a"
                        ],
                        [
                          0.8888888888888888,
                          "#fdca26"
                        ],
                        [
                          1,
                          "#f0f921"
                        ]
                      ]
                    },
                    "colorway": [
                      "#636efa",
                      "#EF553B",
                      "#00cc96",
                      "#ab63fa",
                      "#FFA15A",
                      "#19d3f3",
                      "#FF6692",
                      "#B6E880",
                      "#FF97FF",
                      "#FECB52"
                    ],
                    "font": {
                      "color": "#2a3f5f"
                    },
                    "geo": {
                      "bgcolor": "white",
                      "lakecolor": "white",
                      "landcolor": "#E5ECF6",
                      "showlakes": true,
                      "showland": true,
                      "subunitcolor": "white"
                    },
                    "hoverlabel": {
                      "align": "left"
                    },
                    "hovermode": "closest",
                    "mapbox": {
                      "style": "light"
                    },
                    "paper_bgcolor": "white",
                    "plot_bgcolor": "#E5ECF6",
                    "polar": {
                      "angularaxis": {
                        "gridcolor": "white",
                        "linecolor": "white",
                        "ticks": ""
                      },
                      "bgcolor": "#E5ECF6",
                      "radialaxis": {
                        "gridcolor": "white",
                        "linecolor": "white",
                        "ticks": ""
                      }
                    },
                    "scene": {
                      "xaxis": {
                        "backgroundcolor": "#E5ECF6",
                        "gridcolor": "white",
                        "gridwidth": 2,
                        "linecolor": "white",
                        "showbackground": true,
                        "ticks": "",
                        "zerolinecolor": "white"
                      },
                      "yaxis": {
                        "backgroundcolor": "#E5ECF6",
                        "gridcolor": "white",
                        "gridwidth": 2,
                        "linecolor": "white",
                        "showbackground": true,
                        "ticks": "",
                        "zerolinecolor": "white"
                      },
                      "zaxis": {
                        "backgroundcolor": "#E5ECF6",
                        "gridcolor": "white",
                        "gridwidth": 2,
                        "linecolor": "white",
                        "showbackground": true,
                        "ticks": "",
                        "zerolinecolor": "white"
                      }
                    },
                    "shapedefaults": {
                      "line": {
                        "color": "#2a3f5f"
                      }
                    },
                    "ternary": {
                      "aaxis": {
                        "gridcolor": "white",
                        "linecolor": "white",
                        "ticks": ""
                      },
                      "baxis": {
                        "gridcolor": "white",
                        "linecolor": "white",
                        "ticks": ""
                      },
                      "bgcolor": "#E5ECF6",
                      "caxis": {
                        "gridcolor": "white",
                        "linecolor": "white",
                        "ticks": ""
                      }
                    },
                    "title": {
                      "x": 0.05
                    },
                    "xaxis": {
                      "automargin": true,
                      "gridcolor": "white",
                      "linecolor": "white",
                      "ticks": "",
                      "title": {
                        "standoff": 15
                      },
                      "zerolinecolor": "white",
                      "zerolinewidth": 2
                    },
                    "yaxis": {
                      "automargin": true,
                      "gridcolor": "white",
                      "linecolor": "white",
                      "ticks": "",
                      "title": {
                        "standoff": 15
                      },
                      "zerolinecolor": "white",
                      "zerolinewidth": 2
                    }
                  }
                },
                "title": {
                  "text": "Parallel Coordinate Plot"
                }
              }
            }
          },
          "metadata": {},
          "output_type": "display_data"
        }
      ],
      "source": [
        "optuna.visualization.plot_parallel_coordinate(study_bohb)"
      ]
    }
  ],
  "metadata": {
    "colab": {
      "collapsed_sections": [],
      "name": "Practical_Hyperparameter_Optimization.ipynb",
      "provenance": []
    },
    "kernelspec": {
      "display_name": "Python 3",
      "name": "python3"
    },
    "language_info": {
      "codemirror_mode": {
        "name": "ipython",
        "version": 3
      },
      "file_extension": ".py",
      "mimetype": "text/x-python",
      "name": "python",
      "nbconvert_exporter": "python",
      "pygments_lexer": "ipython3",
      "version": "3.8.10"
    }
  },
  "nbformat": 4,
  "nbformat_minor": 0
}
